{
 "metadata": {
  "language": "Julia",
  "name": "",
  "signature": "sha256:96d90ff96d17d6627552d31065d3470ba8b80bcc70c63e4b0e043220d93c817e"
 },
 "nbformat": 3,
 "nbformat_minor": 0,
 "worksheets": [
  {
   "cells": [
    {
     "cell_type": "code",
     "collapsed": false,
     "input": [
      "global    const MAXSTP = 10\n",
      "global    const TINY=1.0e-30\n",
      "global    const SAFETY=0.9\n",
      "global    const PGROW=-0.2\n",
      "global    const PSHRNK=-0.25\n",
      "global    const ERRCON=1.89e-4\n",
      "global    const A2=0.2\n",
      "global    const A3=0.3\n",
      "global    const A4=0.6\n",
      "global    const A5=1.0\n",
      "global    const A6=0.875\n",
      "global    const B21=0.2\n",
      "global    const B31=3.0/40.0\n",
      "global    const B32=9.0/40.0\n",
      "global    const B41=0.3\n",
      "global    const B42=-0.9\n",
      "global    const B43=1.2\n",
      "global    const B51=-11.0/54.0\n",
      "global    const B52=2.5\n",
      "global    const B53=-70.0/27.0\n",
      "global    const B54=35.0/27.0\n",
      "global    const B61=1631.0/55296.0\n",
      "global    const B62=175.0/512.0\n",
      "global    const B63=575.0/13824.0\n",
      "global    const B64=44275.0/110592.0\n",
      "global    const B65=253.0/4096.0\n",
      "global    const C1=37.0/378.0\n",
      "global    const C3=250.0/621.0\n",
      "global    const C4=125.0/594.0\n",
      "global    const C6=512.0/1771.0\n",
      "global    const DC1=C1-2825.0/27648.0\n",
      "global    const DC3=C3-18575.0/48384.0\n",
      "global    const DC4=C4-13525.0/55296.0\n",
      "global    const DC5=-277.0/14336.0\n",
      "global    const DC6=C6-0.25"
     ],
     "language": "python",
     "metadata": {},
     "outputs": [
      {
       "metadata": {},
       "output_type": "pyout",
       "prompt_number": 1,
       "text": [
        "0.03910220214568039"
       ]
      }
     ],
     "prompt_number": 1
    },
    {
     "cell_type": "code",
     "collapsed": false,
     "input": [
      "function odeintrktestfull()\n",
      "    t    = 0.\n",
      "    psi = 0.\n",
      "\n",
      "    t2   = 1.\n",
      "    h    = 0.01\n",
      "    eps = 1.0e-5\n",
      "    \n",
      "    for nstp = 1:MAXSTP\n",
      "        psiscal = abs(psi) + abs(3h) + TINY #0.03 #0.18\n",
      "\n",
      "        if abs(h) > abs(t2-t)\n",
      "            h = t2 - t\n",
      "        end\n",
      "        \n",
      "        errmax = 0.\n",
      "        psitemp = 0.\n",
      "        while true\n",
      "            psitemp, psierr = psi+3h, 3h*(DC1+DC3+DC4+DC5+DC6)  #0.03  ~1e-18  #0.18 ~1e-18 \n",
      "            errmax=abs(psierr)/psiscal  #1e-18\n",
      "            if errmax <= eps\n",
      "                break\n",
      "            end\n",
      "            htemp=SAFETY*h*(errmax^PSHRNK)\n",
      "            h=copysign(max(abs(htemp), 0.1*abs(h)), h)\n",
      "        end\n",
      "        t += h   #0.01  #0.06\n",
      "        psi = psitemp  #0.03  #0.18\n",
      "        @show h, t, psi #0.05 0.06 0.18\n",
      "\n",
      "        if errmax>ERRCON   #>2e-4? \n",
      "            h=SAFETY*h*(errmax^PGROW)\n",
      "        else\n",
      "            h=5h #0.05\n",
      "        end\n",
      "        \n",
      "\n",
      "        #Are we done?\n",
      "        if t >= t2\n",
      "            return\n",
      "        end\n",
      "    end\n",
      "    println(\"too many steps in odeint\")\n",
      "end"
     ],
     "language": "python",
     "metadata": {},
     "outputs": [
      {
       "metadata": {},
       "output_type": "pyout",
       "prompt_number": 2,
       "text": [
        "odeintrktestfull (generic function with 1 method)"
       ]
      }
     ],
     "prompt_number": 2
    },
    {
     "cell_type": "code",
     "collapsed": false,
     "input": [
      "odeintrktestfull()"
     ],
     "language": "python",
     "metadata": {},
     "outputs": [
      {
       "output_type": "stream",
       "stream": "stdout",
       "text": [
        "(h,t,psi) => (0.01,0.01,0.03)"
       ]
      },
      {
       "output_type": "stream",
       "stream": "stdout",
       "text": [
        "\n",
        "(h,t,psi) => (0.05,0.060000000000000005,0.18000000000000002)\n",
        "(h,t,psi) => (0.25,0.31,0.93)\n",
        "(h,t,psi) => (0.69,1.0,3.0)\n"
       ]
      }
     ],
     "prompt_number": 3
    },
    {
     "cell_type": "code",
     "collapsed": false,
     "input": [
      "############################################################################\n",
      "############################################################################"
     ],
     "language": "python",
     "metadata": {},
     "outputs": [],
     "prompt_number": 4
    },
    {
     "cell_type": "code",
     "collapsed": false,
     "input": [
      "function odeintrktest()\n",
      "    t    = 0.\n",
      "    psi  = 0.\n",
      "    t2   = 1.\n",
      "    h    = 0.01\n",
      "    eps  = 1.0e-5\n",
      "    \n",
      "    for nstp = 1:MAXSTP\n",
      "        psiscal = abs(psi) + abs(3h) + TINY  #0.03 #0.18\n",
      "\n",
      "        if abs(h) > abs(t2-t)\n",
      "            h = t2 - t\n",
      "        end\n",
      "        h, t, psi = rkqstest!(psi,t,h,eps,psiscal) #--> h=0.05\n",
      "    end\n",
      "    println(\"too many steps in odeint\")\n",
      "end"
     ],
     "language": "python",
     "metadata": {},
     "outputs": [
      {
       "metadata": {},
       "output_type": "pyout",
       "prompt_number": 5,
       "text": [
        "odeintrktest (generic function with 1 method)"
       ]
      }
     ],
     "prompt_number": 5
    },
    {
     "cell_type": "code",
     "collapsed": false,
     "input": [
      "function rkqstest!(psi::Float64, t::Float64, h::Float64, eps::Float64, psiscal::Float64)\n",
      "    #@show psi, t,  htry, eps, psiscal\n",
      "\n",
      "    errmax = 0.\n",
      "    psitemp = 0.\n",
      "    while true\n",
      "        #Take a step.    \n",
      "        psitemp, psierr = psi+3h, 3h*(DC1+DC3+DC4+DC5+DC6) #0.03 ~1e-18\n",
      "\n",
      "        errmax=abs(psierr)/psiscal  #1e-18\n",
      "        #Step succeeded.\n",
      "        if errmax <= eps\n",
      "            break\n",
      "        end\n",
      "        #Truncation error too large, reduce stepsize.    \n",
      "        htemp=SAFETY*h*(errmax^PSHRNK)\n",
      "        #No more than a factor 10.\n",
      "        h=copysign(max(abs(htemp), 0.1*abs(h)), h)\n",
      "    end\n",
      "    #Go back for another try. No more than a factor 5 increase.\n",
      "    t += h #0.01\n",
      "    psi = psitemp #0.03\n",
      "\n",
      "    if errmax>ERRCON\n",
      "        h=SAFETY*h*(errmax^PGROW)\n",
      "    else\n",
      "        h=5h #0.05\n",
      "    end\n",
      "    \n",
      "    @show h, t, psi\n",
      "    return h, t, psi\n",
      "end"
     ],
     "language": "python",
     "metadata": {},
     "outputs": [
      {
       "metadata": {},
       "output_type": "pyout",
       "prompt_number": 6,
       "text": [
        "rkqstest! (generic function with 1 method)"
       ]
      }
     ],
     "prompt_number": 6
    },
    {
     "cell_type": "code",
     "collapsed": false,
     "input": [
      "odeintrktest()"
     ],
     "language": "python",
     "metadata": {},
     "outputs": [
      {
       "output_type": "stream",
       "stream": "stdout",
       "text": [
        "(h,t,psi) => "
       ]
      },
      {
       "output_type": "stream",
       "stream": "stdout",
       "text": [
        "(0.05,0.01,0.03)\n",
        "(h,t,psi) => (0.25,0.060000000000000005,0.18000000000000002)\n",
        "(h,t,psi) => (1.25,0.31,0.93)\n",
        "(h,t,psi) => (3.4499999999999997,1.0,3.0)\n",
        "(h,t,psi) => (0.0,1.0,3.0)\n",
        "(h,t,psi) => (0.0,1.0,3.0)\n",
        "(h,t,psi) => (0.0,1.0,3.0)\n",
        "(h,t,psi) => (0.0,1.0,3.0)\n",
        "(h,t,psi) => (0.0,1.0,3.0)\n",
        "(h,t,psi) => (0.0,1.0,3.0)\n",
        "too many steps in odeint\n"
       ]
      }
     ],
     "prompt_number": 7
    },
    {
     "cell_type": "code",
     "collapsed": false,
     "input": [
      "###############################################################################################################\n",
      "###############################################################################################################\n",
      "###############################################################################################################"
     ],
     "language": "python",
     "metadata": {},
     "outputs": [],
     "prompt_number": 8
    },
    {
     "cell_type": "code",
     "collapsed": false,
     "input": [
      "function odeintrk!(psistart::Float64, t1::Float64, t2::Float64, eps::Float64, h1::Float64, hmin::Float64)    \n",
      "    #const MAXSTP = 10\n",
      "    #const TINY=1.0e-30\n",
      "\n",
      "    t    = t1\n",
      "    h    = copysign(h1, t2-t1)    \n",
      "    nok  = 0\n",
      "    nbad = 0\n",
      "    kount= 0 \n",
      "    \n",
      "    psi = psistart\n",
      "    \n",
      "    #main program loop\n",
      "    for nstp = 1:MAXSTP     #Take at most MAXSTP steps\n",
      "        \n",
      "        #Scaling used to monitor accuracy.\n",
      "        dpsi = derivs(t, psi)\n",
      "        psiscal = abs(psi) + abs(h*dpsi) + TINY\n",
      "        #If stepsize can overshoot,decrease.\n",
      "        ((t+h-t2)*(t+h-t1) > 0.0) && (h = t2 - t)     \n",
      "        \n",
      "        hdid, hnext, t, psi = rkqs!(psi,dpsi,t,h,eps,psiscal)\n",
      "        #@show hdid\n",
      "        isapprox(hdid,h) ? nok += 1 : (nbad += 1)\n",
      "\n",
      "        \n",
      "        #Are we done?\n",
      "        if (t-t2)*(t2-t1) >= 0.0\n",
      "            psistart = psi \n",
      "            return\n",
      "        end\n",
      "        (abs(hnext) < hmin) && println(\"stepsize smaller than minimum in odeint\")\n",
      "        h=hnext            \n",
      "    end\n",
      "    println(\"too many steps in odeint\")\n",
      "end"
     ],
     "language": "python",
     "metadata": {},
     "outputs": [
      {
       "metadata": {},
       "output_type": "pyout",
       "prompt_number": 9,
       "text": [
        "odeintrk! (generic function with 1 method)"
       ]
      }
     ],
     "prompt_number": 9
    },
    {
     "cell_type": "code",
     "collapsed": false,
     "input": [
      "function rkqs!(psi::Float64, dpsidt::Float64, t::Float64, htry::Float64, eps::Float64, psiscal::Float64)\n",
      "    #const SAFETY=0.9\n",
      "    #const PGROW=-0.2\n",
      "    #const PSHRNK=-0.25\n",
      "    #const ERRCON=1.89e-4\n",
      "\n",
      "    #Set step size to the initial trial value.\n",
      "    h=htry     \n",
      "    \n",
      "    errmax = 0.\n",
      "    psitemp = 0.\n",
      "    while true\n",
      "        #Take a step.    \n",
      "        psitemp, psierr = rkck(psi,dpsidt,t,h)\n",
      "        #Evaluate accuracy.\n",
      "        errmax=maximum(abs(psierr)/psiscal)/eps\n",
      "        #Step succeeded.    \n",
      "        (errmax <= 1.0) && break\n",
      "        #Truncation error too large, reduce stepsize.    \n",
      "        htemp=SAFETY*h*(errmax^PSHRNK)\n",
      "        #No more than a factor 10.\n",
      "        h=copysign(max(abs(htemp), 0.1*abs(h)), h)\n",
      "        isapprox(h, 0.) && println(\"stepsize underflow in rkqs\")    \n",
      "    end\n",
      "    #Go back for another try. No more than a factor 5 increase.\n",
      "    errmax>ERRCON ? hnext=SAFETY*h*(errmax^PGROW) : (hnext=5.0*h)\n",
      "    hdid = h\n",
      "    t += h\n",
      "    psi = psitemp\n",
      "    @show h, t, psi\n",
      "    return hdid, hnext, t, psi\n",
      "end"
     ],
     "language": "python",
     "metadata": {},
     "outputs": [
      {
       "metadata": {},
       "output_type": "pyout",
       "prompt_number": 10,
       "text": [
        "rkqs! (generic function with 1 method)"
       ]
      }
     ],
     "prompt_number": 10
    },
    {
     "cell_type": "code",
     "collapsed": false,
     "input": [
      "function rkck(psi::Float64, dpsidt::Float64, t::Float64, h::Float64)\n",
      "    #const A2=0.2\n",
      "    #const A3=0.3\n",
      "    #const A4=0.6\n",
      "    #const A5=1.0\n",
      "    #const A6=0.875\n",
      "    #const B21=0.2\n",
      "    #const B31=3.0/40.0\n",
      "    #const B32=9.0/40.0\n",
      "    #const B41=0.3\n",
      "    #const B42=-0.9\n",
      "    #const B43=1.2\n",
      "    #const B51=-11.0/54.0\n",
      "    #const B52=2.5\n",
      "    #const B53=-70.0/27.0\n",
      "    #const B54=35.0/27.0\n",
      "    #const B61=1631.0/55296.0\n",
      "    #const B62=175.0/512.0\n",
      "    #const B63=575.0/13824.0\n",
      "    #const B64=44275.0/110592.0\n",
      "    #const B65=253.0/4096.0\n",
      "    #const C1=37.0/378.0\n",
      "    #const C3=250.0/621.0\n",
      "    #const C4=125.0/594.0\n",
      "    #const C6=512.0/1771.0\n",
      "    #const DC1=C1-2825.0/27648.0\n",
      "    #const DC3=C3-18575.0/48384.0\n",
      "    #const DC4=C4-13525.0/55296.0\n",
      "    #const DC5=-277.0/14336.0\n",
      "    #const DC6=C6-0.25\n",
      "    \n",
      "    psitemp=psi+B21*h*dpsidt\n",
      "    #First step.\n",
      "    ak2 = derivs(t+A2*h,psitemp)\n",
      "    #Second step.\n",
      "    psitemp=psi+h*(B31*dpsidt+B32*ak2)\n",
      "    ak3 = derivs(t+A3*h,psitemp) \n",
      "    #Third step.\n",
      "    psitemp=psi+h*(B41*dpsidt+B42*ak2+B43*ak3)\n",
      "    ak4 = derivs(t+A4*h,psitemp) \n",
      "    #Fourth step.\n",
      "    psitemp=psi+h*(B51*dpsidt+B52*ak2+B53*ak3+B54*ak4)\n",
      "    ak5 = derivs(t+A5*h,psitemp) \n",
      "    #Fifth step.\n",
      "    psitemp=psi+h*(B61*dpsidt+B62*ak2+B63*ak3+B64*ak4+B65*ak5)\n",
      "    ak6 = derivs(t+A6*h,psitemp) \n",
      "    #Sixth step.\n",
      "    psiout=psi+h*(C1*dpsidt+C3*ak3+C4*ak4+C6*ak6) \n",
      "    #Accumulate increments with proper weights.\n",
      "    psierr=h*(DC1*dpsidt+DC3*ak3+DC4*ak4+DC5*ak5+DC6*ak6)\n",
      "    #Estimate error as diference between fourth and fifth order methods.\n",
      "    return psiout, psierr\n",
      "end"
     ],
     "language": "python",
     "metadata": {},
     "outputs": [
      {
       "metadata": {},
       "output_type": "pyout",
       "prompt_number": 11,
       "text": [
        "rkck (generic function with 1 method)"
       ]
      }
     ],
     "prompt_number": 11
    },
    {
     "cell_type": "code",
     "collapsed": false,
     "input": [
      "# dy\n",
      "# -- = 3 ==> y = 3t\n",
      "# dt\n",
      "#y -> psi\n",
      "derivs(t::Float64, psi::Float64) = 3."
     ],
     "language": "python",
     "metadata": {},
     "outputs": [
      {
       "metadata": {},
       "output_type": "pyout",
       "prompt_number": 12,
       "text": [
        "derivs (generic function with 1 method)"
       ]
      }
     ],
     "prompt_number": 12
    },
    {
     "cell_type": "code",
     "collapsed": false,
     "input": [
      "odeintrk!(0.,0.,1.,1.0e-5,0.01,1.0e-9)"
     ],
     "language": "python",
     "metadata": {},
     "outputs": [
      {
       "output_type": "stream",
       "stream": "stdout",
       "text": [
        "(h,t,psi) => "
       ]
      },
      {
       "output_type": "stream",
       "stream": "stdout",
       "text": [
        "(0.01,0.01,0.03)\n",
        "(h,t,psi) => (0.05,0.060000000000000005,0.18000000000000002)\n",
        "(h,t,psi) => (0.25,0.31,0.93)\n",
        "(h,t,psi) => (0.69,1.0,3.0)\n"
       ]
      }
     ],
     "prompt_number": 13
    },
    {
     "cell_type": "code",
     "collapsed": false,
     "input": [],
     "language": "python",
     "metadata": {},
     "outputs": [],
     "prompt_number": 14
    }
   ],
   "metadata": {}
  }
 ]
}