{
 "cells": [
  {
   "cell_type": "markdown",
   "metadata": {},
   "source": [
    "# Frequent Words with Mismatches"
   ]
  },
  {
   "cell_type": "markdown",
   "metadata": {},
   "source": [
    "### Plan:\n",
    "1. get all possible k-mers from original sequence\n",
    "2. generate all possible (up-to d changes) k-mers for each item at point 1\n",
    "3. find most frequent k-mer among all those generated at point 2\n",
    "4. bam!"
   ]
  },
  {
   "cell_type": "code",
   "execution_count": 1,
   "metadata": {
    "collapsed": true
   },
   "outputs": [],
   "source": [
    "from itertools import combinations, product\n",
    "from collections import Counter"
   ]
  },
  {
   "cell_type": "code",
   "execution_count": 2,
   "metadata": {
    "collapsed": true
   },
   "outputs": [],
   "source": [
    "def find_words_with_mismatches(sequence, k, d, bases='ATCG'):\n",
    "    \"\"\"Find the most frequent k-mers with d mismatches in SEQUENCE.\n",
    "    \n",
    "    Args:\n",
    "        sequence (str): Input text string.\n",
    "        k (int): Length of the k-mers.\n",
    "        d (int): Maximum Hamming distance.\n",
    "        \n",
    "    Returns:\n",
    "        List(str): A list of the most frequent k-mers in SEQUENCE\n",
    "                   with up to d mismatches.\n",
    "    \n",
    "    Example:\n",
    "    >>> find_words_with_mismatches('ACGTTGCATGTCGCATGATGCATGAGAGCT', 4, 1)\n",
    "    ['ATGT', 'ATGC', 'GATG']\n",
    "    \"\"\"\n",
    "    \n",
    "    # 1. get all possible k-mers of length k from sequence\n",
    "    kmers = find_kmers(sequence, k)\n",
    "    \n",
    "    # 2. find all possible unique (that is why we use set) mutations for each of them\n",
    "    mutated_kmers = [list(set(mutations(kmer, d, charset=bases))) for kmer in kmers]\n",
    "    \n",
    "    # mutated_kmers is a nested list, ie. [[k-mer, k-mer, ...], [k-mer, k-mer, ...], ...]\n",
    "    # so we need to flatten it\n",
    "    flat_kmers = [item for sublist in mutated_kmers for item in sublist]\n",
    "    \n",
    "    # build dictionary, ie {k-mer : freq, k-mer : freq, ...}\n",
    "    frequency = Counter(flat_kmers)\n",
    "    \n",
    "    # get a list of tuples ordered by decreasing frequency\n",
    "    kmer_freq = frequency.most_common()\n",
    "    \n",
    "    # get maximum frequency\n",
    "    max_freq = kmer_freq[0][1]\n",
    "    \n",
    "    # 3. return only the k-mers corresponding to the max frequency\n",
    "    most_freq_kmers = []\n",
    "    for (kmer, freq) in kmer_freq:\n",
    "        if freq != max_freq:\n",
    "            break\n",
    "        most_freq_kmers.append(kmer)\n",
    "    return most_freq_kmers"
   ]
  },
  {
   "cell_type": "code",
   "execution_count": 3,
   "metadata": {
    "collapsed": false
   },
   "outputs": [],
   "source": [
    "# for string of length n, n-k+1 possibilities\n",
    "def find_kmers(sequence, k):\n",
    "    \"\"\"Find all K-mers in a given character SEQUENCE.\n",
    "    \n",
    "    >>> find_kmers('GTAGAGCTGT', 5)\n",
    "    ['GTAGA', 'TAGAG', 'AGAGC', 'GAGCT', 'AGCTG', 'GCTGT']\n",
    "    \"\"\"\n",
    "    \n",
    "    kmers = []\n",
    "    n = len(sequence)\n",
    "\n",
    "    for i in range(n-k+1):\n",
    "        kmers.append(sequence[i:i+k])\n",
    "\n",
    "    return kmers"
   ]
  },
  {
   "cell_type": "code",
   "execution_count": 4,
   "metadata": {
    "collapsed": true
   },
   "outputs": [],
   "source": [
    "def mutations(word, hamming_distance, charset='ATCG'):\n",
    "    \"\"\"Generates all mutations of a word with a Hamming distance less than or equal to a given number.\n",
    "    \n",
    "    Args:\n",
    "        word (str): Input text string.\n",
    "        hamming_distance (int): Maximum Hamming distance.\n",
    "        charset (str): Available alphabet.\n",
    "        \n",
    "    Yields:\n",
    "        str: The next mutation of WORD in the sequence.\n",
    "\n",
    "    Example:\n",
    "    >>> list(mutations('GTAGA', 1))\n",
    "    ['ATAGA', 'TTAGA', 'CTAGA', 'GTAGA', 'GAAGA', 'GTAGA', 'GCAGA', 'GGAGA', 'GTAGA', 'GTTGA', 'GTCGA', 'GTGGA', 'GTAAA', 'GTATA', 'GTACA', 'GTAGA', 'GTAGA', 'GTAGT', 'GTAGC', 'GTAGG']\n",
    "    \"\"\"\n",
    "    \n",
    "    for indices in combinations(range(len(word)), hamming_distance):\n",
    "        for replacements in product(charset, repeat=hamming_distance):\n",
    "            mutation = list(word)\n",
    "\n",
    "            for index, replacement in zip(indices, replacements):\n",
    "                mutation[index] = replacement\n",
    "\n",
    "            yield \"\".join(mutation)"
   ]
  },
  {
   "cell_type": "markdown",
   "metadata": {},
   "source": [
    "# Testing"
   ]
  },
  {
   "cell_type": "code",
   "execution_count": 5,
   "metadata": {
    "collapsed": true
   },
   "outputs": [],
   "source": [
    "# for testing on multiple datasets\n",
    "import unittest "
   ]
  },
  {
   "cell_type": "code",
   "execution_count": 6,
   "metadata": {
    "collapsed": true
   },
   "outputs": [],
   "source": [
    "class TestMismatch(unittest.TestCase):\n",
    "    def test_1(self):\n",
    "        seq = 'ACGTTGCATGTCGCATGATGCATGAGAGCT'\n",
    "        out = ['GATG', 'ATGC', 'ATGT']\n",
    "        res = find_words_with_mismatches(seq, 4, 1)\n",
    "        self.assertEqual(set(res), set(out))\n",
    "    def test_2(self):\n",
    "        seq = 'CACAGTAGGCGCCGGCACACACAGCCCCGGGCCCCGGGCCGCCCCGGGCCGGCGGCCGCCGGCGCCGGCACACCGGCACAGCCGTACCGGCACAGTAGTACCGGCCGGCCGGCACACCGGCACACCGGGTACACACCGGGGCGCACACACAGGCGGGCGCCGGGCCCCGGGCCGTACCGGGCCGCCGGCGGCCCACAGGCGCCGGCACAGTACCGGCACACACAGTAGCCCACACACAGGCGGGCGGTAGCCGGCGCACACACACACAGTAGGCGCACAGCCGCCCACACACACCGGCCGGCCGGCACAGGCGGGCGGGCGCACACACACCGGCACAGTAGTAGGCGGCCGGCGCACAGCC'\n",
    "        out = ['GCACACAGAC', 'GCGCACACAC']\n",
    "        res = find_words_with_mismatches(seq, 10, 2)\n",
    "        self.assertEqual(set(res), set(out))\n",
    "    def test_appears(self):\n",
    "        seq = 'AAAAAAAAAA'\n",
    "        out = ['AA', 'AC', 'AG', 'CA', 'AT', 'GA', 'TA']\n",
    "        res = find_words_with_mismatches(seq, 2, 1)\n",
    "        self.assertEqual(set(res), set(out))\n",
    "    def test_swapping(self):\n",
    "        seq = 'AGTCAGTC'\n",
    "        out = ['TCTC', 'CGGC', 'AAGC', 'TGTG', 'GGCC', 'AGGT', 'ATCC', 'ACTG', 'ACAC', 'AGAG', 'ATTA', 'TGAC', 'AATT',\n",
    "'CGTT', 'GTTC', 'GGTA', 'AGCA', 'CATC']\n",
    "        res = find_words_with_mismatches(seq, 4, 2)\n",
    "        self.assertEqual(set(res), set(out))\n",
    "    def test_complement(self):\n",
    "        seq = 'AATTAATTGGTAGGTAGGTA'\n",
    "        out = ['GGTA']\n",
    "        res = find_words_with_mismatches(seq, 4, 0)\n",
    "        self.assertEqual(set(res), set(out))\n",
    "    def test_cardinality(self):\n",
    "        seq = 'ATA'\n",
    "        out = ['GTA', 'ACA', 'AAA', 'ATC', 'ATA', 'AGA', 'ATT', 'CTA', 'TTA', 'ATG']\n",
    "        res = find_words_with_mismatches(seq, 3, 1)\n",
    "        self.assertEqual(set(res), set(out))\n",
    "    def test_complement_2(self):\n",
    "        seq = 'AAT'\n",
    "        out = ['AAT']\n",
    "        res = find_words_with_mismatches(seq, 3, 0)\n",
    "        self.assertEqual(set(res), set(out))\n",
    "    def test_last(self):\n",
    "        seq = 'TAGCG'\n",
    "        out = ['GG', 'TG']\n",
    "        res = find_words_with_mismatches(seq, 2, 1)\n",
    "        self.assertEqual(set(res), set(out))"
   ]
  },
  {
   "cell_type": "code",
   "execution_count": 7,
   "metadata": {
    "collapsed": false
   },
   "outputs": [
    {
     "name": "stderr",
     "output_type": "stream",
     "text": [
      "........\n",
      "----------------------------------------------------------------------\n",
      "Ran 8 tests in 0.507s\n",
      "\n",
      "OK\n"
     ]
    },
    {
     "data": {
      "text/plain": [
       "<unittest.runner.TextTestResult run=8 errors=0 failures=0>"
      ]
     },
     "execution_count": 7,
     "metadata": {},
     "output_type": "execute_result"
    }
   ],
   "source": [
    "a = TestMismatch()\n",
    "\n",
    "suite = unittest.TestLoader().loadTestsFromModule(a)\n",
    "unittest.TextTestRunner().run(suite)"
   ]
  }
 ],
 "metadata": {
  "anaconda-cloud": {},
  "kernelspec": {
   "display_name": "Python [conda root]",
   "language": "python",
   "name": "conda-root-py"
  },
  "language_info": {
   "codemirror_mode": {
    "name": "ipython",
    "version": 3
   },
   "file_extension": ".py",
   "mimetype": "text/x-python",
   "name": "python",
   "nbconvert_exporter": "python",
   "pygments_lexer": "ipython3",
   "version": "3.5.2"
  }
 },
 "nbformat": 4,
 "nbformat_minor": 1
}
