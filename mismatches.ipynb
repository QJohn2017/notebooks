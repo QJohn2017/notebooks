{
 "cells": [
  {
   "cell_type": "markdown",
   "metadata": {},
   "source": [
    "# Frequent Words with Mismatches"
   ]
  },
  {
   "cell_type": "markdown",
   "metadata": {},
   "source": [
    "http://rosalind.info/problems/ba1i/"
   ]
  },
  {
   "cell_type": "markdown",
   "metadata": {},
   "source": [
    "### Plan:\n",
    "1. get all possible *k*-mers from original sequence\n",
    "2. generate all possible (up-to *d* changes) *k*-mers for each item at point 1\n",
    "3. find most frequent *k*-mer among all those generated at point 2\n",
    "4. bam!"
   ]
  },
  {
   "cell_type": "code",
   "execution_count": 1,
   "metadata": {
    "collapsed": true
   },
   "outputs": [],
   "source": [
    "from collections import Counter"
   ]
  },
  {
   "cell_type": "code",
   "execution_count": 2,
   "metadata": {
    "collapsed": true
   },
   "outputs": [],
   "source": [
    "def find_frequent_kmers_in(sequence, k, d, bases='ATCG'):\n",
    "    \"\"\"Find the most frequent k-mers with mismatches in a sequence.\n",
    "    \n",
    "    Given a genome `sequence`, finds all the k-mers of length `k` and\n",
    "    Hamming distance `d` in the genome and returns the most frequent ones.\n",
    "\n",
    "    Parameters\n",
    "    ----------\n",
    "    sequence : str\n",
    "        Genome string to be analyzed.\n",
    "    k : int\n",
    "        Length of the k-mers.\n",
    "    d : int\n",
    "        Maximum Hamming distance.\n",
    "    bases : 'ATCG', optional\n",
    "        All possible bases.\n",
    "        \n",
    "    Returns\n",
    "    -------\n",
    "    most_freq_kmers : list of str\n",
    "        A list of the most frequent k-mers in `sequence`,\n",
    "        with up to `d` mismatches.\n",
    "    \n",
    "    Examples\n",
    "    --------\n",
    "    >>> find_frequent_kmers_in('ACGTTGCATGTCGCATGATGCATGAGAGCT', 4, 1)\n",
    "    ['ATGT', 'ATGC', 'GATG']\n",
    "    \n",
    "    \"\"\"\n",
    "    \n",
    "    # 1. get all possible k-mers of length k from sequence\n",
    "    kmers = find_kmers(sequence, k)\n",
    "    \n",
    "    # 2. find all possible unique -- use list(set(..)) -- mutations \n",
    "    # for each k-mer\n",
    "    mutated_kmers = [list(set(mutations(kmer, d, charset=bases))) for kmer in kmers]\n",
    "    \n",
    "    # mutated_kmers is a nested list, ie. [[k-mer, k-mer, ...], [k-mer, k-mer, ...], ...]\n",
    "    # so we need to flatten it\n",
    "    flat_mutated_kmers = [item for sublist in mutated_kmers for item in sublist]\n",
    "    \n",
    "    # build counter of type {k-mer : occurances, k-mer : occurances, ...}\n",
    "    frequency_counter = Counter(flat_mutated_kmers)\n",
    "    \n",
    "    # get a list of tuples ordered by decreasing frequency, ie. [(kmer, 10), (kmer, 9), ...]\n",
    "    kmer_freq = frequency_counter.most_common()\n",
    "    \n",
    "    # get maximum frequency, ie 10 in our example\n",
    "    max_freq = kmer_freq[0][1]\n",
    "    \n",
    "    # 3. return only the k-mers corresponding to the max frequency\n",
    "    most_freq_kmers = []\n",
    "    for (kmer, freq) in kmer_freq:\n",
    "        if freq != max_freq:\n",
    "            break # exit the for loop\n",
    "        # otherwise\n",
    "        most_freq_kmers.append(kmer)\n",
    "    return most_freq_kmers"
   ]
  },
  {
   "cell_type": "code",
   "execution_count": 3,
   "metadata": {},
   "outputs": [],
   "source": [
    "def find_kmers(sequence, k):\n",
    "    \"\"\"Finds all k-mers of length `k` in a given character `sequence`.\n",
    "    \n",
    "    >>> find_kmers('GTAGAGCTGT', 5)\n",
    "    ['GTAGA', 'TAGAG', 'AGAGC', 'GAGCT', 'AGCTG', 'GCTGT']\n",
    "    \"\"\"\n",
    "    \n",
    "    kmers = []\n",
    "    n = len(sequence)\n",
    "\n",
    "    # for string of length n, n-k+1 possibilities\n",
    "    for i in range(n-k+1):\n",
    "        kmers.append(sequence[i:i+k])\n",
    "\n",
    "    return kmers"
   ]
  },
  {
   "cell_type": "code",
   "execution_count": 4,
   "metadata": {
    "collapsed": true
   },
   "outputs": [],
   "source": [
    "from itertools import combinations, product"
   ]
  },
  {
   "cell_type": "code",
   "execution_count": 5,
   "metadata": {
    "collapsed": true
   },
   "outputs": [],
   "source": [
    "def mutations(kmer, d, charset='ATCG'):\n",
    "    \"\"\"Generates all mutations of `kmer` within Hamming distance `d`, using alphabet `charset`.\n",
    "    \n",
    "    Args:\n",
    "        kmer (str): Input text string.\n",
    "        d (int): Maximum Hamming distance.\n",
    "        charset (str): Available alphabet to chose from.\n",
    "        \n",
    "    Yields:\n",
    "        str: The next mutation of `kmer` in the sequence.\n",
    "\n",
    "    Example:\n",
    "    >>> list(mutations('GTAGA', 1))\n",
    "    ['ATAGA', 'TTAGA', 'CTAGA', 'GTAGA', 'GAAGA', 'GTAGA', 'GCAGA', 'GGAGA', 'GTAGA', 'GTTGA', 'GTCGA', 'GTGGA', 'GTAAA', 'GTATA', 'GTACA', 'GTAGA', 'GTAGA', 'GTAGT', 'GTAGC', 'GTAGG']\n",
    "    \"\"\"\n",
    "    k = len(kmer)\n",
    "\n",
    "    # combinations() is a list of length binom(k, d)\n",
    "    # of form [(i_1, i_2, ..., i_d), ...]\n",
    "    for indices in combinations(range(k), d):\n",
    "\n",
    "        # product is a list of length len(charset)**d, ie. 4**d\n",
    "        # of the form [(char_1, char_2, ..., char_d), ...]\n",
    "        for replacements in product(charset, repeat=d):\n",
    "\n",
    "            mutation = list(kmer)  # convert string to list\n",
    "\n",
    "            # d elements in zip(): [(i_1, char_1), ..., (i_d, char_d)]\n",
    "            for index, replacement in zip(indices, replacements): \n",
    "                mutation[index] = replacement\n",
    "\n",
    "            yield \"\".join(mutation) # binom(k, d) x len(charset)**d non-unique results"
   ]
  },
  {
   "cell_type": "markdown",
   "metadata": {},
   "source": [
    "# Testing"
   ]
  },
  {
   "cell_type": "code",
   "execution_count": 6,
   "metadata": {
    "collapsed": true
   },
   "outputs": [],
   "source": [
    "# for testing on multiple datasets\n",
    "import unittest "
   ]
  },
  {
   "cell_type": "code",
   "execution_count": 7,
   "metadata": {
    "collapsed": true
   },
   "outputs": [],
   "source": [
    "class TestMismatch(unittest.TestCase):\n",
    "    def test_1(self):\n",
    "        seq = 'ACGTTGCATGTCGCATGATGCATGAGAGCT'\n",
    "        out = ['GATG', 'ATGC', 'ATGT']\n",
    "        res = find_frequent_kmers_in(seq, 4, 1)\n",
    "        self.assertEqual(set(res), set(out))\n",
    "    def test_2(self):\n",
    "        seq = 'CACAGTAGGCGCCGGCACACACAGCCCCGGGCCCCGGGCCGCCCCGGGCCGGCGGCCGCCGGCGCCGGCACACCGGCACAGCCGTACCGGCACAGTAGTACCGGCCGGCCGGCACACCGGCACACCGGGTACACACCGGGGCGCACACACAGGCGGGCGCCGGGCCCCGGGCCGTACCGGGCCGCCGGCGGCCCACAGGCGCCGGCACAGTACCGGCACACACAGTAGCCCACACACAGGCGGGCGGTAGCCGGCGCACACACACACAGTAGGCGCACAGCCGCCCACACACACCGGCCGGCCGGCACAGGCGGGCGGGCGCACACACACCGGCACAGTAGTAGGCGGCCGGCGCACAGCC'\n",
    "        out = ['GCACACAGAC', 'GCGCACACAC']\n",
    "        res = find_frequent_kmers_in(seq, 10, 2)\n",
    "        self.assertEqual(set(res), set(out))\n",
    "    def test_appears(self):\n",
    "        seq = 'AAAAAAAAAA'\n",
    "        out = ['AA', 'AC', 'AG', 'CA', 'AT', 'GA', 'TA']\n",
    "        res = find_frequent_kmers_in(seq, 2, 1)\n",
    "        self.assertEqual(set(res), set(out))\n",
    "    def test_swapping(self):\n",
    "        seq = 'AGTCAGTC'\n",
    "        out = ['TCTC', 'CGGC', 'AAGC', 'TGTG', 'GGCC', 'AGGT', 'ATCC', 'ACTG', 'ACAC', 'AGAG', 'ATTA', 'TGAC', 'AATT',\n",
    "'CGTT', 'GTTC', 'GGTA', 'AGCA', 'CATC']\n",
    "        res = find_frequent_kmers_in(seq, 4, 2)\n",
    "        self.assertEqual(set(res), set(out))\n",
    "    def test_complement(self):\n",
    "        seq = 'AATTAATTGGTAGGTAGGTA'\n",
    "        out = ['GGTA']\n",
    "        res = find_frequent_kmers_in(seq, 4, 0)\n",
    "        self.assertEqual(set(res), set(out))\n",
    "    def test_cardinality(self):\n",
    "        seq = 'ATA'\n",
    "        out = ['GTA', 'ACA', 'AAA', 'ATC', 'ATA', 'AGA', 'ATT', 'CTA', 'TTA', 'ATG']\n",
    "        res = find_frequent_kmers_in(seq, 3, 1)\n",
    "        self.assertEqual(set(res), set(out))\n",
    "    def test_complement_2(self):\n",
    "        seq = 'AAT'\n",
    "        out = ['AAT']\n",
    "        res = find_frequent_kmers_in(seq, 3, 0)\n",
    "        self.assertEqual(set(res), set(out))\n",
    "    def test_last(self):\n",
    "        seq = 'TAGCG'\n",
    "        out = ['GG', 'TG']\n",
    "        res = find_frequent_kmers_in(seq, 2, 1)\n",
    "        self.assertEqual(set(res), set(out))"
   ]
  },
  {
   "cell_type": "code",
   "execution_count": 8,
   "metadata": {},
   "outputs": [
    {
     "name": "stderr",
     "output_type": "stream",
     "text": [
      "........\n",
      "----------------------------------------------------------------------\n",
      "Ran 8 tests in 0.493s\n",
      "\n",
      "OK\n"
     ]
    },
    {
     "data": {
      "text/plain": [
       "<unittest.runner.TextTestResult run=8 errors=0 failures=0>"
      ]
     },
     "execution_count": 8,
     "metadata": {},
     "output_type": "execute_result"
    }
   ],
   "source": [
    "a = TestMismatch()\n",
    "\n",
    "suite = unittest.TestLoader().loadTestsFromModule(a)\n",
    "unittest.TextTestRunner().run(suite)"
   ]
  }
 ],
 "metadata": {
  "anaconda-cloud": {},
  "kernelspec": {
   "display_name": "Python 3",
   "language": "python",
   "name": "python3"
  },
  "language_info": {
   "codemirror_mode": {
    "name": "ipython",
    "version": 3
   },
   "file_extension": ".py",
   "mimetype": "text/x-python",
   "name": "python",
   "nbconvert_exporter": "python",
   "pygments_lexer": "ipython3",
   "version": "3.6.4"
  }
 },
 "nbformat": 4,
 "nbformat_minor": 1
}
