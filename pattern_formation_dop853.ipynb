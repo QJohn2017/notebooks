{
 "metadata": {
  "language": "Julia",
  "name": "",
  "signature": "sha256:41b52ea62446500eb3a8b8eee77db1510f3a73563ed646f23cfbdbe2b85adb4e"
 },
 "nbformat": 3,
 "nbformat_minor": 0,
 "worksheets": [
  {
   "cells": [
    {
     "cell_type": "code",
     "collapsed": false,
     "input": [
      "fname = \"INPUT\"\n",
      "open(fname,\"r\") do f\n",
      "    for line in eachline(f)\n",
      "        line = strip(replace(line,[',','/'],' '))\n",
      "        (line[1] == '&' || line[1] == '!') && continue\n",
      "        include_string(\"global const \" * uppercase(line))\n",
      "        #println(uppercase(line))\n",
      "    end\n",
      "end"
     ],
     "language": "python",
     "metadata": {},
     "outputs": [],
     "prompt_number": 1
    },
    {
     "cell_type": "code",
     "collapsed": false,
     "input": [
      "global const \u0394X = 2LX/NX\n",
      "global const \u0394Y = 2LY/NY;\n",
      "global const CNORM = sqrt(NX*NY)/256/sqrt(LX*LY)*70;"
     ],
     "language": "python",
     "metadata": {},
     "outputs": [],
     "prompt_number": 2
    },
    {
     "cell_type": "code",
     "collapsed": false,
     "input": [
      "# define custom type\n",
      "type Wavefunction{T}\n",
      "    c::Array{T, 2}  #cavity\n",
      "    x::Array{T, 2}  #exciton\n",
      "    \n",
      "    Wavefunction(cav, exc) = new(copy(cav), copy(exc))\n",
      "end"
     ],
     "language": "python",
     "metadata": {},
     "outputs": [],
     "prompt_number": 3
    },
    {
     "cell_type": "code",
     "collapsed": false,
     "input": [
      "# which supports the following operations\n",
      "#import Base.length\n",
      "#length{T}(\u03c8::Wavefunction{T}) = 1\n",
      "\n",
      "import Base.abs\n",
      "abs(\u03c8::Wavefunction{Complex{Float64}}) = Wavefunction{Float64}(abs(\u03c8.c), abs(\u03c8.x))\n",
      "\n",
      "import Base.maximum\n",
      "function maximum(\u03c8::Wavefunction{Float64})\n",
      "    maxc = maximum(\u03c8.c)\n",
      "    maxx = maximum(\u03c8.x)\n",
      "    return max(maxc, maxx)\n",
      "end\n",
      "\n",
      "#import Base.norm\n",
      "#norm{T}(\u03c8::Wavefunction{T}, p::Real) = max(Base.norm(\u03c8.c, p), Base.norm(\u03c8.x, p))\n",
      "\n",
      "+{T}(\u03c81::Wavefunction{T}, \u03c82::Wavefunction{T}) = Wavefunction{T}(\u03c81.c + \u03c82.c, \u03c81.x + \u03c82.x)\n",
      "-{T}(\u03c81::Wavefunction{T}, \u03c82::Wavefunction{T}) = Wavefunction{T}(\u03c81.c - \u03c82.c, \u03c81.x - \u03c82.x)\n",
      "\n",
      "*{T}(c::Float64, \u03c8::Wavefunction{T}) = Wavefunction{T}(c*\u03c8.c, c*\u03c8.x)\n",
      "*{T}(c::Int64, \u03c8::Wavefunction{T}) = Wavefunction{T}(c*\u03c8.c, c*\u03c8.x)\n",
      "*{T}(\u03c8::Wavefunction{T}, c::Float64) = c*\u03c8\n",
      "*{T}(c::Float64, vec\u03c8::Vector{Wavefunction{T}}) = Wavefunction{T}[c*\u03c8 for \u03c8 in vec\u03c8]\n",
      "\n",
      "/{T}(\u03c8::Wavefunction{T}, c::Float64) = Wavefunction{T}(\u03c8.c/c, \u03c8.x/c)\n",
      "\n",
      "+{T}(c::Float64, \u03c8::Wavefunction{T}) = Wavefunction{T}(\u03c8.c .+ c, \u03c8.x .+ c)\n",
      "/{T}(\u03c81::Wavefunction{T}, \u03c82::Wavefunction{T}) = Wavefunction{T}(\u03c81.c ./ \u03c82.c, \u03c81.x ./ \u03c82.x)\n",
      "*{T}(\u03c81::Wavefunction{T}, \u03c82::Wavefunction{T}) = Wavefunction{T}(\u03c81.c .* \u03c82.c, \u03c81.x .* \u03c82.x)\n",
      "/(\u03c81::Wavefunction{Complex{Float64}}, \u03c82::Wavefunction{Float64}) = Wavefunction{Complex{Float64}}(\u03c81.c ./ \u03c82.c, \u03c81.x ./ \u03c82.x)\n",
      "^{T}(\u03c8::Wavefunction{T}, n::Int64) = Wavefunction{T}(\u03c8.c .^ n, \u03c8.x .^ n)"
     ],
     "language": "python",
     "metadata": {},
     "outputs": [
      {
       "metadata": {},
       "output_type": "pyout",
       "prompt_number": 4,
       "text": [
        "^ (generic function with 46 methods)"
       ]
      }
     ],
     "prompt_number": 4
    },
    {
     "cell_type": "code",
     "collapsed": false,
     "input": [
      "getidx(pos, len, \u0394) = iround((len + pos)/\u0394) + 1"
     ],
     "language": "python",
     "metadata": {},
     "outputs": [
      {
       "metadata": {},
       "output_type": "pyout",
       "prompt_number": 5,
       "text": [
        "getidx (generic function with 1 method)"
       ]
      }
     ],
     "prompt_number": 5
    },
    {
     "cell_type": "code",
     "collapsed": false,
     "input": [
      "function initpotcav(posx, posy, strength)\n",
      "    ix = getidx(posx, LX, \u0394X)\n",
      "    iy = getidx(posy, LY, \u0394Y)\n",
      "    potential = zeros(NY, NX)\n",
      "    potential[iy, ix] = strength\n",
      "    return potential\n",
      "end\n",
      "global const SY = [-LY+(iy-1)*\u0394Y for iy=1:NY]\n",
      "global const SX = [-LX+(ix-1)*\u0394X for ix=1:NX]'\n",
      "global const potcav = initpotcav(DEF_X_POS, DEF_Y_POS, GV);"
     ],
     "language": "python",
     "metadata": {},
     "outputs": [],
     "prompt_number": 6
    },
    {
     "cell_type": "code",
     "collapsed": false,
     "input": [
      "function initpump(x, y, ampl, width, kp)\n",
      "    r = sqrt(x .^ 2 .+ y .^ 2)\n",
      "    #top hat pump\n",
      "    0.5 * ampl / CNORM * \n",
      "    (tanh(1/10*(r .+ width)) - tanh(1/10*(r .- width))) .* exp(im*(kp*x .+ zero(kp)*y))\n",
      "end\n",
      "global const pumpspc = initpump(SX, SY, F_P, SIGMA_P, K_P);"
     ],
     "language": "python",
     "metadata": {},
     "outputs": [],
     "prompt_number": 7
    },
    {
     "cell_type": "code",
     "collapsed": false,
     "input": [
      "function fftfreq(n::Int64, d::Float64)\n",
      "    N = fld(n-1,2)\n",
      "    p1 = [0:N]\n",
      "    p2 = [-fld(n,2):-1]\n",
      "    return [p1, p2]/(d*n)\n",
      "end"
     ],
     "language": "python",
     "metadata": {},
     "outputs": [
      {
       "metadata": {},
       "output_type": "pyout",
       "prompt_number": 8,
       "text": [
        "fftfreq (generic function with 1 method)"
       ]
      }
     ],
     "prompt_number": 8
    },
    {
     "cell_type": "code",
     "collapsed": false,
     "input": [
      "global const MOMY = fftfreq(NY, \u0394Y/2pi)\n",
      "global const MOMX = fftfreq(NX, \u0394X/2pi)';"
     ],
     "language": "python",
     "metadata": {},
     "outputs": [],
     "prompt_number": 9
    },
    {
     "cell_type": "code",
     "collapsed": false,
     "input": [
      "setkin(kx, ky) = kx .^ 2 .+ ky .^ 2\n",
      "global const kinetic = setkin(MOMX, MOMY);"
     ],
     "language": "python",
     "metadata": {},
     "outputs": [],
     "prompt_number": 10
    },
    {
     "cell_type": "code",
     "collapsed": false,
     "input": [
      "global const \u03c9p = OMEGA_P\n",
      "global const \u03b4 = DELTA\n",
      "global const \u03bac = KAPPA_C\n",
      "global const \u03bax = KAPPA_X\n",
      "global const potc = potcav\n",
      "global const pmpspc = pumpspc\n",
      "global const kin = kinetic;"
     ],
     "language": "python",
     "metadata": {},
     "outputs": [],
     "prompt_number": 11
    },
    {
     "cell_type": "code",
     "collapsed": false,
     "input": [
      "# define RHSs of differential equations\n",
      "#global constants: \u03c9p, \u03b4, \u03bac, \u03bax, potc, pmpspc, kin\n",
      "function rhs!(d\u03c8::Vector{Wavefunction{Complex{Float64}}}, t::Float64, \u03c8::Vector{Wavefunction{Complex{Float64}}})\n",
      "    #generate the energy dependence of the pump\n",
      "    pump = pmpspc*exp(-im*\u03c9p*t)\n",
      "\n",
      "    #right hand side of the equation of motion\n",
      "    #photon part\n",
      "    d\u03c8[1].c = -im*pump - im*\u03c8[1].x - (im*\u03b4 + \u03bac)*\u03c8[1].c\n",
      "    #add a potential to the photon part\n",
      "    d\u03c8[1].c += im*potc .* \u03c8[1].c\n",
      "    #adding the kinetic energy by means of the FFT\n",
      "    d\u03c8[1].c -= im*ifft(kin .* fft(\u03c8[1].c))\n",
      "    #exciton part\n",
      "    d\u03c8[1].x = -im*\u03c8[1].c -\u03bax*\u03c8[1].x - im*abs2(\u03c8[1].x) .* \u03c8[1].x/(\u0394X*\u0394Y) \n",
      "end"
     ],
     "language": "python",
     "metadata": {},
     "outputs": [
      {
       "metadata": {},
       "output_type": "pyout",
       "prompt_number": 12,
       "text": [
        "rhs! (generic function with 1 method)"
       ]
      }
     ],
     "prompt_number": 12
    },
    {
     "cell_type": "code",
     "collapsed": false,
     "input": [
      "# inital conditons\n",
      "\u03c80 = Wavefunction{Complex{Float64}}(zeros(NY, NX), zeros(NY, NX));"
     ],
     "language": "python",
     "metadata": {},
     "outputs": [],
     "prompt_number": 13
    },
    {
     "cell_type": "code",
     "collapsed": false,
     "input": [
      "include(\"dop853.jl\")"
     ],
     "language": "python",
     "metadata": {},
     "outputs": [
      {
       "metadata": {},
       "output_type": "pyout",
       "prompt_number": 14,
       "text": [
        "dopcore (generic function with 1 method)"
       ]
      }
     ],
     "prompt_number": 14
    },
    {
     "cell_type": "code",
     "collapsed": false,
     "input": [
      "# solve ODEs\n",
      "\u03c8out = dop853(rhs!, [\u03c80], [0., TOT_H]);"
     ],
     "language": "python",
     "metadata": {},
     "outputs": [
      {
       "output_type": "stream",
       "stream": "stdout",
       "text": [
        "error is 4.618681960400186e-16\n"
       ]
      },
      {
       "output_type": "stream",
       "stream": "stdout",
       "text": [
        "1.0e-7\n",
        "error is 0.38225513143557943\n",
        "7.0e-7\n",
        "error is 0.33204216824243316"
       ]
      },
      {
       "output_type": "stream",
       "stream": "stdout",
       "text": [
        "\n",
        "1.3089751825954265e-6\n",
        "error is 0.3640554283329191\n",
        "1.9380364543406853e-6\n",
        "error is 497452.8454736598"
       ]
      },
      {
       "output_type": "stream",
       "stream": "stdout",
       "text": [
        "\n",
        "error is 497452.84547365975\n",
        "error is 497452.84547825076"
       ]
      },
      {
       "output_type": "stream",
       "stream": "stdout",
       "text": [
        "\n",
        "error is 40532.137252847424\n",
        "error is 1110.537433783002"
       ]
      },
      {
       "output_type": "stream",
       "stream": "stdout",
       "text": [
        "\n",
        "error is 109.66732021436111\n",
        "error is 32.059189642897934"
       ]
      },
      {
       "output_type": "stream",
       "stream": "stdout",
       "text": [
        "\n",
        "error is 15.48517848238827\n",
        "error is 9.247649763283404"
       ]
      },
      {
       "output_type": "stream",
       "stream": "stdout",
       "text": [
        "\n",
        "error is 6.137811908468916\n",
        "error is 4.353080430993174"
       ]
      },
      {
       "output_type": "stream",
       "stream": "stdout",
       "text": [
        "\n",
        "error is 3.242330004516947\n",
        "error is 2.5122127991550536"
       ]
      },
      {
       "output_type": "stream",
       "stream": "stdout",
       "text": [
        "\n",
        "error is 2.0120837050327767\n",
        "error is 1.6579045570254607"
       ]
      },
      {
       "output_type": "stream",
       "stream": "stdout",
       "text": [
        "\n",
        "error is 1.4000057090420008\n",
        "error is 1.207706054968468"
       ]
      },
      {
       "output_type": "stream",
       "stream": "stdout",
       "text": [
        "\n",
        "error is 1.0613595722057356\n",
        "error is 0.9479955030717152"
       ]
      },
      {
       "output_type": "stream",
       "stream": "stdout",
       "text": [
        "\n",
        "1.938095905781135e-6\n",
        "error is NaN\n",
        "error is NaN"
       ]
      },
      {
       "output_type": "stream",
       "stream": "stdout",
       "text": [
        "\n",
        "error is NaN\n",
        "error is NaN"
       ]
      },
      {
       "output_type": "stream",
       "stream": "stdout",
       "text": [
        "\n",
        "error is NaN\n",
        "error is NaN"
       ]
      },
      {
       "output_type": "stream",
       "stream": "stdout",
       "text": [
        "\n",
        "error is NaN\n",
        "error is NaN"
       ]
      },
      {
       "output_type": "stream",
       "stream": "stdout",
       "text": [
        "\n",
        "error is NaN\n",
        "error is NaN"
       ]
      },
      {
       "output_type": "stream",
       "stream": "stdout",
       "text": [
        "\n",
        "error is NaN\n",
        "error is NaN"
       ]
      },
      {
       "output_type": "stream",
       "stream": "stdout",
       "text": [
        "\n",
        "error is NaN\n",
        "error is NaN"
       ]
      },
      {
       "output_type": "stream",
       "stream": "stdout",
       "text": [
        "\n",
        "error is NaN\n",
        "error is NaN"
       ]
      },
      {
       "output_type": "stream",
       "stream": "stdout",
       "text": [
        "\n",
        "error is NaN\n",
        "error is NaN"
       ]
      },
      {
       "output_type": "stream",
       "stream": "stdout",
       "text": [
        "\n",
        "error is NaN\n",
        "error is NaN"
       ]
      },
      {
       "output_type": "stream",
       "stream": "stdout",
       "text": [
        "\n",
        "error is NaN\n",
        "error is NaN"
       ]
      },
      {
       "output_type": "stream",
       "stream": "stdout",
       "text": [
        "\n"
       ]
      },
      {
       "ename": "LoadError",
       "evalue": "Exit at x=1.938095905781135e-6. Step size too small, h=1.6791026364406036e-21.\nwhile loading In[15], in expression starting on line 2",
       "output_type": "pyerr",
       "traceback": [
        "Exit at x=1.938095905781135e-6. Step size too small, h=1.6791026364406036e-21.\nwhile loading In[15], in expression starting on line 2",
        " in error at error.jl:21",
        " in dop853 at /home/berceanu/notebooks/dop853.jl:118"
       ]
      }
     ],
     "prompt_number": 15
    },
    {
     "cell_type": "code",
     "collapsed": false,
     "input": [],
     "language": "python",
     "metadata": {},
     "outputs": [],
     "prompt_number": 16
    }
   ],
   "metadata": {}
  }
 ]
}