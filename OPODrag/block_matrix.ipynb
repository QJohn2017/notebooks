{
 "metadata": {
  "name": "",
  "signature": "sha256:171271435f4a2bdf53790139bcf6e80d222fb5af15d534d48e0ccef4d9d46ff3"
 },
 "nbformat": 3,
 "nbformat_minor": 0,
 "worksheets": [
  {
   "cells": [
    {
     "cell_type": "markdown",
     "metadata": {},
     "source": [
      "We have the 6x6 block-matrix $\\mathcal{L}$:"
     ]
    },
    {
     "cell_type": "markdown",
     "metadata": {},
     "source": [
      "\\begin{equation}\n",
      "\\mathcal{L}(k) =\n",
      "\\begin{pmatrix}\n",
      "M(k) & Q(k) \\\\\n",
      "-Q^*(-k) & -M^*(-k) \n",
      "\\end{pmatrix}\n",
      "\\end{equation} "
     ]
    },
    {
     "cell_type": "markdown",
     "metadata": {},
     "source": [
      "composed of the 3x3 blocks $M$ and $Q$, whose elements are"
     ]
    },
    {
     "cell_type": "markdown",
     "metadata": {},
     "source": [
      "$$M_{mn}(k)=\\left[\\epsilon\\left(k_{m}+k\\right)-\\omega_{m}-i\\frac{\\gamma\\left(k_{m}+k\\right)}{2}\\right]\\delta_{m,n}+2X(k_{n}+k)X^{*}(k_{m}+k)\\sum_{q,t=1}^{3}\\delta_{m+q,n+t}\\tilde{A}_{q}^{*}\\tilde{A}_{t}$$"
     ]
    },
    {
     "cell_type": "markdown",
     "metadata": {},
     "source": [
      "$$Q_{mn}(k)=X^{*}(k_{m}+k)X^{*}(k_{n}-k)\\sum_{q,t=1}^{3}\\delta_{m+n,q+t}\\tilde{A}_{q}\\tilde{A}_{t}$$"
     ]
    },
    {
     "cell_type": "markdown",
     "metadata": {},
     "source": [
      "with $\\tilde{A}_{1}=\\tilde{S}$, $\\tilde{A}_{2}=\\tilde{P}$ and $\\tilde{A}_{3}=\\tilde{I}$."
     ]
    },
    {
     "cell_type": "code",
     "collapsed": false,
     "input": [],
     "language": "python",
     "metadata": {},
     "outputs": []
    }
   ],
   "metadata": {}
  }
 ]
}