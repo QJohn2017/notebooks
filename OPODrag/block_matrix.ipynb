{
 "metadata": {
  "name": "",
  "signature": "sha256:d92bff315de5a576816aedbc0ba88825f40545cb1a3bb51b12673e98834e22b1"
 },
 "nbformat": 3,
 "nbformat_minor": 0,
 "worksheets": [
  {
   "cells": [
    {
     "cell_type": "markdown",
     "metadata": {},
     "source": [
      "We have the 6x6 block-matrix $\\mathcal{L}$:"
     ]
    },
    {
     "cell_type": "markdown",
     "metadata": {},
     "source": [
      "\\begin{equation}\n",
      "\\mathcal{L}(k) =\n",
      "\\begin{pmatrix}\n",
      "M(k) & Q(k) \\\\\n",
      "-Q^*(-k) & -M^*(-k) \n",
      "\\end{pmatrix}\n",
      "\\end{equation} "
     ]
    },
    {
     "cell_type": "markdown",
     "metadata": {},
     "source": [
      "composed of the 3x3 blocks $M$ and $Q$, whose elements are"
     ]
    },
    {
     "cell_type": "markdown",
     "metadata": {},
     "source": [
      "$$M_{mn}(k)=\\left[\\epsilon\\left(k_{m}+k\\right)-\\omega_{m}-i\\frac{\\gamma\\left(k_{m}+k\\right)}{2}\\right]\\delta_{m,n}+2X(k_{n}+k)X^{*}(k_{m}+k)\\sum_{q,t=1}^{3}\\delta_{m+q,n+t}\\tilde{A}_{q}^{*}\\tilde{A}_{t}$$"
     ]
    },
    {
     "cell_type": "markdown",
     "metadata": {},
     "source": [
      "$$Q_{mn}(k)=X^{*}(k_{m}+k)X^{*}(k_{n}-k)\\sum_{q,t=1}^{3}\\delta_{m+n,q+t}\\tilde{A}_{q}\\tilde{A}_{t}$$"
     ]
    },
    {
     "cell_type": "markdown",
     "metadata": {},
     "source": [
      "with constants "
     ]
    },
    {
     "cell_type": "markdown",
     "metadata": {},
     "source": [
      "$\\tilde{A}_{1}=\\tilde{S}$, $\\tilde{A}_{2}=\\tilde{P}$ and $\\tilde{A}_{3}=\\tilde{I}$."
     ]
    },
    {
     "cell_type": "markdown",
     "metadata": {},
     "source": [
      "$k_1 = k_s, k_2 = k_p, k_3 = k_i$"
     ]
    },
    {
     "cell_type": "markdown",
     "metadata": {},
     "source": [
      "$\\omega_1 = \\omega_s, \\omega_2 = \\omega_p, \\omega_3= \\omega_i$"
     ]
    }
   ],
   "metadata": {}
  }
 ]
}