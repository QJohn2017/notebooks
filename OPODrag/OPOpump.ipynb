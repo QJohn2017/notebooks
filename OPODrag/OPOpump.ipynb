{
 "metadata": {
  "name": "",
  "signature": "sha256:2476ddaeb36f1a072259a1f5400681dd9e2d0598e19317ca678663567cd3a82d"
 },
 "nbformat": 3,
 "nbformat_minor": 0,
 "worksheets": [
  {
   "cells": [
    {
     "cell_type": "code",
     "collapsed": false,
     "input": [
      "import numpy as np\n",
      "from scipy import optimize\n",
      "import ConfigParser"
     ],
     "language": "python",
     "metadata": {},
     "outputs": [],
     "prompt_number": 1
    },
    {
     "cell_type": "code",
     "collapsed": false,
     "input": [
      "import matplotlib.cm as cm"
     ],
     "language": "python",
     "metadata": {},
     "outputs": [],
     "prompt_number": 2
    },
    {
     "cell_type": "code",
     "collapsed": false,
     "input": [
      "def read_parameters(filename):\n",
      "    config = ConfigParser.RawConfigParser()\n",
      "    try:\n",
      "        config.readfp(open(filename))\n",
      "    except IOError:\n",
      "        raise IOError('cannot find parameters.ini, exiting')\n",
      "    return config"
     ],
     "language": "python",
     "metadata": {},
     "outputs": [],
     "prompt_number": 3
    },
    {
     "cell_type": "code",
     "collapsed": false,
     "input": [
      "param = read_parameters(\"/home/berceanu/notebooks/OPODrag/parameters.ini\")\n",
      "param_set = \"ks0.0\""
     ],
     "language": "python",
     "metadata": {},
     "outputs": [],
     "prompt_number": 4
    },
    {
     "cell_type": "code",
     "collapsed": false,
     "input": [
      "omega_X = param.getfloat(param_set, \"omega_X\")\n",
      "omega_C0 = param.getfloat(param_set, \"omega_C0\")\n",
      "kz = param.getfloat(param_set, \"kz\")\n",
      "Omega_R = param.getfloat(param_set, \"Omega_R\")\n",
      "gamma_X = param.getfloat(param_set, \"gamma_X\")\n",
      "gamma_C = param.getfloat(param_set, \"gamma_C\")\n",
      "k_pmpx = param.getfloat(param_set, \"k_pmpx\")\n",
      "k_pmpy = param.getfloat(param_set, \"k_pmpy\")\n",
      "k_sigx = param.getfloat(param_set, \"k_sigx\")\n",
      "k_sigy = param.getfloat(param_set, \"k_sigy\")\n",
      "omega_pmp = param.getfloat(param_set, \"omega_pmp\")\n",
      "ip_chosen = param.getfloat(param_set, \"ip_chosen\")\n",
      "gv = param.getfloat(param_set, \"gv\")"
     ],
     "language": "python",
     "metadata": {},
     "outputs": [],
     "prompt_number": 5
    },
    {
     "cell_type": "code",
     "collapsed": false,
     "input": [
      "nkx = param.getfloat(param_set, \"nkx\")\n",
      "nky = param.getfloat(param_set, \"nky\")\n",
      "ipx_start = param.getfloat(param_set, \"ipx_start\")\n",
      "ipx_end = param.getfloat(param_set, \"ipx_end\")\n",
      "kxl = param.getfloat(param_set, \"kxl\")\n",
      "kxr = param.getfloat(param_set, \"kxr\")\n",
      "kyl = param.getfloat(param_set, \"kyl\")\n",
      "kyr = param.getfloat(param_set, \"kyr\")\n",
      "eigs_threshold = param.getfloat(param_set, \"eigs_threshold\")\n",
      "stride_r = param.getint(param_set, \"stride_r\")\n",
      "stride_c = param.getint(param_set, \"stride_c\")\n",
      "delta_k = param.getfloat(param_set, \"delta_k\")"
     ],
     "language": "python",
     "metadata": {},
     "outputs": [],
     "prompt_number": 6
    },
    {
     "cell_type": "code",
     "collapsed": false,
     "input": [
      "k_idlx = 0.\n",
      "k_idly = 0."
     ],
     "language": "python",
     "metadata": {},
     "outputs": [],
     "prompt_number": 7
    },
    {
     "cell_type": "code",
     "collapsed": false,
     "input": [
      "gp = gamma_C + (1 / np.sqrt(1 + (Omega_R / ((0.5 * ((omega_C0 * np.sqrt(1 + (np.sqrt(k_pmpx ** 2 + k_pmpy ** 2) / kz) ** 2)) + omega_X) - 0.5 * np.sqrt(((omega_C0 * np.sqrt(1 + (np.sqrt(k_pmpx ** 2 + k_pmpy ** 2) / kz) ** 2)) - omega_X) ** 2 + 4 * Omega_R ** 2)) - (omega_C0 * np.sqrt(1 + (np.sqrt(k_pmpx ** 2 + k_pmpy ** 2) / kz) ** 2)))) ** 2)) ** 2 * (gamma_X - gamma_C)\n",
      "omega_p_chosen = (omega_pmp - omega_X) / gp"
     ],
     "language": "python",
     "metadata": {},
     "outputs": [],
     "prompt_number": 8
    },
    {
     "cell_type": "code",
     "collapsed": false,
     "input": [
      "side_k = nkx * delta_k / 2\n",
      "side_r = np.pi / delta_k\n",
      "delta_r = np.pi / side_k"
     ],
     "language": "python",
     "metadata": {},
     "outputs": [],
     "prompt_number": 9
    },
    {
     "cell_type": "code",
     "collapsed": false,
     "input": [
      "x = y = np.arange(-side_r, side_r, delta_r)\n",
      "kx = ky = np.arange(-side_k, side_k, delta_k)"
     ],
     "language": "python",
     "metadata": {},
     "outputs": [],
     "prompt_number": 10
    },
    {
     "cell_type": "code",
     "collapsed": false,
     "input": [
      "KX, KY = np.meshgrid(kx, ky)\n",
      "X, Y = np.meshgrid(x, y)"
     ],
     "language": "python",
     "metadata": {},
     "outputs": [],
     "prompt_number": 11
    },
    {
     "cell_type": "code",
     "collapsed": false,
     "input": [
      "ipx = np.linspace(ipx_start, ipx_end, 30)"
     ],
     "language": "python",
     "metadata": {},
     "outputs": [],
     "prompt_number": 12
    },
    {
     "cell_type": "code",
     "collapsed": false,
     "input": [
      "momentum_spi = np.array([[k_sigx, k_sigy],\n",
      "                         [k_pmpx, k_pmpy],\n",
      "                         [k_idlx, k_idly]])"
     ],
     "language": "python",
     "metadata": {},
     "outputs": [],
     "prompt_number": 13
    },
    {
     "cell_type": "code",
     "collapsed": false,
     "input": [
      "def index_mom(mom):\n",
      "    return int(np.floor((mom + side_k) / delta_k))"
     ],
     "language": "python",
     "metadata": {},
     "outputs": [],
     "prompt_number": 14
    },
    {
     "cell_type": "code",
     "collapsed": false,
     "input": [
      "def enC(kx, ky):\n",
      "    return (omega_C0 * np.sqrt(1 + (np.sqrt(kx ** 2 + ky ** 2) / kz) ** 2)\n",
      "            - omega_X) / gp"
     ],
     "language": "python",
     "metadata": {},
     "outputs": [],
     "prompt_number": 15
    },
    {
     "cell_type": "code",
     "collapsed": false,
     "input": [
      "def enLP(kx, ky):\n",
      "    return 0.5 * enC(kx, ky) - 0.5 * np.sqrt(enC(kx, ky) ** 2\n",
      "                                             + 4 * Omega_R ** 2 / gp ** 2)"
     ],
     "language": "python",
     "metadata": {},
     "outputs": [],
     "prompt_number": 16
    },
    {
     "cell_type": "code",
     "collapsed": false,
     "input": [
      "def hopf_x(kx, ky):\n",
      "    return 1 / np.sqrt(1 + ((Omega_R / gp)\n",
      "                            / (enLP(kx, ky) - enC(kx, ky))) ** 2)"
     ],
     "language": "python",
     "metadata": {},
     "outputs": [],
     "prompt_number": 17
    },
    {
     "cell_type": "code",
     "collapsed": false,
     "input": [
      "def hopf_c(kx, ky):\n",
      "    return -1 / np.sqrt(1 + ((enLP(kx, ky) - enC(kx, ky))\n",
      "                             / (Omega_R / gp)) ** 2)"
     ],
     "language": "python",
     "metadata": {},
     "outputs": [],
     "prompt_number": 18
    },
    {
     "cell_type": "code",
     "collapsed": false,
     "input": [
      "def gamma(kx, ky):\n",
      "    return (gamma_C + hopf_x(kx, ky) ** 2 * (gamma_X - gamma_C)) / gp"
     ],
     "language": "python",
     "metadata": {},
     "outputs": [],
     "prompt_number": 19
    },
    {
     "cell_type": "code",
     "collapsed": false,
     "input": [
      "kxl, kxr = index_mom(kxl), index_mom(kxr)\n",
      "kyl, kyr = index_mom(kyl), index_mom(kyr)"
     ],
     "language": "python",
     "metadata": {},
     "outputs": [],
     "prompt_number": 20
    },
    {
     "cell_type": "code",
     "collapsed": false,
     "input": [
      "es = enLP(k_sigx, k_sigy)\n",
      "ep = enLP(k_pmpx, k_pmpy)\n",
      "ei = enLP(k_idlx, k_idly)"
     ],
     "language": "python",
     "metadata": {},
     "outputs": [],
     "prompt_number": 21
    },
    {
     "cell_type": "code",
     "collapsed": false,
     "input": [
      "gs = gamma(k_sigx, k_sigy)\n",
      "gi = gamma(k_idlx, k_idly)"
     ],
     "language": "python",
     "metadata": {},
     "outputs": [],
     "prompt_number": 22
    },
    {
     "cell_type": "code",
     "collapsed": false,
     "input": [
      "xs = hopf_x(k_sigx, k_sigy)\n",
      "xp = hopf_x(k_pmpx, k_pmpy)\n",
      "xi = hopf_x(k_idlx, k_idly)"
     ],
     "language": "python",
     "metadata": {},
     "outputs": [],
     "prompt_number": 23
    },
    {
     "cell_type": "code",
     "collapsed": false,
     "input": [
      "cs = hopf_c(k_sigx, k_sigy)\n",
      "cp = hopf_c(k_pmpx, k_pmpy)\n",
      "ci = hopf_c(k_idlx, k_idly)"
     ],
     "language": "python",
     "metadata": {},
     "outputs": [],
     "prompt_number": 24
    },
    {
     "cell_type": "code",
     "collapsed": false,
     "input": [
      "def n_hom_mf(ips):\n",
      "    return np.array([optimize.brentq(lambda n: ((ep - omega_p_chosen\n",
      "                                                 + xp ** 2 * n) ** 2 + 1 / 4) * n - xp ** 4 * ip, 0, 3)\n",
      "                     for ip in ips])"
     ],
     "language": "python",
     "metadata": {},
     "outputs": [],
     "prompt_number": 25
    },
    {
     "cell_type": "code",
     "collapsed": false,
     "input": [
      "def L(kx, ky):\n",
      "    return np.array(\n",
      "        [[-omega_s_chosen + enLP(\n",
      "            k_sigx + kx, k_sigy + ky) - 1j * 1 / 2 * gamma(\n",
      "            k_sigx + kx, k_sigy + ky) + 2 * (\n",
      "            ni_chosen + np_chosen + ns_chosen) * hopf_x(\n",
      "            k_sigx + kx, k_sigy + ky) ** 2, 2 * (\n",
      "            p * np.conjugate(\n",
      "                i) + s * np.conjugate(\n",
      "                p)) * hopf_x(\n",
      "            k_pmpx + kx, k_pmpy + ky) * hopf_x(\n",
      "            k_sigx + kx, k_sigy + ky), 2 * s * np.conjugate(\n",
      "            i) * hopf_x(\n",
      "            k_idlx + kx, k_idly + ky) * hopf_x(\n",
      "            k_sigx + kx, k_sigy + ky), s ** 2 * hopf_x(\n",
      "            k_sigx - kx, k_sigy - ky) * hopf_x(\n",
      "            k_sigx + kx, k_sigy + ky), 2 * p * s * hopf_x(\n",
      "            k_pmpx - kx, k_pmpy - ky) * hopf_x(\n",
      "            k_sigx + kx, k_sigy + ky), (\n",
      "            p ** 2 + 2 * i * s) * hopf_x(\n",
      "            k_idlx - kx, k_idly - ky) * hopf_x(\n",
      "            k_sigx + kx, k_sigy + ky)],\n",
      "         [2 * (i * np.conjugate(p) + p * np.conjugate(s)) * hopf_x(k_pmpx + kx, k_pmpy + ky) * hopf_x(k_sigx + kx, k_sigy + ky), -omega_p_chosen + enLP(k_pmpx + kx, k_pmpy + ky) - 1j * 1 / 2 * gamma(k_pmpx + kx, k_pmpy + ky) + 2 * (ni_chosen + np_chosen + ns_chosen) * hopf_x(k_pmpx + kx, k_pmpy + ky) ** 2, 2 * (p * np.conjugate(i) + s * np.conjugate(p))\n",
      "          * hopf_x(\n",
      "              k_idlx + kx, k_idly + ky) * hopf_x(\n",
      "              k_pmpx + kx, k_pmpy + ky), 2 * p * s * hopf_x(\n",
      "              k_sigx - kx, k_sigy - ky) * hopf_x(\n",
      "              k_pmpx + kx, k_pmpy + ky), (\n",
      "              p ** 2 + 2 * i * s) * hopf_x(\n",
      "              k_pmpx - kx, k_pmpy - ky) * hopf_x(\n",
      "              k_pmpx + kx, k_pmpy + ky), 2 * i * p * hopf_x(\n",
      "              k_idlx - kx, k_idly - ky) * hopf_x(\n",
      "              k_pmpx + kx, k_pmpy + ky)],\n",
      "         [2 * i * np.conjugate(s) * hopf_x(k_idlx + kx, k_idly + ky) * hopf_x(k_sigx + kx, k_sigy + ky), 2 * (i * np.conjugate(p) + p * np.conjugate(s)) * hopf_x(k_idlx + kx, k_idly + ky) * hopf_x(k_pmpx + kx, k_pmpy + ky), -omega_i_chosen + enLP(k_idlx + kx, k_idly + ky) - 1j * 1 / 2 * gamma(k_idlx + kx, k_idly + ky) + 2 *\n",
      "          (ni_chosen + np_chosen + ns_chosen) * hopf_x(k_idlx + kx, k_idly + ky) ** 2, (p ** 2 + 2 * i * s) * hopf_x(k_sigx - kx, k_sigy - ky) * hopf_x(k_idlx + kx, k_idly + ky), 2 * i * p * hopf_x(k_pmpx - kx, k_pmpy - ky) * hopf_x(k_idlx + kx, k_idly + ky), i ** 2 * hopf_x(k_idlx - kx, k_idly - ky) * hopf_x(k_idlx + kx, k_idly + ky)],\n",
      "         [-(np.conjugate(s) ** 2 * hopf_x(k_sigx - kx, k_sigy - ky) * hopf_x(k_sigx + kx, k_sigy + ky)), -2 * np.conjugate(p) * np.conjugate(s) * hopf_x(k_sigx - kx, k_sigy - ky) * hopf_x(k_pmpx + kx, k_pmpy + ky), -((np.conjugate(p) ** 2 + 2 * np.conjugate(i) * np.conjugate(s)) * hopf_x(k_sigx - kx, k_sigy - ky) * hopf_x(k_idlx + kx, k_idly + ky)), omega_s_chosen -\n",
      "          enLP(\n",
      "              k_sigx - kx, k_sigy - ky) - 1j * 1 / 2 * gamma(\n",
      "              k_sigx - kx, k_sigy - ky) - 2 * (\n",
      "              ni_chosen + np_chosen + ns_chosen) * hopf_x(\n",
      "              k_sigx - kx, k_sigy - ky) ** 2, -2 * (\n",
      "              i * np.conjugate(\n",
      "                  p) + p * np.conjugate(\n",
      "                  s)) * hopf_x(\n",
      "              k_pmpx - kx, k_pmpy - ky) * hopf_x(\n",
      "              k_sigx - kx, k_sigy - ky), -2 * i * np.conjugate(\n",
      "              s) * hopf_x(\n",
      "              k_idlx - kx, k_idly - ky) * hopf_x(\n",
      "              k_sigx - kx, k_sigy - ky)],\n",
      "         [-2 * np.conjugate(p) * np.conjugate(s) * hopf_x(k_pmpx - kx, k_pmpy - ky) * hopf_x(k_sigx + kx, k_sigy + ky), -((np.conjugate(p) ** 2 + 2 * np.conjugate(i) * np.conjugate(s)) * hopf_x(k_pmpx - kx, k_pmpy - ky) * hopf_x(k_pmpx + kx, k_pmpy + ky)), -2 * np.conjugate(i) * np.conjugate(p) * hopf_x(k_pmpx - kx, k_pmpy - ky) * hopf_x(k_idlx + kx, k_idly + ky), -2 * (p * np.conjugate(i) + s * np.conjugate(p))\n",
      "          * hopf_x(\n",
      "              k_pmpx - kx, k_pmpy - ky) * hopf_x(\n",
      "              k_sigx - kx, k_sigy - ky), omega_p_chosen - enLP(\n",
      "              k_pmpx - kx, k_pmpy - ky) - 1j * 1 / 2 * gamma(\n",
      "              k_pmpx - kx, k_pmpy - ky) - 2 * (\n",
      "              ni_chosen + np_chosen + ns_chosen) * hopf_x(\n",
      "              k_pmpx - kx, k_pmpy - ky) ** 2, -2 * (\n",
      "              i * np.conjugate(\n",
      "                  p) + p * np.conjugate(\n",
      "                  s)) * hopf_x(\n",
      "              k_idlx - kx, k_idly - ky) * hopf_x(\n",
      "              k_pmpx - kx, k_pmpy - ky)],\n",
      "         [-((np.conjugate(p) ** 2 + 2 * np.conjugate(i) * np.conjugate(s)) * hopf_x(k_idlx - kx, k_idly - ky) * hopf_x(k_sigx + kx, k_sigy + ky)), -2 * np.conjugate(i) * np.conjugate(p) * hopf_x(k_idlx - kx, k_idly - ky) * hopf_x(k_pmpx + kx, k_pmpy + ky), -(np.conjugate(i) ** 2 * hopf_x(k_idlx - kx, k_idly - ky) * hopf_x(k_idlx + kx, k_idly + ky)), -2 * s * np.conjugate(i) * hopf_x(k_idlx - kx, k_idly - ky) * hopf_x(k_sigx - kx, k_sigy - ky), -2 * (p * np.conjugate(i) + s * np.conjugate(p)) * hopf_x(k_idlx - kx, k_idly - ky) * hopf_x(k_pmpx - kx, k_pmpy - ky), omega_i_chosen - enLP(k_idlx - kx, k_idly - ky) - 1j * 1 / 2 * gamma(k_idlx - kx, k_idly - ky) - 2 * (ni_chosen + np_chosen + ns_chosen) * hopf_x(k_idlx - kx, k_idly - ky) ** 2]])"
     ],
     "language": "python",
     "metadata": {},
     "outputs": [],
     "prompt_number": 26
    },
    {
     "cell_type": "code",
     "collapsed": false,
     "input": [
      "def L_mats(K_X, K_Y, n_kx, n_ky):\n",
      "    mats = L(K_X, K_Y)\n",
      "    new_mats = np.transpose(mats, (2, 3, 0, 1))\n",
      "    new_mats.shape = (n_kx * n_ky, 6, 6)\n",
      "    return new_mats"
     ],
     "language": "python",
     "metadata": {},
     "outputs": [],
     "prompt_number": 27
    },
    {
     "cell_type": "code",
     "collapsed": false,
     "input": [
      "def eigL_mats(mats, n_kx, n_ky):\n",
      "    res = np.linalg.eigvals(mats)\n",
      "    res.shape = (n_ky, n_kx, 6)\n",
      "    return res"
     ],
     "language": "python",
     "metadata": {},
     "outputs": [],
     "prompt_number": 28
    },
    {
     "cell_type": "code",
     "collapsed": false,
     "input": [
      "def fd(kx, ky):\n",
      "    return np.array([cs / xs * hopf_c(kx + k_sigx, ky + k_sigy) * s,\n",
      "                     cp / xp * hopf_c(kx + k_pmpx, ky + k_pmpy) * p,\n",
      "                     ci / xi * hopf_c(kx + k_idlx, ky + k_idly) * i,\n",
      "                    -cs / xs * hopf_c(k_sigx - kx, k_sigy - ky) *\n",
      "                     np.conjugate(s),\n",
      "                    -cp / xp * hopf_c(k_pmpx - kx, k_pmpy - ky) *\n",
      "                     np.conjugate(p),\n",
      "                    -ci / xi * hopf_c(k_idlx - kx, k_idly - ky)\n",
      "                    * np.conjugate(i)])"
     ],
     "language": "python",
     "metadata": {},
     "outputs": [],
     "prompt_number": 29
    },
    {
     "cell_type": "code",
     "collapsed": false,
     "input": [
      "def fd_mats(K_X, K_Y, n_kx, n_ky):\n",
      "    res = fd(K_X, K_Y)\n",
      "    new_res = np.transpose(res, (1, 2, 0))\n",
      "    new_res.shape = (n_kx * n_ky, 6)\n",
      "    return new_res"
     ],
     "language": "python",
     "metadata": {},
     "outputs": [],
     "prompt_number": 30
    },
    {
     "cell_type": "code",
     "collapsed": false,
     "input": [
      "def bog_coef_mats(mats, fds, n_kx, n_ky):\n",
      "    res = np.linalg.solve(mats, -fds)\n",
      "    res.shape = (n_ky, n_kx, 6)\n",
      "    return res"
     ],
     "language": "python",
     "metadata": {},
     "outputs": [],
     "prompt_number": 31
    },
    {
     "cell_type": "code",
     "collapsed": false,
     "input": [
      "marker_spi = ['^', 'o', 'v']"
     ],
     "language": "python",
     "metadata": {},
     "outputs": [],
     "prompt_number": 32
    },
    {
     "cell_type": "code",
     "collapsed": false,
     "input": [
      "color_spi = ['blue','red','green']"
     ],
     "language": "python",
     "metadata": {},
     "outputs": [],
     "prompt_number": 33
    },
    {
     "cell_type": "code",
     "collapsed": false,
     "input": [
      "fig, ax = plt.subplots()\n",
      "\n",
      "ax.plot(ipx, n_hom_mf(ipx), color='black')\n",
      "\n",
      "ax.axvline(x=ip_chosen,color='k',ls='dashed')\n",
      "\n",
      "ax.set_xlim(ipx[0], ipx[-1])\n",
      "ax.set_xlabel(r'$I_p [\\gamma_p^3]$')\n",
      "ax.set_ylabel(r'$n_p [\\gamma_p]$')"
     ],
     "language": "python",
     "metadata": {},
     "outputs": [
      {
       "metadata": {},
       "output_type": "pyout",
       "prompt_number": 34,
       "text": [
        "<matplotlib.text.Text at 0x7f85e9641810>"
       ]
      },
      {
       "metadata": {},
       "output_type": "display_data",
       "png": "[encoded data removed]",
       "text": [
        "<matplotlib.figure.Figure at 0x7f85e970d610>"
       ]
      }
     ],
     "prompt_number": 34
    },
    {
     "cell_type": "code",
     "collapsed": false,
     "input": [
      "n_hom_mf([6.5])"
     ],
     "language": "python",
     "metadata": {},
     "outputs": [
      {
       "metadata": {},
       "output_type": "pyout",
       "prompt_number": 54,
       "text": [
        "array([ 1.10478321])"
       ]
      }
     ],
     "prompt_number": 54
    },
    {
     "cell_type": "code",
     "collapsed": false,
     "input": [
      "((ep - omega_p_chosen + xp ** 2 * n) ** 2 + 1 / 4) * n - xp ** 4 * ip"
     ],
     "language": "python",
     "metadata": {},
     "outputs": []
    },
    {
     "cell_type": "code",
     "collapsed": false,
     "input": [
      "omega_s_chosen = 0.\n",
      "omega_i_chosen = 0.\n",
      "ns_chosen = 0.\n",
      "ni_chosen = 0."
     ],
     "language": "python",
     "metadata": {},
     "outputs": [],
     "prompt_number": 35
    },
    {
     "cell_type": "code",
     "collapsed": false,
     "input": [
      "np_chosen = n_hom_mf([6.5, 16])[0]"
     ],
     "language": "python",
     "metadata": {},
     "outputs": [],
     "prompt_number": 36
    },
    {
     "cell_type": "code",
     "collapsed": false,
     "input": [
      "energy_spi = [omega_s_chosen, omega_p_chosen, omega_i_chosen]"
     ],
     "language": "python",
     "metadata": {},
     "outputs": [],
     "prompt_number": 37
    },
    {
     "cell_type": "code",
     "collapsed": false,
     "input": [
      "p = np.sqrt(np_chosen)"
     ],
     "language": "python",
     "metadata": {},
     "outputs": [],
     "prompt_number": 38
    },
    {
     "cell_type": "code",
     "collapsed": false,
     "input": [
      "pr = p.real\n",
      "pi = p.imag"
     ],
     "language": "python",
     "metadata": {},
     "outputs": [],
     "prompt_number": 39
    },
    {
     "cell_type": "code",
     "collapsed": false,
     "input": [
      "s = 0.\n",
      "i = 0."
     ],
     "language": "python",
     "metadata": {},
     "outputs": [],
     "prompt_number": 40
    },
    {
     "cell_type": "code",
     "collapsed": false,
     "input": [
      "LP = enLP(KX, KY)\n",
      "G = gamma(KX, KY) / 2"
     ],
     "language": "python",
     "metadata": {},
     "outputs": [],
     "prompt_number": 41
    },
    {
     "cell_type": "code",
     "collapsed": false,
     "input": [
      "#various plotting parameters\n",
      "x_label_k = r'$k_x[\\mu m^{-1}]$'\n",
      "y_label_k = r'$k_y[\\mu m^{-1}]$'\n",
      "x_label_i = r'$x[\\mu m]$'\n",
      "y_label_i = r'$y[\\mu m]$'"
     ],
     "language": "python",
     "metadata": {},
     "outputs": [],
     "prompt_number": 42
    },
    {
     "cell_type": "code",
     "collapsed": false,
     "input": [
      "fig, ax = plt.subplots()\n",
      "\n",
      "ax.plot(KX[nky/2,kxl:kxr], LP[nky/2,kxl:kxr], 'k-.')\n",
      "ax.fill_between(KX[nky/2,kxl:kxr], LP[nky/2,kxl:kxr] - G[nky/2,kxl:kxr]/2,\\\n",
      "                LP[nky/2,kxl:kxr] + G[nky/2,kxl:kxr]/2, color='0.75', alpha=0.5)\n",
      "\n",
      "ax.axhline(y=ep + 0.5 * np.sqrt(3), color='r', ls='dashed')\n",
      "\n",
      "for idx in range(3):\n",
      "    ax.scatter(momentum_spi[idx,0], energy_spi[idx], c=color_spi[idx])\n",
      "\n",
      "ax.set_title('bare LP dispersion')\n",
      "ax.set_xlim(-2., 2.)\n",
      "ax.set_xlabel(x_label_k)\n",
      "ax.set_ylabel(r'$\\epsilon-\\omega_X[\\gamma_p]$')"
     ],
     "language": "python",
     "metadata": {},
     "outputs": [
      {
       "metadata": {},
       "output_type": "pyout",
       "prompt_number": 43,
       "text": [
        "<matplotlib.text.Text at 0x7f85e958ab90>"
       ]
      },
      {
       "metadata": {},
       "output_type": "display_data",
       "png": "[encoded data removed]",
       "text": [
        "<matplotlib.figure.Figure at 0x7f85e956c250>"
       ]
      }
     ],
     "prompt_number": 43
    },
    {
     "cell_type": "code",
     "collapsed": false,
     "input": [
      "matsL = L_mats(KX, KY, nkx, nky)\n",
      "eigs = eigL_mats(matsL,nkx,nky)\n",
      "vectfd = fd_mats(KX, KY, nkx, nky)\n",
      "bcoef = bog_coef_mats(matsL, vectfd, nkx, nky)"
     ],
     "language": "python",
     "metadata": {},
     "outputs": [],
     "prompt_number": 44
    },
    {
     "cell_type": "code",
     "collapsed": false,
     "input": [
      "matsL_min = -np.fft.fftshift(matsL, axes=(1, 2))\n",
      "vectfd_min = -np.fft.fftshift(vectfd, axes=(1,))\n",
      "bcoef_conj_mink = bog_coef_mats(matsL_min, vectfd_min, nkx, nky)"
     ],
     "language": "python",
     "metadata": {},
     "outputs": [],
     "prompt_number": 45
    },
    {
     "cell_type": "code",
     "collapsed": false,
     "input": [
      "psi_k = gv / 2 * (bcoef[:, :, 0:3] + bcoef_conj_mink[:, :, 3:6])"
     ],
     "language": "python",
     "metadata": {},
     "outputs": [],
     "prompt_number": 46
    },
    {
     "cell_type": "code",
     "collapsed": false,
     "input": [
      "psi_k[nky / 2, nkx / 2, :] += np.sqrt(nkx * nky) * \\\n",
      "    np.array([s / xs, p / xp, i / xi])"
     ],
     "language": "python",
     "metadata": {},
     "outputs": [],
     "prompt_number": 47
    },
    {
     "cell_type": "code",
     "collapsed": false,
     "input": [
      "res_k = np.log10(np.abs(psi_k)**2) #logscale"
     ],
     "language": "python",
     "metadata": {},
     "outputs": [
      {
       "output_type": "stream",
       "stream": "stderr",
       "text": [
        "-c:1: RuntimeWarning: divide by zero encountered in log10\n"
       ]
      }
     ],
     "prompt_number": 48
    },
    {
     "cell_type": "code",
     "collapsed": false,
     "input": [
      "psi_r = np.fft.fftshift(\n",
      "    np.fft.ifft2(np.sqrt(nkx * nky) * psi_k, axes=(0, 1)), axes=(0, 1))\n",
      "res_r = np.abs(psi_r) ** 2 / \\\n",
      "    np.array([ns_chosen / xs ** 2, np_chosen / xp ** 2, ni_chosen / xi ** 2])"
     ],
     "language": "python",
     "metadata": {},
     "outputs": [
      {
       "output_type": "stream",
       "stream": "stderr",
       "text": [
        "-c:3: RuntimeWarning: invalid value encountered in divide\n"
       ]
      }
     ],
     "prompt_number": 49
    },
    {
     "cell_type": "code",
     "collapsed": false,
     "input": [
      "fig, axes = plt.subplots(2,1, figsize=(8,6))\n",
      "\n",
      "for idx in range(6):\n",
      "    axes[0].plot(KX[nky/2,kxl:kxr], eigs[nky/2,kxl:kxr,idx].imag, linestyle='none',\\\n",
      "                 marker='o', markerfacecolor='black', markersize=4)\n",
      "    axes[1].plot(KX[nky/2,kxl:kxr], eigs[nky/2,kxl:kxr,idx].real, linestyle='none',\\\n",
      "                 marker='o', markerfacecolor='black', markersize=4)\n",
      "    \n",
      "for ax in [0,1]:\n",
      "    axes[ax].axhline(y=0, color='black', ls='dashed')\n",
      "    axes[ax].axvline(x=0, color='black', ls='dashed')\n",
      "\n",
      "axes[0].set_ylabel(r'$\\Im{(\\omega)}[\\gamma_p]$')\n",
      "axes[1].set_xlabel(x_label_k)\n",
      "axes[0].set_xlim(-2, 2)\n",
      "#axes[1].set_xlim(kl, kr)\n",
      "axes[1].set_xlim(-2, 2)\n",
      "#axes[1].set_ylim(-10, 10)\n",
      "axes[1].set_ylabel(r'$\\Re{(\\omega)}[\\gamma_p]$')"
     ],
     "language": "python",
     "metadata": {},
     "outputs": [
      {
       "metadata": {},
       "output_type": "pyout",
       "prompt_number": 50,
       "text": [
        "<matplotlib.text.Text at 0x7f85e941eed0>"
       ]
      },
      {
       "metadata": {},
       "output_type": "display_data",
       "png": "[encoded data removed]",
       "text": [
        "<matplotlib.figure.Figure at 0x7f85e94a5690>"
       ]
      }
     ],
     "prompt_number": 50
    },
    {
     "cell_type": "code",
     "collapsed": false,
     "input": [
      "letter_spi = ['s', 'p', 'i']\n",
      "title_k = []\n",
      "for idx in range(3):\n",
      "    title_k.append( r'$g \\left|\\tilde{\\Psi}_{LP}^{' + letter_spi[idx] + r'}\\left(k+k_{' + letter_spi[idx] + \\\n",
      "                     r'}\\right)\\right|^{2} [\\gamma_p \\mu m^4]$' )\n",
      "title_i = []\n",
      "for idx in range(3):\n",
      "    title_i.append( r'$I^' + letter_spi[idx] + r'$' )"
     ],
     "language": "python",
     "metadata": {},
     "outputs": [],
     "prompt_number": 51
    },
    {
     "cell_type": "code",
     "collapsed": false,
     "input": [
      "fig, axes = plt.subplots(1,3, figsize=(14,14))\n",
      "\n",
      "for idx in range(3):\n",
      "    axes[idx].imshow(np.clip(res_k[kxl:kxr,kxl:kxr,idx],-6, 2),\\\n",
      "                     cmap=cm.gray, origin=None, extent=[kx[kxl], kx[kxr], ky[kxl], ky[kxr]])\n",
      "    axes[idx].set_title(title_k[idx])\n",
      "\n",
      "axes[0].set_ylabel(y_label_k)    \n",
      "for ax in range(3):\n",
      "    axes[ax].set_xlabel(x_label_k)"
     ],
     "language": "python",
     "metadata": {},
     "outputs": [
      {
       "metadata": {},
       "output_type": "display_data",
       "png": "[encoded data removed]",
       "text": [
        "<matplotlib.figure.Figure at 0x7f85e96cb110>"
       ]
      }
     ],
     "prompt_number": 52
    },
    {
     "cell_type": "code",
     "collapsed": false,
     "input": [
      "fig, axes = plt.subplots(1,3, figsize=(24,24))\n",
      "\n",
      "for idx in range(3):\n",
      "    axes[idx].imshow(res_r[:,:,idx], cmap=cm.gray, origin=None, extent=[x[0],x[-1],y[0],y[-1]])\n",
      "    axes[idx].set_title(title_i[idx])\n",
      "\n",
      "axes[0].set_ylabel(y_label_i)\n",
      "for ax in range(3):\n",
      "    axes[ax].set_xlabel(x_label_i)"
     ],
     "language": "python",
     "metadata": {},
     "outputs": [
      {
       "output_type": "stream",
       "stream": "stderr",
       "text": [
        "/usr/lib/python2.7/site-packages/numpy/ma/core.py:3847: UserWarning: Warning: converting a masked element to nan.\n",
        "  warnings.warn(\"Warning: converting a masked element to nan.\")\n"
       ]
      },
      {
       "metadata": {},
       "output_type": "display_data",
       "png": "[encoded data removed]",
       "text": [
        "<matplotlib.figure.Figure at 0x7f85e96cb810>"
       ]
      }
     ],
     "prompt_number": 53
    },
    {
     "cell_type": "code",
     "collapsed": false,
     "input": [],
     "language": "python",
     "metadata": {},
     "outputs": [],
     "prompt_number": 53
    }
   ],
   "metadata": {}
  }
 ]
}