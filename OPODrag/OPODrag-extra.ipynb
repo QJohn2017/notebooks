{
 "metadata": {
  "name": ""
 },
 "nbformat": 3,
 "nbformat_minor": 0,
 "worksheets": [
  {
   "cells": [
    {
     "cell_type": "code",
     "collapsed": false,
     "input": [
      "import sympy as sym"
     ],
     "language": "python",
     "metadata": {},
     "outputs": []
    },
    {
     "cell_type": "code",
     "collapsed": false,
     "input": [
      "# System parameters\n",
      "g = 3*10**(-3)"
     ],
     "language": "python",
     "metadata": {},
     "outputs": []
    },
    {
     "cell_type": "code",
     "collapsed": false,
     "input": [
      "1+1\n"
     ],
     "language": "python",
     "metadata": {},
     "outputs": [],
     "prompt_number": "*"
    },
    {
     "cell_type": "code",
     "collapsed": false,
     "input": [
      "# Computational parameters\n",
      "[156:356:6]\n",
      "[nky, nkx] = KX.shape\n",
      "Z_limit = np.ones(Z.shape) * (ep + 0.5 * np.sqrt(3))"
     ],
     "language": "python",
     "metadata": {},
     "outputs": []
    },
    {
     "cell_type": "code",
     "collapsed": false,
     "input": [
      "# Update the matplotlib configuration parameters:\n",
      "matplotlib.rcParams.update({'font.size': 16, 'font.family': 'serif', 'figure.figsize': (10.0, 8.0)})"
     ],
     "language": "python",
     "metadata": {},
     "outputs": []
    },
    {
     "cell_type": "code",
     "collapsed": false,
     "input": [
      "fig = plt.figure(figsize=(8,6))\n",
      "ax = fig.add_subplot(1,1,1, projection='3d')\n",
      "ax.plot_surface(KX, KY, Z, rstride=2, cstride=2, alpha=0.25)\n",
      "\n",
      "ax.scatter(k_pmpx, k_pmpy, omega_p, 'o', s=100, c='r')\n",
      "ax.scatter(k_sigx, k_sigy, omega_s_chosen, 'o', s=100, c='b')\n",
      "ax.scatter(k_idlx, k_idly, omega_i_chosen, 'o', s=100, c='g')\n",
      "\n",
      "ax.view_init(45, 30)\n",
      "\n",
      "ax.set_xlabel(r'$k_x[\\mu m^{-1}]$')\n",
      "ax.set_ylabel(r'$k_y[\\mu m^{-1}]$')\n",
      "ax.set_zlabel(r'$\\epsilon-\\omega_X[\\gamma_p]$')"
     ],
     "language": "python",
     "metadata": {},
     "outputs": []
    },
    {
     "cell_type": "code",
     "collapsed": false,
     "input": [
      "x = np.linspace(0, 10, 30)\n",
      "fig, ax = plt.subplots()\n",
      "\n",
      "ax.plot(x, n_hom_mf(x), 'ko')\n",
      "ax.set_xlabel(r'$I_p[\\gamma_p^3]$')\n",
      "ax.set_ylabel(r'$n_p[\\gamma_p]$')"
     ],
     "language": "python",
     "metadata": {},
     "outputs": []
    },
    {
     "cell_type": "code",
     "collapsed": false,
     "input": [
      "es,ep,ei,gs,gi,xs,xp,xi,x1,x2,x3,omega_p,ip,alpha = sym.symbols('es,ep,ei,gs,gi,xs,xp,xi,x1,x2,x3,omega_p,ip,alpha')\n",
      "\n",
      "#x1 -> omega_s\n",
      "#x2 -> ns\n",
      "#x3 -> np\n",
      "\n",
      "eq1 = ((1-alpha**2)*x2 + 2*(1-alpha)*x3 - 1/xs**2 * (1+gs/gi)*x1 + 1/xs**2*(es + gs/gi * (2*omega_p - ei))).expand(basic=True)\n",
      "eq2 = ((1/xs**2*(es - x1) + 2*x3 + (1+2*alpha)*x2)**2 + 1/xs**4 * gs**2/4 - alpha*x3**2).expand(basic=True)\n",
      "eq3 = (-(ip*x3) + (x3/xp**2 + (2*x2*gs)/xs**2)**2/4. + (-(x3*(x3 + 2*x2*(1 + alpha) + (ep - omega_p)/xp**2)) + 2*x2*(2*x3 + x2*(1 + 2*alpha) + (es - x1)/xs**2))**2).expand(basic=True)\n",
      "\n",
      "ply1 = eq1.as_poly(x1, x2, x3)\n",
      "ply2 = eq2.as_poly(x1, x2, x3)\n",
      "ply3 = eq3.as_poly(x1, x2, x3)"
     ],
     "language": "python",
     "metadata": {},
     "outputs": []
    },
    {
     "cell_type": "code",
     "collapsed": false,
     "input": [
      "x1,x2,x3,ip = sym.symbols('x1,x2,x3,ip')\n",
      "\n",
      "x1 = 1\n",
      "x2 = 1\n",
      "x3 = 1\n",
      "ip = 4\n",
      "\n",
      "a = (1-alpha**2)*x2 + 2*(1-alpha)*x3 - 1/xs**2 * (1+gs/gi)*x1 + 1/xs**2*(es + gs/gi * (2*omega_p - ei))\n",
      "b = (1/xs**2*(es - x1) + 2*x3 + (1+2*alpha)*x2)**2 + 1/xs**4 * gs**2/4 - alpha*x3**2\n",
      "c = -(ip*x3) + (x3/xp**2 + (2*x2*gs)/xs**2)**2/4. + (-(x3*(x3 + 2*x2*(1 + alpha) + (ep - omega_p)/xp**2)) + 2*x2*(2*x3 + x2*(1 + 2*alpha) + (es - x1)/xs**2))**2"
     ],
     "language": "python",
     "metadata": {},
     "outputs": []
    },
    {
     "cell_type": "code",
     "collapsed": false,
     "input": [
      "ply3.monoms()\n",
      "ply3.coeffs()"
     ],
     "language": "python",
     "metadata": {},
     "outputs": []
    },
    {
     "cell_type": "code",
     "collapsed": false,
     "input": [
      "kx = np.arange(-5, 5, 0.01)\n",
      "ky = np.array( [0] )\n",
      "KX, KY = np.meshgrid(kx, ky)\n",
      "[nky, nkx] = KX.shape"
     ],
     "language": "python",
     "metadata": {},
     "outputs": []
    },
    {
     "cell_type": "code",
     "collapsed": false,
     "input": [
      "fig, (ax1, ax2) = plt.subplots(2,1, sharex=True, figsize=(13.3,10))\n",
      "\n",
      "ax1.plot(KX[nky/2,:], eigs[:,0].imag, 'k,')\n",
      "ax1.plot(KX[nky/2,:], eigs[:,1].imag, 'k,')\n",
      "ax1.plot(KX[nky/2,:], eigs[:,2].imag, 'k,')\n",
      "ax1.plot(KX[nky/2,:], eigs[:,3].imag, 'k,')\n",
      "ax1.plot(KX[nky/2,:], eigs[:,4].imag, 'k,')\n",
      "ax1.plot(KX[nky/2,:], eigs[:,5].imag, 'k,')\n",
      "ax1.set_ylabel(r'$\\Im{(\\omega)}[\\gamma_p]$')\n",
      "ax1.set_ylim(-1,0.2)\n",
      "ax1.set_xlim(-5,5)\n",
      "ax1.axhline(y=0, color='k', ls='dashed')\n",
      "ax1.axvline(x=0, color='k', ls='dashed')\n",
      "\n",
      "ax2.plot(KX[nky/2,:], eigs[:,0].real, 'k,')\n",
      "ax2.plot(KX[nky/2,:], eigs[:,1].real, 'k,')\n",
      "ax2.plot(KX[nky/2,:], eigs[:,2].real, 'k,')\n",
      "ax2.plot(KX[nky/2,:], eigs[:,3].real, 'k,')\n",
      "ax2.plot(KX[nky/2,:], eigs[:,4].real, 'k,')\n",
      "ax2.plot(KX[nky/2,:], eigs[:,5].real, 'k,')\n",
      "ax2.set_ylabel(r'$\\Re{(\\omega)}[\\gamma_p]$')\n",
      "ax2.set_ylim(-10,10)\n",
      "ax2.set_xlim(-5,5)\n",
      "ax2.set_xlabel(r'$k_x[\\mu m^{-1}]$')\n",
      "ax2.axhline(y=0, color='k', ls='dashed')"
     ],
     "language": "python",
     "metadata": {},
     "outputs": []
    },
    {
     "cell_type": "code",
     "collapsed": false,
     "input": [
      "matsL_min_2 = L_mats(-KX,-KY,nkx,nky)\n",
      "vectfd_min_2 = fd_mats(-KX,-KY,nkx,nky)\n",
      "bcoef_conj_mink_2 = np.conjugate(bog_coef_mats(matsL_min_2,vectfd_min_2,nkx,nky))\n",
      "\n",
      "bcoef3 = bcoef_conj_mink - bcoef_conj_mink_2\n",
      "bcoef3[256,256,:]\n",
      "ind = np.where(np.abs(bcoef3) > 1e-10)\n",
      "print bcoef3[ind].shape"
     ],
     "language": "python",
     "metadata": {},
     "outputs": []
    },
    {
     "cell_type": "code",
     "collapsed": false,
     "input": [
      "fig, axes = plt.subplots(1,6, figsize=(18,3))\n",
      "\n",
      "for idx in range(6):\n",
      "    contours[idx] = axes[idx].contour(KX[kxl:kxr,kxl:kxr],KY[kxl:kxr,kxl:kxr],eigs[kxl:kxr,kxl:kxr,idx].real,\\\n",
      "                                      levels=[0], origin=None, extent=[kx[kxl], kx[kxr], ky[kxl], ky[kxr]])\n",
      "    axes[idx].set_xlabel(x_label_k)\n",
      "   \n",
      "axes[0].set_ylabel(y_label_k)"
     ],
     "language": "python",
     "metadata": {},
     "outputs": []
    },
    {
     "cell_type": "code",
     "collapsed": false,
     "input": [
      "path = contours[4].collections[0].get_paths()[1]\n",
      "vert = path.vertices\n",
      "x_points = vert[:,0]\n",
      "y_points = vert[:,1]"
     ],
     "language": "python",
     "metadata": {},
     "outputs": []
    },
    {
     "cell_type": "code",
     "collapsed": false,
     "input": [
      "fig, ax = plt.subplots(1,1, figsize=(10,10))\n",
      "\n",
      "for idx in range(6):\n",
      "    ax.contour(KX[kxl:kxr,kxl:kxr],KY[kxl:kxr,kxl:kxr],eigs[kxl:kxr,kxl:kxr,idx].real, levels=[0],\\\n",
      "               origin=None, extent=[kx[kxl], kx[kxr], ky[kxl], ky[kxr]])\n",
      "    \n",
      "ax.set_xlabel(x_label_k)\n",
      "ax.set_ylabel(y_label_k)"
     ],
     "language": "python",
     "metadata": {},
     "outputs": []
    },
    {
     "cell_type": "code",
     "collapsed": false,
     "input": [
      "circle_data = np.loadtxt('circles.dat', delimiter=\",\")\n",
      "plt.scatter(circle_data[:,0], circle_data[:,1])"
     ],
     "language": "python",
     "metadata": {},
     "outputs": []
    },
    {
     "cell_type": "code",
     "collapsed": false,
     "input": [
      "fig, axes = plt.subplots(2,1, figsize=(8,6))\n",
      "\n",
      "for idx in range(3):\n",
      "    axes[0].plot(KX[nky/2,kxl:kxr], eigs_diag[nky/2,kxl:kxr,idx].imag, color=color_spi[idx])\n",
      "    axes[1].plot(KX[nky/2,kxl:kxr], eigs_diag[nky/2,kxl:kxr,idx].real, color=color_spi[idx])\n",
      "\n",
      "for idx in range(3,6):\n",
      "    axes[0].plot(KX[nky/2,kxl:kxr], eigs_diag[nky/2,kxl:kxr,idx].imag, linestyle='dashed', color=color_spi[idx-3])\n",
      "    axes[1].plot(KX[nky/2,kxl:kxr], eigs_diag[nky/2,kxl:kxr,idx].real, linestyle='dashed', color=color_spi[idx-3])\n",
      "\n",
      "for ax in [0,1]:\n",
      "    axes[ax].set_xlim(kl, kr)\n",
      "    axes[ax].axhline(y=0, color='black', ls='dashed')\n",
      "    axes[ax].axvline(x=0, color='black', ls='dashed')\n",
      "\n",
      "axes[0].set_ylabel(r'$\\Im{(\\omega)}[\\gamma_p]$')\n",
      "axes[1].set_ylabel(r'$\\Re{(\\omega)}[\\gamma_p]$')\n",
      "axes[1].set_ylim(-20,20)\n",
      "axes[1].set_xlabel(x_label_k)"
     ],
     "language": "python",
     "metadata": {},
     "outputs": []
    },
    {
     "cell_type": "code",
     "collapsed": false,
     "input": [
      "fig, axes = plt.subplots(1,3, figsize=(14,14))\n",
      "\n",
      "axes[0].imshow(np.log10(psi_s_k(KX,KY))[kxl:kxr,kxl:kxr],\\\n",
      "                 cmap=cm.gray, origin=None, extent=[kx[kxl], kx[kxr], ky[kxl], ky[kxr]])\n",
      "axes[0].set_title('signal')\n",
      "axes[1].imshow(np.log10(psi_p_k(KX,KY))[kxl:kxr,kxl:kxr],\\\n",
      "                 cmap=cm.gray, origin=None, extent=[kx[kxl], kx[kxr], ky[kxl], ky[kxr]])\n",
      "axes[1].set_title('pump')\n",
      "axes[2].imshow(np.log10(psi_i_k(KX,KY))[kxl:kxr,kxl:kxr],\\\n",
      "                 cmap=cm.gray, origin=None, extent=[kx[kxl], kx[kxr], ky[kxl], ky[kxr]])\n",
      "axes[2].set_title('idler')\n",
      "\n",
      "\n",
      "axes[0].set_ylabel(y_label_k)    \n",
      "for ax in range(3):\n",
      "    axes[ax].set_xlabel(x_label_k)"
     ],
     "language": "python",
     "metadata": {},
     "outputs": []
    }
   ],
   "metadata": {}
  }
 ]
}