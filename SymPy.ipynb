{
 "metadata": {
  "name": ""
 },
 "nbformat": 3,
 "nbformat_minor": 0,
 "worksheets": [
  {
   "cells": [
    {
     "cell_type": "code",
     "collapsed": false,
     "input": [
      "import sympy\n",
      "from sympy import symbols, Wild\n",
      "from sympy.matrices import *"
     ],
     "language": "python",
     "metadata": {},
     "outputs": [],
     "prompt_number": 24
    },
    {
     "cell_type": "code",
     "collapsed": false,
     "input": [
      "sympy.sqrt(8)"
     ],
     "language": "python",
     "metadata": {},
     "outputs": [
      {
       "metadata": {},
       "output_type": "pyout",
       "prompt_number": 2,
       "text": [
        "2*2**(1/2)"
       ]
      }
     ],
     "prompt_number": 2
    },
    {
     "cell_type": "code",
     "collapsed": false,
     "input": [
      "us, up, ui, vs, vp, vi = symbols('us up ui vs vp vi')"
     ],
     "language": "python",
     "metadata": {},
     "outputs": [],
     "prompt_number": 16
    },
    {
     "cell_type": "code",
     "collapsed": false,
     "input": [
      "u = Matrix([[us, up, ui, vs, vp, vi]])\n",
      "ut = u.T\n",
      "M = ut * u"
     ],
     "language": "python",
     "metadata": {},
     "outputs": [],
     "prompt_number": 20
    },
    {
     "cell_type": "code",
     "collapsed": false,
     "input": [
      "M"
     ],
     "language": "python",
     "metadata": {},
     "outputs": [
      {
       "metadata": {},
       "output_type": "pyout",
       "prompt_number": 21,
       "text": [
        "[us**2, up*us, ui*us, us*vs, us*vp, us*vi]\n",
        "[up*us, up**2, ui*up, up*vs, up*vp, up*vi]\n",
        "[ui*us, ui*up, ui**2, ui*vs, ui*vp, ui*vi]\n",
        "[us*vs, up*vs, ui*vs, vs**2, vp*vs, vi*vs]\n",
        "[us*vp, up*vp, ui*vp, vp*vs, vp**2, vi*vp]\n",
        "[us*vi, up*vi, ui*vi, vi*vs, vi*vp, vi**2]"
       ]
      }
     ],
     "prompt_number": 21
    },
    {
     "cell_type": "markdown",
     "metadata": {},
     "source": [
      "* Interaction between S and I."
     ]
    },
    {
     "cell_type": "code",
     "collapsed": false,
     "input": [
      "row=[]\n",
      "col=[]\n",
      "s = \"\"\n",
      "for i in range(M.rows):\n",
      "    s += \"[\"\n",
      "    for j in range(M.cols):\n",
      "        if (M[i,j] == ui*us) or (M[i,j] == vi*vs) or (M[i,j] == us*vi) or (M[i,j] == ui*vs):\n",
      "            s += \"0\"\n",
      "            row.append(i)\n",
      "            col.append(j)\n",
      "        else:\n",
      "            s += \"X\" + \"\"\n",
      "    s += \"]\\n\"\n",
      "print s\n",
      "print row\n",
      "print col"
     ],
     "language": "python",
     "metadata": {},
     "outputs": [
      {
       "output_type": "stream",
       "stream": "stdout",
       "text": [
        "[XX0XX0]\n",
        "[XXXXXX]\n",
        "[0XX0XX]\n",
        "[XX0XX0]\n",
        "[XXXXXX]\n",
        "[0XX0XX]\n",
        "\n",
        "[0, 0, 2, 2, 3, 3, 5, 5]\n",
        "[2, 5, 0, 3, 2, 5, 0, 3]\n"
       ]
      }
     ],
     "prompt_number": 52
    },
    {
     "cell_type": "markdown",
     "metadata": {},
     "source": [
      "* Interaction between P and S."
     ]
    },
    {
     "cell_type": "code",
     "collapsed": false,
     "input": [
      "row=[]\n",
      "col=[]\n",
      "s = \"\"\n",
      "for i in range(M.rows):\n",
      "    s += \"[\"\n",
      "    for j in range(M.cols):\n",
      "        if (M[i,j] == up*us) or (M[i,j] == vp*vs) or (M[i,j] == us*vp) or (M[i,j] == up*vs):\n",
      "            s += \"0\"\n",
      "            row.append(i)\n",
      "            col.append(j)\n",
      "        else:\n",
      "            s += \"X\" + \"\"\n",
      "    s += \"]\\n\"\n",
      "print s\n",
      "print row\n",
      "print col"
     ],
     "language": "python",
     "metadata": {},
     "outputs": [
      {
       "output_type": "stream",
       "stream": "stdout",
       "text": [
        "[X0XX0X]\n",
        "[0XX0XX]\n",
        "[XXXXXX]\n",
        "[X0XX0X]\n",
        "[0XX0XX]\n",
        "[XXXXXX]\n",
        "\n",
        "[0, 0, 1, 1, 3, 3, 4, 4]\n",
        "[1, 4, 0, 3, 1, 4, 0, 3]\n"
       ]
      }
     ],
     "prompt_number": 53
    },
    {
     "cell_type": "markdown",
     "metadata": {},
     "source": [
      "* Interaction between P and I."
     ]
    },
    {
     "cell_type": "code",
     "collapsed": false,
     "input": [
      "row=[]\n",
      "col=[]\n",
      "s = \"\"\n",
      "for i in range(M.rows):\n",
      "    s += \"[\"\n",
      "    for j in range(M.cols):\n",
      "        if (M[i,j] == up*ui) or (M[i,j] == vp*vi) or (M[i,j] == ui*vp) or (M[i,j] == up*vi):\n",
      "            s += \"0\"\n",
      "            row.append(i)\n",
      "            col.append(j)\n",
      "        else:\n",
      "            s += \"X\" + \"\"\n",
      "    s += \"]\\n\"\n",
      "print s\n",
      "print row\n",
      "print col"
     ],
     "language": "python",
     "metadata": {},
     "outputs": [
      {
       "output_type": "stream",
       "stream": "stdout",
       "text": [
        "[XXXXXX]\n",
        "[XX0XX0]\n",
        "[X0XX0X]\n",
        "[XXXXXX]\n",
        "[XX0XX0]\n",
        "[X0XX0X]\n",
        "\n",
        "[1, 1, 2, 2, 4, 4, 5, 5]\n",
        "[2, 5, 1, 4, 2, 5, 1, 4]\n"
       ]
      }
     ],
     "prompt_number": 54
    },
    {
     "cell_type": "code",
     "collapsed": false,
     "input": [],
     "language": "python",
     "metadata": {},
     "outputs": []
    }
   ],
   "metadata": {}
  }
 ]
}