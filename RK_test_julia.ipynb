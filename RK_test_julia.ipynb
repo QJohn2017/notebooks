{
 "metadata": {
  "language": "Julia",
  "name": "",
  "signature": "sha256:aa323d23ff2625e21a34b84953fbf35e040b87d229a5fcd1f11d4975ec45c4a7"
 },
 "nbformat": 3,
 "nbformat_minor": 0,
 "worksheets": [
  {
   "cells": [
    {
     "cell_type": "code",
     "collapsed": false,
     "input": [
      "# dv       dw\n",
      "# -- = -w, -- = v ==> v = v0*cos(t) - w0*sin(t), w = w0*cos(t) + v0*sin(t)\n",
      "# dt       dt\n",
      "#\n",
      "# y = [v, w]\n",
      "\n",
      "#t,y=solver((t,y)->[-y[2], y[1]], [1., 2.], [0:.001:2*pi])\n",
      "#ys = hcat(y...).'   # convert Vector{Vector{Float}} to Matrix{Float}\n",
      "#@test maximum(abs(ys-[cos(t)-2*sin(t) 2*cos(t)+sin(t)])) < tol\n",
      "\n",
      "#\n",
      "# [v-->psi.c(t), w-->psi.x(t)]"
     ],
     "language": "python",
     "metadata": {},
     "outputs": [],
     "prompt_number": 1
    },
    {
     "cell_type": "code",
     "collapsed": false,
     "input": [
      "type Wavefunction{T}\n",
      "    c::T\n",
      "    x::T\n",
      "end"
     ],
     "language": "python",
     "metadata": {},
     "outputs": [],
     "prompt_number": 2
    },
    {
     "cell_type": "code",
     "collapsed": false,
     "input": [
      "+{T}(psi1::Wavefunction{T}, psi2::Wavefunction{T}) = Wavefunction{T}(psi1.c + psi2.c, psi1.x + psi2.x)\n",
      "+{T}(psi::Wavefunction{T}, c::Float64) = Wavefunction{T}(psi.c + c, psi.x + c) \n",
      "*{T}(c::Number, psi::Wavefunction{T}) = Wavefunction{T}(c*psi.c, c*psi.x)\n",
      "/{T}(psi1::Wavefunction{T}, psi2::Wavefunction{T}) = Wavefunction{T}(psi1.c / psi2.c, psi1.x / psi2.x)\n",
      "import Base.abs\n",
      "abs{T}(psi::Wavefunction{T}) = Wavefunction{T}(abs(psi.c), abs(psi.x))\n",
      "import Base.maximum\n",
      "maximum{T}(psi::Wavefunction{T}) = max(psi.c, psi.x)"
     ],
     "language": "python",
     "metadata": {},
     "outputs": [
      {
       "metadata": {},
       "output_type": "pyout",
       "prompt_number": 3,
       "text": [
        "maximum (generic function with 10 methods)"
       ]
      }
     ],
     "prompt_number": 3
    },
    {
     "cell_type": "code",
     "collapsed": false,
     "input": [
      "psiinit = Wavefunction{Float64}(1., 2.);"
     ],
     "language": "python",
     "metadata": {},
     "outputs": [],
     "prompt_number": 4
    },
    {
     "cell_type": "code",
     "collapsed": false,
     "input": [
      "function derivs(t::Float64, psi::Wavefunction{Float64})\n",
      "    dpsicdt = - psi.x\n",
      "    dpsixdt = psi.c\n",
      "    return Wavefunction{Float64}(dpsicdt, dpsixdt)\n",
      "end"
     ],
     "language": "python",
     "metadata": {},
     "outputs": [
      {
       "metadata": {},
       "output_type": "pyout",
       "prompt_number": 5,
       "text": [
        "derivs (generic function with 1 method)"
       ]
      }
     ],
     "prompt_number": 5
    },
    {
     "cell_type": "code",
     "collapsed": false,
     "input": [
      "function rkck(psi::Wavefunction{Float64}, dpsidt::Wavefunction{Float64},\n",
      "    t::Float64, h::Float64)\n",
      "    const A2=0.2\n",
      "    const A3=0.3\n",
      "    const A4=0.6\n",
      "    const A5=1.0\n",
      "    const A6=0.875\n",
      "    const B21=0.2\n",
      "    const B31=3.0/40.0\n",
      "    const B32=9.0/40.0\n",
      "    const B41=0.3\n",
      "    const B42=-0.9\n",
      "    const B43=1.2\n",
      "    const B51=-11.0/54.0\n",
      "    const B52=2.5\n",
      "    const B53=-70.0/27.0\n",
      "    const B54=35.0/27.0\n",
      "    const B61=1631.0/55296.0\n",
      "    const B62=175.0/512.0\n",
      "    const B63=575.0/13824.0\n",
      "    const B64=44275.0/110592.0\n",
      "    const B65=253.0/4096.0\n",
      "    const C1=37.0/378.0\n",
      "    const C3=250.0/621.0\n",
      "    const C4=125.0/594.0\n",
      "    const C6=512.0/1771.0\n",
      "    const DC1=C1-2825.0/27648.0\n",
      "    const DC3=C3-18575.0/48384.0\n",
      "    const DC4=C4-13525.0/55296.0\n",
      "    const DC5=-277.0/14336.0\n",
      "    const DC6=C6-0.25\n",
      "    \n",
      "    psitemp=psi+B21*h*dpsidt\n",
      "    #First step.\n",
      "    ak2 = derivs(t+A2*h,psitemp)\n",
      "    #Second step.\n",
      "    psitemp=psi+h*(B31*dpsidt+B32*ak2)\n",
      "    ak3 = derivs(t+A3*h,psitemp) \n",
      "    #Third step.\n",
      "    psitemp=psi+h*(B41*dpsidt+B42*ak2+B43*ak3)\n",
      "    ak4 = derivs(t+A4*h,psitemp) \n",
      "    #Fourth step.\n",
      "    psitemp=psi+h*(B51*dpsidt+B52*ak2+B53*ak3+B54*ak4)\n",
      "    ak5 = derivs(t+A5*h,psitemp) \n",
      "    #Fifth step.\n",
      "    psitemp=psi+h*(B61*dpsidt+B62*ak2+B63*ak3+B64*ak4+B65*ak5)\n",
      "    ak6 = derivs(t+A6*h,psitemp) \n",
      "    #Sixth step.\n",
      "    psiout=psi+h*(C1*dpsidt+C3*ak3+C4*ak4+C6*ak6) \n",
      "    #Accumulate increments with proper weights.\n",
      "    psierr=h*(DC1*dpsidt+DC3*ak3+DC4*ak4+DC5*ak5+DC6*ak6)\n",
      "    #Estimate error as diference between fourth and fifth order methods.\n",
      "    return psiout, psierr\n",
      "end"
     ],
     "language": "python",
     "metadata": {},
     "outputs": [
      {
       "metadata": {},
       "output_type": "pyout",
       "prompt_number": 6,
       "text": [
        "rkck (generic function with 1 method)"
       ]
      }
     ],
     "prompt_number": 6
    },
    {
     "cell_type": "code",
     "collapsed": false,
     "input": [
      "function rkqs!(psi::Wavefunction{Float64}, dpsidt::Wavefunction{Float64},\n",
      "    t::Float64, htry::Float64, eps::Float64, psiscal::Wavefunction{Float64})\n",
      "    const SAFETY=0.9\n",
      "    const PGROW=-0.2\n",
      "    const PSHRNK=-0.25\n",
      "    const ERRCON=1.89e-4\n",
      "\n",
      "    #Set step size to the initial trial value.\n",
      "    h=htry     \n",
      "    \n",
      "    errmax = 0.\n",
      "    psitemp = Wavefunction{Float64}(0., 0.)\n",
      "    while true\n",
      "        #Take a step.    \n",
      "        psitemp, psierr = rkck(psi,dpsidt,t,h)\n",
      "        #Evaluate accuracy.\n",
      "        errmax=maximum(abs(psierr)/psiscal)/eps\n",
      "        #Step succeeded.    \n",
      "        (errmax <= 1.0) && break\n",
      "        #Truncation error too large, reduce stepsize.    \n",
      "        htemp=SAFETY*h*(errmax^PSHRNK)\n",
      "        #No more than a factor 10.\n",
      "        h=copysign(max(abs(htemp), 0.1*abs(h)), h)\n",
      "        isapprox(h, 0.) && println(\"stepsize underflow in rkqs\")    \n",
      "    end\n",
      "    #Go back for another try. No more than a factor 5 increase.\n",
      "    errmax>ERRCON ? hnext=SAFETY*h*(errmax^PGROW) : (hnext=5.0*h)\n",
      "    hdid = h\n",
      "    t += h\n",
      "    psi = psitemp\n",
      "    @show t, psi\n",
      "    return hdid, hnext, t, psi\n",
      "end"
     ],
     "language": "python",
     "metadata": {},
     "outputs": [
      {
       "metadata": {},
       "output_type": "pyout",
       "prompt_number": 7,
       "text": [
        "rkqs! (generic function with 1 method)"
       ]
      }
     ],
     "prompt_number": 7
    },
    {
     "cell_type": "code",
     "collapsed": false,
     "input": [
      "function odeintrk!(psistart::Wavefunction{Float64},\n",
      "    t1::Float64, t2::Float64, eps::Float64, h1::Float64, hmin::Float64)    \n",
      "    const MAXSTP = 20\n",
      "    const TINY=1.0e-30\n",
      "\n",
      "    t    = t1\n",
      "    h    = copysign(h1, t2-t1)    \n",
      "    nok  = 0\n",
      "    nbad = 0\n",
      "    kount= 0 \n",
      "    \n",
      "    psi = psistart\n",
      "    \n",
      "    #main program loop\n",
      "    for nstp = 1:MAXSTP     #Take at most MAXSTP steps\n",
      "        #Scaling used to monitor accuracy.\n",
      "        dpsi = derivs(t, psi)\n",
      "        psiscal = abs(psi) + abs(h*dpsi) + TINY\n",
      "        #If stepsize can overshoot,decrease.\n",
      "        ((t+h-t2)*(t+h-t1) > 0.0) && (h = t2 - t)     \n",
      "        \n",
      "        hdid, hnext, t, psi = rkqs!(psi,dpsi,t,h,eps,psiscal)\n",
      "        isapprox(hdid,h) ? nok += 1 : (nbad += 1)\n",
      "        \n",
      "        #Are we done?\n",
      "        if (t-t2)*(t2-t1) >= 0.0\n",
      "            psistart = psi \n",
      "            return\n",
      "        end\n",
      "        (abs(hnext) < hmin) && println(\"stepsize smaller than minimum in odeint\")\n",
      "        h=hnext            \n",
      "    end\n",
      "    println(\"too many steps in odeint\")\n",
      "end"
     ],
     "language": "python",
     "metadata": {},
     "outputs": [
      {
       "metadata": {},
       "output_type": "pyout",
       "prompt_number": 8,
       "text": [
        "odeintrk! (generic function with 1 method)"
       ]
      }
     ],
     "prompt_number": 8
    },
    {
     "cell_type": "code",
     "collapsed": false,
     "input": [
      "odeintrk!(psiinit,0.,2pi,1.0e-5,0.06283,6.283000000000001e-9)"
     ],
     "language": "python",
     "metadata": {},
     "outputs": [
      {
       "output_type": "stream",
       "stream": "stdout",
       "text": [
        "(t,psi) => (0.06283,Wavefunction{Float64}(0.872449504560856,2.058842359695664))"
       ]
      },
      {
       "output_type": "stream",
       "stream": "stdout",
       "text": [
        "\n",
        "(t,psi) => (0.37698,Wavefunction{Float64}(0.19355214002561838,2.227675694844542))\n",
        "(t,psi) => (0.8408320283003503,Wavefunction{Float64}(-0.823555320030618,2.0788876963741716))\n",
        "(t,psi) => (1.2718522243005532,Wavefunction{Float64}(-1.6167897173818737,1.5446742495458559))\n",
        "(t,psi) => (1.7254755411466296,Wavefunction{Float64}(-2.1301943692048413,0.6799363077641133))\n",
        "(t,psi) => (2.217991805314805,Wavefunction{Float64}(-2.19852110532879,-0.4081294759688999))\n",
        "(t,psi) => (2.692692038328091,Wavefunction{Float64}(-1.768888557851264,-1.3678875933697288))\n",
        "(t,psi) => (3.1312602838830803,Wavefunction{Float64}(-1.02061803191631,-1.989581185760869))\n",
        "(t,psi) => (3.610606939390994,Wavefunction{Float64}(0.0120038734140695,-2.236061271826378))\n",
        "(t,psi) => (4.024538576887875,Wavefunction{Float64}(0.910361765654665,-2.0423915928732224))\n",
        "(t,psi) => (4.445806390930109,Wavefunction{Float64}(1.6659417823811755,-1.4915658572864146))\n",
        "(t,psi) => (4.902686812300098,Wavefunction{Float64}(2.153079734461535,-0.6036496733539137))\n",
        "(t,psi) => (5.398006068511393,Wavefunction{Float64}(2.181243539748185,0.49228652649874427))\n",
        "(t,psi) => (5.866963139871826,Wavefunction{Float64}(1.7232674375558803,1.4249687239510007))\n",
        "(t,psi) => (6.283185307179586,Wavefunction{Float64}(1.0000140757891507,2.00004162628111))\n"
       ]
      }
     ],
     "prompt_number": 9
    },
    {
     "cell_type": "code",
     "collapsed": false,
     "input": [
      "f1(t) = cos(t)-2*sin(t)\n",
      "f2(t) = 2*cos(t)+sin(t)\n",
      "@show f1(4.024538576887875)\n",
      "@show f2(4.024538576887875);"
     ],
     "language": "python",
     "metadata": {},
     "outputs": [
      {
       "output_type": "stream",
       "stream": "stdout",
       "text": [
        "f1(4.024538576887875) => 0.9103472152255075"
       ]
      },
      {
       "output_type": "stream",
       "stream": "stdout",
       "text": [
        "\n",
        "f2(4.024538576887875) => -2.042368220407663\n"
       ]
      }
     ],
     "prompt_number": 13
    },
    {
     "cell_type": "code",
     "collapsed": false,
     "input": [],
     "language": "python",
     "metadata": {},
     "outputs": []
    }
   ],
   "metadata": {}
  }
 ]
}