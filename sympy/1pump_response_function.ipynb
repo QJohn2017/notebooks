{
 "metadata": {
  "name": "",
  "signature": "sha256:503081c3209832fdd135f647919dea5d9be2219081eec22a3b2f268975ad0a13"
 },
 "nbformat": 3,
 "nbformat_minor": 0,
 "worksheets": [
  {
   "cells": [
    {
     "cell_type": "markdown",
     "metadata": {},
     "source": [
      "Initial equation in momentum space\n",
      "=================================="
     ]
    },
    {
     "cell_type": "markdown",
     "metadata": {},
     "source": [
      "The starting GP eq. for the LP band with a $\\delta$-like defect and one pump is:\n",
      "\\begin{align}\n",
      "i \\partial_t \\psi(k)=&\\left[\\epsilon(k)-i \n",
      "\\frac{\\kappa(k)}{2}\\right]\\psi(k) + F_p \\delta(k-k_p)C(k_p) e^{-i \\omega_p t} \\nonumber \\\\\n",
      "& + \\sum_{q_1,q_2} g_{k,q_1,q_2} \\psi^{*}(q_1+q_2-\n",
      "k)\\psi(q_1)\\psi(q_2) \\nonumber \\\\\n",
      "& + \\sum_q V_d(k-q) C(k) C(q) \\psi(q)\n",
      "\\end{align}"
     ]
    },
    {
     "cell_type": "markdown",
     "metadata": {},
     "source": [
      "The ansatz for the wavefunction in momentum space reads\n",
      "\n",
      "\\begin{equation}\n",
      "\\psi(k) = e^{-i\\omega_p t} \\left[P\\delta(k-k_p) + \n",
      "u(k-k_p) e^{-i \\omega t} + v^*(k_p-k) e^{i \\omega \n",
      "t}\\right]\n",
      "\\end{equation}"
     ]
    },
    {
     "cell_type": "markdown",
     "metadata": {},
     "source": [
      "Initial equation in real space\n",
      "=============================="
     ]
    },
    {
     "cell_type": "markdown",
     "metadata": {},
     "source": [
      "$$i \\partial_t\\tilde{\\psi}(r,t)=\\left[\\epsilon(-i\\partial_{r})-i\\frac{\\gamma(-i\\partial_{r})}{2}\\right]\\tilde{\\psi}(r,t)$$"
     ]
    },
    {
     "cell_type": "markdown",
     "metadata": {},
     "source": [
      "$$+F_{p}C(k_p)e^{ik_{p}r}e^{-i\\omega_{p}t}$$"
     ]
    },
    {
     "cell_type": "markdown",
     "metadata": {},
     "source": [
      "$$+\\iiint dr_{123}\\,\\tilde{g}(r_1-r,r-r_2,r-r_3)\\tilde{\\psi}^*(r_1,t)\\tilde{\\psi}(r_2,t)\\tilde{\\psi}(r_3,t)$$"
     ]
    },
    {
     "cell_type": "markdown",
     "metadata": {},
     "source": [
      "$$+\\iint dr_{12} \\widetilde{C}\\left(r-r_{2}\\right)\\widetilde{C}\\left(r_{2}-r_{1}\\right)\\widetilde{V_{d}}(r_{2},t)\\widetilde{\\psi}(r_{1},t)$$"
     ]
    },
    {
     "cell_type": "markdown",
     "metadata": {},
     "source": [
      "where"
     ]
    },
    {
     "cell_type": "markdown",
     "metadata": {},
     "source": [
      "$$\\tilde{g}\\left(r_{1}-r,r-r_{2},r-r_{3}\\right)=g\\int dq_{3}X(q_{3})e^{iq_{3}\\left(r-r_{3}\\right)}\\int dq_{1}X^{*}(q_{1})e^{iq_{1}\\left(r_{1}-r\\right)}\\int dq_{2}X^{*}(q_{2}+q_{3}-q_{1})X(q_{2})e^{iq_{2}\\left(r-r_{2}\\right)}$$"
     ]
    },
    {
     "cell_type": "markdown",
     "metadata": {},
     "source": [
      "The ansatz in real space is"
     ]
    },
    {
     "cell_type": "markdown",
     "metadata": {},
     "source": [
      "$$\\tilde{\\psi}(r,t)=\\left[Pe^{ik_{p}r}+\\phi(r,t)\\right]e^{-i\\omega_{p}t}$$"
     ]
    },
    {
     "cell_type": "markdown",
     "metadata": {},
     "source": [
      "Mean-field calculation\n",
      "----------------------"
     ]
    },
    {
     "cell_type": "markdown",
     "metadata": {},
     "source": [
      "$\\left(\\epsilon_{p}-\\omega_{p}+g\\left|X_{p}\\right|^{4}\\left|P\\right|^{2}-i\\frac{\\gamma_{p}}{2}\\right)P=-C_{p}F_{p}$"
     ]
    },
    {
     "cell_type": "markdown",
     "metadata": {},
     "source": [
      "It remains unchanged, with the substitutions $P \\rightarrow \\psi^{\\text{ss}}_p$ and $\\kappa \\rightarrow \\gamma$."
     ]
    },
    {
     "cell_type": "markdown",
     "metadata": {},
     "source": [
      "Using the notation $P=\\frac{\\sqrt{n_{p}}e^{i\\phi_{p}}}{\\sqrt{g}X_{p}}$ and $\\left|F_{p}\\right|^{2}=\\frac{\\left|X_{p}\\right|^{2}I_{p}}{g\\left|C_{p}\\right|^{2}}$ and multiplying by the c.c. we get the convenient form"
     ]
    },
    {
     "cell_type": "markdown",
     "metadata": {},
     "source": [
      "$$\\left[\\left(\\epsilon_{p}-\\omega_{p}+\\left|X_{p}\\right|^{2}n_{p}\\right)^{2}+\\frac{\\gamma_{p}^{2}}{4}\\right]n_{p}=\\left|X_{p}\\right|^{4}I_{p}$$"
     ]
    },
    {
     "cell_type": "markdown",
     "metadata": {},
     "source": [
      "Linear response\n",
      "---------------"
     ]
    },
    {
     "cell_type": "markdown",
     "metadata": {},
     "source": [
      "From the time derivative, we keep the linear term $\\left(\\left[i\\partial_{t}\\phi(r,t)\\right]+\\omega_{p}\\phi(r,t)\\right)e^{-i\\omega_{p}t}$"
     ]
    },
    {
     "cell_type": "markdown",
     "metadata": {},
     "source": [
      "The kinetic term in linear response is simply $\\left[\\epsilon(-i\\partial_{r})-i\\frac{\\gamma(-i\\partial_{r})}{2}\\right]\\phi(r,t)e^{-i\\omega_{p}t}$."
     ]
    },
    {
     "cell_type": "markdown",
     "metadata": {},
     "source": [
      "The defect term gives a contribution of"
     ]
    },
    {
     "cell_type": "markdown",
     "metadata": {},
     "source": [
      "$$Pe^{-i\\omega_{p}t}\\int dr_{1}\\int dr_{2}\\tilde{C}\\left(r-r_{2}\\right)\\tilde{C}\\left(r_{2}-r_{1}\\right)\\tilde{V_{d}}(r_{2},t)e^{ik_{p}r_{1}}$$"
     ]
    },
    {
     "cell_type": "markdown",
     "metadata": {},
     "source": [
      "Now for the cubic term."
     ]
    },
    {
     "cell_type": "markdown",
     "metadata": {},
     "source": [
      "$$2g\\left|X_{p}\\right|^{2}e^{-i\\omega_{p}t}\\left|P\\right|^{2}\\int dq\\left|X(q)\\right|^{2}e^{iqr}\\int dr^{\\prime}\\phi(r^{\\prime},t)e^{-iqr^{\\prime}}+$$"
     ]
    },
    {
     "cell_type": "markdown",
     "metadata": {},
     "source": [
      "$$+gX_{p}^{2}e^{2ik_{p}r}e^{-i\\omega_{p}t}P^{2}\\int dqX^{*}(q)X^{*}(2k_{p}-q)e^{-iqr}\\int dr^{\\prime}\\phi^{*}(r^{\\prime},t)e^{iqr^{\\prime}}$$"
     ]
    },
    {
     "cell_type": "markdown",
     "metadata": {},
     "source": [
      "We use complex conjugation and finally get a system of 2 coupled equations."
     ]
    },
    {
     "cell_type": "markdown",
     "metadata": {},
     "source": [
      "$$i\\partial_{t}\\phi(r,t)=\\left[\\epsilon(-i\\partial_{r})-\\omega_{p}-i\\frac{\\gamma(-i\\partial_{r})}{2}\\right]\\phi(r,t)+2g\\left|X_{p}\\right|^{2}\\left|P\\right|^{2}\\int dq\\left|X(q)\\right|^{2}e^{iqr}\\int dr^{\\prime}\\phi(r^{\\prime},t)e^{-iqr^{\\prime}}+$$"
     ]
    },
    {
     "cell_type": "markdown",
     "metadata": {},
     "source": [
      "$$+gX_{p}^{2}e^{2ik_{p}r}P^{2}\\int dqX^{*}(q)X^{*}(2k_{p}-q)e^{-iqr}\\int dr^{\\prime}\\phi^{*}(r^{\\prime},t)e^{iqr^{\\prime}}+$$"
     ]
    },
    {
     "cell_type": "markdown",
     "metadata": {},
     "source": [
      "$$+P\\int dr_{1}\\int dr_{2}\\tilde{C}\\left(r-r_{2}\\right)\\tilde{C}\\left(r_{2}-r_{1}\\right)\\tilde{V_{d}}(r_{2},t)e^{ik_{p}r_{1}}$$."
     ]
    },
    {
     "cell_type": "markdown",
     "metadata": {},
     "source": [
      "$$i\\partial_{t}\\phi^{*}(r,t)=-\\left[\\epsilon(i\\partial_{r})-\\omega_{p}+i\\frac{\\gamma(i\\partial_{r})}{2}\\right]\\phi^{*}(r,t)-2g\\left|X_{p}\\right|^{2}\\left|P\\right|^{2}\\int dq\\left|X(q)\\right|^{2}e^{-iqr}\\int dr^{\\prime}\\phi^{*}(r^{\\prime},t)e^{iqr^{\\prime}}-$$"
     ]
    },
    {
     "cell_type": "markdown",
     "metadata": {},
     "source": [
      "$$-gX_{p}^{2*}e^{-2ik_{p}r}P^{2*}\\int dqX(q)X(2k_{p}-q)e^{iqr}\\int dr^{\\prime}\\phi(r^{\\prime},t)e^{-iqr^{\\prime}}-$$"
     ]
    },
    {
     "cell_type": "markdown",
     "metadata": {},
     "source": [
      "$$-P^{*}\\int dr_{1}\\int dr_{2}\\tilde{C}^*\\left(r-r_{2}\\right)\\tilde{C}^*\\left(r_{2}-r_{1}\\right)\\tilde{V}_{d}^*(r_{2},t)e^{-ik_{p}r_{1}}$$"
     ]
    },
    {
     "cell_type": "markdown",
     "metadata": {},
     "source": [
      "We now introduce the fourier components of $\\phi$ in order to solve these 2 eqs."
     ]
    },
    {
     "cell_type": "markdown",
     "metadata": {},
     "source": [
      "$$\\phi(r,t)=\\int dqd\\omega\\, e^{iqr}e^{-i\\omega t}u(q,\\omega)$$"
     ]
    },
    {
     "cell_type": "markdown",
     "metadata": {},
     "source": [
      "$$\\phi^{\\star}(r,t)=\\int dqd\\omega\\, e^{iqr}e^{-i\\omega t}v(q,\\omega)$$"
     ]
    },
    {
     "cell_type": "markdown",
     "metadata": {},
     "source": [
      "$$\\tilde{V}_{d}(r,t)=\\int dqd\\omega\\, e^{iqr}e^{-i\\omega t}{V}_{d}(q,\\omega)$$"
     ]
    },
    {
     "cell_type": "markdown",
     "metadata": {},
     "source": [
      "Note that, in order to decouple the fourier components, we also need to introduce a change of variables. All the terms containing $u$ change their momentum from $q$ to $q+k_p$ and the $v$ terms from $q$ to $q-k_p$."
     ]
    },
    {
     "cell_type": "markdown",
     "metadata": {},
     "source": [
      "The resulting linear system of equations in $k$-space is:"
     ]
    },
    {
     "cell_type": "markdown",
     "metadata": {},
     "source": [
      "$$\\mathcal{L}(q,\\omega)\\begin{pmatrix}u(q+k_{p},\\omega)\\\\\n",
      "v(q-k_{p},\\omega)\n",
      "\\end{pmatrix}=-\\frac{1}{\\sqrt{g}}\\sqrt{n_{p}}\\begin{pmatrix}e^{i\\phi_{p}}R(q)V_{d}(q,\\omega)\\\\\n",
      "e^{-i\\phi_{p}}R^{*}(-q)V_{d}^{*}(-q,-\\omega)\n",
      "\\end{pmatrix}$$"
     ]
    },
    {
     "cell_type": "markdown",
     "metadata": {},
     "source": [
      "with the matrix $\\mathcal{L}$"
     ]
    },
    {
     "cell_type": "markdown",
     "metadata": {},
     "source": [
      "$$\\mathcal{L}(q,\\omega)=\\begin{pmatrix}M(q)-\\omega & Q(q)e^{2i\\phi_{p}}\\\\\n",
      "Q^{*}(-q)e^{-2i\\phi_{p}} & M^{*}(-q)+\\omega\n",
      "\\end{pmatrix}$$"
     ]
    },
    {
     "cell_type": "markdown",
     "metadata": {},
     "source": [
      "where we have further defined"
     ]
    },
    {
     "cell_type": "markdown",
     "metadata": {},
     "source": [
      "$$M(q)=\\epsilon(k_{p}+q)-\\omega_{p}+2n_{p}\\left|X(k_{p}+q)\\right|^{2}-\\frac{i}{2}\\gamma(k_{p}+q)$$"
     ]
    },
    {
     "cell_type": "markdown",
     "metadata": {},
     "source": [
      "$$Q(q)=n_{p}X^{*}(k_{p}+q)X^{*}(k_{p}-q)$$"
     ]
    },
    {
     "cell_type": "markdown",
     "metadata": {},
     "source": [
      "$$R(q)=\\frac{C_{p}}{X_{p}}C(k_{p}+q)$$"
     ]
    },
    {
     "cell_type": "markdown",
     "metadata": {},
     "source": [
      "$$\\det\\left(\\mathcal{L}\\right)=D(q,\\omega)=-\\omega^{2}+\\left(M(q)-M^{*}(-q)\\right)\\omega+M(q)M^{*}(-q)-Q(q)Q^{*}(-q)$$"
     ]
    },
    {
     "cell_type": "markdown",
     "metadata": {},
     "source": [
      "For a real defect potential $V_{d}^{\\star}(r,t)=V_{d}(r,t)$, so that $\\tilde{V}_{d}^{\\star}(-q,-\\omega)=\\tilde{V}_{d}(q,\\omega)$."
     ]
    },
    {
     "cell_type": "code",
     "collapsed": false,
     "input": [],
     "language": "python",
     "metadata": {},
     "outputs": []
    }
   ],
   "metadata": {}
  }
 ]
}