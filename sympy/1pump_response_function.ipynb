{
 "metadata": {
  "name": "",
  "signature": "sha256:92b03974876d2f19f35b8a2013b244e72e24251a0cd6d816c82c09948c4f61ba"
 },
 "nbformat": 3,
 "nbformat_minor": 0,
 "worksheets": [
  {
   "cells": [
    {
     "cell_type": "markdown",
     "metadata": {},
     "source": [
      "Hamiltonian\n",
      "==========="
     ]
    },
    {
     "cell_type": "markdown",
     "metadata": {},
     "source": [
      "We start from the effective Hamiltonian describing polaritons as a weakly interacting Bose gas - Eq. (9) of arXiv:cond-mat/0702166v1. We neglect the saturation term (see arXiv:1107.4487v1), introduce a point-like defect potential in the photonic field and consider the effective exciton-exciton interaction to be described by a contact potential "
     ]
    },
    {
     "cell_type": "markdown",
     "metadata": {},
     "source": [
      "$$U_{k-k',q}=U_{0,0}=g=\\frac{6e^{2}\\lambda_{X}}{A\\epsilon}$$"
     ]
    },
    {
     "cell_type": "markdown",
     "metadata": {},
     "source": [
      "The latter assumption is justified in the case of wavevectors much smaller than the inverse of the exciton radius. We get:"
     ]
    },
    {
     "cell_type": "markdown",
     "metadata": {},
     "source": [
      "$$H = \\sum_{k}\\left(\\begin{array}{cc}\n",
      "\\psi_{k}^{\\dagger} & D_{k}^{\\dagger}\\end{array}\\right)\\left(\\begin{array}{cc}\n",
      "\\omega_{k} & \\Omega_{R}\\\\\n",
      "\\Omega_{R} & \\varepsilon_{k}\n",
      "\\end{array}\\right)\\left(\\begin{array}{c}\n",
      "\\psi_{k}\\\\\n",
      "D_{k}\\end{array}\\right)$$"
     ]
    },
    {
     "cell_type": "markdown",
     "metadata": {},
     "source": [
      "$$+\\frac{1}{2}g\\sum_{k,k',q}D_{k+q}^{\\dagger}D_{k'-q}^{\\dagger}D_{k}D_{k'} +\\sum_{k,q}\\hat{V}(q)\\psi_{k+q}^{\\dagger}\\psi_{k}$$"
     ]
    },
    {
     "cell_type": "markdown",
     "metadata": {},
     "source": [
      "We denote by"
     ]
    },
    {
     "cell_type": "markdown",
     "metadata": {},
     "source": [
      "$$O_{k}=\\left(\\begin{array}{cc}\n",
      "X(k) & -C(k)\\\\\n",
      "C(k) & X(k)\n",
      "\\end{array}\\right)$$"
     ]
    },
    {
     "cell_type": "markdown",
     "metadata": {},
     "source": [
      "the unitary matrix which diagonalises the quadratic part of the Hamiltonian and rotates to the basis of lower and upper polariton states:"
     ]
    },
    {
     "cell_type": "markdown",
     "metadata": {},
     "source": [
      "$$\\left(\\begin{array}{c}\n",
      "\\psi_{k}^{\\dagger}\\\\\n",
      "D_{k}^{\\dagger}\n",
      "\\end{array}\\right)=O_{k}\\left(\\begin{array}{c}\n",
      "U_{k}^{\\dagger}\\\\\n",
      "L_{k}^{\\dagger}\n",
      "\\end{array}\\right)$$"
     ]
    },
    {
     "cell_type": "markdown",
     "metadata": {},
     "source": [
      "The Hopfield coefficients $X(k)$ and $C(k)$ are given in Ref."
     ]
    },
    {
     "cell_type": "markdown",
     "metadata": {},
     "source": [
      "For temperatures much smaller than the Rabi energy we can neglect the upper polariton branch, and project on the basis of lower polariton states:"
     ]
    },
    {
     "cell_type": "markdown",
     "metadata": {},
     "source": [
      "$$H^{LP}=\\sum_{k}E_{k}^{LP}L_{k}^{\\dagger}L_{k}+\\sum_{k,q}\\hat{V}(q)\\sin\\theta_{k+q}\\sin\\theta_{k}L_{k+q}^{\\dagger}L_{k}+\\sum_{k,k',q}V_{k,k',q}^{\\text{eff}}L_{k+q}^{\\dagger}L_{k'-q}^{\\dagger}L_{k}L_{k'}$$"
     ]
    },
    {
     "cell_type": "markdown",
     "metadata": {},
     "source": [
      "where we have defined"
     ]
    },
    {
     "cell_type": "markdown",
     "metadata": {},
     "source": [
      "$$V_{k,k',q}^{\\text{eff}} = \\frac{g}{2}X(k+q)X(k'-q)X(k)X(k')$$"
     ]
    },
    {
     "cell_type": "markdown",
     "metadata": {},
     "source": [
      "Initial equation in momentum space\n",
      "=================================="
     ]
    },
    {
     "cell_type": "markdown",
     "metadata": {},
     "source": [
      "Using Hamilton's equation of motion $(\\hbar=1)$"
     ]
    },
    {
     "cell_type": "markdown",
     "metadata": {},
     "source": [
      "$$i\\partial_{t}L_{k}=[L_{k},\\, H^{LP}]$$"
     ]
    },
    {
     "cell_type": "markdown",
     "metadata": {},
     "source": [
      "adding pumping and decay and interpreting the lower polariton field operator as a classical wavefunction we get the corresponding Gross-Pitaevskii equation:"
     ]
    },
    {
     "cell_type": "markdown",
     "metadata": {},
     "source": [
      "$$i\\partial_{t}\\psi^{LP}(k)=C_{p}F_{p}\\delta(k-k_{p})e^{-i\\omega_{p}t}+\\left(E^{LP}(k)-\\frac{i}{2}\\gamma^{LP}(k)\\right)\\psi^{LP}(k)+C(k)\\sum_{q}V_d(k-q)C(q)\\psi^{LP}(q)+\\sum_{q_{1},q_{2}}g_{k,q_{1},q_{2}}\\psi^{LP\\star}(q_{1}+q_{2}-k)\\psi^{LP}(q_{1})\\psi^{LP}(q_{2})$$"
     ]
    },
    {
     "cell_type": "markdown",
     "metadata": {},
     "source": [
      "with"
     ]
    },
    {
     "cell_type": "markdown",
     "metadata": {},
     "source": [
      "$$g_{k,q_{1},q_{2}}=gX^{*}(k)X^{*}(q_{1}+q_{2}-k)X(q_{1})X(q_{2})$$"
     ]
    },
    {
     "cell_type": "markdown",
     "metadata": {},
     "source": [
      "where we have defined the momentum-dependent lower polariton decay rate $\\gamma^{LP}(k)=\\gamma_{X}X^2(k)+\\gamma_{C}C^2(k)$."
     ]
    },
    {
     "cell_type": "markdown",
     "metadata": {},
     "source": [
      "The ansatz for the wavefunction in momentum space reads\n",
      "\n",
      "\\begin{equation}\n",
      "\\psi(k) = e^{-i\\omega_p t} \\left[P\\delta(k-k_p) + \n",
      "u(k-k_p) e^{-i \\omega t} + v^*(k_p-k) e^{i \\omega \n",
      "t}\\right]\n",
      "\\end{equation}"
     ]
    },
    {
     "cell_type": "markdown",
     "metadata": {},
     "source": [
      "Initial equation in real space\n",
      "=============================="
     ]
    },
    {
     "cell_type": "markdown",
     "metadata": {},
     "source": [
      "$$i \\partial_t\\tilde{\\psi}(r,t)=\\left[\\epsilon(-i\\partial_{r})-i\\frac{\\gamma(-i\\partial_{r})}{2}\\right]\\tilde{\\psi}(r,t)$$"
     ]
    },
    {
     "cell_type": "markdown",
     "metadata": {},
     "source": [
      "$$+F_{p}C(k_p)e^{ik_{p}r}e^{-i\\omega_{p}t}$$"
     ]
    },
    {
     "cell_type": "markdown",
     "metadata": {},
     "source": [
      "$$+\\iiint dr_{123}\\,\\tilde{g}(r_1-r,r-r_2,r-r_3)\\tilde{\\psi}^*(r_1,t)\\tilde{\\psi}(r_2,t)\\tilde{\\psi}(r_3,t)$$"
     ]
    },
    {
     "cell_type": "markdown",
     "metadata": {},
     "source": [
      "$$+\\iint dr_{12} \\widetilde{C}\\left(r-r_{2}\\right)\\widetilde{C}\\left(r_{2}-r_{1}\\right)\\widetilde{V_{d}}(r_{2},t)\\widetilde{\\psi}(r_{1},t)$$"
     ]
    },
    {
     "cell_type": "markdown",
     "metadata": {},
     "source": [
      "where"
     ]
    },
    {
     "cell_type": "markdown",
     "metadata": {},
     "source": [
      "$$\\tilde{g}\\left(r_{1}-r,r-r_{2},r-r_{3}\\right)=g\\int dq_{3}X(q_{3})e^{iq_{3}\\left(r-r_{3}\\right)}\\int dq_{1}X^{*}(q_{1})e^{iq_{1}\\left(r_{1}-r\\right)}\\int dq_{2}X^{*}(q_{2}+q_{3}-q_{1})X(q_{2})e^{iq_{2}\\left(r-r_{2}\\right)}$$"
     ]
    },
    {
     "cell_type": "markdown",
     "metadata": {},
     "source": [
      "The ansatz in real space is"
     ]
    },
    {
     "cell_type": "markdown",
     "metadata": {},
     "source": [
      "$$\\tilde{\\psi}(r,t)=\\left[Pe^{ik_{p}r}+\\phi(r,t)\\right]e^{-i\\omega_{p}t}$$"
     ]
    },
    {
     "cell_type": "markdown",
     "metadata": {},
     "source": [
      "Mean-field calculation\n",
      "----------------------"
     ]
    },
    {
     "cell_type": "markdown",
     "metadata": {},
     "source": [
      "$\\left(\\epsilon_{p}-\\omega_{p}+g\\left|X_{p}\\right|^{4}\\left|P\\right|^{2}-i\\frac{\\gamma_{p}}{2}\\right)P=-C_{p}F_{p}$"
     ]
    },
    {
     "cell_type": "markdown",
     "metadata": {},
     "source": [
      "It remains unchanged, with the substitutions $P \\rightarrow \\psi^{\\text{ss}}_p$ and $\\kappa \\rightarrow \\gamma$."
     ]
    },
    {
     "cell_type": "markdown",
     "metadata": {},
     "source": [
      "Using the notation $P=\\frac{\\sqrt{n_{p}}e^{i\\phi_{p}}}{\\sqrt{g}X_{p}}$ and $\\left|F_{p}\\right|^{2}=\\frac{\\left|X_{p}\\right|^{2}I_{p}}{g\\left|C_{p}\\right|^{2}}$ and multiplying by the c.c. we get the convenient form"
     ]
    },
    {
     "cell_type": "markdown",
     "metadata": {},
     "source": [
      "$$\\left[\\left(\\epsilon_{p}-\\omega_{p}+\\left|X_{p}\\right|^{2}n_{p}\\right)^{2}+\\frac{\\gamma_{p}^{2}}{4}\\right]n_{p}=\\left|X_{p}\\right|^{4}I_{p}$$"
     ]
    },
    {
     "cell_type": "markdown",
     "metadata": {},
     "source": [
      "Linear response\n",
      "---------------"
     ]
    },
    {
     "cell_type": "markdown",
     "metadata": {},
     "source": [
      "From the time derivative, we keep the linear term $\\left(\\left[i\\partial_{t}\\phi(r,t)\\right]+\\omega_{p}\\phi(r,t)\\right)e^{-i\\omega_{p}t}$"
     ]
    },
    {
     "cell_type": "markdown",
     "metadata": {},
     "source": [
      "The kinetic term in linear response is simply $\\left[\\epsilon(-i\\partial_{r})-i\\frac{\\gamma(-i\\partial_{r})}{2}\\right]\\phi(r,t)e^{-i\\omega_{p}t}$."
     ]
    },
    {
     "cell_type": "markdown",
     "metadata": {},
     "source": [
      "The defect term gives a contribution of"
     ]
    },
    {
     "cell_type": "markdown",
     "metadata": {},
     "source": [
      "$$Pe^{-i\\omega_{p}t}\\int dr_{1}\\int dr_{2}\\tilde{C}\\left(r-r_{2}\\right)\\tilde{C}\\left(r_{2}-r_{1}\\right)\\tilde{V_{d}}(r_{2},t)e^{ik_{p}r_{1}}$$"
     ]
    },
    {
     "cell_type": "markdown",
     "metadata": {},
     "source": [
      "Now for the cubic term."
     ]
    },
    {
     "cell_type": "markdown",
     "metadata": {},
     "source": [
      "$$2g\\left|X_{p}\\right|^{2}e^{-i\\omega_{p}t}\\left|P\\right|^{2}\\int dq\\left|X(q)\\right|^{2}e^{iqr}\\int dr^{\\prime}\\phi(r^{\\prime},t)e^{-iqr^{\\prime}}+$$"
     ]
    },
    {
     "cell_type": "markdown",
     "metadata": {},
     "source": [
      "$$+gX_{p}^{2}e^{2ik_{p}r}e^{-i\\omega_{p}t}P^{2}\\int dqX^{*}(q)X^{*}(2k_{p}-q)e^{-iqr}\\int dr^{\\prime}\\phi^{*}(r^{\\prime},t)e^{iqr^{\\prime}}$$"
     ]
    },
    {
     "cell_type": "markdown",
     "metadata": {},
     "source": [
      "We use complex conjugation and finally get a system of 2 coupled equations."
     ]
    },
    {
     "cell_type": "markdown",
     "metadata": {},
     "source": [
      "$$i\\partial_{t}\\phi(r,t)=\\left[\\epsilon(-i\\partial_{r})-\\omega_{p}-i\\frac{\\gamma(-i\\partial_{r})}{2}\\right]\\phi(r,t)+2g\\left|X_{p}\\right|^{2}\\left|P\\right|^{2}\\int dq\\left|X(q)\\right|^{2}e^{iqr}\\int dr^{\\prime}\\phi(r^{\\prime},t)e^{-iqr^{\\prime}}+$$"
     ]
    },
    {
     "cell_type": "markdown",
     "metadata": {},
     "source": [
      "$$+gX_{p}^{2}e^{2ik_{p}r}P^{2}\\int dqX^{*}(q)X^{*}(2k_{p}-q)e^{-iqr}\\int dr^{\\prime}\\phi^{*}(r^{\\prime},t)e^{iqr^{\\prime}}+$$"
     ]
    },
    {
     "cell_type": "markdown",
     "metadata": {},
     "source": [
      "$$+P\\int dr_{1}\\int dr_{2}\\tilde{C}\\left(r-r_{2}\\right)\\tilde{C}\\left(r_{2}-r_{1}\\right)\\tilde{V_{d}}(r_{2},t)e^{ik_{p}r_{1}}$$."
     ]
    },
    {
     "cell_type": "markdown",
     "metadata": {},
     "source": [
      "$$i\\partial_{t}\\phi^{*}(r,t)=-\\left[\\epsilon(i\\partial_{r})-\\omega_{p}+i\\frac{\\gamma(i\\partial_{r})}{2}\\right]\\phi^{*}(r,t)-2g\\left|X_{p}\\right|^{2}\\left|P\\right|^{2}\\int dq\\left|X(q)\\right|^{2}e^{-iqr}\\int dr^{\\prime}\\phi^{*}(r^{\\prime},t)e^{iqr^{\\prime}}-$$"
     ]
    },
    {
     "cell_type": "markdown",
     "metadata": {},
     "source": [
      "$$-gX_{p}^{2*}e^{-2ik_{p}r}P^{2*}\\int dqX(q)X(2k_{p}-q)e^{iqr}\\int dr^{\\prime}\\phi(r^{\\prime},t)e^{-iqr^{\\prime}}-$$"
     ]
    },
    {
     "cell_type": "markdown",
     "metadata": {},
     "source": [
      "$$-P^{*}\\int dr_{1}\\int dr_{2}\\tilde{C}^*\\left(r-r_{2}\\right)\\tilde{C}^*\\left(r_{2}-r_{1}\\right)\\tilde{V}_{d}^*(r_{2},t)e^{-ik_{p}r_{1}}$$"
     ]
    },
    {
     "cell_type": "markdown",
     "metadata": {},
     "source": [
      "We now introduce the fourier components of $\\phi$ in order to solve these 2 eqs."
     ]
    },
    {
     "cell_type": "markdown",
     "metadata": {},
     "source": [
      "$$\\phi(r,t)=\\int dqd\\omega\\, e^{iqr}e^{-i\\omega t}u(q,\\omega)$$"
     ]
    },
    {
     "cell_type": "markdown",
     "metadata": {},
     "source": [
      "$$\\phi^{\\star}(r,t)=\\int dqd\\omega\\, e^{iqr}e^{-i\\omega t}v(q,\\omega)$$"
     ]
    },
    {
     "cell_type": "markdown",
     "metadata": {},
     "source": [
      "$$\\tilde{V}_{d}(r,t)=\\int dqd\\omega\\, e^{iqr}e^{-i\\omega t}{V}_{d}(q,\\omega)$$"
     ]
    },
    {
     "cell_type": "markdown",
     "metadata": {},
     "source": [
      "Note that, in order to decouple the fourier components, we also need to introduce a change of variables. All the terms containing $u$ change their momentum from $q$ to $q+k_p$ and the $v$ terms from $q$ to $q-k_p$."
     ]
    },
    {
     "cell_type": "markdown",
     "metadata": {},
     "source": [
      "The resulting linear system of equations in $k$-space is:"
     ]
    },
    {
     "cell_type": "markdown",
     "metadata": {},
     "source": [
      "$$\\mathcal{L}(q,\\omega)\\begin{pmatrix}u(q+k_{p},\\omega)\\\\\n",
      "v(q-k_{p},\\omega)\n",
      "\\end{pmatrix}=-\\frac{1}{\\sqrt{g}}\\sqrt{n_{p}}\\begin{pmatrix}e^{i\\phi_{p}}R(q)V_{d}(q,\\omega)\\\\\n",
      "e^{-i\\phi_{p}}R^{*}(-q)V_{d}^{*}(-q,-\\omega)\n",
      "\\end{pmatrix}$$"
     ]
    },
    {
     "cell_type": "markdown",
     "metadata": {},
     "source": [
      "with the matrix $\\mathcal{L}$"
     ]
    },
    {
     "cell_type": "markdown",
     "metadata": {},
     "source": [
      "$$\\mathcal{L}(q,\\omega)=\\begin{pmatrix}M(q)-\\omega & Q(q)e^{2i\\phi_{p}}\\\\\n",
      "Q^{*}(-q)e^{-2i\\phi_{p}} & M^{*}(-q)+\\omega\n",
      "\\end{pmatrix}$$"
     ]
    },
    {
     "cell_type": "markdown",
     "metadata": {},
     "source": [
      "where we have further defined"
     ]
    },
    {
     "cell_type": "markdown",
     "metadata": {},
     "source": [
      "$$M(q)=\\epsilon(k_{p}+q)-\\omega_{p}+2n_{p}\\left|X(k_{p}+q)\\right|^{2}-\\frac{i}{2}\\gamma(k_{p}+q)$$"
     ]
    },
    {
     "cell_type": "markdown",
     "metadata": {},
     "source": [
      "$$Q(q)=n_{p}X^{*}(k_{p}+q)X^{*}(k_{p}-q)$$"
     ]
    },
    {
     "cell_type": "markdown",
     "metadata": {},
     "source": [
      "$$R(q)=\\frac{C_{p}}{X_{p}}C(k_{p}+q)$$"
     ]
    },
    {
     "cell_type": "markdown",
     "metadata": {},
     "source": [
      "$$\\det\\left(\\mathcal{L}\\right)=D(q,\\omega)=-\\left(\\omega-\\omega_{+}(q)\\right)\\left(\\omega-\\omega_{-}(q)\\right)$$"
     ]
    },
    {
     "cell_type": "markdown",
     "metadata": {},
     "source": [
      "$$\\omega_{+,-}(q)=\\frac{1}{2}w(q)\\pm\\frac{1}{2}\\sqrt{z(q)}$$"
     ]
    },
    {
     "cell_type": "markdown",
     "metadata": {},
     "source": [
      "$$w(q)=M\\left(q\\right)-M^{*}\\left(-q\\right)$$"
     ]
    },
    {
     "cell_type": "markdown",
     "metadata": {},
     "source": [
      "$$z(q)=\\left[M\\left(q\\right)+M^{*}\\left(-q\\right)\\right]^{2}-4Q\\left(q\\right)Q^{*}\\left(-q\\right)$$"
     ]
    },
    {
     "cell_type": "markdown",
     "metadata": {},
     "source": [
      "For a real defect potential $\\tilde{V}_{d}^{\\star}(r,t)=\\tilde{V}_{d}(r,t)$, so that $V_{d}^{\\star}(-q,-\\omega)=V_{d}(q,\\omega)$."
     ]
    },
    {
     "cell_type": "markdown",
     "metadata": {},
     "source": [
      "The perturbation to the polariton density $\\delta \\tilde{\\rho}$ is given by"
     ]
    },
    {
     "cell_type": "markdown",
     "metadata": {},
     "source": [
      "$$\\tilde{\\rho}=\\left|\\tilde{\\psi}(r,t)\\right|^{2}=\\left|P\\right|^{2}\\left[1+\\delta\\tilde{\\rho}(r,t)\\right]$$"
     ]
    },
    {
     "cell_type": "markdown",
     "metadata": {},
     "source": [
      "$$\\delta\\tilde{\\rho}(r,t)=\\frac{1}{\\vert P\\vert^{2}}\\left[P^{\\star}\\phi(r,t)e^{-ik_{p}r}+P\\phi^{\\star}(r,t)e^{ik_{p}r}\\right]=\\frac{1}{\\vert P\\vert^{2}}\\int dq\\, d\\omega\\, e^{iqr}e^{-i\\omega t}\\left[P^{\\star}u(q+k_{p},\\omega)+Pv(q-k_{p},\\omega)\\right]$$"
     ]
    },
    {
     "cell_type": "markdown",
     "metadata": {},
     "source": [
      "On the other hand, by the definition of the response function $\\chi$, we have"
     ]
    },
    {
     "cell_type": "markdown",
     "metadata": {},
     "source": [
      "$$\\delta\\tilde{\\rho}(r,t)=\\int dqd\\omega\\: e^{iqr}e^{-i\\omega t}\\delta\\rho(q,\\omega)$$"
     ]
    },
    {
     "cell_type": "markdown",
     "metadata": {},
     "source": [
      "with the perturbation in momentum space"
     ]
    },
    {
     "cell_type": "markdown",
     "metadata": {},
     "source": [
      "$$\\delta\\rho(q,\\omega)=\\chi(q,\\omega)V_{d}(q,\\omega)$$"
     ]
    },
    {
     "cell_type": "markdown",
     "metadata": {},
     "source": [
      "Therefore the response function of the system is"
     ]
    },
    {
     "cell_type": "markdown",
     "metadata": {},
     "source": [
      "$$\\chi(q,\\omega)=-\\frac{1}{D(q,\\omega)}\\left\\{ X_{p}\\left[\\left(M^{*}(-q)+\\omega\\right)R(q)-Q(q)R^{*}(-q)\\right]+X_{p}^{*}\\left[\\left(M(q)-\\omega\\right)R^{*}(-q)-Q^{*}(-q)R(q)\\right]\\right\\}$$"
     ]
    },
    {
     "cell_type": "markdown",
     "metadata": {},
     "source": [
      "or, in terms of the excitation spectrum,"
     ]
    },
    {
     "cell_type": "markdown",
     "metadata": {},
     "source": [
      "$$\\chi(q,\\omega)=\\frac{X_{p}\\left[\\left(M^{*}(-q)+\\omega\\right)R(q)-Q(q)R^{*}(-q)\\right]+X_{p}^{*}\\left[\\left(M(q)-\\omega\\right)R^{*}(-q)-Q^{*}(-q)R(q)\\right]}{\\left(\\omega-\\omega_{+}(q)\\right)\\left(\\omega-\\omega_{-}(q)\\right)}$$"
     ]
    },
    {
     "cell_type": "markdown",
     "metadata": {},
     "source": [
      "Moving defect\n",
      "-------------"
     ]
    },
    {
     "cell_type": "markdown",
     "metadata": {},
     "source": [
      "For a defect moving at a constant velocity $V$, its potential is a function of $r + Vt$ only, i.e."
     ]
    },
    {
     "cell_type": "markdown",
     "metadata": {},
     "source": [
      "$$\\tilde{V}_{d}(r,t)=\\tilde{f}_{d}(r+Vt)$$"
     ]
    },
    {
     "cell_type": "markdown",
     "metadata": {},
     "source": [
      "while its fourier components are given by"
     ]
    },
    {
     "cell_type": "markdown",
     "metadata": {},
     "source": [
      "$$V_{d}(q,\\omega)=\\delta\\left(\\omega+qV\\right)\\int dr\\tilde{f}_{d}(r)e^{-iqr}$$"
     ]
    },
    {
     "cell_type": "markdown",
     "metadata": {},
     "source": [
      "The perturbation in momentum-energy space reduces to"
     ]
    },
    {
     "cell_type": "markdown",
     "metadata": {},
     "source": [
      "$$\\delta\\rho(q,\\omega)=\\chi(q,\\omega)f_d(q)\\delta\\left(\\omega+qV\\right)$$"
     ]
    },
    {
     "cell_type": "markdown",
     "metadata": {},
     "source": [
      "The density modulation will therefore only be a function of $\\hat{r}=r+Vt$, i.e."
     ]
    },
    {
     "cell_type": "markdown",
     "metadata": {},
     "source": [
      "$$\\delta\\tilde{\\rho}(\\hat{r})=\\int dr^{\\prime}\\tilde{f}_{d}(r^{\\prime})K(\\hat{r}-r^{\\prime})$$"
     ]
    },
    {
     "cell_type": "markdown",
     "metadata": {},
     "source": [
      "We have introduced the Green function of the problem"
     ]
    },
    {
     "cell_type": "markdown",
     "metadata": {},
     "source": [
      "$$K(r)=\\int dq\\, e^{iqr}\\chi(q,-qV)$$"
     ]
    },
    {
     "cell_type": "markdown",
     "metadata": {},
     "source": [
      "to make explicit the convolution in the previous formula."
     ]
    },
    {
     "cell_type": "markdown",
     "metadata": {},
     "source": [
      "We now choose a gaussian potential of the form"
     ]
    },
    {
     "cell_type": "markdown",
     "metadata": {},
     "source": [
      "$$\\tilde{f}_{d}(r)=\\frac{g_{V}}{2\\pi\\sigma^{2}}\\exp\\left[-\\frac{r^{2}}{2\\sigma^{2}}\\right]$$"
     ]
    },
    {
     "cell_type": "markdown",
     "metadata": {},
     "source": [
      "This potential tends to a $\\delta$-function in the limit $\\sigma \\rightarrow 0$."
     ]
    },
    {
     "cell_type": "markdown",
     "metadata": {},
     "source": [
      "We can now calculate the density perturbation using 2 methods."
     ]
    },
    {
     "cell_type": "markdown",
     "metadata": {},
     "source": [
      "* Method of residues: we compute the complex integral $K$ by contour integration, using the residue theorem for the poles of the response function $\\chi$."
     ]
    },
    {
     "cell_type": "markdown",
     "metadata": {},
     "source": [
      "* Fourier method"
     ]
    },
    {
     "cell_type": "markdown",
     "metadata": {},
     "source": [
      "$$\\delta\\tilde{\\rho}(\\hat{r})=\\int dqe^{iq\\hat{r}}\\delta\\rho(q,-Vq)$$"
     ]
    },
    {
     "cell_type": "markdown",
     "metadata": {},
     "source": [
      "$$\\delta\\rho(q,-Vq)=\\chi(q,-Vq)f_{d}(q)$$"
     ]
    },
    {
     "cell_type": "markdown",
     "metadata": {},
     "source": [
      "For a gaussian defect,"
     ]
    },
    {
     "cell_type": "markdown",
     "metadata": {},
     "source": [
      "$$f_{d}(q) = g_V \\exp\\left[-\\frac{\\sigma^{2}}{2}q^{2}\\right]$$"
     ]
    },
    {
     "cell_type": "markdown",
     "metadata": {},
     "source": [
      "Drag force\n",
      "----------"
     ]
    },
    {
     "cell_type": "markdown",
     "metadata": {},
     "source": [
      "In general, it is defined as:"
     ]
    },
    {
     "cell_type": "markdown",
     "metadata": {},
     "source": [
      "$$F_{d}(t)=\\int\\mathrm{d}r\\,\\vert\\tilde{\\psi}(r,t)\\vert^{2}\\partial_{r}\\tilde{V}_{d}(r,t)$$"
     ]
    },
    {
     "cell_type": "markdown",
     "metadata": {},
     "source": [
      "For a defect moving at constant velocity $V$:"
     ]
    },
    {
     "cell_type": "markdown",
     "metadata": {},
     "source": [
      "$$F_{d}=\\int\\mathrm{d}\\hat{r}\\,\\tilde{\\rho}(\\hat{r})\\partial_{\\hat{r}}\\tilde{f}_{d}(\\hat{r}) =\\frac{n_{p}}{g\\left|X_{p}\\right|^{2}}\\int\\mathrm{d}\\hat{r}\\,\\left[1+\\delta\\tilde{\\rho}(\\hat{r})\\right]\\partial_{\\hat{r}}\\tilde{f}_{d}(\\hat{r})$$"
     ]
    },
    {
     "cell_type": "markdown",
     "metadata": {},
     "source": [
      "For a Gaussian defect shape this reduces to"
     ]
    },
    {
     "cell_type": "markdown",
     "metadata": {},
     "source": [
      "$$F_{d}=-\\frac{n_{p}}{g\\left|X_{p}\\right|^{2}}\\frac{g_{V}}{2\\pi\\sigma^{4}}\\int\\mathrm{d}\\hat{r}\\,\\delta\\tilde{\\rho}(\\hat{r})\\hat{r}\\exp\\left[-\\frac{\\hat{r}^{2}}{2\\sigma^{2}}\\right]$$"
     ]
    },
    {
     "cell_type": "markdown",
     "metadata": {},
     "source": [
      "Furthermore, if the perturbation caused by the defect has the symmetry $\\delta\\tilde{\\rho}(x,-y)=\\delta\\tilde{\\rho}(x,y)$, then only the $x$ component of the drag force survives:"
     ]
    },
    {
     "cell_type": "markdown",
     "metadata": {},
     "source": [
      "$$\\left(F_{d}\\right)_{x}=-\\frac{n_{p}}{g\\left|X_{p}\\right|^{2}}\\frac{g_{V}}{2\\pi\\sigma^{4}}\\int\\mathrm{d}xdy\\,\\delta\\tilde{\\rho}(x,y)x\\exp\\left[-\\frac{x^{2}+y^{2}}{2\\sigma^{2}}\\right]$$"
     ]
    },
    {
     "cell_type": "markdown",
     "metadata": {},
     "source": [
      "$$\\left(F_{d}\\right)_{y}=-\\frac{n_{p}}{g\\left|X_{p}\\right|^{2}}\\frac{g_{V}}{2\\pi\\sigma^{4}}\\int\\mathrm{d}xdy\\,\\delta\\tilde{\\rho}(x,y)y\\exp\\left[-\\frac{x^{2}+y^{2}}{2\\sigma^{2}}\\right]=0$$"
     ]
    },
    {
     "cell_type": "markdown",
     "metadata": {},
     "source": []
    }
   ],
   "metadata": {}
  }
 ]
}