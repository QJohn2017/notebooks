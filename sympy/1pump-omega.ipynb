{
 "metadata": {
  "name": "",
  "signature": "sha256:87163cc9d788cd57a385034a26c002839c774b308b3497c76abc92ece0a1ef92"
 },
 "nbformat": 3,
 "nbformat_minor": 0,
 "worksheets": [
  {
   "cells": [
    {
     "cell_type": "code",
     "collapsed": false,
     "input": [
      "from sympy import *"
     ],
     "language": "python",
     "metadata": {},
     "outputs": [],
     "prompt_number": 1
    },
    {
     "cell_type": "code",
     "collapsed": false,
     "input": [
      "init_printing(use_unicode=True)"
     ],
     "language": "python",
     "metadata": {},
     "outputs": [],
     "prompt_number": 2
    },
    {
     "cell_type": "code",
     "collapsed": false,
     "input": [
      "#from sympy import init_printing\n",
      "#TODO: implement latest post of sympy group discussion"
     ],
     "language": "python",
     "metadata": {},
     "outputs": [],
     "prompt_number": 3
    },
    {
     "cell_type": "code",
     "collapsed": false,
     "input": [
      "from sympy.utilities.misc import filldedent\n",
      "#usage: print filldedent(eq)"
     ],
     "language": "python",
     "metadata": {},
     "outputs": [],
     "prompt_number": 4
    },
    {
     "cell_type": "code",
     "collapsed": false,
     "input": [
      "from sympy.core.function import AppliedUndef\n",
      "from sympy.strategies.traverse import bottom_up\n",
      "from sympy.strategies import chain, rebuild\n",
      "import collections\n",
      "from sympy.unify import unify"
     ],
     "language": "python",
     "metadata": {},
     "outputs": [],
     "prompt_number": 5
    },
    {
     "cell_type": "code",
     "collapsed": false,
     "input": [
      "k, q, kp, q1, q2 = symbols('k q k_p q_1 q_2', integer=True)\n",
      "omega, omegap = symbols('omega omega_p', integer=True)"
     ],
     "language": "python",
     "metadata": {},
     "outputs": [],
     "prompt_number": 6
    },
    {
     "cell_type": "code",
     "collapsed": false,
     "input": [
      "utp, vtp, up, vp, C, X, M, Q, R, Vd, lam = symbols('utilde_p vtilde_p u_p v_p C X M Q R V_d lambda', cls=Function)\n",
      "psissp, psip, fp = symbols('psi^ss_p psi_p f_p')\n",
      "t, gv, phip = symbols('t g_v phi_p', real=True)\n",
      "g, np = symbols('g n_p', positive=True)"
     ],
     "language": "python",
     "metadata": {},
     "outputs": [],
     "prompt_number": 7
    },
    {
     "cell_type": "code",
     "collapsed": false,
     "input": [
      "class epsilon(Function):\n",
      "    is_real = True\n",
      "class kappa(Function):\n",
      "    is_real = True"
     ],
     "language": "python",
     "metadata": {},
     "outputs": [],
     "prompt_number": 8
    },
    {
     "cell_type": "code",
     "collapsed": false,
     "input": [
      "class psitilde(Function):\n",
      "    nargs = 2\n",
      "\n",
      "    @classmethod\n",
      "    def eval(cls, k, omega):\n",
      "        return psip/(sqrt(g)*X(kp)) * KroneckerDelta(k, kp) * KroneckerDelta(omega, omegap) + \\\n",
      "               utp(k-kp, omega-omegap) + conjugate(vtp(kp-k, omegap-omega))\n",
      "    def _latex(self, printer):\n",
      "        return r'\\tilde{\\psi(%s \\right)}' % printer._print(self.args[0])"
     ],
     "language": "python",
     "metadata": {},
     "outputs": [],
     "prompt_number": 9
    },
    {
     "cell_type": "code",
     "collapsed": false,
     "input": [
      "psitilde(k, omega)"
     ],
     "language": "python",
     "metadata": {},
     "outputs": [
      {
       "latex": [
        "$$\\tilde{u}_{p}{\\left (k - k_{p},\\omega - \\omega_{p} \\right )} + \\overline{\\tilde{v}_{p}{\\left (- k + k_{p},- \\omega + \\omega_{p} \\right )}} + \\frac{\\psi_{p} \\delta_{k k_{p}} \\delta_{\\omega \\omega_{p}}}{\\sqrt{g} X{\\left (k_{p} \\right )}}$$"
       ],
       "metadata": {},
       "output_type": "pyout",
       "png": "[encoded data removed]",
       "prompt_number": 10,
       "text": [
        "                                                    \u03c8_p\u22c5\u03b4     \u22c5\u03b4     \n",
        "                         ________________________        k,k_p  \u03c9,\u03c9_p\n",
        "u\u0303_p(k - k_p, \u03c9 - \u03c9_p) + v\u0303_p(-k + k_p, -\u03c9 + \u03c9_p) + \u2500\u2500\u2500\u2500\u2500\u2500\u2500\u2500\u2500\u2500\u2500\u2500\u2500\u2500\u2500\u2500\u2500\n",
        "                                                         ___         \n",
        "                                                       \u2572\u2571 g \u22c5X(k_p)  "
       ]
      }
     ],
     "prompt_number": 10
    },
    {
     "cell_type": "code",
     "collapsed": false,
     "input": [
      "class psitildebar(Function):\n",
      "    nargs = 2\n",
      "\n",
      "    @classmethod\n",
      "    def eval(cls, k, omega):\n",
      "        return conjugate(psitilde(k,omega))\n",
      "    def _latex(self, printer):\n",
      "        return r'\\bar{\\tilde{\\psi(%s \\right)}}' % printer._print(self.args[0])"
     ],
     "language": "python",
     "metadata": {},
     "outputs": [],
     "prompt_number": 11
    },
    {
     "cell_type": "code",
     "collapsed": false,
     "input": [
      "psitildebar(k, omega)"
     ],
     "language": "python",
     "metadata": {},
     "outputs": [
      {
       "latex": [
        "$$\\tilde{v}_{p}{\\left (- k + k_{p},- \\omega + \\omega_{p} \\right )} + \\overline{\\tilde{u}_{p}{\\left (k - k_{p},\\omega - \\omega_{p} \\right )}} + \\frac{\\overline{\\psi_{p}} \\delta_{k k_{p}} \\delta_{\\omega \\omega_{p}}}{\\sqrt{g} \\overline{X{\\left (k_{p} \\right )}}}$$"
       ],
       "metadata": {},
       "output_type": "pyout",
       "png": "[encoded data removed]",
       "prompt_number": 12,
       "text": [
        "                                                    ___              \n",
        "                                                    \u03c8_p\u22c5\u03b4     \u22c5\u03b4     \n",
        "                           ______________________        k,k_p  \u03c9,\u03c9_p\n",
        "v\u0303_p(-k + k_p, -\u03c9 + \u03c9_p) + u\u0303_p(k - k_p, \u03c9 - \u03c9_p) + \u2500\u2500\u2500\u2500\u2500\u2500\u2500\u2500\u2500\u2500\u2500\u2500\u2500\u2500\u2500\u2500\u2500\n",
        "                                                         ___ ______  \n",
        "                                                       \u2572\u2571 g \u22c5X(k_p)  "
       ]
      }
     ],
     "prompt_number": 12
    },
    {
     "cell_type": "code",
     "collapsed": false,
     "input": [
      "class meanfieldize(Function):\n",
      "    nargs = 1\n",
      "\n",
      "    @classmethod\n",
      "    def eval(cls, expr):\n",
      "        flist = utp, vtp\n",
      "        funcs = [fi for fi in expr.atoms(AppliedUndef) if fi.func in flist]\n",
      "        linear = []\n",
      "        for a in Add.make_args(expr):\n",
      "            if not a.has(*funcs):\n",
      "                linear.append(a)\n",
      "        return Add(*linear)"
     ],
     "language": "python",
     "metadata": {},
     "outputs": [],
     "prompt_number": 15
    },
    {
     "cell_type": "code",
     "collapsed": false,
     "input": [
      "class linearize(Function):\n",
      "    nargs = 1\n",
      "\n",
      "    @classmethod\n",
      "    def eval(cls, expr):\n",
      "        flist = utp, vtp\n",
      "        funcs = [fi for fi in expr.atoms(AppliedUndef) if fi.func in flist]\n",
      "        linear = []\n",
      "        for a in Add.make_args(expr):\n",
      "            if not a.has(*funcs) or Poly(a, *funcs).is_linear and len(a.atoms(*funcs))==1:\n",
      "                linear.append(a)\n",
      "        return Add(*linear)"
     ],
     "language": "python",
     "metadata": {},
     "outputs": [],
     "prompt_number": 16
    },
    {
     "cell_type": "code",
     "collapsed": false,
     "input": [
      "class psitildeMF(Function):\n",
      "    nargs = 2\n",
      "\n",
      "    @classmethod\n",
      "    def eval(cls, k, omega):\n",
      "        return meanfieldize(psitilde(k,omega))\n",
      "    def _latex(self, printer):\n",
      "        return r'\\tilde{\\psi_{\\text{MF}}(%s \\right)}' % printer._print(self.args[0])"
     ],
     "language": "python",
     "metadata": {},
     "outputs": [],
     "prompt_number": 17
    },
    {
     "cell_type": "code",
     "collapsed": false,
     "input": [
      "psitildeMF(k, omega)"
     ],
     "language": "python",
     "metadata": {},
     "outputs": [
      {
       "latex": [
        "$$\\frac{\\psi_{p} \\delta_{k k_{p}} \\delta_{\\omega \\omega_{p}}}{\\sqrt{g} X{\\left (k_{p} \\right )}}$$"
       ],
       "metadata": {},
       "output_type": "pyout",
       "png": "[encoded data removed]",
       "prompt_number": 18,
       "text": [
        "\u03c8_p\u22c5\u03b4     \u22c5\u03b4     \n",
        "     k,k_p  \u03c9,\u03c9_p\n",
        "\u2500\u2500\u2500\u2500\u2500\u2500\u2500\u2500\u2500\u2500\u2500\u2500\u2500\u2500\u2500\u2500\u2500\n",
        "     ___         \n",
        "   \u2572\u2571 g \u22c5X(k_p)  "
       ]
      }
     ],
     "prompt_number": 18
    },
    {
     "cell_type": "code",
     "collapsed": false,
     "input": [
      "def to_abs(node):\n",
      "    if not isinstance(node, Mul):\n",
      "        return node\n",
      "    zm1, zm2 = symbols('zm1, zm2')\n",
      "    m = unify(node, zm1 * zm2 * conjugate(zm2), {}, variables=[zm1, zm2])\n",
      "    try:\n",
      "        m = next(m)\n",
      "    except:\n",
      "        return node\n",
      "    e = m[zm2]\n",
      "    return node.xreplace({e: S.One, conjugate(e): S.One})*abs(e)**2"
     ],
     "language": "python",
     "metadata": {},
     "outputs": [],
     "prompt_number": 9
    },
    {
     "cell_type": "code",
     "collapsed": false,
     "input": [
      "def get_unflattener(m):\n",
      "        m_args = list(m.args)\n",
      "        def unflattener(node):\n",
      "                new_args = []\n",
      "                sub_add_args = []\n",
      "                for arg in node.args:\n",
      "                        common = [i for i in arg.args if i in m_args]\n",
      "                        if set(common) == set(m_args):\n",
      "                                sub_add_args.append(arg)\n",
      "                        else:\n",
      "                                new_args.append(arg)\n",
      "                sub_add = Add(*[i.func(*[j for j in i.args if j not in m_args]) for i in sub_add_args], evaluate=False)\n",
      "                return Add(*(new_args + [Mul(*(m_args + [sub_add]), evaluate=False)]), evaluate=False)\n",
      "        return unflattener"
     ],
     "language": "python",
     "metadata": {},
     "outputs": [],
     "prompt_number": 10
    },
    {
     "cell_type": "heading",
     "level": 1,
     "metadata": {},
     "source": [
      "Theoretical model"
     ]
    },
    {
     "cell_type": "markdown",
     "metadata": {},
     "source": [
      "The starting GP eq. for the LP band with a $\\delta$-like defect and one pump is:"
     ]
    },
    {
     "cell_type": "markdown",
     "metadata": {},
     "source": [
      "$$\\omega \\widetilde{\\psi}(k, \\omega) = \\left[\\epsilon(k)-i \n",
      "\\frac{\\kappa(k)}{2}\\right]\\widetilde{\\psi}(k, \\omega) + F_p C_p \\delta(k-k_p) \\delta(\\omega-\\omega_p)$$"
     ]
    },
    {
     "cell_type": "markdown",
     "metadata": {},
     "source": [
      "$$+ \\sum_{q_1,q_2} g_{k,q_1,q_2} \\widetilde{\\psi}^{*}(q_1+q_2-\n",
      "k, \\omega)\\widetilde{\\psi}(q_1, \\omega)\\widetilde{\\psi}(q_2, \\omega)$$"
     ]
    },
    {
     "cell_type": "markdown",
     "metadata": {},
     "source": [
      "$$+ C(k) \\sum_q C(q) V_d(k-q, \\omega) \\widetilde{\\psi}(q, \\omega)$$"
     ]
    },
    {
     "cell_type": "markdown",
     "metadata": {},
     "source": [
      "and the polariton-polariton interaction"
     ]
    },
    {
     "cell_type": "markdown",
     "metadata": {},
     "source": [
      "$$g_{k,q_1,q_2} = g X^*(k) X^*(q_1+q_2-k) X(q_1) X(q_2)$$"
     ]
    },
    {
     "cell_type": "markdown",
     "metadata": {},
     "source": [
      "The ansatz for the wavefunction in momentum space reads"
     ]
    },
    {
     "cell_type": "markdown",
     "metadata": {},
     "source": [
      "$$\\widetilde{\\psi}(k, \\omega) = \\psi^{\\text{ss}}_p \\delta(k-k_p) \\delta(\\omega-\\omega_p) +\n",
      "\\widetilde{u}_p(k-k_p, \\omega-\\omega_p) + \\widetilde{v}^*_p(k_p-k, \\omega_p - \\omega)$$"
     ]
    },
    {
     "cell_type": "markdown",
     "metadata": {},
     "source": [
      "where we have used the Fourier transforms"
     ]
    },
    {
     "cell_type": "markdown",
     "metadata": {},
     "source": [
      "$$u(r, t)=\\sum_{k, \\omega} \\widetilde{u}(k, \\omega) e^{ikr} e^{-i \\omega t}$$ "
     ]
    },
    {
     "cell_type": "markdown",
     "metadata": {},
     "source": [
      "and the equivalent for $v$."
     ]
    },
    {
     "cell_type": "heading",
     "level": 1,
     "metadata": {},
     "source": [
      "Notation"
     ]
    },
    {
     "cell_type": "markdown",
     "metadata": {},
     "source": [
      "$$f_p = \\sqrt{g} \\frac{C_p}{X_p} F_p$$"
     ]
    },
    {
     "cell_type": "markdown",
     "metadata": {},
     "source": [
      "$$I_p = \\left| f_p \\right|^2$$"
     ]
    },
    {
     "cell_type": "markdown",
     "metadata": {},
     "source": [
      "$$\\psi_p= \\sqrt{g} X_p \\psi^{\\text{ss}}_p$$"
     ]
    },
    {
     "cell_type": "markdown",
     "metadata": {},
     "source": [
      "$$ n_p = \\left|\\psi_p \\right|^2$$"
     ]
    },
    {
     "cell_type": "heading",
     "level": 1,
     "metadata": {},
     "source": [
      "Left-hand side"
     ]
    },
    {
     "cell_type": "code",
     "collapsed": false,
     "input": [
      "lhs = expand(omega*psitilde(k,omega))"
     ],
     "language": "python",
     "metadata": {},
     "outputs": [],
     "prompt_number": 19
    },
    {
     "cell_type": "code",
     "collapsed": false,
     "input": [
      "lhsMF = meanfieldize(lhs)"
     ],
     "language": "python",
     "metadata": {},
     "outputs": [],
     "prompt_number": 21
    },
    {
     "cell_type": "code",
     "collapsed": false,
     "input": [
      "lhsLIN = lhs - lhsMF"
     ],
     "language": "python",
     "metadata": {},
     "outputs": [],
     "prompt_number": 22
    },
    {
     "cell_type": "heading",
     "level": 1,
     "metadata": {},
     "source": [
      "Right-hand side"
     ]
    },
    {
     "cell_type": "code",
     "collapsed": false,
     "input": [
      "rhs1 = expand((epsilon(k) - I*kappa(k)/2) * psitilde(k,omega))"
     ],
     "language": "python",
     "metadata": {},
     "outputs": [],
     "prompt_number": 25
    },
    {
     "cell_type": "code",
     "collapsed": false,
     "input": [
      "rhs1MF = meanfieldize(rhs1)"
     ],
     "language": "python",
     "metadata": {},
     "outputs": [],
     "prompt_number": 26
    },
    {
     "cell_type": "code",
     "collapsed": false,
     "input": [
      "rhs1LIN = rhs1 - rhs1MF"
     ],
     "language": "python",
     "metadata": {},
     "outputs": [],
     "prompt_number": 27
    },
    {
     "cell_type": "code",
     "collapsed": false,
     "input": [
      "rhs2LIN = Sum(expand(Vd(k-q, omega)*C(k)*C(q)*psitildeMF(q,omega)), (q, -oo, oo)).doit()"
     ],
     "language": "python",
     "metadata": {},
     "outputs": [],
     "prompt_number": 28
    },
    {
     "cell_type": "code",
     "collapsed": false,
     "input": [
      "thirdorder = expand(g*conjugate(X(k))*conjugate(X(q1+q2-k))*X(q1)*X(q2)*psitilde(q1,omega)*psitilde(q2,omega)*psitildebar(q1+q2-k,omega))"
     ],
     "language": "python",
     "metadata": {},
     "outputs": [],
     "prompt_number": 29
    },
    {
     "cell_type": "code",
     "collapsed": false,
     "input": [
      "summandMF = meanfieldize(thirdorder)"
     ],
     "language": "python",
     "metadata": {},
     "outputs": [],
     "prompt_number": 30
    },
    {
     "cell_type": "code",
     "collapsed": false,
     "input": [
      "summand = linearize(thirdorder)"
     ],
     "language": "python",
     "metadata": {},
     "outputs": [],
     "prompt_number": 31
    },
    {
     "cell_type": "code",
     "collapsed": false,
     "input": [
      "summandLIN = expand(summand) - expand(summandMF)"
     ],
     "language": "python",
     "metadata": {},
     "outputs": [],
     "prompt_number": 32
    },
    {
     "cell_type": "code",
     "collapsed": false,
     "input": [
      "rhs3LIN = Sum(Sum(summandLIN, (q1, -oo, oo)).doit(), (q2, -oo, oo)).doit()"
     ],
     "language": "python",
     "metadata": {},
     "outputs": [],
     "prompt_number": 33
    },
    {
     "cell_type": "code",
     "collapsed": false,
     "input": [
      "rhsLIN = rhs1LIN + rhs2LIN"
     ],
     "language": "python",
     "metadata": {},
     "outputs": [],
     "prompt_number": 34
    },
    {
     "cell_type": "heading",
     "level": 1,
     "metadata": {},
     "source": [
      "Mean-field"
     ]
    },
    {
     "cell_type": "code",
     "collapsed": false,
     "input": [
      "rhs3MF = Sum(Sum(summandMF, (q1, -oo, oo)).doit(), (q2, -oo, oo)).doit()"
     ],
     "language": "python",
     "metadata": {},
     "outputs": [],
     "prompt_number": 35
    },
    {
     "cell_type": "code",
     "collapsed": false,
     "input": [
      "rhsMF = rhs1MF + X(kp)*fp/sqrt(g)*KroneckerDelta(k, kp)*KroneckerDelta(omega, omegap) + rhs3MF"
     ],
     "language": "python",
     "metadata": {},
     "outputs": [],
     "prompt_number": 36
    },
    {
     "cell_type": "code",
     "collapsed": false,
     "input": [
      "rhsMF1 = Sum(rhsMF, (omega, -oo, oo)).doit()"
     ],
     "language": "python",
     "metadata": {},
     "outputs": [],
     "prompt_number": 41
    },
    {
     "cell_type": "code",
     "collapsed": false,
     "input": [
      "lhsMF1 = Sum(lhsMF, (omega, -oo, oo)).doit()"
     ],
     "language": "python",
     "metadata": {},
     "outputs": [],
     "prompt_number": 43
    },
    {
     "cell_type": "code",
     "collapsed": false,
     "input": [
      "eqMF1 = expand(sqrt(g)*X(kp)*Sum(rhsMF1 - lhsMF1, (k, -oo, oo)).doit())"
     ],
     "language": "python",
     "metadata": {},
     "outputs": [],
     "prompt_number": 45
    },
    {
     "cell_type": "code",
     "collapsed": false,
     "input": [
      "eqMF1"
     ],
     "language": "python",
     "metadata": {},
     "outputs": [
      {
       "latex": [
        "$$f_{p} X^{2}{\\left (k_{p} \\right )} - \\omega_{p} \\psi_{p} + \\psi_{p}^{2} X{\\left (k_{p} \\right )} \\overline{\\psi_{p}} \\overline{X{\\left (k_{p} \\right )}} + \\psi_{p} \\epsilon{\\left (k_{p} \\right )} - \\frac{i \\psi_{p}}{2} \\kappa{\\left (k_{p} \\right )}$$"
       ],
       "metadata": {},
       "output_type": "pyout",
       "png": "[encoded data removed]",
       "prompt_number": 46,
       "text": [
        "     2                     2        ___ ______                \u2148\u22c5\u03c8_p\u22c5\u03ba(k_p)\n",
        "f_p\u22c5X (k_p) - \u03c9_p\u22c5\u03c8_p + \u03c8_p \u22c5X(k_p)\u22c5\u03c8_p\u22c5X(k_p) + \u03c8_p\u22c5\u03b5(k_p) - \u2500\u2500\u2500\u2500\u2500\u2500\u2500\u2500\u2500\u2500\u2500\u2500\n",
        "                                                                   2      "
       ]
      }
     ],
     "prompt_number": 46
    },
    {
     "cell_type": "markdown",
     "metadata": {},
     "source": [
      "$$\\left[\\epsilon_p-\\omega_{p}+\\left|X_{p}\\right|^{2}n_{p}-i\\frac{\\kappa_p}{2}\\right]\\psi_{p}=-X_{p}^{2}f_{p}$$"
     ]
    },
    {
     "cell_type": "markdown",
     "metadata": {},
     "source": [
      "$$\\left[\\left(\\frac{\\epsilon_{p}-\\omega_{p}}{\\kappa_{p}}+\\left|X_{p}\\right|^{2}\\frac{n_{p}}{\\kappa_{p}}\\right)^{2}+\\frac{1}{4}\\right]\\frac{n_{p}}{\\kappa_{p}}=\\left|X_{p}\\right|^{4}\\frac{I_{p}}{\\kappa_{p}^{3}}$$"
     ]
    },
    {
     "cell_type": "heading",
     "level": 1,
     "metadata": {},
     "source": [
      "Linear response"
     ]
    },
    {
     "cell_type": "heading",
     "level": 2,
     "metadata": {},
     "source": [
      "Left-hand side"
     ]
    },
    {
     "cell_type": "code",
     "collapsed": false,
     "input": [
      "fd1 = Sum(KroneckerDelta(omega, omegap)*(rhsLIN - lhsLIN).coeff(KroneckerDelta(omega, omegap)), (omega, -oo, oo)).doit()"
     ],
     "language": "python",
     "metadata": {},
     "outputs": [],
     "prompt_number": 53
    },
    {
     "cell_type": "code",
     "collapsed": false,
     "input": [
      "lhsLIN11 = omega*utp(k - kp, omega - omegap)\n",
      "lhsLIN12 = omega*conjugate(vtp(-k + kp, -omega + omegap))"
     ],
     "language": "python",
     "metadata": {},
     "outputs": [],
     "prompt_number": 61
    },
    {
     "cell_type": "heading",
     "level": 2,
     "metadata": {},
     "source": [
      "Right-hand side"
     ]
    },
    {
     "cell_type": "code",
     "collapsed": false,
     "input": [
      "rhsLIN"
     ],
     "language": "python",
     "metadata": {},
     "outputs": [
      {
       "latex": [
        "$$\\epsilon{\\left (k \\right )} \\tilde{u}_{p}{\\left (k - k_{p},\\omega - \\omega_{p} \\right )} + \\epsilon{\\left (k \\right )} \\overline{\\tilde{v}_{p}{\\left (- k + k_{p},- \\omega + \\omega_{p} \\right )}} - \\frac{i}{2} \\kappa{\\left (k \\right )} \\tilde{u}_{p}{\\left (k - k_{p},\\omega - \\omega_{p} \\right )} - \\frac{i}{2} \\kappa{\\left (k \\right )} \\overline{\\tilde{v}_{p}{\\left (- k + k_{p},- \\omega + \\omega_{p} \\right )}} + \\frac{\\psi_{p} C{\\left (k \\right )} C{\\left (k_{p} \\right )}}{\\sqrt{g} X{\\left (k_{p} \\right )}} \\operatorname{V_{d}}{\\left (k - k_{p},\\omega \\right )} \\delta_{\\omega \\omega_{p}}$$"
       ],
       "metadata": {},
       "output_type": "pyout",
       "png": "[encoded data removed]",
       "prompt_number": 57,
       "text": [
        "                                                                              \n",
        "                                   ________________________   \u2148\u22c5\u03ba(k)\u22c5u\u0303_p(k - \n",
        "\u03b5(k)\u22c5u\u0303_p(k - k_p, \u03c9 - \u03c9_p) + \u03b5(k)\u22c5v\u0303_p(-k + k_p, -\u03c9 + \u03c9_p) - \u2500\u2500\u2500\u2500\u2500\u2500\u2500\u2500\u2500\u2500\u2500\u2500\u2500\u2500\u2500\u2500\n",
        "                                                                            2 \n",
        "                                                                              \n",
        "\n",
        "                       ________________________   \u03c8_p\u22c5C(k)\u22c5C(k_p)\u22c5V_d(k - k_p,\n",
        "k_p, \u03c9 - \u03c9_p)   \u2148\u22c5\u03ba(k)\u22c5v\u0303_p(-k + k_p, -\u03c9 + \u03c9_p)                               \n",
        "\u2500\u2500\u2500\u2500\u2500\u2500\u2500\u2500\u2500\u2500\u2500\u2500\u2500 - \u2500\u2500\u2500\u2500\u2500\u2500\u2500\u2500\u2500\u2500\u2500\u2500\u2500\u2500\u2500\u2500\u2500\u2500\u2500\u2500\u2500\u2500\u2500\u2500\u2500\u2500\u2500\u2500\u2500\u2500\u2500 + \u2500\u2500\u2500\u2500\u2500\u2500\u2500\u2500\u2500\u2500\u2500\u2500\u2500\u2500\u2500\u2500\u2500\u2500\u2500\u2500\u2500\u2500\u2500\u2500\u2500\u2500\u2500\u2500\n",
        "                               2                                 ___          \n",
        "                                                               \u2572\u2571 g \u22c5X(k_p)   \n",
        "\n",
        " \u03c9)\u22c5\u03b4     \n",
        "     \u03c9,\u03c9_p\n",
        "\u2500\u2500\u2500\u2500\u2500\u2500\u2500\u2500\u2500\u2500\n",
        "          \n",
        "          "
       ]
      }
     ],
     "prompt_number": 57
    },
    {
     "cell_type": "code",
     "collapsed": false,
     "input": [
      "rhsLIN11 = rhsLIN.coeff(exp(-I*omega*t)*exp(-I*omegap*t)) \n",
      "rhsLIN12 = rhsLIN.coeff(exp(I*omega*t)*exp(-I*omegap*t))"
     ],
     "language": "python",
     "metadata": {},
     "outputs": [],
     "prompt_number": 31
    },
    {
     "cell_type": "code",
     "collapsed": false,
     "input": [
      "rhs3LIN"
     ],
     "language": "python",
     "metadata": {},
     "outputs": [
      {
       "latex": [
        "$$\\psi_{p}^{2} \\tilde{v}_{p}{\\left (k - k_{p},- \\omega + \\omega_{p} \\right )} \\overline{X{\\left (k \\right )}} \\overline{X{\\left (- k + 2 k_{p} \\right )}} \\delta_{\\omega \\omega_{p}} + \\psi_{p}^{2} \\overline{X{\\left (k \\right )}} \\overline{X{\\left (- k + 2 k_{p} \\right )}} \\overline{\\tilde{u}_{p}{\\left (- k + k_{p},\\omega - \\omega_{p} \\right )}} \\delta_{\\omega \\omega_{p}} + 2 \\psi_{p} X{\\left (k \\right )} \\tilde{u}_{p}{\\left (k - k_{p},\\omega - \\omega_{p} \\right )} \\overline{\\psi_{p}} \\overline{X{\\left (k \\right )}} \\delta_{\\omega \\omega_{p}} + 2 \\psi_{p} X{\\left (k \\right )} \\overline{\\psi_{p}} \\overline{X{\\left (k \\right )}} \\overline{\\tilde{v}_{p}{\\left (- k + k_{p},- \\omega + \\omega_{p} \\right )}} \\delta_{\\omega \\omega_{p}}$$"
       ],
       "metadata": {},
       "output_type": "pyout",
       "png": "[encoded data removed]",
       "prompt_number": 64,
       "text": [
        "   2                         ____ _____________             2 ____ ___________\n",
        "\u03c8_p \u22c5v\u0303_p(k - k_p, -\u03c9 + \u03c9_p)\u22c5X(k)\u22c5X(-k + 2\u22c5k_p)\u22c5\u03b4      + \u03c8_p \u22c5X(k)\u22c5X(-k + 2\u22c5k_\n",
        "                                                 \u03c9,\u03c9_p                        \n",
        "\n",
        "__ _______________________                                            ___ ____\n",
        "p)\u22c5u\u0303_p(-k + k_p, \u03c9 - \u03c9_p)\u22c5\u03b4      + 2\u22c5\u03c8_p\u22c5X(k)\u22c5u\u0303_p(k - k_p, \u03c9 - \u03c9_p)\u22c5\u03c8_p\u22c5X(k)\n",
        "                            \u03c9,\u03c9_p                                             \n",
        "\n",
        "                     ___ ____ ________________________       \n",
        "\u22c5\u03b4      + 2\u22c5\u03c8_p\u22c5X(k)\u22c5\u03c8_p\u22c5X(k)\u22c5v\u0303_p(-k + k_p, -\u03c9 + \u03c9_p)\u22c5\u03b4     \n",
        "  \u03c9,\u03c9_p                                                 \u03c9,\u03c9_p"
       ]
      }
     ],
     "prompt_number": 64
    },
    {
     "cell_type": "code",
     "collapsed": false,
     "input": [
      "rhs3LIN11 = rhs3LIN.coeff(exp(-I*omega*t)*exp(-I*omegap*t))\n",
      "rhs3LIN12 = rhs3LIN.coeff(exp(I*omega*t)*exp(-I*omegap*t))"
     ],
     "language": "python",
     "metadata": {},
     "outputs": [],
     "prompt_number": 32
    },
    {
     "cell_type": "heading",
     "level": 2,
     "metadata": {},
     "source": [
      "Resulting equations"
     ]
    },
    {
     "cell_type": "code",
     "collapsed": false,
     "input": [
      "eq11 = (rhsLIN11 + rhs3LIN11 - lhsLIN11).subs(k, k+kp)\n",
      "eq12 = (-conjugate(rhsLIN12 + rhs3LIN12 - lhsLIN12)).subs(k, kp-k)\n",
      "fd11 = fd1.subs(k, k+kp)\n",
      "fd12 = (-conjugate(fd1)).subs(k, kp-k)\n",
      "Fd = Matrix([fd11, fd12])\n",
      "varbs = Matrix([utp(k), vtp(k)])"
     ],
     "language": "python",
     "metadata": {},
     "outputs": [],
     "prompt_number": 33
    },
    {
     "cell_type": "code",
     "collapsed": false,
     "input": [
      "[fi for fi in eq11.atoms(AppliedUndef) if fi.func in [utp, vtp]]"
     ],
     "language": "python",
     "metadata": {},
     "outputs": [
      {
       "latex": [
        "$$\\begin{bmatrix}\\tilde{u}_{p}{\\left (k \\right )}, & \\tilde{v}_{p}{\\left (k \\right )}\\end{bmatrix}$$"
       ],
       "metadata": {},
       "output_type": "pyout",
       "png": "[encoded data removed]",
       "prompt_number": 34,
       "text": [
        "[u\u0303_p(k), v\u0303_p(k)]"
       ]
      }
     ],
     "prompt_number": 34
    },
    {
     "cell_type": "code",
     "collapsed": false,
     "input": [
      "A = Matrix([eq11, eq12]).jacobian(varbs)"
     ],
     "language": "python",
     "metadata": {},
     "outputs": [],
     "prompt_number": 35
    },
    {
     "cell_type": "code",
     "collapsed": false,
     "input": [
      "L = ((A + omega*eye(2)).applyfunc(lambda elem: bottom_up(chain(rebuild, to_abs))(elem))).applyfunc(lambda elem: bottom_up(chain(rebuild, to_abs))(elem))"
     ],
     "language": "python",
     "metadata": {},
     "outputs": [],
     "prompt_number": 36
    },
    {
     "cell_type": "code",
     "collapsed": false,
     "input": [
      "L[0,0] = get_unflattener(2*Abs(X(k + kp))**2)(L[0,0])\n",
      "L[1,1] = get_unflattener(-2*Abs(X(-k + kp))**2)(L[1,1])"
     ],
     "language": "python",
     "metadata": {},
     "outputs": [],
     "prompt_number": 37
    },
    {
     "cell_type": "code",
     "collapsed": false,
     "input": [
      "L = L.replace(Abs(psip)**2, np); L"
     ],
     "language": "python",
     "metadata": {},
     "outputs": [
      {
       "latex": [
        "$$\\left[\\begin{matrix}2 n_{p} \\left\\lvert{X{\\left (k + k_{p} \\right )}}\\right\\rvert^{2} - \\omega_{p} + \\epsilon{\\left (k + k_{p} \\right )} - \\frac{i}{2} \\kappa{\\left (k + k_{p} \\right )} & \\psi_{p}^{2} \\overline{X{\\left (- k + k_{p} \\right )}} \\overline{X{\\left (k + k_{p} \\right )}}\\\\- X{\\left (- k + k_{p} \\right )} X{\\left (k + k_{p} \\right )} \\overline{\\psi_{p}}^{2} & - 2 n_{p} \\left\\lvert{X{\\left (- k + k_{p} \\right )}}\\right\\rvert^{2} + \\omega_{p} - \\epsilon{\\left (- k + k_{p} \\right )} - \\frac{i}{2} \\kappa{\\left (- k + k_{p} \\right )}\\end{matrix}\\right]$$"
       ],
       "metadata": {},
       "output_type": "pyout",
       "png": "[encoded data removed]",
       "prompt_number": 38,
       "text": [
        "\u23a1                  2                      \u2148\u22c5\u03ba(k + k_p)                    2 __\n",
        "\u23a22\u22c5n_p\u22c5\u2502X(k + k_p)\u2502  - \u03c9_p + \u03b5(k + k_p) - \u2500\u2500\u2500\u2500\u2500\u2500\u2500\u2500\u2500\u2500\u2500\u2500                 \u03c8_p \u22c5X(\n",
        "\u23a2                                              2                              \n",
        "\u23a2                                                                             \n",
        "\u23a2                                       2                                     \n",
        "\u23a2                                    ___                                     2\n",
        "\u23a2            -X(-k + k_p)\u22c5X(k + k_p)\u22c5\u03c8_p                - 2\u22c5n_p\u22c5\u2502X(-k + k_p)\u2502 \n",
        "\u23a3                                                                             \n",
        "\n",
        "_________ __________                \u23a4\n",
        "-k + k_p)\u22c5X(k + k_p)                \u23a5\n",
        "                                    \u23a5\n",
        "                                    \u23a5\n",
        "                                    \u23a5\n",
        "                       \u2148\u22c5\u03ba(-k + k_p)\u23a5\n",
        " + \u03c9_p - \u03b5(-k + k_p) - \u2500\u2500\u2500\u2500\u2500\u2500\u2500\u2500\u2500\u2500\u2500\u2500\u2500\u23a5\n",
        "                             2      \u23a6"
       ]
      }
     ],
     "prompt_number": 38
    },
    {
     "cell_type": "code",
     "collapsed": false,
     "input": [
      "L = L.subs({psip:sqrt(np)*exp(I*phip)}); L"
     ],
     "language": "python",
     "metadata": {},
     "outputs": [
      {
       "latex": [
        "$$\\left[\\begin{matrix}2 n_{p} \\left\\lvert{X{\\left (k + k_{p} \\right )}}\\right\\rvert^{2} - \\omega_{p} + \\epsilon{\\left (k + k_{p} \\right )} - \\frac{i}{2} \\kappa{\\left (k + k_{p} \\right )} & n_{p} e^{2 i \\phi_{p}} \\overline{X{\\left (- k + k_{p} \\right )}} \\overline{X{\\left (k + k_{p} \\right )}}\\\\- n_{p} X{\\left (- k + k_{p} \\right )} X{\\left (k + k_{p} \\right )} e^{- 2 i \\phi_{p}} & - 2 n_{p} \\left\\lvert{X{\\left (- k + k_{p} \\right )}}\\right\\rvert^{2} + \\omega_{p} - \\epsilon{\\left (- k + k_{p} \\right )} - \\frac{i}{2} \\kappa{\\left (- k + k_{p} \\right )}\\end{matrix}\\right]$$"
       ],
       "metadata": {},
       "output_type": "pyout",
       "png": "[encoded data removed]",
       "prompt_number": 39,
       "text": [
        "\u23a1                  2                      \u2148\u22c5\u03ba(k + k_p)                  2\u22c5\u2148\u22c5\u03c6_\n",
        "\u23a22\u22c5n_p\u22c5\u2502X(k + k_p)\u2502  - \u03c9_p + \u03b5(k + k_p) - \u2500\u2500\u2500\u2500\u2500\u2500\u2500\u2500\u2500\u2500\u2500\u2500             n_p\u22c5\u212f      \n",
        "\u23a2                                              2                              \n",
        "\u23a2                                                                             \n",
        "\u23a2                                     -2\u22c5\u2148\u22c5\u03c6_p                               2\n",
        "\u23a2        -n_p\u22c5X(-k + k_p)\u22c5X(k + k_p)\u22c5\u212f                  - 2\u22c5n_p\u22c5\u2502X(-k + k_p)\u2502 \n",
        "\u23a3                                                                             \n",
        "\n",
        "p ___________ __________            \u23a4\n",
        " \u22c5X(-k + k_p)\u22c5X(k + k_p)            \u23a5\n",
        "                                    \u23a5\n",
        "                                    \u23a5\n",
        "                       \u2148\u22c5\u03ba(-k + k_p)\u23a5\n",
        " + \u03c9_p - \u03b5(-k + k_p) - \u2500\u2500\u2500\u2500\u2500\u2500\u2500\u2500\u2500\u2500\u2500\u2500\u2500\u23a5\n",
        "                             2      \u23a6"
       ]
      }
     ],
     "prompt_number": 39
    },
    {
     "cell_type": "code",
     "collapsed": false,
     "input": [
      "Lnot = Matrix([[M(k),Q(k)*exp(2*I*phip)],[-conjugate(Q(-k)*exp(2*I*phip)),-conjugate(M(-k))]]); Lnot"
     ],
     "language": "python",
     "metadata": {},
     "outputs": [
      {
       "latex": [
        "$$\\left[\\begin{matrix}M{\\left (k \\right )} & Q{\\left (k \\right )} e^{2 i \\phi_{p}}\\\\- e^{- 2 i \\phi_{p}} \\overline{Q{\\left (- k \\right )}} & - \\overline{M{\\left (- k \\right )}}\\end{matrix}\\right]$$"
       ],
       "metadata": {},
       "output_type": "pyout",
       "png": "[encoded data removed]",
       "prompt_number": 40,
       "text": [
        "\u23a1                        2\u22c5\u2148\u22c5\u03c6_p\u23a4\n",
        "\u23a2      M(k)        Q(k)\u22c5\u212f       \u23a5\n",
        "\u23a2                               \u23a5\n",
        "\u23a2  -2\u22c5\u2148\u22c5\u03c6_p _____      _____    \u23a5\n",
        "\u23a3-\u212f        \u22c5Q(-k)     -M(-k)    \u23a6"
       ]
      }
     ],
     "prompt_number": 40
    },
    {
     "cell_type": "markdown",
     "metadata": {},
     "source": [
      "$$M(k)=\\epsilon(k_{p}+k)-\\omega_{p}+2n_{p}\\left|X(k_{p}+k)\\right|^{2}-\\frac{i}{2}\\gamma(k_{p}+k)$$\n",
      "$$Q(k)=n_{p}X^{*}(k_{p}+k)X^{*}(k_{p}-k)$$"
     ]
    },
    {
     "cell_type": "code",
     "collapsed": false,
     "input": [
      "Eq(det(Lnot-lam(k)*eye(2)), 0)"
     ],
     "language": "python",
     "metadata": {},
     "outputs": [
      {
       "latex": [
        "$$- M{\\left (k \\right )} \\lambda{\\left (k \\right )} - M{\\left (k \\right )} \\overline{M{\\left (- k \\right )}} + Q{\\left (k \\right )} \\overline{Q{\\left (- k \\right )}} + \\lambda^{2}{\\left (k \\right )} + \\lambda{\\left (k \\right )} \\overline{M{\\left (- k \\right )}} = 0$$"
       ],
       "metadata": {},
       "output_type": "pyout",
       "png": "[encoded data removed]",
       "prompt_number": 41,
       "text": [
        "                  _____        _____    2           _____    \n",
        "-M(k)\u22c5\u03bb(k) - M(k)\u22c5M(-k) + Q(k)\u22c5Q(-k) + \u03bb (k) + \u03bb(k)\u22c5M(-k) = 0"
       ]
      }
     ],
     "prompt_number": 41
    },
    {
     "cell_type": "markdown",
     "metadata": {},
     "source": [
      "$$w(k)=M\\left(k\\right)-M^{*}\\left(-k\\right)$$\n",
      "$$z(k)=\\left[M\\left(k\\right)+M^{*}\\left(-k\\right)\\right]^{2}-4Q\\left(k\\right)Q^{*}\\left(-k\\right)$$\n",
      "$$\\lambda\\left(k\\right)_{1,2}=\\frac{1}{2}w\\pm\\frac{1}{2}\\sqrt{z}$$"
     ]
    },
    {
     "cell_type": "markdown",
     "metadata": {},
     "source": [
      "$$\\sqrt{g}\\tilde{u}_p = u_p$$\n",
      "$$\\sqrt{g}\\tilde{v}_p = v_p$$\n",
      "$$R(k) = \\frac{C(k_p)}{X(k_p)}C(k+k_p)$$"
     ]
    },
    {
     "cell_type": "code",
     "collapsed": false,
     "input": [
      "varbsnot = Matrix([up(k), vp(k)])\n",
      "Fdnot = Fd.subs({psip:sqrt(np)*exp(I*phip), C(kp)*C(k + kp)/X(kp):R(k),\n",
      "         conjugate(C(kp))*conjugate(C(-k + kp))/conjugate(X(kp)):conjugate(R(-k)), sqrt(g):1})"
     ],
     "language": "python",
     "metadata": {},
     "outputs": [],
     "prompt_number": 42
    },
    {
     "cell_type": "code",
     "collapsed": false,
     "input": [
      "print latex(Lnot)"
     ],
     "language": "python",
     "metadata": {},
     "outputs": [
      {
       "output_type": "stream",
       "stream": "stdout",
       "text": [
        "\\left[\\begin{matrix}M{\\left (k \\right )} & Q{\\left (k \\right )} e^{2 i \\phi_{p}}\\\\- e^{- 2 i \\phi_{p}} \\overline{Q{\\left (- k \\right )}} & - \\overline{M{\\left (- k \\right )}}\\end{matrix}\\right]\n"
       ]
      }
     ],
     "prompt_number": 43
    },
    {
     "cell_type": "code",
     "collapsed": false,
     "input": [
      "print latex(varbsnot)"
     ],
     "language": "python",
     "metadata": {},
     "outputs": [
      {
       "output_type": "stream",
       "stream": "stdout",
       "text": [
        "\\left[\\begin{matrix}\\operatorname{u_{p}}{\\left (k \\right )}\\\\\\operatorname{v_{p}}{\\left (k \\right )}\\end{matrix}\\right]\n"
       ]
      }
     ],
     "prompt_number": 44
    },
    {
     "cell_type": "code",
     "collapsed": false,
     "input": [
      "print latex(Fdnot)"
     ],
     "language": "python",
     "metadata": {},
     "outputs": [
      {
       "output_type": "stream",
       "stream": "stdout",
       "text": [
        "\\left[\\begin{matrix}\\sqrt{n_{p}} R{\\left (k \\right )} \\operatorname{V_{d}}{\\left (k \\right )} e^{i \\phi_{p}}\\\\- \\sqrt{n_{p}} e^{- i \\phi_{p}} \\overline{R{\\left (- k \\right )}} \\overline{\\operatorname{V_{d}}{\\left (- k \\right )}}\\end{matrix}\\right]\n"
       ]
      }
     ],
     "prompt_number": 45
    },
    {
     "cell_type": "code",
     "collapsed": false,
     "input": [
      "Eq(Lnot*varbsnot, -Fdnot)"
     ],
     "language": "python",
     "metadata": {},
     "outputs": [
      {
       "latex": [
        "$$\\left[\\begin{matrix}M{\\left (k \\right )} \\operatorname{u_{p}}{\\left (k \\right )} + Q{\\left (k \\right )} \\operatorname{v_{p}}{\\left (k \\right )} e^{2 i \\phi_{p}}\\\\- \\operatorname{u_{p}}{\\left (k \\right )} e^{- 2 i \\phi_{p}} \\overline{Q{\\left (- k \\right )}} - \\operatorname{v_{p}}{\\left (k \\right )} \\overline{M{\\left (- k \\right )}}\\end{matrix}\\right] = \\left[\\begin{matrix}- \\sqrt{n_{p}} R{\\left (k \\right )} \\operatorname{V_{d}}{\\left (k \\right )} e^{i \\phi_{p}}\\\\\\sqrt{n_{p}} e^{- i \\phi_{p}} \\overline{R{\\left (- k \\right )}} \\overline{\\operatorname{V_{d}}{\\left (- k \\right )}}\\end{matrix}\\right]$$"
       ],
       "metadata": {},
       "output_type": "pyout",
       "png": "[encoded data removed]",
       "prompt_number": 46,
       "text": [
        "\u23a1                             2\u22c5\u2148\u22c5\u03c6_p   \u23a4   \u23a1    _____              \u2148\u22c5\u03c6_p \u23a4\n",
        "\u23a2  M(k)\u22c5u_p(k) + Q(k)\u22c5v_p(k)\u22c5\u212f          \u23a5 = \u23a2 -\u2572\u2571 n_p \u22c5R(k)\u22c5V_d(k)\u22c5\u212f      \u23a5\n",
        "\u23a2                                       \u23a5   \u23a2                             \u23a5\n",
        "\u23a2          -2\u22c5\u2148\u22c5\u03c6_p _____          _____\u23a5   \u23a2  _____  -\u2148\u22c5\u03c6_p _____ _______\u23a5\n",
        "\u23a3- u_p(k)\u22c5\u212f        \u22c5Q(-k) - v_p(k)\u22c5M(-k)\u23a6   \u23a3\u2572\u2571 n_p \u22c5\u212f      \u22c5R(-k)\u22c5V_d(-k)\u23a6"
       ]
      }
     ],
     "prompt_number": 46
    },
    {
     "cell_type": "code",
     "collapsed": false,
     "input": [
      "x = Lnot.LUsolve(-Fdnot)"
     ],
     "language": "python",
     "metadata": {},
     "outputs": [],
     "prompt_number": 47
    },
    {
     "cell_type": "markdown",
     "metadata": {},
     "source": [
      "now we need $u_p(k)+v_p^*(-k)$"
     ]
    },
    {
     "cell_type": "code",
     "collapsed": false,
     "input": [
      "simplify(x[0] + conjugate(x[1]).subs(k,-k))"
     ],
     "language": "python",
     "metadata": {},
     "outputs": [
      {
       "latex": [
        "$$\\frac{2 \\sqrt{n_{p}} \\left(Q{\\left (k \\right )} \\overline{R{\\left (- k \\right )}} \\overline{\\operatorname{V_{d}}{\\left (- k \\right )}} - R{\\left (k \\right )} \\operatorname{V_{d}}{\\left (k \\right )} \\overline{M{\\left (- k \\right )}}\\right) e^{i \\phi_{p}}}{M{\\left (k \\right )} \\overline{M{\\left (- k \\right )}} - Q{\\left (k \\right )} \\overline{Q{\\left (- k \\right )}}}$$"
       ],
       "metadata": {},
       "output_type": "pyout",
       "png": "[encoded data removed]",
       "prompt_number": 48,
       "text": [
        "    _____ \u239b     _____ _______               _____\u239e  \u2148\u22c5\u03c6_p\n",
        "2\u22c5\u2572\u2571 n_p \u22c5\u239dQ(k)\u22c5R(-k)\u22c5V_d(-k) - R(k)\u22c5V_d(k)\u22c5M(-k)\u23a0\u22c5\u212f     \n",
        "\u2500\u2500\u2500\u2500\u2500\u2500\u2500\u2500\u2500\u2500\u2500\u2500\u2500\u2500\u2500\u2500\u2500\u2500\u2500\u2500\u2500\u2500\u2500\u2500\u2500\u2500\u2500\u2500\u2500\u2500\u2500\u2500\u2500\u2500\u2500\u2500\u2500\u2500\u2500\u2500\u2500\u2500\u2500\u2500\u2500\u2500\u2500\u2500\u2500\u2500\u2500\u2500\u2500\u2500\u2500\u2500\u2500\n",
        "                      _____        _____                 \n",
        "                 M(k)\u22c5M(-k) - Q(k)\u22c5Q(-k)                 "
       ]
      }
     ],
     "prompt_number": 48
    },
    {
     "cell_type": "markdown",
     "metadata": {},
     "source": [
      "$$\\widetilde{\\psi}(k+k_{p})=e^{-i\\omega_{p}t}\\frac{1}{\\sqrt{g}}\\left[\\frac{\\sqrt{n_{p}}e^{i\\phi_{p}}}{X_{p}}\\delta(k)+u_{p}(k)e^{-i\\omega t}+v_{p}^{*}(-k)e^{i\\omega t}\\right]$$"
     ]
    },
    {
     "cell_type": "markdown",
     "metadata": {},
     "source": [
      "Since we are treating with a static defect, we are interested in the response at $\\omega = 0$."
     ]
    },
    {
     "cell_type": "markdown",
     "metadata": {},
     "source": [
      "$$\\left|\\widetilde{\\psi}\\left(k+k_{p}\\right)\\right|^{2}=\\frac{n_{p}}{g}\\left|\\frac{\\delta(k)}{X_{p}}+\\frac{Q\\left(k\\right)R^{*}\\left(-k\\right)V_{d}^{*}\\left(-k\\right)-M^{*}\\left(-k\\right)R\\left(k\\right)V_{d}\\left(k\\right)}{M\\left(k\\right)M^{*}\\left(-k\\right)-Q\\left(k\\right)Q^{*}\\left(-k\\right)}\\right|^{2}$$"
     ]
    },
    {
     "cell_type": "markdown",
     "metadata": {},
     "source": [
      "Now for the real space response, we make use of the Fourier shift theorem"
     ]
    },
    {
     "cell_type": "markdown",
     "metadata": {},
     "source": [
      "$$\\psi(r)=\\sum_{k}\\widetilde{\\psi}(k)e^{ikr}=e^{ik_{p}r}\\sum_{k}\\widetilde{\\psi}(k+k_{p})e^{ikr}$$"
     ]
    },
    {
     "cell_type": "markdown",
     "metadata": {},
     "source": [
      "to finally obtain"
     ]
    },
    {
     "cell_type": "markdown",
     "metadata": {},
     "source": [
      "$$I(r)=\\frac{\\vert\\psi(r)\\vert^{2}}{\\vert\\psi_p^{\\text{ss}}\\vert^{2}}=\\left|X_{p}\\right|^{2}\\left|\\sum_{k}\\left[\\frac{\\delta(k)}{X_{p}}+\\frac{Q\\left(k\\right)R^{*}\\left(-k\\right)V_{d}^{*}\\left(-k\\right)-M^{*}\\left(-k\\right)R\\left(k\\right)V_{d}\\left(k\\right)}{M\\left(k\\right)M^{*}\\left(-k\\right)-Q\\left(k\\right)Q^{*}\\left(-k\\right)}\\right]e^{ikr}\\right|^{2}$$"
     ]
    },
    {
     "cell_type": "markdown",
     "metadata": {},
     "source": [
      "We choose a gaussian potential of the form\n",
      "$$V_{d}(x,y)=\\frac{g_{V}}{2\\pi\\sigma^{2}}\\exp\\left\\{ -\\frac{1}{2\\sigma^{2}}\\left[\\left(x-x_{0}\\right)^{2}+\\left(y-y_{0}\\right)^{2}\\right]\\right\\}$$"
     ]
    },
    {
     "cell_type": "markdown",
     "metadata": {},
     "source": [
      "Which can be written in momentum space as\n",
      "$$\\tilde{V}_{d}(k_x, k_y)= g_{V}\\exp\\left[-i(k_{x}x_{0}+k_{y}y_{0})\\right]\\exp\\left[-\\frac{\\sigma^{2}}{2}\\left(k_{x}^{2}+k_{y}^{2}\\right)\\right]$$"
     ]
    },
    {
     "cell_type": "markdown",
     "metadata": {},
     "source": [
      "This potential tends to a $\\delta$ function in the limit $\\sigma \\rightarrow 0$. The defect strength $g_V$ is measured in units of $\\gamma_p \\mu m^2$."
     ]
    },
    {
     "cell_type": "heading",
     "level": 2,
     "metadata": {},
     "source": [
      "Generalized eliptic potential"
     ]
    },
    {
     "cell_type": "markdown",
     "metadata": {},
     "source": [
      "$$V_{d}(x,y)=\\frac{g_{V}}{2\\pi a b\\sigma^{2}}\\exp\\left\\{ -\\frac{1}{2\\sigma^{2}}\\left[\\left(\\frac{(x-x_{0})\\cos(\\alpha)+(y-y_{0})\\sin(\\alpha)}{a}\\right)^{2}+\\left(\\frac{(x-x_{0})\\sin(\\alpha)-(y-y_{0})\\cos(\\alpha)}{b}\\right)^{2}\\right]\\right\\}$$"
     ]
    },
    {
     "cell_type": "markdown",
     "metadata": {},
     "source": [
      "$$\\tilde{V}_{d}(k_x, k_y)= g_{V}\\exp\\left[-i\\left(k_{x}x_{0}+k_{y}y_{0}\\right)\\right]\\exp\\left[-\\frac{\\sigma^{2}}{4}\\left(a^{2}+b^{2}\\right)\\left(k_{x}^{2}+k_{y}^{2}\\right)\\right]\\exp\\left\\{ -\\frac{\\sigma^{2}}{4}\\left(a^{2}-b^{2}\\right)\\left[2\\sin(2\\alpha)k_{x}k_{y}+\\cos(2\\alpha)\\left(k_{x}^{2}-k_{y}^{2}\\right)\\right]\\right\\}$$"
     ]
    },
    {
     "cell_type": "code",
     "collapsed": false,
     "input": [],
     "language": "python",
     "metadata": {},
     "outputs": [],
     "prompt_number": 48
    }
   ],
   "metadata": {}
  }
 ]
}