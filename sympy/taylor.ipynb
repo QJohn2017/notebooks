{
 "metadata": {
  "name": "",
  "signature": "sha256:e23a0a4758b018f19bb3b1cf7533d04197a2ffc07b1731f83c44f1dd998d5d31"
 },
 "nbformat": 3,
 "nbformat_minor": 0,
 "worksheets": [
  {
   "cells": [
    {
     "cell_type": "code",
     "collapsed": false,
     "input": [
      "from sympy import *\n",
      "from sympy import init_printing\n",
      "init_printing(use_unicode=True)"
     ],
     "language": "python",
     "metadata": {},
     "outputs": [],
     "prompt_number": 1
    },
    {
     "cell_type": "code",
     "collapsed": false,
     "input": [
      "#q, kp = symbols('q k_p', integer=True)\n",
      "f = symbols('f', cls=Function)\n",
      "kz, omegaC0, omegaX, OmegaR, rho, vp, mlp = symbols('k_z, omega_C^0 omega_X Omega_R rho v_p m_LP', real=True)\n",
      "k = Symbol('k')\n",
      "x = Symbol('x')"
     ],
     "language": "python",
     "metadata": {},
     "outputs": [],
     "prompt_number": 2
    },
    {
     "cell_type": "markdown",
     "metadata": {},
     "source": [
      "$$\\omega_{C}(k)=\\omega_{C}^{0}\\sqrt{1+\\frac{k^{2}}{k_{z}^{2}}}$$"
     ]
    },
    {
     "cell_type": "markdown",
     "metadata": {},
     "source": [
      "$$\\omega_{C}^{\\prime}(k)=\\omega_{C}^{0}\\sqrt{1+\\frac{k^{2}}{k_{z}^{2}}}-\\omega_{X}$$"
     ]
    },
    {
     "cell_type": "code",
     "collapsed": false,
     "input": [
      "class omegaCprime(Function):\n",
      "    nargs = 1\n",
      "\n",
      "    @classmethod\n",
      "    def eval(cls, k):\n",
      "        return omegaC0*sqrt(1+k**2/kz**2) - omegaX\n",
      "    def _latex(self, printer):\n",
      "        return r'\\omega_C^{\\prime}(%s \\right)' % printer._print(self.args[0])"
     ],
     "language": "python",
     "metadata": {},
     "outputs": [],
     "prompt_number": 3
    },
    {
     "cell_type": "code",
     "collapsed": false,
     "input": [
      "class omegaC(Function):\n",
      "    nargs = 1\n",
      "\n",
      "    @classmethod\n",
      "    def eval(cls, k):\n",
      "        return omegaC0*sqrt(1+k**2/kz**2)\n",
      "    def _latex(self, printer):\n",
      "        return r'\\omega_C(%s \\right)' % printer._print(self.args[0])"
     ],
     "language": "python",
     "metadata": {},
     "outputs": [],
     "prompt_number": 4
    },
    {
     "cell_type": "markdown",
     "metadata": {},
     "source": [
      "$$\\epsilon(k)=\\frac{1}{2}\\left(\\omega_{C}(k)+\\omega_{X}\\right)-\\frac{1}{2}\\sqrt{\\left(\\omega_{C}(k)-\\omega_{X}\\right)^{2}+4\\Omega_{R}^{2}}$$"
     ]
    },
    {
     "cell_type": "markdown",
     "metadata": {},
     "source": [
      "$$\\epsilon^{\\prime}(k)=\\frac{1}{2}\\omega_{C}^{\\prime}(k)-\\frac{1}{2}\\sqrt{\\omega_{C}^{\\prime}(k)^{2}+4\\Omega_{R}^{2}}$$"
     ]
    },
    {
     "cell_type": "code",
     "collapsed": false,
     "input": [
      "class epsilonprime(Function):\n",
      "    nargs = 1\n",
      "\n",
      "    @classmethod\n",
      "    def eval(cls, k):\n",
      "        return Rational(1,2)*omegaCprime(k) - Rational(1,2)*sqrt(omegaCprime(k)**2 + 4*OmegaR**2)\n",
      "    def _latex(self, printer):\n",
      "        return r'\\epsilon^{\\prime}(%s \\right)' % printer._print(self.args[0])"
     ],
     "language": "python",
     "metadata": {},
     "outputs": [],
     "prompt_number": 5
    },
    {
     "cell_type": "code",
     "collapsed": false,
     "input": [
      "class epsilon(Function):\n",
      "    nargs = 1\n",
      "\n",
      "    @classmethod\n",
      "    def eval(cls, k):\n",
      "        return Rational(1,2)*(omegaC(k) + omegaX) - Rational(1,2)*sqrt((omegaC(k) - omegaX)**2 + 4*OmegaR**2)\n",
      "    def _latex(self, printer):\n",
      "        return r'\\epsilon(%s \\right)' % printer._print(self.args[0])"
     ],
     "language": "python",
     "metadata": {},
     "outputs": [],
     "prompt_number": 6
    },
    {
     "cell_type": "code",
     "collapsed": false,
     "input": [
      "epsilon(k)"
     ],
     "language": "python",
     "metadata": {},
     "outputs": [
      {
       "latex": [
        "$$\\frac{\\omega^{0}_{C}}{2} \\sqrt{\\frac{k^{2}}{k_{z}^{2}} + 1} + \\frac{\\omega_{X}}{2} - \\frac{1}{2} \\sqrt{4 \\Omega_{R}^{2} + \\left(\\omega^{0}_{C} \\sqrt{\\frac{k^{2}}{k_{z}^{2}} + 1} - \\omega_{X}\\right)^{2}}$$"
       ],
       "metadata": {},
       "output_type": "pyout",
       "png": "[encoded data removed]",
       "prompt_number": 7,
       "text": [
        "                                        ______________________________________\n",
        "                                       \u2571                                      \n",
        "             __________               \u2571           \u239b             __________    \n",
        "            \u2571   2                    \u2571            \u239c            \u2571   2          \n",
        "           \u2571   k                    \u2571         2   \u239c           \u2571   k           \n",
        "\u03c9_C__0\u22c5   \u2571   \u2500\u2500\u2500\u2500 + 1             \u2571     4\u22c5\u03a9_R  + \u239c\u03c9_C__0\u22c5   \u2571   \u2500\u2500\u2500\u2500 + 1  - \u03c9\n",
        "         \u2571       2                \u2571               \u239c         \u2571       2         \n",
        "       \u2572\u2571     k_z         \u03c9_X   \u2572\u2571                \u239d       \u2572\u2571     k_z          \n",
        "\u2500\u2500\u2500\u2500\u2500\u2500\u2500\u2500\u2500\u2500\u2500\u2500\u2500\u2500\u2500\u2500\u2500\u2500\u2500\u2500\u2500\u2500\u2500 + \u2500\u2500\u2500 - \u2500\u2500\u2500\u2500\u2500\u2500\u2500\u2500\u2500\u2500\u2500\u2500\u2500\u2500\u2500\u2500\u2500\u2500\u2500\u2500\u2500\u2500\u2500\u2500\u2500\u2500\u2500\u2500\u2500\u2500\u2500\u2500\u2500\u2500\u2500\u2500\u2500\u2500\u2500\u2500\u2500\u2500\u2500\u2500\u2500\u2500\n",
        "           2               2                             2                    \n",
        "\n",
        "_____\n",
        "   2 \n",
        "  \u239e  \n",
        "  \u239f  \n",
        "  \u239f  \n",
        "_X\u239f  \n",
        "  \u239f  \n",
        "  \u23a0  \n",
        "\u2500\u2500\u2500\u2500\u2500\n",
        "     "
       ]
      }
     ],
     "prompt_number": 7
    },
    {
     "cell_type": "code",
     "collapsed": false,
     "input": [
      "epsilonprime(k)"
     ],
     "language": "python",
     "metadata": {},
     "outputs": [
      {
       "latex": [
        "$$\\frac{\\omega^{0}_{C}}{2} \\sqrt{\\frac{k^{2}}{k_{z}^{2}} + 1} - \\frac{\\omega_{X}}{2} - \\frac{1}{2} \\sqrt{4 \\Omega_{R}^{2} + \\left(\\omega^{0}_{C} \\sqrt{\\frac{k^{2}}{k_{z}^{2}} + 1} - \\omega_{X}\\right)^{2}}$$"
       ],
       "metadata": {},
       "output_type": "pyout",
       "png": "[encoded data removed]",
       "prompt_number": 8,
       "text": [
        "                                        ______________________________________\n",
        "                                       \u2571                                      \n",
        "             __________               \u2571           \u239b             __________    \n",
        "            \u2571   2                    \u2571            \u239c            \u2571   2          \n",
        "           \u2571   k                    \u2571         2   \u239c           \u2571   k           \n",
        "\u03c9_C__0\u22c5   \u2571   \u2500\u2500\u2500\u2500 + 1             \u2571     4\u22c5\u03a9_R  + \u239c\u03c9_C__0\u22c5   \u2571   \u2500\u2500\u2500\u2500 + 1  - \u03c9\n",
        "         \u2571       2                \u2571               \u239c         \u2571       2         \n",
        "       \u2572\u2571     k_z         \u03c9_X   \u2572\u2571                \u239d       \u2572\u2571     k_z          \n",
        "\u2500\u2500\u2500\u2500\u2500\u2500\u2500\u2500\u2500\u2500\u2500\u2500\u2500\u2500\u2500\u2500\u2500\u2500\u2500\u2500\u2500\u2500\u2500 - \u2500\u2500\u2500 - \u2500\u2500\u2500\u2500\u2500\u2500\u2500\u2500\u2500\u2500\u2500\u2500\u2500\u2500\u2500\u2500\u2500\u2500\u2500\u2500\u2500\u2500\u2500\u2500\u2500\u2500\u2500\u2500\u2500\u2500\u2500\u2500\u2500\u2500\u2500\u2500\u2500\u2500\u2500\u2500\u2500\u2500\u2500\u2500\u2500\u2500\n",
        "           2               2                             2                    \n",
        "\n",
        "_____\n",
        "   2 \n",
        "  \u239e  \n",
        "  \u239f  \n",
        "  \u239f  \n",
        "_X\u239f  \n",
        "  \u239f  \n",
        "  \u23a0  \n",
        "\u2500\u2500\u2500\u2500\u2500\n",
        "     "
       ]
      }
     ],
     "prompt_number": 8
    },
    {
     "cell_type": "code",
     "collapsed": false,
     "input": [
      "series(omegaC(x), x, 0, 4)"
     ],
     "language": "python",
     "metadata": {},
     "outputs": [
      {
       "latex": [
        "$$\\frac{\\omega^{0}_{C} x^{2}}{2 k_{z}^{2}} + \\omega^{0}_{C} + \\mathcal{O}\\left(x^{4}\\right)$$"
       ],
       "metadata": {},
       "output_type": "pyout",
       "png": "[encoded data removed]",
       "prompt_number": 9,
       "text": [
        "        2                 \n",
        "\u03c9_C__0\u22c5x              \u239b 4\u239e\n",
        "\u2500\u2500\u2500\u2500\u2500\u2500\u2500\u2500\u2500 + \u03c9_C__0 + O\u239dx \u23a0\n",
        "       2                  \n",
        "  2\u22c5k_z                   "
       ]
      }
     ],
     "prompt_number": 9
    },
    {
     "cell_type": "code",
     "collapsed": false,
     "input": [
      "series(omegaCprime(x), x, 0, 4)"
     ],
     "language": "python",
     "metadata": {},
     "outputs": [
      {
       "latex": [
        "$$\\frac{\\omega^{0}_{C} x^{2}}{2 k_{z}^{2}} - \\omega_{X} + \\omega^{0}_{C} + \\mathcal{O}\\left(x^{4}\\right)$$"
       ],
       "metadata": {},
       "output_type": "pyout",
       "png": "[encoded data removed]",
       "prompt_number": 10,
       "text": [
        "        2                       \n",
        "\u03c9_C__0\u22c5x                    \u239b 4\u239e\n",
        "\u2500\u2500\u2500\u2500\u2500\u2500\u2500\u2500\u2500 - \u03c9_X + \u03c9_C__0 + O\u239dx \u23a0\n",
        "       2                        \n",
        "  2\u22c5k_z                         "
       ]
      }
     ],
     "prompt_number": 10
    },
    {
     "cell_type": "code",
     "collapsed": false,
     "input": [
      "epsilon(0)"
     ],
     "language": "python",
     "metadata": {},
     "outputs": [
      {
       "latex": [
        "$$\\frac{\\omega^{0}_{C}}{2} + \\frac{\\omega_{X}}{2} - \\frac{1}{2} \\sqrt{4 \\Omega_{R}^{2} + \\left(\\omega^{0}_{C} - \\omega_{X}\\right)^{2}}$$"
       ],
       "metadata": {},
       "output_type": "pyout",
       "png": "[encoded data removed]",
       "prompt_number": 11,
       "text": [
        "                  __________________________\n",
        "                 \u2571      2                 2 \n",
        "\u03c9_C__0   \u03c9_X   \u2572\u2571  4\u22c5\u03a9_R  + (\u03c9_C__0 - \u03c9_X)  \n",
        "\u2500\u2500\u2500\u2500\u2500\u2500 + \u2500\u2500\u2500 - \u2500\u2500\u2500\u2500\u2500\u2500\u2500\u2500\u2500\u2500\u2500\u2500\u2500\u2500\u2500\u2500\u2500\u2500\u2500\u2500\u2500\u2500\u2500\u2500\u2500\u2500\u2500\u2500\u2500\n",
        "  2       2                  2              "
       ]
      }
     ],
     "prompt_number": 11
    },
    {
     "cell_type": "code",
     "collapsed": false,
     "input": [
      "print latex(epsilonprime(0))"
     ],
     "language": "python",
     "metadata": {},
     "outputs": [
      {
       "output_type": "stream",
       "stream": "stdout",
       "text": [
        "\\frac{\\omega^{0}_{C}}{2} - \\frac{\\omega_{X}}{2} - \\frac{1}{2} \\sqrt{4 \\Omega_{R}^{2} + \\left(\\omega^{0}_{C} - \\omega_{X}\\right)^{2}}\n"
       ]
      }
     ],
     "prompt_number": 12
    },
    {
     "cell_type": "code",
     "collapsed": false,
     "input": [
      "print latex(diff(epsilon(x), x, 2).subs(x,0))"
     ],
     "language": "python",
     "metadata": {},
     "outputs": [
      {
       "output_type": "stream",
       "stream": "stdout",
       "text": [
        "\\frac{\\omega^{0}_{C}}{2 k_{z}^{2}} \\left(1 - \\frac{\\omega^{0}_{C} - \\omega_{X}}{\\sqrt{4 \\Omega_{R}^{2} + \\left(\\omega^{0}_{C} - \\omega_{X}\\right)^{2}}}\\right)\n"
       ]
      }
     ],
     "prompt_number": 13
    },
    {
     "cell_type": "code",
     "collapsed": false,
     "input": [
      "series(f(x), x, 0, 3)"
     ],
     "language": "python",
     "metadata": {},
     "outputs": [
      {
       "latex": [
        "$$f{\\left (0 \\right )} + x \\left. \\frac{d}{d x} f{\\left (x \\right )} \\right|_{\\substack{ x=0 }} + \\frac{x^{2}}{2} \\left. \\frac{d^{2}}{d x^{2}}  f{\\left (x \\right )} \\right|_{\\substack{ x=0 }} + \\mathcal{O}\\left(x^{3}\\right)$$"
       ],
       "metadata": {},
       "output_type": "pyout",
       "png": "[encoded data removed]",
       "prompt_number": 14,
       "text": [
        "                             \u239b  2      \u239e\u2502           \n",
        "                           2 \u239c d       \u239f\u2502           \n",
        "                          x \u22c5\u239c\u2500\u2500\u2500(f(x))\u239f\u2502           \n",
        "                             \u239c  2      \u239f\u2502           \n",
        "         \u239bd       \u239e\u2502         \u239ddx       \u23a0\u2502x=0    \u239b 3\u239e\n",
        "f(0) + x\u22c5\u239c\u2500\u2500(f(x))\u239f\u2502    + \u2500\u2500\u2500\u2500\u2500\u2500\u2500\u2500\u2500\u2500\u2500\u2500\u2500\u2500\u2500\u2500\u2500\u2500 + O\u239dx \u23a0\n",
        "         \u239ddx      \u23a0\u2502x=0           2                 "
       ]
      }
     ],
     "prompt_number": 14
    },
    {
     "cell_type": "markdown",
     "metadata": {},
     "source": [
      "$$kv_{p}\\pm\\sqrt{\\frac{k^{2}}{2m_{LP}}\\left(\\frac{k^{2}}{2m_{LP}}+2n_{p}\\left|X_{p}\\right|^{2}\\right)}$$"
     ]
    },
    {
     "cell_type": "code",
     "collapsed": false,
     "input": [
      "class lamb(Function):\n",
      "    nargs = 1\n",
      "\n",
      "    @classmethod\n",
      "    def eval(cls, k):\n",
      "        return k*vp+sqrt(k**2/(2*mlp)*(k**2/(2*mlp)+2*rho))\n",
      "    def _latex(self, printer):\n",
      "        return r'\\lambda^{\\prime}(%s \\right)' % printer._print(self.args[0])"
     ],
     "language": "python",
     "metadata": {},
     "outputs": [],
     "prompt_number": 15
    },
    {
     "cell_type": "code",
     "collapsed": false,
     "input": [
      "diff(lamb(x), x)"
     ],
     "language": "python",
     "metadata": {},
     "outputs": [
      {
       "latex": [
        "$$\\frac{\\sqrt{2} m_{LP} \\sqrt{\\frac{x^{2}}{m_{LP}} \\left(2 \\rho + \\frac{x^{2}}{2 m_{LP}}\\right)}}{2 x^{2} \\left(2 \\rho + \\frac{x^{2}}{2 m_{LP}}\\right)} \\left(\\frac{x}{m_{LP}} \\left(2 \\rho + \\frac{x^{2}}{2 m_{LP}}\\right) + \\frac{x^{3}}{2 m_{LP}^{2}}\\right) + v_{p}$$"
       ],
       "metadata": {},
       "output_type": "pyout",
       "png": "[encoded data removed]",
       "prompt_number": 20,
       "text": [
        "                  ___________________                                   \n",
        "                 \u2571    \u239b         2  \u239e  \u239b  \u239b         2  \u239e          \u239e      \n",
        "                \u2571   2 \u239c        x   \u239f  \u239c  \u239c        x   \u239f          \u239f      \n",
        "               \u2571   x \u22c5\u239c2\u22c5\u03c1 + \u2500\u2500\u2500\u2500\u2500\u2500\u239f  \u239cx\u22c5\u239c2\u22c5\u03c1 + \u2500\u2500\u2500\u2500\u2500\u2500\u239f       3  \u239f      \n",
        "  ___         \u2571       \u239d      2\u22c5m_LP\u23a0  \u239c  \u239d      2\u22c5m_LP\u23a0      x   \u239f      \n",
        "\u2572\u2571 2 \u22c5m_LP\u22c5  \u2571     \u2500\u2500\u2500\u2500\u2500\u2500\u2500\u2500\u2500\u2500\u2500\u2500\u2500\u2500\u2500\u2500\u2500 \u22c5\u239c\u2500\u2500\u2500\u2500\u2500\u2500\u2500\u2500\u2500\u2500\u2500\u2500\u2500\u2500\u2500\u2500 + \u2500\u2500\u2500\u2500\u2500\u2500\u2500\u239f      \n",
        "           \u2572\u2571             m_LP        \u239c      m_LP               2\u239f      \n",
        "                                      \u239d                   2\u22c5m_LP \u23a0      \n",
        "\u2500\u2500\u2500\u2500\u2500\u2500\u2500\u2500\u2500\u2500\u2500\u2500\u2500\u2500\u2500\u2500\u2500\u2500\u2500\u2500\u2500\u2500\u2500\u2500\u2500\u2500\u2500\u2500\u2500\u2500\u2500\u2500\u2500\u2500\u2500\u2500\u2500\u2500\u2500\u2500\u2500\u2500\u2500\u2500\u2500\u2500\u2500\u2500\u2500\u2500\u2500\u2500\u2500\u2500\u2500\u2500\u2500\u2500\u2500\u2500\u2500\u2500\u2500\u2500\u2500\u2500 + v_p\n",
        "                            \u239b         2  \u239e                              \n",
        "                          2 \u239c        x   \u239f                              \n",
        "                       2\u22c5x \u22c5\u239c2\u22c5\u03c1 + \u2500\u2500\u2500\u2500\u2500\u2500\u239f                              \n",
        "                            \u239d      2\u22c5m_LP\u23a0                              "
       ]
      }
     ],
     "prompt_number": 20
    },
    {
     "cell_type": "code",
     "collapsed": false,
     "input": [
      "series(x*vp+sqrt(x**2/(2*mlp)*(x**2/(2*mlp)+2*rho)), x, 0, 2)"
     ],
     "language": "python",
     "metadata": {},
     "outputs": [
      {
       "latex": [
        "$$x \\left(v_{p} + \\sqrt{\\frac{\\rho}{m_{LP}}}\\right) + \\mathcal{O}\\left(x^{2}\\right)$$"
       ],
       "metadata": {},
       "output_type": "pyout",
       "png": "[encoded data removed]",
       "prompt_number": 25,
       "text": [
        "  \u239b          ______\u239e        \n",
        "  \u239c         \u2571  \u03c1   \u239f    \u239b 2\u239e\n",
        "x\u22c5\u239cv_p +   \u2571  \u2500\u2500\u2500\u2500 \u239f + O\u239dx \u23a0\n",
        "  \u239d      \u2572\u2571   m_LP \u23a0        "
       ]
      }
     ],
     "prompt_number": 25
    },
    {
     "cell_type": "code",
     "collapsed": false,
     "input": [],
     "language": "python",
     "metadata": {},
     "outputs": []
    }
   ],
   "metadata": {}
  }
 ]
}