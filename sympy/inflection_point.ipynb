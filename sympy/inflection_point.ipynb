{
 "metadata": {
  "name": ""
 },
 "nbformat": 3,
 "nbformat_minor": 0,
 "worksheets": [
  {
   "cells": [
    {
     "cell_type": "code",
     "collapsed": false,
     "input": [
      "import sympy\n",
      "sympy.init_printing(use_unicode=True)\n",
      "import sympy.plotting as plt\n",
      "import sympy.solvers as solvers"
     ],
     "language": "python",
     "metadata": {},
     "outputs": [],
     "prompt_number": 12
    },
    {
     "cell_type": "code",
     "collapsed": false,
     "input": [
      "# System parameters\n",
      "omega_X = omega_C0 = 1.4\n",
      "kz = 20.0\n",
      "Omega_R = 2.5*10**(-3)\n",
      "gamma_X = 0.12*10**(-3)\n",
      "gamma_C = 0.12*10**(-3)\n",
      "k_pmpx = 1.6\n",
      "k_pmpy = 0.0\n",
      "gp = gamma_C + (1 / sympy.sqrt(1 + (Omega_R / ((0.5 * ((omega_C0 * sympy.sqrt(1 + (sympy.sqrt(k_pmpx**2 + k_pmpy**2) / kz)**2)) + omega_X) - 0.5 * sympy.sqrt(((omega_C0 * sympy.sqrt(1 + (sympy.sqrt(k_pmpx**2 + k_pmpy**2) / kz)**2)) - omega_X)**2 + 4*Omega_R**2)) - (omega_C0 * sympy.sqrt(1 + (sympy.sqrt(k_pmpx**2 + k_pmpy**2) / kz)**2))))**2))**2 * (gamma_X - gamma_C)"
     ],
     "language": "python",
     "metadata": {},
     "outputs": [],
     "prompt_number": 13
    },
    {
     "cell_type": "code",
     "collapsed": false,
     "input": [
      "kx = sympy.symbols('k_x')\n",
      "ky = 0"
     ],
     "language": "python",
     "metadata": {},
     "outputs": [],
     "prompt_number": 14
    },
    {
     "cell_type": "code",
     "collapsed": false,
     "input": [
      "def enC(kx,ky):\n",
      "    return ( omega_C0 * sympy.sqrt(1 + (sympy.sqrt(kx**2 + ky**2) / kz)**2) - omega_X ) / gp"
     ],
     "language": "python",
     "metadata": {},
     "outputs": [],
     "prompt_number": 15
    },
    {
     "cell_type": "code",
     "collapsed": false,
     "input": [
      "def enLP(kx,ky):\n",
      "    return 0.5 * enC(kx,ky) - 0.5 * sympy.sqrt(enC(kx,ky)**2 + 4*Omega_R**2/gp**2)"
     ],
     "language": "python",
     "metadata": {},
     "outputs": [],
     "prompt_number": 16
    },
    {
     "cell_type": "code",
     "collapsed": false,
     "input": [
      "plt.plot(enLP(kx,0), (kx, -4, 4))"
     ],
     "language": "python",
     "metadata": {},
     "outputs": [
      {
       "metadata": {},
       "output_type": "display_data",
       "png": "[encoded data removed]",
       "text": [
        "<matplotlib.figure.Figure at 0x42217d0>"
       ]
      },
      {
       "metadata": {},
       "output_type": "pyout",
       "prompt_number": 17,
       "text": [
        "<sympy.plotting.plot.Plot at 0x422a250>"
       ]
      }
     ],
     "prompt_number": 17
    },
    {
     "cell_type": "code",
     "collapsed": false,
     "input": [
      "vg = sympy.diff(enLP(kx, 0), kx)\n",
      "plt.plot(vg, (kx, -4, 4))"
     ],
     "language": "python",
     "metadata": {},
     "outputs": [
      {
       "metadata": {},
       "output_type": "display_data",
       "png": "[encoded data removed]",
       "text": [
        "<matplotlib.figure.Figure at 0x497de50>"
       ]
      },
      {
       "metadata": {},
       "output_type": "pyout",
       "prompt_number": 18,
       "text": [
        "<sympy.plotting.plot.Plot at 0x46d2510>"
       ]
      }
     ],
     "prompt_number": 18
    },
    {
     "cell_type": "code",
     "collapsed": false,
     "input": [
      "sympy.N(vg.subs(kx, 3.2))"
     ],
     "language": "python",
     "metadata": {},
     "outputs": [
      {
       "latex": [
        "$$1.71577717625414$$"
       ],
       "metadata": {},
       "output_type": "pyout",
       "png": "[encoded data removed]",
       "prompt_number": 19,
       "text": [
        "1.71577717625414"
       ]
      }
     ],
     "prompt_number": 19
    },
    {
     "cell_type": "code",
     "collapsed": false,
     "input": [
      "eq = sympy.diff(enLP(kx, 0), kx, 2)"
     ],
     "language": "python",
     "metadata": {},
     "outputs": [],
     "prompt_number": 20
    },
    {
     "cell_type": "code",
     "collapsed": false,
     "input": [
      "plt.plot(eq, (kx, -4, 4))"
     ],
     "language": "python",
     "metadata": {},
     "outputs": [
      {
       "metadata": {},
       "output_type": "display_data",
       "png": "[encoded data removed]",
       "text": [
        "<matplotlib.figure.Figure at 0x41a7090>"
       ]
      },
      {
       "metadata": {},
       "output_type": "pyout",
       "prompt_number": 21,
       "text": [
        "<sympy.plotting.plot.Plot at 0x46de290>"
       ]
      }
     ],
     "prompt_number": 21
    },
    {
     "cell_type": "code",
     "collapsed": false,
     "input": [
      "solvers.nsolve(eq, 1)"
     ],
     "language": "python",
     "metadata": {},
     "outputs": [
      {
       "metadata": {},
       "output_type": "pyout",
       "prompt_number": 22,
       "text": [
        "mpf('1.059437931866037')"
       ]
      }
     ],
     "prompt_number": 22
    }
   ],
   "metadata": {}
  }
 ]
}