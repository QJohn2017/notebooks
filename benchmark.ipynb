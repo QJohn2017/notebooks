{
 "cells": [
  {
   "cell_type": "markdown",
   "metadata": {},
   "source": [
    "## Original functions from Lucy"
   ]
  },
  {
   "cell_type": "code",
   "execution_count": 1,
   "metadata": {
    "collapsed": true
   },
   "outputs": [],
   "source": [
    "def MinimumSkew(genome):\n",
    "   skew = Skew(genome)\n",
    "   value = min(skew.values())\n",
    "   minimum = []\n",
    "   for i in skew:\n",
    "       if skew[i] == value:\n",
    "           minimum.append(i)\n",
    "   return minimum"
   ]
  },
  {
   "cell_type": "code",
   "execution_count": 2,
   "metadata": {
    "collapsed": true
   },
   "outputs": [],
   "source": [
    "def Skew(Genome):\n",
    "   array = {}\n",
    "   n = len(Genome)\n",
    "   array[0] = 0\n",
    "   for i in range(len(Genome)):\n",
    "       array[i+1] = array[i]\n",
    "       if Genome[i] == 'C':\n",
    "           array[i+1] = array[i+1]-1\n",
    "       if Genome[i] == 'G':\n",
    "           array[i+1] = array[i+1]+1\n",
    "   return array"
   ]
  },
  {
   "cell_type": "markdown",
   "metadata": {},
   "source": [
    "## Generating test data"
   ]
  },
  {
   "cell_type": "code",
   "execution_count": 3,
   "metadata": {
    "collapsed": true
   },
   "outputs": [],
   "source": [
    "from random import choice"
   ]
  },
  {
   "cell_type": "code",
   "execution_count": 4,
   "metadata": {
    "collapsed": true
   },
   "outputs": [],
   "source": [
    "def build_random_genome(size):\n",
    "    bases = ['A', 'C', 'G', 'T']\n",
    "    genome = [choice(bases) for _ in range(size)]\n",
    "    return \"\".join(genome)"
   ]
  },
  {
   "cell_type": "code",
   "execution_count": 5,
   "metadata": {
    "collapsed": true
   },
   "outputs": [],
   "source": [
    "# generate test genome of 65000 lines * 80 chars per line\n",
    "sequence = build_random_genome(65000*80)\n",
    "# write genome to file\n",
    "with open('f', 'w') as f:\n",
    "    f.write(sequence)"
   ]
  },
  {
   "cell_type": "code",
   "execution_count": 6,
   "metadata": {
    "collapsed": false
   },
   "outputs": [],
   "source": [
    "# read test genome from file as bytes sequence\n",
    "with open('f', 'rb') as f:\n",
    "    test_genome_bytes = f.read()"
   ]
  },
  {
   "cell_type": "code",
   "execution_count": 7,
   "metadata": {
    "collapsed": false
   },
   "outputs": [],
   "source": [
    "# string representation of test sequence, for Lucy and Python functions\n",
    "test_genome_str = test_genome_bytes.decode()"
   ]
  },
  {
   "cell_type": "markdown",
   "metadata": {},
   "source": [
    "## Reimplementation"
   ]
  },
  {
   "cell_type": "markdown",
   "metadata": {},
   "source": [
    "### Python"
   ]
  },
  {
   "cell_type": "code",
   "execution_count": 8,
   "metadata": {
    "collapsed": true
   },
   "outputs": [],
   "source": [
    "# first, an implementation in pure Python, for reference\n",
    "def min_skew_python(genome):\n",
    "    gs, cs, min_skew = 0, 0, 0\n",
    "    indices = []\n",
    "    for i, base in enumerate(genome, 1):\n",
    "        if base == 'G':\n",
    "            gs += 1\n",
    "        elif base == 'C':\n",
    "            cs += 1\n",
    "        skew = gs - cs\n",
    "        if skew < min_skew:\n",
    "            min_skew = skew\n",
    "            indices = [i]\n",
    "        elif skew == min_skew:\n",
    "            indices.append(i)\n",
    "    return indices"
   ]
  },
  {
   "cell_type": "markdown",
   "metadata": {},
   "source": [
    "### Numpy"
   ]
  },
  {
   "cell_type": "code",
   "execution_count": 9,
   "metadata": {
    "collapsed": true
   },
   "outputs": [],
   "source": [
    "import numpy as np"
   ]
  },
  {
   "cell_type": "code",
   "execution_count": 10,
   "metadata": {
    "collapsed": true
   },
   "outputs": [],
   "source": [
    "def min_skew_numpy(genome):\n",
    "    # load sequence into numpy array\n",
    "    aseq = np.frombuffer(genome, dtype=np.dtype('S1')).view(np.int8)\n",
    "\n",
    "    # cumulative sums of 'G' and 'C' bases in the sequence\n",
    "    dt = np.int32 if len(genome) < 2**32 -1 else np.int64\n",
    "    g_cum_sum = np.cumsum(aseq == ord('G'), dtype=dt)\n",
    "    c_cum_sum = np.cumsum(aseq == ord('C'), dtype=dt)\n",
    "    \n",
    "    # skew is the difference of the two sums\n",
    "    skews = g_cum_sum\n",
    "    skews -= c_cum_sum\n",
    "    \n",
    "    # get the minimum skew from skews\n",
    "    min_skew = skews.min()\n",
    "    # if it is not negative, set it to 0\n",
    "    min_skew = min_skew if min_skew < 0 else 0\n",
    "    \n",
    "    # return the indices of all the minimum values in skews, shifted by 1\n",
    "    return np.where(skews == min_skew)[0] + 1"
   ]
  },
  {
   "cell_type": "markdown",
   "metadata": {},
   "source": [
    "## Testing"
   ]
  },
  {
   "cell_type": "markdown",
   "metadata": {},
   "source": [
    "### Correctness"
   ]
  },
  {
   "cell_type": "code",
   "execution_count": 11,
   "metadata": {
    "collapsed": false
   },
   "outputs": [
    {
     "data": {
      "text/plain": [
       "[563413, 563431]"
      ]
     },
     "execution_count": 11,
     "metadata": {},
     "output_type": "execute_result"
    }
   ],
   "source": [
    "MinimumSkew(test_genome_str)"
   ]
  },
  {
   "cell_type": "code",
   "execution_count": 12,
   "metadata": {
    "collapsed": false
   },
   "outputs": [
    {
     "data": {
      "text/plain": [
       "[563413, 563431]"
      ]
     },
     "execution_count": 12,
     "metadata": {},
     "output_type": "execute_result"
    }
   ],
   "source": [
    "min_skew_python(test_genome_str)"
   ]
  },
  {
   "cell_type": "code",
   "execution_count": 13,
   "metadata": {
    "collapsed": false
   },
   "outputs": [
    {
     "data": {
      "text/plain": [
       "array([563413, 563431])"
      ]
     },
     "execution_count": 13,
     "metadata": {},
     "output_type": "execute_result"
    }
   ],
   "source": [
    "min_skew_numpy(test_genome_bytes)"
   ]
  },
  {
   "cell_type": "markdown",
   "metadata": {},
   "source": [
    "### Speed"
   ]
  },
  {
   "cell_type": "code",
   "execution_count": 14,
   "metadata": {
    "collapsed": true
   },
   "outputs": [],
   "source": [
    "import seaborn as sns\n",
    "import pandas as pd\n",
    "%matplotlib inline\n",
    "sns.set_style(\"whitegrid\")"
   ]
  },
  {
   "cell_type": "code",
   "execution_count": 15,
   "metadata": {
    "collapsed": false
   },
   "outputs": [
    {
     "name": "stdout",
     "output_type": "stream",
     "text": [
      "1 loop, best of 3: 3.17 s per loop\n"
     ]
    }
   ],
   "source": [
    "# Lucy\n",
    "time_lucy = %timeit -o MinimumSkew(test_genome_str)"
   ]
  },
  {
   "cell_type": "code",
   "execution_count": 16,
   "metadata": {
    "collapsed": false
   },
   "outputs": [
    {
     "name": "stdout",
     "output_type": "stream",
     "text": [
      "1 loop, best of 3: 1.31 s per loop\n"
     ]
    }
   ],
   "source": [
    "# pure Python version\n",
    "time_python = %timeit -o min_skew_python(test_genome_str)"
   ]
  },
  {
   "cell_type": "code",
   "execution_count": 17,
   "metadata": {
    "collapsed": false
   },
   "outputs": [
    {
     "name": "stdout",
     "output_type": "stream",
     "text": [
      "10 loops, best of 3: 86.2 ms per loop\n"
     ]
    }
   ],
   "source": [
    "# numpy-based version\n",
    "time_numpy = %timeit -o min_skew_numpy(test_genome_bytes)"
   ]
  },
  {
   "cell_type": "code",
   "execution_count": 18,
   "metadata": {
    "collapsed": true
   },
   "outputs": [],
   "source": [
    "d = {'times': pd.Series([time_lucy.best, time_python.best, time_numpy.best]),\n",
    "     'names': pd.Series(['Lucy', 'Python', 'Numpy'])}\n",
    "df = pd.DataFrame(d)"
   ]
  },
  {
   "cell_type": "code",
   "execution_count": 19,
   "metadata": {
    "collapsed": false
   },
   "outputs": [
    {
     "data": {
      "image/png": "[encoded data removed]",
      "text/plain": [
       "<matplotlib.figure.Figure at 0x7f104a0faef0>"
      ]
     },
     "metadata": {},
     "output_type": "display_data"
    }
   ],
   "source": [
    "ax = sns.barplot(x='names', y='times', data=df)"
   ]
  },
  {
   "cell_type": "markdown",
   "metadata": {},
   "source": [
    "### Memory"
   ]
  },
  {
   "cell_type": "code",
   "execution_count": 20,
   "metadata": {
    "collapsed": true
   },
   "outputs": [],
   "source": [
    "%load_ext memory_profiler"
   ]
  },
  {
   "cell_type": "code",
   "execution_count": 21,
   "metadata": {
    "collapsed": false
   },
   "outputs": [
    {
     "name": "stdout",
     "output_type": "stream",
     "text": [
      "peak memory: 139.57 MiB, increment: 0.02 MiB\n"
     ]
    }
   ],
   "source": [
    "%memit test_genome_str"
   ]
  },
  {
   "cell_type": "code",
   "execution_count": 22,
   "metadata": {
    "collapsed": false
   },
   "outputs": [
    {
     "name": "stdout",
     "output_type": "stream",
     "text": [
      "peak memory: 612.70 MiB, increment: 473.12 MiB\n"
     ]
    }
   ],
   "source": [
    "# Lucy\n",
    "%memit MinimumSkew(test_genome_str)"
   ]
  },
  {
   "cell_type": "code",
   "execution_count": 23,
   "metadata": {
    "collapsed": false
   },
   "outputs": [
    {
     "name": "stdout",
     "output_type": "stream",
     "text": [
      "peak memory: 186.69 MiB, increment: 0.00 MiB\n"
     ]
    }
   ],
   "source": [
    "# pure Python version\n",
    "%memit min_skew_python(test_genome_str)"
   ]
  },
  {
   "cell_type": "code",
   "execution_count": 24,
   "metadata": {
    "collapsed": false
   },
   "outputs": [
    {
     "name": "stdout",
     "output_type": "stream",
     "text": [
      "peak memory: 204.05 MiB, increment: 17.22 MiB\n"
     ]
    }
   ],
   "source": [
    "# numpy-based version\n",
    "%memit min_skew_numpy(test_genome_bytes)"
   ]
  },
  {
   "cell_type": "code",
   "execution_count": 25,
   "metadata": {
    "collapsed": true
   },
   "outputs": [],
   "source": [
    "# the initial test sequence occupies 73 MiB. \n",
    "# Lucy's code generates a furter 429 MiB on top of that!\n",
    "# The new python code is O(1) space complexity, so no new space is occupied\n",
    "# The numpy version is somewhere in between, at 64 Mib extra"
   ]
  }
 ],
 "metadata": {
  "anaconda-cloud": {},
  "kernelspec": {
   "display_name": "Python [conda root]",
   "language": "python",
   "name": "conda-root-py"
  },
  "language_info": {
   "codemirror_mode": {
    "name": "ipython",
    "version": 3
   },
   "file_extension": ".py",
   "mimetype": "text/x-python",
   "name": "python",
   "nbconvert_exporter": "python",
   "pygments_lexer": "ipython3",
   "version": "3.5.2"
  }
 },
 "nbformat": 4,
 "nbformat_minor": 1
}
