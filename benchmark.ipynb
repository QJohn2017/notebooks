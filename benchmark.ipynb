{
 "cells": [
  {
   "cell_type": "markdown",
   "metadata": {},
   "source": [
    "## Original functions from Lucy"
   ]
  },
  {
   "cell_type": "code",
   "execution_count": 1,
   "metadata": {
    "collapsed": true
   },
   "outputs": [],
   "source": [
    "def MinimumSkew(genome):\n",
    "   skew = Skew(genome)\n",
    "   value = min(skew.values())\n",
    "   minimum = []\n",
    "   for i in skew:\n",
    "       if skew[i] == value:\n",
    "           minimum.append(i)\n",
    "   return minimum"
   ]
  },
  {
   "cell_type": "code",
   "execution_count": 2,
   "metadata": {
    "collapsed": true
   },
   "outputs": [],
   "source": [
    "def Skew(Genome):\n",
    "   array = {}\n",
    "   n = len(Genome)\n",
    "   array[0] = 0\n",
    "   for i in range(len(Genome)):\n",
    "       array[i+1] = array[i]\n",
    "       if Genome[i] == 'C':\n",
    "           array[i+1] = array[i+1]-1\n",
    "       if Genome[i] == 'G':\n",
    "           array[i+1] = array[i+1]+1\n",
    "   return array"
   ]
  },
  {
   "cell_type": "markdown",
   "metadata": {},
   "source": [
    "## Reimplementation using numpy"
   ]
  },
  {
   "cell_type": "code",
   "execution_count": 3,
   "metadata": {
    "collapsed": true
   },
   "outputs": [],
   "source": [
    "import numpy as np\n",
    "from random import choice"
   ]
  },
  {
   "cell_type": "code",
   "execution_count": 4,
   "metadata": {
    "collapsed": true
   },
   "outputs": [],
   "source": [
    "def min_skew(genome):\n",
    "    # convert sequence to a numpy array of chars and return a view of char codes\n",
    "    aseq = np.array(list(genome), dtype=np.dtype('S1')).view(np.int8)\n",
    "\n",
    "    # cumulative sums of 'G' and 'C' bases in the sequence\n",
    "    g_cum_sum = np.cumsum(aseq == ord('G'), dtype=np.int64)\n",
    "    c_cum_sum = np.cumsum(aseq == ord('C'), dtype=np.int64)\n",
    "    \n",
    "    # skew is the difference of the two sums\n",
    "    skews = g_cum_sum - c_cum_sum\n",
    "    \n",
    "    # get the minimum skew from skews\n",
    "    min_skew = skews.min()\n",
    "    # if it is not negative, set it to 0\n",
    "    min_skew = min_skew if min_skew < 0 else 0\n",
    "    \n",
    "    # return the (1-based) indices of all the minimum values in skews\n",
    "    return np.where(skews == min_skew)[0] + 1"
   ]
  },
  {
   "cell_type": "code",
   "execution_count": 5,
   "metadata": {
    "collapsed": true
   },
   "outputs": [],
   "source": [
    "# decorator that generates a random genome sequence of length SIZE\n",
    "def with_random_genome(func):\n",
    "    def func_wrapper(size):\n",
    "        genome = build_random_genome(size)\n",
    "        return func(genome)\n",
    "    return func_wrapper"
   ]
  },
  {
   "cell_type": "code",
   "execution_count": 6,
   "metadata": {
    "collapsed": true
   },
   "outputs": [],
   "source": [
    "def build_random_genome(size):\n",
    "    bases = ['A', 'C', 'G', 'T']\n",
    "    genome = [choice(bases) for _ in range(size)]\n",
    "    return \"\".join(genome)"
   ]
  },
  {
   "cell_type": "markdown",
   "metadata": {},
   "source": [
    "## testing the two approaches give the same result"
   ]
  },
  {
   "cell_type": "code",
   "execution_count": 7,
   "metadata": {
    "collapsed": true
   },
   "outputs": [],
   "source": [
    "# generate test genome of 65000 lines * 80 chars per line\n",
    "test_genome = build_random_genome(65000*80)"
   ]
  },
  {
   "cell_type": "code",
   "execution_count": 8,
   "metadata": {
    "collapsed": false
   },
   "outputs": [
    {
     "data": {
      "text/plain": [
       "array([4247860, 4247861, 4247862, 4247863, 4247864, 4247865, 4247866])"
      ]
     },
     "execution_count": 8,
     "metadata": {},
     "output_type": "execute_result"
    }
   ],
   "source": [
    "min_skew(test_genome)"
   ]
  },
  {
   "cell_type": "code",
   "execution_count": 9,
   "metadata": {
    "collapsed": false
   },
   "outputs": [
    {
     "data": {
      "text/plain": [
       "[4247860, 4247861, 4247862, 4247863, 4247864, 4247865, 4247866]"
      ]
     },
     "execution_count": 9,
     "metadata": {},
     "output_type": "execute_result"
    }
   ],
   "source": [
    "MinimumSkew(test_genome)"
   ]
  },
  {
   "cell_type": "markdown",
   "metadata": {},
   "source": [
    "## Time complexity analysis"
   ]
  },
  {
   "cell_type": "markdown",
   "metadata": {},
   "source": [
    "### utility functions"
   ]
  },
  {
   "cell_type": "code",
   "execution_count": 10,
   "metadata": {
    "collapsed": true
   },
   "outputs": [],
   "source": [
    "from timeit import timeit, repeat\n",
    "import matplotlib.pyplot as plt\n",
    "plt.style.use('ggplot')\n",
    "%matplotlib inline"
   ]
  },
  {
   "cell_type": "code",
   "execution_count": 11,
   "metadata": {
    "collapsed": false
   },
   "outputs": [],
   "source": [
    "def time_function(name, arg, n=1):\n",
    "    f = lambda x: name + '(' + str(x) + ')'\n",
    "    g = globals()\n",
    "    \n",
    "    time = timeit(f(arg), globals=g, number=n)\n",
    "    return time/n"
   ]
  },
  {
   "cell_type": "code",
   "execution_count": 12,
   "metadata": {
    "collapsed": true
   },
   "outputs": [],
   "source": [
    "def get_times(name, xs, n=5):\n",
    "    f = lambda x: name + '(' + str(x) + ')'\n",
    "    g = globals()\n",
    "    \n",
    "    samples = []\n",
    "    for _ in range(n):\n",
    "        times = lambda x: repeat(f(x), globals=g, number=1, repeat=n)\n",
    "        samples.append([np.median(times(x)) for x in xs])\n",
    "    ys = [np.median(sample) for sample in zip(*samples)]\n",
    "    \n",
    "    return ys"
   ]
  },
  {
   "cell_type": "code",
   "execution_count": 13,
   "metadata": {
    "collapsed": true
   },
   "outputs": [],
   "source": [
    "def my_plotter(ax, x_data, y_data, param_dict={}):\n",
    "    out = ax.plot(x_data, y_data, **param_dict)\n",
    "    return out"
   ]
  },
  {
   "cell_type": "markdown",
   "metadata": {},
   "source": [
    "### the numpy-based approach is 10 times faster"
   ]
  },
  {
   "cell_type": "code",
   "execution_count": 14,
   "metadata": {
    "collapsed": false
   },
   "outputs": [
    {
     "data": {
      "text/plain": [
       "3.004950380999958"
      ]
     },
     "execution_count": 14,
     "metadata": {},
     "output_type": "execute_result"
    }
   ],
   "source": [
    "# time in seconds to get minimum skew of the test sequence using Lucy's code\n",
    "time_function('MinimumSkew', 'test_genome')"
   ]
  },
  {
   "cell_type": "code",
   "execution_count": 15,
   "metadata": {
    "collapsed": false
   },
   "outputs": [
    {
     "data": {
      "text/plain": [
       "0.3623161190000701"
      ]
     },
     "execution_count": 15,
     "metadata": {},
     "output_type": "execute_result"
    }
   ],
   "source": [
    "# and now using the numpy-based code\n",
    "time_function('min_skew', 'test_genome')"
   ]
  },
  {
   "cell_type": "code",
   "execution_count": 16,
   "metadata": {
    "collapsed": true
   },
   "outputs": [],
   "source": [
    "# range of genome lengths to generate\n",
    "genome_sizes = range(20, 1000)"
   ]
  },
  {
   "cell_type": "code",
   "execution_count": 17,
   "metadata": {
    "collapsed": true
   },
   "outputs": [],
   "source": [
    "# higher-order functions that take a genome size instead of the actual genome sequence\n",
    "min_skew_with_genome_size = with_random_genome(min_skew)\n",
    "min_skew_lucy_with_genome_size = with_random_genome(MinimumSkew)"
   ]
  },
  {
   "cell_type": "code",
   "execution_count": 18,
   "metadata": {
    "collapsed": false
   },
   "outputs": [],
   "source": [
    "# get run times for each genome length\n",
    "times_lucy = get_times('min_skew_lucy_with_genome_size', genome_sizes)\n",
    "times_numpy = get_times('min_skew_with_genome_size', genome_sizes)"
   ]
  },
  {
   "cell_type": "code",
   "execution_count": 19,
   "metadata": {
    "collapsed": false
   },
   "outputs": [
    {
     "data": {
      "text/plain": [
       "[<matplotlib.lines.Line2D at 0x7fb8f2553a90>]"
      ]
     },
     "execution_count": 19,
     "metadata": {},
     "output_type": "execute_result"
    },
    {
     "data": {
      "image/png": "[encoded data removed]",
      "text/plain": [
       "<matplotlib.figure.Figure at 0x7fb8f4a88fd0>"
      ]
     },
     "metadata": {},
     "output_type": "display_data"
    }
   ],
   "source": [
    "# plot the results\n",
    "fig, (ax1, ax2) = plt.subplots(1, 2)\n",
    "my_plotter(ax1, genome_sizes, times_lucy)\n",
    "my_plotter(ax2, genome_sizes, times_numpy)"
   ]
  },
  {
   "cell_type": "code",
   "execution_count": 20,
   "metadata": {
    "collapsed": true
   },
   "outputs": [],
   "source": [
    "# both approaches are O(n), ie. linear, in time"
   ]
  },
  {
   "cell_type": "markdown",
   "metadata": {},
   "source": [
    "## Memory complexity analysis"
   ]
  },
  {
   "cell_type": "code",
   "execution_count": 21,
   "metadata": {
    "collapsed": true
   },
   "outputs": [],
   "source": [
    "from memory_profiler import memory_usage"
   ]
  },
  {
   "cell_type": "code",
   "execution_count": 22,
   "metadata": {
    "collapsed": true
   },
   "outputs": [],
   "source": [
    "def get_mem_usage(name, xs):\n",
    "    \n",
    "    ys = []\n",
    "    for x in xs:\n",
    "        genome = build_random_genome(int(x))\n",
    "        def foo():\n",
    "            return name(genome)\n",
    "        ys.append(max(memory_usage(foo)))\n",
    "  \n",
    "    return ys"
   ]
  },
  {
   "cell_type": "code",
   "execution_count": 23,
   "metadata": {
    "collapsed": true
   },
   "outputs": [],
   "source": [
    "# range of genome lengths to generate\n",
    "genome_sizes = [1e7]"
   ]
  },
  {
   "cell_type": "code",
   "execution_count": 24,
   "metadata": {
    "collapsed": false
   },
   "outputs": [],
   "source": [
    "# get memory usage for each genome length\n",
    "mem_lucy = get_mem_usage(MinimumSkew, genome_sizes)\n",
    "mem_numpy = get_mem_usage(min_skew, genome_sizes)"
   ]
  },
  {
   "cell_type": "code",
   "execution_count": 25,
   "metadata": {
    "collapsed": false
   },
   "outputs": [
    {
     "data": {
      "text/plain": [
       "[987.7109375]"
      ]
     },
     "execution_count": 25,
     "metadata": {},
     "output_type": "execute_result"
    }
   ],
   "source": [
    "mem_lucy"
   ]
  },
  {
   "cell_type": "code",
   "execution_count": 26,
   "metadata": {
    "collapsed": false
   },
   "outputs": [
    {
     "data": {
      "text/plain": [
       "[325.62890625]"
      ]
     },
     "execution_count": 26,
     "metadata": {},
     "output_type": "execute_result"
    }
   ],
   "source": [
    "mem_numpy"
   ]
  },
  {
   "cell_type": "code",
   "execution_count": 27,
   "metadata": {
    "collapsed": true
   },
   "outputs": [],
   "source": [
    "# ~3 times less memory consumption with the numpy code"
   ]
  }
 ],
 "metadata": {
  "anaconda-cloud": {},
  "kernelspec": {
   "display_name": "Python [conda root]",
   "language": "python",
   "name": "conda-root-py"
  },
  "language_info": {
   "codemirror_mode": {
    "name": "ipython",
    "version": 3
   },
   "file_extension": ".py",
   "mimetype": "text/x-python",
   "name": "python",
   "nbconvert_exporter": "python",
   "pygments_lexer": "ipython3",
   "version": "3.5.2"
  }
 },
 "nbformat": 4,
 "nbformat_minor": 1
}
