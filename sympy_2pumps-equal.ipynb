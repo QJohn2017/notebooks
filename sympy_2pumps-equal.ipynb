{
 "metadata": {
  "name": "",
  "signature": "sha256:8ecf3235e4fe6f33f82645786f41ca41d21eb45c16ace1205064dd071b07b8c4"
 },
 "nbformat": 3,
 "nbformat_minor": 0,
 "worksheets": [
  {
   "cells": [
    {
     "cell_type": "code",
     "collapsed": false,
     "input": [
      "from sympy import *\n",
      "from sympy.core.function import AppliedUndef\n",
      "from sympy.strategies.traverse import bottom_up\n",
      "from sympy.strategies import chain, rebuild\n",
      "import collections\n",
      "from sympy.unify import unify\n",
      "init_printing(use_unicode=True)"
     ],
     "language": "python",
     "metadata": {},
     "outputs": [],
     "prompt_number": 1
    },
    {
     "cell_type": "code",
     "collapsed": false,
     "input": [
      "k, q, k1, k2, kp, q1, q2 = symbols('k q k_1 k_2 k_p q_1 q_2', integer=True)\n",
      "ut1, ut2, vt1, vt2, C, X = symbols('utilde_1 utilde_2 vtilde_1 vtilde_2 C X', cls=Function)\n",
      "psiss1, psiss2, psiss, psi10, psi20, f1, f2 = symbols('psi^ss_1 psi^ss_2 psi^ss psi_10 psi_20 f_1 f_2')\n",
      "omega, omega1, omega2, omegap, t, gv, phip, alpha = symbols('omega omega_1 omega_2 omega_p t g_v phi_p alpha', real=True)\n",
      "g, n, np = symbols('g n n_p', positive=True)"
     ],
     "language": "python",
     "metadata": {},
     "outputs": [],
     "prompt_number": 2
    },
    {
     "cell_type": "code",
     "collapsed": false,
     "input": [
      "class epsilon(Function):\n",
      "    is_real = True\n",
      "class kappa(Function):\n",
      "    is_real = True"
     ],
     "language": "python",
     "metadata": {},
     "outputs": [],
     "prompt_number": 3
    },
    {
     "cell_type": "code",
     "collapsed": false,
     "input": [
      "class psitilde(Function):\n",
      "    nargs = 2\n",
      "\n",
      "    @classmethod\n",
      "    def eval(cls, k, t):\n",
      "        return psi10/(sqrt(g)*X(k1)) * KroneckerDelta(k, k1) * exp(-I*omega1*t) + \\\n",
      "               psi20/(sqrt(g)*X(k2)) * KroneckerDelta(k, k2) * exp(-I*omega2*t) + \\\n",
      "               (ut1(k-k1)*exp(-I*omega*t) + conjugate(vt1(k1-k))*exp(I*omega*t))*exp(-I*omega1*t) + \\\n",
      "               (ut2(k-k2)*exp(-I*omega*t) + conjugate(vt2(k2-k))*exp(I*omega*t))*exp(-I*omega2*t)\n",
      "    def _latex(self, printer):\n",
      "        return r'\\tilde{\\psi(%s \\right)}' % printer._print(self.args[0])"
     ],
     "language": "python",
     "metadata": {},
     "outputs": [],
     "prompt_number": 4
    },
    {
     "cell_type": "code",
     "collapsed": false,
     "input": [
      "class psitildebar(Function):\n",
      "    nargs = 2\n",
      "\n",
      "    @classmethod\n",
      "    def eval(cls, k, t):\n",
      "        return conjugate(psitilde(k,t))\n",
      "    def _latex(self, printer):\n",
      "        return r'\\bar{\\tilde{\\psi(%s \\right)}}' % printer._print(self.args[0])"
     ],
     "language": "python",
     "metadata": {},
     "outputs": [],
     "prompt_number": 5
    },
    {
     "cell_type": "code",
     "collapsed": false,
     "input": [
      "class meanfieldize(Function):\n",
      "    nargs = 1\n",
      "\n",
      "    @classmethod\n",
      "    def eval(cls, expr):\n",
      "        flist = ut1, ut2, vt1, vt2\n",
      "        funcs = [fi for fi in expr.atoms(AppliedUndef) if fi.func in flist]\n",
      "        linear = []\n",
      "        for a in Add.make_args(expr):\n",
      "            if not a.has(*funcs):\n",
      "                linear.append(a)\n",
      "        return Add(*linear)"
     ],
     "language": "python",
     "metadata": {},
     "outputs": [],
     "prompt_number": 6
    },
    {
     "cell_type": "code",
     "collapsed": false,
     "input": [
      "class linearize(Function):\n",
      "    nargs = 1\n",
      "\n",
      "    @classmethod\n",
      "    def eval(cls, expr):\n",
      "        flist = ut1, ut2, vt1, vt2\n",
      "        funcs = [fi for fi in expr.atoms(AppliedUndef) if fi.func in flist]\n",
      "        linear = []\n",
      "        for a in Add.make_args(expr):\n",
      "            if not a.has(*funcs) or Poly(a, *funcs).is_linear and len(a.atoms(*funcs))==1:\n",
      "                linear.append(a)\n",
      "        return Add(*linear)"
     ],
     "language": "python",
     "metadata": {},
     "outputs": [],
     "prompt_number": 7
    },
    {
     "cell_type": "code",
     "collapsed": false,
     "input": [
      "class psitildeMF(Function):\n",
      "    nargs = 2\n",
      "\n",
      "    @classmethod\n",
      "    def eval(cls, k, t):\n",
      "        return meanfieldize(psitilde(k,t))\n",
      "    def _latex(self, printer):\n",
      "        return r'\\tilde{\\psi_{\\text{MF}}(%s \\right)}' % printer._print(self.args[0])"
     ],
     "language": "python",
     "metadata": {},
     "outputs": [],
     "prompt_number": 8
    },
    {
     "cell_type": "code",
     "collapsed": false,
     "input": [
      "def to_abs(node):\n",
      "    if not isinstance(node, Mul):\n",
      "        return node\n",
      "    zm1, zm2 = symbols('zm1, zm2')\n",
      "    m = unify(node, zm1 * zm2 * conjugate(zm2), {}, variables=[zm1, zm2])\n",
      "    try:\n",
      "        m = next(m)\n",
      "    except:\n",
      "        return node\n",
      "    e = m[zm2]\n",
      "    return node.xreplace({e: S.One, conjugate(e): S.One})*abs(e)**2"
     ],
     "language": "python",
     "metadata": {},
     "outputs": [],
     "prompt_number": 9
    },
    {
     "cell_type": "code",
     "collapsed": false,
     "input": [
      "def get_unflattener(m):\n",
      "        m_args = list(m.args)\n",
      "        def unflattener(node):\n",
      "                new_args = []\n",
      "                sub_add_args = []\n",
      "                for arg in node.args:\n",
      "                        common = [i for i in arg.args if i in m_args]\n",
      "                        if set(common) == set(m_args):\n",
      "                                sub_add_args.append(arg)\n",
      "                        else:\n",
      "                                new_args.append(arg)\n",
      "                sub_add = Add(*[i.func(*[j for j in i.args if j not in m_args]) for i in sub_add_args], evaluate=False)\n",
      "                return Add(*(new_args + [Mul(*(m_args + [sub_add]), evaluate=False)]), evaluate=False)\n",
      "        return unflattener"
     ],
     "language": "python",
     "metadata": {},
     "outputs": [],
     "prompt_number": 10
    },
    {
     "cell_type": "code",
     "collapsed": false,
     "input": [
      "psitilde(k,t)"
     ],
     "language": "python",
     "metadata": {},
     "outputs": [
      {
       "latex": [
        "$$\\left(\\tilde{u}_{1}{\\left (k - k_{1} \\right )} e^{- i \\omega t} + e^{i \\omega t} \\overline{\\tilde{v}_{1}{\\left (- k + k_{1} \\right )}}\\right) e^{- i \\omega_{1} t} + \\left(\\tilde{u}_{2}{\\left (k - k_{2} \\right )} e^{- i \\omega t} + e^{i \\omega t} \\overline{\\tilde{v}_{2}{\\left (- k + k_{2} \\right )}}\\right) e^{- i \\omega_{2} t} + \\frac{\\psi_{10} e^{- i \\omega_{1} t} \\delta_{k k_{1}}}{\\sqrt{g} X{\\left (k_{1} \\right )}} + \\frac{\\psi_{20} e^{- i \\omega_{2} t} \\delta_{k k_{2}}}{\\sqrt{g} X{\\left (k_{2} \\right )}}$$"
       ],
       "metadata": {},
       "output_type": "pyout",
       "png": "[encoded data removed]",
       "prompt_number": 11,
       "text": [
        "                                                                              \n",
        "                                                                              \n",
        "\u239b             -\u2148\u22c5\u03c9\u22c5t    \u2148\u22c5\u03c9\u22c5t ____________\u239e  -\u2148\u22c5\u03c9\u2081\u22c5t   \u239b             -\u2148\u22c5\u03c9\u22c5t   \n",
        "\u239du\u0303\u2081(k - k\u2081)\u22c5\u212f       + \u212f     \u22c5v\u0303\u2081(-k + k\u2081)\u23a0\u22c5\u212f        + \u239du\u0303\u2082(k - k\u2082)\u22c5\u212f       + \n",
        "                                                                              \n",
        "                                                                              \n",
        "\n",
        "                                     -\u2148\u22c5\u03c9\u2081\u22c5t              -\u2148\u22c5\u03c9\u2082\u22c5t      \n",
        "                                \u03c8\u2081\u2080\u22c5\u212f       \u22c5\u03b4       \u03c8\u2082\u2080\u22c5\u212f       \u22c5\u03b4    \n",
        " \u2148\u22c5\u03c9\u22c5t ____________\u239e  -\u2148\u22c5\u03c9\u2082\u22c5t                 k,k\u2081                 k,k\u2082\n",
        "\u212f     \u22c5v\u0303\u2082(-k + k\u2082)\u23a0\u22c5\u212f        + \u2500\u2500\u2500\u2500\u2500\u2500\u2500\u2500\u2500\u2500\u2500\u2500\u2500\u2500\u2500\u2500\u2500\u2500 + \u2500\u2500\u2500\u2500\u2500\u2500\u2500\u2500\u2500\u2500\u2500\u2500\u2500\u2500\u2500\u2500\u2500\u2500\n",
        "                                     ___                  ___          \n",
        "                                   \u2572\u2571 g \u22c5X(k\u2081)          \u2572\u2571 g \u22c5X(k\u2082)    "
       ]
      }
     ],
     "prompt_number": 11
    },
    {
     "cell_type": "heading",
     "level": 1,
     "metadata": {},
     "source": [
      "Theoretical model"
     ]
    },
    {
     "cell_type": "markdown",
     "metadata": {},
     "source": [
      "The starting GP eq. for the LP band with a $\\delta$-like defect and 2 pumps is:\n",
      "\\begin{align}\n",
      "i \\frac{d}{dt} \\widetilde{\\psi}(k)=&\\left[\\epsilon(k)-i \n",
      "\\frac{\\kappa(k)}{2}\\right]\\widetilde{\\psi}(k) + F_1 \\delta(k-k_1)C(k_1) e^{-i \\omega_1 t} + F_2 \\delta(k-k_2)C(k_2) e^{-i \\omega_2 t} \\nonumber \\\\\n",
      "& + \\sum_{q_1,q_2} g_{k,q_1,q_2} \\widetilde{\\psi}^{*}(q_1+q_2-\n",
      "k)\\widetilde{\\psi}(q_1)\\widetilde{\\psi}(q_2) \\nonumber \\\\\n",
      "& + \\sum_q G_{k,q} \\widetilde{\\psi}(q)\n",
      "\\end{align}\n",
      "\n",
      "with the defect contribution\n",
      "\\begin{equation}\n",
      "G_{k,q} = g_V C(k) C(q)\n",
      "\\end{equation}\n",
      "\n",
      "and the polariton-polariton interaction\n",
      "\\begin{equation}\n",
      "g_{k,q_1,q_2} = g X^*(k) X^*(q_1+q_2-k) X(q_1) X(q_2)\n",
      "\\end{equation}\n",
      "\n",
      "The ansatz for the wavefunction in momentum space reads\n",
      "\n",
      "\\begin{align}\n",
      "\\widetilde{\\psi}(k) &= e^{-i\\omega_1 t} \\left[\\psi^{\\text{ss}}_1\\delta(k-k_1) + \n",
      "\\widetilde{u}_1(k-k_1) e^{-i \\omega t} + \\widetilde{v}^*_1(k_1-k) e^{i \\omega \n",
      "t}\\right] \\nonumber \\\\\n",
      "& + e^{-i\\omega_2 t} \\left[\\psi^{\\text{ss}}_2\\delta(k-k_2) + \\widetilde{u}_2(k-k_2) e^{-i \\omega \n",
      "t} + \\widetilde{v}^*_2(k_2-k) e^{i \\omega t}\\right]\n",
      "\\end{align}\n",
      "\n",
      "where we have used the Fourier transforms $u(r)=\\sum_k \\widetilde{u}(k) e^{ikr}$ \n",
      "and the equivalent for $v$."
     ]
    },
    {
     "cell_type": "heading",
     "level": 1,
     "metadata": {},
     "source": [
      "Notation"
     ]
    },
    {
     "cell_type": "markdown",
     "metadata": {},
     "source": [
      "\\begin{align}\n",
      "f_1 &= \\sqrt{g} \\frac{C(k_1)}{X(k_1)} F_1 \\\\\n",
      "f_2 &= \\sqrt{g} \\frac{C(k_2)}{X(k_2)} F_2\n",
      "\\end{align}\n",
      "\n",
      "\\begin{align}\n",
      "X_i &= X(k_i) \\\\\n",
      "I_i &= \\left| f_i \\right|^2\n",
      "\\end{align}\n",
      "\n",
      "\\begin{align}\n",
      "\\psi_{10} &= \\sqrt{g} X(k_1) \\psi^{\\text{ss}}_1 \\\\\n",
      "\\psi_{20} &= \\sqrt{g} X(k_2) \\psi^{\\text{ss}}_2\n",
      "\\end{align}\n",
      "\n",
      "\\begin{equation}\n",
      "n = n_1 + n_2 = \\left|\\psi_{10} \\right|^2 + \\left|\\psi_{20} \\right|^2\n",
      "\\end{equation}"
     ]
    },
    {
     "cell_type": "heading",
     "level": 1,
     "metadata": {},
     "source": [
      "Left-hand side"
     ]
    },
    {
     "cell_type": "code",
     "collapsed": false,
     "input": [
      "lhs = expand(I*diff(psitilde(k,t), t))"
     ],
     "language": "python",
     "metadata": {},
     "outputs": [],
     "prompt_number": 12
    },
    {
     "cell_type": "code",
     "collapsed": false,
     "input": [
      "lhsMF = meanfieldize(lhs)"
     ],
     "language": "python",
     "metadata": {},
     "outputs": [],
     "prompt_number": 13
    },
    {
     "cell_type": "code",
     "collapsed": false,
     "input": [
      "lhsLIN = lhs - lhsMF"
     ],
     "language": "python",
     "metadata": {},
     "outputs": [],
     "prompt_number": 14
    },
    {
     "cell_type": "heading",
     "level": 1,
     "metadata": {},
     "source": [
      "Right-hand side"
     ]
    },
    {
     "cell_type": "code",
     "collapsed": false,
     "input": [
      "rhs1 = expand((epsilon(k) - I*kappa(k)/2) * psitilde(k,t))"
     ],
     "language": "python",
     "metadata": {},
     "outputs": [],
     "prompt_number": 15
    },
    {
     "cell_type": "code",
     "collapsed": false,
     "input": [
      "rhs1MF = meanfieldize(rhs1)"
     ],
     "language": "python",
     "metadata": {},
     "outputs": [],
     "prompt_number": 16
    },
    {
     "cell_type": "code",
     "collapsed": false,
     "input": [
      "rhs1LIN = rhs1 - rhs1MF"
     ],
     "language": "python",
     "metadata": {},
     "outputs": [],
     "prompt_number": 17
    },
    {
     "cell_type": "code",
     "collapsed": false,
     "input": [
      "rhs2LIN = Sum(expand(gv*C(k)*C(q)*psitildeMF(q,t)), (q, -oo, oo)).doit()"
     ],
     "language": "python",
     "metadata": {},
     "outputs": [],
     "prompt_number": 18
    },
    {
     "cell_type": "code",
     "collapsed": false,
     "input": [
      "thirdorder = expand(g*conjugate(X(k))*conjugate(X(q1+q2-k))*X(q1)*X(q2)*psitilde(q1,t)*psitilde(q2,t)*psitildebar(q1+q2-k,t))"
     ],
     "language": "python",
     "metadata": {},
     "outputs": [],
     "prompt_number": 19
    },
    {
     "cell_type": "code",
     "collapsed": false,
     "input": [
      "summandMF = meanfieldize(thirdorder)"
     ],
     "language": "python",
     "metadata": {},
     "outputs": [],
     "prompt_number": 20
    },
    {
     "cell_type": "code",
     "collapsed": false,
     "input": [
      "summand = linearize(thirdorder)"
     ],
     "language": "python",
     "metadata": {},
     "outputs": [],
     "prompt_number": 21
    },
    {
     "cell_type": "code",
     "collapsed": false,
     "input": [
      "summandLIN = expand(summand) - expand(summandMF)"
     ],
     "language": "python",
     "metadata": {},
     "outputs": [],
     "prompt_number": 22
    },
    {
     "cell_type": "code",
     "collapsed": false,
     "input": [
      "rhs3LIN = Sum(Sum(summandLIN, (q1, -oo, oo)).doit(), (q2, -oo, oo)).doit()"
     ],
     "language": "python",
     "metadata": {},
     "outputs": [],
     "prompt_number": 23
    },
    {
     "cell_type": "code",
     "collapsed": false,
     "input": [
      "rhsLIN = rhs1LIN + rhs2LIN"
     ],
     "language": "python",
     "metadata": {},
     "outputs": [],
     "prompt_number": 24
    },
    {
     "cell_type": "heading",
     "level": 1,
     "metadata": {},
     "source": [
      "Mean-field"
     ]
    },
    {
     "cell_type": "code",
     "collapsed": false,
     "input": [
      "rhs3MF = Sum(Sum(summandMF, (q1, -oo, oo)).doit(), (q2, -oo, oo)).doit()"
     ],
     "language": "python",
     "metadata": {},
     "outputs": [],
     "prompt_number": 25
    },
    {
     "cell_type": "code",
     "collapsed": false,
     "input": [
      "rhsMF = rhs1MF + X(k1)*f1/sqrt(g)*KroneckerDelta(k, k1)*exp(-I*omega1*t) + X(k2)*f2/sqrt(g)*KroneckerDelta(k, k2)*exp(-I*omega2*t) + rhs3MF"
     ],
     "language": "python",
     "metadata": {},
     "outputs": [],
     "prompt_number": 26
    },
    {
     "cell_type": "code",
     "collapsed": false,
     "input": [
      "lhsMF1 = lhsMF.coeff(exp(-I*omega1*t))\n",
      "lhsMF2 = lhsMF.coeff(exp(-I*omega2*t))\n",
      "rhsMF1 = rhsMF.coeff(exp(-I*omega1*t))\n",
      "rhsMF2 = rhsMF.coeff(exp(-I*omega2*t))\n",
      "eqMF1 = expand(sqrt(g)*X(k1)*Sum(rhsMF1 - lhsMF1, (k, -oo, oo)).doit())\n",
      "eqMF2 = expand(sqrt(g)*X(k2)*Sum(rhsMF2 - lhsMF2, (k, -oo, oo)).doit())"
     ],
     "language": "python",
     "metadata": {},
     "outputs": [],
     "prompt_number": 27
    },
    {
     "cell_type": "code",
     "collapsed": false,
     "input": [
      "eqMF1"
     ],
     "language": "python",
     "metadata": {},
     "outputs": [
      {
       "latex": [
        "$$f_{1} X^{2}{\\left (k_{1} \\right )} - \\omega_{1} \\psi_{10} + \\psi_{10}^{2} X{\\left (k_{1} \\right )} \\overline{\\psi_{10}} \\overline{X{\\left (k_{1} \\right )}} + 2 \\psi_{10} \\psi_{20} X{\\left (k_{1} \\right )} \\overline{\\psi_{20}} \\overline{X{\\left (k_{1} \\right )}} + \\psi_{10} \\epsilon{\\left (k_{1} \\right )} - \\frac{i \\psi_{10}}{2} \\kappa{\\left (k_{1} \\right )}$$"
       ],
       "metadata": {},
       "output_type": "pyout",
       "png": "[encoded data removed]",
       "prompt_number": 28,
       "text": [
        "    2                   2       ___ _____                   ___ _____         \n",
        "f\u2081\u22c5X (k\u2081) - \u03c9\u2081\u22c5\u03c8\u2081\u2080 + \u03c8\u2081\u2080 \u22c5X(k\u2081)\u22c5\u03c8\u2081\u2080\u22c5X(k\u2081) + 2\u22c5\u03c8\u2081\u2080\u22c5\u03c8\u2082\u2080\u22c5X(k\u2081)\u22c5\u03c8\u2082\u2080\u22c5X(k\u2081) + \u03c8\u2081\u2080\u22c5\u03b5(\n",
        "                                                                              \n",
        "\n",
        "      \u2148\u22c5\u03c8\u2081\u2080\u22c5\u03ba(k\u2081)\n",
        "k\u2081) - \u2500\u2500\u2500\u2500\u2500\u2500\u2500\u2500\u2500\u2500\u2500\n",
        "           2     "
       ]
      }
     ],
     "prompt_number": 28
    },
    {
     "cell_type": "markdown",
     "metadata": {},
     "source": [
      "$$\\psi_{10}\\left[\\epsilon\\left(k_{1}\\right)-\\omega_{1}+\\left|X_{1}\\right|^{2}\\left(n_{1}+2n_{2}\\right)-i\\frac{\\kappa\\left(k_{1}\\right)}{2}\\right]=-X_{1}^{2}f_{1}$$\n",
      "$$\\psi_{20}\\left[\\epsilon\\left(k_{2}\\right)-\\omega_{2}+\\left|X_{2}\\right|^{2}\\left(2n_{1}+n_{2}\\right)-i\\frac{\\kappa\\left(k_{2}\\right)}{2}\\right]=-X_{2}^{2}f_{2}$$\n",
      "$$\\left[\\left(\\epsilon\\left(k_{1}\\right)-\\omega_{1}+\\left|X_{1}\\right|^{2}\\left(n_{1}+2n_{2}\\right)\\right)^{2}+\\frac{\\kappa^{2}\\left(k_{1}\\right)}{4}\\right]n_{1} - \\left|X_{1}\\right|^{4}I_{1} = 0$$\n",
      "$$\\left[\\left(\\epsilon\\left(k_{2}\\right)-\\omega_{2}+\\left|X_{2}\\right|^{2}\\left(2n_{1}+n_{2}\\right)\\right)^{2}+\\frac{\\kappa^{2}\\left(k_{2}\\right)}{4}\\right]n_{2} - \\left|X_{2}\\right|^{4}I_{2}=0$$\n",
      "\n",
      "for the pump-only case, we have:\n",
      "$$\\left[\\left(\\epsilon\\left(k_{p}\\right)-\\omega_{p}+\\left|X_{p}\\right|^{2}n_{p}\\right)^{2}+\\frac{\\kappa^{2}\\left(k_{p}\\right)}{4}\\right]n_{p}-\\left|X_{p}\\right|^{4}I_{p}=0$$"
     ]
    },
    {
     "cell_type": "heading",
     "level": 1,
     "metadata": {},
     "source": [
      "Linear response"
     ]
    },
    {
     "cell_type": "heading",
     "level": 2,
     "metadata": {},
     "source": [
      "Left-hand side"
     ]
    },
    {
     "cell_type": "code",
     "collapsed": false,
     "input": [
      "fd1 = gv * (rhsLIN - lhsLIN).coeff(gv*exp(-I*omega1*t))\n",
      "fd2 = gv * (rhsLIN - lhsLIN).coeff(gv*exp(-I*omega2*t))"
     ],
     "language": "python",
     "metadata": {},
     "outputs": [],
     "prompt_number": 29
    },
    {
     "cell_type": "code",
     "collapsed": false,
     "input": [
      "lhsLIN11 = lhsLIN.coeff(exp(-I*omega*t)*exp(-I*omega1*t))\n",
      "lhsLIN21 = lhsLIN.coeff(exp(-I*omega*t)*exp(-I*omega2*t))\n",
      "lhsLIN12 = lhsLIN.coeff(exp(I*omega*t)*exp(-I*omega1*t))\n",
      "lhsLIN22 = lhsLIN.coeff(exp(I*omega*t)*exp(-I*omega2*t))"
     ],
     "language": "python",
     "metadata": {},
     "outputs": [],
     "prompt_number": 30
    },
    {
     "cell_type": "heading",
     "level": 2,
     "metadata": {},
     "source": [
      "Right-hand side"
     ]
    },
    {
     "cell_type": "code",
     "collapsed": false,
     "input": [
      "rhsLIN11 = rhsLIN.coeff(exp(-I*omega*t)*exp(-I*omega1*t)) \n",
      "rhsLIN21 = rhsLIN.coeff(exp(-I*omega*t)*exp(-I*omega2*t))\n",
      "rhsLIN12 = rhsLIN.coeff(exp(I*omega*t)*exp(-I*omega1*t))\n",
      "rhsLIN22 = rhsLIN.coeff(exp(I*omega*t)*exp(-I*omega2*t))"
     ],
     "language": "python",
     "metadata": {},
     "outputs": [],
     "prompt_number": 31
    },
    {
     "cell_type": "code",
     "collapsed": false,
     "input": [
      "rhs3LIN11 = rhs3LIN.coeff(exp(-I*omega*t)*exp(-I*omega1*t))\n",
      "rhs3LIN21 = rhs3LIN.coeff(exp(-I*omega*t)*exp(-I*omega2*t))\n",
      "rhs3LIN12 = rhs3LIN.coeff(exp(I*omega*t)*exp(-I*omega1*t))\n",
      "rhs3LIN22 = rhs3LIN.coeff(exp(I*omega*t)*exp(-I*omega2*t))"
     ],
     "language": "python",
     "metadata": {},
     "outputs": [],
     "prompt_number": 32
    },
    {
     "cell_type": "heading",
     "level": 2,
     "metadata": {},
     "source": [
      "Resulting equations"
     ]
    },
    {
     "cell_type": "code",
     "collapsed": false,
     "input": [
      "eq11 = (rhsLIN11 + rhs3LIN11 - lhsLIN11).subs(k, k+k1)\n",
      "eq21 = (rhsLIN21 + rhs3LIN21 - lhsLIN21).subs(k, k+k2)\n",
      "eq12 = (-conjugate(rhsLIN12 + rhs3LIN12 - lhsLIN12)).subs(k, k1-k)\n",
      "eq22 = (-conjugate(rhsLIN22 + rhs3LIN22 - lhsLIN22)).subs(k, k2-k)\n",
      "fd11 = fd1.subs(k, k+k1)\n",
      "fd21 = fd2.subs(k, k+k2)\n",
      "fd12 = (-conjugate(fd1)).subs(k, k1-k)\n",
      "fd22 = (-conjugate(fd2)).subs(k, k2-k)\n",
      "Fd = Matrix([fd11, fd21, fd12, fd22])\n",
      "varbs = Matrix([ut1(k), ut2(k), vt1(k), vt2(k)])"
     ],
     "language": "python",
     "metadata": {},
     "outputs": [],
     "prompt_number": 33
    },
    {
     "cell_type": "code",
     "collapsed": false,
     "input": [
      "[fi for fi in eq12.atoms(AppliedUndef) if fi.func in [ut1, ut2, vt1, vt2]]"
     ],
     "language": "python",
     "metadata": {},
     "outputs": [
      {
       "latex": [
        "$$\\begin{bmatrix}\\tilde{u}_{1}{\\left (k \\right )}, & \\tilde{v}_{2}{\\left (k \\right )}, & \\tilde{v}_{1}{\\left (k \\right )}, & \\tilde{u}_{2}{\\left (k \\right )}\\end{bmatrix}$$"
       ],
       "metadata": {},
       "output_type": "pyout",
       "png": "[encoded data removed]",
       "prompt_number": 34,
       "text": [
        "[u\u0303\u2081(k), v\u0303\u2082(k), v\u0303\u2081(k), u\u0303\u2082(k)]"
       ]
      }
     ],
     "prompt_number": 34
    },
    {
     "cell_type": "code",
     "collapsed": false,
     "input": [
      "A = Matrix([eq11, eq21, eq12, eq22]).jacobian(varbs)"
     ],
     "language": "python",
     "metadata": {},
     "outputs": [],
     "prompt_number": 35
    },
    {
     "cell_type": "code",
     "collapsed": false,
     "input": [
      "L = (A.applyfunc(lambda elem: bottom_up(chain(rebuild, to_abs))(elem))).applyfunc(lambda elem: bottom_up(chain(rebuild, to_abs))(elem))"
     ],
     "language": "python",
     "metadata": {},
     "outputs": [],
     "prompt_number": 36
    },
    {
     "cell_type": "code",
     "collapsed": false,
     "input": [
      "L[0,0] = get_unflattener(2*Abs(X(k + k1))**2)(L[0,0])\n",
      "L[1,1] = get_unflattener(2*Abs(X(k + k2))**2)(L[1,1])\n",
      "L[2,2] = get_unflattener(-2*Abs(X(-k + k1))**2)(L[2,2])\n",
      "L[3,3] = get_unflattener(-2*Abs(X(-k + k2))**2)(L[3,3])"
     ],
     "language": "python",
     "metadata": {},
     "outputs": [],
     "prompt_number": 37
    },
    {
     "cell_type": "code",
     "collapsed": false,
     "input": [
      "L = L.replace(Abs(psi10)**2 + Abs(psi20)**2, n)"
     ],
     "language": "python",
     "metadata": {},
     "outputs": [],
     "prompt_number": 38
    },
    {
     "cell_type": "code",
     "collapsed": false,
     "input": [
      "L[0:2,0:2]"
     ],
     "language": "python",
     "metadata": {},
     "outputs": [
      {
       "latex": [
        "$$\\left[\\begin{matrix}2 n \\left\\lvert{X{\\left (k + k_{1} \\right )}}\\right\\rvert^{2} - \\omega - \\omega_{1} + \\epsilon{\\left (k + k_{1} \\right )} - \\frac{i}{2} \\kappa{\\left (k + k_{1} \\right )} & 2 \\psi_{10} X{\\left (k + k_{2} \\right )} \\overline{\\psi_{20}} \\overline{X{\\left (k + k_{1} \\right )}}\\\\2 \\psi_{20} X{\\left (k + k_{1} \\right )} \\overline{\\psi_{10}} \\overline{X{\\left (k + k_{2} \\right )}} & 2 n \\left\\lvert{X{\\left (k + k_{2} \\right )}}\\right\\rvert^{2} - \\omega - \\omega_{2} + \\epsilon{\\left (k + k_{2} \\right )} - \\frac{i}{2} \\kappa{\\left (k + k_{2} \\right )}\\end{matrix}\\right]$$"
       ],
       "metadata": {},
       "output_type": "pyout",
       "png": "[encoded data removed]",
       "prompt_number": 39,
       "text": [
        "\u23a1               2                        \u2148\u22c5\u03ba(k + k\u2081)                          \n",
        "\u23a22\u22c5n\u22c5\u2502X(k + k\u2081)\u2502  - \u03c9 - \u03c9\u2081 + \u03b5(k + k\u2081) - \u2500\u2500\u2500\u2500\u2500\u2500\u2500\u2500\u2500\u2500\u2500             2\u22c5\u03c8\u2081\u2080\u22c5X(k + k\n",
        "\u23a2                                             2                               \n",
        "\u23a2                                                                             \n",
        "\u23a2                           ___ _________                            2        \n",
        "\u23a2           2\u22c5\u03c8\u2082\u2080\u22c5X(k + k\u2081)\u22c5\u03c8\u2081\u2080\u22c5X(k + k\u2082)             2\u22c5n\u22c5\u2502X(k + k\u2082)\u2502  - \u03c9 - \u03c9\n",
        "\u23a3                                                                             \n",
        "\n",
        "   ___ _________           \u23a4\n",
        "\u2082)\u22c5\u03c8\u2082\u2080\u22c5X(k + k\u2081)           \u23a5\n",
        "                           \u23a5\n",
        "                           \u23a5\n",
        "                \u2148\u22c5\u03ba(k + k\u2082)\u23a5\n",
        "\u2082 + \u03b5(k + k\u2082) - \u2500\u2500\u2500\u2500\u2500\u2500\u2500\u2500\u2500\u2500\u2500\u23a5\n",
        "                     2     \u23a6"
       ]
      }
     ],
     "prompt_number": 39
    },
    {
     "cell_type": "code",
     "collapsed": false,
     "input": [
      "L[2:4,2:4]"
     ],
     "language": "python",
     "metadata": {},
     "outputs": [
      {
       "latex": [
        "$$\\left[\\begin{matrix}- 2 n \\left\\lvert{X{\\left (- k + k_{1} \\right )}}\\right\\rvert^{2} - \\omega + \\omega_{1} - \\epsilon{\\left (- k + k_{1} \\right )} - \\frac{i}{2} \\kappa{\\left (- k + k_{1} \\right )} & - 2 \\psi_{20} X{\\left (- k + k_{1} \\right )} \\overline{\\psi_{10}} \\overline{X{\\left (- k + k_{2} \\right )}}\\\\- 2 \\psi_{10} X{\\left (- k + k_{2} \\right )} \\overline{\\psi_{20}} \\overline{X{\\left (- k + k_{1} \\right )}} & - 2 n \\left\\lvert{X{\\left (- k + k_{2} \\right )}}\\right\\rvert^{2} - \\omega + \\omega_{2} - \\epsilon{\\left (- k + k_{2} \\right )} - \\frac{i}{2} \\kappa{\\left (- k + k_{2} \\right )}\\end{matrix}\\right]$$"
       ],
       "metadata": {},
       "output_type": "pyout",
       "png": "[encoded data removed]",
       "prompt_number": 40,
       "text": [
        "\u23a1                  2                         \u2148\u22c5\u03ba(-k + k\u2081)                     \n",
        "\u23a2- 2\u22c5n\u22c5\u2502X(-k + k\u2081)\u2502  - \u03c9 + \u03c9\u2081 - \u03b5(-k + k\u2081) - \u2500\u2500\u2500\u2500\u2500\u2500\u2500\u2500\u2500\u2500\u2500\u2500              -2\u22c5\u03c8\u2082\u2080\u22c5\n",
        "\u23a2                                                 2                           \n",
        "\u23a2                                                                             \n",
        "\u23a2                              ___ __________                                2\n",
        "\u23a2            -2\u22c5\u03c8\u2081\u2080\u22c5X(-k + k\u2082)\u22c5\u03c8\u2082\u2080\u22c5X(-k + k\u2081)              - 2\u22c5n\u22c5\u2502X(-k + k\u2082)\u2502 \n",
        "\u23a3                                                                             \n",
        "\n",
        "           ___ __________            \u23a4\n",
        "X(-k + k\u2081)\u22c5\u03c8\u2081\u2080\u22c5X(-k + k\u2082)            \u23a5\n",
        "                                     \u23a5\n",
        "                                     \u23a5\n",
        "                         \u2148\u22c5\u03ba(-k + k\u2082)\u23a5\n",
        " - \u03c9 + \u03c9\u2082 - \u03b5(-k + k\u2082) - \u2500\u2500\u2500\u2500\u2500\u2500\u2500\u2500\u2500\u2500\u2500\u2500\u23a5\n",
        "                              2      \u23a6"
       ]
      }
     ],
     "prompt_number": 40
    },
    {
     "cell_type": "code",
     "collapsed": false,
     "input": [
      "L[0:2,2:4]"
     ],
     "language": "python",
     "metadata": {},
     "outputs": [
      {
       "latex": [
        "$$\\left[\\begin{matrix}\\psi_{10}^{2} \\overline{X{\\left (- k + k_{1} \\right )}} \\overline{X{\\left (k + k_{1} \\right )}} & 2 \\psi_{10} \\psi_{20} \\overline{X{\\left (- k + k_{2} \\right )}} \\overline{X{\\left (k + k_{1} \\right )}}\\\\2 \\psi_{10} \\psi_{20} \\overline{X{\\left (- k + k_{1} \\right )}} \\overline{X{\\left (k + k_{2} \\right )}} & \\psi_{20}^{2} \\overline{X{\\left (- k + k_{2} \\right )}} \\overline{X{\\left (k + k_{2} \\right )}}\\end{matrix}\\right]$$"
       ],
       "metadata": {},
       "output_type": "pyout",
       "png": "[encoded data removed]",
       "prompt_number": 41,
       "text": [
        "\u23a1     2 __________ _________               __________ _________\u23a4\n",
        "\u23a2  \u03c8\u2081\u2080 \u22c5X(-k + k\u2081)\u22c5X(k + k\u2081)     2\u22c5\u03c8\u2081\u2080\u22c5\u03c8\u2082\u2080\u22c5X(-k + k\u2082)\u22c5X(k + k\u2081)\u23a5\n",
        "\u23a2                                                              \u23a5\n",
        "\u23a2          __________ _________       2 __________ _________   \u23a5\n",
        "\u23a32\u22c5\u03c8\u2081\u2080\u22c5\u03c8\u2082\u2080\u22c5X(-k + k\u2081)\u22c5X(k + k\u2082)    \u03c8\u2082\u2080 \u22c5X(-k + k\u2082)\u22c5X(k + k\u2082)   \u23a6"
       ]
      }
     ],
     "prompt_number": 41
    },
    {
     "cell_type": "code",
     "collapsed": false,
     "input": [
      "L[2:4,0:2]"
     ],
     "language": "python",
     "metadata": {},
     "outputs": [
      {
       "latex": [
        "$$\\left[\\begin{matrix}- X{\\left (- k + k_{1} \\right )} X{\\left (k + k_{1} \\right )} \\overline{\\psi_{10}}^{2} & - 2 X{\\left (- k + k_{1} \\right )} X{\\left (k + k_{2} \\right )} \\overline{\\psi_{10}} \\overline{\\psi_{20}}\\\\- 2 X{\\left (- k + k_{2} \\right )} X{\\left (k + k_{1} \\right )} \\overline{\\psi_{10}} \\overline{\\psi_{20}} & - X{\\left (- k + k_{2} \\right )} X{\\left (k + k_{2} \\right )} \\overline{\\psi_{20}}^{2}\\end{matrix}\\right]$$"
       ],
       "metadata": {},
       "output_type": "pyout",
       "png": "[encoded data removed]",
       "prompt_number": 42,
       "text": [
        "\u23a1                           2                                    \u23a4\n",
        "\u23a2                        ___                              ___ ___\u23a5\n",
        "\u23a2  -X(-k + k\u2081)\u22c5X(k + k\u2081)\u22c5\u03c8\u2081\u2080      -2\u22c5X(-k + k\u2081)\u22c5X(k + k\u2082)\u22c5\u03c8\u2081\u2080\u22c5\u03c8\u2082\u2080\u23a5\n",
        "\u23a2                                                                \u23a5\n",
        "\u23a2                                                            2   \u23a5\n",
        "\u23a2                        ___ ___                          ___    \u23a5\n",
        "\u23a3-2\u22c5X(-k + k\u2082)\u22c5X(k + k\u2081)\u22c5\u03c8\u2081\u2080\u22c5\u03c8\u2082\u2080    -X(-k + k\u2082)\u22c5X(k + k\u2082)\u22c5\u03c8\u2082\u2080    \u23a6"
       ]
      }
     ],
     "prompt_number": 42
    },
    {
     "cell_type": "code",
     "collapsed": false,
     "input": [
      "Lp = (L.subs({k1:kp,k2:kp,omega1:omegap,omega2:omegap,\\\n",
      "             psi10:sqrt(np)*exp(I*phip), psi20:sqrt(np)*exp(I*phip),\\\n",
      "             n:2*np})).applyfunc(lambda elem: bottom_up(chain(rebuild, to_abs))(elem))"
     ],
     "language": "python",
     "metadata": {},
     "outputs": [],
     "prompt_number": 43
    },
    {
     "cell_type": "code",
     "collapsed": false,
     "input": [
      "A = Lp[0:2,0:2]; A"
     ],
     "language": "python",
     "metadata": {},
     "outputs": [
      {
       "latex": [
        "$$\\left[\\begin{matrix}4 n_{p} \\left\\lvert{X{\\left (k + k_{p} \\right )}}\\right\\rvert^{2} - \\omega - \\omega_{p} + \\epsilon{\\left (k + k_{p} \\right )} - \\frac{i}{2} \\kappa{\\left (k + k_{p} \\right )} & 2 n_{p} \\left\\lvert{X{\\left (k + k_{p} \\right )}}\\right\\rvert^{2}\\\\2 n_{p} \\left\\lvert{X{\\left (k + k_{p} \\right )}}\\right\\rvert^{2} & 4 n_{p} \\left\\lvert{X{\\left (k + k_{p} \\right )}}\\right\\rvert^{2} - \\omega - \\omega_{p} + \\epsilon{\\left (k + k_{p} \\right )} - \\frac{i}{2} \\kappa{\\left (k + k_{p} \\right )}\\end{matrix}\\right]$$"
       ],
       "metadata": {},
       "output_type": "pyout",
       "png": "[encoded data removed]",
       "prompt_number": 44,
       "text": [
        "\u23a1                  2                          \u2148\u22c5\u03ba(k + k_p)                    \n",
        "\u23a24\u22c5n_p\u22c5\u2502X(k + k_p)\u2502  - \u03c9 - \u03c9_p + \u03b5(k + k_p) - \u2500\u2500\u2500\u2500\u2500\u2500\u2500\u2500\u2500\u2500\u2500\u2500                    \n",
        "\u23a2                                                  2                          \n",
        "\u23a2                                                                             \n",
        "\u23a2                                     2                                       \n",
        "\u23a2                   2\u22c5n_p\u22c5\u2502X(k + k_p)\u2502                      4\u22c5n_p\u22c5\u2502X(k + k_p)\u2502\n",
        "\u23a3                                                                             \n",
        "\n",
        "                   2                   \u23a4\n",
        " 2\u22c5n_p\u22c5\u2502X(k + k_p)\u2502                    \u23a5\n",
        "                                       \u23a5\n",
        "                                       \u23a5\n",
        "2                          \u2148\u22c5\u03ba(k + k_p)\u23a5\n",
        "  - \u03c9 - \u03c9_p + \u03b5(k + k_p) - \u2500\u2500\u2500\u2500\u2500\u2500\u2500\u2500\u2500\u2500\u2500\u2500\u23a5\n",
        "                                2      \u23a6"
       ]
      }
     ],
     "prompt_number": 44
    },
    {
     "cell_type": "code",
     "collapsed": false,
     "input": [
      "D = Lp[2:4,2:4]; D"
     ],
     "language": "python",
     "metadata": {},
     "outputs": [
      {
       "latex": [
        "$$\\left[\\begin{matrix}- 4 n_{p} \\left\\lvert{X{\\left (- k + k_{p} \\right )}}\\right\\rvert^{2} - \\omega + \\omega_{p} - \\epsilon{\\left (- k + k_{p} \\right )} - \\frac{i}{2} \\kappa{\\left (- k + k_{p} \\right )} & - 2 n_{p} \\left\\lvert{X{\\left (- k + k_{p} \\right )}}\\right\\rvert^{2}\\\\- 2 n_{p} \\left\\lvert{X{\\left (- k + k_{p} \\right )}}\\right\\rvert^{2} & - 4 n_{p} \\left\\lvert{X{\\left (- k + k_{p} \\right )}}\\right\\rvert^{2} - \\omega + \\omega_{p} - \\epsilon{\\left (- k + k_{p} \\right )} - \\frac{i}{2} \\kappa{\\left (- k + k_{p} \\right )}\\end{matrix}\\right]$$"
       ],
       "metadata": {},
       "output_type": "pyout",
       "png": "[encoded data removed]",
       "prompt_number": 45,
       "text": [
        "\u23a1                     2                           \u2148\u22c5\u03ba(-k + k_p)               \n",
        "\u23a2- 4\u22c5n_p\u22c5\u2502X(-k + k_p)\u2502  - \u03c9 + \u03c9_p - \u03b5(-k + k_p) - \u2500\u2500\u2500\u2500\u2500\u2500\u2500\u2500\u2500\u2500\u2500\u2500\u2500               \n",
        "\u23a2                                                       2                     \n",
        "\u23a2                                                                             \n",
        "\u23a2                                        2                                    \n",
        "\u23a2                    -2\u22c5n_p\u22c5\u2502X(-k + k_p)\u2502                        - 4\u22c5n_p\u22c5\u2502X(-k\n",
        "\u23a3                                                                             \n",
        "\n",
        "                           2                     \u23a4\n",
        "       -2\u22c5n_p\u22c5\u2502X(-k + k_p)\u2502                      \u23a5\n",
        "                                                 \u23a5\n",
        "                                                 \u23a5\n",
        "        2                           \u2148\u22c5\u03ba(-k + k_p)\u23a5\n",
        " + k_p)\u2502  - \u03c9 + \u03c9_p - \u03b5(-k + k_p) - \u2500\u2500\u2500\u2500\u2500\u2500\u2500\u2500\u2500\u2500\u2500\u2500\u2500\u23a5\n",
        "                                          2      \u23a6"
       ]
      }
     ],
     "prompt_number": 45
    },
    {
     "cell_type": "code",
     "collapsed": false,
     "input": [
      "B = Lp[0:2,2:4]; B"
     ],
     "language": "python",
     "metadata": {},
     "outputs": [
      {
       "latex": [
        "$$\\left[\\begin{matrix}n_{p} e^{2 i \\phi_{p}} \\overline{X{\\left (- k + k_{p} \\right )}} \\overline{X{\\left (k + k_{p} \\right )}} & 2 n_{p} e^{2 i \\phi_{p}} \\overline{X{\\left (- k + k_{p} \\right )}} \\overline{X{\\left (k + k_{p} \\right )}}\\\\2 n_{p} e^{2 i \\phi_{p}} \\overline{X{\\left (- k + k_{p} \\right )}} \\overline{X{\\left (k + k_{p} \\right )}} & n_{p} e^{2 i \\phi_{p}} \\overline{X{\\left (- k + k_{p} \\right )}} \\overline{X{\\left (k + k_{p} \\right )}}\\end{matrix}\\right]$$"
       ],
       "metadata": {},
       "output_type": "pyout",
       "png": "[encoded data removed]",
       "prompt_number": 46,
       "text": [
        "\u23a1      2\u22c5\u2148\u22c5\u03c6_p ___________ __________          2\u22c5\u2148\u22c5\u03c6_p ___________ __________\u23a4\n",
        "\u23a2 n_p\u22c5\u212f       \u22c5X(-k + k_p)\u22c5X(k + k_p)   2\u22c5n_p\u22c5\u212f       \u22c5X(-k + k_p)\u22c5X(k + k_p)\u23a5\n",
        "\u23a2                                                                            \u23a5\n",
        "\u23a2       2\u22c5\u2148\u22c5\u03c6_p ___________ __________        2\u22c5\u2148\u22c5\u03c6_p ___________ __________ \u23a5\n",
        "\u23a32\u22c5n_p\u22c5\u212f       \u22c5X(-k + k_p)\u22c5X(k + k_p)   n_p\u22c5\u212f       \u22c5X(-k + k_p)\u22c5X(k + k_p) \u23a6"
       ]
      }
     ],
     "prompt_number": 46
    },
    {
     "cell_type": "code",
     "collapsed": false,
     "input": [
      "C = Lp[2:4,0:2]; C"
     ],
     "language": "python",
     "metadata": {},
     "outputs": [
      {
       "latex": [
        "$$\\left[\\begin{matrix}- n_{p} X{\\left (- k + k_{p} \\right )} X{\\left (k + k_{p} \\right )} e^{- 2 i \\phi_{p}} & - 2 n_{p} X{\\left (- k + k_{p} \\right )} X{\\left (k + k_{p} \\right )} e^{- 2 i \\phi_{p}}\\\\- 2 n_{p} X{\\left (- k + k_{p} \\right )} X{\\left (k + k_{p} \\right )} e^{- 2 i \\phi_{p}} & - n_{p} X{\\left (- k + k_{p} \\right )} X{\\left (k + k_{p} \\right )} e^{- 2 i \\phi_{p}}\\end{matrix}\\right]$$"
       ],
       "metadata": {},
       "output_type": "pyout",
       "png": "[encoded data removed]",
       "prompt_number": 47,
       "text": [
        "\u23a1                              -2\u22c5\u2148\u22c5\u03c6_p                                  -2\u22c5\u2148\u22c5\n",
        "\u23a2 -n_p\u22c5X(-k + k_p)\u22c5X(k + k_p)\u22c5\u212f           -2\u22c5n_p\u22c5X(-k + k_p)\u22c5X(k + k_p)\u22c5\u212f     \n",
        "\u23a2                                                                             \n",
        "\u23a2                               -2\u22c5\u2148\u22c5\u03c6_p                                -2\u22c5\u2148\u22c5\u03c6\n",
        "\u23a3-2\u22c5n_p\u22c5X(-k + k_p)\u22c5X(k + k_p)\u22c5\u212f           -n_p\u22c5X(-k + k_p)\u22c5X(k + k_p)\u22c5\u212f      \n",
        "\n",
        "\u03c6_p\u23a4\n",
        "   \u23a5\n",
        "   \u23a5\n",
        "_p \u23a5\n",
        "   \u23a6"
       ]
      }
     ],
     "prompt_number": 47
    },
    {
     "cell_type": "code",
     "collapsed": false,
     "input": [],
     "language": "python",
     "metadata": {},
     "outputs": [],
     "prompt_number": 47
    }
   ],
   "metadata": {}
  }
 ]
}