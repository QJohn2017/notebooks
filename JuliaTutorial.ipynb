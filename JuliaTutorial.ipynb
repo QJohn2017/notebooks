{
 "metadata": {
  "language": "Julia",
  "name": ""
 },
 "nbformat": 3,
 "nbformat_minor": 0,
 "worksheets": [
  {
   "cells": [
    {
     "cell_type": "markdown",
     "metadata": {},
     "source": [
      "Julia Tutorial\n",
      "==============\n",
      "\n",
      "Welcome to [Julia](http://www.julialang.org)!\n",
      "\n",
      "Julia is a new language focused on technical and numerical computing, and similar to systems such as Octave (or MATLAB), IDL, SciLab, and Python+NumPy+SciPy.\n",
      "\n",
      "Although Julia's current focus is technical computing, due to a well-considered design and an extensive mathematical library,  Julia has also been used to write such things as [web servers](https://github.com/hackerschool/HttpServer.jl), and [microframeworks](https://github.com/hackerschool/Morsel.jl), [raytracers](https://github.com/jakebolewski/rays) and a [Quake rendering engine](https://github.com/jayschwa/Quake2.jl).\n",
      "\n",
      "This tutorial is organized as follows:\n",
      "\n",
      "- Why Julia?\n",
      "- Community and contribution\n",
      "- Basics: introduction to the language\n",
      "- Numbers, Arithmetic, and Arrays\n",
      "- Types and Multiple Dispatch"
     ]
    },
    {
     "cell_type": "markdown",
     "metadata": {},
     "source": [
      "# Why Julia?\n",
      "\n",
      "Julia has been designed from the ground up for the needs of modern technical computing.\n",
      "\n",
      "* Julia's efficient front-end and LLVM-based JIT compiler provide [compelling performance](http://julialang.org/#High-Performance.JIT.Compiler) within 2x of C on a range of benchmarks.\n",
      "* Therefore, the transition from \"correct\" to \"fast\" can be accomplished within a *single language*, drastically simplifying the development experience.\n",
      "* Optional type annotations and multiple dispatch combine to form a powerful paradigm for both mathematical and general programming.\n",
      "* Scalable computing is included from the start, with powerful distributed array primitives and interfaces to a growing number of computation platforms.\n",
      "* Julia is fun: express powerful ideas in concise code with judicious use of anonymous functions, operator overloading, Unicode operators, duck-typing, excellent shell support, and much more!"
     ]
    },
    {
     "cell_type": "markdown",
     "metadata": {},
     "source": [
      "# Community and contribution\n",
      "\n",
      "As a young, open-source language and community, there are nearly unlimited opportunities for contribution. The community strives to be welcoming to new contributors in any capacity. Some suggested areas to pursue contribution:\n",
      "\n",
      "- **documentation**: as with any open-source project, good documentation is critical for continued growth (and as such, contributions are deeply appreciated!)\n",
      "\n",
      "- **packages**: there are a huge number of \"greenfield\" packages just waiting to be written (or implemented in pure Julia). Come build something new, just the way you've always wanted it!\n",
      "\n",
      "- **library**: Because Julia's library is written in the language itself, the barrier-to-entry for contributions to the core repository is much lower than other projects written in a mix of languages. [Pull requests](https://help.github.com/articles/using-pull-requests) are always welcome! [Here](https://github.com/julialang/julia/issues?labels=up+for+grabs%2Cfeature&page=1&state=open) is one list of potential areas to contribute.\n",
      "\n",
      "- **core**: the core of Julia is written in high-quality, terse, highly-readable C. Julia's code generation is written in C++ (with `extern C` entry points) in order to interface with the [LLVM](http://llvm.org/) JIT engine. There are many [optimizations](https://github.com/JuliaLang/julia/issues/3440) left to be written (for even better performance), and anyone with the skills and interest is welcome and encouraged to contribute.\n",
      "\n",
      "## Julia Activity Hubs\n",
      "\n",
      "- #### [The Julia Language project on GitHub](https://github.com/julialang/julia): source code, issue tracker\n",
      "\n",
      "- #### [julia-users mailing list](https://groups.google.com/forum/#!forum/julia-users) usage questions and general discussions\n",
      "- #### [julia-dev mailing list](https://groups.google.com/forum/#!forum/julia-dev) core language and standard library discussions (note: both mailing lists are open to public)\n",
      "\n",
      "- #### [Packages](http://docs.julialang.org/en/latest/packages/packagelist/) and the [package manager](http://docs.julialang.org/en/latest/manual/packages/), fostering collaborative ecosystem development."
     ]
    },
    {
     "cell_type": "markdown",
     "metadata": {},
     "source": [
      "# Basics"
     ]
    },
    {
     "cell_type": "markdown",
     "metadata": {},
     "source": [
      "## Hello, world!\n",
      "\n",
      "\n",
      "We start with the canonical introductory program:"
     ]
    },
    {
     "cell_type": "code",
     "collapsed": false,
     "input": [
      "println(\"Hello, world!\")"
     ],
     "language": "python",
     "metadata": {},
     "outputs": [
      {
       "output_type": "stream",
       "stream": "stdout",
       "text": [
        "Hello, world!\n"
       ]
      }
     ],
     "prompt_number": 1
    },
    {
     "cell_type": "markdown",
     "metadata": {},
     "source": [
      "Simple enough, right? Now, let's make a function:"
     ]
    },
    {
     "cell_type": "code",
     "collapsed": false,
     "input": [
      "function sayhello(name)\n",
      "    println(\"Hello, \", name)\n",
      "end"
     ],
     "language": "python",
     "metadata": {},
     "outputs": [
      {
       "metadata": {},
       "output_type": "pyout",
       "prompt_number": 1,
       "text": [
        "sayhello (generic function with 1 method)"
       ]
      }
     ],
     "prompt_number": 1
    },
    {
     "cell_type": "markdown",
     "metadata": {},
     "source": [
      "...and call it:"
     ]
    },
    {
     "cell_type": "code",
     "collapsed": false,
     "input": [
      "sayhello(\"friend!\")"
     ],
     "language": "python",
     "metadata": {},
     "outputs": [
      {
       "output_type": "stream",
       "stream": "stdout",
       "text": [
        "Hello, friend!"
       ]
      },
      {
       "output_type": "stream",
       "stream": "stdout",
       "text": [
        "\n"
       ]
      }
     ],
     "prompt_number": 2
    },
    {
     "cell_type": "markdown",
     "metadata": {},
     "source": [
      "The \"Hello, world\" example could be written on the command line as:\n",
      "\n",
      "```\n",
      "julia -e 'println(\"Hello, world\")\n",
      "```\n",
      "\n",
      "Or as a script, by placing the command in `hello.jl` and running:\n",
      "\n",
      "```\n",
      "> julia hello.jl\n",
      "```"
     ]
    },
    {
     "cell_type": "markdown",
     "metadata": {},
     "source": [
      "To write text without appending a newline, use `print()`:"
     ]
    },
    {
     "cell_type": "code",
     "collapsed": false,
     "input": [
      "print(1)\n",
      "print(\"   2\")"
     ],
     "language": "python",
     "metadata": {},
     "outputs": [
      {
       "output_type": "stream",
       "stream": "stdout",
       "text": [
        "1"
       ]
      },
      {
       "output_type": "stream",
       "stream": "stdout",
       "text": [
        "   2"
       ]
      }
     ],
     "prompt_number": 6
    },
    {
     "cell_type": "markdown",
     "metadata": {},
     "source": [
      "IJulia Notes\n",
      "------------\n",
      "\n",
      "This tutorial can be run in IJulia, and viewed statically using the IPython notebook viewer (IJulia is built on the remarkable [IPython](www.ipython.org) software)\n",
      "\n",
      "In IJulia, each **`In [#]`** line denotes an individual **cell** containing one or more lines of Julia code, which may be executed by pressing `Shift-Enter`. Program output or errors will be displayed immediately below the input cell, and the return value of the last command in the cell will be printed in **`Out[#]`** box.\n",
      "\n",
      "```\n",
      "In [1]: println(\"Hello, world!\")\n",
      "Hello, world!                         <-- standard output is captured and printed sans Out[] prefix.\n",
      "\n",
      "In [3]: \"Hello, friend!\"\n",
      "Out[3]: \"Hello, friend!\"              <-- expression values are printed in the Out[] cell\n",
      "```"
     ]
    },
    {
     "cell_type": "markdown",
     "metadata": {},
     "source": [
      "## Variables\n",
      "\n",
      "Variables allow storage and reuse of the results of earlier calculations. There are very few limits on variable names, and variable names may be written in Unicode, as will be demonstrated shortly.\n",
      "\n",
      "### Naming variables and Assigning them values\n",
      "Use a single equal `=` sign to assign variables."
     ]
    },
    {
     "cell_type": "code",
     "collapsed": false,
     "input": [
      "i = 2.0"
     ],
     "language": "python",
     "metadata": {},
     "outputs": [
      {
       "metadata": {},
       "output_type": "pyout",
       "prompt_number": 1,
       "text": [
        "2.0"
       ]
      }
     ],
     "prompt_number": 1
    },
    {
     "cell_type": "markdown",
     "metadata": {},
     "source": [
      "We can define complex variables using the special symbol **`im`** denoting the _imaginary unit_:"
     ]
    },
    {
     "cell_type": "code",
     "collapsed": false,
     "input": [
      "e = 1+1im"
     ],
     "language": "python",
     "metadata": {},
     "outputs": [
      {
       "metadata": {},
       "output_type": "pyout",
       "prompt_number": 2,
       "text": [
        "1 + 1im"
       ]
      }
     ],
     "prompt_number": 2
    },
    {
     "cell_type": "markdown",
     "metadata": {},
     "source": [
      "Julia contains a set of built-in constants, which may be used in computation or assigned to other variable names:"
     ]
    },
    {
     "cell_type": "code",
     "collapsed": false,
     "input": [
      "supercalifragilisticexpialidocious = pi\n",
      "\n",
      "supercalifragilisticexpialidocious/2"
     ],
     "language": "python",
     "metadata": {},
     "outputs": [
      {
       "metadata": {},
       "output_type": "pyout",
       "prompt_number": 3,
       "text": [
        "1.5707963267948966"
       ]
      }
     ],
     "prompt_number": 3
    },
    {
     "cell_type": "markdown",
     "metadata": {},
     "source": [
      "The cell above calculates `pi/2` using the special variable *supercalifragilisticexpialidocious* that we have set as equal `pi`, and prints the result to `Out [ ]`."
     ]
    },
    {
     "cell_type": "markdown",
     "metadata": {},
     "source": [
      "You can even use names of built-in variables and functions, if you so choose. (This is usually not a good idea since it is very easy to write confusing code; Julia will **warn** you against overwriting built-ins, but will not stop you in this case)"
     ]
    },
    {
     "cell_type": "markdown",
     "metadata": {},
     "source": [
      "You *cannot*, however, use the names of Julia keywords for your variable names."
     ]
    },
    {
     "cell_type": "code",
     "collapsed": false,
     "input": [
      "end=0.5im"
     ],
     "language": "python",
     "metadata": {},
     "outputs": [
      {
       "ename": "LoadError",
       "evalue": "syntax: unexpected end\nat In[13]:1",
       "output_type": "pyerr",
       "traceback": [
        "syntax: unexpected end\nat In[13]:1"
       ]
      }
     ],
     "prompt_number": 13
    },
    {
     "cell_type": "markdown",
     "metadata": {},
     "source": [
      "### Comparison\n",
      "\n",
      "Julia supports the standard set of comparison operators:\n",
      "\n",
      "```\n",
      "<  >  ==  <=  >=\n",
      "```"
     ]
    },
    {
     "cell_type": "code",
     "collapsed": false,
     "input": [
      "supercalifragilisticexpialidocious == pi"
     ],
     "language": "python",
     "metadata": {},
     "outputs": [
      {
       "metadata": {},
       "output_type": "pyout",
       "prompt_number": 10,
       "text": [
        "true"
       ]
      }
     ],
     "prompt_number": 10
    },
    {
     "cell_type": "code",
     "collapsed": false,
     "input": [
      "pi == 3.2    # Sorry, Indiana"
     ],
     "language": "python",
     "metadata": {},
     "outputs": [
      {
       "metadata": {},
       "output_type": "pyout",
       "prompt_number": 3,
       "text": [
        "false"
       ]
      }
     ],
     "prompt_number": 3
    },
    {
     "cell_type": "code",
     "collapsed": false,
     "input": [
      "pi < 3.2"
     ],
     "language": "python",
     "metadata": {},
     "outputs": [
      {
       "metadata": {},
       "output_type": "pyout",
       "prompt_number": 5,
       "text": [
        "true"
       ]
      }
     ],
     "prompt_number": 5
    },
    {
     "cell_type": "markdown",
     "metadata": {},
     "source": [
      "Inexact comparisons should use `isapprox`"
     ]
    },
    {
     "cell_type": "code",
     "collapsed": false,
     "input": [
      "isapprox(exp(im * pi) + 1, 0)"
     ],
     "language": "python",
     "metadata": {},
     "outputs": [
      {
       "metadata": {},
       "output_type": "pyout",
       "prompt_number": 16,
       "text": [
        "true"
       ]
      }
     ],
     "prompt_number": 16
    },
    {
     "cell_type": "markdown",
     "metadata": {},
     "source": [
      "## Characters and strings\n",
      "\n",
      "A single character is denoted with single-quote marks, and characters may be input by ASCII or Unicode value using the `char` function:"
     ]
    },
    {
     "cell_type": "code",
     "collapsed": false,
     "input": [
      "'a' == char(97) # ASCII 97 is 'a'"
     ],
     "language": "python",
     "metadata": {},
     "outputs": [
      {
       "metadata": {},
       "output_type": "pyout",
       "prompt_number": 17,
       "text": [
        "true"
       ]
      }
     ],
     "prompt_number": 17
    },
    {
     "cell_type": "markdown",
     "metadata": {},
     "source": [
      "### Strings and escaped characters\n",
      "\n",
      "Strings are denoted by double-quote signs, as in many other languages. Some characters may only be printed as **escape sequences**. An escape sequence starts with a backslash `\\` and ends with a single character that follows it.\n",
      "\n",
      "Here are two very common examples:"
     ]
    },
    {
     "cell_type": "code",
     "collapsed": false,
     "input": [
      "println(\"1\\n2\") #Newline"
     ],
     "language": "python",
     "metadata": {},
     "outputs": [
      {
       "output_type": "stream",
       "stream": "stdout",
       "text": [
        "1\n",
        "2\n"
       ]
      }
     ],
     "prompt_number": 20
    },
    {
     "cell_type": "code",
     "collapsed": false,
     "input": [
      "println(\"1\\t2\") #Tab"
     ],
     "language": "python",
     "metadata": {},
     "outputs": [
      {
       "output_type": "stream",
       "stream": "stdout",
       "text": [
        "1\t2\n"
       ]
      }
     ],
     "prompt_number": 21
    },
    {
     "cell_type": "markdown",
     "metadata": {},
     "source": [
      "To print the baskslash character itself, it must be escaped with another backslash."
     ]
    },
    {
     "cell_type": "code",
     "collapsed": false,
     "input": [
      "println(\"1\\\\2\") #backslash"
     ],
     "language": "python",
     "metadata": {},
     "outputs": [
      {
       "output_type": "stream",
       "stream": "stdout",
       "text": [
        "1\\2\n"
       ]
      }
     ],
     "prompt_number": 17
    },
    {
     "cell_type": "markdown",
     "metadata": {},
     "source": [
      "The dollar sign has special meaning in Julia and must be escaped to print correctly."
     ]
    },
    {
     "cell_type": "code",
     "collapsed": false,
     "input": [
      "println(\"\\$\")"
     ],
     "language": "python",
     "metadata": {},
     "outputs": [
      {
       "output_type": "stream",
       "stream": "stdout",
       "text": [
        "$\n"
       ]
      }
     ],
     "prompt_number": 18
    },
    {
     "cell_type": "markdown",
     "metadata": {},
     "source": [
      "What happens if we don't escape it?"
     ]
    },
    {
     "cell_type": "code",
     "collapsed": false,
     "input": [
      "println(\"$pi\")"
     ],
     "language": "python",
     "metadata": {},
     "outputs": [
      {
       "output_type": "stream",
       "stream": "stdout",
       "text": [
        "\u03c0 = 3.1415926535897...\n"
       ]
      }
     ],
     "prompt_number": 19
    },
    {
     "cell_type": "markdown",
     "metadata": {},
     "source": [
      "The dollar sign performs **string interpolation**, splicing the value of the variable name after the `$` into the output. Attempting to splice a non-existent variable results in an error:"
     ]
    },
    {
     "cell_type": "code",
     "collapsed": false,
     "input": [
      "println(\"$\u03b1\")"
     ],
     "language": "python",
     "metadata": {},
     "outputs": [
      {
       "ename": "LoadError",
       "evalue": "\u03b1 not defined\nat In[20]:1",
       "output_type": "pyerr",
       "traceback": [
        "\u03b1 not defined\nat In[20]:1"
       ]
      }
     ],
     "prompt_number": 20
    },
    {
     "cell_type": "markdown",
     "metadata": {},
     "source": [
      "### Unicode support (or: fancy characters)"
     ]
    },
    {
     "cell_type": "markdown",
     "metadata": {},
     "source": [
      "Julia supports Unicode for string contents *as well as* variable names. So variables:"
     ]
    },
    {
     "cell_type": "code",
     "collapsed": false,
     "input": [
      "\u03b1 =  7.29735257E-3"
     ],
     "language": "python",
     "metadata": {},
     "outputs": [
      {
       "metadata": {},
       "output_type": "pyout",
       "prompt_number": 21,
       "text": [
        "0.00729735257"
       ]
      }
     ],
     "prompt_number": 21
    },
    {
     "cell_type": "markdown",
     "metadata": {},
     "source": [
      "and formulae:"
     ]
    },
    {
     "cell_type": "code",
     "collapsed": false,
     "input": [
      "z = 3+4im\n",
      "\u03be = 1/z"
     ],
     "language": "python",
     "metadata": {},
     "outputs": [
      {
       "metadata": {},
       "output_type": "pyout",
       "prompt_number": 22,
       "text": [
        "0.09090909090909091"
       ]
      }
     ],
     "prompt_number": 22
    },
    {
     "cell_type": "markdown",
     "metadata": {},
     "source": [
      "May be written with any appropriate character.\n",
      "\n",
      "Or even using non-Latin alphabets!"
     ]
    },
    {
     "cell_type": "code",
     "collapsed": false,
     "input": [
      "\u30a2\u30eb\u30b3\u30fc\u30eb = 0.1337\n",
      "\u30a2\u30eb\u30b3\u30fc\u30eb^2"
     ],
     "language": "python",
     "metadata": {},
     "outputs": [
      {
       "metadata": {},
       "output_type": "pyout",
       "prompt_number": 23,
       "text": [
        "0.017875690000000003"
       ]
      }
     ],
     "prompt_number": 23
    },
    {
     "cell_type": "markdown",
     "metadata": {},
     "source": [
      "On some operating systems and browsers, you may even be able to print pizza!:"
     ]
    },
    {
     "cell_type": "code",
     "collapsed": false,
     "input": [
      "print(char(0x1f355))\n",
      "print(\" = \")\n",
      "print('\\U263A') "
     ],
     "language": "python",
     "metadata": {},
     "outputs": [
      {
       "output_type": "stream",
       "stream": "stdout",
       "text": [
        "\ud83c\udf55 = "
       ]
      },
      {
       "output_type": "stream",
       "stream": "stdout",
       "text": [
        "\u263a"
       ]
      }
     ],
     "prompt_number": 1
    },
    {
     "cell_type": "markdown",
     "metadata": {},
     "source": [
      "### Regular expressions\n",
      "\n",
      "Julia includes a Perl-compatible regular expression support. A regular expression is declared using the special syntax: `r` prefixed immediately before the regex string:"
     ]
    },
    {
     "cell_type": "code",
     "collapsed": false,
     "input": [
      "re = r\".*(brown fox).*(lazy dog)\""
     ],
     "language": "python",
     "metadata": {},
     "outputs": [
      {
       "metadata": {},
       "output_type": "pyout",
       "prompt_number": 25,
       "text": [
        "r\".*(brown fox).*(lazy dog)\""
       ]
      }
     ],
     "prompt_number": 25
    },
    {
     "cell_type": "code",
     "collapsed": false,
     "input": [
      "m = match(re, \"The quick brown fox jumped over the lazy dog.\")"
     ],
     "language": "python",
     "metadata": {},
     "outputs": [
      {
       "metadata": {},
       "output_type": "pyout",
       "prompt_number": 26,
       "text": [
        "RegexMatch(\"The quick brown fox jumped over the lazy dog\", 1=\"brown fox\", 2=\"lazy dog\")"
       ]
      }
     ],
     "prompt_number": 26
    },
    {
     "cell_type": "code",
     "collapsed": false,
     "input": [
      "m.captures[1]"
     ],
     "language": "python",
     "metadata": {},
     "outputs": [
      {
       "metadata": {},
       "output_type": "pyout",
       "prompt_number": 27,
       "text": [
        "\"brown fox\""
       ]
      }
     ],
     "prompt_number": 27
    },
    {
     "cell_type": "code",
     "collapsed": false,
     "input": [
      "m.captures[2]"
     ],
     "language": "python",
     "metadata": {},
     "outputs": [
      {
       "metadata": {},
       "output_type": "pyout",
       "prompt_number": 28,
       "text": [
        "\"lazy dog\""
       ]
      }
     ],
     "prompt_number": 28
    },
    {
     "cell_type": "markdown",
     "metadata": {},
     "source": [
      "## Control Flow\n",
      "\n",
      "### if/else\n",
      "\n",
      "Parentheses are optional:"
     ]
    },
    {
     "cell_type": "code",
     "collapsed": false,
     "input": [
      "if false\n",
      "    println(\"Twilight zone...\")\n",
      "    \n",
      "elseif ( 1 == 2 )\n",
      "    println(\"We can actually do math, right?\")\n",
      "    \n",
      "else\n",
      "  println(\"All is well. Both conditions are false.\")\n",
      "end"
     ],
     "language": "python",
     "metadata": {},
     "outputs": [
      {
       "output_type": "stream",
       "stream": "stdout",
       "text": [
        "All is well. Both conditions are false."
       ]
      },
      {
       "output_type": "stream",
       "stream": "stdout",
       "text": [
        "\n"
       ]
      }
     ],
     "prompt_number": 29
    },
    {
     "cell_type": "markdown",
     "metadata": {},
     "source": [
      "### for loops"
     ]
    },
    {
     "cell_type": "code",
     "collapsed": false,
     "input": [
      "for i in 1:10\n",
      "    print(i, \" \")\n",
      "end"
     ],
     "language": "python",
     "metadata": {},
     "outputs": [
      {
       "output_type": "stream",
       "stream": "stdout",
       "text": [
        "1 2 3 4 5 6 7 8 9 10 "
       ]
      }
     ],
     "prompt_number": 30
    },
    {
     "cell_type": "markdown",
     "metadata": {},
     "source": [
      "Breaking it down:\n",
      "\n",
      "- the expression **`i in 1:10`** returns **an iterator** over the range 1 to 10\n",
      "- for loop executes the enclosing codeblock for all values of *i*\n",
      "- instead of `println`, we use simply `print`, which does not add a newline after each output\n",
      "\n",
      "We can also skip elements using the `continue` keyword:"
     ]
    },
    {
     "cell_type": "code",
     "collapsed": false,
     "input": [
      "for i in 1:10\n",
      "    (i > 5 && i < 9) && continue\n",
      "    \n",
      "    print(i, \" \")\n",
      "end"
     ],
     "language": "python",
     "metadata": {},
     "outputs": [
      {
       "output_type": "stream",
       "stream": "stdout",
       "text": [
        "1 2 3 4 5 9 10 "
       ]
      }
     ],
     "prompt_number": 31
    },
    {
     "cell_type": "markdown",
     "metadata": {},
     "source": [
      "[Julia also supports `while` loops, expression blocks, `try-catch` statements for error handling, short-circuited evaluation, and coroutines.](http://docs.julialang.org/en/latest/manual/control-flow/)"
     ]
    },
    {
     "cell_type": "markdown",
     "metadata": {},
     "source": [
      "### *Exercise*\n",
      "\n",
      "Write the for loop above as a while loop instead."
     ]
    },
    {
     "cell_type": "code",
     "collapsed": false,
     "input": [],
     "language": "python",
     "metadata": {},
     "outputs": []
    },
    {
     "cell_type": "markdown",
     "metadata": {},
     "source": [
      "## Input and output\n",
      "\n",
      "So how do we get data out of and into Julia? Here is the simplest possible example:"
     ]
    },
    {
     "cell_type": "code",
     "collapsed": false,
     "input": [
      "# opening a file:\n",
      "\n",
      "vecfile = open(\"/tmp/myvector.txt\", \"w\")"
     ],
     "language": "python",
     "metadata": {},
     "outputs": [
      {
       "metadata": {},
       "output_type": "pyout",
       "prompt_number": 119,
       "text": [
        "IOStream(<file /tmp/myvector.txt>)"
       ]
      }
     ],
     "prompt_number": 119
    },
    {
     "cell_type": "markdown",
     "metadata": {},
     "source": [
      "Notice that the `open` function returns a variable with the type *IOStream*. This is important, because the behavior of other functions will be influenced by the type of this variable.\n",
      "\n",
      "### *Exercise*\n",
      "\n",
      "Write a function that prints the comma-separated numbers from 1 to 5, in increments of .5, to the file handle `vecfile` defined above.\n",
      "\n",
      "- HINT 1: the `print` function is overloaded, and will accept an *IOStream* as the **first** argument.\n",
      "- HINT 2: the range syntax accepts a middle argument specifying step-size: *start*:*step*:*end*\n",
      "- Bonus: don't print the final comma."
     ]
    },
    {
     "cell_type": "code",
     "collapsed": false,
     "input": [
      "function writenumbers(fhandle)\n",
      "  # implementation goes here\n",
      "end"
     ],
     "language": "python",
     "metadata": {},
     "outputs": [
      {
       "metadata": {},
       "output_type": "pyout",
       "prompt_number": 23,
       "text": [
        "writenumbers (generic function with 1 method)"
       ]
      }
     ],
     "prompt_number": 23
    },
    {
     "cell_type": "code",
     "collapsed": false,
     "input": [
      "writenumbers(vecfile)"
     ],
     "language": "python",
     "metadata": {},
     "outputs": [],
     "prompt_number": 121
    },
    {
     "cell_type": "markdown",
     "metadata": {},
     "source": [
      "Be sure to clean up the file handle:"
     ]
    },
    {
     "cell_type": "code",
     "collapsed": false,
     "input": [
      "close(vecfile)"
     ],
     "language": "python",
     "metadata": {},
     "outputs": [],
     "prompt_number": 122
    },
    {
     "cell_type": "markdown",
     "metadata": {},
     "source": [
      "### Reading it back\n",
      "\n",
      "Now that we have a file, let's read the data back in:"
     ]
    },
    {
     "cell_type": "code",
     "collapsed": false,
     "input": [
      "f_in = open(\"/tmp/myvector.txt\", \"r\")\n",
      "myvec1 = split( readall(f_in), \",\" )"
     ],
     "language": "python",
     "metadata": {},
     "outputs": [
      {
       "metadata": {},
       "output_type": "pyout",
       "prompt_number": 26,
       "text": [
        "10-element Array{String,1}:\n",
        " \"1.0\"\n",
        " \"1.5\"\n",
        " \"2.0\"\n",
        " \"2.5\"\n",
        " \"3.0\"\n",
        " \"3.5\"\n",
        " \"4.0\"\n",
        " \"4.5\"\n",
        " \"5.0\"\n",
        " \"\"   "
       ]
      }
     ],
     "prompt_number": 26
    },
    {
     "cell_type": "markdown",
     "metadata": {},
     "source": [
      "Since this is a CSV file, we could also use the built-in `readcsv` function:"
     ]
    },
    {
     "cell_type": "code",
     "collapsed": false,
     "input": [
      "seekstart(f_in)\n",
      "myvec1 = readcsv( f_in )"
     ],
     "language": "python",
     "metadata": {},
     "outputs": [
      {
       "metadata": {},
       "output_type": "pyout",
       "prompt_number": 27,
       "text": [
        "1x9 Array{Float64,2}:\n",
        " 1.0  1.5  2.0  2.5  3.0  3.5  4.0  4.5  5.0"
       ]
      }
     ],
     "prompt_number": 27
    },
    {
     "cell_type": "markdown",
     "metadata": {},
     "source": [
      "We have used the built-in function `seekstart` to go back to the beginning of the file, so that we don't have to open it again."
     ]
    },
    {
     "cell_type": "markdown",
     "metadata": {},
     "source": [
      "## Data structures\n",
      "\n",
      "Julia includes a number of useful data structures; here are two important examples:"
     ]
    },
    {
     "cell_type": "markdown",
     "metadata": {},
     "source": [
      "### Lists\n",
      "\n",
      "Here we define a list containing a strange, heterogenous grab bag of stuff:"
     ]
    },
    {
     "cell_type": "code",
     "collapsed": false,
     "input": [
      "allmixedup = { 1, pi, \"foo\", myvec1, \"biggles\", sayhello }"
     ],
     "language": "python",
     "metadata": {},
     "outputs": [
      {
       "metadata": {},
       "output_type": "pyout",
       "prompt_number": 28,
       "text": [
        "6-element Array{Any,1}:\n",
        "     1                                                                  \n",
        " \u03c0 = 3.1415926535897...                                                 \n",
        "      \"foo\"                                                             \n",
        "      1x9 Array{Float64,2}:\n",
        " 1.0  1.5  2.0  2.5  3.0  3.5  4.0  4.5  5.0\n",
        "      \"biggles\"                                                         \n",
        "      sayhello                                                          "
       ]
      }
     ],
     "prompt_number": 28
    },
    {
     "cell_type": "markdown",
     "metadata": {},
     "source": [
      "Square brackets, `[ ]`, are used to retrieve the contents at a specific index.\n",
      "\n",
      "**Note: Julia uses 1-based indexing just like Fortran. Everything will be ok.**"
     ]
    },
    {
     "cell_type": "code",
     "collapsed": false,
     "input": [
      "allmixedup[1]"
     ],
     "language": "python",
     "metadata": {},
     "outputs": [
      {
       "metadata": {},
       "output_type": "pyout",
       "prompt_number": 30,
       "text": [
        "1"
       ]
      }
     ],
     "prompt_number": 30
    },
    {
     "cell_type": "code",
     "collapsed": false,
     "input": [
      "allmixedup[5]"
     ],
     "language": "python",
     "metadata": {},
     "outputs": [
      {
       "metadata": {},
       "output_type": "pyout",
       "prompt_number": 31,
       "text": [
        "\"biggles\""
       ]
      }
     ],
     "prompt_number": 31
    },
    {
     "cell_type": "code",
     "collapsed": false,
     "input": [
      "allmixedup[6]"
     ],
     "language": "python",
     "metadata": {},
     "outputs": [
      {
       "metadata": {},
       "output_type": "pyout",
       "prompt_number": 38,
       "text": [
        "sayhello (generic function with 1 method)"
       ]
      }
     ],
     "prompt_number": 38
    },
    {
     "cell_type": "markdown",
     "metadata": {},
     "source": [
      "As demonstrated above, can store a reference to a function like any other object!\n",
      "\n",
      "List elements can be set by assigning to an index:"
     ]
    },
    {
     "cell_type": "code",
     "collapsed": false,
     "input": [
      "push!(allmixedup, \"another random string\")"
     ],
     "language": "python",
     "metadata": {},
     "outputs": [
      {
       "metadata": {},
       "output_type": "pyout",
       "prompt_number": 126,
       "text": [
        "7-element Array{Any,1}:\n",
        "     1                       \n",
        " \u03c0 = 3.1415926535897...      \n",
        "      \"foo\"                  \n",
        "      [\"\"]                   \n",
        "      \"biggles\"              \n",
        "      sayhello               \n",
        "      \"another random string\""
       ]
      }
     ],
     "prompt_number": 126
    },
    {
     "cell_type": "markdown",
     "metadata": {},
     "source": [
      "#### *Exercise*\n",
      "call the `sayhello` function by using the reference stored in *allmixedup*."
     ]
    },
    {
     "cell_type": "code",
     "collapsed": false,
     "input": [],
     "language": "python",
     "metadata": {},
     "outputs": [],
     "prompt_number": 32
    },
    {
     "cell_type": "markdown",
     "metadata": {},
     "source": [
      "### Dictionaries (aka: maps or associative arrays)\n",
      "\n",
      "Julia provides an efficient *associative array* implementation and, like Python, there is a compact comprehension syntax to define a mapping set: "
     ]
    },
    {
     "cell_type": "code",
     "collapsed": false,
     "input": [
      "mymap = { 1 => \"one\", \"two\" => 2, \"sayhello\" => sayhello, sayhello => \"function called `sayhello`\"}"
     ],
     "language": "python",
     "metadata": {},
     "outputs": [
      {
       "metadata": {},
       "output_type": "pyout",
       "prompt_number": 41,
       "text": [
        "{\"sayhello\"=>sayhello,sayhello=>\"function called `sayhello`\",1=>\"one\",\"two\"=>2}"
       ]
      }
     ],
     "prompt_number": 41
    },
    {
     "cell_type": "markdown",
     "metadata": {},
     "source": [
      "(`mymap` above accepts any type of object, but as will be seen, dictionary key and value types may be restricted)"
     ]
    },
    {
     "cell_type": "markdown",
     "metadata": {},
     "source": [
      "Key-value pairs may also be assigned individually:"
     ]
    },
    {
     "cell_type": "code",
     "collapsed": false,
     "input": [
      "mymap[7.3] = \"seven point 3\""
     ],
     "language": "python",
     "metadata": {},
     "outputs": [
      {
       "metadata": {},
       "output_type": "pyout",
       "prompt_number": 42,
       "text": [
        "\"seven point 3\""
       ]
      }
     ],
     "prompt_number": 42
    },
    {
     "cell_type": "markdown",
     "metadata": {},
     "source": [
      "Map indexing is similar to lists:"
     ]
    },
    {
     "cell_type": "code",
     "collapsed": false,
     "input": [
      "mymap[1]"
     ],
     "language": "python",
     "metadata": {},
     "outputs": [
      {
       "metadata": {},
       "output_type": "pyout",
       "prompt_number": 43,
       "text": [
        "\"one\""
       ]
      }
     ],
     "prompt_number": 43
    },
    {
     "cell_type": "code",
     "collapsed": false,
     "input": [
      "mymap[\"two\"]"
     ],
     "language": "python",
     "metadata": {},
     "outputs": [
      {
       "metadata": {},
       "output_type": "pyout",
       "prompt_number": 44,
       "text": [
        "2"
       ]
      }
     ],
     "prompt_number": 44
    },
    {
     "cell_type": "code",
     "collapsed": false,
     "input": [
      "mymap[\"sayhello\"]"
     ],
     "language": "python",
     "metadata": {},
     "outputs": [
      {
       "metadata": {},
       "output_type": "pyout",
       "prompt_number": 45,
       "text": [
        "sayhello (generic function with 1 method)"
       ]
      }
     ],
     "prompt_number": 45
    },
    {
     "cell_type": "code",
     "collapsed": false,
     "input": [
      "mymap[sayhello]"
     ],
     "language": "python",
     "metadata": {},
     "outputs": [
      {
       "metadata": {},
       "output_type": "pyout",
       "prompt_number": 46,
       "text": [
        "\"function called `sayhello`\""
       ]
      }
     ],
     "prompt_number": 46
    },
    {
     "cell_type": "code",
     "collapsed": false,
     "input": [
      "mymap[7.3]"
     ],
     "language": "python",
     "metadata": {},
     "outputs": [
      {
       "metadata": {},
       "output_type": "pyout",
       "prompt_number": 47,
       "text": [
        "\"seven point 3\""
       ]
      }
     ],
     "prompt_number": 47
    },
    {
     "cell_type": "markdown",
     "metadata": {},
     "source": [
      "# Numbers, Arithmetic, and Arrays"
     ]
    },
    {
     "cell_type": "markdown",
     "metadata": {},
     "source": [
      "## Numbers"
     ]
    },
    {
     "cell_type": "markdown",
     "metadata": {},
     "source": [
      "Numbers are the soul of Julia, so it is fitting that **all numeric types are defined in the language itself**. For example, the 64-bit integer is declared as follows (in *src/base/base.jl*, for the curious):"
     ]
    },
    {
     "cell_type": "code",
     "collapsed": false,
     "input": [
      "bitstype 64  Int64   <: Signed"
     ],
     "language": "python",
     "metadata": {},
     "outputs": [],
     "prompt_number": 48
    },
    {
     "cell_type": "markdown",
     "metadata": {},
     "source": [
      "This means that **you can define your own data types in pure Julia, and expect the same performance profile as \"core\" types!**\n",
      "\n",
      "*One goal of Julia is to be fast enough that moving to another language for performance should never be necessary.*"
     ]
    },
    {
     "cell_type": "markdown",
     "metadata": {},
     "source": [
      "### Binary Representations"
     ]
    },
    {
     "cell_type": "markdown",
     "metadata": {},
     "source": [
      "We can write numeric literals in binary representation:"
     ]
    },
    {
     "cell_type": "code",
     "collapsed": false,
     "input": [
      "0b10 == 2    # There are 10 kinds of programmers..."
     ],
     "language": "python",
     "metadata": {},
     "outputs": [
      {
       "metadata": {},
       "output_type": "pyout",
       "prompt_number": 49,
       "text": [
        "true"
       ]
      }
     ],
     "prompt_number": 49
    },
    {
     "cell_type": "markdown",
     "metadata": {},
     "source": [
      "Julia is also quite willing to expose the *when you want to see them*. Binary representations are one example, and can be easily inspected:"
     ]
    },
    {
     "cell_type": "code",
     "collapsed": false,
     "input": [
      "[ 0  bits(0);  1  bits(1);  2  bits(2);  3  bits(3);  7  bits(7);  8  bits(8);\n",
      "  16 bits(16); 17 bits(17); 32 bits(32); 33 bits(33); 35 bits(35); 64 bits(64);]"
     ],
     "language": "python",
     "metadata": {},
     "outputs": [
      {
       "metadata": {},
       "output_type": "pyout",
       "prompt_number": 50,
       "text": [
        "12x2 Array{Any,2}:\n",
        "  0  \"0000000000000000000000000000000000000000000000000000000000000000\"\n",
        "  1  \"0000000000000000000000000000000000000000000000000000000000000001\"\n",
        "  2  \"0000000000000000000000000000000000000000000000000000000000000010\"\n",
        "  3  \"0000000000000000000000000000000000000000000000000000000000000011\"\n",
        "  7  \"0000000000000000000000000000000000000000000000000000000000000111\"\n",
        "  8  \"0000000000000000000000000000000000000000000000000000000000001000\"\n",
        " 16  \"0000000000000000000000000000000000000000000000000000000000010000\"\n",
        " 17  \"0000000000000000000000000000000000000000000000000000000000010001\"\n",
        " 32  \"0000000000000000000000000000000000000000000000000000000000100000\"\n",
        " 33  \"0000000000000000000000000000000000000000000000000000000000100001\"\n",
        " 35  \"0000000000000000000000000000000000000000000000000000000000100011\"\n",
        " 64  \"0000000000000000000000000000000000000000000000000000000001000000\""
       ]
      }
     ],
     "prompt_number": 50
    },
    {
     "cell_type": "markdown",
     "metadata": {},
     "source": [
      "### Integers"
     ]
    },
    {
     "cell_type": "markdown",
     "metadata": {},
     "source": [
      "Literal values without a decimal point are interpreted as integers:"
     ]
    },
    {
     "cell_type": "code",
     "collapsed": false,
     "input": [
      "x = 1"
     ],
     "language": "python",
     "metadata": {},
     "outputs": [
      {
       "metadata": {},
       "output_type": "pyout",
       "prompt_number": 51,
       "text": [
        "1"
       ]
      }
     ],
     "prompt_number": 51
    },
    {
     "cell_type": "code",
     "collapsed": false,
     "input": [
      "typeof(x)"
     ],
     "language": "python",
     "metadata": {},
     "outputs": [
      {
       "metadata": {},
       "output_type": "pyout",
       "prompt_number": 52,
       "text": [
        "Int64"
       ]
      }
     ],
     "prompt_number": 52
    },
    {
     "cell_type": "markdown",
     "metadata": {},
     "source": [
      "Julia has both signed and unsigned Integer types for **8, 16, 32, 64, and 128**-bits.\n",
      "\n",
      "Each Integer type can hold a specific and finite range of values:"
     ]
    },
    {
     "cell_type": "code",
     "collapsed": false,
     "input": [
      "[ typemin(Uint8) typemax(Uint8) ;\n",
      "  typemin(Int8)  typemax(Int8)  ;\n",
      "  typemin(Int64) typemax(Int64) ; ]"
     ],
     "language": "python",
     "metadata": {},
     "outputs": [
      {
       "metadata": {},
       "output_type": "pyout",
       "prompt_number": 33,
       "text": [
        "3x2 Array{Int64,2}:\n",
        "                    0                  255\n",
        "                 -128                  127\n",
        " -9223372036854775808  9223372036854775807"
       ]
      }
     ],
     "prompt_number": 33
    },
    {
     "cell_type": "markdown",
     "metadata": {},
     "source": [
      "### Floating point"
     ]
    },
    {
     "cell_type": "markdown",
     "metadata": {},
     "source": [
      "Literals entered with a decimal point are intepreted as floating-point numbers:"
     ]
    },
    {
     "cell_type": "code",
     "collapsed": false,
     "input": [
      "y = 2.0"
     ],
     "language": "python",
     "metadata": {},
     "outputs": [
      {
       "metadata": {},
       "output_type": "pyout",
       "prompt_number": 54,
       "text": [
        "2.0"
       ]
      }
     ],
     "prompt_number": 54
    },
    {
     "cell_type": "code",
     "collapsed": false,
     "input": [
      "[ 2.  typeof(2.);\n",
      "  .5  typeof(.5); ]"
     ],
     "language": "python",
     "metadata": {},
     "outputs": [
      {
       "metadata": {},
       "output_type": "pyout",
       "prompt_number": 55,
       "text": [
        "2x2 Array{Any,2}:\n",
        " 2.0  Float64\n",
        " 0.5  Float64"
       ]
      }
     ],
     "prompt_number": 55
    },
    {
     "cell_type": "markdown",
     "metadata": {},
     "source": [
      "Note that `0 == -0`, but they do not have the same binary representation:"
     ]
    },
    {
     "cell_type": "code",
     "collapsed": false,
     "input": [
      "0 == -0"
     ],
     "language": "python",
     "metadata": {},
     "outputs": [
      {
       "metadata": {},
       "output_type": "pyout",
       "prompt_number": 56,
       "text": [
        "true"
       ]
      }
     ],
     "prompt_number": 56
    },
    {
     "cell_type": "code",
     "collapsed": false,
     "input": [
      "[ \" 0\" bits(0.0)  ;\n",
      "  \"-0\" bits(-0.0) ; ]"
     ],
     "language": "python",
     "metadata": {},
     "outputs": [
      {
       "metadata": {},
       "output_type": "pyout",
       "prompt_number": 57,
       "text": [
        "2x2 Array{ASCIIString,2}:\n",
        " \" 0\"  \"0000000000000000000000000000000000000000000000000000000000000000\"\n",
        " \"-0\"  \"1000000000000000000000000000000000000000000000000000000000000000\""
       ]
      }
     ],
     "prompt_number": 57
    },
    {
     "cell_type": "markdown",
     "metadata": {},
     "source": [
      "Julia does arithmetic using machine numbers which can represent only finite ranges and with finite precision (as compared to the idealized $\\mathbb{R}$eal numbers). The `eps` function returns the smallest difference that can be represented by a given type:"
     ]
    },
    {
     "cell_type": "code",
     "collapsed": false,
     "input": [
      "\n",
      "[  1.0                    bits(1.0)\n",
      "   repr(1.0 + eps(1.0))   bits(1.0 + eps(Float64)) ]"
     ],
     "language": "python",
     "metadata": {},
     "outputs": [
      {
       "metadata": {},
       "output_type": "pyout",
       "prompt_number": 34,
       "text": [
        "2x2 Array{Any,2}:\n",
        " 1.0                    \u2026  \"0011111111110000000000000000000000000000000000000000000000000000\"\n",
        "  \"1.0000000000000002\"     \"0011111111110000000000000000000000000000000000000000000000000001\""
       ]
      }
     ],
     "prompt_number": 34
    },
    {
     "cell_type": "markdown",
     "metadata": {},
     "source": [
      "### Wrap around\n",
      "\n",
      "Exceeding the maximum representable type (`typemax`) for a given type results in wrap-around:"
     ]
    },
    {
     "cell_type": "code",
     "collapsed": false,
     "input": [
      "typemax(Int64)"
     ],
     "language": "python",
     "metadata": {},
     "outputs": [
      {
       "metadata": {},
       "output_type": "pyout",
       "prompt_number": 40,
       "text": [
        "9223372036854775807"
       ]
      }
     ],
     "prompt_number": 40
    },
    {
     "cell_type": "code",
     "collapsed": false,
     "input": [
      "typemax(Int64) + 1"
     ],
     "language": "python",
     "metadata": {},
     "outputs": [
      {
       "metadata": {},
       "output_type": "pyout",
       "prompt_number": 41,
       "text": [
        "-9223372036854775808"
       ]
      }
     ],
     "prompt_number": 41
    },
    {
     "cell_type": "markdown",
     "metadata": {},
     "source": [
      "For more information on numerical representations and accurate computation with machine math, please see the excellent [discussion in the Julia manual](http://docs.julialang.org/en/latest/manual/integers-and-floating-point-numbers/) (and links therein)."
     ]
    },
    {
     "cell_type": "markdown",
     "metadata": {},
     "source": [
      "### Complex numbers\n",
      "\n",
      "As seen earlie, the imaginary unit is called `im` in Julia."
     ]
    },
    {
     "cell_type": "code",
     "collapsed": false,
     "input": [
      "z=3+4im"
     ],
     "language": "python",
     "metadata": {},
     "outputs": [
      {
       "metadata": {},
       "output_type": "pyout",
       "prompt_number": 4,
       "text": [
        "3 + 4im"
       ]
      }
     ],
     "prompt_number": 4
    },
    {
     "cell_type": "markdown",
     "metadata": {},
     "source": [
      "After defining a complex variable, addition and multiplication \"just work\":"
     ]
    },
    {
     "cell_type": "code",
     "collapsed": false,
     "input": [
      "z+z"
     ],
     "language": "python",
     "metadata": {},
     "outputs": [
      {
       "metadata": {},
       "output_type": "pyout",
       "prompt_number": 5,
       "text": [
        "6 + 8im"
       ]
      }
     ],
     "prompt_number": 5
    },
    {
     "cell_type": "code",
     "collapsed": false,
     "input": [
      "z*z'    # z' denotes the conjugate of z (complex, of course)"
     ],
     "language": "python",
     "metadata": {},
     "outputs": [
      {
       "metadata": {},
       "output_type": "pyout",
       "prompt_number": 6,
       "text": [
        "25 + 0im"
       ]
      }
     ],
     "prompt_number": 6
    },
    {
     "cell_type": "markdown",
     "metadata": {},
     "source": [
      "## Arithmetic"
     ]
    },
    {
     "cell_type": "markdown",
     "metadata": {},
     "source": [
      "### Operators and conversions"
     ]
    },
    {
     "cell_type": "markdown",
     "metadata": {},
     "source": [
      "Operations on heterogenous types result in promotion to the most representative common type:"
     ]
    },
    {
     "cell_type": "code",
     "collapsed": false,
     "input": [
      "x + y"
     ],
     "language": "python",
     "metadata": {},
     "outputs": [
      {
       "metadata": {},
       "output_type": "pyout",
       "prompt_number": 64,
       "text": [
        "3.0"
       ]
      }
     ],
     "prompt_number": 64
    },
    {
     "cell_type": "code",
     "collapsed": false,
     "input": [
      "typeof(x + y)"
     ],
     "language": "python",
     "metadata": {},
     "outputs": [
      {
       "metadata": {},
       "output_type": "pyout",
       "prompt_number": 65,
       "text": [
        "Float64"
       ]
      }
     ],
     "prompt_number": 65
    },
    {
     "cell_type": "code",
     "collapsed": false,
     "input": [
      "0x1 + 2"
     ],
     "language": "python",
     "metadata": {},
     "outputs": [
      {
       "metadata": {},
       "output_type": "pyout",
       "prompt_number": 66,
       "text": [
        "3"
       ]
      }
     ],
     "prompt_number": 66
    },
    {
     "cell_type": "code",
     "collapsed": false,
     "input": [
      "[ typeof(0x1)   typeof(0x1 + 2) ]"
     ],
     "language": "python",
     "metadata": {},
     "outputs": [
      {
       "metadata": {},
       "output_type": "pyout",
       "prompt_number": 67,
       "text": [
        "1x2 Array{DataType,2}:\n",
        " Uint8  Int64"
       ]
      }
     ],
     "prompt_number": 67
    },
    {
     "cell_type": "markdown",
     "metadata": {},
     "source": [
      "For the sake of completeness, here is a review of all of the standard arithmetic operators:"
     ]
    },
    {
     "cell_type": "code",
     "collapsed": false,
     "input": [
      "rtmc = [  1+1   -2   1/2   2/3   3\\2   2^3   x%y   y^4 ]"
     ],
     "language": "python",
     "metadata": {},
     "outputs": [
      {
       "metadata": {},
       "output_type": "pyout",
       "prompt_number": 68,
       "text": [
        "1x8 Array{Float64,2}:\n",
        " 2.0  -2.0  0.5  0.666667  0.666667  8.0  1.0  16.0"
       ]
      }
     ],
     "prompt_number": 68
    },
    {
     "cell_type": "markdown",
     "metadata": {},
     "source": [
      "The `rtmc` assignment above is an example of *array declaration*, with array elements computed in place using the specified inputs and operations.\n",
      "\n",
      "Again, Julia converts all operations to the most representative type for given arguments. For example, division between integers results in a floating point number:"
     ]
    },
    {
     "cell_type": "code",
     "collapsed": false,
     "input": [
      "[ 2/3  typeof(2/3) ]"
     ],
     "language": "python",
     "metadata": {},
     "outputs": [
      {
       "metadata": {},
       "output_type": "pyout",
       "prompt_number": 69,
       "text": [
        "1x2 Array{Any,2}:\n",
        " 0.666667  Float64"
       ]
      }
     ],
     "prompt_number": 69
    },
    {
     "cell_type": "markdown",
     "metadata": {},
     "source": [
      "This rule is applied consistently *even if* the result could be represented exactly by the common type of the input variables:"
     ]
    },
    {
     "cell_type": "code",
     "collapsed": false,
     "input": [
      "[ 4/2 typeof(4/2) ]"
     ],
     "language": "python",
     "metadata": {},
     "outputs": [
      {
       "metadata": {},
       "output_type": "pyout",
       "prompt_number": 70,
       "text": [
        "1x2 Array{Any,2}:\n",
        " 2.0  Float64"
       ]
      }
     ],
     "prompt_number": 70
    },
    {
     "cell_type": "markdown",
     "metadata": {},
     "source": [
      "### Array creation\n",
      "Let's look at several compact ways to create an array, noting in particular the use of **array comprehension**:"
     ]
    },
    {
     "cell_type": "code",
     "collapsed": false,
     "input": [
      "a = ones(5)"
     ],
     "language": "python",
     "metadata": {},
     "outputs": [
      {
       "metadata": {},
       "output_type": "pyout",
       "prompt_number": 71,
       "text": [
        "5-element Array{Float64,1}:\n",
        " 1.0\n",
        " 1.0\n",
        " 1.0\n",
        " 1.0\n",
        " 1.0"
       ]
      }
     ],
     "prompt_number": 71
    },
    {
     "cell_type": "code",
     "collapsed": false,
     "input": [
      "b = [ 5:9 ]    # 5-9, inclusive"
     ],
     "language": "python",
     "metadata": {},
     "outputs": [
      {
       "metadata": {},
       "output_type": "pyout",
       "prompt_number": 72,
       "text": [
        "5-element Array{Int64,1}:\n",
        " 5\n",
        " 6\n",
        " 7\n",
        " 8\n",
        " 9"
       ]
      }
     ],
     "prompt_number": 72
    },
    {
     "cell_type": "code",
     "collapsed": false,
     "input": [
      "c = eye(4)     # returns the 4x4 identity matrix"
     ],
     "language": "python",
     "metadata": {},
     "outputs": [
      {
       "metadata": {},
       "output_type": "pyout",
       "prompt_number": 73,
       "text": [
        "4x4 Array{Float64,2}:\n",
        " 1.0  0.0  0.0  0.0\n",
        " 0.0  1.0  0.0  0.0\n",
        " 0.0  0.0  1.0  0.0\n",
        " 0.0  0.0  0.0  1.0"
       ]
      }
     ],
     "prompt_number": 73
    },
    {
     "cell_type": "code",
     "collapsed": false,
     "input": [
      "d = ones(4,4)   # returns a 4x4 matrix of ones"
     ],
     "language": "python",
     "metadata": {},
     "outputs": [
      {
       "metadata": {},
       "output_type": "pyout",
       "prompt_number": 74,
       "text": [
        "4x4 Array{Float64,2}:\n",
        " 1.0  1.0  1.0  1.0\n",
        " 1.0  1.0  1.0  1.0\n",
        " 1.0  1.0  1.0  1.0\n",
        " 1.0  1.0  1.0  1.0"
       ]
      }
     ],
     "prompt_number": 74
    },
    {
     "cell_type": "markdown",
     "metadata": {},
     "source": [
      "### Array arithmetic"
     ]
    },
    {
     "cell_type": "markdown",
     "metadata": {},
     "source": [
      " We can do arithmetic with array elements:"
     ]
    },
    {
     "cell_type": "code",
     "collapsed": false,
     "input": [
      "a[1] + b[1]"
     ],
     "language": "python",
     "metadata": {},
     "outputs": [
      {
       "metadata": {},
       "output_type": "pyout",
       "prompt_number": 75,
       "text": [
        "6.0"
       ]
      }
     ],
     "prompt_number": 75
    },
    {
     "cell_type": "markdown",
     "metadata": {},
     "source": [
      "And with entire arrays, such as addition:"
     ]
    },
    {
     "cell_type": "code",
     "collapsed": false,
     "input": [
      "a + b"
     ],
     "language": "python",
     "metadata": {},
     "outputs": [
      {
       "metadata": {},
       "output_type": "pyout",
       "prompt_number": 76,
       "text": [
        "5-element Array{Float64,1}:\n",
        "  6.0\n",
        "  7.0\n",
        "  8.0\n",
        "  9.0\n",
        " 10.0"
       ]
      }
     ],
     "prompt_number": 76
    },
    {
     "cell_type": "markdown",
     "metadata": {},
     "source": [
      "... scalar multiplication:"
     ]
    },
    {
     "cell_type": "code",
     "collapsed": false,
     "input": [
      "5 * b"
     ],
     "language": "python",
     "metadata": {},
     "outputs": [
      {
       "metadata": {},
       "output_type": "pyout",
       "prompt_number": 77,
       "text": [
        "5-element Array{Int64,1}:\n",
        " 25\n",
        " 30\n",
        " 35\n",
        " 40\n",
        " 45"
       ]
      }
     ],
     "prompt_number": 77
    },
    {
     "cell_type": "markdown",
     "metadata": {},
     "source": [
      "... and exponentiation:"
     ]
    },
    {
     "cell_type": "code",
     "collapsed": false,
     "input": [
      "b .^ 2"
     ],
     "language": "python",
     "metadata": {},
     "outputs": [
      {
       "metadata": {},
       "output_type": "pyout",
       "prompt_number": 78,
       "text": [
        "5-element Array{Int64,1}:\n",
        " 25\n",
        " 36\n",
        " 49\n",
        " 64\n",
        " 81"
       ]
      }
     ],
     "prompt_number": 78
    },
    {
     "cell_type": "markdown",
     "metadata": {},
     "source": [
      "This last one is important: the `.^` operator denotes *element-wise* operation. As a general convention in Julia, element-wise operators are denoted with a dot prefixed to the operator symbol."
     ]
    },
    {
     "cell_type": "markdown",
     "metadata": {},
     "source": [
      "# Types and Multiple Dispatch"
     ]
    },
    {
     "cell_type": "markdown",
     "metadata": {},
     "source": [
      "Julia has a powerful type system, and variables carry type information that is automatically inferred at the time of assignment (and helpfully printed by IJulia):"
     ]
    },
    {
     "cell_type": "code",
     "collapsed": false,
     "input": [
      "rtmc = [  1   1+1   -2   1/2   2/3   3\\2   2^3   x%y   y^4 ]"
     ],
     "language": "python",
     "metadata": {},
     "outputs": [
      {
       "metadata": {},
       "output_type": "pyout",
       "prompt_number": 79,
       "text": [
        "1x9 Array{Float64,2}:\n",
        " 1.0  2.0  -2.0  0.5  0.666667  0.666667  8.0  1.0  16.0"
       ]
      }
     ],
     "prompt_number": 79
    },
    {
     "cell_type": "markdown",
     "metadata": {},
     "source": [
      "Although it is fully possible to program in Julia without explicit type declarations, the type system is fundamental to higher-level and generic programming. Let's make a quick review of some types encountered so far:"
     ]
    },
    {
     "cell_type": "code",
     "collapsed": false,
     "input": [
      "typeof('a')"
     ],
     "language": "python",
     "metadata": {},
     "outputs": [
      {
       "metadata": {},
       "output_type": "pyout",
       "prompt_number": 80,
       "text": [
        "Char"
       ]
      }
     ],
     "prompt_number": 80
    },
    {
     "cell_type": "code",
     "collapsed": false,
     "input": [
      "typeof(\"Quick brown fox\")"
     ],
     "language": "python",
     "metadata": {},
     "outputs": [
      {
       "metadata": {},
       "output_type": "pyout",
       "prompt_number": 81,
       "text": [
        "ASCIIString (constructor with 1 method)"
       ]
      }
     ],
     "prompt_number": 81
    },
    {
     "cell_type": "code",
     "collapsed": false,
     "input": [
      "typeof(1)"
     ],
     "language": "python",
     "metadata": {},
     "outputs": [
      {
       "metadata": {},
       "output_type": "pyout",
       "prompt_number": 82,
       "text": [
        "Int64"
       ]
      }
     ],
     "prompt_number": 82
    },
    {
     "cell_type": "code",
     "collapsed": false,
     "input": [
      "typeof(1.0)"
     ],
     "language": "python",
     "metadata": {},
     "outputs": [
      {
       "metadata": {},
       "output_type": "pyout",
       "prompt_number": 83,
       "text": [
        "Float64"
       ]
      }
     ],
     "prompt_number": 83
    },
    {
     "cell_type": "code",
     "collapsed": false,
     "input": [
      "typeof([1.0 2.0 3.0])"
     ],
     "language": "python",
     "metadata": {},
     "outputs": [
      {
       "metadata": {},
       "output_type": "pyout",
       "prompt_number": 84,
       "text": [
        "Array{Float64,2}"
       ]
      }
     ],
     "prompt_number": 84
    },
    {
     "cell_type": "code",
     "collapsed": false,
     "input": [
      "typeof([ 1 => \"2\", 2 => \"2\"])"
     ],
     "language": "python",
     "metadata": {},
     "outputs": [
      {
       "metadata": {},
       "output_type": "pyout",
       "prompt_number": 85,
       "text": [
        "Dict{Int64,ASCIIString} (constructor with 2 methods)"
       ]
      }
     ],
     "prompt_number": 85
    },
    {
     "cell_type": "code",
     "collapsed": false,
     "input": [
      "typeof(allmixedup)"
     ],
     "language": "python",
     "metadata": {},
     "outputs": [
      {
       "metadata": {},
       "output_type": "pyout",
       "prompt_number": 86,
       "text": [
        "Array{Any,1}"
       ]
      }
     ],
     "prompt_number": 86
    },
    {
     "cell_type": "markdown",
     "metadata": {},
     "source": [
      "This last one is special: **the `Any` type is the root of the type hierarchy in Julia**."
     ]
    },
    {
     "cell_type": "markdown",
     "metadata": {},
     "source": [
      "### Example: typed dictionaries\n",
      "\n",
      "We can explicitly specify the accepted key-value types in a dictionary constructor:"
     ]
    },
    {
     "cell_type": "code",
     "collapsed": false,
     "input": [
      "int_to_string = Dict{Int,String}()"
     ],
     "language": "python",
     "metadata": {},
     "outputs": [
      {
       "metadata": {},
       "output_type": "pyout",
       "prompt_number": 87,
       "text": [
        "Dict{Int64,String}()"
       ]
      }
     ],
     "prompt_number": 87
    },
    {
     "cell_type": "markdown",
     "metadata": {},
     "source": [
      "Or, we can ask Julia to select inferred types by using square bracket `[ ]` comprehension instead of the curly bracket `{ }` comprehension used earlier:"
     ]
    },
    {
     "cell_type": "code",
     "collapsed": false,
     "input": [
      "int_to_string = [ 1 => \"1\", 2 => \"2\"]"
     ],
     "language": "python",
     "metadata": {},
     "outputs": [
      {
       "metadata": {},
       "output_type": "pyout",
       "prompt_number": 88,
       "text": [
        "[2=>\"2\",1=>\"1\"]"
       ]
      }
     ],
     "prompt_number": 88
    },
    {
     "cell_type": "code",
     "collapsed": false,
     "input": [
      "typeof(int_to_string)"
     ],
     "language": "python",
     "metadata": {},
     "outputs": [
      {
       "metadata": {},
       "output_type": "pyout",
       "prompt_number": 89,
       "text": [
        "Dict{Int64,ASCIIString} (constructor with 2 methods)"
       ]
      }
     ],
     "prompt_number": 89
    },
    {
     "cell_type": "markdown",
     "metadata": {},
     "source": [
      "Assigning an Integer-String pair works:"
     ]
    },
    {
     "cell_type": "code",
     "collapsed": false,
     "input": [
      "int_to_string[3] = \"foo\""
     ],
     "language": "python",
     "metadata": {},
     "outputs": [
      {
       "metadata": {},
       "output_type": "pyout",
       "prompt_number": 90,
       "text": [
        "\"foo\""
       ]
      }
     ],
     "prompt_number": 90
    },
    {
     "cell_type": "markdown",
     "metadata": {},
     "source": [
      "But, unsurprisingly, assigning a String-String pair does not:"
     ]
    },
    {
     "cell_type": "code",
     "collapsed": false,
     "input": [
      "int_to_string[\"item3\"] = \"baz\""
     ],
     "language": "python",
     "metadata": {},
     "outputs": [
      {
       "ename": "LoadError",
       "evalue": "no method convert(Type{Int64},ASCIIString)\nat In[91]:1",
       "output_type": "pyerr",
       "traceback": [
        "no method convert(Type{Int64},ASCIIString)\nat In[91]:1",
        " in setindex! at dict.jl:412"
       ]
      }
     ],
     "prompt_number": 91
    },
    {
     "cell_type": "markdown",
     "metadata": {},
     "source": [
      "These last lines failed becase `int_to_string` expects only Integers as keys, and only strings as values."
     ]
    },
    {
     "cell_type": "markdown",
     "metadata": {},
     "source": [
      "## Composite types\n",
      "\n",
      "Julia provides a mechanism to define custom composite (aggregate) types, reminescent of structs in C, and plain-old-data classes in C++."
     ]
    },
    {
     "cell_type": "code",
     "collapsed": false,
     "input": [
      "type LP\n",
      "    c # Types are optional\n",
      "    A::Matrix{Float64}\n",
      "    b::Vector{Float64}\n",
      "end\n",
      "\n",
      "randlp(n,m) = LP(rand(n),rand(n,m),rand(m))\n",
      "\n",
      "mylp = randlp(10,5)\n",
      "\n",
      "println(mylp.c)"
     ],
     "language": "python",
     "metadata": {},
     "outputs": [
      {
       "output_type": "stream",
       "stream": "stdout",
       "text": [
        ".41658206875707227\n",
        ".5017688328770391\n",
        ".4950271332072449\n",
        ".47894020363889234\n",
        ".4810285428763976\n",
        ".5129626979895638\n",
        ".4894621516145241\n",
        ".04926848192609756\n",
        ".35015060687983346\n",
        ".57393984978873\n"
       ]
      },
      {
       "output_type": "stream",
       "stream": "stderr",
       "text": [
        "Warning: imported binding for Int64 overwritten in module Main\n"
       ]
      },
      {
       "output_type": "stream",
       "stream": "stdout",
       "text": [
        "\n"
       ]
      }
     ],
     "prompt_number": 92
    },
    {
     "cell_type": "markdown",
     "metadata": {},
     "source": [
      "## Parametric Types\n",
      "\n",
      "Parametric types take one (or more) type arguments which are used in the final construction of constituent fields:"
     ]
    },
    {
     "cell_type": "code",
     "collapsed": false,
     "input": [
      "type LP2{T}\n",
      "    c::Vector{T}\n",
      "    A::Matrix{T}\n",
      "    b::Vector{T}\n",
      "end"
     ],
     "language": "python",
     "metadata": {},
     "outputs": [],
     "prompt_number": 93
    },
    {
     "cell_type": "markdown",
     "metadata": {},
     "source": [
      "We can construct derived types by specifying the element type in the constructor, between `{ }` curly brackets following the type name:"
     ]
    },
    {
     "cell_type": "code",
     "collapsed": false,
     "input": [
      "lp = LP2{Float64}(mylp.c,mylp.A,mylp.b)    # dbl precision"
     ],
     "language": "python",
     "metadata": {},
     "outputs": [
      {
       "metadata": {},
       "output_type": "pyout",
       "prompt_number": 94,
       "text": [
        "LP2{Float64}([0.41658206875707227,0.5017688328770391,0.4950271332072449,0.47894020363889234,0.4810285428763976,0.5129626979895638,0.4894621516145241,0.04926848192609756,0.35015060687983346,0.57393984978873],10x5 Array{Float64,2}:\n",
        " 0.31356   0.421467     0.855788  0.184812   0.522469 \n",
        " 0.523827  0.000162772  0.80338   0.990524   0.435689 \n",
        " 0.903068  0.412541     0.208929  0.249097   0.0109994\n",
        " 0.73804   0.00372301   0.880434  0.287483   0.962761 \n",
        " 0.41663   0.475956     0.716943  0.748487   0.642943 \n",
        " 0.561952  0.594682     0.408093  0.375726   0.554211 \n",
        " 0.428398  0.390269     0.264798  0.655475   0.473286 \n",
        " 0.759091  0.60214      0.232885  0.922757   0.946042 \n",
        " 0.179187  0.204381     0.995682  0.0101273  0.592077 \n",
        " 0.674353  0.806467     0.180198  0.677089   0.871963 ,[0.599648906039072,0.5608212204969416,0.9780278280294874,0.11913449426512002,0.2961395431294518])"
       ]
      }
     ],
     "prompt_number": 94
    },
    {
     "cell_type": "markdown",
     "metadata": {},
     "source": [
      "## Multiple dispatch"
     ]
    },
    {
     "cell_type": "markdown",
     "metadata": {},
     "source": [
      "Recall the IJulia output after the definition of `sayhello` in the first section:\n",
      "\n",
      "```\n",
      "In [146]: function sayhello(name)\n",
      "              println(\"Hello, \", name)\n",
      "          end\n",
      "Out[146]: sayhello (generic function with 1 method)\n",
      "```"
     ]
    },
    {
     "cell_type": "markdown",
     "metadata": {},
     "source": [
      "Notice the line `(generic function with 1 method)`.\n",
      "\n",
      "What happens if we define another version of this function with a different argument type?"
     ]
    },
    {
     "cell_type": "code",
     "collapsed": false,
     "input": [
      "sayhello(friendnumber::Number) = println(\"Hello, numerical friend \", friendnumber)"
     ],
     "language": "python",
     "metadata": {},
     "outputs": [
      {
       "metadata": {},
       "output_type": "pyout",
       "prompt_number": 95,
       "text": [
        "sayhello (generic function with 2 methods)"
       ]
      }
     ],
     "prompt_number": 95
    },
    {
     "cell_type": "markdown",
     "metadata": {},
     "source": [
      "Aha! No error. Instead, IJulia tells us that `sayhello` now refers to a function with two **methods**. Compare the output when we call this function with different types of arguments:"
     ]
    },
    {
     "cell_type": "code",
     "collapsed": false,
     "input": [
      "sayhello(\"Bob\")"
     ],
     "language": "python",
     "metadata": {},
     "outputs": [
      {
       "output_type": "stream",
       "stream": "stdout",
       "text": [
        "Hello, Bob\n"
       ]
      }
     ],
     "prompt_number": 96
    },
    {
     "cell_type": "code",
     "collapsed": false,
     "input": [
      "sayhello(3)"
     ],
     "language": "python",
     "metadata": {},
     "outputs": [
      {
       "output_type": "stream",
       "stream": "stdout",
       "text": [
        "Hello, numerical friend "
       ]
      },
      {
       "output_type": "stream",
       "stream": "stdout",
       "text": [
        "3\n"
       ]
      }
     ],
     "prompt_number": 97
    },
    {
     "cell_type": "code",
     "collapsed": false,
     "input": [
      "sayhello(4.0)"
     ],
     "language": "python",
     "metadata": {},
     "outputs": [
      {
       "output_type": "stream",
       "stream": "stdout",
       "text": [
        "Hello, numerical friend 4.0\n"
       ]
      }
     ],
     "prompt_number": 98
    },
    {
     "cell_type": "markdown",
     "metadata": {},
     "source": [
      "When we call `sayhello` with a String argument, the original definition with *unspecified type* is used. When we call `sayhello` with any numerical type, the new Number-specific version is called.\n",
      "\n",
      "We can make another, even more specific definition; compare the output now with different argument types:"
     ]
    },
    {
     "cell_type": "code",
     "collapsed": false,
     "input": [
      "sayhello(fpfriend::FloatingPoint) = println(\"Hello, floating point friend \", fpfriend)"
     ],
     "language": "python",
     "metadata": {},
     "outputs": [
      {
       "metadata": {},
       "output_type": "pyout",
       "prompt_number": 99,
       "text": [
        "sayhello (generic function with 3 methods)"
       ]
      }
     ],
     "prompt_number": 99
    },
    {
     "cell_type": "code",
     "collapsed": false,
     "input": [
      "sayhello(4)"
     ],
     "language": "python",
     "metadata": {},
     "outputs": [
      {
       "output_type": "stream",
       "stream": "stdout",
       "text": [
        "Hello, numerical friend 4\n"
       ]
      }
     ],
     "prompt_number": 100
    },
    {
     "cell_type": "code",
     "collapsed": false,
     "input": [
      "sayhello(5.0)"
     ],
     "language": "python",
     "metadata": {},
     "outputs": [
      {
       "output_type": "stream",
       "stream": "stdout",
       "text": [
        "Hello, floating point friend 5.0\n"
       ]
      }
     ],
     "prompt_number": 101
    },
    {
     "cell_type": "markdown",
     "metadata": {},
     "source": [
      "Why does this work? Julia's multiple dispatch chooses the *most specific method* for a given argument. `Float64` is a subtype of `Number` (twice removed), so the `Float64` version is used for a floating point argument, but the earlier `Number` version is still used for other numeric types.\n",
      "\n",
      "`Float64` is a *subtype* of the abstract `FloatingPoint` type:"
     ]
    },
    {
     "cell_type": "code",
     "collapsed": false,
     "input": [
      "super(Float64)"
     ],
     "language": "python",
     "metadata": {},
     "outputs": [
      {
       "metadata": {},
       "output_type": "pyout",
       "prompt_number": 102,
       "text": [
        "FloatingPoint"
       ]
      }
     ],
     "prompt_number": 102
    },
    {
     "cell_type": "markdown",
     "metadata": {},
     "source": [
      "which is in turn a subtype of `Number`:"
     ]
    },
    {
     "cell_type": "code",
     "collapsed": false,
     "input": [
      "issubtype(Float64, Number)"
     ],
     "language": "python",
     "metadata": {},
     "outputs": [
      {
       "metadata": {},
       "output_type": "pyout",
       "prompt_number": 103,
       "text": [
        "true"
       ]
      }
     ],
     "prompt_number": 103
    },
    {
     "cell_type": "markdown",
     "metadata": {},
     "source": [
      "### *Exercise*\n",
      "\n",
      "Write a function to print the type hierarchy for a given type. Hint: use the `super` function as shown above."
     ]
    },
    {
     "cell_type": "code",
     "collapsed": false,
     "input": [
      "function hierarchy(t::Type)\n",
      "\n",
      "end"
     ],
     "language": "python",
     "metadata": {},
     "outputs": [
      {
       "metadata": {},
       "output_type": "pyout",
       "prompt_number": 26,
       "text": [
        "hierarchy (generic function with 1 method)"
       ]
      }
     ],
     "prompt_number": 26
    },
    {
     "cell_type": "code",
     "collapsed": false,
     "input": [
      "hierarchy(Int64)"
     ],
     "language": "python",
     "metadata": {},
     "outputs": [],
     "prompt_number": 27
    },
    {
     "cell_type": "markdown",
     "metadata": {},
     "source": [
      "*Expected output:*\n",
      "```\n",
      "In[]: hierarchy(Int64)\n",
      "\n",
      "Signed\n",
      "Integer\n",
      "Real\n",
      "Number\n",
      "Any\n",
      "```"
     ]
    },
    {
     "cell_type": "markdown",
     "metadata": {},
     "source": [
      "## Array functions\n",
      "\n",
      "We can use type annotated functions to define different behavior for various types of arrays:"
     ]
    },
    {
     "cell_type": "code",
     "collapsed": false,
     "input": [
      "function array_sum(x::Array{Float64, 1})\n",
      "    y = 0\n",
      "    for i in 1:length(x)\n",
      "        y += x[i] + 2\n",
      "    end\n",
      "    return y\n",
      "end\n",
      "\n",
      "function array_sum(x::Array{Int64, 1})\n",
      "    y = 0\n",
      "    for i in 1:length(x)\n",
      "        y += x[i] + 1\n",
      "    end\n",
      "    return y\n",
      "end"
     ],
     "language": "python",
     "metadata": {},
     "outputs": [
      {
       "metadata": {},
       "output_type": "pyout",
       "prompt_number": 1,
       "text": [
        "array_sum (generic function with 2 methods)"
       ]
      }
     ],
     "prompt_number": 1
    },
    {
     "cell_type": "code",
     "collapsed": false,
     "input": [
      "array_sum([ 1, 2, 3, 4, 5 ])  # array of integers"
     ],
     "language": "python",
     "metadata": {},
     "outputs": [
      {
       "metadata": {},
       "output_type": "pyout",
       "prompt_number": 2,
       "text": [
        "20"
       ]
      }
     ],
     "prompt_number": 2
    },
    {
     "cell_type": "code",
     "collapsed": false,
     "input": [
      "array_sum([ 1.0, 2, 3, 4, 5 ]) # array of floats"
     ],
     "language": "python",
     "metadata": {},
     "outputs": [
      {
       "metadata": {},
       "output_type": "pyout",
       "prompt_number": 107,
       "text": [
        "25.0"
       ]
      }
     ],
     "prompt_number": 107
    },
    {
     "cell_type": "markdown",
     "metadata": {},
     "source": [
      "### *Exercise*\n",
      "\n",
      "Write a function that takes a vector and normalizes it in place by its [L2 norm](http://mathworld.wolfram.com/L2-Norm.html):\n",
      "\n",
      "$\\|x\\|_2 = \\sqrt{\\sum\\limits_{i=1}^n{|x_i|^2}}$\n",
      "\n",
      "Hints:\n",
      "\n",
      "- Use for loops. \n",
      "- square root function: `sqrt`\n",
      "- use element-wise operators to calculate the norm"
     ]
    },
    {
     "cell_type": "code",
     "collapsed": false,
     "input": [
      "function vec_norm(ar::Array{Float64,1})\n",
      "\n",
      "end"
     ],
     "language": "python",
     "metadata": {},
     "outputs": [
      {
       "metadata": {},
       "output_type": "pyout",
       "prompt_number": 28,
       "text": [
        "vec_norm (generic function with 1 method)"
       ]
      }
     ],
     "prompt_number": 28
    },
    {
     "cell_type": "markdown",
     "metadata": {},
     "source": [
      "*Expected output*\n",
      "```\n",
      "In [8]: vec_norm([1.0, 1.0, 1.0])\n",
      "Out[8]:\n",
      "3-element Array{Float64,1}:\n",
      " 0.57735\n",
      " 0.57735\n",
      " 0.57735\n",
      "```"
     ]
    },
    {
     "cell_type": "markdown",
     "metadata": {},
     "source": [
      "# Extra Topics"
     ]
    },
    {
     "cell_type": "markdown",
     "metadata": {},
     "source": [
      "## Calling C code\n",
      "\n",
      "Julia provides a facility to call C (and Fortran!) libraries with no runtime overhead."
     ]
    },
    {
     "cell_type": "code",
     "collapsed": false,
     "input": [
      "path = ccall( (:getenv, \"libc\"), Ptr{Uint8}, (Ptr{Uint8},), \"PATH\")"
     ],
     "language": "python",
     "metadata": {},
     "outputs": [
      {
       "metadata": {},
       "output_type": "pyout",
       "prompt_number": 109,
       "text": [
        "Ptr{Uint8} @0x00007fff4dc88553"
       ]
      }
     ],
     "prompt_number": 109
    },
    {
     "cell_type": "code",
     "collapsed": false,
     "input": [
      "bytestring(path)"
     ],
     "language": "python",
     "metadata": {},
     "outputs": [
      {
       "metadata": {},
       "output_type": "pyout",
       "prompt_number": 110,
       "text": [
        "\"/home/isaiah/bin:/usr/lib/lightdm/lightdm:/usr/local/sbin:/usr/local/bin:/usr/sbin:/usr/bin:/sbin:/bin:/usr/games:/usr/local/games\""
       ]
      }
     ],
     "prompt_number": 110
    },
    {
     "cell_type": "markdown",
     "metadata": {},
     "source": [
      "## Plotting\n",
      "\n",
      "There are several plotting options available for Julia.\n",
      "[Gadfly](https://github.com/dcjones/Gadfly.jl)\n",
      "[Winston](https://github.com/nolta/Winston.jl)\n",
      "[PyPlot](https://github.com/stevengj/PyPlot.jl)\n",
      "\n",
      "Here is a demonstration of PyPlot, as integrated with the IJulia notebook:"
     ]
    },
    {
     "cell_type": "code",
     "collapsed": false,
     "input": [
      "using PyPlot\n",
      "x = -3pi:.01:3pi\n",
      "plot(x, sin(x))"
     ],
     "language": "python",
     "metadata": {},
     "outputs": [
      {
       "metadata": {},
       "output_type": "display_data",
       "png": "[encoded data removed]",
       "svg": [
        "<?xml version=\"1.0\" encoding=\"utf-8\" standalone=\"no\"?>\n",
        "<!DOCTYPE svg PUBLIC \"-//W3C//DTD SVG 1.1//EN\"\n",
        "  \"http://www.w3.org/Graphics/SVG/1.1/DTD/svg11.dtd\">\n",
        "<!-- Created with matplotlib (http://matplotlib.org/) -->\n",
        "<svg height=\"377pt\" version=\"1.1\" viewBox=\"0 0 498 377\" width=\"498pt\" xmlns=\"http://www.w3.org/2000/svg\" xmlns:xlink=\"http://www.w3.org/1999/xlink\">\n",
        " <defs>\n",
        "  <style type=\"text/css\">\n",
        "*{stroke-linecap:square;stroke-linejoin:round;}\n",
        "  </style>\n",
        " </defs>\n",
        " <g id=\"figure_1\">\n",
        "  <g id=\"patch_1\">\n",
        "   <path d=\"\n",
        "M0 377.615\n",
        "L498.449 377.615\n",
        "L498.449 0\n",
        "L0 0\n",
        "z\n",
        "\" style=\"fill:#ffffff;\"/>\n",
        "  </g>\n",
        "  <g id=\"axes_1\">\n",
        "   <g id=\"patch_2\">\n",
        "    <path d=\"\n",
        "M38.2713 357.338\n",
        "L484.671 357.338\n",
        "L484.671 11.7384\n",
        "L38.2713 11.7384\n",
        "z\n",
        "\" style=\"fill:#ffffff;\"/>\n",
        "   </g>\n",
        "   <g id=\"line2d_1\">\n",
        "    <path clip-path=\"url(#p7241f4fb32)\" d=\"\n",
        "M51.1102 184.538\n",
        "L58.0294 237.253\n",
        "L61.6006 262.797\n",
        "L64.5022 282.109\n",
        "L67.1806 298.48\n",
        "L69.4126 310.88\n",
        "L71.6446 322.018\n",
        "L73.6534 330.871\n",
        "L75.439 337.748\n",
        "L77.0014 342.962\n",
        "L78.5638 347.401\n",
        "L79.903 350.571\n",
        "L81.2422 353.143\n",
        "L82.3582 354.824\n",
        "L83.4742 356.079\n",
        "L84.367 356.775\n",
        "L85.2598 357.195\n",
        "L86.1526 357.338\n",
        "L87.0454 357.206\n",
        "L87.9382 356.797\n",
        "L88.831 356.112\n",
        "L89.7238 355.153\n",
        "L90.8398 353.571\n",
        "L91.9558 351.566\n",
        "L93.295 348.61\n",
        "L94.6342 345.063\n",
        "L96.1966 340.196\n",
        "L97.759 334.566\n",
        "L99.5446 327.234\n",
        "L101.33 318.989\n",
        "L103.339 308.689\n",
        "L105.571 296.07\n",
        "L108.026 280.906\n",
        "L110.928 261.499\n",
        "L114.276 237.515\n",
        "L118.74 203.782\n",
        "L129.007 125.544\n",
        "L132.355 101.935\n",
        "L135.257 82.9567\n",
        "L137.712 68.2249\n",
        "L139.944 56.048\n",
        "L141.953 46.1832\n",
        "L143.961 37.4384\n",
        "L145.747 30.6628\n",
        "L147.309 25.5403\n",
        "L148.872 21.1966\n",
        "L150.211 18.1094\n",
        "L151.55 15.6212\n",
        "L152.666 14.0118\n",
        "L153.782 12.8286\n",
        "L154.675 12.191\n",
        "L155.568 11.8291\n",
        "L156.461 11.7434\n",
        "L157.353 11.9343\n",
        "L158.246 12.4012\n",
        "L159.139 13.1435\n",
        "L160.032 14.16\n",
        "L161.148 15.8138\n",
        "L162.264 17.8892\n",
        "L163.603 20.929\n",
        "L164.942 24.5577\n",
        "L166.505 29.5177\n",
        "L168.067 35.2371\n",
        "L169.853 42.6672\n",
        "L171.861 52.1081\n",
        "L173.87 62.6211\n",
        "L176.102 75.4556\n",
        "L178.557 90.8271\n",
        "L181.459 110.438\n",
        "L185.03 136.255\n",
        "L189.941 173.627\n",
        "L198.422 238.373\n",
        "L201.993 263.845\n",
        "L204.895 283.078\n",
        "L207.573 299.363\n",
        "L209.805 311.681\n",
        "L211.814 321.684\n",
        "L213.823 330.577\n",
        "L215.609 337.492\n",
        "L217.171 342.741\n",
        "L218.733 347.216\n",
        "L220.073 350.417\n",
        "L221.412 353.022\n",
        "L222.528 354.73\n",
        "L223.644 356.012\n",
        "L224.537 356.729\n",
        "L225.429 357.171\n",
        "L226.322 357.337\n",
        "L227.215 357.226\n",
        "L228.108 356.839\n",
        "L229.001 356.177\n",
        "L229.893 355.24\n",
        "L231.009 353.684\n",
        "L232.125 351.706\n",
        "L233.241 349.31\n",
        "L234.581 345.892\n",
        "L235.92 341.893\n",
        "L237.482 336.513\n",
        "L239.268 329.455\n",
        "L241.053 321.47\n",
        "L243.062 311.442\n",
        "L245.294 299.1\n",
        "L247.749 284.206\n",
        "L250.428 266.59\n",
        "L253.553 244.566\n",
        "L257.57 214.587\n",
        "L270.739 114.832\n",
        "L273.864 93.45\n",
        "L276.542 76.5262\n",
        "L278.997 62.3719\n",
        "L281.229 50.7816\n",
        "L283.238 41.49\n",
        "L285.024 34.2008\n",
        "L286.809 27.8731\n",
        "L288.372 23.1573\n",
        "L289.711 19.7435\n",
        "L291.05 16.9228\n",
        "L292.166 15.0327\n",
        "L293.282 13.5662\n",
        "L294.175 12.7006\n",
        "L295.068 12.1098\n",
        "L295.961 11.7949\n",
        "L296.853 11.7564\n",
        "L297.746 11.9943\n",
        "L298.639 12.5082\n",
        "L299.532 13.2974\n",
        "L300.425 14.3604\n",
        "L301.541 16.0719\n",
        "L302.657 18.2044\n",
        "L303.996 21.3117\n",
        "L305.335 25.0065\n",
        "L306.897 30.0416\n",
        "L308.46 35.8334\n",
        "L310.245 43.3428\n",
        "L312.254 52.8677\n",
        "L314.263 63.4584\n",
        "L316.495 76.3714\n",
        "L319.173 93.2814\n",
        "L322.075 113.074\n",
        "L325.646 139.052\n",
        "L330.78 178.255\n",
        "L338.592 237.849\n",
        "L342.163 263.356\n",
        "L345.065 282.626\n",
        "L347.743 298.951\n",
        "L349.975 311.307\n",
        "L352.207 322.397\n",
        "L354.216 331.204\n",
        "L356.001 338.037\n",
        "L357.564 343.211\n",
        "L359.126 347.609\n",
        "L360.465 350.743\n",
        "L361.805 353.28\n",
        "L362.921 354.93\n",
        "L364.037 356.154\n",
        "L364.929 356.824\n",
        "L365.822 357.219\n",
        "L366.715 357.338\n",
        "L367.608 357.18\n",
        "L368.501 356.746\n",
        "L369.393 356.036\n",
        "L370.286 355.053\n",
        "L371.402 353.439\n",
        "L372.518 351.404\n",
        "L373.857 348.412\n",
        "L375.197 344.829\n",
        "L376.759 339.922\n",
        "L378.321 334.254\n",
        "L380.107 326.879\n",
        "L382.116 317.498\n",
        "L384.125 307.04\n",
        "L386.357 294.26\n",
        "L388.812 278.942\n",
        "L391.713 259.383\n",
        "L395.061 235.268\n",
        "L399.749 199.719\n",
        "L409.123 128.211\n",
        "L412.694 102.904\n",
        "L415.596 83.8493\n",
        "L418.274 67.7618\n",
        "L420.506 55.6295\n",
        "L422.515 45.8084\n",
        "L424.524 37.1103\n",
        "L426.309 30.3785\n",
        "L427.872 25.2958\n",
        "L429.434 20.993\n",
        "L430.773 17.9418\n",
        "L431.889 15.8567\n",
        "L433.005 14.1933\n",
        "L434.121 12.9556\n",
        "L435.014 12.2741\n",
        "L435.907 11.8682\n",
        "L436.8 11.7386\n",
        "L437.693 11.8854\n",
        "L438.585 12.3084\n",
        "L439.478 13.0069\n",
        "L440.371 13.9798\n",
        "L441.487 15.5795\n",
        "L442.603 17.6015\n",
        "L443.942 20.5781\n",
        "L445.281 24.1448\n",
        "L446.844 29.0345\n",
        "L448.406 34.6859\n",
        "L450.192 42.0416\n",
        "L452.201 51.4037\n",
        "L454.209 61.8434\n",
        "L456.441 74.604\n",
        "L458.897 89.9041\n",
        "L461.798 109.445\n",
        "L465.146 133.546\n",
        "L469.833 169.084\n",
        "L471.619 182.887\n",
        "L471.619 182.887\" style=\"fill:none;stroke:#0000ff;\"/>\n",
        "   </g>\n",
        "   <g id=\"matplotlib.axis_1\">\n",
        "    <g id=\"xtick_1\">\n",
        "     <g id=\"line2d_2\">\n",
        "      <defs>\n",
        "       <path d=\"\n",
        "M0 0\n",
        "L0 -4\" id=\"mcb557df647\" style=\"stroke:#000000;stroke-linecap:butt;stroke-width:0.5;\"/>\n",
        "      </defs>\n",
        "      <g>\n",
        "       <use style=\"stroke:#000000;stroke-linecap:butt;stroke-width:0.5;\" x=\"38.27125\" xlink:href=\"#mcb557df647\" y=\"357.3384375\"/>\n",
        "      </g>\n",
        "     </g>\n",
        "     <g id=\"line2d_3\">\n",
        "      <defs>\n",
        "       <path d=\"\n",
        "M0 0\n",
        "L0 4\" id=\"mdad270ee8e\" style=\"stroke:#000000;stroke-linecap:butt;stroke-width:0.5;\"/>\n",
        "      </defs>\n",
        "      <g>\n",
        "       <use style=\"stroke:#000000;stroke-linecap:butt;stroke-width:0.5;\" x=\"38.27125\" xlink:href=\"#mdad270ee8e\" y=\"11.7384375\"/>\n",
        "      </g>\n",
        "     </g>\n",
        "     <g id=\"text_1\">\n",
        "      <!-- \u221210 -->\n",
        "      <defs>\n",
        "       <path d=\"\n",
        "M12.4062 8.29688\n",
        "L28.5156 8.29688\n",
        "L28.5156 63.9219\n",
        "L10.9844 60.4062\n",
        "L10.9844 69.3906\n",
        "L28.4219 72.9062\n",
        "L38.2812 72.9062\n",
        "L38.2812 8.29688\n",
        "L54.3906 8.29688\n",
        "L54.3906 0\n",
        "L12.4062 0\n",
        "z\n",
        "\" id=\"DejaVuSans-31\"/>\n",
        "       <path d=\"\n",
        "M31.7812 66.4062\n",
        "Q24.1719 66.4062 20.3281 58.9062\n",
        "Q16.5 51.4219 16.5 36.375\n",
        "Q16.5 21.3906 20.3281 13.8906\n",
        "Q24.1719 6.39062 31.7812 6.39062\n",
        "Q39.4531 6.39062 43.2812 13.8906\n",
        "Q47.125 21.3906 47.125 36.375\n",
        "Q47.125 51.4219 43.2812 58.9062\n",
        "Q39.4531 66.4062 31.7812 66.4062\n",
        "M31.7812 74.2188\n",
        "Q44.0469 74.2188 50.5156 64.5156\n",
        "Q56.9844 54.8281 56.9844 36.375\n",
        "Q56.9844 17.9688 50.5156 8.26562\n",
        "Q44.0469 -1.42188 31.7812 -1.42188\n",
        "Q19.5312 -1.42188 13.0625 8.26562\n",
        "Q6.59375 17.9688 6.59375 36.375\n",
        "Q6.59375 54.8281 13.0625 64.5156\n",
        "Q19.5312 74.2188 31.7812 74.2188\" id=\"DejaVuSans-30\"/>\n",
        "       <path d=\"\n",
        "M10.5938 35.5\n",
        "L73.1875 35.5\n",
        "L73.1875 27.2031\n",
        "L10.5938 27.2031\n",
        "z\n",
        "\" id=\"DejaVuSans-2212\"/>\n",
        "      </defs>\n",
        "      <g transform=\"translate(26.6425 370.2446875)scale(0.12 -0.12)\">\n",
        "       <use xlink:href=\"#DejaVuSans-2212\"/>\n",
        "       <use x=\"83.7890625\" xlink:href=\"#DejaVuSans-31\"/>\n",
        "       <use x=\"147.412109375\" xlink:href=\"#DejaVuSans-30\"/>\n",
        "      </g>\n",
        "     </g>\n",
        "    </g>\n",
        "    <g id=\"xtick_2\">\n",
        "     <g id=\"line2d_4\">\n",
        "      <g>\n",
        "       <use style=\"stroke:#000000;stroke-linecap:butt;stroke-width:0.5;\" x=\"149.87125\" xlink:href=\"#mcb557df647\" y=\"357.3384375\"/>\n",
        "      </g>\n",
        "     </g>\n",
        "     <g id=\"line2d_5\">\n",
        "      <g>\n",
        "       <use style=\"stroke:#000000;stroke-linecap:butt;stroke-width:0.5;\" x=\"149.87125\" xlink:href=\"#mdad270ee8e\" y=\"11.7384375\"/>\n",
        "      </g>\n",
        "     </g>\n",
        "     <g id=\"text_2\">\n",
        "      <!-- \u22125 -->\n",
        "      <defs>\n",
        "       <path d=\"\n",
        "M10.7969 72.9062\n",
        "L49.5156 72.9062\n",
        "L49.5156 64.5938\n",
        "L19.8281 64.5938\n",
        "L19.8281 46.7344\n",
        "Q21.9688 47.4688 24.1094 47.8281\n",
        "Q26.2656 48.1875 28.4219 48.1875\n",
        "Q40.625 48.1875 47.75 41.5\n",
        "Q54.8906 34.8125 54.8906 23.3906\n",
        "Q54.8906 11.625 47.5625 5.09375\n",
        "Q40.2344 -1.42188 26.9062 -1.42188\n",
        "Q22.3125 -1.42188 17.5469 -0.640625\n",
        "Q12.7969 0.140625 7.71875 1.70312\n",
        "L7.71875 11.625\n",
        "Q12.1094 9.23438 16.7969 8.0625\n",
        "Q21.4844 6.89062 26.7031 6.89062\n",
        "Q35.1562 6.89062 40.0781 11.3281\n",
        "Q45.0156 15.7656 45.0156 23.3906\n",
        "Q45.0156 31 40.0781 35.4375\n",
        "Q35.1562 39.8906 26.7031 39.8906\n",
        "Q22.75 39.8906 18.8125 39.0156\n",
        "Q14.8906 38.1406 10.7969 36.2812\n",
        "z\n",
        "\" id=\"DejaVuSans-35\"/>\n",
        "      </defs>\n",
        "      <g transform=\"translate(142.185625 370.0871875)scale(0.12 -0.12)\">\n",
        "       <use xlink:href=\"#DejaVuSans-2212\"/>\n",
        "       <use x=\"83.7890625\" xlink:href=\"#DejaVuSans-35\"/>\n",
        "      </g>\n",
        "     </g>\n",
        "    </g>\n",
        "    <g id=\"xtick_3\">\n",
        "     <g id=\"line2d_6\">\n",
        "      <g>\n",
        "       <use style=\"stroke:#000000;stroke-linecap:butt;stroke-width:0.5;\" x=\"261.47125\" xlink:href=\"#mcb557df647\" y=\"357.3384375\"/>\n",
        "      </g>\n",
        "     </g>\n",
        "     <g id=\"line2d_7\">\n",
        "      <g>\n",
        "       <use style=\"stroke:#000000;stroke-linecap:butt;stroke-width:0.5;\" x=\"261.47125\" xlink:href=\"#mdad270ee8e\" y=\"11.7384375\"/>\n",
        "      </g>\n",
        "     </g>\n",
        "     <g id=\"text_3\">\n",
        "      <!-- 0 -->\n",
        "      <g transform=\"translate(258.4478125 370.2446875)scale(0.12 -0.12)\">\n",
        "       <use xlink:href=\"#DejaVuSans-30\"/>\n",
        "      </g>\n",
        "     </g>\n",
        "    </g>\n",
        "    <g id=\"xtick_4\">\n",
        "     <g id=\"line2d_8\">\n",
        "      <g>\n",
        "       <use style=\"stroke:#000000;stroke-linecap:butt;stroke-width:0.5;\" x=\"373.07125\" xlink:href=\"#mcb557df647\" y=\"357.3384375\"/>\n",
        "      </g>\n",
        "     </g>\n",
        "     <g id=\"line2d_9\">\n",
        "      <g>\n",
        "       <use style=\"stroke:#000000;stroke-linecap:butt;stroke-width:0.5;\" x=\"373.07125\" xlink:href=\"#mdad270ee8e\" y=\"11.7384375\"/>\n",
        "      </g>\n",
        "     </g>\n",
        "     <g id=\"text_4\">\n",
        "      <!-- 5 -->\n",
        "      <g transform=\"translate(370.2409375 370.0871875)scale(0.12 -0.12)\">\n",
        "       <use xlink:href=\"#DejaVuSans-35\"/>\n",
        "      </g>\n",
        "     </g>\n",
        "    </g>\n",
        "    <g id=\"xtick_5\">\n",
        "     <g id=\"line2d_10\">\n",
        "      <g>\n",
        "       <use style=\"stroke:#000000;stroke-linecap:butt;stroke-width:0.5;\" x=\"484.67125\" xlink:href=\"#mcb557df647\" y=\"357.3384375\"/>\n",
        "      </g>\n",
        "     </g>\n",
        "     <g id=\"line2d_11\">\n",
        "      <g>\n",
        "       <use style=\"stroke:#000000;stroke-linecap:butt;stroke-width:0.5;\" x=\"484.67125\" xlink:href=\"#mdad270ee8e\" y=\"11.7384375\"/>\n",
        "      </g>\n",
        "     </g>\n",
        "     <g id=\"text_5\">\n",
        "      <!-- 10 -->\n",
        "      <g transform=\"translate(478.09375 370.2446875)scale(0.12 -0.12)\">\n",
        "       <use xlink:href=\"#DejaVuSans-31\"/>\n",
        "       <use x=\"63.623046875\" xlink:href=\"#DejaVuSans-30\"/>\n",
        "      </g>\n",
        "     </g>\n",
        "    </g>\n",
        "   </g>\n",
        "   <g id=\"matplotlib.axis_2\">\n",
        "    <g id=\"ytick_1\">\n",
        "     <g id=\"line2d_12\">\n",
        "      <defs>\n",
        "       <path d=\"\n",
        "M0 0\n",
        "L4 0\" id=\"mc8fcea1516\" style=\"stroke:#000000;stroke-linecap:butt;stroke-width:0.5;\"/>\n",
        "      </defs>\n",
        "      <g>\n",
        "       <use style=\"stroke:#000000;stroke-linecap:butt;stroke-width:0.5;\" x=\"38.27125\" xlink:href=\"#mc8fcea1516\" y=\"357.3384375\"/>\n",
        "      </g>\n",
        "     </g>\n",
        "     <g id=\"line2d_13\">\n",
        "      <defs>\n",
        "       <path d=\"\n",
        "M0 0\n",
        "L-4 0\" id=\"m0d5b0a6425\" style=\"stroke:#000000;stroke-linecap:butt;stroke-width:0.5;\"/>\n",
        "      </defs>\n",
        "      <g>\n",
        "       <use style=\"stroke:#000000;stroke-linecap:butt;stroke-width:0.5;\" x=\"484.67125\" xlink:href=\"#m0d5b0a6425\" y=\"357.3384375\"/>\n",
        "      </g>\n",
        "     </g>\n",
        "     <g id=\"text_6\">\n",
        "      <!-- \u22121.0 -->\n",
        "      <defs>\n",
        "       <path d=\"\n",
        "M10.6875 12.4062\n",
        "L21 12.4062\n",
        "L21 0\n",
        "L10.6875 0\n",
        "z\n",
        "\" id=\"DejaVuSans-2e\"/>\n",
        "      </defs>\n",
        "      <g transform=\"translate(7.2 361.70625)scale(0.12 -0.12)\">\n",
        "       <use xlink:href=\"#DejaVuSans-2212\"/>\n",
        "       <use x=\"83.7890625\" xlink:href=\"#DejaVuSans-31\"/>\n",
        "       <use x=\"147.412109375\" xlink:href=\"#DejaVuSans-2e\"/>\n",
        "       <use x=\"179.19921875\" xlink:href=\"#DejaVuSans-30\"/>\n",
        "      </g>\n",
        "     </g>\n",
        "    </g>\n",
        "    <g id=\"ytick_2\">\n",
        "     <g id=\"line2d_14\">\n",
        "      <g>\n",
        "       <use style=\"stroke:#000000;stroke-linecap:butt;stroke-width:0.5;\" x=\"38.27125\" xlink:href=\"#mc8fcea1516\" y=\"270.9384375\"/>\n",
        "      </g>\n",
        "     </g>\n",
        "     <g id=\"line2d_15\">\n",
        "      <g>\n",
        "       <use style=\"stroke:#000000;stroke-linecap:butt;stroke-width:0.5;\" x=\"484.67125\" xlink:href=\"#m0d5b0a6425\" y=\"270.9384375\"/>\n",
        "      </g>\n",
        "     </g>\n",
        "     <g id=\"text_7\">\n",
        "      <!-- \u22120.5 -->\n",
        "      <g transform=\"translate(7.45125 275.30625)scale(0.12 -0.12)\">\n",
        "       <use xlink:href=\"#DejaVuSans-2212\"/>\n",
        "       <use x=\"83.7890625\" xlink:href=\"#DejaVuSans-30\"/>\n",
        "       <use x=\"147.412109375\" xlink:href=\"#DejaVuSans-2e\"/>\n",
        "       <use x=\"179.19921875\" xlink:href=\"#DejaVuSans-35\"/>\n",
        "      </g>\n",
        "     </g>\n",
        "    </g>\n",
        "    <g id=\"ytick_3\">\n",
        "     <g id=\"line2d_16\">\n",
        "      <g>\n",
        "       <use style=\"stroke:#000000;stroke-linecap:butt;stroke-width:0.5;\" x=\"38.27125\" xlink:href=\"#mc8fcea1516\" y=\"184.5384375\"/>\n",
        "      </g>\n",
        "     </g>\n",
        "     <g id=\"line2d_17\">\n",
        "      <g>\n",
        "       <use style=\"stroke:#000000;stroke-linecap:butt;stroke-width:0.5;\" x=\"484.67125\" xlink:href=\"#m0d5b0a6425\" y=\"184.5384375\"/>\n",
        "      </g>\n",
        "     </g>\n",
        "     <g id=\"text_8\">\n",
        "      <!-- 0.0 -->\n",
        "      <g transform=\"translate(16.775625 188.90625)scale(0.12 -0.12)\">\n",
        "       <use xlink:href=\"#DejaVuSans-30\"/>\n",
        "       <use x=\"63.623046875\" xlink:href=\"#DejaVuSans-2e\"/>\n",
        "       <use x=\"95.41015625\" xlink:href=\"#DejaVuSans-30\"/>\n",
        "      </g>\n",
        "     </g>\n",
        "    </g>\n",
        "    <g id=\"ytick_4\">\n",
        "     <g id=\"line2d_18\">\n",
        "      <g>\n",
        "       <use style=\"stroke:#000000;stroke-linecap:butt;stroke-width:0.5;\" x=\"38.27125\" xlink:href=\"#mc8fcea1516\" y=\"98.1384375\"/>\n",
        "      </g>\n",
        "     </g>\n",
        "     <g id=\"line2d_19\">\n",
        "      <g>\n",
        "       <use style=\"stroke:#000000;stroke-linecap:butt;stroke-width:0.5;\" x=\"484.67125\" xlink:href=\"#m0d5b0a6425\" y=\"98.1384375\"/>\n",
        "      </g>\n",
        "     </g>\n",
        "     <g id=\"text_9\">\n",
        "      <!-- 0.5 -->\n",
        "      <g transform=\"translate(17.026875 102.50625)scale(0.12 -0.12)\">\n",
        "       <use xlink:href=\"#DejaVuSans-30\"/>\n",
        "       <use x=\"63.623046875\" xlink:href=\"#DejaVuSans-2e\"/>\n",
        "       <use x=\"95.41015625\" xlink:href=\"#DejaVuSans-35\"/>\n",
        "      </g>\n",
        "     </g>\n",
        "    </g>\n",
        "    <g id=\"ytick_5\">\n",
        "     <g id=\"line2d_20\">\n",
        "      <g>\n",
        "       <use style=\"stroke:#000000;stroke-linecap:butt;stroke-width:0.5;\" x=\"38.27125\" xlink:href=\"#mc8fcea1516\" y=\"11.7384375\"/>\n",
        "      </g>\n",
        "     </g>\n",
        "     <g id=\"line2d_21\">\n",
        "      <g>\n",
        "       <use style=\"stroke:#000000;stroke-linecap:butt;stroke-width:0.5;\" x=\"484.67125\" xlink:href=\"#m0d5b0a6425\" y=\"11.7384375\"/>\n",
        "      </g>\n",
        "     </g>\n",
        "     <g id=\"text_10\">\n",
        "      <!-- 1.0 -->\n",
        "      <g transform=\"translate(17.3025 16.10625)scale(0.12 -0.12)\">\n",
        "       <use xlink:href=\"#DejaVuSans-31\"/>\n",
        "       <use x=\"63.623046875\" xlink:href=\"#DejaVuSans-2e\"/>\n",
        "       <use x=\"95.41015625\" xlink:href=\"#DejaVuSans-30\"/>\n",
        "      </g>\n",
        "     </g>\n",
        "    </g>\n",
        "   </g>\n",
        "   <g id=\"patch_3\">\n",
        "    <path d=\"\n",
        "M38.2713 11.7384\n",
        "L484.671 11.7384\" style=\"fill:none;stroke:#000000;\"/>\n",
        "   </g>\n",
        "   <g id=\"patch_4\">\n",
        "    <path d=\"\n",
        "M484.671 357.338\n",
        "L484.671 11.7384\" style=\"fill:none;stroke:#000000;\"/>\n",
        "   </g>\n",
        "   <g id=\"patch_5\">\n",
        "    <path d=\"\n",
        "M38.2713 357.338\n",
        "L484.671 357.338\" style=\"fill:none;stroke:#000000;\"/>\n",
        "   </g>\n",
        "   <g id=\"patch_6\">\n",
        "    <path d=\"\n",
        "M38.2713 357.338\n",
        "L38.2713 11.7384\" style=\"fill:none;stroke:#000000;\"/>\n",
        "   </g>\n",
        "  </g>\n",
        " </g>\n",
        " <defs>\n",
        "  <clipPath id=\"p7241f4fb32\">\n",
        "   <rect height=\"345.6\" width=\"446.4\" x=\"38.27125\" y=\"11.7384375\"/>\n",
        "  </clipPath>\n",
        " </defs>\n",
        "</svg>\n"
       ],
       "text": [
        "Figure(PyObject <matplotlib.figure.Figure object at 0xafe92d0>)"
       ]
      },
      {
       "metadata": {},
       "output_type": "pyout",
       "prompt_number": 111,
       "text": [
        "1-element Array{Any,1}:\n",
        " PyObject <matplotlib.lines.Line2D object at 0xa8a2550>"
       ]
      }
     ],
     "prompt_number": 111
    },
    {
     "cell_type": "markdown",
     "metadata": {},
     "source": [
      "## Code blocks"
     ]
    },
    {
     "cell_type": "markdown",
     "metadata": {},
     "source": [
      "Julia supports two kinds of code blocks. The first is delimited by:"
     ]
    },
    {
     "cell_type": "code",
     "collapsed": false,
     "input": [
      "begin \n",
      "    # and\n",
      "    \"hello\"\n",
      "end"
     ],
     "language": "python",
     "metadata": {},
     "outputs": [
      {
       "metadata": {},
       "output_type": "pyout",
       "prompt_number": 112,
       "text": [
        "\"hello\""
       ]
      }
     ],
     "prompt_number": 112
    },
    {
     "cell_type": "markdown",
     "metadata": {},
     "source": [
      "And the second is delimted by parentheses, with expressions separated by a semi-colon `;` between each expression:"
     ]
    },
    {
     "cell_type": "code",
     "collapsed": false,
     "input": [
      "expression = 1\n",
      "( this = 1; is = 2; println(a[1]); valid = expression )"
     ],
     "language": "python",
     "metadata": {},
     "outputs": [
      {
       "output_type": "stream",
       "stream": "stdout",
       "text": [
        "1.0"
       ]
      },
      {
       "output_type": "stream",
       "stream": "stdout",
       "text": [
        "\n"
       ]
      },
      {
       "metadata": {},
       "output_type": "pyout",
       "prompt_number": 113,
       "text": [
        "1"
       ]
      }
     ],
     "prompt_number": 113
    },
    {
     "cell_type": "markdown",
     "metadata": {},
     "source": [
      "The final expression in a code block determines the resulting value, if any. Code blocking style can be used to great effect "
     ]
    },
    {
     "cell_type": "markdown",
     "metadata": {},
     "source": [
      "## Generated Code\n",
      "\n",
      "Julia provides access to several levels of transformed code between the initial input and the executable, including type-annotated expressions, LLVM Intermediate Representation, and finally the resulting machine code for any function."
     ]
    },
    {
     "cell_type": "code",
     "collapsed": false,
     "input": [
      "function plus(x::Float64, y::Float64)\n",
      "    return x + y\n",
      "end"
     ],
     "language": "python",
     "metadata": {},
     "outputs": [
      {
       "metadata": {},
       "output_type": "pyout",
       "prompt_number": 114,
       "text": [
        "plus (generic function with 1 method)"
       ]
      }
     ],
     "prompt_number": 114
    },
    {
     "cell_type": "code",
     "collapsed": false,
     "input": [
      "code_typed(plus, (Float64, Float64))"
     ],
     "language": "python",
     "metadata": {},
     "outputs": [
      {
       "metadata": {},
       "output_type": "pyout",
       "prompt_number": 115,
       "text": [
        "1-element Array{Any,1}:\n",
        " :($(Expr(:lambda, {:x,:y}, {{},{{:x,Float64,0},{:y,Float64,0}},{}}, quote  # In[114], line 2:\n",
        "        return top(box)(Float64,top(add_float)(x::Float64,y::Float64))::Float64\n",
        "    end)))"
       ]
      }
     ],
     "prompt_number": 115
    },
    {
     "cell_type": "code",
     "collapsed": false,
     "input": [
      "code_llvm(plus, (Float64, Float64))"
     ],
     "language": "python",
     "metadata": {},
     "outputs": [
      {
       "output_type": "stream",
       "stream": "stdout",
       "text": [
        "\n",
        "define double @julia_plus(double, double) {\n",
        "top:\n",
        "  %2 = fadd double %0, %1, !dbg !15456\n",
        "  ret double %2, !dbg !15456\n",
        "}\n"
       ]
      }
     ],
     "prompt_number": 116
    },
    {
     "cell_type": "code",
     "collapsed": false,
     "input": [
      "code_native(plus, (Float64, Float64))"
     ],
     "language": "python",
     "metadata": {},
     "outputs": [
      {
       "output_type": "stream",
       "stream": "stdout",
       "text": [
        "\t.text\n",
        "Filename: In[114]\n",
        "Source line: 2\n",
        "\tpush\tRBP\n",
        "\tmov\tRBP, RSP\n",
        "Source line: 2\n",
        "\tvaddsd\tXMM0, XMM0, XMM1\n",
        "\tpop\tRBP\n",
        "\tret\n"
       ]
      }
     ],
     "prompt_number": 117
    }
   ],
   "metadata": {}
  }
 ]
}