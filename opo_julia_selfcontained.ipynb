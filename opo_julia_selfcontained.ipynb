{
 "metadata": {
  "language": "Julia",
  "name": "",
  "signature": "sha256:4a96a64b13a6d08639f205040048e861882614e89b573e4016137ed5388bdd35"
 },
 "nbformat": 3,
 "nbformat_minor": 0,
 "worksheets": [
  {
   "cells": [
    {
     "cell_type": "code",
     "collapsed": false,
     "input": [
      "#using PyPlot"
     ],
     "language": "python",
     "metadata": {},
     "outputs": [],
     "prompt_number": 1
    },
    {
     "cell_type": "code",
     "collapsed": false,
     "input": [
      "# Dormand-Prince coefficients\n",
      "const dp_coefficients = (5,\n",
      "                         [    0           0          0         0         0        0\n",
      "                              1/5         0          0         0         0        0\n",
      "                              3/40        9/40       0         0         0        0\n",
      "                             44/45      -56/15      32/9       0         0        0\n",
      "                          19372/6561 -25360/2187 64448/6561 -212/729     0        0\n",
      "                           9017/3168   -355/33   46732/5247   49/176 -5103/18656  0\n",
      "                             35/384       0        500/1113  125/192 -2187/6784  11/84],\n",
      "                         # 4th order b-coefficients\n",
      "                         [5179/57600 0 7571/16695 393/640 -92097/339200 187/2100 1/40],\n",
      "                         # 5th order b-coefficients\n",
      "                         [35/384 0 500/1113 125/192 -2187/6784 11/84 0],\n",
      "                         );"
     ],
     "language": "python",
     "metadata": {},
     "outputs": [],
     "prompt_number": 2
    },
    {
     "cell_type": "code",
     "collapsed": false,
     "input": [
      "#using Base.Test\n",
      "#tol = 1e-2\n",
      "#t,y=oderkf((t,y)->[-y[2], y[1]], [1., 2.], [0:.001:2*pi], dp_coefficients...; reltol = 1.0e-5, abstol = 1.0e-8)\n",
      "#ys = hcat(y...).' # convert Vector{Vector{Float}} to Matrix{Float}\n",
      "#@test maximum(abs(ys-[cos(t)-2*sin(t) 2*cos(t)+sin(t)])) < tol"
     ],
     "language": "python",
     "metadata": {},
     "outputs": [],
     "prompt_number": 3
    },
    {
     "cell_type": "code",
     "collapsed": false,
     "input": [
      "fname = \"INPUT\"\n",
      "open(fname,\"r\") do f\n",
      "    for line in eachline(f)\n",
      "        line = strip(replace(line,[',','/'],' '))\n",
      "        (line[1] == '&' || line[1] == '!') && continue\n",
      "        include_string(\"global const \" * uppercase(line))\n",
      "        #println(uppercase(line))\n",
      "    end\n",
      "end"
     ],
     "language": "python",
     "metadata": {},
     "outputs": [],
     "prompt_number": 4
    },
    {
     "cell_type": "code",
     "collapsed": false,
     "input": [
      "global const \u0394X = 2LX/NX\n",
      "global const \u0394Y = 2LY/NY"
     ],
     "language": "python",
     "metadata": {},
     "outputs": [
      {
       "metadata": {},
       "output_type": "pyout",
       "prompt_number": 5,
       "text": [
        "0.5"
       ]
      }
     ],
     "prompt_number": 5
    },
    {
     "cell_type": "code",
     "collapsed": false,
     "input": [
      "# define custom type\n",
      "type Wavefunction{T}\n",
      "    c::Array{T, 2}  #cavity\n",
      "    x::Array{T, 2}  #exciton\n",
      "    \n",
      "    Wavefunction(cav, exc) = new(copy(cav), copy(exc))\n",
      "end"
     ],
     "language": "python",
     "metadata": {},
     "outputs": [],
     "prompt_number": 6
    },
    {
     "cell_type": "code",
     "collapsed": false,
     "input": [
      "# which supports the following operations\n",
      "import Base.norm\n",
      "norm{T}(\u03c8::Wavefunction{T}, p::Float64) = max(Base.norm(\u03c8.c, p), Base.norm(\u03c8.x, p))\n",
      "\n",
      "+{T}(\u03c81::Wavefunction{T}, \u03c82::Wavefunction{T}) = Wavefunction{T}(\u03c81.c + \u03c82.c, \u03c81.x + \u03c82.x)\n",
      "-{T}(\u03c81::Wavefunction{T}, \u03c82::Wavefunction{T}) = Wavefunction{T}(\u03c81.c - \u03c82.c, \u03c81.x - \u03c82.x)\n",
      "\n",
      "*{T}(c::Real, \u03c8::Wavefunction{T}) = Wavefunction{T}(c*\u03c8.c, c*\u03c8.x)\n",
      "*{T}(\u03c8::Wavefunction{T}, c::Real) = c*\u03c8\n",
      "\n",
      "/{T}(\u03c8::Wavefunction{T}, c::Real) = Wavefunction{T}(\u03c8.c/c, \u03c8.x/c)\n",
      "\n",
      "#/{T}(\u03c81::Wavefunction{T}, \u03c82::Wavefunction{T}) = Wavefunction{T}(\u03c81.c ./ \u03c82.c, \u03c81.x ./ \u03c82.x)\n",
      "#+{T}(\u03c8::Wavefunction{T}, c::Float64) = Wavefunction{T}(\u03c8.c .+ c, \u03c8.x .+ c) "
     ],
     "language": "python",
     "metadata": {},
     "outputs": [
      {
       "metadata": {},
       "output_type": "pyout",
       "prompt_number": 7,
       "text": [
        "/ (generic function with 51 methods)"
       ]
      }
     ],
     "prompt_number": 7
    },
    {
     "cell_type": "code",
     "collapsed": false,
     "input": [
      "getidx(pos, len, \u0394) = iround((len + pos)/\u0394) + 1"
     ],
     "language": "python",
     "metadata": {},
     "outputs": [
      {
       "metadata": {},
       "output_type": "pyout",
       "prompt_number": 8,
       "text": [
        "getidx (generic function with 1 method)"
       ]
      }
     ],
     "prompt_number": 8
    },
    {
     "cell_type": "code",
     "collapsed": false,
     "input": [
      "function initpotcav(posx, posy, strength)\n",
      "    ix = getidx(posx, LX, \u0394X)\n",
      "    iy = getidx(posy, LY, \u0394Y)\n",
      "    potential = zeros(NY, NX)\n",
      "    potential[iy, ix] = strength\n",
      "    return potential\n",
      "end\n",
      "global const SY = [-LY+(iy-1)*\u0394Y for iy=1:NY]\n",
      "global const SX = [-LX+(ix-1)*\u0394X for ix=1:NX]'\n",
      "global const potcav = initpotcav(DEF_X_POS, DEF_Y_POS, GV);"
     ],
     "language": "python",
     "metadata": {},
     "outputs": [],
     "prompt_number": 9
    },
    {
     "cell_type": "code",
     "collapsed": false,
     "input": [
      "#pcolor(SX, SY, potcav)\n",
      "#colorbar()"
     ],
     "language": "python",
     "metadata": {},
     "outputs": [],
     "prompt_number": 10
    },
    {
     "cell_type": "code",
     "collapsed": false,
     "input": [
      "function initpump(x, y, ampl, width, kp)\n",
      "    cnorm = sqrt(NX*NY)/256/sqrt(LX*LY)*70\n",
      "    r = sqrt(x .^ 2 .+ y .^ 2)\n",
      "    #top hat pump\n",
      "    0.5 * ampl / cnorm * \n",
      "    (tanh(1/10*(r .+ width)) - tanh(1/10*(r .- width))) .* exp(im*(kp*x .+ zero(kp)*y))\n",
      "end\n",
      "global const pumpspc = initpump(SX, SY, F_P, SIGMA_P, K_P);"
     ],
     "language": "python",
     "metadata": {},
     "outputs": [],
     "prompt_number": 11
    },
    {
     "cell_type": "code",
     "collapsed": false,
     "input": [
      "#pcolor(SX, SY, abs2(pumpspc))\n",
      "#colorbar()"
     ],
     "language": "python",
     "metadata": {},
     "outputs": [],
     "prompt_number": 12
    },
    {
     "cell_type": "code",
     "collapsed": false,
     "input": [
      "#f = [0, 1, ...,   n/2-1,     -n/2, ..., -1] / (d*n)   if n is even\n",
      "#f = [0, 1, ..., (n-1)/2, -(n-1)/2, ..., -1] / (d*n)   if n is odd\n",
      "function fftfreq(n::Int64, d::Float64)\n",
      "    N = fld(n-1,2)\n",
      "    p1 = [0:N]\n",
      "    p2 = [-fld(n,2):-1]\n",
      "    return [p1, p2]/(d*n)\n",
      "end"
     ],
     "language": "python",
     "metadata": {},
     "outputs": [
      {
       "metadata": {},
       "output_type": "pyout",
       "prompt_number": 13,
       "text": [
        "fftfreq (generic function with 1 method)"
       ]
      }
     ],
     "prompt_number": 13
    },
    {
     "cell_type": "code",
     "collapsed": false,
     "input": [
      "global const MOMY = fftshift(fftfreq(NY, \u0394Y/2pi))\n",
      "global const MOMX = fftshift(fftfreq(NX, \u0394X/2pi))'"
     ],
     "language": "python",
     "metadata": {},
     "outputs": [
      {
       "metadata": {},
       "output_type": "pyout",
       "prompt_number": 14,
       "text": [
        "1x80 Array{Float64,2}:\n",
        " -6.28319  -6.12611  -5.96903  \u2026  5.65487  5.81195  5.96903  6.12611"
       ]
      }
     ],
     "prompt_number": 14
    },
    {
     "cell_type": "code",
     "collapsed": false,
     "input": [
      "setkin(kx, ky) = kx .^ 2 .+ ky .^ 2\n",
      "global const kinetic = setkin(MOMX, MOMY);"
     ],
     "language": "python",
     "metadata": {},
     "outputs": [],
     "prompt_number": 15
    },
    {
     "cell_type": "code",
     "collapsed": false,
     "input": [
      "#pcolor(MOMX, MOMY, kinetic)\n",
      "#xlim(MOMX[1], MOMX[end])\n",
      "#ylim(MOMY[1], MOMY[end])\n",
      "#colorbar()"
     ],
     "language": "python",
     "metadata": {},
     "outputs": [],
     "prompt_number": 16
    },
    {
     "cell_type": "markdown",
     "metadata": {},
     "source": [
      "$\\partial_t \\psi_X = -i\\psi_C - \\kappa_X \\psi_X - i\\vert\\psi_X\\vert^2 \\psi_X$\n",
      "\n",
      "$\\partial_t \\psi_C = -i F(x,y)\\exp{[i(k^p_x x+k^p_y y - \\omega_p t)]} -i\\psi_X -i [\\delta - \\Delta -i\\kappa_C]\\psi_C$\n"
     ]
    },
    {
     "cell_type": "code",
     "collapsed": false,
     "input": [
      "# define RHSs of differential equations\n",
      "#params: OMEGA_P, DELTA, KAPPA_C, KAPPA_X, potcav, pumpspc, kinetic\n",
      "#params: \u03c9p, \u03b4, \u03bac, \u03bax, potc, pmpspc, kin\n",
      "function rhs(t::Float64, \u03c8::Wavefunction{Complex{Float64}}, \u03c9p, \u03b4, \u03bac, \u03bax, potc, pmpspc, kin)\n",
      "    #generate the energy dependence of the pump\n",
      "    pump = pmpspc*exp(-im*\u03c9p*t)\n",
      "\n",
      "    #right hand side of the equation of motion\n",
      "    #photon part \n",
      "    d\u03c8c = -im*pump - im*\u03c8.x - (im*\u03b4 + \u03bac)*\u03c8.c\n",
      "    #add a potential to the photon part\n",
      "    d\u03c8c += im*potc .* \u03c8.c\n",
      "    #adding the kinetic energy by means of the FFT\n",
      "    d\u03c8c -= im*fftshift(ifft(kin .* fftshift(fft(\u03c8.c))))\n",
      "    #exciton part\n",
      "    d\u03c8x = -im*\u03c8.c -\u03bax*\u03c8.x - im*abs2(\u03c8.x) .* \u03c8.x/(\u0394X*\u0394Y) \n",
      "    return Wavefunction{Complex{Float64}}(d\u03c8c, d\u03c8x)\n",
      "end"
     ],
     "language": "python",
     "metadata": {},
     "outputs": [
      {
       "metadata": {},
       "output_type": "pyout",
       "prompt_number": 17,
       "text": [
        "rhs (generic function with 1 method)"
       ]
      }
     ],
     "prompt_number": 17
    },
    {
     "cell_type": "code",
     "collapsed": false,
     "input": [
      "# inital conditons\n",
      "\u03c80 = Wavefunction{Complex{Float64}}(zeros(NY, NX), zeros(NY, NX));"
     ],
     "language": "python",
     "metadata": {},
     "outputs": [],
     "prompt_number": 18
    },
    {
     "cell_type": "code",
     "collapsed": false,
     "input": [
      "function oderkf(F, x0, tspan, p, a, bs, bp; reltol = 1.0e-5, abstol = 1.0e-8)\n",
      "    # see p.91 in the Ascher & Petzold reference for more infomation.\n",
      "    pow = 1/p   # use the higher order to estimate the next step size\n",
      "\n",
      "    c = sum(a, 2)   # consistency condition\n",
      "\n",
      "    # Initialization\n",
      "    t = tspan[1]\n",
      "    tfinal = tspan[end]\n",
      "    tdir = sign(tfinal - t)\n",
      "    hmax = abs(tfinal - t)/2.5\n",
      "    hmin = 0.#abs(tfinal - t)/1e9\n",
      "    h = tdir*abs(tfinal - t)/100  # initial guess at a step size\n",
      "    x = x0\n",
      "    tout = t            # first output time\n",
      "    xout = Array(typeof(x0), 1)\n",
      "    xout[1] = x         # first output solution\n",
      "\n",
      "    k = Array(typeof(x0), length(c))\n",
      "    k[1] = F(t,x) # first stage\n",
      "\n",
      "    while abs(t) != abs(tfinal) && abs(h) >= hmin\n",
      "        if abs(h) > abs(tfinal-t)\n",
      "            h = tfinal - t\n",
      "        end\n",
      "\n",
      "        #(p-1)th and pth order estimates\n",
      "        xs = x + h*bs[1]*k[1]\n",
      "        xp = x + h*bp[1]*k[1]\n",
      "        for j = 2:length(c)\n",
      "            dx = a[j,1]*k[1]\n",
      "            for i = 2:j-1\n",
      "                dx += a[j,i]*k[i]\n",
      "            end\n",
      "            k[j] = F(t + h*c[j], x + h*dx)\n",
      "\n",
      "            # compute the (p-1)th order estimate\n",
      "            xs = xs + h*bs[j]*k[j]\n",
      "            # compute the pth order estimate\n",
      "            xp = xp + h*bp[j]*k[j]\n",
      "        end\n",
      "\n",
      "        # estimate the local truncation error\n",
      "        gamma1 = xs - xp\n",
      "\n",
      "        # Estimate the error and the acceptable error\n",
      "        delta = norm(gamma1, Inf)              # actual error\n",
      "        tau   = max(reltol*norm(x,Inf),abstol) # allowable error\n",
      "\n",
      "        # Update the solution only if the error is acceptable\n",
      "        if delta <= tau\n",
      "            t = t + h\n",
      "            @show t, h\n",
      "            x = xp    # <-- using the higher order estimate is called 'local extrapolation'\n",
      "            tout = [tout; t]\n",
      "            push!(xout, x)\n",
      "\n",
      "            # Compute the slopes by computing the k[:,j+1]'th column based on the previous k[:,1:j] columns\n",
      "            # notes: k needs to end up as an Nxs, a is 7x6, which is s by (s-1),\n",
      "            #        s is the number of intermediate RK stages on [t (t+h)] (Dormand-Prince has s=7 stages)\n",
      "            if c[end] == 1\n",
      "                # Assign the last stage for x(k) as the first stage for computing x[k+1].\n",
      "                # This is part of the Dormand-Prince pair caveat.\n",
      "                # k[:,7] has already been computed, so use it instead of recomputing it\n",
      "                # again as k[:,1] during the next step.\n",
      "                k[1] = k[end]\n",
      "            else\n",
      "                k[1] = F(t,x) # first stage\n",
      "            end\n",
      "        end\n",
      "\n",
      "        # Update the step size\n",
      "        h = min(hmax, 0.8*h*(tau/delta)^pow)\n",
      "        \n",
      "    end # while (t < tfinal) & (h >= hmin)\n",
      "\n",
      "    if abs(t) < abs(tfinal)\n",
      "      println(\"Step size grew too small. t=\", t, \", h=\", abs(h))\n",
      "    end\n",
      "\n",
      "    return tout, xout\n",
      "end"
     ],
     "language": "python",
     "metadata": {},
     "outputs": [
      {
       "metadata": {},
       "output_type": "pyout",
       "prompt_number": 19,
       "text": [
        "oderkf (generic function with 1 method)"
       ]
      }
     ],
     "prompt_number": 19
    },
    {
     "cell_type": "code",
     "collapsed": false,
     "input": [
      "# solve ODEs\n",
      "t, psi = oderkf((t, psi)->rhs(t, psi, OMEGA_P, DELTA, KAPPA_C, KAPPA_X, potcav, pumpspc, kinetic), \u03c80, [0., TOT_H],\n",
      "dp_coefficients...; reltol = 1.0e-5, abstol = 1.0e-8);"
     ],
     "language": "python",
     "metadata": {},
     "outputs": [
      {
       "output_type": "stream",
       "stream": "stdout",
       "text": [
        "(t,h) => (1.127052800395897e-61,1.127052800395897e-61)"
       ]
      },
      {
       "output_type": "stream",
       "stream": "stdout",
       "text": [
        "\n",
        "(t,h) => "
       ]
      },
      {
       "output_type": "stream",
       "stream": "stdout",
       "text": [
        "(3.309927992242392e-48,3.30992799224228e-48)\n",
        "(t,h) => "
       ]
      },
      {
       "output_type": "stream",
       "stream": "stdout",
       "text": [
        "(1.9693207301772313e-37,1.969320730144132e-37)\n",
        "(t,h) => "
       ]
      },
      {
       "output_type": "stream",
       "stream": "stdout",
       "text": [
        "(8.354291442279262e-29,8.354291422586055e-29)\n",
        "(t,h) => "
       ]
      },
      {
       "output_type": "stream",
       "stream": "stdout",
       "text": [
        "(6.373537349048963e-22,6.373536513619818e-22)\n",
        "(t,h) => "
       ]
      },
      {
       "output_type": "stream",
       "stream": "stdout",
       "text": [
        "(2.0787450661605297e-16,2.0787386926231806e-16)\n",
        "(t,h) => "
       ]
      },
      {
       "output_type": "stream",
       "stream": "stdout",
       "text": [
        "(5.354011111773766e-12,5.353803237267149e-12)\n",
        "(t,h) => "
       ]
      },
      {
       "output_type": "stream",
       "stream": "stdout",
       "text": [
        "(1.8473587565945813e-8,1.8468233554834038e-8)\n",
        "(t,h) => "
       ]
      },
      {
       "output_type": "stream",
       "stream": "stdout",
       "text": [
        "(1.253413062233349e-5,1.2515657034767545e-5)\n",
        "(t,h) => "
       ]
      },
      {
       "output_type": "stream",
       "stream": "stdout",
       "text": [
        "(0.0021739138254463523,0.002161379694824019)\n",
        "(t,h) => "
       ]
      },
      {
       "output_type": "stream",
       "stream": "stdout",
       "text": [
        "(0.005384202220415549,0.0032102883949691966)\n",
        "(t,h) => "
       ]
      },
      {
       "output_type": "stream",
       "stream": "stdout",
       "text": [
        "(0.011067302344856495,0.005683100124440946)\n",
        "(t,h) => "
       ]
      },
      {
       "output_type": "stream",
       "stream": "stdout",
       "text": [
        "(0.017870901377571743,0.0068035990327152485)\n",
        "(t,h) => "
       ]
      },
      {
       "output_type": "stream",
       "stream": "stdout",
       "text": [
        "(0.02571875581431785,0.007847854436746106)\n",
        "(t,h) => "
       ]
      },
      {
       "output_type": "stream",
       "stream": "stdout",
       "text": [
        "(0.03433864569420925,0.0086198898798914)\n",
        "(t,h) => "
       ]
      },
      {
       "output_type": "stream",
       "stream": "stdout",
       "text": [
        "(0.04358760764936723,0.009248961955157982)\n",
        "(t,h) => "
       ]
      },
      {
       "output_type": "stream",
       "stream": "stdout",
       "text": [
        "(0.05336194207700404,0.009774334427636812)\n",
        "(t,h) => "
       ]
      },
      {
       "output_type": "stream",
       "stream": "stdout",
       "text": [
        "(0.06358358986595387,0.010221647788949833)\n",
        "(t,h) => "
       ]
      },
      {
       "output_type": "stream",
       "stream": "stdout",
       "text": [
        "(0.07418387564966283,0.010600285783708963)\n",
        "(t,h) => "
       ]
      },
      {
       "output_type": "stream",
       "stream": "stdout",
       "text": [
        "(0.085098392940324,0.010914517290661157)\n",
        "(t,h) => "
       ]
      },
      {
       "output_type": "stream",
       "stream": "stdout",
       "text": [
        "(0.09627708986895016,0.011178696928626162)\n",
        "(t,h) => "
       ]
      },
      {
       "output_type": "stream",
       "stream": "stdout",
       "text": [
        "(0.10768231288472013,0.01140522301576997)\n",
        "(t,h) => "
       ]
      },
      {
       "output_type": "stream",
       "stream": "stdout",
       "text": [
        "(0.11927131472035808,0.011589001835637951)\n",
        "(t,h) => "
       ]
      },
      {
       "output_type": "stream",
       "stream": "stdout",
       "text": [
        "(0.1309906953811229,0.011719380660764823)\n",
        "(t,h) => "
       ]
      },
      {
       "output_type": "stream",
       "stream": "stdout",
       "text": [
        "(0.14280054802376152,0.011809852642638627)\n",
        "(t,h) => "
       ]
      },
      {
       "output_type": "stream",
       "stream": "stdout",
       "text": [
        "(0.15467212928826932,0.011871581264507786)\n",
        "(t,h) => "
       ]
      },
      {
       "output_type": "stream",
       "stream": "stdout",
       "text": [
        "(0.16656571247149887,0.011893583183229561)\n",
        "(t,h) => "
       ]
      },
      {
       "output_type": "stream",
       "stream": "stdout",
       "text": [
        "(0.1784316221084006,0.011865909636901746)\n",
        "(t,h) => "
       ]
      },
      {
       "output_type": "stream",
       "stream": "stdout",
       "text": [
        "(0.19026208984158716,0.011830467733186545)\n",
        "(t,h) => "
       ]
      },
      {
       "output_type": "stream",
       "stream": "stdout",
       "text": [
        "(0.20203668706355477,0.01177459722196762)\n",
        "(t,h) => "
       ]
      },
      {
       "output_type": "stream",
       "stream": "stdout",
       "text": [
        "(0.21370852054073544,0.011671833477180664)\n",
        "(t,h) => "
       ]
      },
      {
       "output_type": "stream",
       "stream": "stdout",
       "text": [
        "(0.2252334257353495,0.01152490519461404)\n",
        "(t,h) => "
       ]
      },
      {
       "output_type": "stream",
       "stream": "stdout",
       "text": [
        "(0.23659221740092,0.011358791665570514)\n",
        "(t,h) => "
       ]
      },
      {
       "output_type": "stream",
       "stream": "stdout",
       "text": [
        "(0.2477668386921829,0.011174621291262905)\n",
        "(t,h) => "
       ]
      },
      {
       "output_type": "stream",
       "stream": "stdout",
       "text": [
        "(0.25872755693801697,0.010960718245834077)\n",
        "(t,h) => "
       ]
      },
      {
       "output_type": "stream",
       "stream": "stdout",
       "text": [
        "(0.26945852780548996,0.010730970867473013)\n",
        "(t,h) => "
       ]
      },
      {
       "output_type": "stream",
       "stream": "stdout",
       "text": [
        "(0.27998122311571655,0.010522695310226569)\n",
        "(t,h) => "
       ]
      },
      {
       "output_type": "stream",
       "stream": "stdout",
       "text": [
        "(0.29035176917258326,0.010370546056866735)\n",
        "(t,h) => "
       ]
      },
      {
       "output_type": "stream",
       "stream": "stdout",
       "text": [
        "(0.3006453274488091,0.010293558276225828)\n",
        "(t,h) => "
       ]
      },
      {
       "output_type": "stream",
       "stream": "stdout",
       "text": [
        "(0.3109609086671432,0.010315581218334063)\n",
        "(t,h) => "
       ]
      },
      {
       "output_type": "stream",
       "stream": "stdout",
       "text": [
        "(0.3213986102662107,0.010437701599067472)\n",
        "(t,h) => "
       ]
      },
      {
       "output_type": "stream",
       "stream": "stdout",
       "text": [
        "(0.3320272467078507,0.010628636441640015)\n",
        "(t,h) => "
       ]
      },
      {
       "output_type": "stream",
       "stream": "stdout",
       "text": [
        "(0.3428720170413653,0.010844770333514556)\n",
        "(t,h) => "
       ]
      },
      {
       "output_type": "stream",
       "stream": "stdout",
       "text": [
        "(0.3539342846773614,0.01106226763599613)\n",
        "(t,h) => "
       ]
      },
      {
       "output_type": "stream",
       "stream": "stdout",
       "text": [
        "(0.3652056185908263,0.011271333913464925)\n",
        "(t,h) => "
       ]
      },
      {
       "output_type": "stream",
       "stream": "stdout",
       "text": [
        "(0.3766685684972667,0.01146294990644045)\n",
        "(t,h) => "
       ]
      },
      {
       "output_type": "stream",
       "stream": "stdout",
       "text": [
        "(0.38828737054062895,0.011618802043362254)\n",
        "(t,h) => "
       ]
      },
      {
       "output_type": "stream",
       "stream": "stdout",
       "text": [
        "(0.4000209384772628,0.011733567936633847)\n",
        "(t,h) => "
       ]
      },
      {
       "output_type": "stream",
       "stream": "stdout",
       "text": [
        "(0.4118470926942568,0.011826154216994017)\n",
        "(t,h) => "
       ]
      },
      {
       "output_type": "stream",
       "stream": "stdout",
       "text": [
        "(0.4237365157458112,0.01188942305155443)\n",
        "(t,h) => "
       ]
      },
      {
       "output_type": "stream",
       "stream": "stdout",
       "text": [
        "(0.4356456975919605,0.01190918184614926)\n",
        "(t,h) => "
       ]
      },
      {
       "output_type": "stream",
       "stream": "stdout",
       "text": [
        "(0.4475393311190962,0.011893633527135732)\n",
        "(t,h) => "
       ]
      },
      {
       "output_type": "stream",
       "stream": "stdout",
       "text": [
        "(0.4593899135970828,0.011850582477986583)\n",
        "(t,h) => "
       ]
      },
      {
       "output_type": "stream",
       "stream": "stdout",
       "text": [
        "(0.4711718966407321,0.011781983043649275)\n",
        "(t,h) => "
       ]
      },
      {
       "output_type": "stream",
       "stream": "stdout",
       "text": [
        "(0.4828385255256474,0.011666628884915277)\n",
        "(t,h) => "
       ]
      },
      {
       "output_type": "stream",
       "stream": "stdout",
       "text": [
        "(0.4943528111991056,0.011514285673458238)\n",
        "(t,h) => "
       ]
      },
      {
       "output_type": "stream",
       "stream": "stdout",
       "text": [
        "(0.5056933927518298,0.011340581552724119)\n",
        "(t,h) => "
       ]
      },
      {
       "output_type": "stream",
       "stream": "stdout",
       "text": [
        "(0.5168207078920507,0.011127315140220934)\n",
        "(t,h) => "
       ]
      },
      {
       "output_type": "stream",
       "stream": "stdout",
       "text": [
        "(0.5276939069837356,0.010873199091684962)\n",
        "(t,h) => "
       ]
      },
      {
       "output_type": "stream",
       "stream": "stdout",
       "text": [
        "(0.5382738528637906,0.010579945880054937)\n",
        "(t,h) => "
       ]
      },
      {
       "output_type": "stream",
       "stream": "stdout",
       "text": [
        "(0.5485182738823751,0.010244421018584523)\n",
        "(t,h) => "
       ]
      },
      {
       "output_type": "stream",
       "stream": "stdout",
       "text": [
        "(0.5583686492905066,0.009850375408131525)\n",
        "(t,h) => "
       ]
      },
      {
       "output_type": "stream",
       "stream": "stdout",
       "text": [
        "(0.5677482157873389,0.009379566496832348)\n",
        "(t,h) => "
       ]
      },
      {
       "output_type": "stream",
       "stream": "stdout",
       "text": [
        "(0.5768677971537173,0.009119581366378407)\n",
        "(t,h) => "
       ]
      },
      {
       "output_type": "stream",
       "stream": "stdout",
       "text": [
        "(0.5863729813018395,0.009505184148122167)\n",
        "(t,h) => "
       ]
      },
      {
       "output_type": "stream",
       "stream": "stdout",
       "text": [
        "(0.5962984569260106,0.00992547562417109)\n",
        "(t,h) => "
       ]
      },
      {
       "output_type": "stream",
       "stream": "stdout",
       "text": [
        "(0.6065925574446245,0.010294100518613902)\n",
        "(t,h) => "
       ]
      },
      {
       "output_type": "stream",
       "stream": "stdout",
       "text": [
        "(0.6172238862399495,0.01063132879532505)\n",
        "(t,h) => "
       ]
      },
      {
       "output_type": "stream",
       "stream": "stdout",
       "text": [
        "(0.6281560852088031,0.010932198968853613)\n",
        "(t,h) => "
       ]
      },
      {
       "output_type": "stream",
       "stream": "stdout",
       "text": [
        "(0.6393538916679806,0.011197806459177579)\n",
        "(t,h) => "
       ]
      },
      {
       "output_type": "stream",
       "stream": "stdout",
       "text": [
        "(0.6507778143185785,0.011423922650597839)\n",
        "(t,h) => "
       ]
      },
      {
       "output_type": "stream",
       "stream": "stdout",
       "text": [
        "(0.6623838807237657,0.011606066405187191)\n",
        "(t,h) => "
       ]
      },
      {
       "output_type": "stream",
       "stream": "stdout",
       "text": [
        "(0.6741466056434925,0.011762724919726688)\n",
        "(t,h) => "
       ]
      },
      {
       "output_type": "stream",
       "stream": "stdout",
       "text": [
        "(0.6860356447483233,0.011889039104830851)\n",
        "(t,h) => "
       ]
      },
      {
       "output_type": "stream",
       "stream": "stdout",
       "text": [
        "(0.6980041619497882,0.011968517201464862)\n",
        "(t,h) => "
       ]
      },
      {
       "output_type": "stream",
       "stream": "stdout",
       "text": [
        "(0.7100167435072833,0.0120125815574951)\n",
        "(t,h) => "
       ]
      },
      {
       "output_type": "stream",
       "stream": "stdout",
       "text": [
        "(0.722049424562145,0.012032681054861787)\n",
        "(t,h) => "
       ]
      },
      {
       "output_type": "stream",
       "stream": "stdout",
       "text": [
        "(0.7340729364989323,0.012023511936787318)\n",
        "(t,h) => "
       ]
      },
      {
       "output_type": "stream",
       "stream": "stdout",
       "text": [
        "(0.7460512589514774,0.01197832245254504)\n",
        "(t,h) => "
       ]
      },
      {
       "output_type": "stream",
       "stream": "stdout",
       "text": [
        "(0.7579465544103146,0.011895295458837128)\n",
        "(t,h) => "
       ]
      },
      {
       "output_type": "stream",
       "stream": "stdout",
       "text": [
        "(0.7697441524396342,0.01179759802931963)\n",
        "(t,h) => "
       ]
      },
      {
       "output_type": "stream",
       "stream": "stdout",
       "text": [
        "(0.7814154381151803,0.011671285675546069)\n",
        "(t,h) => "
       ]
      },
      {
       "output_type": "stream",
       "stream": "stdout",
       "text": [
        "(0.792931599577054,0.01151616146187361)\n",
        "(t,h) => "
       ]
      },
      {
       "output_type": "stream",
       "stream": "stdout",
       "text": [
        "(0.8042788710914501,0.011347271514396172)\n",
        "(t,h) => "
       ]
      },
      {
       "output_type": "stream",
       "stream": "stdout",
       "text": [
        "(0.8154473053013349,0.011168434209884805)\n",
        "(t,h) => "
       ]
      },
      {
       "output_type": "stream",
       "stream": "stdout",
       "text": [
        "(0.8264301328558399,0.010982827554504965)\n",
        "(t,h) => "
       ]
      },
      {
       "output_type": "stream",
       "stream": "stdout",
       "text": [
        "(0.837240000264227,0.01080986740838708)\n",
        "(t,h) => "
       ]
      },
      {
       "output_type": "stream",
       "stream": "stdout",
       "text": [
        "(0.8479123056661497,0.010672305401922775)\n",
        "(t,h) => "
       ]
      },
      {
       "output_type": "stream",
       "stream": "stdout",
       "text": [
        "(0.8585011526572848,0.010588846991135053)\n",
        "(t,h) => "
       ]
      },
      {
       "output_type": "stream",
       "stream": "stdout",
       "text": [
        "(0.8690663269395899,0.010565174282305074)\n",
        "(t,h) => "
       ]
      },
      {
       "output_type": "stream",
       "stream": "stdout",
       "text": [
        "(0.8796803072637649,0.01061398032417507)\n",
        "(t,h) => "
       ]
      },
      {
       "output_type": "stream",
       "stream": "stdout",
       "text": [
        "(0.8904210528241748,0.01074074556040996)\n",
        "(t,h) => "
       ]
      },
      {
       "output_type": "stream",
       "stream": "stdout",
       "text": [
        "(0.9013351623840657,0.010914109559890972)\n",
        "(t,h) => "
       ]
      },
      {
       "output_type": "stream",
       "stream": "stdout",
       "text": [
        "(0.9124368468155547,0.011101684431488937)\n",
        "(t,h) => "
       ]
      },
      {
       "output_type": "stream",
       "stream": "stdout",
       "text": [
        "(0.9237168985775587,0.011280051762003996)\n",
        "(t,h) => "
       ]
      },
      {
       "output_type": "stream",
       "stream": "stdout",
       "text": [
        "(0.9351563006761799,0.011439402098621217)\n",
        "(t,h) => "
       ]
      },
      {
       "output_type": "stream",
       "stream": "stdout",
       "text": [
        "(0.946734617033698,0.011578316357518085)\n",
        "(t,h) => "
       ]
      },
      {
       "output_type": "stream",
       "stream": "stdout",
       "text": [
        "(0.9584215236302911,0.0116869065965931)\n",
        "(t,h) => "
       ]
      },
      {
       "output_type": "stream",
       "stream": "stdout",
       "text": [
        "(0.9701828621911164,0.011761338560825292)\n",
        "(t,h) => "
       ]
      },
      {
       "output_type": "stream",
       "stream": "stdout",
       "text": [
        "(0.9819899981630447,0.011807135971928262)\n",
        "(t,h) => "
       ]
      },
      {
       "output_type": "stream",
       "stream": "stdout",
       "text": [
        "(0.9938084079833128,0.0118184098202682)\n",
        "(t,h) => "
       ]
      },
      {
       "output_type": "stream",
       "stream": "stdout",
       "text": [
        "(1.005601557901624,0.01179314991831111)\n",
        "(t,h) => "
       ]
      },
      {
       "output_type": "stream",
       "stream": "stdout",
       "text": [
        "(1.0173367764336068,0.01173521853198288)\n",
        "(t,h) => "
       ]
      },
      {
       "output_type": "stream",
       "stream": "stdout",
       "text": [
        "(1.0289894996558158,0.011652723222209014)\n",
        "(t,h) => "
       ]
      },
      {
       "output_type": "stream",
       "stream": "stdout",
       "text": [
        "(1.0405340081202794,0.011544508464463555)\n",
        "(t,h) => "
       ]
      },
      {
       "output_type": "stream",
       "stream": "stdout",
       "text": [
        "(1.0519339187628125,0.011399910642533097)\n",
        "(t,h) => "
       ]
      },
      {
       "output_type": "stream",
       "stream": "stdout",
       "text": [
        "(1.0631575397226736,0.011223620959861081)\n",
        "(t,h) => "
       ]
      },
      {
       "output_type": "stream",
       "stream": "stdout",
       "text": [
        "(1.0741849016706166,0.011027361947943086)\n",
        "(t,h) => "
       ]
      },
      {
       "output_type": "stream",
       "stream": "stdout",
       "text": [
        "(1.0849931987262655,0.010808297055648947)\n",
        "(t,h) => "
       ]
      },
      {
       "output_type": "stream",
       "stream": "stdout",
       "text": [
        "(1.0955672712855034,0.010574072559237705)\n",
        "(t,h) => "
       ]
      },
      {
       "output_type": "stream",
       "stream": "stdout",
       "text": [
        "(1.105912984605822,0.010345713320318719)\n",
        "(t,h) => "
       ]
      },
      {
       "output_type": "stream",
       "stream": "stdout",
       "text": [
        "(1.116051072576371,0.010138087970548954)\n",
        "(t,h) => "
       ]
      },
      {
       "output_type": "stream",
       "stream": "stdout",
       "text": [
        "(1.1259946270716983,0.009943554495327201)\n",
        "(t,h) => "
       ]
      },
      {
       "output_type": "stream",
       "stream": "stdout",
       "text": [
        "(1.1359170841671287,0.00992245709543036)\n",
        "(t,h) => "
       ]
      },
      {
       "output_type": "stream",
       "stream": "stdout",
       "text": [
        "(1.1460518461203117,0.010134761953183151)\n",
        "(t,h) => "
       ]
      },
      {
       "output_type": "stream",
       "stream": "stdout",
       "text": [
        "(1.1565096053992074,0.01045775927889565)\n",
        "(t,h) => "
       ]
      },
      {
       "output_type": "stream",
       "stream": "stdout",
       "text": [
        "(1.1672737232792145,0.010764117880007158)\n",
        "(t,h) => "
       ]
      },
      {
       "output_type": "stream",
       "stream": "stdout",
       "text": [
        "(1.1783113790368225,0.011037655757608048)\n",
        "(t,h) => "
       ]
      },
      {
       "output_type": "stream",
       "stream": "stdout",
       "text": [
        "(1.1895911420703913,0.011279763033568885)\n",
        "(t,h) => "
       ]
      },
      {
       "output_type": "stream",
       "stream": "stdout",
       "text": [
        "(1.2010858653793526,0.01149472330896124)\n",
        "(t,h) => "
       ]
      },
      {
       "output_type": "stream",
       "stream": "stdout",
       "text": [
        "(1.212769029070978,0.011683163691625495)\n",
        "(t,h) => "
       ]
      },
      {
       "output_type": "stream",
       "stream": "stdout",
       "text": [
        "(1.224612610201279,0.011843581130301135)\n",
        "(t,h) => "
       ]
      },
      {
       "output_type": "stream",
       "stream": "stdout",
       "text": [
        "(1.2365776976426353,0.011965087441356206)\n",
        "(t,h) => "
       ]
      },
      {
       "output_type": "stream",
       "stream": "stdout",
       "text": [
        "(1.2486331820536143,0.012055484410979084)\n",
        "(t,h) => "
       ]
      },
      {
       "output_type": "stream",
       "stream": "stdout",
       "text": [
        "(1.2607439449858577,0.012110762932243335)\n",
        "(t,h) => "
       ]
      },
      {
       "output_type": "stream",
       "stream": "stdout",
       "text": [
        "(1.2728767732655817,0.012132828279723926)\n",
        "(t,h) => "
       ]
      },
      {
       "output_type": "stream",
       "stream": "stdout",
       "text": [
        "(1.2850069285023393,0.012130155236757605)\n",
        "(t,h) => "
       ]
      },
      {
       "output_type": "stream",
       "stream": "stdout",
       "text": [
        "(1.2971075936009016,0.012100665098562204)\n",
        "(t,h) => "
       ]
      },
      {
       "output_type": "stream",
       "stream": "stdout",
       "text": [
        "(1.3091440733193054,0.012036479718403778)\n",
        "(t,h) => "
       ]
      },
      {
       "output_type": "stream",
       "stream": "stdout",
       "text": [
        "(1.3210872813277104,0.011943208008405056)\n",
        "(t,h) => "
       ]
      },
      {
       "output_type": "stream",
       "stream": "stdout",
       "text": [
        "(1.3329141123666988,0.011826831038988326)\n",
        "(t,h) => "
       ]
      },
      {
       "output_type": "stream",
       "stream": "stdout",
       "text": [
        "(1.3446030494585484,0.011688937091849587)\n",
        "(t,h) => "
       ]
      },
      {
       "output_type": "stream",
       "stream": "stdout",
       "text": [
        "(1.356133149094596,0.011530099636047706)\n",
        "(t,h) => "
       ]
      },
      {
       "output_type": "stream",
       "stream": "stdout",
       "text": [
        "(1.3675016559633417,0.011368506868745722)\n",
        "(t,h) => "
       ]
      },
      {
       "output_type": "stream",
       "stream": "stdout",
       "text": [
        "(1.3787196091777427,0.011217953214400996)\n",
        "(t,h) => "
       ]
      },
      {
       "output_type": "stream",
       "stream": "stdout",
       "text": [
        "(1.3898182931236929,0.011098683945950179)\n",
        "(t,h) => "
       ]
      },
      {
       "output_type": "stream",
       "stream": "stdout",
       "text": [
        "(1.4008220732312178,0.011003780107524874)\n",
        "(t,h) => "
       ]
      },
      {
       "output_type": "stream",
       "stream": "stdout",
       "text": [
        "(1.4117543060027833,0.010932232771565608)\n",
        "(t,h) => "
       ]
      },
      {
       "output_type": "stream",
       "stream": "stdout",
       "text": [
        "(1.4226488328018037,0.010894526799020452)\n",
        "(t,h) => "
       ]
      },
      {
       "output_type": "stream",
       "stream": "stdout",
       "text": [
        "(1.4335487018851938,0.010899869083390233)\n",
        "(t,h) => "
       ]
      },
      {
       "output_type": "stream",
       "stream": "stdout",
       "text": [
        "(1.4445043300941018,0.01095562820890812)\n",
        "(t,h) => "
       ]
      },
      {
       "output_type": "stream",
       "stream": "stdout",
       "text": [
        "(1.4555667520277098,0.011062421933607985)\n",
        "(t,h) => "
       ]
      },
      {
       "output_type": "stream",
       "stream": "stdout",
       "text": [
        "(1.4667666588668358,0.01119990683912602)\n",
        "(t,h) => "
       ]
      },
      {
       "output_type": "stream",
       "stream": "stdout",
       "text": [
        "(1.4781205390770873,0.011353880210251546)\n",
        "(t,h) => "
       ]
      },
      {
       "output_type": "stream",
       "stream": "stdout",
       "text": [
        "(1.4896190796477706,0.011498540570683396)\n",
        "(t,h) => "
       ]
      },
      {
       "output_type": "stream",
       "stream": "stdout",
       "text": [
        "(1.5012435078334088,0.011624428185638068)\n",
        "(t,h) => "
       ]
      },
      {
       "output_type": "stream",
       "stream": "stdout",
       "text": [
        "(1.512972785157751,0.01172927732434227)\n",
        "(t,h) => "
       ]
      },
      {
       "output_type": "stream",
       "stream": "stdout",
       "text": [
        "(1.5247761371412045,0.01180335198345357)\n",
        "(t,h) => "
       ]
      },
      {
       "output_type": "stream",
       "stream": "stdout",
       "text": [
        "(1.5366152064073018,0.011839069266097178)\n",
        "(t,h) => "
       ]
      },
      {
       "output_type": "stream",
       "stream": "stdout",
       "text": [
        "(1.5484578203399382,0.01184261393263635)\n",
        "(t,h) => "
       ]
      },
      {
       "output_type": "stream",
       "stream": "stdout",
       "text": [
        "(1.5602757577461694,0.011817937406231206)\n",
        "(t,h) => "
       ]
      },
      {
       "output_type": "stream",
       "stream": "stdout",
       "text": [
        "(1.572036122402905,0.011760364656735446)\n",
        "(t,h) => "
       ]
      },
      {
       "output_type": "stream",
       "stream": "stdout",
       "text": [
        "(1.583708109948913,0.011671987546008046)\n",
        "(t,h) => "
       ]
      },
      {
       "output_type": "stream",
       "stream": "stdout",
       "text": [
        "(1.59526548874265,0.011557378793737036)\n",
        "(t,h) => "
       ]
      },
      {
       "output_type": "stream",
       "stream": "stdout",
       "text": [
        "(1.6066861114696387,0.011420622726988603)\n",
        "(t,h) => "
       ]
      },
      {
       "output_type": "stream",
       "stream": "stdout",
       "text": [
        "(1.617942046378116,0.011255934908477302)\n",
        "(t,h) => "
       ]
      },
      {
       "output_type": "stream",
       "stream": "stdout",
       "text": [
        "(1.6290181813857836,0.011076135007667652)\n",
        "(t,h) => "
       ]
      },
      {
       "output_type": "stream",
       "stream": "stdout",
       "text": [
        "(1.6399270781457753,0.010908896759991644)\n",
        "(t,h) => "
       ]
      },
      {
       "output_type": "stream",
       "stream": "stdout",
       "text": [
        "(1.6506887526011647,0.01076167445538927)\n",
        "(t,h) => "
       ]
      },
      {
       "output_type": "stream",
       "stream": "stdout",
       "text": [
        "(1.661323433102088,0.010634680500923477)\n",
        "(t,h) => "
       ]
      },
      {
       "output_type": "stream",
       "stream": "stdout",
       "text": [
        "(1.6719193182704781,0.010595885168390055)\n",
        "(t,h) => "
       ]
      },
      {
       "output_type": "stream",
       "stream": "stdout",
       "text": [
        "(1.6825310998309007,0.010611781560422627)\n",
        "(t,h) => "
       ]
      },
      {
       "output_type": "stream",
       "stream": "stdout",
       "text": [
        "(1.6931572921503577,0.010626192319457096)\n",
        "(t,h) => "
       ]
      },
      {
       "output_type": "stream",
       "stream": "stdout",
       "text": [
        "(1.703889019431989,0.010731727281631256)\n",
        "(t,h) => "
       ]
      },
      {
       "output_type": "stream",
       "stream": "stdout",
       "text": [
        "(1.7148481394387987,0.010959120006809861)\n",
        "(t,h) => "
       ]
      },
      {
       "output_type": "stream",
       "stream": "stdout",
       "text": [
        "(1.7260374499133153,0.01118931047451668)\n",
        "(t,h) => "
       ]
      },
      {
       "output_type": "stream",
       "stream": "stdout",
       "text": [
        "(1.7374421093111398,0.011404659397824623)\n",
        "(t,h) => "
       ]
      },
      {
       "output_type": "stream",
       "stream": "stdout",
       "text": [
        "(1.7490427826944335,0.011600673383293613)\n",
        "(t,h) => "
       ]
      },
      {
       "output_type": "stream",
       "stream": "stdout",
       "text": [
        "(1.7608193916350492,0.01177660894061567)\n",
        "(t,h) => "
       ]
      },
      {
       "output_type": "stream",
       "stream": "stdout",
       "text": [
        "(1.7727472179572106,0.011927826322161298)\n",
        "(t,h) => "
       ]
      },
      {
       "output_type": "stream",
       "stream": "stdout",
       "text": [
        "(1.7847979417851585,0.012050723827947953)\n",
        "(t,h) => "
       ]
      },
      {
       "output_type": "stream",
       "stream": "stdout",
       "text": [
        "(1.7969438239790412,0.012145882193882686)\n",
        "(t,h) => "
       ]
      },
      {
       "output_type": "stream",
       "stream": "stdout",
       "text": [
        "(1.8091586073428108,0.012214783363769514)\n",
        "(t,h) => "
       ]
      },
      {
       "output_type": "stream",
       "stream": "stdout",
       "text": [
        "(1.8214124701097958,0.012253862766985132)\n",
        "(t,h) => "
       ]
      },
      {
       "output_type": "stream",
       "stream": "stdout",
       "text": [
        "(1.8336711277153808,0.012258657605584942)\n",
        "(t,h) => "
       ]
      },
      {
       "output_type": "stream",
       "stream": "stdout",
       "text": [
        "(1.845903115354107,0.012231987638726296)\n",
        "(t,h) => "
       ]
      },
      {
       "output_type": "stream",
       "stream": "stdout",
       "text": [
        "(1.8580812458943132,0.012178130540206243)\n",
        "(t,h) => "
       ]
      },
      {
       "output_type": "stream",
       "stream": "stdout",
       "text": [
        "(1.8701786576041837,0.012097411709870522)\n",
        "(t,h) => "
       ]
      },
      {
       "output_type": "stream",
       "stream": "stdout",
       "text": [
        "(1.882168800128163,0.01199014252397917)\n",
        "(t,h) => "
       ]
      },
      {
       "output_type": "stream",
       "stream": "stdout",
       "text": [
        "(1.8940311019971792,0.011862301869016276)\n",
        "(t,h) => "
       ]
      },
      {
       "output_type": "stream",
       "stream": "stdout",
       "text": [
        "(1.9057450980828963,0.011713996085716997)\n",
        "(t,h) => "
       ]
      },
      {
       "output_type": "stream",
       "stream": "stdout",
       "text": [
        "(1.9172931257298702,0.01154802764697393)\n",
        "(t,h) => "
       ]
      },
      {
       "output_type": "stream",
       "stream": "stdout",
       "text": [
        "(1.9286773961072867,0.011384270377416463)\n",
        "(t,h) => "
       ]
      },
      {
       "output_type": "stream",
       "stream": "stdout",
       "text": [
        "(1.93991472148973,0.011237325382443267)\n",
        "(t,h) => "
       ]
      },
      {
       "output_type": "stream",
       "stream": "stdout",
       "text": [
        "(1.9510869661672654,0.01117224467753525)\n",
        "(t,h) => "
       ]
      },
      {
       "output_type": "stream",
       "stream": "stdout",
       "text": [
        "(1.9622783783240723,0.011191412156806831)\n",
        "(t,h) => "
       ]
      },
      {
       "output_type": "stream",
       "stream": "stdout",
       "text": [
        "(1.973486480491934,0.01120810216786181)\n",
        "(t,h) => "
       ]
      },
      {
       "output_type": "stream",
       "stream": "stdout",
       "text": [
        "(1.9847148084201711,0.011228327928236982)\n",
        "(t,h) => "
       ]
      },
      {
       "output_type": "stream",
       "stream": "stdout",
       "text": [
        "(1.9959625275059238,0.011247719085752646)\n",
        "(t,h) => "
       ]
      },
      {
       "output_type": "stream",
       "stream": "stdout",
       "text": [
        "(2.007218781073608,0.011256253567684041)\n",
        "(t,h) => "
       ]
      },
      {
       "output_type": "stream",
       "stream": "stdout",
       "text": [
        "(2.0184825172775422,0.011263736203934374)\n",
        "(t,h) => "
       ]
      },
      {
       "output_type": "stream",
       "stream": "stdout",
       "text": [
        "(2.0298046453531935,0.011322128075651293)\n",
        "(t,h) => "
       ]
      },
      {
       "output_type": "stream",
       "stream": "stdout",
       "text": [
        "(2.0412438418013954,0.011439196448202054)\n",
        "(t,h) => "
       ]
      },
      {
       "output_type": "stream",
       "stream": "stdout",
       "text": [
        "(2.0527927720416996,0.011548930240304454)\n",
        "(t,h) => "
       ]
      },
      {
       "output_type": "stream",
       "stream": "stdout",
       "text": [
        "(2.0644396618972403,0.011646889855540807)\n",
        "(t,h) => "
       ]
      },
      {
       "output_type": "stream",
       "stream": "stdout",
       "text": [
        "(2.076162684378082,0.01172302248084149)\n",
        "(t,h) => "
       ]
      },
      {
       "output_type": "stream",
       "stream": "stdout",
       "text": [
        "(2.0879297107048123,0.011767026326730521)\n",
        "(t,h) => "
       ]
      },
      {
       "output_type": "stream",
       "stream": "stdout",
       "text": [
        "(2.0997047003853067,0.011774989680494485)\n",
        "(t,h) => "
       ]
      },
      {
       "output_type": "stream",
       "stream": "stdout",
       "text": [
        "(2.1114617228864354,0.011757022501128537)\n",
        "(t,h) => "
       ]
      },
      {
       "output_type": "stream",
       "stream": "stdout",
       "text": [
        "(2.1231723795393407,0.01171065665290531)\n",
        "(t,h) => "
       ]
      },
      {
       "output_type": "stream",
       "stream": "stdout",
       "text": [
        "(2.134796897829399,0.011624518290058235)\n",
        "(t,h) => "
       ]
      },
      {
       "output_type": "stream",
       "stream": "stdout",
       "text": [
        "(2.146304440832103,0.011507543002704011)\n",
        "(t,h) => "
       ]
      },
      {
       "output_type": "stream",
       "stream": "stdout",
       "text": [
        "(2.1576720057981946,0.011367564966091393)\n",
        "(t,h) => "
       ]
      },
      {
       "output_type": "stream",
       "stream": "stdout",
       "text": [
        "(2.1690146163056356,0.011342610507441082)\n",
        "(t,h) => "
       ]
      },
      {
       "output_type": "stream",
       "stream": "stdout",
       "text": [
        "(2.180362848818978,0.01134823251334226)\n",
        "(t,h) => "
       ]
      },
      {
       "output_type": "stream",
       "stream": "stdout",
       "text": [
        "(2.191715820103951,0.0113529712849731)\n",
        "(t,h) => "
       ]
      },
      {
       "output_type": "stream",
       "stream": "stdout",
       "text": [
        "(2.203078797409512,0.011362977305561043)\n",
        "(t,h) => "
       ]
      },
      {
       "output_type": "stream",
       "stream": "stdout",
       "text": [
        "(2.214450860328718,0.011372062919205866)\n",
        "(t,h) => "
       ]
      },
      {
       "output_type": "stream",
       "stream": "stdout",
       "text": [
        "(2.225829272910734,0.011378412582016143)\n",
        "(t,h) => "
       ]
      },
      {
       "output_type": "stream",
       "stream": "stdout",
       "text": [
        "(2.237215516723649,0.011386243812914903)\n",
        "(t,h) => "
       ]
      },
      {
       "output_type": "stream",
       "stream": "stdout",
       "text": [
        "(2.2486159264340553,0.011400409710405962)\n",
        "(t,h) => "
       ]
      },
      {
       "output_type": "stream",
       "stream": "stdout",
       "text": [
        "(2.2600315950419287,0.011415668607873495)\n",
        "(t,h) => "
       ]
      },
      {
       "output_type": "stream",
       "stream": "stdout",
       "text": [
        "(2.271460067724103,0.01142847268217414)\n",
        "(t,h) => "
       ]
      },
      {
       "output_type": "stream",
       "stream": "stdout",
       "text": [
        "(2.2829042780225084,0.011444210298405567)\n",
        "(t,h) => "
       ]
      },
      {
       "output_type": "stream",
       "stream": "stdout",
       "text": [
        "(2.2944313056882333,0.011527027665724993)\n",
        "(t,h) => "
       ]
      },
      {
       "output_type": "stream",
       "stream": "stdout",
       "text": [
        "(2.30614021070149,0.011708905013256922)\n",
        "(t,h) => "
       ]
      },
      {
       "output_type": "stream",
       "stream": "stdout",
       "text": [
        "(2.3180026618346035,0.01186245113311354)\n",
        "(t,h) => "
       ]
      },
      {
       "output_type": "stream",
       "stream": "stdout",
       "text": [
        "(2.329998434788026,0.011995772953422556)\n",
        "(t,h) => "
       ]
      },
      {
       "output_type": "stream",
       "stream": "stdout",
       "text": [
        "(2.3421064161800267,0.012107981392000899)\n",
        "(t,h) => "
       ]
      },
      {
       "output_type": "stream",
       "stream": "stdout",
       "text": [
        "(2.3542969011881545,0.012190485008127937)\n",
        "(t,h) => "
       ]
      },
      {
       "output_type": "stream",
       "stream": "stdout",
       "text": [
        "(2.3665412073551546,0.012244306167000247)\n",
        "(t,h) => "
       ]
      },
      {
       "output_type": "stream",
       "stream": "stdout",
       "text": [
        "(2.378819652256774,0.012278444901619166)\n",
        "(t,h) => "
       ]
      },
      {
       "output_type": "stream",
       "stream": "stdout",
       "text": [
        "(2.391099844621356,0.012280192364582184)\n",
        "(t,h) => "
       ]
      },
      {
       "output_type": "stream",
       "stream": "stdout",
       "text": [
        "(2.4033394785590425,0.012239633937686668)\n",
        "(t,h) => "
       ]
      },
      {
       "output_type": "stream",
       "stream": "stdout",
       "text": [
        "(2.415507693317152,0.012168214758109403)\n",
        "(t,h) => "
       ]
      },
      {
       "output_type": "stream",
       "stream": "stdout",
       "text": [
        "(2.4275905707843486,0.012082877467196546)\n",
        "(t,h) => "
       ]
      },
      {
       "output_type": "stream",
       "stream": "stdout",
       "text": [
        "(2.439557445406828,0.01196687462247951)\n",
        "(t,h) => "
       ]
      },
      {
       "output_type": "stream",
       "stream": "stdout",
       "text": [
        "(2.451378162042164,0.011820716635335942)\n",
        "(t,h) => "
       ]
      },
      {
       "output_type": "stream",
       "stream": "stdout",
       "text": [
        "(2.4631466069379844,0.011768444895820027)\n",
        "(t,h) => "
       ]
      },
      {
       "output_type": "stream",
       "stream": "stdout",
       "text": [
        "(2.4749425037464743,0.011795896808489711)\n",
        "(t,h) => "
       ]
      },
      {
       "output_type": "stream",
       "stream": "stdout",
       "text": [
        "(2.486752025138164,0.011809521391689845)\n",
        "(t,h) => "
       ]
      },
      {
       "output_type": "stream",
       "stream": "stdout",
       "text": [
        "(2.4985735747059996,0.011821549567835628)\n",
        "(t,h) => "
       ]
      },
      {
       "output_type": "stream",
       "stream": "stdout",
       "text": [
        "(2.510412478997939,0.011838904291939638)\n",
        "(t,h) => "
       ]
      },
      {
       "output_type": "stream",
       "stream": "stdout",
       "text": [
        "(2.5222680905990615,0.011855611601122425)\n",
        "(t,h) => "
       ]
      },
      {
       "output_type": "stream",
       "stream": "stdout",
       "text": [
        "(2.5341361188552853,0.011868028256223918)\n",
        "(t,h) => "
       ]
      },
      {
       "output_type": "stream",
       "stream": "stdout",
       "text": [
        "(2.5460155263088398,0.011879407453554605)\n",
        "(t,h) => "
       ]
      },
      {
       "output_type": "stream",
       "stream": "stdout",
       "text": [
        "(2.5579106259346136,0.011895099625774046)\n",
        "(t,h) => "
       ]
      },
      {
       "output_type": "stream",
       "stream": "stdout",
       "text": [
        "(2.5698165078424475,0.01190588190783405)\n",
        "(t,h) => "
       ]
      },
      {
       "output_type": "stream",
       "stream": "stdout",
       "text": [
        "(2.5817246820191646,0.011908174176716958)\n",
        "(t,h) => "
       ]
      },
      {
       "output_type": "stream",
       "stream": "stdout",
       "text": [
        "(2.593639381345954,0.011914699326789503)\n",
        "(t,h) => "
       ]
      },
      {
       "output_type": "stream",
       "stream": "stdout",
       "text": [
        "(2.605562679091905,0.011923297745950977)\n",
        "(t,h) => "
       ]
      },
      {
       "output_type": "stream",
       "stream": "stdout",
       "text": [
        "(2.617490949076695,0.011928269984790145)\n",
        "(t,h) => "
       ]
      },
      {
       "output_type": "stream",
       "stream": "stdout",
       "text": [
        "(2.6294213116461482,0.011930362569453224)\n",
        "(t,h) => "
       ]
      },
      {
       "output_type": "stream",
       "stream": "stdout",
       "text": [
        "(2.6413565696433863,0.011935257997238085)\n",
        "(t,h) => "
       ]
      },
      {
       "output_type": "stream",
       "stream": "stdout",
       "text": [
        "(2.653299585144799,0.011943015501412527)\n",
        "(t,h) => "
       ]
      },
      {
       "output_type": "stream",
       "stream": "stdout",
       "text": [
        "(2.665243815712876,0.011944230568077238)\n",
        "(t,h) => "
       ]
      },
      {
       "output_type": "stream",
       "stream": "stdout",
       "text": [
        "(2.6771876364205274,0.01194382070765131)\n",
        "(t,h) => "
       ]
      },
      {
       "output_type": "stream",
       "stream": "stdout",
       "text": [
        "(2.689138433385223,0.011950796964695783)\n",
        "(t,h) => "
       ]
      },
      {
       "output_type": "stream",
       "stream": "stdout",
       "text": [
        "(2.7010930134872297,0.011954580102006507)\n",
        "(t,h) => "
       ]
      },
      {
       "output_type": "stream",
       "stream": "stdout",
       "text": [
        "(2.713048093104696,0.0119550796174664)\n",
        "(t,h) => "
       ]
      },
      {
       "output_type": "stream",
       "stream": "stdout",
       "text": [
        "(2.7250050694123646,0.011956976307668675)\n",
        "(t,h) => "
       ]
      },
      {
       "output_type": "stream",
       "stream": "stdout",
       "text": [
        "(2.7369709959008577,0.011965926488492915)\n",
        "(t,h) => "
       ]
      },
      {
       "output_type": "stream",
       "stream": "stdout",
       "text": [
        "(2.748942887386534,0.011971891485676203)\n",
        "(t,h) => "
       ]
      },
      {
       "output_type": "stream",
       "stream": "stdout",
       "text": [
        "(2.7609172293269197,0.011974341940385666)\n",
        "(t,h) => "
       ]
      },
      {
       "output_type": "stream",
       "stream": "stdout",
       "text": [
        "(2.772904727040666,0.011987497713746346)\n",
        "(t,h) => "
       ]
      },
      {
       "output_type": "stream",
       "stream": "stdout",
       "text": [
        "(2.7849047648154217,0.012000037774755615)\n",
        "(t,h) => "
       ]
      },
      {
       "output_type": "stream",
       "stream": "stdout",
       "text": [
        "(2.796910182983201,0.012005418167779495)\n",
        "(t,h) => "
       ]
      },
      {
       "output_type": "stream",
       "stream": "stdout",
       "text": [
        "(2.808923403481634,0.012013220498432762)\n",
        "(t,h) => "
       ]
      },
      {
       "output_type": "stream",
       "stream": "stdout",
       "text": [
        "(2.8209537959024233,0.012030392420789397)\n",
        "(t,h) => "
       ]
      },
      {
       "output_type": "stream",
       "stream": "stdout",
       "text": [
        "(2.8330029457913235,0.012049149888900343)\n",
        "(t,h) => "
       ]
      },
      {
       "output_type": "stream",
       "stream": "stdout",
       "text": [
        "(2.845065635526555,0.012062689735231303)\n",
        "(t,h) => "
       ]
      },
      {
       "output_type": "stream",
       "stream": "stdout",
       "text": [
        "(2.857148035010079,0.01208239948352386)\n",
        "(t,h) => "
       ]
      },
      {
       "output_type": "stream",
       "stream": "stdout",
       "text": [
        "(2.8693783876645607,0.012230352654482012)\n",
        "(t,h) => "
       ]
      },
      {
       "output_type": "stream",
       "stream": "stdout",
       "text": [
        "(2.881738903822309,0.012360516157748221)\n",
        "(t,h) => "
       ]
      },
      {
       "output_type": "stream",
       "stream": "stdout",
       "text": [
        "(2.894204795749578,0.012465891927269079)\n",
        "(t,h) => "
       ]
      },
      {
       "output_type": "stream",
       "stream": "stdout",
       "text": [
        "(2.9067597370902103,0.01255494134063215)\n",
        "(t,h) => "
       ]
      },
      {
       "output_type": "stream",
       "stream": "stdout",
       "text": [
        "(2.9193782191623074,0.012618482072096987)\n",
        "(t,h) => "
       ]
      },
      {
       "output_type": "stream",
       "stream": "stdout",
       "text": [
        "(2.93202629409337,0.012648074931062762)\n",
        "(t,h) => "
       ]
      },
      {
       "output_type": "stream",
       "stream": "stdout",
       "text": [
        "(2.944683858046145,0.01265756395277486)\n",
        "(t,h) => "
       ]
      },
      {
       "output_type": "stream",
       "stream": "stdout",
       "text": [
        "(2.9573327770437063,0.012648918997561152)\n",
        "(t,h) => "
       ]
      },
      {
       "output_type": "stream",
       "stream": "stdout",
       "text": [
        "(2.9699300841682583,0.012597307124551848)\n",
        "(t,h) => "
       ]
      },
      {
       "output_type": "stream",
       "stream": "stdout",
       "text": [
        "(2.9824490440707705,0.012518959902512049)\n",
        "(t,h) => "
       ]
      },
      {
       "output_type": "stream",
       "stream": "stdout",
       "text": [
        "(2.9948768241765205,0.012427780105749837)\n",
        "(t,h) => "
       ]
      },
      {
       "output_type": "stream",
       "stream": "stdout",
       "text": [
        "(3.007218232048538,0.012341407872017514)\n",
        "(t,h) => "
       ]
      },
      {
       "output_type": "stream",
       "stream": "stdout",
       "text": [
        "(3.0195805600281385,0.01236232797960034)\n",
        "(t,h) => "
       ]
      },
      {
       "output_type": "stream",
       "stream": "stdout",
       "text": [
        "(3.031964804443972,0.01238424441583369)\n",
        "(t,h) => "
       ]
      },
      {
       "output_type": "stream",
       "stream": "stdout",
       "text": [
        "(3.0443724968737307,0.012407692429758413)\n",
        "(t,h) => "
       ]
      },
      {
       "output_type": "stream",
       "stream": "stdout",
       "text": [
        "(3.056790858737019,0.012418361863288452)\n",
        "(t,h) => "
       ]
      },
      {
       "output_type": "stream",
       "stream": "stdout",
       "text": [
        "(3.0692172186471454,0.012426359910126066)\n",
        "(t,h) => "
       ]
      },
      {
       "output_type": "stream",
       "stream": "stdout",
       "text": [
        "(3.0816597452551315,0.012442526607986141)\n",
        "(t,h) => "
       ]
      },
      {
       "output_type": "stream",
       "stream": "stdout",
       "text": [
        "(3.0941178267953218,0.012458081540190357)\n",
        "(t,h) => "
       ]
      },
      {
       "output_type": "stream",
       "stream": "stdout",
       "text": [
        "(3.1065873873494065,0.01246956055408469)\n",
        "(t,h) => "
       ]
      },
      {
       "output_type": "stream",
       "stream": "stdout",
       "text": [
        "(3.1190672231436327,0.012479835794226266)\n",
        "(t,h) => "
       ]
      },
      {
       "output_type": "stream",
       "stream": "stdout",
       "text": [
        "(3.131562545626707,0.01249532248307422)\n",
        "(t,h) => "
       ]
      },
      {
       "output_type": "stream",
       "stream": "stdout",
       "text": [
        "(3.144062617143927,0.012500071517219834)\n",
        "(t,h) => "
       ]
      },
      {
       "output_type": "stream",
       "stream": "stdout",
       "text": [
        "(3.156562627177478,0.01250001003355123)\n",
        "(t,h) => "
       ]
      },
      {
       "output_type": "stream",
       "stream": "stdout",
       "text": [
        "(3.1690699102690036,0.01250728309152573)\n",
        "(t,h) => "
       ]
      },
      {
       "output_type": "stream",
       "stream": "stdout",
       "text": [
        "(3.181584828645096,0.012514918376092603)\n",
        "(t,h) => "
       ]
      },
      {
       "output_type": "stream",
       "stream": "stdout",
       "text": [
        "(3.1941027162279356,0.012517887582839468)\n",
        "(t,h) => "
       ]
      },
      {
       "output_type": "stream",
       "stream": "stdout",
       "text": [
        "(3.2066224361783915,0.012519719950455858)\n",
        "(t,h) => "
       ]
      },
      {
       "output_type": "stream",
       "stream": "stdout",
       "text": [
        "(3.219148771085576,0.012526334907184303)\n",
        "(t,h) => "
       ]
      },
      {
       "output_type": "stream",
       "stream": "stdout",
       "text": [
        "(3.231674914558836,0.012526143473260226)\n",
        "(t,h) => "
       ]
      },
      {
       "output_type": "stream",
       "stream": "stdout",
       "text": [
        "(3.244195264155763,0.012520349596927027)\n",
        "(t,h) => "
       ]
      },
      {
       "output_type": "stream",
       "stream": "stdout",
       "text": [
        "(3.256719047111568,0.012523782955804709)\n",
        "(t,h) => "
       ]
      },
      {
       "output_type": "stream",
       "stream": "stdout",
       "text": [
        "(3.2692471594565062,0.0125281123449384)\n",
        "(t,h) => "
       ]
      },
      {
       "output_type": "stream",
       "stream": "stdout",
       "text": [
        "(3.281773966270514,0.012526806814007821)\n",
        "(t,h) => "
       ]
      },
      {
       "output_type": "stream",
       "stream": "stdout",
       "text": [
        "(3.294299583847323,0.01252561757680894)\n",
        "(t,h) => "
       ]
      },
      {
       "output_type": "stream",
       "stream": "stdout",
       "text": [
        "(3.306830997905581,0.012531414058257943)\n",
        "(t,h) => "
       ]
      },
      {
       "output_type": "stream",
       "stream": "stdout",
       "text": [
        "(3.319364626059024,0.012533628153443109)\n",
        "(t,h) => "
       ]
      },
      {
       "output_type": "stream",
       "stream": "stdout",
       "text": [
        "(3.331896355570968,0.012531729511944202)\n",
        "(t,h) => "
       ]
      },
      {
       "output_type": "stream",
       "stream": "stdout",
       "text": [
        "(3.3444368368228146,0.012540481251846385)\n",
        "(t,h) => "
       ]
      },
      {
       "output_type": "stream",
       "stream": "stdout",
       "text": [
        "(3.3569870606236965,0.012550223800881838)\n",
        "(t,h) => "
       ]
      },
      {
       "output_type": "stream",
       "stream": "stdout",
       "text": [
        "(3.3695388336800427,0.012551773056346036)\n",
        "(t,h) => "
       ]
      },
      {
       "output_type": "stream",
       "stream": "stdout",
       "text": [
        "(3.3820973664881926,0.012558532808149872)\n",
        "(t,h) => "
       ]
      },
      {
       "output_type": "stream",
       "stream": "stdout",
       "text": [
        "(3.3946701148299883,0.012572748341795757)\n",
        "(t,h) => "
       ]
      },
      {
       "output_type": "stream",
       "stream": "stdout",
       "text": [
        "(3.4072537965645764,0.012583681734588313)\n",
        "(t,h) => "
       ]
      },
      {
       "output_type": "stream",
       "stream": "stdout",
       "text": [
        "(3.419844296976955,0.01259050041237844)\n",
        "(t,h) => "
       ]
      },
      {
       "output_type": "stream",
       "stream": "stdout",
       "text": [
        "(3.432453841016043,0.012609544039087806)\n",
        "(t,h) => "
       ]
      },
      {
       "output_type": "stream",
       "stream": "stdout",
       "text": [
        "(3.4450830347748806,0.012629193758837845)\n",
        "(t,h) => "
       ]
      },
      {
       "output_type": "stream",
       "stream": "stdout",
       "text": [
        "(3.4577220198116057,0.012638985036724934)\n",
        "(t,h) => "
       ]
      },
      {
       "output_type": "stream",
       "stream": "stdout",
       "text": [
        "(3.4703738486903464,0.012651828878740619)\n",
        "(t,h) => "
       ]
      },
      {
       "output_type": "stream",
       "stream": "stdout",
       "text": [
        "(3.483043506327577,0.01266965763723074)\n",
        "(t,h) => "
       ]
      },
      {
       "output_type": "stream",
       "stream": "stdout",
       "text": [
        "(3.4957234643527855,0.012679958025208446)\n",
        "(t,h) => "
       ]
      },
      {
       "output_type": "stream",
       "stream": "stdout",
       "text": [
        "(3.5084164614390336,0.012692997086248046)\n",
        "(t,h) => "
       ]
      },
      {
       "output_type": "stream",
       "stream": "stdout",
       "text": [
        "(3.521131534922667,0.012715073483633594)\n",
        "(t,h) => "
       ]
      },
      {
       "output_type": "stream",
       "stream": "stdout",
       "text": [
        "(3.533862362807719,0.012730827885052127)\n",
        "(t,h) => "
       ]
      },
      {
       "output_type": "stream",
       "stream": "stdout",
       "text": [
        "(3.546599497020927,0.01273713421320818)\n",
        "(t,h) => "
       ]
      },
      {
       "output_type": "stream",
       "stream": "stdout",
       "text": [
        "(3.559346771905358,0.012747274884430651)\n",
        "(t,h) => "
       ]
      },
      {
       "output_type": "stream",
       "stream": "stdout",
       "text": [
        "(3.5721066973380005,0.012759925432642703)\n",
        "(t,h) => "
       ]
      },
      {
       "output_type": "stream",
       "stream": "stdout",
       "text": [
        "(3.5848714784545157,0.012764781116515269)\n",
        "(t,h) => "
       ]
      },
      {
       "output_type": "stream",
       "stream": "stdout",
       "text": [
        "(3.597643709973539,0.012772231519023701)\n",
        "(t,h) => "
       ]
      },
      {
       "output_type": "stream",
       "stream": "stdout",
       "text": [
        "(3.6104318606160497,0.0127881506425104)\n",
        "(t,h) => "
       ]
      },
      {
       "output_type": "stream",
       "stream": "stdout",
       "text": [
        "(3.6232293086055756,0.012797447989525677)\n",
        "(t,h) => "
       ]
      },
      {
       "output_type": "stream",
       "stream": "stdout",
       "text": [
        "(3.6360228285449656,0.012793519939390065)\n",
        "(t,h) => "
       ]
      },
      {
       "output_type": "stream",
       "stream": "stdout",
       "text": [
        "(3.6488210804523775,0.012798251907411908)\n",
        "(t,h) => "
       ]
      },
      {
       "output_type": "stream",
       "stream": "stdout",
       "text": [
        "(3.661623662379579,0.012802581927201103)\n",
        "(t,h) => "
       ]
      },
      {
       "output_type": "stream",
       "stream": "stdout",
       "text": [
        "(3.6744236147453875,0.012799952365808736)\n",
        "(t,h) => "
       ]
      },
      {
       "output_type": "stream",
       "stream": "stdout",
       "text": [
        "(3.6872230563144472,0.012799441569059973)\n",
        "(t,h) => "
       ]
      },
      {
       "output_type": "stream",
       "stream": "stdout",
       "text": [
        "(3.7000291730253125,0.012806116710865153)\n",
        "(t,h) => "
       ]
      },
      {
       "output_type": "stream",
       "stream": "stdout",
       "text": [
        "(3.712834061617756,0.012804888592443574)\n",
        "(t,h) => "
       ]
      },
      {
       "output_type": "stream",
       "stream": "stdout",
       "text": [
        "(3.725631340275666,0.012797278657909692)\n",
        "(t,h) => "
       ]
      },
      {
       "output_type": "stream",
       "stream": "stdout",
       "text": [
        "(3.7384275178576742,0.012796177582008437)\n",
        "(t,h) => "
       ]
      },
      {
       "output_type": "stream",
       "stream": "stdout",
       "text": [
        "(3.7512166444998605,0.012789126642186125)\n",
        "(t,h) => "
       ]
      },
      {
       "output_type": "stream",
       "stream": "stdout",
       "text": [
        "(3.763994634083145,0.012777989583284488)\n",
        "(t,h) => "
       ]
      },
      {
       "output_type": "stream",
       "stream": "stdout",
       "text": [
        "(3.7767691394885468,0.012774505405401683)\n",
        "(t,h) => "
       ]
      },
      {
       "output_type": "stream",
       "stream": "stdout",
       "text": [
        "(3.789543183888455,0.012774044399908082)\n",
        "(t,h) => "
       ]
      },
      {
       "output_type": "stream",
       "stream": "stdout",
       "text": [
        "(3.802308339855613,0.012765155967158017)\n",
        "(t,h) => "
       ]
      },
      {
       "output_type": "stream",
       "stream": "stdout",
       "text": [
        "(3.815066443026515,0.012758103170902044)\n",
        "(t,h) => "
       ]
      },
      {
       "output_type": "stream",
       "stream": "stdout",
       "text": [
        "(3.827825123614938,0.01275868058842322)\n",
        "(t,h) => "
       ]
      },
      {
       "output_type": "stream",
       "stream": "stdout",
       "text": [
        "(3.8405736835761064,0.012748559961168481)\n",
        "(t,h) => "
       ]
      },
      {
       "output_type": "stream",
       "stream": "stdout",
       "text": [
        "(3.8533120801529908,0.01273839657688429)\n",
        "(t,h) => "
       ]
      },
      {
       "output_type": "stream",
       "stream": "stdout",
       "text": [
        "(3.866050286357218,0.012738206204227222)\n",
        "(t,h) => "
       ]
      },
      {
       "output_type": "stream",
       "stream": "stdout",
       "text": [
        "(3.8787901333271946,0.01273984696997649)\n",
        "(t,h) => "
       ]
      },
      {
       "output_type": "stream",
       "stream": "stdout",
       "text": [
        "(3.8915263466502816,0.012736213323086843)\n",
        "(t,h) => "
       ]
      },
      {
       "output_type": "stream",
       "stream": "stdout",
       "text": [
        "(3.9042626527315107,0.012736306081228931)\n",
        "(t,h) => "
       ]
      },
      {
       "output_type": "stream",
       "stream": "stdout",
       "text": [
        "(3.917007164273711,0.012744511542200136)\n",
        "(t,h) => "
       ]
      },
      {
       "output_type": "stream",
       "stream": "stdout",
       "text": [
        "(3.9297513063847695,0.012744142111058699)\n",
        "(t,h) => "
       ]
      },
      {
       "output_type": "stream",
       "stream": "stdout",
       "text": [
        "(3.942492881121381,0.012741574736611324)\n",
        "(t,h) => "
       ]
      },
      {
       "output_type": "stream",
       "stream": "stdout",
       "text": [
        "(3.9552447274046343,0.012751846283253609)\n",
        "(t,h) => "
       ]
      },
      {
       "output_type": "stream",
       "stream": "stdout",
       "text": [
        "(3.96802463282865,0.012779905424015888)\n",
        "(t,h) => "
       ]
      },
      {
       "output_type": "stream",
       "stream": "stdout",
       "text": [
        "(3.9809090269228067,0.012884394094156626)\n",
        "(t,h) => "
       ]
      },
      {
       "output_type": "stream",
       "stream": "stdout",
       "text": [
        "(3.9938882038353865,0.012979176912579866)\n",
        "(t,h) => "
       ]
      },
      {
       "output_type": "stream",
       "stream": "stdout",
       "text": [
        "(4.006950833224708,0.013062629389321269)\n",
        "(t,h) => "
       ]
      },
      {
       "output_type": "stream",
       "stream": "stdout",
       "text": [
        "(4.020059633421879,0.013108800197171935)\n",
        "(t,h) => "
       ]
      },
      {
       "output_type": "stream",
       "stream": "stdout",
       "text": [
        "(4.033196957944662,0.013137324522782184)\n",
        "(t,h) => "
       ]
      },
      {
       "output_type": "stream",
       "stream": "stdout",
       "text": [
        "(4.046355034277758,0.013158076333096269)\n",
        "(t,h) => "
       ]
      },
      {
       "output_type": "stream",
       "stream": "stdout",
       "text": [
        "(4.059504788823085,0.013149754545327333)\n",
        "(t,h) => "
       ]
      },
      {
       "output_type": "stream",
       "stream": "stdout",
       "text": [
        "(4.0726247257011945,0.013119936878109719)\n",
        "(t,h) => "
       ]
      },
      {
       "output_type": "stream",
       "stream": "stdout",
       "text": [
        "(4.085701052165889,0.013076326464694497)\n",
        "(t,h) => "
       ]
      },
      {
       "output_type": "stream",
       "stream": "stdout",
       "text": [
        "(4.098714337708507,0.013013285542617724)\n",
        "(t,h) => "
       ]
      },
      {
       "output_type": "stream",
       "stream": "stdout",
       "text": [
        "(4.111634434789096,0.012920097080589195)\n",
        "(t,h) => "
       ]
      },
      {
       "output_type": "stream",
       "stream": "stdout",
       "text": [
        "(4.124535883476195,0.012901448687098908)\n",
        "(t,h) => "
       ]
      },
      {
       "output_type": "stream",
       "stream": "stdout",
       "text": [
        "(4.137452036243443,0.012916152767247249)\n",
        "(t,h) => "
       ]
      },
      {
       "output_type": "stream",
       "stream": "stdout",
       "text": [
        "(4.150372499586406,0.012920463342963111)\n",
        "(t,h) => "
       ]
      },
      {
       "output_type": "stream",
       "stream": "stdout",
       "text": [
        "(4.163300158932496,0.012927659346090224)\n",
        "(t,h) => "
       ]
      },
      {
       "output_type": "stream",
       "stream": "stdout",
       "text": [
        "(4.176242210950844,0.012942052018347302)\n",
        "(t,h) => "
       ]
      },
      {
       "output_type": "stream",
       "stream": "stdout",
       "text": [
        "(4.1891955724747065,0.012953361523862965)\n",
        "(t,h) => "
       ]
      },
      {
       "output_type": "stream",
       "stream": "stdout",
       "text": [
        "(4.202146556082295,0.012950983607588612)\n",
        "(t,h) => "
       ]
      },
      {
       "output_type": "stream",
       "stream": "stdout",
       "text": [
        "(4.2151027091821645,0.012956153099869897)\n",
        "(t,h) => "
       ]
      },
      {
       "output_type": "stream",
       "stream": "stdout",
       "text": [
        "(4.228062879180452,0.012960169998288144)\n",
        "(t,h) => "
       ]
      },
      {
       "output_type": "stream",
       "stream": "stdout",
       "text": [
        "(4.24101942526263,0.012956546082178031)\n",
        "(t,h) => "
       ]
      },
      {
       "output_type": "stream",
       "stream": "stdout",
       "text": [
        "(4.253976012960434,0.012956587697804533)\n",
        "(t,h) => "
       ]
      },
      {
       "output_type": "stream",
       "stream": "stdout",
       "text": [
        "(4.2669377697724284,0.012961756811994556)\n",
        "(t,h) => "
       ]
      },
      {
       "output_type": "stream",
       "stream": "stdout",
       "text": [
        "(4.279899883047202,0.012962113274773823)\n",
        "(t,h) => "
       ]
      },
      {
       "output_type": "stream",
       "stream": "stdout",
       "text": [
        "(4.292854536010362,0.012954652963159754)\n",
        "(t,h) => "
       ]
      },
      {
       "output_type": "stream",
       "stream": "stdout",
       "text": [
        "(4.305811528306054,0.012956992295692804)\n",
        "(t,h) => "
       ]
      },
      {
       "output_type": "stream",
       "stream": "stdout",
       "text": [
        "(4.318763407227452,0.012951878921397816)\n",
        "(t,h) => "
       ]
      },
      {
       "output_type": "stream",
       "stream": "stdout",
       "text": [
        "(4.33170708521933,0.012943677991877485)\n",
        "(t,h) => "
       ]
      },
      {
       "output_type": "stream",
       "stream": "stdout",
       "text": [
        "(4.34464964507115,0.01294255985182013)\n",
        "(t,h) => "
       ]
      },
      {
       "output_type": "stream",
       "stream": "stdout",
       "text": [
        "(4.357592744826301,0.012943099755151436)\n",
        "(t,h) => "
       ]
      },
      {
       "output_type": "stream",
       "stream": "stdout",
       "text": [
        "(4.37053352759848,0.012940782772178456)\n",
        "(t,h) => "
       ]
      },
      {
       "output_type": "stream",
       "stream": "stdout",
       "text": [
        "(4.383469823112631,0.012936295514151718)\n",
        "(t,h) => "
       ]
      },
      {
       "output_type": "stream",
       "stream": "stdout",
       "text": [
        "(4.3964100442877845,0.01294022117515345)\n",
        "(t,h) => "
       ]
      },
      {
       "output_type": "stream",
       "stream": "stdout",
       "text": [
        "(4.40934564966595,0.012935605378166388)\n",
        "(t,h) => "
       ]
      },
      {
       "output_type": "stream",
       "stream": "stdout",
       "text": [
        "(4.42227898808059,0.012933338414640026)\n",
        "(t,h) => "
       ]
      },
      {
       "output_type": "stream",
       "stream": "stdout",
       "text": [
        "(4.435218213083546,0.012939225002955987)\n",
        "(t,h) => "
       ]
      },
      {
       "output_type": "stream",
       "stream": "stdout",
       "text": [
        "(4.448165345742565,0.012947132659018465)\n",
        "(t,h) => "
       ]
      },
      {
       "output_type": "stream",
       "stream": "stdout",
       "text": [
        "(4.461117086490065,0.012951740747500199)\n",
        "(t,h) => "
       ]
      },
      {
       "output_type": "stream",
       "stream": "stdout",
       "text": [
        "(4.4740749839712635,0.01295789748119915)\n",
        "(t,h) => "
       ]
      },
      {
       "output_type": "stream",
       "stream": "stdout",
       "text": [
        "(4.487046739463067,0.012971755491804045)\n",
        "(t,h) => "
       ]
      },
      {
       "output_type": "stream",
       "stream": "stdout",
       "text": [
        "(4.500023516239333,0.012976776776265818)\n",
        "(t,h) => "
       ]
      },
      {
       "output_type": "stream",
       "stream": "stdout",
       "text": [
        "(4.513007221343262,0.012983705103929266)\n",
        "(t,h) => "
       ]
      },
      {
       "output_type": "stream",
       "stream": "stdout",
       "text": [
        "(4.526050304379344,0.013043083036081418)\n",
        "(t,h) => "
       ]
      },
      {
       "output_type": "stream",
       "stream": "stdout",
       "text": [
        "(4.539157513407568,0.013107209028225151)\n",
        "(t,h) => "
       ]
      },
      {
       "output_type": "stream",
       "stream": "stdout",
       "text": [
        "(4.552316341742544,0.013158828334975075)\n",
        "(t,h) => "
       ]
      },
      {
       "output_type": "stream",
       "stream": "stdout",
       "text": [
        "(4.565513656080634,0.013197314338090183)\n",
        "(t,h) => "
       ]
      },
      {
       "output_type": "stream",
       "stream": "stdout",
       "text": [
        "(4.578732989650034,0.013219333569399912)\n",
        "(t,h) => "
       ]
      },
      {
       "output_type": "stream",
       "stream": "stdout",
       "text": [
        "(4.591953214293877,0.013220224643842367)\n",
        "(t,h) => "
       ]
      },
      {
       "output_type": "stream",
       "stream": "stdout",
       "text": [
        "(4.605163881324872,0.013210667030994534)\n",
        "(t,h) => "
       ]
      },
      {
       "output_type": "stream",
       "stream": "stdout",
       "text": [
        "(4.6183505008169,0.013186619492028512)\n",
        "(t,h) => "
       ]
      },
      {
       "output_type": "stream",
       "stream": "stdout",
       "text": [
        "(4.631491439579174,0.013140938762274158)\n",
        "(t,h) => "
       ]
      },
      {
       "output_type": "stream",
       "stream": "stdout",
       "text": [
        "(4.644617391852451,0.013125952273276679)\n",
        "(t,h) => "
       ]
      },
      {
       "output_type": "stream",
       "stream": "stdout",
       "text": [
        "(4.657758951096365,0.013141559243913224)\n",
        "(t,h) => "
       ]
      },
      {
       "output_type": "stream",
       "stream": "stdout",
       "text": [
        "(4.670910481742576,0.013151530646211539)\n",
        "(t,h) => "
       ]
      },
      {
       "output_type": "stream",
       "stream": "stdout",
       "text": [
        "(4.684069570230636,0.013159088488060066)\n",
        "(t,h) => "
       ]
      },
      {
       "output_type": "stream",
       "stream": "stdout",
       "text": [
        "(4.6972396734301265,0.013170103199490328)\n",
        "(t,h) => "
       ]
      },
      {
       "output_type": "stream",
       "stream": "stdout",
       "text": [
        "(4.710417432494492,0.013177759064366213)\n",
        "(t,h) => "
       ]
      },
      {
       "output_type": "stream",
       "stream": "stdout",
       "text": [
        "(4.7236007315963455,0.01318329910185304)\n",
        "(t,h) => "
       ]
      },
      {
       "output_type": "stream",
       "stream": "stdout",
       "text": [
        "(4.736793751184715,0.0131930195883695)\n",
        "(t,h) => "
       ]
      },
      {
       "output_type": "stream",
       "stream": "stdout",
       "text": [
        "(4.7499962712010495,0.013202520016334554)\n",
        "(t,h) => "
       ]
      },
      {
       "output_type": "stream",
       "stream": "stdout",
       "text": [
        "(4.763199742487099,0.013203471286049026)\n",
        "(t,h) => "
       ]
      },
      {
       "output_type": "stream",
       "stream": "stdout",
       "text": [
        "(4.77640256070116,0.013202818214061832)\n",
        "(t,h) => "
       ]
      },
      {
       "output_type": "stream",
       "stream": "stdout",
       "text": [
        "(4.78960843700235,0.013205876301190403)\n",
        "(t,h) => "
       ]
      },
      {
       "output_type": "stream",
       "stream": "stdout",
       "text": [
        "(4.802813162828415,0.013204725826064904)\n",
        "(t,h) => "
       ]
      },
      {
       "output_type": "stream",
       "stream": "stdout",
       "text": [
        "(4.81601560540389,0.013202442575475067)\n",
        "(t,h) => "
       ]
      },
      {
       "output_type": "stream",
       "stream": "stdout",
       "text": [
        "(4.829220149439953,0.013204544036062985)\n",
        "(t,h) => "
       ]
      },
      {
       "output_type": "stream",
       "stream": "stdout",
       "text": [
        "(4.842425258673785,0.013205109233832014)\n",
        "(t,h) => "
       ]
      },
      {
       "output_type": "stream",
       "stream": "stdout",
       "text": [
        "(4.855625686676274,0.013200428002488622)\n",
        "(t,h) => "
       ]
      },
      {
       "output_type": "stream",
       "stream": "stdout",
       "text": [
        "(4.868823700823588,0.013198014147314918)\n",
        "(t,h) => "
       ]
      },
      {
       "output_type": "stream",
       "stream": "stdout",
       "text": [
        "(4.882022477524471,0.013198776700881962)\n",
        "(t,h) => "
       ]
      },
      {
       "output_type": "stream",
       "stream": "stdout",
       "text": [
        "(4.895215554234718,0.013193076710247276)\n",
        "(t,h) => "
       ]
      },
      {
       "output_type": "stream",
       "stream": "stdout",
       "text": [
        "(4.908404610582696,0.013189056347978026)\n",
        "(t,h) => "
       ]
      },
      {
       "output_type": "stream",
       "stream": "stdout",
       "text": [
        "(4.921596117718402,0.013191507135706042)\n",
        "(t,h) => "
       ]
      },
      {
       "output_type": "stream",
       "stream": "stdout",
       "text": [
        "(4.934786655853607,0.013190538135204532)\n",
        "(t,h) => "
       ]
      },
      {
       "output_type": "stream",
       "stream": "stdout",
       "text": [
        "(4.947975076741667,0.013188420888059766)\n",
        "(t,h) => "
       ]
      },
      {
       "output_type": "stream",
       "stream": "stdout",
       "text": [
        "(4.961166972364641,0.013191895622973588)\n",
        "(t,h) => "
       ]
      },
      {
       "output_type": "stream",
       "stream": "stdout",
       "text": [
        "(4.9743593909834525,0.013192418618811824)\n",
        "(t,h) => "
       ]
      },
      {
       "output_type": "stream",
       "stream": "stdout",
       "text": [
        "(4.98755018731573,0.013190796332277542)\n",
        "(t,h) => "
       ]
      },
      {
       "output_type": "stream",
       "stream": "stdout",
       "text": [
        "(5.000747636061098,0.013197448745367962)\n",
        "(t,h) => "
       ]
      },
      {
       "output_type": "stream",
       "stream": "stdout",
       "text": [
        "(5.013953817870774,0.013206181809675923)\n",
        "(t,h) => "
       ]
      },
      {
       "output_type": "stream",
       "stream": "stdout",
       "text": [
        "(5.027164541452087,0.01321072358131275)\n",
        "(t,h) => "
       ]
      },
      {
       "output_type": "stream",
       "stream": "stdout",
       "text": [
        "(5.040387010679457,0.013222469227370984)\n",
        "(t,h) => "
       ]
      },
      {
       "output_type": "stream",
       "stream": "stdout",
       "text": [
        "(5.053623553788995,0.013236543109537634)\n",
        "(t,h) => "
       ]
      },
      {
       "output_type": "stream",
       "stream": "stdout",
       "text": [
        "(5.066867031546264,0.01324347775726865)\n",
        "(t,h) => "
       ]
      },
      {
       "output_type": "stream",
       "stream": "stdout",
       "text": [
        "(5.080119345312257,0.013252313765992894)\n",
        "(t,h) => "
       ]
      },
      {
       "output_type": "stream",
       "stream": "stdout",
       "text": [
        "(5.0933874902535,0.013268144941243338)\n",
        "(t,h) => "
       ]
      },
      {
       "output_type": "stream",
       "stream": "stdout",
       "text": [
        "(5.106668446316031,0.013280956062531402)\n",
        "(t,h) => "
       ]
      },
      {
       "output_type": "stream",
       "stream": "stdout",
       "text": [
        "(5.119962393946881,0.01329394763084944)\n",
        "(t,h) => "
       ]
      },
      {
       "output_type": "stream",
       "stream": "stdout",
       "text": [
        "(5.133276279483253,0.013313885536372791)\n",
        "(t,h) => "
       ]
      },
      {
       "output_type": "stream",
       "stream": "stdout",
       "text": [
        "(5.1466055967370625,0.013329317253809436)\n",
        "(t,h) => "
       ]
      },
      {
       "output_type": "stream",
       "stream": "stdout",
       "text": [
        "(5.159942088890723,0.013336492153661034)\n",
        "(t,h) => "
       ]
      },
      {
       "output_type": "stream",
       "stream": "stdout",
       "text": [
        "(5.173292241000083,0.01335015210935978)\n",
        "(t,h) => "
       ]
      },
      {
       "output_type": "stream",
       "stream": "stdout",
       "text": [
        "(5.186657774141993,0.013365533141909868)\n",
        "(t,h) => "
       ]
      },
      {
       "output_type": "stream",
       "stream": "stdout",
       "text": [
        "(5.200032601286749,0.013374827144756166)\n",
        "(t,h) => "
       ]
      },
      {
       "output_type": "stream",
       "stream": "stdout",
       "text": [
        "(5.213420404538732,0.013387803251983407)\n",
        "(t,h) => "
       ]
      },
      {
       "output_type": "stream",
       "stream": "stdout",
       "text": [
        "(5.22682310579988,0.013402701261148542)\n",
        "(t,h) => "
       ]
      },
      {
       "output_type": "stream",
       "stream": "stdout",
       "text": [
        "(5.24023075086149,0.013407645061609809)\n",
        "(t,h) => "
       ]
      },
      {
       "output_type": "stream",
       "stream": "stdout",
       "text": [
        "(5.253642909134012,0.013412158272521875)\n",
        "(t,h) => "
       ]
      },
      {
       "output_type": "stream",
       "stream": "stdout",
       "text": [
        "(5.2670649106280445,0.013422001494032667)\n",
        "(t,h) => "
       ]
      },
      {
       "output_type": "stream",
       "stream": "stdout",
       "text": [
        "(5.280490394133849,0.013425483505804421)\n",
        "(t,h) => "
       ]
      },
      {
       "output_type": "stream",
       "stream": "stdout",
       "text": [
        "(5.293916994915524,0.013426600781674802)\n",
        "(t,h) => "
       ]
      },
      {
       "output_type": "stream",
       "stream": "stdout",
       "text": [
        "(5.30735212059926,0.0134351256837368)\n",
        "(t,h) => "
       ]
      },
      {
       "output_type": "stream",
       "stream": "stdout",
       "text": [
        "(5.320793146990344,0.013441026391083261)\n",
        "(t,h) => "
       ]
      },
      {
       "output_type": "stream",
       "stream": "stdout",
       "text": [
        "(5.33423012002226,0.013436973031916785)\n",
        "(t,h) => "
       ]
      },
      {
       "output_type": "stream",
       "stream": "stdout",
       "text": [
        "(5.347668410428288,0.013438290406028116)\n",
        "(t,h) => "
       ]
      },
      {
       "output_type": "stream",
       "stream": "stdout",
       "text": [
        "(5.361107033167106,0.013438622738817962)\n",
        "(t,h) => "
       ]
      },
      {
       "output_type": "stream",
       "stream": "stdout",
       "text": [
        "(5.374539623951324,0.013432590784218136)\n",
        "(t,h) => "
       ]
      },
      {
       "output_type": "stream",
       "stream": "stdout",
       "text": [
        "(5.387969183061067,0.013429559109742582)\n",
        "(t,h) => "
       ]
      },
      {
       "output_type": "stream",
       "stream": "stdout",
       "text": [
        "(5.401399629255463,0.013430446194396768)\n",
        "(t,h) => "
       ]
      },
      {
       "output_type": "stream",
       "stream": "stdout",
       "text": [
        "(5.414824476549231,0.01342484729376759)\n",
        "(t,h) => "
       ]
      },
      {
       "output_type": "stream",
       "stream": "stdout",
       "text": [
        "(5.428243551521916,0.013419074972685657)\n",
        "(t,h) => "
       ]
      },
      {
       "output_type": "stream",
       "stream": "stdout",
       "text": [
        "(5.4416642109324505,0.013420659410534027)\n",
        "(t,h) => "
       ]
      },
      {
       "output_type": "stream",
       "stream": "stdout",
       "text": [
        "(5.4550771348060385,0.013412923873588205)\n",
        "(t,h) => "
       ]
      },
      {
       "output_type": "stream",
       "stream": "stdout",
       "text": [
        "(5.468478956534292,0.013401821728253334)\n",
        "(t,h) => "
       ]
      },
      {
       "output_type": "stream",
       "stream": "stdout",
       "text": [
        "(5.481879364059273,0.013400407524980396)\n",
        "(t,h) => "
       ]
      },
      {
       "output_type": "stream",
       "stream": "stdout",
       "text": [
        "(5.495278211399253,0.01339884733998024)\n",
        "(t,h) => "
       ]
      },
      {
       "output_type": "stream",
       "stream": "stdout",
       "text": [
        "(5.508669702497551,0.013391491098298356)\n",
        "(t,h) => "
       ]
      },
      {
       "output_type": "stream",
       "stream": "stdout",
       "text": [
        "(5.5220636927485485,0.013393990250997835)\n",
        "(t,h) => "
       ]
      },
      {
       "output_type": "stream",
       "stream": "stdout",
       "text": [
        "(5.535459222117592,0.013395529369043818)\n",
        "(t,h) => "
       ]
      },
      {
       "output_type": "stream",
       "stream": "stdout",
       "text": [
        "(5.548845130349115,0.01338590823152269)\n",
        "(t,h) => "
       ]
      },
      {
       "output_type": "stream",
       "stream": "stdout",
       "text": [
        "(5.5622281691441335,0.013383038795019144)\n",
        "(t,h) => "
       ]
      },
      {
       "output_type": "stream",
       "stream": "stdout",
       "text": [
        "(5.575616441110386,0.01338827196625221)\n",
        "(t,h) => "
       ]
      },
      {
       "output_type": "stream",
       "stream": "stdout",
       "text": [
        "(5.589005921379545,0.013389480269159449)\n",
        "(t,h) => "
       ]
      },
      {
       "output_type": "stream",
       "stream": "stdout",
       "text": [
        "(5.602398021607638,0.013392100228093283)\n",
        "(t,h) => "
       ]
      },
      {
       "output_type": "stream",
       "stream": "stdout",
       "text": [
        "(5.615801992856972,0.013403971249334084)\n",
        "(t,h) => "
       ]
      },
      {
       "output_type": "stream",
       "stream": "stdout",
       "text": [
        "(5.629208834954147,0.013406842097174965)\n",
        "(t,h) => "
       ]
      },
      {
       "output_type": "stream",
       "stream": "stdout",
       "text": [
        "(5.642614678229635,0.01340584327548814)\n",
        "(t,h) => "
       ]
      },
      {
       "output_type": "stream",
       "stream": "stdout",
       "text": [
        "(5.656028130282252,0.013413452052616305)\n",
        "(t,h) => "
       ]
      },
      {
       "output_type": "stream",
       "stream": "stdout",
       "text": [
        "(5.669450993743463,0.013422863461211474)\n",
        "(t,h) => "
       ]
      },
      {
       "output_type": "stream",
       "stream": "stdout",
       "text": [
        "(5.68287972635376,0.013428732610297109)\n",
        "(t,h) => "
       ]
      },
      {
       "output_type": "stream",
       "stream": "stdout",
       "text": [
        "(5.6963202773019095,0.013440550948149128)\n",
        "(t,h) => "
       ]
      },
      {
       "output_type": "stream",
       "stream": "stdout",
       "text": [
        "(5.709771509902776,0.013451232600866697)\n",
        "(t,h) => "
       ]
      },
      {
       "output_type": "stream",
       "stream": "stdout",
       "text": [
        "(5.723222511644364,0.013451001741588035)\n",
        "(t,h) => "
       ]
      },
      {
       "output_type": "stream",
       "stream": "stdout",
       "text": [
        "(5.736678020458581,0.013455508814216716)\n",
        "(t,h) => "
       ]
      },
      {
       "output_type": "stream",
       "stream": "stdout",
       "text": [
        "(5.750142081569167,0.013464061110585967)\n",
        "(t,h) => "
       ]
      },
      {
       "output_type": "stream",
       "stream": "stdout",
       "text": [
        "(5.763610200291904,0.01346811872273686)\n",
        "(t,h) => "
       ]
      },
      {
       "output_type": "stream",
       "stream": "stdout",
       "text": [
        "(5.777081219004089,0.013471018712185277)\n",
        "(t,h) => "
       ]
      },
      {
       "output_type": "stream",
       "stream": "stdout",
       "text": [
        "(5.790562950204235,0.013481731200145753)\n",
        "(t,h) => "
       ]
      },
      {
       "output_type": "stream",
       "stream": "stdout",
       "text": [
        "(5.804048111750374,0.013485161546139102)\n",
        "(t,h) => "
       ]
      },
      {
       "output_type": "stream",
       "stream": "stdout",
       "text": [
        "(5.817527123593601,0.013479011843227282)\n",
        "(t,h) => "
       ]
      },
      {
       "output_type": "stream",
       "stream": "stdout",
       "text": [
        "(5.83100947424337,0.013482350649768228)\n",
        "(t,h) => "
       ]
      },
      {
       "output_type": "stream",
       "stream": "stdout",
       "text": [
        "(5.844493288222809,0.013483813979439239)\n",
        "(t,h) => "
       ]
      },
      {
       "output_type": "stream",
       "stream": "stdout",
       "text": [
        "(5.8579703767476925,0.01347708852488374)\n",
        "(t,h) => "
       ]
      },
      {
       "output_type": "stream",
       "stream": "stdout",
       "text": [
        "(5.871447083424137,0.013476706676444263)\n",
        "(t,h) => "
       ]
      },
      {
       "output_type": "stream",
       "stream": "stdout",
       "text": [
        "(5.8849256723017636,0.013478588877626492)\n",
        "(t,h) => "
       ]
      },
      {
       "output_type": "stream",
       "stream": "stdout",
       "text": [
        "(5.89839579551209,0.013470123210326139)\n",
        "(t,h) => "
       ]
      },
      {
       "output_type": "stream",
       "stream": "stdout",
       "text": [
        "(5.911861364365164,0.013465568853073652)\n",
        "(t,h) => "
       ]
      },
      {
       "output_type": "stream",
       "stream": "stdout",
       "text": [
        "(5.9253283228595,0.013466958494336935)\n",
        "(t,h) => "
       ]
      },
      {
       "output_type": "stream",
       "stream": "stdout",
       "text": [
        "(5.938786748664534,0.013458425805034195)\n",
        "(t,h) => "
       ]
      },
      {
       "output_type": "stream",
       "stream": "stdout",
       "text": [
        "(5.952233959981771,0.01344721131723651)\n",
        "(t,h) => "
       ]
      },
      {
       "output_type": "stream",
       "stream": "stdout",
       "text": [
        "(5.965680043142975,0.013446083161204358)\n",
        "(t,h) => "
       ]
      },
      {
       "output_type": "stream",
       "stream": "stdout",
       "text": [
        "(5.9791205926092745,0.01344054946629915)\n",
        "(t,h) => "
       ]
      },
      {
       "output_type": "stream",
       "stream": "stdout",
       "text": [
        "(5.992550527618858,0.01342993500958414)\n",
        "(t,h) => "
       ]
      },
      {
       "output_type": "stream",
       "stream": "stdout",
       "text": [
        "(6.005981465381454,0.013430937762594776)\n",
        "(t,h) => "
       ]
      },
      {
       "output_type": "stream",
       "stream": "stdout",
       "text": [
        "(6.0194075516206285,0.013426086239174637)\n",
        "(t,h) => "
       ]
      },
      {
       "output_type": "stream",
       "stream": "stdout",
       "text": [
        "(6.03282047599737,0.013412924376740985)\n",
        "(t,h) => "
       ]
      },
      {
       "output_type": "stream",
       "stream": "stdout",
       "text": [
        "(6.046230488900976,0.013410012903606569)\n",
        "(t,h) => "
       ]
      },
      {
       "output_type": "stream",
       "stream": "stdout",
       "text": [
        "(6.059641818065639,0.013411329164663451)\n",
        "(t,h) => "
       ]
      },
      {
       "output_type": "stream",
       "stream": "stdout",
       "text": [
        "(6.073049666076348,0.013407848010708757)\n",
        "(t,h) => "
       ]
      },
      {
       "output_type": "stream",
       "stream": "stdout",
       "text": [
        "(6.086458559684554,0.01340889360820653)\n",
        "(t,h) => "
       ]
      },
      {
       "output_type": "stream",
       "stream": "stdout",
       "text": [
        "(6.099875612733054,0.01341705304849937)\n",
        "(t,h) => "
       ]
      },
      {
       "output_type": "stream",
       "stream": "stdout",
       "text": [
        "(6.113287674414067,0.013412061681013639)\n",
        "(t,h) => "
       ]
      },
      {
       "output_type": "stream",
       "stream": "stdout",
       "text": [
        "(6.12669636591329,0.01340869149922213)\n",
        "(t,h) => "
       ]
      },
      {
       "output_type": "stream",
       "stream": "stdout",
       "text": [
        "(6.14011253295361,0.013416167040320963)\n",
        "(t,h) => "
       ]
      },
      {
       "output_type": "stream",
       "stream": "stdout",
       "text": [
        "(6.153536216466624,0.01342368351301359)\n",
        "(t,h) => "
       ]
      },
      {
       "output_type": "stream",
       "stream": "stdout",
       "text": [
        "(6.166981804895449,0.013445588428824783)\n",
        "(t,h) => "
       ]
      },
      {
       "output_type": "stream",
       "stream": "stdout",
       "text": [
        "(6.180492556171601,0.013510751276152094)\n",
        "(t,h) => "
       ]
      },
      {
       "output_type": "stream",
       "stream": "stdout",
       "text": [
        "(6.194058669872513,0.013566113700912128)\n",
        "(t,h) => "
       ]
      },
      {
       "output_type": "stream",
       "stream": "stdout",
       "text": [
        "(6.207662165503641,0.013603495631127642)\n",
        "(t,h) => "
       ]
      },
      {
       "output_type": "stream",
       "stream": "stdout",
       "text": [
        "(6.2213040347983055,0.013641869294664344)\n",
        "(t,h) => "
       ]
      },
      {
       "output_type": "stream",
       "stream": "stdout",
       "text": [
        "(6.23498002359627,0.013675988797964844)\n",
        "(t,h) => "
       ]
      },
      {
       "output_type": "stream",
       "stream": "stdout",
       "text": [
        "(6.248674770069012,0.01369474647274267)\n",
        "(t,h) => "
       ]
      },
      {
       "output_type": "stream",
       "stream": "stdout",
       "text": [
        "(6.2623792324720045,0.013704462402992385)\n",
        "(t,h) => "
       ]
      },
      {
       "output_type": "stream",
       "stream": "stdout",
       "text": [
        "(6.276089415493821,0.013710183021817042)\n",
        "(t,h) => "
       ]
      },
      {
       "output_type": "stream",
       "stream": "stdout",
       "text": [
        "(6.289781747138948,0.013692331645126309)\n",
        "(t,h) => "
       ]
      },
      {
       "output_type": "stream",
       "stream": "stdout",
       "text": [
        "(6.303446508233276,0.013664761094328307)\n",
        "(t,h) => "
       ]
      },
      {
       "output_type": "stream",
       "stream": "stdout",
       "text": [
        "(6.3170840577130685,0.013637549479792755)\n",
        "(t,h) => "
       ]
      },
      {
       "output_type": "stream",
       "stream": "stdout",
       "text": [
        "(6.330684717058945,0.013600659345877284)\n",
        "(t,h) => "
       ]
      },
      {
       "output_type": "stream",
       "stream": "stdout",
       "text": [
        "(6.344267407061502,0.013582690002556488)\n",
        "(t,h) => "
       ]
      },
      {
       "output_type": "stream",
       "stream": "stdout",
       "text": [
        "(6.357867216802599,0.013599809741096359)\n",
        "(t,h) => "
       ]
      },
      {
       "output_type": "stream",
       "stream": "stdout",
       "text": [
        "(6.371479281087935,0.013612064285336338)\n",
        "(t,h) => "
       ]
      },
      {
       "output_type": "stream",
       "stream": "stdout",
       "text": [
        "(6.385093401810276,0.013614120722340679)\n",
        "(t,h) => "
       ]
      },
      {
       "output_type": "stream",
       "stream": "stdout",
       "text": [
        "(6.398718561346499,0.013625159536222236)\n",
        "(t,h) => "
       ]
      },
      {
       "output_type": "stream",
       "stream": "stdout",
       "text": [
        "(6.412356958481524,0.013638397135025217)\n",
        "(t,h) => "
       ]
      },
      {
       "output_type": "stream",
       "stream": "stdout",
       "text": [
        "(6.425999066881123,0.013642108399598903)\n",
        "(t,h) => "
       ]
      },
      {
       "output_type": "stream",
       "stream": "stdout",
       "text": [
        "(6.43964623424254,0.013647167361416716)\n",
        "(t,h) => "
       ]
      },
      {
       "output_type": "stream",
       "stream": "stdout",
       "text": [
        "(6.453304822485785,0.013658588243245796)\n",
        "(t,h) => "
       ]
      },
      {
       "output_type": "stream",
       "stream": "stdout",
       "text": [
        "(6.466963604271936,0.013658781786150632)\n",
        "(t,h) => "
       ]
      },
      {
       "output_type": "stream",
       "stream": "stdout",
       "text": [
        "(6.480626598846717,0.013662994574780747)\n",
        "(t,h) => "
       ]
      },
      {
       "output_type": "stream",
       "stream": "stdout",
       "text": [
        "(6.4943017636910785,0.013675164844361144)\n",
        "(t,h) => "
       ]
      },
      {
       "output_type": "stream",
       "stream": "stdout",
       "text": [
        "(6.507977441366634,0.013675677675555867)\n",
        "(t,h) => "
       ]
      },
      {
       "output_type": "stream",
       "stream": "stdout",
       "text": [
        "(6.521651268105755,0.013673826739120789)\n",
        "(t,h) => "
       ]
      },
      {
       "output_type": "stream",
       "stream": "stdout",
       "text": [
        "(6.535332729572998,0.013681461467243222)\n",
        "(t,h) => "
       ]
      },
      {
       "output_type": "stream",
       "stream": "stdout",
       "text": [
        "(6.5490197692244,0.01368703965140229)\n",
        "(t,h) => "
       ]
      },
      {
       "output_type": "stream",
       "stream": "stdout",
       "text": [
        "(6.562703823965107,0.013684054740706941)\n",
        "(t,h) => "
       ]
      },
      {
       "output_type": "stream",
       "stream": "stdout",
       "text": [
        "(6.57639465439216,0.01369083042705308)\n",
        "(t,h) => "
       ]
      },
      {
       "output_type": "stream",
       "stream": "stdout",
       "text": [
        "(6.590089750971506,0.013695096579346507)\n",
        "(t,h) => "
       ]
      },
      {
       "output_type": "stream",
       "stream": "stdout",
       "text": [
        "(6.603780099652703,0.013690348681197596)\n",
        "(t,h) => "
       ]
      },
      {
       "output_type": "stream",
       "stream": "stdout",
       "text": [
        "(6.617473417426938,0.013693317774234541)\n",
        "(t,h) => "
       ]
      },
      {
       "output_type": "stream",
       "stream": "stdout",
       "text": [
        "(6.631174140337357,0.013700722910419823)\n",
        "(t,h) => "
       ]
      },
      {
       "output_type": "stream",
       "stream": "stdout",
       "text": [
        "(6.644877569986841,0.013703429649483137)\n",
        "(t,h) => "
       ]
      },
      {
       "output_type": "stream",
       "stream": "stdout",
       "text": [
        "(6.658589657268342,0.013712087281501377)\n",
        "(t,h) => "
       ]
      },
      {
       "output_type": "stream",
       "stream": "stdout",
       "text": [
        "(6.672312622990959,0.01372296572261694)\n",
        "(t,h) => "
       ]
      },
      {
       "output_type": "stream",
       "stream": "stdout",
       "text": [
        "(6.68603334056455,0.01372071757359092)\n",
        "(t,h) => "
       ]
      },
      {
       "output_type": "stream",
       "stream": "stdout",
       "text": [
        "(6.699757242096729,0.013723901532179377)\n",
        "(t,h) => "
       ]
      },
      {
       "output_type": "stream",
       "stream": "stdout",
       "text": [
        "(6.713494541048687,0.013737298951956873)\n",
        "(t,h) => "
       ]
      },
      {
       "output_type": "stream",
       "stream": "stdout",
       "text": [
        "(6.727238130470804,0.013743589422117296)\n",
        "(t,h) => "
       ]
      },
      {
       "output_type": "stream",
       "stream": "stdout",
       "text": [
        "(6.74099014878984,0.013752018319036635)\n",
        "(t,h) => "
       ]
      },
      {
       "output_type": "stream",
       "stream": "stdout",
       "text": [
        "(6.754760198228453,0.013770049438613586)\n",
        "(t,h) => "
       ]
      },
      {
       "output_type": "stream",
       "stream": "stdout",
       "text": [
        "(6.768535113060898,0.013774914832445412)\n",
        "(t,h) => "
       ]
      },
      {
       "output_type": "stream",
       "stream": "stdout",
       "text": [
        "(6.782312735139858,0.013777622078959828)\n",
        "(t,h) => "
       ]
      },
      {
       "output_type": "stream",
       "stream": "stdout",
       "text": [
        "(6.7961037054665745,0.013790970326716058)\n",
        "(t,h) => "
       ]
      },
      {
       "output_type": "stream",
       "stream": "stdout",
       "text": [
        "(6.809905312821354,0.01380160735477958)\n",
        "(t,h) => "
       ]
      },
      {
       "output_type": "stream",
       "stream": "stdout",
       "text": [
        "(6.823715558421331,0.013810245599977221)\n",
        "(t,h) => "
       ]
      },
      {
       "output_type": "stream",
       "stream": "stdout",
       "text": [
        "(6.837542015321307,0.013826456899975227)\n",
        "(t,h) => "
       ]
      },
      {
       "output_type": "stream",
       "stream": "stdout",
       "text": [
        "(6.851375385101392,0.013833369780084875)\n",
        "(t,h) => "
       ]
      },
      {
       "output_type": "stream",
       "stream": "stdout",
       "text": [
        "(6.865208258205494,0.013832873104102588)\n",
        "(t,h) => "
       ]
      },
      {
       "output_type": "stream",
       "stream": "stdout",
       "text": [
        "(6.879049497600548,0.013841239395053724)\n",
        "(t,h) => "
       ]
      },
      {
       "output_type": "stream",
       "stream": "stdout",
       "text": [
        "(6.892898184624376,0.013848687023828462)\n",
        "(t,h) => "
       ]
      },
      {
       "output_type": "stream",
       "stream": "stdout",
       "text": [
        "(6.906750064045523,0.01385187942114718)\n",
        "(t,h) => "
       ]
      },
      {
       "output_type": "stream",
       "stream": "stdout",
       "text": [
        "(6.920611234879549,0.013861170834025705)\n",
        "(t,h) => "
       ]
      },
      {
       "output_type": "stream",
       "stream": "stdout",
       "text": [
        "(6.934477705007784,0.013866470128234838)\n",
        "(t,h) => "
       ]
      },
      {
       "output_type": "stream",
       "stream": "stdout",
       "text": [
        "(6.948344520214162,0.01386681520637786)\n",
        "(t,h) => "
       ]
      },
      {
       "output_type": "stream",
       "stream": "stdout",
       "text": [
        "(6.962215798759637,0.013871278545474737)\n",
        "(t,h) => "
       ]
      },
      {
       "output_type": "stream",
       "stream": "stdout",
       "text": [
        "(6.976096524670652,0.013880725911015402)\n",
        "(t,h) => "
       ]
      },
      {
       "output_type": "stream",
       "stream": "stdout",
       "text": [
        "(6.98998048432942,0.013883959658768026)\n",
        "(t,h) => "
       ]
      },
      {
       "output_type": "stream",
       "stream": "stdout",
       "text": [
        "(7.003871889099483,0.013891404770063308)\n",
        "(t,h) => "
       ]
      },
      {
       "output_type": "stream",
       "stream": "stdout",
       "text": [
        "(7.017771916268882,0.013900027169398404)\n",
        "(t,h) => "
       ]
      },
      {
       "output_type": "stream",
       "stream": "stdout",
       "text": [
        "(7.031672435369435,0.013900519100553597)\n",
        "(t,h) => "
       ]
      },
      {
       "output_type": "stream",
       "stream": "stdout",
       "text": [
        "(7.0455744898571995,0.013902054487764756)\n",
        "(t,h) => "
       ]
      },
      {
       "output_type": "stream",
       "stream": "stdout",
       "text": [
        "(7.059482042019855,0.013907552162655603)\n",
        "(t,h) => "
       ]
      }
     ]
    },
    {
     "cell_type": "code",
     "collapsed": false,
     "input": [
      "#using Winston\n",
      "# dynamics of psi\n",
      "#plot(t,  Float64[real(R.rho[1,1]) for R in psi], t, cos(t).^2, \"bo\")"
     ],
     "language": "python",
     "metadata": {},
     "outputs": []
    }
   ],
   "metadata": {}
  }
 ]
}