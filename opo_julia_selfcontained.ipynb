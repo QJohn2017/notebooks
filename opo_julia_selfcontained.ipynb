{
 "metadata": {
  "language": "Julia",
  "name": "",
  "signature": "sha256:fb84e983d67e012e53996410be1bf7f371ae61a8dd4374471dfa7d1d3de5b7f4"
 },
 "nbformat": 3,
 "nbformat_minor": 0,
 "worksheets": [
  {
   "cells": [
    {
     "cell_type": "code",
     "collapsed": false,
     "input": [
      "#using PyPlot"
     ],
     "language": "python",
     "metadata": {},
     "outputs": [],
     "prompt_number": 1
    },
    {
     "cell_type": "code",
     "collapsed": false,
     "input": [
      "# Dormand-Prince coefficients\n",
      "const dp_coefficients = (5,\n",
      "                         [    0           0          0         0         0        0\n",
      "                              1/5         0          0         0         0        0\n",
      "                              3/40        9/40       0         0         0        0\n",
      "                             44/45      -56/15      32/9       0         0        0\n",
      "                          19372/6561 -25360/2187 64448/6561 -212/729     0        0\n",
      "                           9017/3168   -355/33   46732/5247   49/176 -5103/18656  0\n",
      "                             35/384       0        500/1113  125/192 -2187/6784  11/84],\n",
      "                         # 4th order b-coefficients\n",
      "                         [5179/57600 0 7571/16695 393/640 -92097/339200 187/2100 1/40],\n",
      "                         # 5th order b-coefficients\n",
      "                         [35/384 0 500/1113 125/192 -2187/6784 11/84 0],\n",
      "                         );"
     ],
     "language": "python",
     "metadata": {},
     "outputs": [],
     "prompt_number": 2
    },
    {
     "cell_type": "code",
     "collapsed": false,
     "input": [
      "function oderkf(F, x0, tspan, p, a, bs, bp; reltol = 1.0e-5, abstol = 1.0e-8)\n",
      "    # see p.91 in the Ascher & Petzold reference for more infomation.\n",
      "    pow = 1/p   # use the higher order to estimate the next step size\n",
      "\n",
      "    c = sum(a, 2)   # consistency condition\n",
      "\n",
      "    # Initialization\n",
      "    t = tspan[1]\n",
      "    tfinal = tspan[end]\n",
      "    tdir = sign(tfinal - t)\n",
      "    hmax = abs(tfinal - t)/2.5\n",
      "    hmin = abs(tfinal - t)/1e9\n",
      "    h = tdir*abs(tfinal - t)/100  # initial guess at a step size\n",
      "    x = x0\n",
      "    tout = t            # first output time\n",
      "    xout = Array(typeof(x0), 1)\n",
      "    xout[1] = x         # first output solution\n",
      "\n",
      "    k = Array(typeof(x0), length(c))\n",
      "    k[1] = F(t,x) # first stage\n",
      "\n",
      "    while abs(t) != abs(tfinal) && abs(h) >= hmin\n",
      "        if abs(h) > abs(tfinal-t)\n",
      "            h = tfinal - t\n",
      "        end\n",
      "\n",
      "        #(p-1)th and pth order estimates\n",
      "        xs = x + h*bs[1]*k[1]\n",
      "        xp = x + h*bp[1]*k[1]\n",
      "        for j = 2:length(c)\n",
      "            dx = a[j,1]*k[1]\n",
      "            for i = 2:j-1\n",
      "                dx += a[j,i]*k[i]\n",
      "            end\n",
      "            k[j] = F(t + h*c[j], x + h*dx)\n",
      "\n",
      "            # compute the (p-1)th order estimate\n",
      "            xs = xs + h*bs[j]*k[j]\n",
      "            # compute the pth order estimate\n",
      "            xp = xp + h*bp[j]*k[j]\n",
      "        end\n",
      "\n",
      "        # estimate the local truncation error\n",
      "        gamma1 = xs - xp\n",
      "\n",
      "        # Estimate the error and the acceptable error\n",
      "        delta = norm(gamma1, Inf)              # actual error\n",
      "        tau   = max(reltol*norm(x,Inf),abstol) # allowable error\n",
      "        @show delta, tau, h\n",
      "\n",
      "        # Update the solution only if the error is acceptable\n",
      "        if delta <= tau\n",
      "            t = t + h\n",
      "            x = xp    # <-- using the higher order estimate is called 'local extrapolation'\n",
      "            tout = [tout; t]\n",
      "            push!(xout, x)\n",
      "\n",
      "            # Compute the slopes by computing the k[:,j+1]'th column based on the previous k[:,1:j] columns\n",
      "            # notes: k needs to end up as an Nxs, a is 7x6, which is s by (s-1),\n",
      "            #        s is the number of intermediate RK stages on [t (t+h)] (Dormand-Prince has s=7 stages)\n",
      "            if c[end] == 1\n",
      "                # Assign the last stage for x(k) as the first stage for computing x[k+1].\n",
      "                # This is part of the Dormand-Prince pair caveat.\n",
      "                # k[:,7] has already been computed, so use it instead of recomputing it\n",
      "                # again as k[:,1] during the next step.\n",
      "                k[1] = k[end]\n",
      "            else\n",
      "                k[1] = F(t,x) # first stage\n",
      "            end\n",
      "        end\n",
      "\n",
      "        # Update the step size\n",
      "        h = min(hmax, 0.8*h*(tau/delta)^pow)\n",
      "        @show h\n",
      "    end # while (t < tfinal) & (h >= hmin)\n",
      "\n",
      "    if abs(t) < abs(tfinal)\n",
      "      println(\"Step size grew too small. t=\", t, \", h=\", abs(h))\n",
      "    end\n",
      "\n",
      "    return tout, xout\n",
      "end"
     ],
     "language": "python",
     "metadata": {},
     "outputs": [
      {
       "metadata": {},
       "output_type": "pyout",
       "prompt_number": 3,
       "text": [
        "oderkf (generic function with 1 method)"
       ]
      }
     ],
     "prompt_number": 3
    },
    {
     "cell_type": "code",
     "collapsed": false,
     "input": [
      "using Base.Test\n",
      "tol = 1e-2\n",
      "# dv dw\n",
      "# -- = -w, -- = v ==> v = v0*cos(t) - w0*sin(t), w = w0*cos(t) + v0*sin(t)\n",
      "# dt dt\n",
      "#\n",
      "# y = [v, w]\n",
      "t,y=oderkf((t,y)->[-y[2], y[1]], [1., 2.], [0:.001:2*pi], dp_coefficients...; reltol = 1.0e-5, abstol = 1.0e-8)\n",
      "ys = hcat(y...).' # convert Vector{Vector{Float}} to Matrix{Float}\n",
      "@test maximum(abs(ys-[cos(t)-2*sin(t) 2*cos(t)+sin(t)])) < tol"
     ],
     "language": "python",
     "metadata": {},
     "outputs": [
      {
       "output_type": "stream",
       "stream": "stdout",
       "text": [
        "(delta,tau,h) => (1.5625930549489908e-9,2.0e-5,0.06283)"
       ]
      },
      {
       "output_type": "stream",
       "stream": "stdout",
       "text": [
        "\n",
        "h => 0.3331914648950019\n",
        "(delta,tau,h) => (6.407056848567461e-6,2.0588423596443997e-5,0.3331914648950019)\n",
        "h => 0.336648557894566\n",
        "(delta,tau,h) => (7.680640824792029e-6,2.2309561146965482e-5,0.336648557894566)\n",
        "h => 0.33333848680373956\n",
        "(delta,tau,h) => (7.395137717081113e-6,2.15563753039885e-5,0.33333848680373956)\n",
        "h => 0.3302944989690394\n",
        "(delta,tau,h) => (6.35645311763966e-6,1.8425178724831156e-5,0.3302944989690394)\n",
        "h => 0.3269118774793936\n",
        "(delta,tau,h) => (4.862409322514694e-6,1.796018814009226e-5,0.3269118774793936)\n",
        "h => 0.339635094913466\n",
        "(delta,tau,h) => (7.388173919625762e-6,2.1286398409347315e-5,0.339635094913466)\n",
        "h => 0.33574964511157274\n",
        "(delta,tau,h) => (7.693405617126281e-6,2.235161323407371e-5,0.33574964511157274)\n",
        "h => 0.3324632132599407\n",
        "(delta,tau,h) => (7.170634100717166e-6,2.0894312673571733e-5,0.3324632132599407)\n",
        "h => 0.32940310644418686\n",
        "(delta,tau,h) => (5.942323070273758e-6,1.7150928075885325e-5,0.32940310644418686)\n",
        "h => 0.32574964468105505\n",
        "(delta,tau,h) => (5.1890323579661946e-6,1.9123807862766775e-5,0.32574964468105505)\n",
        "h => 0.33827627234913216\n",
        "(delta,tau,h) => (7.53233680544918e-6,2.1826417633493513e-5,0.33827627234913216)\n",
        "h => 0.33478968532484205\n",
        "(delta,tau,h) => (7.626252009562684e-6,2.220178585497969e-5,0.33478968532484205)\n",
        "h => 0.33164801902760693\n",
        "(delta,tau,h) => (6.904461695267372e-6,2.0095033836263208e-5,0.33164801902760693)\n",
        "h => 0.32851800589035735\n",
        "(delta,tau,h) => (5.508029364609257e-6,1.581596587463765e-5,0.32851800589035735)\n",
        "h => 0.3245406184662821\n",
        "(delta,tau,h) => (5.434864965847552e-6,2.0070023075408205e-5,0.3245406184662821)\n",
        "h => 0.33715598170131267\n",
        "(delta,tau,h) => (7.6197515296305696e-6,2.2165913969817613e-5,0.33715598170131267)\n",
        "h => 0.3339410611558074\n",
        "(delta,tau,h) => (7.511920945280082e-6,2.1891848766257206e-5,0.3339410611558074)\n",
        "h => 0.33087663166221853\n",
        "(delta,tau,h) => (6.606409673759472e-6,1.918972936538309e-5,0.33087663166221853)\n",
        "h => 0.3276247877800417\n",
        "(delta,tau,h) => (9.682498540719564e-7,1.7089789836979933e-5,0.23703813397047924)\n",
        "h => 0.33671158797387774\n"
       ]
      }
     ],
     "prompt_number": 4
    },
    {
     "cell_type": "code",
     "collapsed": false,
     "input": [
      "fname = \"INPUT\"\n",
      "open(fname,\"r\") do f\n",
      "    for line in eachline(f)\n",
      "        line = strip(replace(line,[',','/'],' '))\n",
      "        (line[1] == '&' || line[1] == '!') && continue\n",
      "        include_string(\"global const \" * uppercase(line))\n",
      "        #println(uppercase(line))\n",
      "    end\n",
      "end"
     ],
     "language": "python",
     "metadata": {},
     "outputs": [],
     "prompt_number": 5
    },
    {
     "cell_type": "code",
     "collapsed": false,
     "input": [
      "global const \u0394X = 2LX/NX\n",
      "global const \u0394Y = 2LY/NY"
     ],
     "language": "python",
     "metadata": {},
     "outputs": [
      {
       "metadata": {},
       "output_type": "pyout",
       "prompt_number": 8,
       "text": [
        "0.5"
       ]
      }
     ],
     "prompt_number": 8
    },
    {
     "cell_type": "code",
     "collapsed": false,
     "input": [
      "# define custom type\n",
      "type Wavefunction{T}\n",
      "    c::Array{T, 2}  #cavity\n",
      "    x::Array{T, 2}  #exciton\n",
      "    \n",
      "    Wavefunction(cav, exc) = new(copy(cav), copy(exc))\n",
      "end"
     ],
     "language": "python",
     "metadata": {},
     "outputs": [],
     "prompt_number": 6
    },
    {
     "cell_type": "code",
     "collapsed": false,
     "input": [
      "# which supports the following operations\n",
      "import Base.norm\n",
      "norm{T}(\u03c8::Wavefunction{T}, p::Float64) = max(Base.norm(\u03c8.c, p), Base.norm(\u03c8.x, p))\n",
      "\n",
      "+{T}(\u03c81::Wavefunction{T}, \u03c82::Wavefunction{T}) = Wavefunction{T}(\u03c81.c + \u03c82.c, \u03c81.x + \u03c82.x)\n",
      "-{T}(\u03c81::Wavefunction{T}, \u03c82::Wavefunction{T}) = Wavefunction{T}(\u03c81.c - \u03c82.c, \u03c81.x - \u03c82.x)\n",
      "\n",
      "*{T}(c::Real, \u03c8::Wavefunction{T}) = Wavefunction{T}(c*\u03c8.c, c*\u03c8.x)\n",
      "*{T}(\u03c8::Wavefunction{T}, c::Real) = c*\u03c8\n",
      "\n",
      "/{T}(\u03c8::Wavefunction{T}, c::Real) = Wavefunction{T}(\u03c8.c/c, \u03c8.x/c)\n",
      "\n",
      "#/{T}(\u03c81::Wavefunction{T}, \u03c82::Wavefunction{T}) = Wavefunction{T}(\u03c81.c ./ \u03c82.c, \u03c81.x ./ \u03c82.x)\n",
      "#+{T}(\u03c8::Wavefunction{T}, c::Float64) = Wavefunction{T}(\u03c8.c .+ c, \u03c8.x .+ c) "
     ],
     "language": "python",
     "metadata": {},
     "outputs": [
      {
       "metadata": {},
       "output_type": "pyout",
       "prompt_number": 7,
       "text": [
        "/ (generic function with 49 methods)"
       ]
      }
     ],
     "prompt_number": 7
    },
    {
     "cell_type": "code",
     "collapsed": false,
     "input": [
      "getidx(pos, len, \u0394) = iround((len + pos)/\u0394) + 1"
     ],
     "language": "python",
     "metadata": {},
     "outputs": [
      {
       "metadata": {},
       "output_type": "pyout",
       "prompt_number": 9,
       "text": [
        "getidx (generic function with 1 method)"
       ]
      }
     ],
     "prompt_number": 9
    },
    {
     "cell_type": "code",
     "collapsed": false,
     "input": [
      "function initpotcav(posx, posy, strength)\n",
      "    ix = getidx(posx, LX, \u0394X)\n",
      "    iy = getidx(posy, LY, \u0394Y)\n",
      "    potential = zeros(NY, NX)\n",
      "    potential[iy, ix] = strength\n",
      "    return potential\n",
      "end\n",
      "global const SY = [-LY+(iy-1)*\u0394Y for iy=1:NY]\n",
      "global const SX = [-LX+(ix-1)*\u0394X for ix=1:NX]'\n",
      "global const potcav = initpotcav(DEF_X_POS, DEF_Y_POS, GV);"
     ],
     "language": "python",
     "metadata": {},
     "outputs": [],
     "prompt_number": 10
    },
    {
     "cell_type": "code",
     "collapsed": false,
     "input": [
      "#pcolor(SX, SY, potcav)\n",
      "#colorbar()"
     ],
     "language": "python",
     "metadata": {},
     "outputs": [],
     "prompt_number": 11
    },
    {
     "cell_type": "code",
     "collapsed": false,
     "input": [
      "function initpump(x, y, ampl, width, kp)\n",
      "    cnorm = sqrt(NX*NY)/256/sqrt(LX*LY)*70\n",
      "    r = sqrt(x .^ 2 .+ y .^ 2)\n",
      "    #top hat pump\n",
      "    0.5 * ampl / cnorm * \n",
      "    (tanh(1/10*(r .+ width)) - tanh(1/10*(r .- width))) .* exp(im*(kp*x .+ zero(kp)*y))\n",
      "end\n",
      "global const pumpspc = initpump(SX, SY, F_P, SIGMA_P, K_P);"
     ],
     "language": "python",
     "metadata": {},
     "outputs": [],
     "prompt_number": 12
    },
    {
     "cell_type": "code",
     "collapsed": false,
     "input": [
      "#pcolor(SX, SY, abs2(pumpspc))\n",
      "#colorbar()"
     ],
     "language": "python",
     "metadata": {},
     "outputs": [],
     "prompt_number": 13
    },
    {
     "cell_type": "code",
     "collapsed": false,
     "input": [
      "#f = [0, 1, ...,   n/2-1,     -n/2, ..., -1] / (d*n)   if n is even\n",
      "#f = [0, 1, ..., (n-1)/2, -(n-1)/2, ..., -1] / (d*n)   if n is odd\n",
      "function fftfreq(n::Int64, d::Float64)\n",
      "    N = fld(n-1,2)\n",
      "    p1 = [0:N]\n",
      "    p2 = [-fld(n,2):-1]\n",
      "    return [p1, p2]/(d*n)\n",
      "end"
     ],
     "language": "python",
     "metadata": {},
     "outputs": [
      {
       "metadata": {},
       "output_type": "pyout",
       "prompt_number": 14,
       "text": [
        "fftfreq (generic function with 1 method)"
       ]
      }
     ],
     "prompt_number": 14
    },
    {
     "cell_type": "code",
     "collapsed": false,
     "input": [
      "global const MOMY = fftshift(fftfreq(NY, \u0394Y/2pi))\n",
      "global const MOMX = fftshift(fftfreq(NX, \u0394X/2pi))'"
     ],
     "language": "python",
     "metadata": {},
     "outputs": [
      {
       "metadata": {},
       "output_type": "pyout",
       "prompt_number": 15,
       "text": [
        "1x80 Array{Float64,2}:\n",
        " -6.28319  -6.12611  -5.96903  \u2026  5.65487  5.81195  5.96903  6.12611"
       ]
      }
     ],
     "prompt_number": 15
    },
    {
     "cell_type": "code",
     "collapsed": false,
     "input": [
      "setkin(kx, ky) = kx .^ 2 .+ ky .^ 2\n",
      "global const kinetic = setkin(MOMX, MOMY);"
     ],
     "language": "python",
     "metadata": {},
     "outputs": [],
     "prompt_number": 16
    },
    {
     "cell_type": "code",
     "collapsed": false,
     "input": [
      "#pcolor(MOMX, MOMY, kinetic)\n",
      "#xlim(MOMX[1], MOMX[end])\n",
      "#ylim(MOMY[1], MOMY[end])\n",
      "#colorbar()"
     ],
     "language": "python",
     "metadata": {},
     "outputs": [],
     "prompt_number": 17
    },
    {
     "cell_type": "markdown",
     "metadata": {},
     "source": [
      "$\\partial_t \\psi_X = -i\\psi_C - \\kappa_X \\psi_X - i\\vert\\psi_X\\vert^2 \\psi_X$\n",
      "\n",
      "$\\partial_t \\psi_C = -i F(x,y)\\exp{[i(k^p_x x+k^p_y y - \\omega_p t)]} -i\\psi_X -i [\\delta - \\Delta -i\\kappa_C]\\psi_C$\n"
     ]
    },
    {
     "cell_type": "code",
     "collapsed": false,
     "input": [
      "# define RHSs of differential equations\n",
      "#params: OMEGA_P, DELTA, KAPPA_C, KAPPA_X, potcav, pumpspc, kinetic\n",
      "#params: \u03c9p, \u03b4, \u03bac, \u03bax, potc, pmpspc, kin\n",
      "function rhs(t::Float64, \u03c8::Wavefunction{Complex{Float64}}, \u03c9p, \u03b4, \u03bac, \u03bax, potc, pmpspc, kin)\n",
      "    #generate the energy dependence of the pump\n",
      "    pump = pmpspc*exp(-im*\u03c9p*t)\n",
      "\n",
      "    #right hand side of the equation of motion\n",
      "    #photon part \n",
      "    d\u03c8c = -im*pump - im*\u03c8.x - (im*\u03b4 + \u03bac)*\u03c8.c\n",
      "    #add a potential to the photon part\n",
      "    d\u03c8c += im*potc .* \u03c8.c\n",
      "    #adding the kinetic energy by means of the FFT\n",
      "    d\u03c8c -= im*fftshift(ifft(kin .* fftshift(fft(\u03c8.c))))\n",
      "    #exciton part\n",
      "    d\u03c8x = -im*\u03c8.c -\u03bax*\u03c8.x - im*abs2(\u03c8.x) .* \u03c8.x/(\u0394X*\u0394Y) \n",
      "    return Wavefunction{Complex{Float64}}(d\u03c8c, d\u03c8x)\n",
      "end"
     ],
     "language": "python",
     "metadata": {},
     "outputs": [
      {
       "metadata": {},
       "output_type": "pyout",
       "prompt_number": 18,
       "text": [
        "rhs (generic function with 1 method)"
       ]
      }
     ],
     "prompt_number": 18
    },
    {
     "cell_type": "code",
     "collapsed": false,
     "input": [
      "# inital conditons\n",
      "\u03c80 = Wavefunction{Complex{Float64}}(zeros(NY, NX), zeros(NY, NX));"
     ],
     "language": "python",
     "metadata": {},
     "outputs": [],
     "prompt_number": 19
    },
    {
     "cell_type": "code",
     "collapsed": false,
     "input": [
      "# solve ODEs\n",
      "t, psi = oderkf((t, psi)->rhs(t, psi, OMEGA_P, DELTA, KAPPA_C, KAPPA_X, potcav, pumpspc, kinetic), \u03c80, [0., TOT_H],\n",
      "dp_coefficients...; reltol = 1.0e-5, abstol = 1.0e-8);"
     ],
     "language": "python",
     "metadata": {},
     "outputs": [
      {
       "output_type": "stream",
       "stream": "stdout",
       "text": [
        "(delta,tau,h) => "
       ]
      },
      {
       "output_type": "stream",
       "stream": "stdout",
       "text": [
        "(1.8018914426046077e301,1.0e-8,10.0)\n",
        "h => 1.127052800395897e-61\n",
        "Step size grew too small. t=0.0, h=1.127052800395897e-61\n"
       ]
      }
     ],
     "prompt_number": 20
    },
    {
     "cell_type": "code",
     "collapsed": false,
     "input": [
      "#using Winston\n",
      "# dynamics of psi\n",
      "#plot(t,  Float64[real(R.rho[1,1]) for R in psi], t, cos(t).^2, \"bo\")"
     ],
     "language": "python",
     "metadata": {},
     "outputs": [],
     "prompt_number": 21
    }
   ],
   "metadata": {}
  }
 ]
}