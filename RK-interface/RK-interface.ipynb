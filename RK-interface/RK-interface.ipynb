{
 "metadata": {
  "name": "",
  "signature": "sha256:3a44d08586aa8976f656c82149856263896faed69cdf391e7dcbab0269a5dc23"
 },
 "nbformat": 3,
 "nbformat_minor": 0,
 "worksheets": [
  {
   "cells": [
    {
     "cell_type": "code",
     "collapsed": false,
     "input": [
      "import matplotlib.pyplot as plt\n",
      "import matplotlib.cm as cm\n",
      "import numpy as np\n",
      "import string\n",
      "from subprocess import Popen\n",
      "import glob\n",
      "import os\n",
      "import time\n",
      "from IPython.display import clear_output"
     ],
     "language": "python",
     "metadata": {},
     "outputs": [],
     "prompt_number": 1
    },
    {
     "cell_type": "code",
     "collapsed": false,
     "input": [
      "COMMENT_CHAR = ','\n",
      "OPTION_CHAR =  '='"
     ],
     "language": "python",
     "metadata": {},
     "outputs": [],
     "prompt_number": 2
    },
    {
     "cell_type": "code",
     "collapsed": false,
     "input": [
      "def parse_config(filename):\n",
      "    options = {}\n",
      "    f = open(filename)\n",
      "    for line in f:\n",
      "        # First, remove comments:\n",
      "        if COMMENT_CHAR in line:\n",
      "            # split on comment char, keep only the part before\n",
      "            line, comment = line.split(COMMENT_CHAR, 1)\n",
      "        # Second, find lines with an option=value:\n",
      "        if OPTION_CHAR in line:\n",
      "            # split on option char:\n",
      "            option, value = line.split(OPTION_CHAR, 1)\n",
      "            # strip spaces:\n",
      "            option = option.strip()\n",
      "            value = value.strip()\n",
      "            # store in dictionary:\n",
      "            options[option] = value\n",
      "    f.close()\n",
      "    return options"
     ],
     "language": "python",
     "metadata": {},
     "outputs": [],
     "prompt_number": 3
    },
    {
     "cell_type": "code",
     "collapsed": false,
     "input": [
      "os.chdir('/home/berceanu/notebooks/RK-interface')\n",
      "options = parse_config('INPUT')"
     ],
     "language": "python",
     "metadata": {},
     "outputs": [],
     "prompt_number": 4
    },
    {
     "cell_type": "code",
     "collapsed": false,
     "input": [
      "#conversion factor, in mu\n",
      "lC = 0.868"
     ],
     "language": "python",
     "metadata": {},
     "outputs": [],
     "prompt_number": 5
    },
    {
     "cell_type": "code",
     "collapsed": false,
     "input": [
      "x_label = r'$x[\\mu m]$'\n",
      "y_label = r'$y[\\mu m]$'"
     ],
     "language": "python",
     "metadata": {},
     "outputs": [],
     "prompt_number": 6
    },
    {
     "cell_type": "code",
     "collapsed": false,
     "input": [
      "rule = string.maketrans('D', 'E')"
     ],
     "language": "python",
     "metadata": {},
     "outputs": [],
     "prompt_number": 7
    },
    {
     "cell_type": "code",
     "collapsed": false,
     "input": [
      "#vertical axis\n",
      "Ny = np.int(options['Ny'])\n",
      "Ly = np.float(options['Ly'])\n",
      "y, a_y = np.linspace(-Ly, Ly, num=Ny, endpoint=False, retstep=True)\n",
      "\n",
      "#side_ky = np.pi/a_y\n",
      "#ky, delta_ky = np.linspace(-(2*(Ny-1)/float(Ny) - 1)*side_ky, side_ky, num=Ny, retstep=True)"
     ],
     "language": "python",
     "metadata": {},
     "outputs": [],
     "prompt_number": 8
    },
    {
     "cell_type": "code",
     "collapsed": false,
     "input": [
      "#horizontal axis\n",
      "Nx = np.int(options['Nx'])\n",
      "Lx = np.float(options['Lx'])\n",
      "x, a_x = np.linspace(-Lx, Lx, num=Nx, endpoint=False, retstep=True)\n",
      "\n",
      "#side_kx = np.pi/a_x\n",
      "#kx, delta_kx = np.linspace(-(2*(Nx-1)/float(Nx) - 1)*side_kx, side_kx, num=Nx, retstep=True)"
     ],
     "language": "python",
     "metadata": {},
     "outputs": [],
     "prompt_number": 9
    },
    {
     "cell_type": "code",
     "collapsed": false,
     "input": [
      "#fig, ax = plt.subplots(1, 1, figsize=(5, 5))\n",
      "\n",
      "#ax.imshow(psiC, cmap=cm.binary, origin='lower', extent=lC * np.array([x[0], x[-1], y[0], y[-1]]))\n",
      "#ax.set_title(r'$\\vert\\psi_C\\vert^2$')\n",
      "\n",
      "#ax.set_ylabel(y_label)\n",
      "#ax.set_xlabel(x_label)"
     ],
     "language": "python",
     "metadata": {},
     "outputs": [],
     "prompt_number": 10
    },
    {
     "cell_type": "markdown",
     "metadata": {},
     "source": [
      "Define a function that plots a given data file"
     ]
    },
    {
     "cell_type": "code",
     "collapsed": false,
     "input": [
      "def plot_fname(fname):\n",
      "    data = np.loadtxt(fname, usecols=(2,3),\\\n",
      "                      converters = {2: lambda val: float(val.translate(rule)),\\\n",
      "                                    3: lambda val: float(val.translate(rule))})\n",
      "    psiC = data[:, 0]**2 + data[:, 1]**2\n",
      "    psiC.shape = ((Ny, Nx))\n",
      "    plt.imshow(psiC, cmap=cm.binary, origin='lower', extent=lC * np.array([x[0], x[-1], y[0], y[-1]]))\n",
      "    plt.title(r'$\\vert\\psi_C\\vert^2$' + ' for ' + fname)\n",
      "    plt.ylabel(y_label)\n",
      "    plt.xlabel(x_label)\n",
      "    plt.show()"
     ],
     "language": "python",
     "metadata": {},
     "outputs": [],
     "prompt_number": 11
    },
    {
     "cell_type": "code",
     "collapsed": false,
     "input": [
      "def plot_times(data):\n",
      "    plt.plot(psiC, cmap=cm.binary, origin='lower', extent=lC * np.array([x[0], x[-1], y[0], y[-1]]))\n",
      "    plt.title(r'$\\vert\\psi_C\\vert^2$' + ' for ' + fname)\n",
      "    plt.ylabel(y_label)\n",
      "    plt.xlabel(x_label)\n",
      "    plt.show()"
     ],
     "language": "python",
     "metadata": {},
     "outputs": [],
     "prompt_number": 11
    },
    {
     "cell_type": "code",
     "collapsed": false,
     "input": [
      "#plot_fname('phcplx-opo_spc1.dat')"
     ],
     "language": "python",
     "metadata": {},
     "outputs": [],
     "prompt_number": 12
    },
    {
     "cell_type": "markdown",
     "metadata": {},
     "source": [
      "Start the fortran code:"
     ]
    },
    {
     "cell_type": "code",
     "collapsed": false,
     "input": [
      "p = Popen(['./RK_OPO_rk.out', '5'])\n",
      "p.poll()"
     ],
     "language": "python",
     "metadata": {},
     "outputs": [],
     "prompt_number": 13
    },
    {
     "cell_type": "markdown",
     "metadata": {},
     "source": [
      "Watch the data files, and plot them as they become available"
     ]
    },
    {
     "cell_type": "code",
     "collapsed": false,
     "input": [
      "last_seen = None\n",
      "\n",
      "def mtime(fname):\n",
      "    return os.stat(fname).st_mtime\n",
      "\n",
      "previous = None\n",
      "\n",
      "tic = time.time()\n",
      "while p.poll() is None: # while the subprocess is running\n",
      "    time.sleep(1)\n",
      "    #print(\"elapsed: %.0f\" % (time.time() - tic))\n",
      "    fnames = glob.glob(\"phcplx-opo_spc*.dat\")\n",
      "    if not fnames:\n",
      "        # no data files\n",
      "        continue\n",
      "    # get the most recently modified file\n",
      "    sorted_fnames = sorted(fnames, key=mtime)\n",
      "    latest = sorted_fnames[-1]\n",
      "    # if the most recent file is not the currently displayed plot,\n",
      "    # clear the output and make a new plot\n",
      "    if latest != previous:\n",
      "        times = [mtime(fname) for fname in sorted_fnames]\n",
      "        print times\n",
      "        previous = latest\n",
      "        clear_output(wait=True)\n",
      "        plot_fname(latest)\n",
      "    \n",
      "print(\"done\")  "
     ],
     "language": "python",
     "metadata": {},
     "outputs": [
      {
       "metadata": {},
       "output_type": "display_data",
       "png": "[encoded data removed]",
       "text": [
        "<matplotlib.figure.Figure at 0x3445dd0>"
       ]
      },
      {
       "output_type": "stream",
       "stream": "stdout",
       "text": [
        "done\n"
       ]
      }
     ],
     "prompt_number": 14
    },
    {
     "cell_type": "code",
     "collapsed": false,
     "input": [],
     "language": "python",
     "metadata": {},
     "outputs": [],
     "prompt_number": 14
    },
    {
     "cell_type": "code",
     "collapsed": false,
     "input": [
      "times"
     ],
     "language": "python",
     "metadata": {},
     "outputs": [
      {
       "metadata": {},
       "output_type": "pyout",
       "prompt_number": 15,
       "text": [
        "[1400256975.3711286,\n",
        " 1400256981.8246088,\n",
        " 1400256986.908058,\n",
        " 1400256992.0415082,\n",
        " 1400256997.1082902,\n",
        " 1400257002.295075,\n",
        " 1400257007.2785218,\n",
        " 1400257012.518641,\n",
        " 1400257017.428753,\n",
        " 1400257022.8655434,\n",
        " 1400257027.7523212,\n",
        " 1400257032.5957649,\n",
        " 1400257037.4658759,\n",
        " 1400257042.4793234,\n",
        " 1400257047.4027689,\n",
        " 1400257052.559553,\n",
        " 1400257057.9063416,\n",
        " 1400257063.3531322,\n",
        " 1400257068.3732467,\n",
        " 1400257073.4933631,\n",
        " 1400257078.4701433,\n",
        " 1400257083.3269205,\n",
        " 1400257088.290367,\n",
        " 1400257093.3904831,\n",
        " 1400257098.5406005,\n",
        " 1400257103.7540526,\n",
        " 1400257109.140842,\n",
        " 1400257114.5109644,\n",
        " 1400257120.0577574,\n",
        " 1400257125.414546,\n",
        " 1400257131.0980089,\n",
        " 1400257136.5614667,\n",
        " 1400257141.914922,\n",
        " 1400257148.0717292,\n",
        " 1400257153.9718635,\n",
        " 1400257159.3119853,\n",
        " 1400257165.295455,\n",
        " 1400257170.995585,\n",
        " 1400257176.625713,\n",
        " 1400257181.919167,\n",
        " 1400257188.009306,\n",
        " 1400257193.9261074,\n",
        " 1400257199.6862388,\n",
        " 1400257205.3097003,\n",
        " 1400257210.6698225,\n",
        " 1400257216.4766216,\n",
        " 1400257222.3000877,\n",
        " 1400257228.1135535,\n",
        " 1400257233.7970164,\n",
        " 1400257239.2471406,\n",
        " 1400257244.7239323,\n",
        " 1400257250.4640632,\n",
        " 1400257256.1175253,\n",
        " 1400257261.5176485,\n",
        " 1400257267.2611127,\n",
        " 1400257272.6179016,\n",
        " 1400257278.3213649,\n",
        " 1400257284.208166,\n",
        " 1400257290.0416322,\n",
        " 1400257296.171772,\n",
        " 1400257301.7052314,\n",
        " 1400257307.2653582,\n",
        " 1400257313.085491,\n",
        " 1400257318.515615,\n",
        " 1400257323.939072,\n",
        " 1400257329.1325238,\n",
        " 1400257334.322642,\n",
        " 1400257339.4694262,\n",
        " 1400257344.7595468,\n",
        " 1400257350.6530147,\n",
        " 1400257356.4298131,\n",
        " 1400257362.276613,\n",
        " 1400257367.8734074,\n",
        " 1400257373.3301985,\n",
        " 1400257379.0303285,\n",
        " 1400257384.4271183,\n",
        " 1400257390.2572515,\n",
        " 1400257395.8440456,\n",
        " 1400257401.6508448,\n",
        " 1400257407.327641,\n",
        " 1400257412.711097,\n",
        " 1400257418.3145583,\n",
        " 1400257423.7813497,\n",
        " 1400257429.541481,\n",
        " 1400257434.7716005,\n",
        " 1400257440.0383873,\n",
        " 1400257445.571847,\n",
        " 1400257450.8519673,\n",
        " 1400257456.4054275,\n",
        " 1400257462.0822237,\n",
        " 1400257467.31901,\n",
        " 1400257472.602464,\n",
        " 1400257478.1059227,\n",
        " 1400257483.9260557,\n",
        " 1400257489.146175,\n",
        " 1400257494.309626,\n",
        " 1400257499.4197426,\n",
        " 1400257504.9132013,\n",
        " 1400257510.3999932,\n",
        " 1400257515.7967832,\n",
        " 1400257520.8535652]"
       ]
      }
     ],
     "prompt_number": 15
    },
    {
     "cell_type": "code",
     "collapsed": false,
     "input": [],
     "language": "python",
     "metadata": {},
     "outputs": []
    }
   ],
   "metadata": {}
  }
 ]
}