{
 "metadata": {
  "language": "Julia",
  "name": "",
  "signature": "sha256:80bdba0f6a25d9fe64e765ea29784d1b30d0176e938b3b41293264a4348d9fd8"
 },
 "nbformat": 3,
 "nbformat_minor": 0,
 "worksheets": [
  {
   "cells": [
    {
     "cell_type": "code",
     "collapsed": false,
     "input": [
      "import matplotlib.pyplot as plt\n",
      "import matplotlib.cm as cm\n",
      "import numpy as np\n",
      "import string\n",
      "from subprocess import Popen\n",
      "import glob\n",
      "import os\n",
      "import time\n",
      "from IPython.display import clear_output"
     ],
     "language": "python",
     "metadata": {},
     "outputs": [],
     "prompt_number": 1
    },
    {
     "cell_type": "code",
     "collapsed": false,
     "input": [
      "COMMENT_CHAR = ','\n",
      "OPTION_CHAR =  '='"
     ],
     "language": "python",
     "metadata": {},
     "outputs": [],
     "prompt_number": 2
    },
    {
     "cell_type": "code",
     "collapsed": false,
     "input": [
      "def parse_config(filename):\n",
      "    options = {}\n",
      "    f = open(filename)\n",
      "    for line in f:\n",
      "        # First, remove comments:\n",
      "        if COMMENT_CHAR in line:\n",
      "            # split on comment char, keep only the part before\n",
      "            line, comment = line.split(COMMENT_CHAR, 1)\n",
      "        # Second, find lines with an option=value:\n",
      "        if OPTION_CHAR in line:\n",
      "            # split on option char:\n",
      "            option, value = line.split(OPTION_CHAR, 1)\n",
      "            # strip spaces:\n",
      "            option = option.strip()\n",
      "            value = value.strip()\n",
      "            # store in dictionary:\n",
      "            options[option] = value\n",
      "    f.close()\n",
      "    return options"
     ],
     "language": "python",
     "metadata": {},
     "outputs": [],
     "prompt_number": 3
    },
    {
     "cell_type": "code",
     "collapsed": false,
     "input": [
      "os.chdir('/home/berceanu/notebooks/RK-interface')\n",
      "options = parse_config('INPUT')"
     ],
     "language": "python",
     "metadata": {},
     "outputs": [],
     "prompt_number": 4
    },
    {
     "cell_type": "code",
     "collapsed": false,
     "input": [
      "#conversion factor, in mu\n",
      "lC = 0.868"
     ],
     "language": "python",
     "metadata": {},
     "outputs": [],
     "prompt_number": 5
    },
    {
     "cell_type": "code",
     "collapsed": false,
     "input": [
      "x_label = r'$x[\\mu m]$'\n",
      "y_label = r'$y[\\mu m]$'"
     ],
     "language": "python",
     "metadata": {},
     "outputs": [],
     "prompt_number": 6
    },
    {
     "cell_type": "code",
     "collapsed": false,
     "input": [
      "rule = string.maketrans('D', 'E')"
     ],
     "language": "python",
     "metadata": {},
     "outputs": [],
     "prompt_number": 7
    },
    {
     "cell_type": "code",
     "collapsed": false,
     "input": [
      "#vertical axis\n",
      "Ny = np.int(options['Ny'])\n",
      "Ly = np.float(options['Ly'])\n",
      "y, a_y = np.linspace(-Ly, Ly, num=Ny, endpoint=False, retstep=True)\n",
      "\n",
      "#side_ky = np.pi/a_y\n",
      "#ky, delta_ky = np.linspace(-(2*(Ny-1)/float(Ny) - 1)*side_ky, side_ky, num=Ny, retstep=True)"
     ],
     "language": "python",
     "metadata": {},
     "outputs": [],
     "prompt_number": 8
    },
    {
     "cell_type": "code",
     "collapsed": false,
     "input": [
      "#horizontal axis\n",
      "Nx = np.int(options['Nx'])\n",
      "Lx = np.float(options['Lx'])\n",
      "x, a_x = np.linspace(-Lx, Lx, num=Nx, endpoint=False, retstep=True)\n",
      "\n",
      "#side_kx = np.pi/a_x\n",
      "#kx, delta_kx = np.linspace(-(2*(Nx-1)/float(Nx) - 1)*side_kx, side_kx, num=Nx, retstep=True)"
     ],
     "language": "python",
     "metadata": {},
     "outputs": [],
     "prompt_number": 9
    },
    {
     "cell_type": "code",
     "collapsed": false,
     "input": [
      "#fig, ax = plt.subplots(1, 1, figsize=(5, 5))\n",
      "\n",
      "#ax.imshow(psiC, cmap=cm.binary, origin='lower', extent=lC * np.array([x[0], x[-1], y[0], y[-1]]))\n",
      "#ax.set_title(r'$\\vert\\psi_C\\vert^2$')\n",
      "\n",
      "#ax.set_ylabel(y_label)\n",
      "#ax.set_xlabel(x_label)"
     ],
     "language": "python",
     "metadata": {},
     "outputs": [],
     "prompt_number": 10
    },
    {
     "cell_type": "markdown",
     "metadata": {},
     "source": [
      "Define a function that plots a given data file"
     ]
    },
    {
     "cell_type": "code",
     "collapsed": false,
     "input": [
      "def plot_fname(fname):\n",
      "    data = np.loadtxt(fname, usecols=(2,3),\\\n",
      "                      converters = {2: lambda val: float(val.translate(rule)),\\\n",
      "                                    3: lambda val: float(val.translate(rule))})\n",
      "    psiC = data[:, 0]**2 + data[:, 1]**2\n",
      "    psiC.shape = ((Ny, Nx))\n",
      "    fig, ax = plt.subplots(figsize=(5,5))\n",
      "    im = ax.imshow(psiC, cmap=cm.binary, origin='lower', extent=lC * np.array([x[0], x[-1], y[0], y[-1]]))\n",
      "    ax.set_title(r'$\\vert\\psi_C\\vert^2$' + ' for ' + fname)\n",
      "    ax.set_ylabel(y_label)\n",
      "    ax.set_xlabel(x_label)\n",
      "    cbar = fig.colorbar(im)\n",
      "    #plt.show()"
     ],
     "language": "python",
     "metadata": {},
     "outputs": [],
     "prompt_number": 18
    },
    {
     "cell_type": "code",
     "collapsed": false,
     "input": [
      "plot_fname('phcplx-opo_spc20.dat')"
     ],
     "language": "python",
     "metadata": {},
     "outputs": [
      {
       "metadata": {},
       "output_type": "display_data",
       "png": "[encoded data removed]",
       "text": [
        "<matplotlib.figure.Figure at 0x7f0419bd5d50>"
       ]
      }
     ],
     "prompt_number": 19
    },
    {
     "cell_type": "markdown",
     "metadata": {},
     "source": [
      "Start the fortran code:"
     ]
    },
    {
     "cell_type": "code",
     "collapsed": false,
     "input": [
      "#p = Popen(['./RK_OPO_rk.out', '5'])\n",
      "#p.poll()"
     ],
     "language": "python",
     "metadata": {},
     "outputs": [],
     "prompt_number": 13
    },
    {
     "cell_type": "markdown",
     "metadata": {},
     "source": [
      "Watch the data files, and plot them as they become available"
     ]
    },
    {
     "cell_type": "code",
     "collapsed": false,
     "input": [
      "#last_seen = None\n",
      "\n",
      "#def mtime(fname):\n",
      "#    return os.stat(fname).st_mtime\n",
      "\n",
      "#previous = None\n",
      "\n",
      "#tic = time.time()\n",
      "#while p.poll() is None: # while the subprocess is running\n",
      "#    time.sleep(1)\n",
      "    #print(\"elapsed: %.0f\" % (time.time() - tic))\n",
      "#    fnames = glob.glob(\"phcplx-opo_spc*.dat\")\n",
      "#    if not fnames:\n",
      "        # no data files\n",
      "#        continue\n",
      "    # get the most recently modified file\n",
      "#    sorted_fnames = sorted(fnames, key=mtime)\n",
      "#    latest = sorted_fnames[-1]\n",
      "    # if the most recent file is not the currently displayed plot,\n",
      "    # clear the output and make a new plot\n",
      "#    if latest != previous:\n",
      "#        times = [mtime(fname) for fname in sorted_fnames]\n",
      "#        previous = latest\n",
      "#        clear_output(wait=True)\n",
      "#        plot_fname(latest)\n",
      "    \n",
      "#print(\"done\")  "
     ],
     "language": "python",
     "metadata": {},
     "outputs": [],
     "prompt_number": 14
    }
   ],
   "metadata": {}
  }
 ]
}