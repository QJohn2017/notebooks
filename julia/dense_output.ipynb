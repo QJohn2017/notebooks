{
 "metadata": {
  "language": "Julia",
  "name": "",
  "signature": "sha256:8bab23cc2200a8bcf510e4f3bc7d850535459fddc65164b9de0466fe8425f912"
 },
 "nbformat": 3,
 "nbformat_minor": 0,
 "worksheets": [
  {
   "cells": [
    {
     "cell_type": "markdown",
     "metadata": {},
     "source": [
      "We have the following first order system of non-stiff ODEs"
     ]
    },
    {
     "cell_type": "markdown",
     "metadata": {},
     "source": [
      "$$x^{\\prime}(t) = F(t, x(t))$$ with $x(t_0)$ known."
     ]
    },
    {
     "cell_type": "markdown",
     "metadata": {},
     "source": [
      "The system may be solved iteratively using an embedded RK algorithm with formulas of order $p$ and $s<p$"
     ]
    },
    {
     "cell_type": "markdown",
     "metadata": {},
     "source": [
      "$$x^{\\text{p}}_{n+1} = x^{\\text{p}}_{n} + h_n \\sum_{i=1}^{n_s} b^{\\text{p}}_i k_i$$\n",
      "$$x^{\\text{s}}_{n+1} = x^{\\text{s}}_{n} + h_n \\sum_{i=1}^{n_s} b^{\\text{s}}_i k_i$$"
     ]
    },
    {
     "cell_type": "markdown",
     "metadata": {},
     "source": [
      "where $k_i = F(t_n + c_i h_n, x^{\\text{p}}_{n} + h_n \\sum_{j=1}^{i-1}a_{ij} k_j)$, $i=1,2,\\dots,n_s$."
     ]
    },
    {
     "cell_type": "markdown",
     "metadata": {},
     "source": [
      "and $c_i = \\sum_{j=1}^{i-1}a_{ij}$, $t_{n+1} = t_n + h_n$, $h_n = \\sigma(t_n) h$, $0<\\sigma(t) \\leq 1$, $x^{\\text{p}}_{0} = x(t_0)$"
     ]
    },
    {
     "cell_type": "markdown",
     "metadata": {},
     "source": [
      "For the dense output we need to add a third formula, for propagating $x$ from time $t_n$ to $t_n + \\theta h_n$, with $0<\\theta<1$. This formula can be expressed in a similar manner to the above, as"
     ]
    },
    {
     "cell_type": "markdown",
     "metadata": {},
     "source": [
      "$$x^{\\text{d}}_{n+\\theta} = x^{\\text{p}}_{n} + \\theta h_n \\sum_{i=1}^{n^*_s} b^{\\text{d}}_i(\\theta) k^{\\text{d}}_i$$"
     ]
    },
    {
     "cell_type": "markdown",
     "metadata": {},
     "source": [
      "$k^{\\text{d}}_i = F(t_n + c^{\\text{d}}_i \\theta h_n, x^{\\text{p}}_{n} + \\theta h_n \\sum_{j=1}^{i-1}a^{\\text{d}}_{ij} k^{\\text{d}}_j)$, $i=1,2,\\dots,n^*_s$."
     ]
    },
    {
     "cell_type": "markdown",
     "metadata": {},
     "source": [
      "Let's call the order of this approximation $d$. Depending on the values of $s,p,d$ one may need extra evaluations of the rhs function $F$, i.e. it may be that $n_s^* > n_s$. "
     ]
    },
    {
     "cell_type": "markdown",
     "metadata": {},
     "source": [
      "Ideally we would like to avoid extra evaluations. If one has $c_i^{\\text{d}} = c_i/\\theta$ and $a^{\\text{d}}_{ij} = a_{ij}/\\theta$ then the $k_i^{\\text{d}}$ coefficients reduce to the already evaluated $k_i$."
     ]
    },
    {
     "cell_type": "markdown",
     "metadata": {},
     "source": [
      "For the concrete example of $p=5, s=4, d=4$ with the Dormand-Prince coefficients and $n_s=7$, it turns out one can find a set of coefficients $b^{\\text{d}}$ such that no extra steps are needed."
     ]
    },
    {
     "cell_type": "markdown",
     "metadata": {},
     "source": [
      "The following values are taken from the original 1986 paper of Dormand and Prince, \"Runge-Kutta Triples\". The interpolating polynomial coefficients for RK5(4) are:"
     ]
    },
    {
     "cell_type": "markdown",
     "metadata": {},
     "source": [
      "$$b^{\\text{d}}_1(\\theta) = (157015080\\theta^4 - 13107642775\\theta^3 + 34969693132\\theta^2-32272833064\\theta + 11282082432)/11282082432$$"
     ]
    },
    {
     "cell_type": "markdown",
     "metadata": {},
     "source": [
      "$$b^{\\text{d}}_2(\\theta) = 0$$"
     ]
    },
    {
     "cell_type": "markdown",
     "metadata": {},
     "source": [
      "$$b^{\\text{d}}_3(\\theta) = -100\\theta(15701508\\theta^3 - 914128567\\theta^2 + 2074956840\\theta - 1323431896)/32700410799$$"
     ]
    },
    {
     "cell_type": "markdown",
     "metadata": {},
     "source": [
      "$$b^{\\text{d}}_4(\\theta) = 25\\theta(94209048\\theta^3 - 1518414297\\theta^2 + 2460397220\\theta - 889289856)/5641041216$$"
     ]
    },
    {
     "cell_type": "markdown",
     "metadata": {},
     "source": [
      "$$b^{\\text{d}}_5(\\theta) = -2187\\theta(52338360\\theta^3 - 451824525\\theta^2 + 687873124\\theta - 259006536)/199316789632$$"
     ]
    },
    {
     "cell_type": "markdown",
     "metadata": {},
     "source": [
      "$$b^{\\text{d}}_6(\\theta) = 11\\theta(106151040\\theta^3 - 661884105\\theta^2 + 946554244\\theta - 361440756)/2467955532$$"
     ]
    },
    {
     "cell_type": "markdown",
     "metadata": {},
     "source": [
      "$$b^{\\text{d}}_7(\\theta) = \\frac{\\theta(1-\\theta)(8293050\\theta^2-82437520\\theta+44764047)}{29380423}$$"
     ]
    },
    {
     "cell_type": "markdown",
     "metadata": {},
     "source": [
      "There are also cases when the dense output equations cannot be satisfied for all $\\theta$ in the interval $[0,1]$, and in that case an interpolating polynomial based on the end points and some intermediate points can be constructed for any step interval."
     ]
    }
   ],
   "metadata": {}
  }
 ]
}