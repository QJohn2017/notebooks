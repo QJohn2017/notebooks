{
 "metadata": {
  "language": "Julia",
  "name": "",
  "signature": "sha256:988d69096b239d3e7eab57441f2c0dba05ad4352bb6a7f89ee2fdbc9947b3b4a"
 },
 "nbformat": 3,
 "nbformat_minor": 0,
 "worksheets": [
  {
   "cells": [
    {
     "cell_type": "code",
     "collapsed": false,
     "input": [
      "# modules\n",
      "using PyPlot\n",
      "using Contour\n",
      "using IniFile"
     ],
     "language": "python",
     "metadata": {},
     "outputs": [
      {
       "output_type": "stream",
       "stream": "stderr",
       "text": [
        "INFO: Loading help data...\n"
       ]
      }
     ],
     "prompt_number": 1
    },
    {
     "cell_type": "code",
     "collapsed": false,
     "input": [
      "# my modules\n",
      "using Various"
     ],
     "language": "python",
     "metadata": {},
     "outputs": []
    },
    {
     "cell_type": "code",
     "collapsed": false,
     "input": [
      "ini = Inifile()\n",
      "read(ini, \"/home/berceanu/notebooks/OPODrag/parameters.ini\");"
     ],
     "language": "python",
     "metadata": {},
     "outputs": []
    },
    {
     "cell_type": "code",
     "collapsed": false,
     "input": [
      "# ks0.7 ks0.0 ks-0.4\n",
      "const kssect = \"ks0.0\"; "
     ],
     "language": "python",
     "metadata": {},
     "outputs": []
    },
    {
     "cell_type": "code",
     "collapsed": false,
     "input": [
      "const \u0394k  = get_float(ini, kssect, \"delta_k\")\n",
      "const nkx = get_int(ini, kssect, \"nkx\");"
     ],
     "language": "python",
     "metadata": {},
     "outputs": []
    },
    {
     "cell_type": "code",
     "collapsed": false,
     "input": [
      "const sider = pi/\u0394k\n",
      "const sidek = nkx*\u0394k/2\n",
      "const \u0394r    = pi/sidek;"
     ],
     "language": "python",
     "metadata": {},
     "outputs": []
    },
    {
     "cell_type": "code",
     "collapsed": false,
     "input": [
      "const xdef = ydef =0.;"
     ],
     "language": "python",
     "metadata": {},
     "outputs": []
    },
    {
     "cell_type": "code",
     "collapsed": true,
     "input": [
      "const sbox = sysbox(-sider:\u0394r:sider-\u0394r, -sider:\u0394r:sider-\u0394r, -sidek:\u0394k:sidek-\u0394k, -sidek:\u0394k:sidek-\u0394k)"
     ],
     "language": "python",
     "metadata": {},
     "outputs": []
    },
    {
     "cell_type": "code",
     "collapsed": true,
     "input": [
      "resr = readdata(\"/home/berceanu/notebooks/OPODrag/\", \"OPODrag.py\", \"res_r.npy\", kssect);"
     ],
     "language": "python",
     "metadata": {},
     "outputs": []
    },
    {
     "cell_type": "code",
     "collapsed": false,
     "input": [
      "const pump = resr[:,:,2];"
     ],
     "language": "python",
     "metadata": {},
     "outputs": []
    },
    {
     "cell_type": "code",
     "collapsed": false,
     "input": [
      "# crop data\n",
      "const cpmpdata, cx, cy = cropmat(pump, sbox.x, sbox.y; xcenter=xdef, ycenter=ydef, side=60.);"
     ],
     "language": "python",
     "metadata": {},
     "outputs": []
    },
    {
     "cell_type": "code",
     "collapsed": false,
     "input": [
      "fig, ax = plt.subplots(figsize=(4, 4))\n",
      "\n",
      "ax[:imshow](cpmpdata, ColorMap(\"gray\"), origin=\"lower\",\n",
      "                            extent=[cx[1], cx[end], cy[1], cy[end]])\n",
      "ax[:set_title](\"pump\")\n",
      "\n",
      "ax[:scatter](xdef, ydef, s=40, c=\"orange\", marker=\"o\")\n",
      "ax[:set_ylim](cy[1], cy[end])\n",
      "ax[:set_xlim](cx[1], cx[end])\n",
      "ax[:set_xlabel](L\"$x [\\mu m]$\")\n",
      "ax[:set_ylabel](L\"$y [\\mu m]$\")"
     ],
     "language": "python",
     "metadata": {},
     "outputs": []
    },
    {
     "cell_type": "code",
     "collapsed": false,
     "input": [
      "# plotting cuts through data\n",
      "fig, ax = plt.subplots(figsize=(10, 4))\n",
      "\n",
      "ax[:plot](cx, vec(cpmpdata[div(length(cy),2), :])) \n",
      "\n",
      "ax[:set_xlim](cx[1], cx[div(length(cx),2)])\n",
      "ax[:set_xlabel](L\"$x [\\mu m]$\")\n",
      "\n",
      "ax[:grid]()"
     ],
     "language": "python",
     "metadata": {},
     "outputs": []
    },
    {
     "cell_type": "code",
     "collapsed": false,
     "input": [
      "# plotting cuts through data\n",
      "fig, ax = plt.subplots(figsize=(10, 4))\n",
      "\n",
      "ax[:plot](cx[1:div(length(cx),4)], vec(cpmpdata[div(length(cy),2), 1:div(length(cx),4)])) \n",
      "\n",
      "ax[:set_xlim](cx[1], cx[div(length(cx),4)])\n",
      "ax[:set_xlabel](L\"$x [\\mu m]$\")\n",
      "\n",
      "ax[:grid]()"
     ],
     "language": "python",
     "metadata": {},
     "outputs": []
    }
   ],
   "metadata": {}
  }
 ]
}