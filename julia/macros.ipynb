{
 "metadata": {
  "language": "Julia",
  "name": "",
  "signature": "sha256:b215d7bedb7dd47f6d359e4f4126142d5683189afb5cb33e8b9d659138b97de7"
 },
 "nbformat": 3,
 "nbformat_minor": 0,
 "worksheets": [
  {
   "cells": [
    {
     "cell_type": "raw",
     "metadata": {},
     "source": [
      "macro Q(m,n, X1,X2,X3, A1,A2,A3)\n",
      "    X = [X1,X2,X3]\n",
      "    A = [A1,A2,A3]\n",
      "    Asum = Expr(:call, :+)\n",
      "    for q=1:3, t=1:3\n",
      "        if m+n == q+t\n",
      "            push!(Asum.args, :($(A[q]) * $(A[t])))\n",
      "        end\n",
      "    end\n",
      "    :(conj($(X[m])) * conj($(X[n])) * $Asum)\n",
      "end"
     ]
    },
    {
     "cell_type": "code",
     "collapsed": false,
     "input": [
      "#macroexpand(:(@Q(1,2, X1,X2,X3, A1,A2,A3)))"
     ],
     "language": "python",
     "metadata": {},
     "outputs": [],
     "prompt_number": 6
    },
    {
     "cell_type": "markdown",
     "metadata": {},
     "source": [
      "$$Q_{mn}(k)=X^{*}(k_{m}+k)X^{*}(k_{n}-k)\\sum_{q,t=1}^{3}\\delta_{m+n,q+t}\\tilde{A}_{q}\\tilde{A}_{t}$$"
     ]
    },
    {
     "cell_type": "code",
     "collapsed": false,
     "input": [
      "macro Q(m,n,ky,kx, k1y,k2y,k3y,k1x,k2x,k3x, A1,A2,A3)\n",
      "    Ky = [k1y,k2y,k3y]\n",
      "    Kx = [k1x,k2x,k3x]\n",
      "    A = [A1,A2,A3]\n",
      "    Asum = Expr(:call, :+)\n",
      "    for q=1:3, t=1:3\n",
      "        if m+n == q+t\n",
      "            push!(Asum.args, :($(A[q]) * $(A[t])))\n",
      "        end\n",
      "    end\n",
      "    :(conj(X($(Ky[m])+$ky, $(Kx[m])+$kx)) * conj(X($(Ky[n])-$ky, $(Kx[n])-$kx)) * $Asum)\n",
      "end"
     ],
     "language": "python",
     "metadata": {},
     "outputs": [],
     "prompt_number": 7
    },
    {
     "cell_type": "code",
     "collapsed": false,
     "input": [
      "macroexpand(:(@Q(1,2,-ky,-kx, ksy,kpy,kiy, ksx,kpx,kix, S,P,I)))"
     ],
     "language": "python",
     "metadata": {},
     "outputs": [
      {
       "metadata": {},
       "output_type": "pyout",
       "prompt_number": 8,
       "text": [
        ":(conj(X(ksy + -ky,ksx + -kx)) * conj(X(kpy - -ky,kpx - -kx)) * (S * P + P * S))"
       ]
      }
     ],
     "prompt_number": 8
    },
    {
     "cell_type": "markdown",
     "metadata": {},
     "source": [
      "$$M_{mn}(k)=\\left[\\epsilon\\left(k_{m}+k\\right)-\\omega_{m}-i\\frac{\\gamma\\left(k_{m}+k\\right)}{2}\\right]\\delta_{m,n}+2X(k_{n}+k)X^{*}(k_{m}+k)\\sum_{q,t=1}^{3}\\delta_{m+q,n+t}\\tilde{A}_{q}^{*}\\tilde{A}_{t}$$"
     ]
    },
    {
     "cell_type": "code",
     "collapsed": false,
     "input": [
      "macro M(m,n,ky,kx, k1y,k2y,k3y,k1x,k2x,k3x, \u03c91,\u03c92,\u03c93, A1,A2,A3)\n",
      "    Ky = [k1y,k2y,k3y]\n",
      "    Kx = [k1x,k2x,k3x]\n",
      "    \u03c9 = [\u03c91, \u03c92, \u03c93]\n",
      "    A = [A1,A2,A3]\n",
      "    Asum = Expr(:call, :+)\n",
      "    for q=1:3, t=1:3\n",
      "        if m+q == n+t\n",
      "            push!(Asum.args, :(conj($(A[q])) * $(A[t])))\n",
      "        end\n",
      "    end\n",
      "    if m == n\n",
      "        :(\u03b5($(Ky[m])+$ky, $(Kx[m])+$kx) - $(\u03c9[m]) -1/2*im*\u03b3($(Ky[m])+$ky, $(Kx[m])+$kx) + 2*abs2(X($(Ky[m])+$ky, $(Kx[m])+$kx)) * $Asum)\n",
      "    else\n",
      "        :(2 * conj(X($(Ky[m])+$ky, $(Kx[m])+$kx)) * X($(Ky[n])+$ky, $(Kx[n])+$kx) * $Asum)\n",
      "    end\n",
      "end"
     ],
     "language": "python",
     "metadata": {},
     "outputs": [],
     "prompt_number": 9
    },
    {
     "cell_type": "code",
     "collapsed": false,
     "input": [
      "macroexpand(:(@M(1,2,ky,kx, ksy,kpy,kiy,ksx,kpx,kix, \u03c9s,\u03c9p,\u03c9i, S,P,I)))"
     ],
     "language": "python",
     "metadata": {},
     "outputs": [
      {
       "metadata": {},
       "output_type": "pyout",
       "prompt_number": 10,
       "text": [
        ":(2 * conj(X(ksy + ky,ksx + kx)) * X(kpy + ky,kpx + kx) * (conj(P) * S + conj(I) * P))"
       ]
      }
     ],
     "prompt_number": 10
    },
    {
     "cell_type": "markdown",
     "metadata": {},
     "source": [
      "\\begin{equation}\n",
      "\\mathcal{L}(k) =\n",
      "\\begin{pmatrix}\n",
      "M(k) & Q(k) \\\\\n",
      "-Q^*(-k) & -M^*(-k) \n",
      "\\end{pmatrix}\n",
      "\\end{equation} "
     ]
    },
    {
     "cell_type": "code",
     "collapsed": false,
     "input": [
      "macro L(i,j,ky,kx, k1y,k2y,k3y,k1x,k2x,k3x, \u03c91,\u03c92,\u03c93, A1,A2,A3)\n",
      "    if i\u22643 && j\u22643\n",
      "        m = i\n",
      "        n = j\n",
      "        quote\n",
      "            @M($m,$n,$ky,$kx, $k1y,$k2y,$k3y,$k1x,$k2x,$k3x, $\u03c91,$\u03c92,$\u03c93, $A1,$A2,$A3)\n",
      "        end\n",
      "    elseif i\u22643 && j>3\n",
      "        m = i\n",
      "        n = j-3\n",
      "        quote\n",
      "            @Q($m,$n,$ky,$kx, $k1y,$k2y,$k3y,$k1x,$k2x,$k3x, $A1,$A2,$A3)\n",
      "        end\n",
      "    elseif i>3 && j\u22643\n",
      "        m = i-3\n",
      "        n = j\n",
      "        quote\n",
      "            -conj(@Q($m,$n,-$ky,-$kx, $k1y,$k2y,$k3y,$k1x,$k2x,$k3x, $A1,$A2,$A3))\n",
      "        end\n",
      "    elseif i>3 && j>3\n",
      "        m = i-3\n",
      "        n = j-3\n",
      "        quote\n",
      "            -conj(@M($m,$n,-$ky,-$kx, $k1y,$k2y,$k3y,$k1x,$k2x,$k3x, $\u03c91,$\u03c92,$\u03c93, $A1,$A2,$A3))\n",
      "        end\n",
      "    end\n",
      "end"
     ],
     "language": "python",
     "metadata": {},
     "outputs": [],
     "prompt_number": 11
    },
    {
     "cell_type": "code",
     "collapsed": false,
     "input": [
      "macroexpand(:(@L(4,4,ky,kx, ksy,kpy,kiy,ksx,kpx,kix, \u03c9s,\u03c9p,\u03c9i, S,P,I)))"
     ],
     "language": "python",
     "metadata": {},
     "outputs": [
      {
       "metadata": {},
       "output_type": "pyout",
       "prompt_number": 12,
       "text": [
        ":(begin  # In[11], line 24:\n",
        "        -(conj(((\u03b5(ksy + -ky,ksx + -kx) - \u03c9s) - (1 / 2) * im * \u03b3(ksy + -ky,ksx + -kx)) + 2 * abs2(X(ksy + -ky,ksx + -kx)) * (conj(S) * S + conj(P) * P + conj(I) * I)))\n",
        "    end)"
       ]
      }
     ],
     "prompt_number": 12
    },
    {
     "cell_type": "code",
     "collapsed": false,
     "input": [
      "#@L(4,4,ky,kx, 0,0,0,ksx,kpx,kix, \u03c9s,\u03c9p,\u03c9i, S,P,I)"
     ],
     "language": "python",
     "metadata": {},
     "outputs": [],
     "prompt_number": 13
    },
    {
     "cell_type": "code",
     "collapsed": false,
     "input": [
      "\u03b5(ky,kx) = ky+kx\n",
      "X(ky,kx) = ky-kx\n",
      "\u03b3(ky,kx) = ky*kx"
     ],
     "language": "python",
     "metadata": {},
     "outputs": [
      {
       "metadata": {},
       "output_type": "pyout",
       "prompt_number": 14,
       "text": [
        "\u03b3 (generic function with 1 method)"
       ]
      }
     ],
     "prompt_number": 14
    },
    {
     "cell_type": "code",
     "collapsed": false,
     "input": [
      "@L(6,6,1,1, 0,0,0,2,3,4, 1,2,3, 1,2,3)"
     ],
     "language": "python",
     "metadata": {},
     "outputs": [
      {
       "metadata": {},
       "output_type": "pyout",
       "prompt_number": 53,
       "text": [
        "-447.0 + 1.5im"
       ]
      }
     ],
     "prompt_number": 53
    },
    {
     "cell_type": "code",
     "collapsed": false,
     "input": [
      "function genmatL(ky,kx, ksy,kpy,kiy,ksx,kpx,kix, \u03c9s,\u03c9p,\u03c9i, S,P,I)\n",
      "    Lmat = Array(Complex{Float64}, 6,6);\n",
      "    for j=1:6, i=1:6\n",
      "        Lmat[i,j] = @eval @L($i,$j,$ky,$kx, $ksy,$kpy,$kiy,$ksx,$kpx,$kix, $\u03c9s,$\u03c9p,$\u03c9i, $S,$P,$I)\n",
      "    end\n",
      "    return Lmat\n",
      "end"
     ],
     "language": "python",
     "metadata": {},
     "outputs": [
      {
       "metadata": {},
       "output_type": "pyout",
       "prompt_number": 54,
       "text": [
        "genmatL (generic function with 1 method)"
       ]
      }
     ],
     "prompt_number": 54
    },
    {
     "cell_type": "code",
     "collapsed": false,
     "input": [
      "genmatL(1,1, 0,0,0,2,3,4, 1,2,3, 1,2,3)"
     ],
     "language": "python",
     "metadata": {},
     "outputs": [
      {
       "metadata": {},
       "output_type": "pyout",
       "prompt_number": 55,
       "text": [
        "6x6 Array{Complex{Float64},2}:\n",
        " 115.0-1.5im    96.0+0.0im    48.0+0.0im  \u2026    24.0+0.0im    80.0+0.0im\n",
        "  96.0+0.0im   255.0-2.0im   192.0+0.0im       90.0+0.0im   144.0+0.0im\n",
        "  48.0+0.0im   192.0+0.0im   451.0-2.5im      144.0+0.0im   144.0+0.0im\n",
        "  -4.0+0.0im   -24.0+0.0im   -80.0+0.0im      -96.0+0.0im   -48.0+0.0im\n",
        " -24.0+0.0im   -90.0+0.0im  -144.0+0.0im     -251.0+1.0im  -192.0+0.0im\n",
        " -80.0+0.0im  -144.0+0.0im  -144.0+0.0im  \u2026  -192.0+0.0im  -447.0+1.5im"
       ]
      }
     ],
     "prompt_number": 55
    },
    {
     "cell_type": "code",
     "collapsed": false,
     "input": [],
     "language": "python",
     "metadata": {},
     "outputs": []
    }
   ],
   "metadata": {}
  }
 ]
}