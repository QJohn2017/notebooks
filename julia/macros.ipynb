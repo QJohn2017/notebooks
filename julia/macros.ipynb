{
 "metadata": {
  "language": "Julia",
  "name": "",
  "signature": "sha256:13ac2ff24595fa1428d952103e3443cd3f7eb43fd945db0768ddbd9d10110f03"
 },
 "nbformat": 3,
 "nbformat_minor": 0,
 "worksheets": [
  {
   "cells": [
    {
     "cell_type": "markdown",
     "metadata": {},
     "source": [
      "$$Q_{mn}(k)=X^{*}(k_{m}+k)X^{*}(k_{n}-k)\\sum_{q,t=1}^{3}\\delta_{m+n,q+t}\\tilde{A}_{q}\\tilde{A}_{t}$$"
     ]
    },
    {
     "cell_type": "code",
     "collapsed": false,
     "input": [
      "function Q(m,n,ky,kx, k1y,k2y,k3y,k1x,k2x,k3x, A1,A2,A3)\n",
      "    Ky = [k1y,k2y,k3y]\n",
      "    Kx = [k1x,k2x,k3x]\n",
      "    A = [A1,A2,A3]\n",
      "    Asum = Expr(:call, :+)\n",
      "    for q=1:3, t=1:3\n",
      "        if m+n == q+t\n",
      "            push!(Asum.args, :($(A[q]) * $(A[t])))\n",
      "        end\n",
      "    end\n",
      "    :(conj(X($(Ky[m])+$ky, $(Kx[m])+$kx)) * conj(X($(Ky[n])-$ky, $(Kx[n])-$kx)) * $Asum)\n",
      "end"
     ],
     "language": "python",
     "metadata": {},
     "outputs": [
      {
       "metadata": {},
       "output_type": "pyout",
       "prompt_number": 1,
       "text": [
        "Q (generic function with 1 method)"
       ]
      }
     ],
     "prompt_number": 1
    },
    {
     "cell_type": "code",
     "collapsed": false,
     "input": [
      "dump(:ky)"
     ],
     "language": "python",
     "metadata": {},
     "outputs": [
      {
       "output_type": "stream",
       "stream": "stdout",
       "text": [
        "Symbol "
       ]
      },
      {
       "output_type": "stream",
       "stream": "stdout",
       "text": [
        "ky\n"
       ]
      }
     ],
     "prompt_number": 4
    },
    {
     "cell_type": "code",
     "collapsed": false,
     "input": [
      "Q(1,2,:ky,:kx, :ksy,:kpy,:kiy, :ksx,:kpx,:kix, :S,:P,:I)"
     ],
     "language": "python",
     "metadata": {},
     "outputs": [
      {
       "metadata": {},
       "output_type": "pyout",
       "prompt_number": 5,
       "text": [
        ":(conj(X(ksy + ky,ksx + kx)) * conj(X(kpy - ky,kpx - kx)) * (S * P + P * S))"
       ]
      }
     ],
     "prompt_number": 5
    },
    {
     "cell_type": "markdown",
     "metadata": {},
     "source": [
      "$$M_{mn}(k)=\\left[\\epsilon\\left(k_{m}+k\\right)-\\omega_{m}-i\\frac{\\gamma\\left(k_{m}+k\\right)}{2}\\right]\\delta_{m,n}+2X(k_{n}+k)X^{*}(k_{m}+k)\\sum_{q,t=1}^{3}\\delta_{m+q,n+t}\\tilde{A}_{q}^{*}\\tilde{A}_{t}$$"
     ]
    },
    {
     "cell_type": "code",
     "collapsed": false,
     "input": [
      "function M(m,n,ky,kx, k1y,k2y,k3y,k1x,k2x,k3x, \u03c91,\u03c92,\u03c93, A1,A2,A3)\n",
      "    Ky = [k1y,k2y,k3y]\n",
      "    Kx = [k1x,k2x,k3x]\n",
      "    \u03c9 = [\u03c91, \u03c92, \u03c93]\n",
      "    A = [A1,A2,A3]\n",
      "    Asum = Expr(:call, :+)\n",
      "    for q=1:3, t=1:3\n",
      "        if m+q == n+t\n",
      "            push!(Asum.args, :(conj($(A[q])) * $(A[t])))\n",
      "        end\n",
      "    end\n",
      "    if m == n\n",
      "        :(\u03b5($(Ky[m])+$ky, $(Kx[m])+$kx) - $(\u03c9[m]) -1/2*im*\u03b3($(Ky[m])+$ky, $(Kx[m])+$kx) + 2*abs2(X($(Ky[m])+$ky, $(Kx[m])+$kx)) * $Asum)\n",
      "    else\n",
      "        :(2 * conj(X($(Ky[m])+$ky, $(Kx[m])+$kx)) * X($(Ky[n])+$ky, $(Kx[n])+$kx) * $Asum)\n",
      "    end\n",
      "end"
     ],
     "language": "python",
     "metadata": {},
     "outputs": [
      {
       "metadata": {},
       "output_type": "pyout",
       "prompt_number": 6,
       "text": [
        "M (generic function with 1 method)"
       ]
      }
     ],
     "prompt_number": 6
    },
    {
     "cell_type": "code",
     "collapsed": false,
     "input": [
      "M(1,2,:ky,:kx, :ksy,:kpy,:kiy,:ksx,:kpx,:kix, :\u03c9s,:\u03c9p,:\u03c9i, :S,:P,:I)"
     ],
     "language": "python",
     "metadata": {},
     "outputs": [
      {
       "metadata": {},
       "output_type": "pyout",
       "prompt_number": 7,
       "text": [
        ":(2 * conj(X(ksy + ky,ksx + kx)) * X(kpy + ky,kpx + kx) * (conj(P) * S + conj(I) * P))"
       ]
      }
     ],
     "prompt_number": 7
    },
    {
     "cell_type": "markdown",
     "metadata": {},
     "source": [
      "\\begin{equation}\n",
      "\\mathcal{L}(k) =\n",
      "\\begin{pmatrix}\n",
      "M(k) & Q(k) \\\\\n",
      "-Q^*(-k) & -M^*(-k) \n",
      "\\end{pmatrix}\n",
      "\\end{equation} "
     ]
    },
    {
     "cell_type": "code",
     "collapsed": false,
     "input": [
      "function L(i,j,ky,kx, k1y,k2y,k3y,k1x,k2x,k3x, \u03c91,\u03c92,\u03c93, A1,A2,A3)\n",
      "    if i\u22643 && j\u22643\n",
      "        m = i\n",
      "        n = j\n",
      "        M(m,n,ky,kx, k1y,k2y,k3y,k1x,k2x,k3x, \u03c91,\u03c92,\u03c93, A1,A2,A3)\n",
      "    elseif i\u22643 && j>3\n",
      "        m = i\n",
      "        n = j-3\n",
      "        Q(m,n,ky,kx, k1y,k2y,k3y,k1x,k2x,k3x, A1,A2,A3)\n",
      "    elseif i>3 && j\u22643\n",
      "        m = i-3\n",
      "        n = j\n",
      "        conj(Q(m,n,ky,kx, k1y,k2y,k3y,k1x,k2x,k3x, A1,A2,A3))\n",
      "    elseif i>3 && j>3\n",
      "        m = i-3\n",
      "        n = j-3\n",
      "        conj(M(m,n,ky,kx, k1y,k2y,k3y,k1x,k2x,k3x, \u03c91,\u03c92,\u03c93, A1,A2,A3))\n",
      "    end\n",
      "end"
     ],
     "language": "python",
     "metadata": {},
     "outputs": [
      {
       "metadata": {},
       "output_type": "pyout",
       "prompt_number": 21,
       "text": [
        "L (generic function with 1 method)"
       ]
      }
     ],
     "prompt_number": 21
    },
    {
     "cell_type": "code",
     "collapsed": false,
     "input": [
      "#\u03b5(ky,kx) = ky+kx\n",
      "#X(ky,kx) = ky-kx\n",
      "#\u03b3(ky,kx) = ky*kx;"
     ],
     "language": "python",
     "metadata": {},
     "outputs": [
      {
       "metadata": {},
       "output_type": "pyout",
       "prompt_number": 14,
       "text": [
        "\u03b3 (generic function with 1 method)"
       ]
      }
     ],
     "prompt_number": 14
    },
    {
     "cell_type": "code",
     "collapsed": false,
     "input": [
      "function genmatL(ky,kx, ksy,kpy,kiy,ksx,kpx,kix, \u03c9s,\u03c9p,\u03c9i, S,P,I)\n",
      "    Lmat = Array(Expr, 6,6);\n",
      "    for j=1:6, i=1:6\n",
      "        Lmat[i,j] = L(i,j,ky,kx, ksy,kpy,kiy,ksx,kpx,kix, \u03c9s,\u03c9p,\u03c9i, S,P,I)\n",
      "    end\n",
      "    return Lmat\n",
      "end"
     ],
     "language": "python",
     "metadata": {},
     "outputs": [
      {
       "metadata": {},
       "output_type": "pyout",
       "prompt_number": 27,
       "text": [
        "genmatL (generic function with 1 method)"
       ]
      }
     ],
     "prompt_number": 27
    },
    {
     "cell_type": "code",
     "collapsed": false,
     "input": [
      "genmatL(:ky,:kx, :ksy,:kpy,:kiy,:ksx,:kpx,:kix, :\u03c9s,:\u03c9p,:\u03c9i, :S,:P,:I)"
     ],
     "language": "python",
     "metadata": {},
     "outputs": [
      {
       "metadata": {},
       "output_type": "pyout",
       "prompt_number": 28,
       "text": [
        "6x6 Array{Expr,2}:\n",
        " :(((\u03b5(ksy + ky,ksx + kx) - \u03c9s) - (1 / 2) * im * \u03b3(ksy + ky,ksx + kx)) + 2 * abs2(X(ksy + ky,ksx + kx)) * (conj(S) * S + conj(P) * P + conj(I) * I))  \u2026  :(conj(X(ksy + ky,ksx + kx)) * conj(X(kiy - ky,kix - kx)) * (S * I + P * P + I * S))                                                               \n",
        " :(2 * conj(X(kpy + ky,kpx + kx)) * X(ksy + ky,ksx + kx) * (conj(S) * P + conj(P) * I))                                                                  :(conj(X(kpy + ky,kpx + kx)) * conj(X(kiy - ky,kix - kx)) * (P * I + I * P))                                                                       \n",
        " :(2 * conj(X(kiy + ky,kix + kx)) * X(ksy + ky,ksx + kx) * +(conj(S) * I))                                                                               :(conj(X(kiy + ky,kix + kx)) * conj(X(kiy - ky,kix - kx)) * +(I * I))                                                                              \n",
        " :(conj(X(ksy + ky,ksx + kx)) * conj(X(ksy - ky,ksx - kx)) * +(S * S))                                                                                   :(2 * conj(X(ksy + ky,ksx + kx)) * X(kiy + ky,kix + kx) * +(conj(I) * S))                                                                          \n",
        " :(conj(X(kpy + ky,kpx + kx)) * conj(X(ksy - ky,ksx - kx)) * (S * P + P * S))                                                                            :(2 * conj(X(kpy + ky,kpx + kx)) * X(kiy + ky,kix + kx) * (conj(P) * S + conj(I) * P))                                                             \n",
        " :(conj(X(kiy + ky,kix + kx)) * conj(X(ksy - ky,ksx - kx)) * (S * I + P * P + I * S))                                                                 \u2026  :(((\u03b5(kiy + ky,kix + kx) - \u03c9i) - (1 / 2) * im * \u03b3(kiy + ky,kix + kx)) + 2 * abs2(X(kiy + ky,kix + kx)) * (conj(S) * S + conj(P) * P + conj(I) * I))"
       ]
      }
     ],
     "prompt_number": 28
    },
    {
     "cell_type": "markdown",
     "metadata": {},
     "source": [
      "TODO: time calculation of L and compare to python timings"
     ]
    },
    {
     "cell_type": "code",
     "collapsed": false,
     "input": [],
     "language": "python",
     "metadata": {},
     "outputs": []
    }
   ],
   "metadata": {}
  }
 ]
}