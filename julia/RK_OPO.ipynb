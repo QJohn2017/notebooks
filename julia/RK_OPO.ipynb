{
 "metadata": {
  "language": "Julia",
  "name": "",
  "signature": "sha256:53563e5cf3e78b3ebdc4461e88d8630f1db0266fff1c6318a6769e8b19c7c3ec"
 },
 "nbformat": 3,
 "nbformat_minor": 0,
 "worksheets": [
  {
   "cells": [
    {
     "cell_type": "code",
     "collapsed": false,
     "input": [
      "using PyPlot"
     ],
     "language": "python",
     "metadata": {},
     "outputs": [
      {
       "output_type": "stream",
       "stream": "stderr",
       "text": [
        "INFO: Loading help data...\n"
       ]
      }
     ],
     "prompt_number": 1
    },
    {
     "cell_type": "code",
     "collapsed": false,
     "input": [
      "fname = \"INPUT\"\n",
      "# using do means the file is closed automatically\n",
      "# in the same way \"with\" does in python\n",
      "open(fname,\"r\") do f\n",
      "    for line in eachline(f)\n",
      "        line = strip(replace(line,[',','/'],' '))\n",
      "        (line[1] == '&' || line[1] == '!') && continue\n",
      "        include_string(\"global const \" * uppercase(line))\n",
      "        println(uppercase(line))\n",
      "    end\n",
      "end"
     ],
     "language": "python",
     "metadata": {},
     "outputs": [
      {
       "output_type": "stream",
       "stream": "stdout",
       "text": [
        "RUN          = 1\n"
       ]
      },
      {
       "output_type": "stream",
       "stream": "stdout",
       "text": [
        "IN_SSWF_RK   = 0\n",
        "IN_SSWF_SP   = 10\n",
        "KOUNT_ST     = 0\n",
        "KOUNT_END    = 10\n",
        "KAPPA_C      = 0.12\n",
        "KAPPA_X      = 0.12\n",
        "DELTA        = 0.0\n",
        "K_P          = 1.394\n",
        "OMEGA_P      = -0.2\n",
        "SIGMA_P      = 40.0\n",
        "F_P          = 0.11\n",
        "MOM_CENT     = 1.39\n",
        "MOM_CUT      = 0.7\n",
        "OMEGA_CUT_P  = 0.001\n",
        "OMEGA_S      = -0.748\n",
        "OMEGA_CUT_S  = 0.001\n",
        "OMEGA_ID     = 0.349\n",
        "OMEGA_CUT_ID = 0.001\n",
        "LX           = 20.0\n",
        "LY           = 20.0\n",
        "NX           = 80\n",
        "NY           = 80\n",
        "NT           = 256\n",
        "TOT_H        = 200.00\n",
        "T_STFFT      = 200.0\n",
        "DXSAV_RK     = 10.0\n",
        "DXSAV_SP     = 1.0\n",
        "EPS_R        = 0.0001\n",
        "DEF_X_POS    = 0.0\n",
        "DEF_Y_POS    = 0.0\n",
        "GV           = 100.0\n"
       ]
      }
     ],
     "prompt_number": 2
    },
    {
     "cell_type": "code",
     "collapsed": false,
     "input": [
      "#f = [0, 1, ...,   n/2-1,     -n/2, ..., -1] / (d*n)   if n is even\n",
      "#f = [0, 1, ..., (n-1)/2, -(n-1)/2, ..., -1] / (d*n)   if n is odd\n",
      "function fftfreq(n::Int64, d::Float64)\n",
      "    N = fld(n-1,2)\n",
      "    p1 = [0:N]\n",
      "    p2 = [-fld(n,2):-1]\n",
      "    return [p1, p2]/(d*n)\n",
      "end"
     ],
     "language": "python",
     "metadata": {},
     "outputs": [
      {
       "metadata": {},
       "output_type": "pyout",
       "prompt_number": 3,
       "text": [
        "fftfreq (generic function with 1 method)"
       ]
      }
     ],
     "prompt_number": 3
    },
    {
     "cell_type": "code",
     "collapsed": false,
     "input": [
      "global const NORM = sqrt(NX*NY)/256/sqrt(LX*LY)*70\n",
      "global const AX = 2LX/NX\n",
      "global const AY = 2LY/NY\n",
      "global const SIDEKX = pi/AX\n",
      "global const SIDEKY = pi/AY\n",
      "\n",
      "global const SY = [-LY+(iy-1)*AY for iy=1:NY]\n",
      "global const SX = [-LX+(ix-1)*AX for ix=1:NX]'\n",
      "\n",
      "global const MOMY = fftfreq(NY, AY/2pi)\n",
      "global const MOMX = fftfreq(NX, AX/2pi)'"
     ],
     "language": "python",
     "metadata": {},
     "outputs": [
      {
       "metadata": {},
       "output_type": "pyout",
       "prompt_number": 4,
       "text": [
        "1x80 Array{Float64,2}:\n",
        " 0.0  0.15708  0.314159  0.471239  \u2026  -0.471239  -0.314159  -0.15708"
       ]
      }
     ],
     "prompt_number": 4
    },
    {
     "cell_type": "code",
     "collapsed": false,
     "input": [
      "findindex(distormom, side, delta) = iround((side + distormom) / delta) + 1"
     ],
     "language": "python",
     "metadata": {},
     "outputs": [
      {
       "metadata": {},
       "output_type": "pyout",
       "prompt_number": 5,
       "text": [
        "findindex (generic function with 1 method)"
       ]
      }
     ],
     "prompt_number": 5
    },
    {
     "cell_type": "code",
     "collapsed": false,
     "input": [
      "function initpotc()\n",
      "    ix = findindex(DEF_X_POS, LX, AX)\n",
      "    iy = findindex(DEF_Y_POS, LY, AY)\n",
      "    potential = zeros(NY, NX)\n",
      "    potential[iy, ix] = GV\n",
      "    return potential\n",
      "end"
     ],
     "language": "python",
     "metadata": {},
     "outputs": [
      {
       "metadata": {},
       "output_type": "pyout",
       "prompt_number": 6,
       "text": [
        "initpotc (generic function with 1 method)"
       ]
      }
     ],
     "prompt_number": 6
    },
    {
     "cell_type": "code",
     "collapsed": false,
     "input": [
      "function initkinetic()\n",
      "    kinetic = zeros(Float64, NX, NY)\n",
      "    for j = 1:NY/2+1\n",
      "        for k=1:NX/2+1\n",
      "            kinetic[k,j] = pi^2 * ((k-1)^2/(LX^2)+(j-1)^2/(LY^2))\n",
      "        end\n",
      "    end\n",
      "    for j = NY/2+2:NY\n",
      "        for k=NX/2+2:NX\n",
      "            kinetic[k,j] = pi^2 * ((k-1-NX)^2/(LX^2)+(j-1-NY)^2/(LY^2))\n",
      "        end\n",
      "    end\n",
      "    for j = 1:NY/2+1\n",
      "        for k=NX/2+2:NX\n",
      "            kinetic[k,j] = pi^2 * ((k-1-NX)^2/(LX^2)+(j-1)^2/(LY^2))\n",
      "        end\n",
      "    end\n",
      "    for j= NY/2+2:NY\n",
      "        for k = 1:NX/2+1\n",
      "            kinetic[k,j] = pi^2*((k-1)^2/(LX^2)+(j-1-NY)^2/(LY^2))\n",
      "        end\n",
      "    end\n",
      "    return kinetic\n",
      "end"
     ],
     "language": "python",
     "metadata": {},
     "outputs": [
      {
       "metadata": {},
       "output_type": "pyout",
       "prompt_number": 7,
       "text": [
        "initkinetic (generic function with 1 method)"
       ]
      }
     ],
     "prompt_number": 7
    },
    {
     "cell_type": "markdown",
     "metadata": {},
     "source": [
      "$$\\operatorname{DFT}(A)[k] = \\sum_{n=1}^{\\operatorname{length}(A)}\n",
      "\\exp\\left(-i\\frac{2\\pi (n-1)(k-1)}{\\operatorname{length}(A)} \\right)\n",
      "A[n].$$"
     ]
    },
    {
     "cell_type": "code",
     "collapsed": false,
     "input": [
      "setg(kx, ky) = kx .^ 2 .+ ky .^ 2"
     ],
     "language": "python",
     "metadata": {},
     "outputs": [
      {
       "metadata": {},
       "output_type": "pyout",
       "prompt_number": 8,
       "text": [
        "setg (generic function with 1 method)"
       ]
      }
     ],
     "prompt_number": 8
    },
    {
     "cell_type": "code",
     "collapsed": false,
     "input": [
      "function initpump(x, y)\n",
      "    #top hat pump\n",
      "    r = sqrt(x .^ 2 .+ y .^ 2)\n",
      "    0.5 * F_P / NORM * \n",
      "    (tanh(1 / 10 * (r .+ SIGMA_P)) - tanh(1 / 10 * (r .- SIGMA_P))) .* exp(im * (K_P * x .+ zero(K_P) * y))\n",
      "end"
     ],
     "language": "python",
     "metadata": {},
     "outputs": [
      {
       "metadata": {},
       "output_type": "pyout",
       "prompt_number": 9,
       "text": [
        "initpump (generic function with 1 method)"
       ]
      }
     ],
     "prompt_number": 9
    },
    {
     "cell_type": "code",
     "collapsed": false,
     "input": [
      "type System\n",
      "    kinetic::Array{Float64, 2}\n",
      "    potc::Array{Float64, 2}\n",
      "    pumpspc::Array{Complex{Float64}, 2}\n",
      "end"
     ],
     "language": "python",
     "metadata": {},
     "outputs": [],
     "prompt_number": 10
    },
    {
     "cell_type": "code",
     "collapsed": false,
     "input": [
      "type Wavefunction{T}\n",
      "    c::Array{T, 2}\n",
      "    x::Array{T, 2}\n",
      "end"
     ],
     "language": "python",
     "metadata": {},
     "outputs": [],
     "prompt_number": 11
    },
    {
     "cell_type": "code",
     "collapsed": false,
     "input": [
      "+{T}(psi1::Wavefunction{T}, psi2::Wavefunction{T}) = Wavefunction{T}(psi1.c + psi2.c, psi1.x + psi2.x)\n",
      "+{T}(psi::Wavefunction{T}, c::Float64) = Wavefunction{T}(psi.c .+ c, psi.x .+ c) \n",
      "*{T}(c::Number, psi::Wavefunction{T}) = Wavefunction{T}(c*psi.c, c*psi.x)\n",
      "/{T}(psi1::Wavefunction{T}, psi2::Wavefunction{T}) = Wavefunction{T}(psi1.c ./ psi2.c, psi1.x ./ psi2.x)\n",
      "import Base.abs\n",
      "abs(psi::Wavefunction{Complex{Float64}}) = Wavefunction{Float64}(abs(psi.c), abs(psi.x))\n",
      "import Base.maximum\n",
      "function maximum(psi::Wavefunction{Float64})\n",
      "    maxc = maximum(psi.c)\n",
      "    maxx = maximum(psi.x)\n",
      "    return max(maxc, maxx)\n",
      "end"
     ],
     "language": "python",
     "metadata": {},
     "outputs": [
      {
       "metadata": {},
       "output_type": "pyout",
       "prompt_number": 12,
       "text": [
        "maximum (generic function with 10 methods)"
       ]
      }
     ],
     "prompt_number": 12
    },
    {
     "cell_type": "code",
     "collapsed": false,
     "input": [
      "cav = System(\n",
      "#setg(MOMX, MOMY),\n",
      "initkinetic(),\n",
      "initpotc(), \n",
      "initpump(SX, SY));"
     ],
     "language": "python",
     "metadata": {},
     "outputs": [],
     "prompt_number": 13
    },
    {
     "cell_type": "code",
     "collapsed": false,
     "input": [
      "psiinit = Wavefunction{Complex{Float64}}(zeros(NY, NX), zeros(NY, NX));"
     ],
     "language": "python",
     "metadata": {},
     "outputs": [],
     "prompt_number": 14
    },
    {
     "cell_type": "code",
     "collapsed": false,
     "input": [
      "#psitest = Wavefunction{Complex{Float64}}(ones(NY, NX) + im*ones(NY, NX), ones(NY, NX) + im*ones(NY, NX));"
     ],
     "language": "python",
     "metadata": {},
     "outputs": [],
     "prompt_number": 15
    },
    {
     "cell_type": "code",
     "collapsed": false,
     "input": [
      "pcolor(SX, SY, cav.potc)\n",
      "colorbar()"
     ],
     "language": "python",
     "metadata": {},
     "outputs": [
      {
       "metadata": {},
       "output_type": "display_data",
       "png": "[encoded data removed]",
       "text": [
        "Figure(PyObject <matplotlib.figure.Figure object at 0x7f502005d048>)"
       ]
      },
      {
       "metadata": {},
       "output_type": "pyout",
       "prompt_number": 16,
       "text": [
        "PyObject <matplotlib.colorbar.Colorbar object at 0x7f500bf18048>"
       ]
      }
     ],
     "prompt_number": 16
    },
    {
     "cell_type": "code",
     "collapsed": false,
     "input": [
      "pcolor(cav.kinetic)\n",
      "colorbar()"
     ],
     "language": "python",
     "metadata": {},
     "outputs": [
      {
       "metadata": {},
       "output_type": "display_data",
       "png": "[encoded data removed]",
       "text": [
        "Figure(PyObject <matplotlib.figure.Figure object at 0x7f500bf5a860>)"
       ]
      },
      {
       "metadata": {},
       "output_type": "pyout",
       "prompt_number": 17,
       "text": [
        "PyObject <matplotlib.colorbar.Colorbar object at 0x7f500bd46588>"
       ]
      }
     ],
     "prompt_number": 17
    },
    {
     "cell_type": "code",
     "collapsed": false,
     "input": [
      "pcolor(SX, SY, abs2(cav.pumpspc))\n",
      "colorbar()"
     ],
     "language": "python",
     "metadata": {},
     "outputs": [
      {
       "metadata": {},
       "output_type": "display_data",
       "png": "[encoded data removed]",
       "text": [
        "Figure(PyObject <matplotlib.figure.Figure object at 0x7f500bcee048>)"
       ]
      },
      {
       "metadata": {},
       "output_type": "pyout",
       "prompt_number": 18,
       "text": [
        "PyObject <matplotlib.colorbar.Colorbar object at 0x7f500bbb6710>"
       ]
      }
     ],
     "prompt_number": 18
    },
    {
     "cell_type": "code",
     "collapsed": false,
     "input": [
      "function derivs(t::Float64, psi::Wavefunction{Complex{Float64}}, s::System)\n",
      "    #generate the energy dependence of the pump\n",
      "    pump = s.pumpspc * exp(-im * OMEGA_P * t)\n",
      "\n",
      "    #right hand side of the equation of motion\n",
      "    #photon part \n",
      "    dpsicdt = - im*psi.x - im*DELTA*psi.c - KAPPA_C*psi.c - im*pump\n",
      "    #add a potential to the photon part\n",
      "    dpsicdt += im*s.potc .* psi.c\n",
      "    #adding the kinetic energy by means of the FFT\n",
      "    dpsicdt -= im * ifft(s.kinetic .* fft(psi.c))\n",
      "    #exciton part\n",
      "    dpsixdt = -KAPPA_X*psi.x - im * abs2(psi.x) .* psi.x/(AX*AY) - im*psi.c\n",
      "    return Wavefunction{Complex{Float64}}(dpsicdt, dpsixdt)\n",
      "end"
     ],
     "language": "python",
     "metadata": {},
     "outputs": [
      {
       "metadata": {},
       "output_type": "pyout",
       "prompt_number": 19,
       "text": [
        "derivs (generic function with 1 method)"
       ]
      }
     ],
     "prompt_number": 19
    },
    {
     "cell_type": "code",
     "collapsed": false,
     "input": [
      "#Given values for psi and its derivative dpsidt known at t\n",
      "#use the fifth order Cash-Karp Runge-Kutta method to advance the\n",
      "#solution over an interval h and return the incremented variables as\n",
      "#psiout. Also return an estimate of the local truncation error in psiout\n",
      "#using the embedded fourth order method. The user supplies the\n",
      "#function derivs which returns derivatives dpsidt at t.\n",
      "\n",
      "function rkck(psi::Wavefunction{Complex{Float64}}, dpsidt::Wavefunction{Complex{Float64}},\n",
      "    t::Float64, h::Float64, s::System)        \n",
      "    const A2=0.2\n",
      "    const A3=0.3\n",
      "    const A4=0.6\n",
      "    const A5=1.0\n",
      "    const A6=0.875\n",
      "    const B21=0.2\n",
      "    const B31=3.0/40.0\n",
      "    const B32=9.0/40.0\n",
      "    const B41=0.3\n",
      "    const B42=-0.9\n",
      "    const B43=1.2\n",
      "    const B51=-11.0/54.0\n",
      "    const B52=2.5\n",
      "    const B53=-70.0/27.0\n",
      "    const B54=35.0/27.0\n",
      "    const B61=1631.0/55296.0\n",
      "    const B62=175.0/512.0\n",
      "    const B63=575.0/13824.0\n",
      "    const B64=44275.0/110592.0\n",
      "    const B65=253.0/4096.0\n",
      "    const C1=37.0/378.0\n",
      "    const C3=250.0/621.0\n",
      "    const C4=125.0/594.0\n",
      "    const C6=512.0/1771.0\n",
      "    const DC1=C1-2825.0/27648.0\n",
      "    const DC3=C3-18575.0/48384.0\n",
      "    const DC4=C4-13525.0/55296.0\n",
      "    const DC5=-277.0/14336.0\n",
      "    const DC6=C6-0.25\n",
      "    \n",
      "    psitemp=psi+B21*h*dpsidt\n",
      "    #First step.\n",
      "    ak2 = derivs(t+A2*h,psitemp,s)\n",
      "    #@show h, abs(ak2.x[1,1])\n",
      "    #Second step.\n",
      "    psitemp=psi+h*(B31*dpsidt+B32*ak2)\n",
      "    ak3 = derivs(t+A3*h,psitemp,s) \n",
      "    #Third step.\n",
      "    psitemp=psi+h*(B41*dpsidt+B42*ak2+B43*ak3)\n",
      "    ak4 = derivs(t+A4*h,psitemp,s) \n",
      "    #Fourth step.\n",
      "    psitemp=psi+h*(B51*dpsidt+B52*ak2+B53*ak3+B54*ak4)\n",
      "    ak5 = derivs(t+A5*h,psitemp,s) \n",
      "    #Fifth step.\n",
      "    psitemp=psi+h*(B61*dpsidt+B62*ak2+B63*ak3+B64*ak4+B65*ak5)\n",
      "    ak6 = derivs(t+A6*h,psitemp,s) \n",
      "    #Sixth step.\n",
      "    psiout=psi+h*(C1*dpsidt+C3*ak3+C4*ak4+C6*ak6) \n",
      "    #Accumulate increments with proper weights.\n",
      "    #@show abs(ak4.x[1,1])\n",
      "    psierr=h*(DC1*dpsidt+DC3*ak3+DC4*ak4+DC5*ak5+DC6*ak6)\n",
      "    #Estimate error as diference between fourth and fifth order methods.\n",
      "    return psiout, psierr\n",
      "end"
     ],
     "language": "python",
     "metadata": {},
     "outputs": [
      {
       "metadata": {},
       "output_type": "pyout",
       "prompt_number": 20,
       "text": [
        "rkck (generic function with 1 method)"
       ]
      }
     ],
     "prompt_number": 20
    },
    {
     "cell_type": "code",
     "collapsed": false,
     "input": [
      "#Fifth order Runge-Kutta step with monitoring of local truncation error    \n",
      "#to ensure accuracy and adjust stepsize. Input are the dependent variable    \n",
      "#matrix psi and its derivative dpsidt at the starting value of the    \n",
      "#independent variable t. Also input are the stepsize to be attempted htry    \n",
      "#the required accuracy eps and the matrix psiscal against which the error    \n",
      "#is scaled. psi dpsidt and psiscal are all of the same size. On output, psi and t are    \n",
      "#replaced by their new values, hdid is the stepsize that was actually    \n",
      "#accomplished, and hnext is the estimated next stepsize. derivs is the    \n",
      "#user-supplied subroutine that computes the right-hand-side derivatives.    \n",
      "\n",
      "function rkqs!(psi::Wavefunction{Complex{Float64}}, dpsidt::Wavefunction{Complex{Float64}},\n",
      "    t::Float64, htry::Float64, eps::Float64, psiscal::Wavefunction{Float64}, s::System)\n",
      "    const SAFETY=0.9\n",
      "    const PGROW=-0.2\n",
      "    const PSHRNK=-0.25\n",
      "    const ERRCON=1.89e-4\n",
      "\n",
      "    #Set step size to the initial trial value.\n",
      "    h=htry     \n",
      "    \n",
      "    errmax = 0.\n",
      "    psitemp = Wavefunction{Complex{Float64}}(zeros(NY, NX), zeros(NY, NX))\n",
      "    while true\n",
      "        #Take a step.    \n",
      "        psitemp, psierr = rkck(psi,dpsidt,t,h,s)\n",
      "        #Evaluate accuracy.\n",
      "        #@show sum(psitemp.x)+sum(psitemp.c)\n",
      "        errmax=maximum(abs(psierr)/psiscal)/eps\n",
      "        #@show errmax\n",
      "        #Step succeeded.    \n",
      "        (errmax <= 1.0) && break\n",
      "        ###########\n",
      "        #Truncation error too large, reduce stepsize.    \n",
      "        htemp=SAFETY*h*(errmax^PSHRNK)\n",
      "        #No more than a factor 10.\n",
      "        h=copysign(max(abs(htemp), 0.1*abs(h)), h)\n",
      "        #isapprox(h, 0.) && println(\"stepsize underflow in rkqs\")    \n",
      "    end\n",
      "    #Go back for another try. No more than a factor 5 increase.\n",
      "\n",
      "    errmax>ERRCON ? hnext=SAFETY*h*(errmax^PGROW) : (hnext=5.0*h)\n",
      "    hdid = h\n",
      "    t += h\n",
      "    psi = psitemp\n",
      "    if t % 5 < 1e-1\n",
      "        println(\"$t, $h\")\n",
      "    end\n",
      "    #@show hdid, t\n",
      "    return hdid, hnext, t, psi\n",
      "end"
     ],
     "language": "python",
     "metadata": {},
     "outputs": [
      {
       "metadata": {},
       "output_type": "pyout",
       "prompt_number": 21,
       "text": [
        "rkqs! (generic function with 1 method)"
       ]
      }
     ],
     "prompt_number": 21
    },
    {
     "cell_type": "code",
     "collapsed": false,
     "input": [
      "#Runge-Kutta driver with adaptive step size control.Integrate the array\n",
      "#of starting values psistart from t1 to t2 with accuracy eps. h1 should be\n",
      "#set as a guessed first stepsize, hmin as the minimum allowed stepsize\n",
      "#(can be zero). On output psistart is replaced by values at the end of the\n",
      "#integration interval. derivs is the user-supplied subroutine for\n",
      "#calculating the right-hand-side derivative, while rkqs is the name of\n",
      "#the stepper routine to be used.\n",
      "\n",
      "function odeintrk(psistart::Wavefunction{Complex{Float64}},\n",
      "    t1::Float64, t2::Float64, eps::Float64, h1::Float64, hmin::Float64, s::System)    \n",
      "    const MAXSTP = 1e+5\n",
      "    const TINY=1.0e-30\n",
      "\n",
      "    t    = t1\n",
      "    h    = copysign(h1, t2-t1)    \n",
      "    #nok  = 0\n",
      "    #nbad = 0\n",
      "    #kount= 0 \n",
      "    \n",
      "    psi = psistart\n",
      "    \n",
      "    #main program loop\n",
      "    for nstp = 1:MAXSTP     #Take at most MAXSTP steps\n",
      "        #Scaling used to monitor accuracy.\n",
      "        dpsi = derivs(t, psi, s)\n",
      "        psiscal = abs(psi) + abs(h*dpsi) + TINY\n",
      "\n",
      "        #If stepsize can overshoot,decrease.\n",
      "        #((t+h-t2)*(t+h-t1) > 0.0) && (h = t2 - t)     \n",
      "        \n",
      "        hdid, hnext, t, psi = rkqs!(psi,dpsi,t,h,eps,psiscal,s)\n",
      "        #isapprox(hdid,h) ? nok += 1 : (nbad += 1)\n",
      "        \n",
      "        #Are we done?\n",
      "        if (t-t2)*(t2-t1) >= 0.0\n",
      "            return psi\n",
      "        end\n",
      "        #(abs(hnext) < hmin) && println(\"stepsize smaller than minimum in odeint\")\n",
      "        h=hnext            \n",
      "    end\n",
      "    println(\"too many steps in odeint\")\n",
      "end"
     ],
     "language": "python",
     "metadata": {},
     "outputs": [
      {
       "metadata": {},
       "output_type": "pyout",
       "prompt_number": 22,
       "text": [
        "odeintrk (generic function with 1 method)"
       ]
      }
     ],
     "prompt_number": 22
    },
    {
     "cell_type": "code",
     "collapsed": false,
     "input": [
      "psifinal = odeintrk(psiinit,0.,TOT_H,EPS_R,0.001,0.,cav)"
     ],
     "language": "python",
     "metadata": {},
     "outputs": [
      {
       "output_type": "stream",
       "stream": "stdout",
       "text": [
        "5.693123097620127e-9, 5.693123097620127e-9"
       ]
      },
      {
       "output_type": "stream",
       "stream": "stdout",
       "text": [
        "\n",
        "1.1139022045850693e-8, 5.445898948230564e-9\n",
        "3.836851678700351e-8, 2.722949474115282e-8\n",
        "1.7451599049276763e-7, 1.361474737057641e-7"
       ]
      },
      {
       "output_type": "stream",
       "stream": "stdout",
       "text": [
        "\n",
        "8.552533590215882e-7, 6.807373685288206e-7\n",
        "4.258940201665691e-6, 3.403686842644103e-6\n",
        "2.1277374414886203e-5, 1.7018434213220513e-5"
       ]
      },
      {
       "output_type": "stream",
       "stream": "stdout",
       "text": [
        "\n",
        "0.00010636954548098877, 8.509217106610257e-5\n",
        "0.0005318304008115017, 0.00042546085533051286\n",
        "0.002418171706051629, 0.001886341305240127"
       ]
      },
      {
       "output_type": "stream",
       "stream": "stdout",
       "text": [
        "\n",
        "0.005929752563621646, 0.0035115808575700174\n",
        "0.011476486734740998, 0.0055467341711193515\n",
        "0.018900886877712207, 0.007424400142971211"
       ]
      },
      {
       "output_type": "stream",
       "stream": "stdout",
       "text": [
        "\n",
        "0.028077908571290753, 0.009177021693578546\n",
        "0.038847690092568526, 0.010769781521277777\n",
        "0.05060184335827379, 0.011754153265705263"
       ]
      },
      {
       "output_type": "stream",
       "stream": "stdout",
       "text": [
        "\n",
        "0.062778678557845, 0.01217683519957121\n",
        "0.07506379890544106, 0.012285120347596063\n",
        "0.08709190912256976, 0.012028110217128702"
       ]
      },
      {
       "output_type": "stream",
       "stream": "stdout",
       "text": [
        "\n",
        "0.09851522346680695, 0.011423314344237196\n",
        "5.00512961542782, 0.014592118384857985"
       ]
      },
      {
       "output_type": "stream",
       "stream": "stdout",
       "text": [
        "\n",
        "5.020092813081733, 0.014963197653912557\n",
        "5.0352355715811425, 0.015142758499409544\n",
        "5.050252156921907, 0.015016585340764735"
       ]
      },
      {
       "output_type": "stream",
       "stream": "stdout",
       "text": [
        "\n",
        "5.064967787138074, 0.01471563021616725\n",
        "5.079596568191731, 0.01462878105365726\n",
        "5.094521721198761, 0.014925153007028779"
       ]
      },
      {
       "output_type": "stream",
       "stream": "stdout",
       "text": [
        "\n",
        "10.009043900021936, 0.016814556089573395"
       ]
      },
      {
       "output_type": "stream",
       "stream": "stdout",
       "text": [
        "\n",
        "10.025644682826755, 0.016600782804818266\n",
        "10.042228735375414, 0.01658405254865851\n",
        "10.059022443295762, 0.016793707920348042"
       ]
      },
      {
       "output_type": "stream",
       "stream": "stdout",
       "text": [
        "\n",
        "10.07594919852603, 0.016926755230269014\n",
        "10.092776743237991, 0.016827544711960934\n",
        "15.008667136044684, 0.01780860937924269"
       ]
      },
      {
       "output_type": "stream",
       "stream": "stdout",
       "text": [
        "\n",
        "15.026634907483276, 0.01796777143859117\n",
        "15.044573067962652, 0.0179381604793766\n",
        "15.06233295030612, 0.017759882343468238"
       ]
      },
      {
       "output_type": "stream",
       "stream": "stdout",
       "text": [
        "\n",
        "15.080044553638707, 0.017711603332587183\n",
        "15.097919234000907, 0.01787468036219855\n",
        "20.00426630215427, 0.018495127614604985"
       ]
      },
      {
       "output_type": "stream",
       "stream": "stdout",
       "text": [
        "\n",
        "20.02260536132451, 0.018339059170239105\n",
        "20.040974252188988, 0.018368890864479927\n",
        "20.05950904466479, 0.01853479247580215"
       ]
      },
      {
       "output_type": "stream",
       "stream": "stdout",
       "text": [
        "\n",
        "20.078065262371034, 0.01855621770624466\n",
        "20.09647018207184, 0.0184049197008076\n",
        "25.008606195461123, 0.018771611230724735"
       ]
      },
      {
       "output_type": "stream",
       "stream": "stdout",
       "text": [
        "\n",
        "25.027449784216575, 0.01884358875545149\n",
        "25.04617276686798, 0.018722982651404423\n",
        "25.06477515558243, 0.018602388714452734"
       ]
      },
      {
       "output_type": "stream",
       "stream": "stdout",
       "text": [
        "\n",
        "25.08347393893754, 0.01869878335511089\n",
        "30.017705099119244, 0.018630999097418565"
       ]
      },
      {
       "output_type": "stream",
       "stream": "stdout",
       "text": [
        "\n",
        "30.036421420895458, 0.018716321776212876\n",
        "30.05528093065007, 0.018859509754613563\n",
        "30.074103656446507, 0.018822725796436977"
       ]
      },
      {
       "output_type": "stream",
       "stream": "stdout",
       "text": [
        "\n",
        "30.09276523393506, 0.01866157748855308\n",
        "35.01179634491067, 0.018725487893392245"
       ]
      },
      {
       "output_type": "stream",
       "stream": "stdout",
       "text": [
        "\n",
        "35.03046817473212, 0.018671829821449267\n",
        "35.04897640926, 0.01850823452787959\n",
        "35.06748987117396, 0.018513461913961273"
       ]
      },
      {
       "output_type": "stream",
       "stream": "stdout",
       "text": [
        "\n",
        "35.08616737870806, 0.018677507534103584\n",
        "40.01122234087854, 0.018319476626370672"
       ]
      },
      {
       "output_type": "stream",
       "stream": "stdout",
       "text": [
        "\n",
        "40.02963920015567, 0.018416859277128713\n",
        "40.048204798079006, 0.018565597923332802\n",
        "40.06673115597546, 0.018526357896457596"
       ]
      },
      {
       "output_type": "stream",
       "stream": "stdout",
       "text": [
        "\n",
        "40.08509070887226, 0.01835955289679449\n",
        "45.018025249061004, 0.01862291009165712"
       ]
      },
      {
       "output_type": "stream",
       "stream": "stdout",
       "text": [
        "\n",
        "45.0364859384628, 0.018460689401801976\n",
        "45.054887936451266, 0.01840199798846318\n",
        "45.07343912471554, 0.018551188264275598"
       ]
      },
      {
       "output_type": "stream",
       "stream": "stdout",
       "text": [
        "\n",
        "45.09208951426612, 0.01865038955058287\n",
        "50.001387855963735, 0.018365326364442887"
       ]
      },
      {
       "output_type": "stream",
       "stream": "stdout",
       "text": [
        "\n",
        "50.01980155455097, 0.01841369858723513\n",
        "50.03838145588052, 0.018579901329544547\n",
        "50.056969722830424, 0.01858826694990761"
       ]
      },
      {
       "output_type": "stream",
       "stream": "stdout",
       "text": [
        "\n",
        "50.07539454508707, 0.018424822256648668\n",
        "50.09375172351366, 0.018357178426588162\n",
        "55.01679907727376, 0.018514714665411606"
       ]
      },
      {
       "output_type": "stream",
       "stream": "stdout",
       "text": [
        "\n",
        "55.03514466541806, 0.018345588144300894\n",
        "55.05347269590852, 0.01832803049045745\n",
        "55.07196604293517, 0.01849334702665282"
       ]
      },
      {
       "output_type": "stream",
       "stream": "stdout",
       "text": [
        "\n",
        "55.0905268101016, 0.018560767166424887\n",
        "60.00945806270268, 0.018413380076166937"
       ]
      },
      {
       "output_type": "stream",
       "stream": "stdout",
       "text": [
        "\n",
        "60.02803553722814, 0.018577474525466414\n",
        "60.04667793961731, 0.018642402389169078\n",
        "60.06518620887759, 0.01850826926027727"
       ]
      },
      {
       "output_type": "stream",
       "stream": "stdout",
       "text": [
        "\n",
        "60.083574663100684, 0.018388454223089396\n",
        "65.01742910515966, 0.0184698903610607"
       ]
      },
      {
       "output_type": "stream",
       "stream": "stdout",
       "text": [
        "\n",
        "65.03574771215767, 0.018318606998009666\n",
        "65.05412831855156, 0.018380606393893214\n",
        "65.07267299129416, 0.0185446727425911"
       ]
      },
      {
       "output_type": "stream",
       "stream": "stdout",
       "text": [
        "\n",
        "65.09121436583209, 0.01854137453793816\n",
        "70.00553910933512, 0.018406872671158314"
       ]
      },
      {
       "output_type": "stream",
       "stream": "stdout",
       "text": [
        "\n",
        "70.02411290556908, 0.018573796233968844\n",
        "70.04273793934806, 0.018625033778968847\n",
        "70.06121887298889, 0.018480933640831212"
       ]
      },
      {
       "output_type": "stream",
       "stream": "stdout",
       "text": [
        "\n",
        "70.07959354195572, 0.018374668966821592\n",
        "70.09808700567301, 0.018493463717291245\n",
        "75.01089555220288, 0.018466284403458003"
       ]
      },
      {
       "output_type": "stream",
       "stream": "stdout",
       "text": [
        "\n",
        "75.02920420693289, 0.018308654730007968\n",
        "75.04755783486652, 0.018353627933628075\n",
        "75.06607904157563, 0.018521206709111438"
       ]
      },
      {
       "output_type": "stream",
       "stream": "stdout",
       "text": [
        "\n",
        "75.08461273912309, 0.018533697547459826\n",
        "80.01506281648335, 0.018548400839487444"
       ]
      },
      {
       "output_type": "stream",
       "stream": "stdout",
       "text": [
        "\n",
        "80.03370344111596, 0.018640624632616006\n",
        "80.05222693077206, 0.01852348965610403\n",
        "80.07061229992162, 0.018385369149550367"
       ]
      },
      {
       "output_type": "stream",
       "stream": "stdout",
       "text": [
        "\n",
        "80.08907905344368, 0.018466753522064956\n",
        "85.0009540724351, 0.018476677055043435"
       ]
      },
      {
       "output_type": "stream",
       "stream": "stdout",
       "text": [
        "\n",
        "85.01926144990907, 0.01830737747395587\n",
        "85.03754946318648, 0.018288013277413237\n",
        "85.05600389120733, 0.018454428020851045"
       ]
      },
      {
       "output_type": "stream",
       "stream": "stdout",
       "text": [
        "\n",
        "85.07452619288328, 0.018522301675956976\n",
        "85.09291559571177, 0.018389402828483\n",
        "90.00281762043235, 0.018530731936038825"
       ]
      },
      {
       "output_type": "stream",
       "stream": "stdout",
       "text": [
        "\n",
        "90.02149102961529, 0.018673409182933993\n",
        "90.0401206248387, 0.018629595223410938\n",
        "90.0585813917636, 0.018460766924885876"
       ]
      },
      {
       "output_type": "stream",
       "stream": "stdout",
       "text": [
        "\n",
        "90.07704305883804, 0.01846166707444114\n",
        "90.09566847173447, 0.01862541289642218\n",
        "95.01615370096144, 0.018254844540366303"
       ]
      },
      {
       "output_type": "stream",
       "stream": "stdout",
       "text": [
        "\n",
        "95.03440962920328, 0.018255928241847918\n",
        "95.05283663180944, 0.01842700260616126\n",
        "95.0713135500456, 0.018476918236153904"
       ]
      },
      {
       "output_type": "stream",
       "stream": "stdout",
       "text": [
        "\n",
        "95.08964478891896, 0.01833123887335903\n",
        "100.01421756901487, 0.018649306730125253"
       ]
      },
      {
       "output_type": "stream",
       "stream": "stdout",
       "text": [
        "\n",
        "100.03283989683605, 0.01862232782117708\n",
        "100.05129704287424, 0.018457146038180577\n",
        "100.06973467075755, 0.01843762788332261"
       ]
      },
      {
       "output_type": "stream",
       "stream": "stdout",
       "text": [
        "\n",
        "100.08833575644229, 0.018601085684732472\n",
        "105.01153647294045, 0.01833616308943892"
       ]
      },
      {
       "output_type": "stream",
       "stream": "stdout",
       "text": [
        "\n",
        "105.0298831256532, 0.018346652712756102\n",
        "105.04840031716017, 0.018517191506967304\n",
        "105.0669564652227, 0.01855614806253266"
       ]
      },
      {
       "output_type": "stream",
       "stream": "stdout",
       "text": [
        "\n",
        "105.08535941325432, 0.018402948031626096\n",
        "110.00203856991247, 0.01853003282087254"
       ]
      },
      {
       "output_type": "stream",
       "stream": "stdout",
       "text": [
        "\n",
        "110.02061980077598, 0.01858123086350414\n",
        "110.03906491384274, 0.01844511306675664\n",
        "110.05740017647781, 0.018335262635078405"
       ]
      },
      {
       "output_type": "stream",
       "stream": "stdout",
       "text": [
        "\n",
        "110.07585740342294, 0.018457226945130887\n",
        "110.09444981376134, 0.018592410338395128\n",
        "115.0176577586211, 0.01833226171977768"
       ]
      },
      {
       "output_type": "stream",
       "stream": "stdout",
       "text": [
        "\n",
        "115.03612703273505, 0.01846927411395448\n",
        "115.05471482225357, 0.018587789518517205\n",
        "115.07320457939585, 0.018489757142273206"
       ]
      },
      {
       "output_type": "stream",
       "stream": "stdout",
       "text": [
        "\n",
        "115.09153646246234, 0.018331883066495414\n",
        "120.01237257579974, 0.018556034622409467"
       ]
      },
      {
       "output_type": "stream",
       "stream": "stdout",
       "text": [
        "\n",
        "120.03080831752983, 0.018435741730088988\n",
        "120.04911821703719, 0.01830989950735171\n",
        "120.06752596618897, 0.018407749151776856"
       ]
      },
      {
       "output_type": "stream",
       "stream": "stdout",
       "text": [
        "\n",
        "120.08608663830428, 0.018560672115308898\n",
        "125.00241454453257, 0.018483250467755744"
       ]
      },
      {
       "output_type": "stream",
       "stream": "stdout",
       "text": [
        "\n",
        "125.02092031104571, 0.018505766513137012\n",
        "125.03958992830502, 0.018669617259299394\n",
        "125.05829224273018, 0.01870231442515901"
       ]
      },
      {
       "output_type": "stream",
       "stream": "stdout",
       "text": [
        "\n",
        "125.0768277301367, 0.018535487406527197\n",
        "125.09527701837352, 0.018449288236827073\n",
        "130.00049331401925, 0.018076605732768737"
       ]
      },
      {
       "output_type": "stream",
       "stream": "stdout",
       "text": [
        "\n",
        "130.0185133225095, 0.018020008490241466\n",
        "130.03636679688879, 0.017853474379293334\n",
        "130.05421072616517, 0.017843929276394613"
       ]
      },
      {
       "output_type": "stream",
       "stream": "stdout",
       "text": [
        "\n",
        "130.07223478210844, 0.018024055943275552\n",
        "130.09033133366495, 0.018096551556517303\n",
        "135.01352391562193, 0.018882266525711965"
       ]
      },
      {
       "output_type": "stream",
       "stream": "stdout",
       "text": [
        "\n",
        "135.0325592046895, 0.01903528906756701\n",
        "135.05162295708786, 0.019063752398352393\n",
        "135.070527108853, 0.01890415176516458"
       ]
      },
      {
       "output_type": "stream",
       "stream": "stdout",
       "text": [
        "\n",
        "135.08936128218772, 0.018834173334697266\n",
        "140.01186424920311, 0.017834105572291172"
       ]
      },
      {
       "output_type": "stream",
       "stream": "stdout",
       "text": [
        "\n",
        "140.02952192781598, 0.017657678612867586\n",
        "140.04708062967495, 0.01755870185897951\n",
        "140.0647910772072, 0.017710447532248576"
       ]
      },
      {
       "output_type": "stream",
       "stream": "stdout",
       "text": [
        "\n",
        "140.08263995214898, 0.017848874941789595\n",
        "145.00148630596368, 0.018737051722920173"
       ]
      },
      {
       "output_type": "stream",
       "stream": "stdout",
       "text": [
        "\n",
        "145.02037935808872, 0.01889305212502282\n",
        "145.039347526451, 0.01896816836226928\n",
        "145.05821527462695, 0.018867748175961856"
       ]
      },
      {
       "output_type": "stream",
       "stream": "stdout",
       "text": [
        "\n",
        "145.07695594130374, 0.01874066667678247\n",
        "145.09580205294063, 0.01884611163687947\n",
        "150.00312598052406, 0.018534084891339824"
       ]
      },
      {
       "output_type": "stream",
       "stream": "stdout",
       "text": [
        "\n",
        "150.02149282441394, 0.018366843889876344\n",
        "150.03975932104592, 0.018266496631985013\n",
        "150.05815424233035, 0.018394921284429364"
       ]
      },
      {
       "output_type": "stream",
       "stream": "stdout",
       "text": [
        "\n",
        "150.07668913828667, 0.018534895956318877\n",
        "150.09513010979063, 0.018440971503960405\n",
        "155.0142100045191, 0.018037890278169356"
       ]
      },
      {
       "output_type": "stream",
       "stream": "stdout",
       "text": [
        "\n",
        "155.032364957319, 0.01815495279990616\n",
        "155.0504525119238, 0.018087554604792767\n",
        "155.06836527764492, 0.01791276572112578"
       ]
      },
      {
       "output_type": "stream",
       "stream": "stdout",
       "text": [
        "\n",
        "155.08631121235646, 0.017945934711548043\n",
        "160.01725838921826, 0.018791406375969762"
       ]
      },
      {
       "output_type": "stream",
       "stream": "stdout",
       "text": [
        "\n",
        "160.03604212246307, 0.018783733244819474\n",
        "160.05496494214458, 0.01892281968150753\n",
        "160.07396322932723, 0.018998287182655886\n",
        "160.09281555447268, 0.018852325145434955"
       ]
      },
      {
       "output_type": "stream",
       "stream": "stdout",
       "text": [
        "\n",
        "165.00470973384577, 0.018204037899539897"
       ]
      },
      {
       "output_type": "stream",
       "stream": "stdout",
       "text": [
        "\n",
        "165.02308536981184, 0.01837563596606165\n",
        "165.04145705847586, 0.01837168866400785\n",
        "165.059657287237, 0.018200228761147456"
       ]
      },
      {
       "output_type": "stream",
       "stream": "stdout",
       "text": [
        "\n",
        "165.07776688669304, 0.0181095994560513\n",
        "165.09604561371472, 0.01827872702167787\n",
        "170.00219276023722, 0.018132014615454942"
       ]
      },
      {
       "output_type": "stream",
       "stream": "stdout",
       "text": [
        "\n",
        "170.02018953931355, 0.017996779076320683\n",
        "170.03827183068321, 0.01808229136966314\n",
        "170.05650634521888, 0.018234514535669114"
       ]
      },
      {
       "output_type": "stream",
       "stream": "stdout",
       "text": [
        "\n",
        "170.07475981576337, 0.018253470544501528\n",
        "170.09283867849615, 0.018078862732779057\n",
        "175.00632823717064, 0.019085596807436968"
       ]
      },
      {
       "output_type": "stream",
       "stream": "stdout",
       "text": [
        "\n",
        "175.02548963354496, 0.019161396374321727\n",
        "175.0445248712921, 0.01903523774715454\n",
        "175.06342894818715, 0.018904076895046806"
       ]
      },
      {
       "output_type": "stream",
       "stream": "stdout",
       "text": [
        "\n",
        "175.08242977892516, 0.019000830738005837\n",
        "180.00636584336053, 0.017173131995831904"
       ]
      },
      {
       "output_type": "stream",
       "stream": "stdout",
       "text": [
        "\n",
        "180.02338715734265, 0.017021313982132035\n",
        "180.04048565126848, 0.017098493925826744\n",
        "180.0577703594163, 0.01728470814783503"
       ]
      },
      {
       "output_type": "stream",
       "stream": "stdout",
       "text": [
        "\n",
        "180.07507837430649, 0.017308014890186626\n",
        "180.09217035218893, 0.017091977882456\n",
        "185.0115221747317, 0.019543372457385733"
       ]
      },
      {
       "output_type": "stream",
       "stream": "stdout",
       "text": [
        "\n",
        "185.03097516615207, 0.01945299142035452\n",
        "185.05031955382486, 0.019344387672776808\n",
        "185.06968866049766, 0.01936910667278901"
       ]
      },
      {
       "output_type": "stream",
       "stream": "stdout",
       "text": [
        "\n",
        "185.08922570995546, 0.019537049457799528\n",
        "190.00989980629288, 0.018006832046388612"
       ]
      },
      {
       "output_type": "stream",
       "stream": "stdout",
       "text": [
        "\n",
        "190.0278597020085, 0.017959895715634146\n",
        "190.04595652681348, 0.018096824804975868\n",
        "190.06418482603732, 0.01822829922383022"
       ]
      },
      {
       "output_type": "stream",
       "stream": "stdout",
       "text": [
        "\n",
        "190.08228775178037, 0.018102925743043927\n",
        "195.00794287621483, 0.018265128415823947"
       ]
      },
      {
       "output_type": "stream",
       "stream": "stdout",
       "text": [
        "\n",
        "195.02607464905162, 0.018131772836798694\n",
        "195.0441078228104, 0.018033173758752727\n",
        "195.06221780060903, 0.018109977798636066"
       ]
      },
      {
       "output_type": "stream",
       "stream": "stdout",
       "text": [
        "\n",
        "195.08052112257772, 0.018303321968682843\n",
        "195.09884955608786, 0.018328433510147908\n",
        "200.0099427686315, 0.018836514533278146"
       ]
      },
      {
       "output_type": "stream",
       "stream": "stdout",
       "text": [
        "\n"
       ]
      },
      {
       "metadata": {},
       "output_type": "pyout",
       "prompt_number": 23,
       "text": [
        "Wavefunction{Complex{Float64}}(80x80 Array{Complex{Float64},2}:\n",
        "  -0.118677+0.0541341im  -0.0910947-0.0287382im  \u2026   -0.073178+0.15306im \n",
        "  -0.118526+0.054217im    -0.090966-0.0286875im      -0.073003+0.153107im\n",
        "  -0.118062+0.0543628im  -0.0904739-0.0284385im     -0.0724672+0.153256im\n",
        "  -0.117216+0.054622im   -0.0896292-0.0280377im     -0.0716549+0.153393im\n",
        "  -0.116037+0.0549237im  -0.0883957-0.0274056im     -0.0705524+0.153585im\n",
        "  -0.114491+0.0553469im  -0.0868363-0.026613im   \u2026  -0.0692195+0.153773im\n",
        "  -0.112635+0.0558354im  -0.0849328-0.0255941im      -0.067616+0.154054im\n",
        "   -0.11044+0.0564774im  -0.0827566-0.0244254im      -0.065783+0.154387im\n",
        "  -0.107976+0.0572213im  -0.0802996-0.0230405im     -0.0636797+0.154877im\n",
        "   -0.10524+0.0581548im   -0.077652-0.021514im       -0.061367+0.155484im\n",
        "  -0.102345+0.0592193im  -0.0748329-0.0197817im  \u2026  -0.0588423+0.156309im\n",
        "  -0.099341+0.0604871im  -0.0719651-0.0179307im     -0.0562152+0.157304im\n",
        " -0.0963951+0.0618749im   -0.069103-0.0159238im     -0.0535332+0.158556im\n",
        "           \u22ee                                     \u22f1                       \n",
        " -0.0963951+0.0618749im   -0.069103-0.0159238im     -0.0535332+0.158556im\n",
        "  -0.099341+0.0604871im  -0.0719651-0.0179307im     -0.0562152+0.157304im\n",
        "  -0.102345+0.0592193im  -0.0748329-0.0197817im  \u2026  -0.0588423+0.156309im\n",
        "   -0.10524+0.0581548im   -0.077652-0.021514im       -0.061367+0.155484im\n",
        "  -0.107976+0.0572213im  -0.0802996-0.0230405im     -0.0636797+0.154877im\n",
        "   -0.11044+0.0564774im  -0.0827566-0.0244254im      -0.065783+0.154387im\n",
        "  -0.112635+0.0558354im  -0.0849328-0.0255941im      -0.067616+0.154054im\n",
        "  -0.114491+0.0553469im  -0.0868363-0.026613im   \u2026  -0.0692195+0.153773im\n",
        "  -0.116037+0.0549237im  -0.0883957-0.0274056im     -0.0705524+0.153585im\n",
        "  -0.117216+0.054622im   -0.0896292-0.0280377im     -0.0716549+0.153393im\n",
        "  -0.118062+0.0543628im  -0.0904739-0.0284385im     -0.0724672+0.153256im\n",
        "  -0.118526+0.054217im    -0.090966-0.0286875im      -0.073003+0.153107im,80x80 Array{Complex{Float64},2}:\n",
        " 0.258474+0.0722732im  0.0810586+0.187543im  \u2026  0.245371-0.230735im\n",
        " 0.258341+0.0723517im  0.0809422+0.187382im     0.245373-0.230774im\n",
        " 0.257699+0.0726942im   0.080465+0.18674im      0.245594-0.230595im\n",
        " 0.256391+0.0733529im   0.079539+0.185516im     0.246158-0.229967im\n",
        " 0.254373+0.0743292im  0.0781094+0.183705im     0.247051-0.228838im\n",
        " 0.251639+0.0756049im  0.0761215+0.181334im  \u2026  0.248197-0.22726im \n",
        " 0.248217+0.0771348im   0.073533+0.178452im     0.249496-0.22536im \n",
        " 0.244158+0.0788587im  0.0703158+0.175114im     0.250843-0.223307im\n",
        " 0.239545+0.0807053im  0.0664689+0.171384im     0.252152-0.221284im\n",
        " 0.234503+0.0826123im  0.0620178+0.167337im     0.253362-0.219478im\n",
        "  0.22921+0.0845375im  0.0570143+0.163071im  \u2026  0.254445-0.218065im\n",
        " 0.223913+0.0864749im  0.0515245+0.158723im     0.255396-0.217214im\n",
        " 0.218948+0.0884507im  0.0456234+0.154488im     0.256219-0.217095im\n",
        "         \u22ee                                   \u22f1                     \n",
        " 0.218948+0.0884507im  0.0456234+0.154488im     0.256219-0.217095im\n",
        " 0.223913+0.0864749im  0.0515245+0.158723im     0.255396-0.217214im\n",
        "  0.22921+0.0845375im  0.0570143+0.163071im  \u2026  0.254445-0.218065im\n",
        " 0.234503+0.0826123im  0.0620178+0.167337im     0.253362-0.219478im\n",
        " 0.239545+0.0807053im  0.0664689+0.171384im     0.252152-0.221284im\n",
        " 0.244158+0.0788587im  0.0703158+0.175114im     0.250843-0.223307im\n",
        " 0.248217+0.0771348im   0.073533+0.178452im     0.249496-0.22536im \n",
        " 0.251639+0.0756049im  0.0761215+0.181334im  \u2026  0.248197-0.22726im \n",
        " 0.254373+0.0743292im  0.0781094+0.183705im     0.247051-0.228838im\n",
        " 0.256391+0.0733529im   0.079539+0.185516im     0.246158-0.229967im\n",
        " 0.257699+0.0726942im   0.080465+0.18674im      0.245594-0.230595im\n",
        " 0.258341+0.0723517im  0.0809422+0.187382im     0.245373-0.230774im)"
       ]
      }
     ],
     "prompt_number": 23
    },
    {
     "cell_type": "code",
     "collapsed": false,
     "input": [
      "pcolor(SX, SY, abs2(psifinal.c))\n",
      "colorbar()"
     ],
     "language": "python",
     "metadata": {},
     "outputs": [
      {
       "metadata": {},
       "output_type": "display_data",
       "png": "[encoded data removed]",
       "text": [
        "Figure(PyObject <matplotlib.figure.Figure object at 0x7f500bbe15f8>)"
       ]
      },
      {
       "metadata": {},
       "output_type": "pyout",
       "prompt_number": 27,
       "text": [
        "PyObject <matplotlib.colorbar.Colorbar object at 0x7f500b307358>"
       ]
      }
     ],
     "prompt_number": 27
    },
    {
     "cell_type": "code",
     "collapsed": false,
     "input": [],
     "language": "python",
     "metadata": {},
     "outputs": []
    }
   ],
   "metadata": {}
  }
 ]
}