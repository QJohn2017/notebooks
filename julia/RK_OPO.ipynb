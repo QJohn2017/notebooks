{
 "metadata": {
  "language": "Julia",
  "name": "",
  "signature": "sha256:5a842f1c58c7c8edbc11c972ab49e812e000e722059bfad260c7f9bc82b001f1"
 },
 "nbformat": 3,
 "nbformat_minor": 0,
 "worksheets": [
  {
   "cells": [
    {
     "cell_type": "code",
     "collapsed": false,
     "input": [
      "using PyPlot"
     ],
     "language": "python",
     "metadata": {},
     "outputs": [
      {
       "output_type": "stream",
       "stream": "stderr",
       "text": [
        "INFO: Loading help data...\n"
       ]
      }
     ],
     "prompt_number": 1
    },
    {
     "cell_type": "code",
     "collapsed": false,
     "input": [
      "fname = \"INPUT\"\n",
      "# using do means the file is closed automatically\n",
      "# in the same way \"with\" does in python\n",
      "open(fname,\"r\") do f\n",
      "    for line in eachline(f)\n",
      "        line = strip(replace(line,[',','/'],' '))\n",
      "        (line[1] == '&' || line[1] == '!') && continue\n",
      "        include_string(\"global const \" * uppercase(line))\n",
      "        #println(uppercase(line))\n",
      "    end\n",
      "end"
     ],
     "language": "python",
     "metadata": {},
     "outputs": [],
     "prompt_number": 2
    },
    {
     "cell_type": "code",
     "collapsed": false,
     "input": [
      "#f = [0, 1, ...,   n/2-1,     -n/2, ..., -1] / (d*n)   if n is even\n",
      "#f = [0, 1, ..., (n-1)/2, -(n-1)/2, ..., -1] / (d*n)   if n is odd\n",
      "function fftfreq(n::Int64, d::Float64)\n",
      "    N = fld(n-1,2)\n",
      "    p1 = [0:N]\n",
      "    p2 = [-fld(n,2):-1]\n",
      "    return [p1, p2]/(d*n)\n",
      "end"
     ],
     "language": "python",
     "metadata": {},
     "outputs": [
      {
       "metadata": {},
       "output_type": "pyout",
       "prompt_number": 3,
       "text": [
        "fftfreq (generic function with 1 method)"
       ]
      }
     ],
     "prompt_number": 3
    },
    {
     "cell_type": "code",
     "collapsed": false,
     "input": [
      "global const NORM = sqrt(NX*NY)/256/sqrt(LX*LY)*70\n",
      "global const AX = 2LX/NX\n",
      "global const AY = 2LY/NY\n",
      "\n",
      "global const SY = [-LY+(iy-1)*AY for iy=1:NY]\n",
      "global const SX = [-LX+(ix-1)*AX for ix=1:NX].'\n",
      "\n",
      "global const MOMY = fftfreq(NY, AY/2pi)\n",
      "global const MOMX = fftfreq(NX, AX/2pi).'"
     ],
     "language": "python",
     "metadata": {},
     "outputs": [
      {
       "metadata": {},
       "output_type": "pyout",
       "prompt_number": 4,
       "text": [
        "1x80 Array{Float64,2}:\n",
        " 0.0  0.15708  0.314159  0.471239  \u2026  -0.471239  -0.314159  -0.15708"
       ]
      }
     ],
     "prompt_number": 4
    },
    {
     "cell_type": "code",
     "collapsed": false,
     "input": [
      "findindex(distormom, side, delta) = iround((side + distormom) / delta) + 1"
     ],
     "language": "python",
     "metadata": {},
     "outputs": [
      {
       "metadata": {},
       "output_type": "pyout",
       "prompt_number": 5,
       "text": [
        "findindex (generic function with 1 method)"
       ]
      }
     ],
     "prompt_number": 5
    },
    {
     "cell_type": "code",
     "collapsed": false,
     "input": [
      "function initpotc()\n",
      "    ix = findindex(DEF_X_POS, LX, AX)\n",
      "    iy = findindex(DEF_Y_POS, LY, AY)\n",
      "    potential = zeros(NY, NX)\n",
      "    potential[iy, ix] = GV\n",
      "    return potential\n",
      "end"
     ],
     "language": "python",
     "metadata": {},
     "outputs": [
      {
       "metadata": {},
       "output_type": "pyout",
       "prompt_number": 6,
       "text": [
        "initpotc (generic function with 1 method)"
       ]
      }
     ],
     "prompt_number": 6
    },
    {
     "cell_type": "code",
     "collapsed": false,
     "input": [
      "setg(kx, ky) = kx .^ 2 .+ ky .^ 2"
     ],
     "language": "python",
     "metadata": {},
     "outputs": [
      {
       "metadata": {},
       "output_type": "pyout",
       "prompt_number": 7,
       "text": [
        "setg (generic function with 1 method)"
       ]
      }
     ],
     "prompt_number": 7
    },
    {
     "cell_type": "code",
     "collapsed": false,
     "input": [
      "function initpump(x, y)\n",
      "    #top hat pump\n",
      "    r = sqrt(x .^ 2 .+ y .^ 2)\n",
      "    0.5 * F_P / NORM * \n",
      "    (tanh(1 / 10 * (r .+ SIGMA_P)) - tanh(1 / 10 * (r .- SIGMA_P))) .* exp(im * (K_P * x .+ zero(K_P) * y))\n",
      "end"
     ],
     "language": "python",
     "metadata": {},
     "outputs": [
      {
       "metadata": {},
       "output_type": "pyout",
       "prompt_number": 8,
       "text": [
        "initpump (generic function with 1 method)"
       ]
      }
     ],
     "prompt_number": 8
    },
    {
     "cell_type": "code",
     "collapsed": false,
     "input": [
      "type System\n",
      "    kinetic::Array{Float64, 2}\n",
      "    potc::Array{Float64, 2}\n",
      "    pumpspc::Array{Complex{Float64}, 2}\n",
      "end"
     ],
     "language": "python",
     "metadata": {},
     "outputs": [],
     "prompt_number": 9
    },
    {
     "cell_type": "code",
     "collapsed": false,
     "input": [
      "type Wavefunction{T}\n",
      "    c::Array{T, 2}\n",
      "    x::Array{T, 2}\n",
      "end"
     ],
     "language": "python",
     "metadata": {},
     "outputs": [],
     "prompt_number": 10
    },
    {
     "cell_type": "code",
     "collapsed": false,
     "input": [
      "+{T}(psi1::Wavefunction{T}, psi2::Wavefunction{T}) = Wavefunction{T}(psi1.c + psi2.c, psi1.x + psi2.x)\n",
      "+{T}(psi::Wavefunction{T}, c::Float64) = Wavefunction{T}(psi.c .+ c, psi.x .+ c) \n",
      "*{T}(c::Number, psi::Wavefunction{T}) = Wavefunction{T}(c*psi.c, c*psi.x)\n",
      "/{T}(psi1::Wavefunction{T}, psi2::Wavefunction{T}) = Wavefunction{T}(psi1.c ./ psi2.c, psi1.x ./ psi2.x)\n",
      "import Base.abs\n",
      "abs(psi::Wavefunction{Complex{Float64}}) = Wavefunction{Float64}(abs(psi.c), abs(psi.x))\n",
      "import Base.maximum\n",
      "function maximum(psi::Wavefunction{Float64})\n",
      "    maxc = maximum(psi.c)\n",
      "    maxx = maximum(psi.x)\n",
      "    return max(maxc, maxx)\n",
      "end"
     ],
     "language": "python",
     "metadata": {},
     "outputs": [
      {
       "metadata": {},
       "output_type": "pyout",
       "prompt_number": 11,
       "text": [
        "maximum (generic function with 10 methods)"
       ]
      }
     ],
     "prompt_number": 11
    },
    {
     "cell_type": "code",
     "collapsed": false,
     "input": [
      "cav = System(\n",
      "setg(MOMX, MOMY),\n",
      "initpotc(), \n",
      "initpump(SX, SY));"
     ],
     "language": "python",
     "metadata": {},
     "outputs": [],
     "prompt_number": 12
    },
    {
     "cell_type": "code",
     "collapsed": false,
     "input": [
      "psiinit = Wavefunction{Complex{Float64}}(zeros(NY, NX), zeros(NY, NX));"
     ],
     "language": "python",
     "metadata": {},
     "outputs": [],
     "prompt_number": 13
    },
    {
     "cell_type": "code",
     "collapsed": false,
     "input": [
      "#pcolor(SX, SY, cav.potc)\n",
      "#colorbar()"
     ],
     "language": "python",
     "metadata": {},
     "outputs": [],
     "prompt_number": 14
    },
    {
     "cell_type": "code",
     "collapsed": false,
     "input": [
      "#pcolor(MOMX, MOMY, cav.kinetic)\n",
      "#xlim(MOMX[1], MOMX[end])\n",
      "#ylim(MOMY[1], MOMY[end])\n",
      "#colorbar()"
     ],
     "language": "python",
     "metadata": {},
     "outputs": [],
     "prompt_number": 15
    },
    {
     "cell_type": "code",
     "collapsed": false,
     "input": [
      "#pcolor(SX, SY, abs2(cav.pumpspc))\n",
      "#colorbar()"
     ],
     "language": "python",
     "metadata": {},
     "outputs": [],
     "prompt_number": 16
    },
    {
     "cell_type": "code",
     "collapsed": false,
     "input": [
      "function derivs(t::Float64, psi::Wavefunction{Complex{Float64}}, s::System)\n",
      "    #generate the energy dependence of the pump\n",
      "    pump = s.pumpspc * exp(-im * OMEGA_P * t)\n",
      "\n",
      "    #right hand side of the equation of motion\n",
      "    #photon part \n",
      "    dpsicdt = - im*psi.x - im*DELTA*psi.c - KAPPA_C*psi.c - im*pump\n",
      "    #add a potential to the photon part\n",
      "    dpsicdt += im*s.potc .* psi.c\n",
      "    #adding the kinetic energy by means of the FFT\n",
      "    dpsicdt -= im *ifft(s.kinetic .* fft(psi.c))\n",
      "    #exciton part\n",
      "    dpsixdt = -KAPPA_X*psi.x - im * abs2(psi.x) .* psi.x/(AX*AY) - im*psi.c\n",
      "    return Wavefunction{Complex{Float64}}(dpsicdt, dpsixdt)\n",
      "end"
     ],
     "language": "python",
     "metadata": {},
     "outputs": [
      {
       "metadata": {},
       "output_type": "pyout",
       "prompt_number": 17,
       "text": [
        "derivs (generic function with 1 method)"
       ]
      }
     ],
     "prompt_number": 17
    },
    {
     "cell_type": "code",
     "collapsed": false,
     "input": [
      "#Given values for psi and its derivative dpsidt known at t\n",
      "#use the fifth order Cash-Karp Runge-Kutta method to advance the\n",
      "#solution over an interval h and return the incremented variables as\n",
      "#psiout. Also return an estimate of the local truncation error in psiout\n",
      "#using the embedded fourth order method. The user supplies the\n",
      "#function derivs which returns derivatives dpsidt at t.\n",
      "\n",
      "function rkck(psi::Wavefunction{Complex{Float64}}, dpsidt::Wavefunction{Complex{Float64}},\n",
      "    t::Float64, h::Float64, s::System)        \n",
      "    const A2=0.2\n",
      "    const A3=0.3\n",
      "    const A4=0.6\n",
      "    const A5=1.0\n",
      "    const A6=0.875\n",
      "    const B21=0.2\n",
      "    const B31=3.0/40.0\n",
      "    const B32=9.0/40.0\n",
      "    const B41=0.3\n",
      "    const B42=-0.9\n",
      "    const B43=1.2\n",
      "    const B51=-11.0/54.0\n",
      "    const B52=2.5\n",
      "    const B53=-70.0/27.0\n",
      "    const B54=35.0/27.0\n",
      "    const B61=1631.0/55296.0\n",
      "    const B62=175.0/512.0\n",
      "    const B63=575.0/13824.0\n",
      "    const B64=44275.0/110592.0\n",
      "    const B65=253.0/4096.0\n",
      "    const C1=37.0/378.0\n",
      "    const C3=250.0/621.0\n",
      "    const C4=125.0/594.0\n",
      "    const C6=512.0/1771.0\n",
      "    const DC1=C1-2825.0/27648.0\n",
      "    const DC3=C3-18575.0/48384.0\n",
      "    const DC4=C4-13525.0/55296.0\n",
      "    const DC5=-277.0/14336.0\n",
      "    const DC6=C6-0.25\n",
      "    \n",
      "    psitemp=psi+B21*h*dpsidt\n",
      "    #First step.\n",
      "    ak2 = derivs(t+A2*h,psitemp,s)\n",
      "    #@show h, abs(ak2.x[1,1])\n",
      "    #Second step.\n",
      "    psitemp=psi+h*(B31*dpsidt+B32*ak2)\n",
      "    ak3 = derivs(t+A3*h,psitemp,s) \n",
      "    #Third step.\n",
      "    psitemp=psi+h*(B41*dpsidt+B42*ak2+B43*ak3)\n",
      "    ak4 = derivs(t+A4*h,psitemp,s) \n",
      "    #Fourth step.\n",
      "    psitemp=psi+h*(B51*dpsidt+B52*ak2+B53*ak3+B54*ak4)\n",
      "    ak5 = derivs(t+A5*h,psitemp,s) \n",
      "    #Fifth step.\n",
      "    psitemp=psi+h*(B61*dpsidt+B62*ak2+B63*ak3+B64*ak4+B65*ak5)\n",
      "    ak6 = derivs(t+A6*h,psitemp,s) \n",
      "    #Sixth step.\n",
      "    psiout=psi+h*(C1*dpsidt+C3*ak3+C4*ak4+C6*ak6) \n",
      "    #Accumulate increments with proper weights.\n",
      "    #@show abs(ak4.x[1,1])\n",
      "    psierr=h*(DC1*dpsidt+DC3*ak3+DC4*ak4+DC5*ak5+DC6*ak6)\n",
      "    #Estimate error as diference between fourth and fifth order methods.\n",
      "    return psiout, psierr\n",
      "end"
     ],
     "language": "python",
     "metadata": {},
     "outputs": [
      {
       "metadata": {},
       "output_type": "pyout",
       "prompt_number": 18,
       "text": [
        "rkck (generic function with 1 method)"
       ]
      }
     ],
     "prompt_number": 18
    },
    {
     "cell_type": "code",
     "collapsed": false,
     "input": [
      "#Fifth order Runge-Kutta step with monitoring of local truncation error    \n",
      "#to ensure accuracy and adjust stepsize. Input are the dependent variable    \n",
      "#matrix psi and its derivative dpsidt at the starting value of the    \n",
      "#independent variable t. Also input are the stepsize to be attempted htry    \n",
      "#the required accuracy eps and the matrix psiscal against which the error    \n",
      "#is scaled. psi dpsidt and psiscal are all of the same size. On output, psi and t are    \n",
      "#replaced by their new values, hdid is the stepsize that was actually    \n",
      "#accomplished, and hnext is the estimated next stepsize. derivs is the    \n",
      "#user-supplied subroutine that computes the right-hand-side derivatives.    \n",
      "\n",
      "function rkqs!(psi::Wavefunction{Complex{Float64}}, dpsidt::Wavefunction{Complex{Float64}},\n",
      "    t::Float64, htry::Float64, eps::Float64, psiscal::Wavefunction{Float64}, s::System)\n",
      "    const SAFETY=0.9\n",
      "    const PGROW=-0.2\n",
      "    const PSHRNK=-0.25\n",
      "    const ERRCON=1.89e-4\n",
      "\n",
      "    #Set step size to the initial trial value.\n",
      "    h=htry     \n",
      "    \n",
      "    errmax = 0.\n",
      "    psitemp = Wavefunction{Complex{Float64}}(zeros(NY, NX), zeros(NY, NX))\n",
      "    while true\n",
      "        #Take a step.    \n",
      "        psitemp, psierr = rkck(psi,dpsidt,t,h,s)\n",
      "        #Evaluate accuracy.\n",
      "        #@show sum(psitemp.x)+sum(psitemp.c)\n",
      "        errmax=maximum(abs(psierr)/psiscal)/eps\n",
      "        #@show errmax\n",
      "        #Step succeeded.    \n",
      "        (errmax <= 1.0) && break\n",
      "        ###########\n",
      "        #Truncation error too large, reduce stepsize.    \n",
      "        htemp=SAFETY*h*(errmax^PSHRNK)\n",
      "        #No more than a factor 10.\n",
      "        h=copysign(max(abs(htemp), 0.1*abs(h)), h)\n",
      "        #isapprox(h, 0.) && println(\"stepsize underflow in rkqs\")    \n",
      "    end\n",
      "    #Go back for another try. No more than a factor 5 increase.\n",
      "\n",
      "    errmax>ERRCON ? hnext=SAFETY*h*(errmax^PGROW) : (hnext=5.0*h)\n",
      "    hdid = h\n",
      "    t += h\n",
      "    psi = psitemp\n",
      "    if t % 5 < 1e-01\n",
      "        println(\"$t, $h\")\n",
      "    end\n",
      "    #@show hdid, t\n",
      "    return hdid, hnext, t, psi\n",
      "end"
     ],
     "language": "python",
     "metadata": {},
     "outputs": [
      {
       "metadata": {},
       "output_type": "pyout",
       "prompt_number": 19,
       "text": [
        "rkqs! (generic function with 1 method)"
       ]
      }
     ],
     "prompt_number": 19
    },
    {
     "cell_type": "code",
     "collapsed": false,
     "input": [
      "#Runge-Kutta driver with adaptive step size control.Integrate the array\n",
      "#of starting values psistart from t1 to t2 with accuracy eps. h1 should be\n",
      "#set as a guessed first stepsize, hmin as the minimum allowed stepsize\n",
      "#(can be zero). On output psistart is replaced by values at the end of the\n",
      "#integration interval. derivs is the user-supplied subroutine for\n",
      "#calculating the right-hand-side derivative, while rkqs is the name of\n",
      "#the stepper routine to be used.\n",
      "\n",
      "function odeintrk!(psistart::Wavefunction{Complex{Float64}},\n",
      "    t1::Float64, t2::Float64, eps::Float64, h1::Float64, hmin::Float64, s::System)    \n",
      "    const MAXSTP = 1e+5\n",
      "    const TINY=1.0e-30\n",
      "\n",
      "    t    = t1\n",
      "    h    = copysign(h1, t2-t1)    \n",
      "    #nok  = 0\n",
      "    #nbad = 0\n",
      "    #kount= 0 \n",
      "    \n",
      "    psi = psistart\n",
      "    \n",
      "    #main program loop\n",
      "    for nstp = 1:MAXSTP     #Take at most MAXSTP steps\n",
      "        #Scaling used to monitor accuracy.\n",
      "        dpsi = derivs(t, psi, s)\n",
      "        psiscal = abs(psi) + abs(h*dpsi) + TINY\n",
      "\n",
      "        #If stepsize can overshoot,decrease.\n",
      "        #((t+h-t2)*(t+h-t1) > 0.0) && (h = t2 - t)     \n",
      "        \n",
      "        hdid, hnext, t, psi = rkqs!(psi,dpsi,t,h,eps,psiscal,s)\n",
      "        #isapprox(hdid,h) ? nok += 1 : (nbad += 1)\n",
      "        \n",
      "        #Are we done?\n",
      "        if (t-t2)*(t2-t1) >= 0.0\n",
      "            return psi\n",
      "        end\n",
      "        #(abs(hnext) < hmin) && println(\"stepsize smaller than minimum in odeint\")\n",
      "        h=hnext            \n",
      "    end\n",
      "    println(\"too many steps in odeint\")\n",
      "end"
     ],
     "language": "python",
     "metadata": {},
     "outputs": [
      {
       "metadata": {},
       "output_type": "pyout",
       "prompt_number": 20,
       "text": [
        "odeintrk! (generic function with 1 method)"
       ]
      }
     ],
     "prompt_number": 20
    },
    {
     "cell_type": "code",
     "collapsed": false,
     "input": [
      "psifinal = odeintrk!(psiinit,0.,TOT_H,EPS_R,0.001,0.,cav);"
     ],
     "language": "python",
     "metadata": {},
     "outputs": [
      {
       "output_type": "stream",
       "stream": "stdout",
       "text": [
        "5.693123097620127e-9, 5.693123097620127e-9\n"
       ]
      },
      {
       "output_type": "stream",
       "stream": "stdout",
       "text": [
        "1.1139022045850693e-8, 5.445898948230564e-9\n",
        "3.836851678700351e-8, 2.722949474115282e-8\n",
        "1.7451599049276763e-7, 1.361474737057641e-7"
       ]
      },
      {
       "output_type": "stream",
       "stream": "stdout",
       "text": [
        "\n",
        "8.552533590215882e-7, 6.807373685288206e-7\n",
        "4.258940201665691e-6, 3.403686842644103e-6\n",
        "2.1277374414886203e-5, 1.7018434213220513e-5\n",
        "0.00010636954548098877, 8.509217106610257e-5\n",
        "0.0005318304008115017, 0.00042546085533051286"
       ]
      },
      {
       "output_type": "stream",
       "stream": "stdout",
       "text": [
        "\n",
        "0.002418171706051629, 0.001886341305240127\n",
        "0.005929752563621646, 0.0035115808575700174\n",
        "0.011476486734740998, 0.0055467341711193515"
       ]
      },
      {
       "output_type": "stream",
       "stream": "stdout",
       "text": [
        "\n",
        "0.018900886877712332, 0.007424400142971332\n",
        "0.028077908571290354, 0.009177021693578024\n",
        "0.03884769009256831, 0.010769781521277957\n",
        "0.050601843358273856, 0.011754153265705542"
       ]
      },
      {
       "output_type": "stream",
       "stream": "stdout",
       "text": [
        "\n",
        "0.06277867855784508, 0.012176835199571225\n",
        "0.07506379890544108, 0.012285120347596006\n",
        "0.08709190912256982, 0.012028110217128744\n",
        "0.09851522346680695, 0.011423314344237134"
       ]
      },
      {
       "output_type": "stream",
       "stream": "stdout",
       "text": [
        "\n",
        "5.005129615427855, 0.014592118384858339"
       ]
      },
      {
       "output_type": "stream",
       "stream": "stdout",
       "text": [
        "\n",
        "5.020092813081766, 0.014963197653912184\n",
        "5.0352355715811745, 0.015142758499408025\n",
        "5.050252156921937, 0.015016585340763033\n",
        "5.064967787138105, 0.014715630216168157"
       ]
      },
      {
       "output_type": "stream",
       "stream": "stdout",
       "text": [
        "\n",
        "5.079596568191762, 0.014628781053656875\n",
        "5.094521721198796, 0.014925153007034096\n",
        "10.00904390002196, 0.016814556089574988"
       ]
      },
      {
       "output_type": "stream",
       "stream": "stdout",
       "text": [
        "\n",
        "10.025644682826778, 0.016600782804819015\n",
        "10.042228735375437, 0.016584052548659318\n",
        "10.059022443295781, 0.016793707920345163\n",
        "10.075949198526054, 0.016926755230272008"
       ]
      },
      {
       "output_type": "stream",
       "stream": "stdout",
       "text": [
        "\n",
        "10.092776743238012, 0.01682754471195837\n",
        "15.008667136044556, 0.017808609379244413"
       ]
      },
      {
       "output_type": "stream",
       "stream": "stdout",
       "text": [
        "\n",
        "15.026634907483144, 0.01796777143858755\n",
        "15.044573067962519, 0.017938160479374295\n",
        "15.062332950305986, 0.01775988234346772\n",
        "15.08004455363857, 0.017711603332583585"
       ]
      },
      {
       "output_type": "stream",
       "stream": "stdout",
       "text": [
        "\n",
        "15.09791923400076, 0.017874680362189404\n",
        "20.00426630215392, 0.018495127614604367"
       ]
      },
      {
       "output_type": "stream",
       "stream": "stdout",
       "text": [
        "\n",
        "20.022605361324157, 0.018339059170237905\n",
        "20.040974252188633, 0.018368890864474425\n",
        "20.059509044664434, 0.018534792475800938\n",
        "20.07806526237067, 0.018556217706238585"
       ]
      },
      {
       "output_type": "stream",
       "stream": "stdout",
       "text": [
        "\n",
        "20.096470182071485, 0.018404919700812664\n",
        "25.00860619546051, 0.018771611230713903"
       ]
      },
      {
       "output_type": "stream",
       "stream": "stdout",
       "text": [
        "\n",
        "25.02744978421596, 0.018843588755450728\n",
        "25.04617276686738, 0.018722982651416645\n",
        "25.064775155581827, 0.018602388714447794\n",
        "25.08347393893694, 0.018698783355113286"
       ]
      },
      {
       "output_type": "stream",
       "stream": "stdout",
       "text": [
        "\n",
        "30.017705099118512, 0.018630999097416463"
       ]
      },
      {
       "output_type": "stream",
       "stream": "stdout",
       "text": [
        "\n",
        "30.03642142089471, 0.01871632177619738\n",
        "30.055280930649324, 0.018859509754615186\n",
        "30.074103656445768, 0.018822725796443954\n",
        "30.092765233934326, 0.018661577488558376"
       ]
      },
      {
       "output_type": "stream",
       "stream": "stdout",
       "text": [
        "\n",
        "35.01179634490983, 0.01872548789339287"
       ]
      },
      {
       "output_type": "stream",
       "stream": "stdout",
       "text": [
        "\n",
        "35.03046817473129, 0.018671829821456036\n",
        "35.048976409259176, 0.01850823452788546\n",
        "35.06748987117313, 0.018513461913957564\n",
        "35.08616737870722, 0.018677507534096024\n",
        "40.01122234087759, 0.018319476626367518"
       ]
      },
      {
       "output_type": "stream",
       "stream": "stdout",
       "text": [
        "\n",
        "40.029639200154705, 0.018416859277118787\n",
        "40.04820479807803, 0.018565597923324025\n",
        "40.0667311559745, 0.018526357896468764\n",
        "40.085090708871306, 0.01835955289680171"
       ]
      },
      {
       "output_type": "stream",
       "stream": "stdout",
       "text": [
        "\n",
        "45.018025249060074, 0.018622910091658545"
       ]
      },
      {
       "output_type": "stream",
       "stream": "stdout",
       "text": [
        "\n",
        "45.03648593846189, 0.01846068940181099\n",
        "45.05488793645034, 0.018401997988453843\n",
        "45.07343912471461, 0.0185511882642685\n",
        "45.0920895142652, 0.01865038955058408"
       ]
      },
      {
       "output_type": "stream",
       "stream": "stdout",
       "text": [
        "\n",
        "50.001387855962896, 0.018365326364441138"
       ]
      },
      {
       "output_type": "stream",
       "stream": "stdout",
       "text": [
        "\n",
        "50.01980155455013, 0.018413698587231898\n",
        "50.038381455879666, 0.01857990132953606\n",
        "50.05696972282958, 0.018588266949913657\n",
        "50.07539454508624, 0.018424822256660527"
       ]
      },
      {
       "output_type": "stream",
       "stream": "stdout",
       "text": [
        "\n",
        "50.093751723512824, 0.018357178426583062\n",
        "55.016799077273035, 0.01851471466541928"
       ]
      },
      {
       "output_type": "stream",
       "stream": "stdout",
       "text": [
        "\n",
        "55.03514466541735, 0.01834558814431148\n",
        "55.0534726959078, 0.018328030490452927\n",
        "55.07196604293444, 0.018493347026643236\n",
        "55.09052681010087, 0.018560767166427884"
       ]
      },
      {
       "output_type": "stream",
       "stream": "stdout",
       "text": [
        "\n",
        "60.00945806270204, 0.018413380076163773"
       ]
      },
      {
       "output_type": "stream",
       "stream": "stdout",
       "text": [
        "\n",
        "60.028035537227495, 0.018577474525458555\n",
        "60.046677939616664, 0.018642402389167565\n",
        "60.06518620887695, 0.018508269260286717\n",
        "60.083574663100045, 0.018388454223091467"
       ]
      },
      {
       "output_type": "stream",
       "stream": "stdout",
       "text": [
        "\n",
        "65.0174291051589, 0.018469890361068"
       ]
      },
      {
       "output_type": "stream",
       "stream": "stdout",
       "text": [
        "\n",
        "65.0357477121569, 0.018318606998012087\n",
        "65.05412831855078, 0.018380606393881487\n",
        "65.07267299129337, 0.01854467274259258\n",
        "65.09121436583132, 0.01854137453794356"
       ]
      },
      {
       "output_type": "stream",
       "stream": "stdout",
       "text": [
        "\n",
        "70.00553910933425, 0.018406872671148235"
       ]
      },
      {
       "output_type": "stream",
       "stream": "stdout",
       "text": [
        "\n",
        "70.02411290556822, 0.01857379623396521\n",
        "70.04273793934719, 0.0186250337789753\n",
        "70.06121887298802, 0.018480933640836854\n",
        "70.07959354195484, 0.018374668966818542"
       ]
      },
      {
       "output_type": "stream",
       "stream": "stdout",
       "text": [
        "\n",
        "70.09808700567211, 0.01849346371727979\n",
        "75.01089555220202, 0.01846628440346962"
       ]
      },
      {
       "output_type": "stream",
       "stream": "stdout",
       "text": [
        "\n",
        "75.02920420693202, 0.0183086547300095\n",
        "75.04755783486564, 0.01835362793361764\n",
        "75.06607904157475, 0.01852120670910836\n",
        "75.08461273912222, 0.018533697547465255"
       ]
      },
      {
       "output_type": "stream",
       "stream": "stdout",
       "text": [
        "\n",
        "80.01506281648243, 0.018548400839481994"
       ]
      },
      {
       "output_type": "stream",
       "stream": "stdout",
       "text": [
        "\n",
        "80.03370344111504, 0.01864062463261384\n",
        "80.05222693077116, 0.01852348965611361\n",
        "80.0706122999207, 0.01838536914954219\n",
        "80.08907905344276, 0.01846675352205732"
       ]
      },
      {
       "output_type": "stream",
       "stream": "stdout",
       "text": [
        "\n",
        "85.00095407243397, 0.01847667705504688"
       ]
      },
      {
       "output_type": "stream",
       "stream": "stdout",
       "text": [
        "\n",
        "85.01926144990793, 0.01830737747396519\n",
        "85.03754946318534, 0.01828801327741106\n",
        "85.05600389120619, 0.01845442802084249"
       ]
      },
      {
       "output_type": "stream",
       "stream": "stdout",
       "text": [
        "\n",
        "85.07452619288215, 0.018522301675964328\n",
        "85.09291559571065, 0.018389402828498276\n",
        "90.00281762043114, 0.018530731936025654"
       ]
      },
      {
       "output_type": "stream",
       "stream": "stdout",
       "text": [
        "\n",
        "90.02149102961407, 0.018673409182928948\n",
        "90.04012062483748, 0.018629595223419813\n",
        "90.05858139176237, 0.018460766924894234\n",
        "90.07704305883681, 0.01846166707443276"
       ]
      },
      {
       "output_type": "stream",
       "stream": "stdout",
       "text": [
        "\n",
        "90.09566847173322, 0.018625412896414322\n",
        "95.0161537009602, 0.018254844540374137"
       ]
      },
      {
       "output_type": "stream",
       "stream": "stdout",
       "text": [
        "\n",
        "95.03440962920205, 0.018255928241843227\n",
        "95.05283663180819, 0.018427002606145097\n",
        "95.07131355004435, 0.018476918236158726\n",
        "95.08964478891772, 0.018331238873368193"
       ]
      },
      {
       "output_type": "stream",
       "stream": "stdout",
       "text": [
        "\n",
        "100.01421756901345, 0.018649306730117287"
       ]
      },
      {
       "output_type": "stream",
       "stream": "stdout",
       "text": [
        "\n",
        "100.03283989683464, 0.01862232782118708\n",
        "100.05129704287283, 0.01845714603818801\n",
        "100.06973467075615, 0.018437627883313632\n",
        "100.08833575644087, 0.018601085684719045"
       ]
      },
      {
       "output_type": "stream",
       "stream": "stdout",
       "text": [
        "\n",
        "105.01153647293891, 0.018336163089453957"
       ]
      },
      {
       "output_type": "stream",
       "stream": "stdout",
       "text": [
        "\n",
        "105.02988312565166, 0.018346652712746825\n",
        "105.04840031715864, 0.018517191506966343\n",
        "105.06695646522118, 0.01855614806253689\n",
        "105.08535941325283, 0.018402948031646407"
       ]
      },
      {
       "output_type": "stream",
       "stream": "stdout",
       "text": [
        "\n",
        "110.0020385699106, 0.01853003282086257"
       ]
      },
      {
       "output_type": "stream",
       "stream": "stdout",
       "text": [
        "\n",
        "110.02061980077411, 0.018581230863511888\n",
        "110.03906491384089, 0.01844511306677302\n",
        "110.05740017647597, 0.018335262635076677\n",
        "110.07585740342108, 0.01845722694511049"
       ]
      },
      {
       "output_type": "stream",
       "stream": "stdout",
       "text": [
        "\n",
        "110.09444981375947, 0.01859241033838764\n",
        "115.01765775861921, 0.018332261719777084"
       ]
      },
      {
       "output_type": "stream",
       "stream": "stdout",
       "text": [
        "\n",
        "115.03612703273315, 0.018469274113936757\n",
        "115.05471482225165, 0.018587789518512112\n",
        "115.07320457939394, 0.018489757142297635\n",
        "115.09153646246045, 0.018331883066504562"
       ]
      },
      {
       "output_type": "stream",
       "stream": "stdout",
       "text": [
        "\n",
        "120.0123725757979, 0.018556034622408003"
       ]
      },
      {
       "output_type": "stream",
       "stream": "stdout",
       "text": [
        "\n",
        "120.030808317528, 0.01843574173010454\n",
        "120.04911821703536, 0.01830989950735107\n",
        "120.06752596618712, 0.018407749151768\n",
        "120.08608663830242, 0.018560672115301623"
       ]
      },
      {
       "output_type": "stream",
       "stream": "stdout",
       "text": [
        "\n",
        "125.00241454453091, 0.01848325046775887"
       ]
      },
      {
       "output_type": "stream",
       "stream": "stdout",
       "text": [
        "\n",
        "125.02092031104402, 0.018505766513122163\n",
        "125.0395899283033, 0.01866961725928452\n",
        "125.05829224272847, 0.018702314425171788\n",
        "125.07682773013501, 0.018535487406542497"
       ]
      },
      {
       "output_type": "stream",
       "stream": "stdout",
       "text": [
        "\n",
        "125.09527701837183, 0.018449288236822733\n",
        "130.00049331401755, 0.018076605732762728"
       ]
      },
      {
       "output_type": "stream",
       "stream": "stdout",
       "text": [
        "\n",
        "130.0185133225078, 0.018020008490253526\n",
        "130.0363667968871, 0.017853474379304568\n",
        "130.0542107261635, 0.01784392927638397\n",
        "130.07223478210676, 0.01802405594325895"
       ]
      },
      {
       "output_type": "stream",
       "stream": "stdout",
       "text": [
        "\n",
        "130.09033133366327, 0.01809655155651728\n",
        "135.01352391561983, 0.018882266525703434"
       ]
      },
      {
       "output_type": "stream",
       "stream": "stdout",
       "text": [
        "\n",
        "135.0325592046874, 0.019035289067562244\n",
        "135.05162295708575, 0.019063752398356622\n",
        "135.07052710885094, 0.0189041517651797\n",
        "135.08936128218562, 0.01883417333469031"
       ]
      },
      {
       "output_type": "stream",
       "stream": "stdout",
       "text": [
        "\n",
        "140.01186424920124, 0.01783410557229762"
       ]
      },
      {
       "output_type": "stream",
       "stream": "stdout",
       "text": [
        "\n",
        "140.02952192781413, 0.017657678612888653\n",
        "140.0470806296731, 0.017558701858973746\n",
        "140.06479107720534, 0.017710447532229088\n",
        "140.08263995214713, 0.017848874941783586"
       ]
      },
      {
       "output_type": "stream",
       "stream": "stdout",
       "text": [
        "\n",
        "145.00148630596206, 0.01873705172290868"
       ]
      },
      {
       "output_type": "stream",
       "stream": "stdout",
       "text": [
        "\n",
        "145.02037935808707, 0.01889305212500315\n",
        "145.03934752644935, 0.018968168362270114\n",
        "145.05821527462533, 0.018867748175982885\n",
        "145.07695594130212, 0.018740666676777772"
       ]
      },
      {
       "output_type": "stream",
       "stream": "stdout",
       "text": [
        "\n",
        "145.09580205293898, 0.01884611163686357\n",
        "150.00312598052247, 0.018534084891349823"
       ]
      },
      {
       "output_type": "stream",
       "stream": "stdout",
       "text": [
        "\n",
        "150.02149282441238, 0.018366843889894197\n",
        "150.03975932104436, 0.018266496631984434\n",
        "150.05815424232878, 0.018394921284413928\n",
        "150.0766891382851, 0.018534895956321913"
       ]
      },
      {
       "output_type": "stream",
       "stream": "stdout",
       "text": [
        "\n",
        "150.09513010978907, 0.018440971503976545\n",
        "155.01421000451765, 0.018037890278148453"
       ]
      },
      {
       "output_type": "stream",
       "stream": "stdout",
       "text": [
        "\n",
        "155.03236495731755, 0.018154952799906237\n",
        "155.05045251192237, 0.018087554604806575\n",
        "155.0683652776435, 0.01791276572113483\n",
        "155.08631121235504, 0.017945934711541454"
       ]
      },
      {
       "output_type": "stream",
       "stream": "stdout",
       "text": [
        "\n",
        "160.01725838921686, 0.018791406375968878"
       ]
      },
      {
       "output_type": "stream",
       "stream": "stdout",
       "text": [
        "\n",
        "160.03604212246168, 0.018783733244815463\n",
        "160.05496494214316, 0.018922819681491326\n",
        "160.0739632293258, 0.01899828718266448"
       ]
      },
      {
       "output_type": "stream",
       "stream": "stdout",
       "text": [
        "\n",
        "160.09281555447126, 0.01885232514544748\n",
        "165.00470973384452, 0.01820403789953295"
       ]
      },
      {
       "output_type": "stream",
       "stream": "stdout",
       "text": [
        "\n",
        "165.0230853698106, 0.018375635966058658\n",
        "165.0414570584746, 0.018371688664017328\n",
        "165.05965728723578, 0.018200228761161154\n",
        "165.07776688669182, 0.018109599456046076"
       ]
      },
      {
       "output_type": "stream",
       "stream": "stdout",
       "text": [
        "\n",
        "165.0960456137135, 0.01827872702167393\n",
        "170.00219276023628, 0.018132014615467238"
       ]
      },
      {
       "output_type": "stream",
       "stream": "stdout",
       "text": [
        "\n",
        "170.0201895393126, 0.017996779076321277\n",
        "170.03827183068225, 0.018082291369650966\n",
        "170.0565063452179, 0.01823451453565526\n",
        "170.07475981576243, 0.01825347054451523"
       ]
      },
      {
       "output_type": "stream",
       "stream": "stdout",
       "text": [
        "\n",
        "170.0928386784952, 0.018078862732783873\n",
        "175.00632823716944, 0.019085596807427337"
       ]
      },
      {
       "output_type": "stream",
       "stream": "stdout",
       "text": [
        "\n",
        "175.02548963354377, 0.019161396374320443\n",
        "175.04452487129095, 0.01903523774717615\n",
        "175.063428948186, 0.018904076895044915\n",
        "175.08242977892397, 0.019000830737991758"
       ]
      },
      {
       "output_type": "stream",
       "stream": "stdout",
       "text": [
        "\n",
        "180.0063658433597, 0.017173131995845466"
       ]
      },
      {
       "output_type": "stream",
       "stream": "stdout",
       "text": [
        "\n",
        "180.02338715734186, 0.017021313982151155\n",
        "180.04048565126766, 0.01709849392580457\n",
        "180.05777035941549, 0.01728470814782311\n",
        "180.0750783743057, 0.01730801489019833"
       ]
      },
      {
       "output_type": "stream",
       "stream": "stdout",
       "text": [
        "\n",
        "180.09217035218816, 0.017091977882462327\n",
        "185.01152217473083, 0.019543372457395278"
       ]
      },
      {
       "output_type": "stream",
       "stream": "stdout",
       "text": [
        "\n",
        "185.0309751661512, 0.019452991420353595\n",
        "185.05031955382398, 0.019344387672787563\n",
        "185.06968866049675, 0.019369106672775225\n",
        "185.08922570995455, 0.019537049457803688"
       ]
      },
      {
       "output_type": "stream",
       "stream": "stdout",
       "text": [
        "\n",
        "190.00989980629166, 0.01800683204639365"
       ]
      },
      {
       "output_type": "stream",
       "stream": "stdout",
       "text": [
        "\n",
        "190.0278597020073, 0.017959895715635773\n",
        "190.04595652681226, 0.018096824804951946\n",
        "190.0641848260361, 0.01822829922383644\n",
        "190.08228775177915, 0.0181029257430599"
       ]
      },
      {
       "output_type": "stream",
       "stream": "stdout",
       "text": [
        "\n",
        "195.00794287621315, 0.018265128415825053"
       ]
      },
      {
       "output_type": "stream",
       "stream": "stdout",
       "text": [
        "\n",
        "195.02607464904997, 0.018131772836810382\n",
        "195.04410782280874, 0.018033173758775344\n",
        "195.06221780060736, 0.018109977798616346\n",
        "195.08052112257604, 0.018303321968677223"
       ]
      },
      {
       "output_type": "stream",
       "stream": "stdout",
       "text": [
        "\n",
        "195.0988495560862, 0.018328433510152425\n",
        "200.00994276862957, 0.01883651453327883"
       ]
      },
      {
       "output_type": "stream",
       "stream": "stdout",
       "text": [
        "\n"
       ]
      },
      {
       "metadata": {},
       "output_type": "pyout",
       "prompt_number": 21,
       "text": [
        "Wavefunction{Complex{Float64}}(80x80 Array{Complex{Float64},2}:\n",
        "  -0.118677+0.0541341im  -0.0910947-0.0287382im  \u2026   -0.073178+0.15306im \n",
        "  -0.118526+0.054217im    -0.090966-0.0286875im      -0.073003+0.153107im\n",
        "  -0.118062+0.0543628im  -0.0904739-0.0284385im     -0.0724672+0.153256im\n",
        "  -0.117216+0.054622im   -0.0896292-0.0280377im     -0.0716549+0.153393im\n",
        "  -0.116037+0.0549237im  -0.0883957-0.0274056im     -0.0705524+0.153585im\n",
        "  -0.114491+0.0553469im  -0.0868363-0.026613im   \u2026  -0.0692195+0.153773im\n",
        "  -0.112635+0.0558354im  -0.0849328-0.0255941im      -0.067616+0.154054im\n",
        "   -0.11044+0.0564774im  -0.0827566-0.0244254im      -0.065783+0.154387im\n",
        "  -0.107976+0.0572213im  -0.0802996-0.0230405im     -0.0636797+0.154877im\n",
        "   -0.10524+0.0581548im   -0.077652-0.021514im       -0.061367+0.155484im\n",
        "  -0.102345+0.0592193im  -0.0748329-0.0197817im  \u2026  -0.0588423+0.156309im\n",
        "  -0.099341+0.0604871im  -0.0719651-0.0179307im     -0.0562152+0.157304im\n",
        " -0.0963951+0.0618749im   -0.069103-0.0159238im     -0.0535332+0.158556im\n",
        "           \u22ee                                     \u22f1                       \n",
        " -0.0963951+0.0618749im   -0.069103-0.0159238im     -0.0535332+0.158556im\n",
        "  -0.099341+0.0604871im  -0.0719651-0.0179307im     -0.0562152+0.157304im\n",
        "  -0.102345+0.0592193im  -0.0748329-0.0197817im  \u2026  -0.0588423+0.156309im\n",
        "   -0.10524+0.0581548im   -0.077652-0.021514im       -0.061367+0.155484im\n",
        "  -0.107976+0.0572213im  -0.0802996-0.0230405im     -0.0636797+0.154877im\n",
        "   -0.11044+0.0564774im  -0.0827566-0.0244254im      -0.065783+0.154387im\n",
        "  -0.112635+0.0558354im  -0.0849328-0.0255941im      -0.067616+0.154054im\n",
        "  -0.114491+0.0553469im  -0.0868363-0.026613im   \u2026  -0.0692195+0.153773im\n",
        "  -0.116037+0.0549237im  -0.0883957-0.0274056im     -0.0705524+0.153585im\n",
        "  -0.117216+0.054622im   -0.0896292-0.0280377im     -0.0716549+0.153393im\n",
        "  -0.118062+0.0543628im  -0.0904739-0.0284385im     -0.0724672+0.153256im\n",
        "  -0.118526+0.054217im    -0.090966-0.0286875im      -0.073003+0.153107im,80x80 Array{Complex{Float64},2}:\n",
        " 0.258474+0.0722732im  0.0810586+0.187543im  \u2026  0.245371-0.230735im\n",
        " 0.258341+0.0723517im  0.0809422+0.187382im     0.245373-0.230774im\n",
        " 0.257699+0.0726942im   0.080465+0.18674im      0.245594-0.230595im\n",
        " 0.256391+0.0733529im   0.079539+0.185516im     0.246158-0.229967im\n",
        " 0.254373+0.0743292im  0.0781094+0.183705im     0.247051-0.228838im\n",
        " 0.251639+0.0756049im  0.0761215+0.181334im  \u2026  0.248197-0.22726im \n",
        " 0.248217+0.0771348im   0.073533+0.178452im     0.249496-0.22536im \n",
        " 0.244158+0.0788587im  0.0703158+0.175114im     0.250843-0.223307im\n",
        " 0.239545+0.0807053im  0.0664689+0.171384im     0.252152-0.221284im\n",
        " 0.234503+0.0826123im  0.0620178+0.167337im     0.253362-0.219478im\n",
        "  0.22921+0.0845375im  0.0570143+0.163071im  \u2026  0.254445-0.218065im\n",
        " 0.223913+0.0864749im  0.0515245+0.158723im     0.255396-0.217214im\n",
        " 0.218948+0.0884507im  0.0456234+0.154488im     0.256219-0.217095im\n",
        "         \u22ee                                   \u22f1                     \n",
        " 0.218948+0.0884507im  0.0456234+0.154488im     0.256219-0.217095im\n",
        " 0.223913+0.0864749im  0.0515245+0.158723im     0.255396-0.217214im\n",
        "  0.22921+0.0845375im  0.0570143+0.163071im  \u2026  0.254445-0.218065im\n",
        " 0.234503+0.0826123im  0.0620178+0.167337im     0.253362-0.219478im\n",
        " 0.239545+0.0807053im  0.0664689+0.171384im     0.252152-0.221284im\n",
        " 0.244158+0.0788587im  0.0703158+0.175114im     0.250843-0.223307im\n",
        " 0.248217+0.0771348im   0.073533+0.178452im     0.249496-0.22536im \n",
        " 0.251639+0.0756049im  0.0761215+0.181334im  \u2026  0.248197-0.22726im \n",
        " 0.254373+0.0743292im  0.0781094+0.183705im     0.247051-0.228838im\n",
        " 0.256391+0.0733529im   0.079539+0.185516im     0.246158-0.229967im\n",
        " 0.257699+0.0726942im   0.080465+0.18674im      0.245594-0.230595im\n",
        " 0.258341+0.0723517im  0.0809422+0.187382im     0.245373-0.230774im)"
       ]
      }
     ],
     "prompt_number": 21
    },
    {
     "cell_type": "code",
     "collapsed": false,
     "input": [
      "pcolor(SX, SY, abs2(psifinal.c))\n",
      "colorbar()"
     ],
     "language": "python",
     "metadata": {},
     "outputs": [
      {
       "metadata": {},
       "output_type": "display_data",
       "png": "[encoded data removed]",
       "text": [
        "Figure(PyObject <matplotlib.figure.Figure object at 0x7f07def63c18>)"
       ]
      },
      {
       "metadata": {},
       "output_type": "pyout",
       "prompt_number": 23,
       "text": [
        "PyObject <matplotlib.colorbar.Colorbar object at 0x7f07dedf0c50>"
       ]
      }
     ],
     "prompt_number": 23
    },
    {
     "cell_type": "code",
     "collapsed": false,
     "input": [],
     "language": "python",
     "metadata": {},
     "outputs": []
    }
   ],
   "metadata": {}
  }
 ]
}