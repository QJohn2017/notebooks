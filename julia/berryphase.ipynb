{
 "metadata": {
  "language": "Julia",
  "name": "",
  "signature": "sha256:b6d6a51c9c4a9848fccc50ebede9137890be2f8de3cc3e3ee1a1e8e91a6eb260"
 },
 "nbformat": 3,
 "nbformat_minor": 0,
 "worksheets": [
  {
   "cells": [
    {
     "cell_type": "code",
     "collapsed": false,
     "input": [
      "using BerryPhase"
     ],
     "language": "python",
     "metadata": {},
     "outputs": [
      {
       "output_type": "stream",
       "stream": "stderr",
       "text": [
        "INFO: Loading help data...\n"
       ]
      }
     ],
     "prompt_number": 1
    },
    {
     "cell_type": "markdown",
     "metadata": {},
     "source": [
      "We start from the Hamiltonian Eq. (7) of Hannah's [paper](http://arxiv.org/abs/1403.6041), and introduce pumping and decay as described in Tomoki's [article](http://journals.aps.org/prl/abstract/10.1103/PhysRevLett.112.133902). The resulting Hamilton's equation of motion is"
     ]
    },
    {
     "cell_type": "markdown",
     "metadata": {},
     "source": [
      "$$a_{m+1,n}+a_{m-1,n}+e^{-i2\\pi\\alpha m}a_{m,n+1}+e^{i2\\pi\\alpha m}a_{m,n-1}+\\left[\\omega_{0}+i\\gamma-\\frac{1}{2}\\kappa(m^{2}+n^{2})\\right]a_{m,n}=fe^{i\\phi_{m,n}}$$"
     ]
    },
    {
     "cell_type": "markdown",
     "metadata": {},
     "source": [
      "This has a similar form to Eq. (2) of Tomoki's paper. Here the phases $\\phi_{m,n}$ are chosen from a random nomal distribution, and have values in the interval $[0,2\\pi)$."
     ]
    },
    {
     "cell_type": "markdown",
     "metadata": {},
     "source": [
      "The chosen system parameters (in units of $J$) are:"
     ]
    },
    {
     "cell_type": "code",
     "collapsed": false,
     "input": [
      "pm"
     ],
     "language": "python",
     "metadata": {},
     "outputs": [
      {
       "metadata": {},
       "output_type": "pyout",
       "prompt_number": 2,
       "text": [
        "Dict{String,Any} with 5 entries:\n",
        "  \"\u03b3\" => 0.001\n",
        "  \"f\" => 1.0\n",
        "  \"N\" => 41\n",
        "  \"\u03b1\" => 0.0909090909090909\n",
        "  \"\u03ba\" => 0.02"
       ]
      }
     ],
     "prompt_number": 2
    },
    {
     "cell_type": "markdown",
     "metadata": {},
     "source": [
      "Here is the intensity as a function of the pump (driving) frequency, with the red line centered at $\\omega^c_0 = -2.95$."
     ]
    },
    {
     "cell_type": "code",
     "collapsed": false,
     "input": [
      "plotintensity(;stp=0.001)"
     ],
     "language": "python",
     "metadata": {},
     "outputs": []
    },
    {
     "cell_type": "markdown",
     "metadata": {},
     "source": [
      "Plotting the real-space response at the chosen frequency $\\omega_0^c$ gives a figure similar to Fig. 2(a) of Hannah's paper."
     ]
    },
    {
     "cell_type": "code",
     "collapsed": false,
     "input": [
      "plotreal(c\u03c90; lim=10)"
     ],
     "language": "python",
     "metadata": {},
     "outputs": [
      {
       "metadata": {},
       "output_type": "display_data",
       "png": "[encoded data removed]",
       "text": [
        "Figure(PyObject <matplotlib.figure.Figure object at 0x7fe44868fc50>)"
       ]
      }
     ],
     "prompt_number": 5
    },
    {
     "cell_type": "code",
     "collapsed": false,
     "input": [],
     "language": "python",
     "metadata": {},
     "outputs": []
    }
   ],
   "metadata": {}
  }
 ]
}