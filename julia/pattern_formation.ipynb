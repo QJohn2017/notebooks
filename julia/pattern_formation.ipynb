{
 "metadata": {
  "language": "Julia",
  "name": "",
  "signature": "sha256:023ad8a5aeef29b9fe906ab04dc13e1e2d5c7b516b43131513504d114ff620aa"
 },
 "nbformat": 3,
 "nbformat_minor": 0,
 "worksheets": [
  {
   "cells": [
    {
     "cell_type": "code",
     "collapsed": false,
     "input": [
      "using Gaston\n",
      "set_terminal(\"wxt\")"
     ],
     "language": "python",
     "metadata": {},
     "outputs": []
    },
    {
     "cell_type": "code",
     "collapsed": false,
     "input": [
      "fname = \"/home/berceanu/notebooks/INPUT\"\n",
      "open(fname,\"r\") do f\n",
      "    for line in eachline(f)\n",
      "        line = strip(replace(line,[',','/'],' '))\n",
      "        (line[1] == '&' || line[1] == '!') && continue\n",
      "        include_string(\"global const \" * uppercase(line))\n",
      "    end\n",
      "end"
     ],
     "language": "python",
     "metadata": {},
     "outputs": []
    },
    {
     "cell_type": "code",
     "collapsed": false,
     "input": [
      "global const \u0394X = 2LX/NX\n",
      "global const \u0394Y = 2LY/NY\n",
      "global const CNORM = sqrt(NX*NY)/256/sqrt(LX*LY)*70"
     ],
     "language": "python",
     "metadata": {},
     "outputs": []
    },
    {
     "cell_type": "code",
     "collapsed": false,
     "input": [
      "# define custom type\n",
      "type Wavefunction{T}\n",
      "    c::Array{T, 2}  #cavity\n",
      "    x::Array{T, 2}  #exciton\n",
      "    Wavefunction(cav, exc) = new(copy(cav), copy(exc))\n",
      "end"
     ],
     "language": "python",
     "metadata": {},
     "outputs": []
    },
    {
     "cell_type": "code",
     "collapsed": false,
     "input": [
      "# which supports the following operations\n",
      "import Base.norm\n",
      "norm{T}(\u03c8::Wavefunction{T}, p::Float64) = max(Base.norm(\u03c8.c, p), Base.norm(\u03c8.x, p))\n",
      "\n",
      "+{T}(\u03c81::Wavefunction{T}, \u03c82::Wavefunction{T}) = Wavefunction{T}(\u03c81.c + \u03c82.c, \u03c81.x + \u03c82.x)\n",
      "-{T}(\u03c81::Wavefunction{T}, \u03c82::Wavefunction{T}) = Wavefunction{T}(\u03c81.c - \u03c82.c, \u03c81.x - \u03c82.x)\n",
      "\n",
      "*{T}(c::Real, \u03c8::Wavefunction{T}) = Wavefunction{T}(c*\u03c8.c, c*\u03c8.x)\n",
      "*{T}(\u03c8::Wavefunction{T}, c::Real) = c*\u03c8\n",
      "\n",
      "/{T}(\u03c8::Wavefunction{T}, c::Real) = Wavefunction{T}(\u03c8.c/c, \u03c8.x/c)"
     ],
     "language": "python",
     "metadata": {},
     "outputs": []
    },
    {
     "cell_type": "code",
     "collapsed": false,
     "input": [
      "getidx(pos, len, \u0394) = iround((len + pos)/\u0394) + 1"
     ],
     "language": "python",
     "metadata": {},
     "outputs": []
    },
    {
     "cell_type": "code",
     "collapsed": false,
     "input": [
      "function initpotcav(posx, posy, strength)\n",
      "    ix = getidx(posx, LX, \u0394X)\n",
      "    iy = getidx(posy, LY, \u0394Y)\n",
      "    potential = zeros(NY, NX)\n",
      "    potential[iy, ix] = strength\n",
      "    return potential\n",
      "end"
     ],
     "language": "python",
     "metadata": {},
     "outputs": []
    },
    {
     "cell_type": "code",
     "collapsed": false,
     "input": [
      "global const SY = [-LY+(iy-1)*\u0394Y for iy=1:NY]\n",
      "global const SX = [-LX+(ix-1)*\u0394X for ix=1:NX]\n",
      "global const potcav = initpotcav(DEF_X_POS, DEF_Y_POS, GV)"
     ],
     "language": "python",
     "metadata": {},
     "outputs": []
    },
    {
     "cell_type": "code",
     "collapsed": false,
     "input": [
      "imagesc(SX, SY, potcav)"
     ],
     "language": "python",
     "metadata": {},
     "outputs": []
    },
    {
     "cell_type": "code",
     "collapsed": false,
     "input": [
      "function initpump(x, y, ampl, width, kp)\n",
      "    r = sqrt(x .^ 2 .+ y .^ 2)\n",
      "    #top hat pump\n",
      "    0.5 * ampl / CNORM *\n",
      "    (tanh(1/10*(r .+ width)) - tanh(1/10*(r .- width))) .* exp(im*(kp*x .+ zero(kp)*y))\n",
      "end"
     ],
     "language": "python",
     "metadata": {},
     "outputs": []
    },
    {
     "cell_type": "code",
     "collapsed": false,
     "input": [
      "global const pumpspc = initpump(SX', SY, F_P, SIGMA_P, K_P)"
     ],
     "language": "python",
     "metadata": {},
     "outputs": []
    },
    {
     "cell_type": "code",
     "collapsed": false,
     "input": [
      "surf(SX, SY, abs2(pumpspc), \"xrange\", \"[-20:19.5]\", \"yrange\", \"[-20:19.5]\")"
     ],
     "language": "python",
     "metadata": {},
     "outputs": []
    },
    {
     "cell_type": "code",
     "collapsed": false,
     "input": [
      "#TODO: replace with stock version\n",
      "function fftfreq(n::Int64, d::Float64)\n",
      "#f = [0, 1, ...,   n/2-1,     -n/2, ..., -1] / (d*n)   if n is even\n",
      "#f = [0, 1, ..., (n-1)/2, -(n-1)/2, ..., -1] / (d*n)   if n is odd\n",
      "  N = fld(n-1,2)\n",
      "  p1 = [0:N]\n",
      "  p2 = [-fld(n,2):-1]\n",
      "  return [p1, p2]/(d*n)\n",
      "end"
     ],
     "language": "python",
     "metadata": {},
     "outputs": []
    },
    {
     "cell_type": "code",
     "collapsed": false,
     "input": [
      "global const MOMY = fftfreq(NY, \u0394Y/2pi)\n",
      "global const MOMX = fftfreq(NX, \u0394X/2pi)"
     ],
     "language": "python",
     "metadata": {},
     "outputs": []
    },
    {
     "cell_type": "code",
     "collapsed": false,
     "input": [
      "setkin(kx, ky) = kx .^ 2 .+ ky .^ 2\n",
      "global const kinetic = setkin(MOMX', MOMY)"
     ],
     "language": "python",
     "metadata": {},
     "outputs": []
    },
    {
     "cell_type": "code",
     "collapsed": false,
     "input": [
      "surf(fftshift(MOMX), fftshift(MOMY), fftshift(kinetic))"
     ],
     "language": "python",
     "metadata": {},
     "outputs": []
    },
    {
     "cell_type": "code",
     "collapsed": false,
     "input": [
      "# define RHSs of differential equations\n",
      "#params: \u03c9p, \u03b4, \u03bac, \u03bax, potc, pmpspc, kin\n",
      "#TODO: devectorize, apply fft optimizations\n",
      "function rhs(t::Float64, \u03c8::Wavefunction{Complex{Float64}}, \u03c9p, \u03b4, \u03bac, \u03bax, potc, pmpspc, kin)\n",
      "    #generate the energy dependence of the pump\n",
      "    pump = pmpspc*exp(-im*\u03c9p*t)\n",
      "\n",
      "    #right hand side of the equation of motion\n",
      "    #photon part\n",
      "    d\u03c8c = -im*pump - im*\u03c8.x - (im*\u03b4 + \u03bac)*\u03c8.c\n",
      "    #add a potential to the photon part\n",
      "    d\u03c8c += im*potc .* \u03c8.c\n",
      "    #adding the kinetic energy by means of the FFT\n",
      "    d\u03c8c -= im*ifft(kin .* fft(\u03c8.c))\n",
      "    #exciton part\n",
      "    d\u03c8x = -im*\u03c8.c -\u03bax*\u03c8.x - im*abs2(\u03c8.x) .* \u03c8.x/(\u0394X*\u0394Y)\n",
      "    return Wavefunction{Complex{Float64}}(d\u03c8c, d\u03c8x)\n",
      "end"
     ],
     "language": "python",
     "metadata": {},
     "outputs": []
    },
    {
     "cell_type": "code",
     "collapsed": false,
     "input": [
      "# inital conditons\n",
      "\u03c80 = Wavefunction{Complex{Float64}}(zeros(NY, NX), zeros(NY, NX));"
     ],
     "language": "python",
     "metadata": {},
     "outputs": []
    },
    {
     "cell_type": "code",
     "collapsed": false,
     "input": [
      "function oderkf(F, x0, tspan, p, a, bs, bp; reltol = 1.0e-5, abstol = 1.0e-8)\n",
      "    # see p.91 in the Ascher & Petzold reference for more infomation.\n",
      "    pow = 1/p   # use the higher order to estimate the next step size\n",
      "\n",
      "    c = sum(a, 2)   # consistency condition\n",
      "\n",
      "    # Initialization\n",
      "    t = tspan[1]\n",
      "    \u0394sav = DXSAV_RK\n",
      "    tsav = t - 2\u0394sav\n",
      "    tfinal = tspan[end]\n",
      "    tdir = sign(tfinal - t)\n",
      "    hmax = abs(tfinal - t)/2.5\n",
      "    hmin = abs(tfinal - t)/1e9\n",
      "    h = tdir*abs(tfinal - t)/1e9  # initial guess at a step size\n",
      "    println(\"hinit = $h\")\n",
      "    x = x0\n",
      "    tout = t            # first output time\n",
      "    xout = Array(typeof(x0), 1)\n",
      "    xout[1] = x         # first output solution\n",
      "\n",
      "    k = Array(typeof(x0), length(c))\n",
      "    k[1] = F(t,x) # first stage\n",
      "\n",
      "    while abs(t) != abs(tfinal) && abs(h) >= hmin\n",
      "        if abs(h) > abs(tfinal-t)\n",
      "            h = tfinal - t\n",
      "        end\n",
      "\n",
      "        #(p-1)th and pth order estimates\n",
      "        xs = x + h*bs[1]*k[1]\n",
      "        xp = x + h*bp[1]*k[1]\n",
      "        for j = 2:length(c)\n",
      "            dx = a[j,1]*k[1]\n",
      "            for i = 2:j-1\n",
      "                dx += a[j,i]*k[i]\n",
      "            end\n",
      "            k[j] = F(t + h*c[j], x + h*dx)\n",
      "\n",
      "            # compute the (p-1)th order estimate\n",
      "            xs = xs + h*bs[j]*k[j]\n",
      "            # compute the pth order estimate\n",
      "            xp = xp + h*bp[j]*k[j]\n",
      "        end\n",
      "\n",
      "        # estimate the local truncation error\n",
      "        gamma1 = xs - xp\n",
      "\n",
      "        # Estimate the error and the acceptable error\n",
      "        delta = norm(gamma1, Inf)              # actual error\n",
      "        tau   = max(reltol*norm(x,Inf),abstol) # allowable error\n",
      "\n",
      "        # Update the solution only if the error is acceptable\n",
      "        if delta <= tau\n",
      "            t = t + h\n",
      "            x = xp    # <-- using the higher order estimate is called 'local extrapolation'\n",
      "\n",
      "            if abs(t-tsav) > \u0394sav\n",
      "                println(\"$t, $h\")\n",
      "                tout = [tout; t]\n",
      "                push!(xout, x)\n",
      "                tsav=t\n",
      "            end\n",
      "\n",
      "            # Compute the slopes by computing the k[:,j+1]'th column based on the previous k[:,1:j] columns\n",
      "            # notes: k needs to end up as an Nxs, a is 7x6, which is s by (s-1),\n",
      "            #        s is the number of intermediate RK stages on [t (t+h)] (Dormand-Prince has s=7 stages)\n",
      "            if c[end] == 1\n",
      "                # Assign the last stage for x(k) as the first stage for computing x[k+1].\n",
      "                # This is part of the Dormand-Prince pair caveat.\n",
      "                # k[:,7] has already been computed, so use it instead of recomputing it\n",
      "                # again as k[:,1] during the next step.\n",
      "                k[1] = k[end]\n",
      "            else\n",
      "                k[1] = F(t,x) # first stage\n",
      "            end\n",
      "        end\n",
      "\n",
      "        # Update the step size\n",
      "        h = min(hmax, 0.8*h*(tau/delta)^pow)\n",
      "\n",
      "    end # while (t < tfinal) & (h >= hmin)\n",
      "\n",
      "    if abs(t) < abs(tfinal)\n",
      "      println(\"Step size grew too small. t=\", t, \", h=\", abs(h))\n",
      "    end\n",
      "\n",
      "    #add final step\n",
      "    tout = [tout; t]\n",
      "    push!(xout, x)\n",
      "\n",
      "    return tout, xout\n",
      "end"
     ],
     "language": "python",
     "metadata": {},
     "outputs": []
    },
    {
     "cell_type": "code",
     "collapsed": false,
     "input": [
      "#hmax\n",
      "TOT_H/2.5\n",
      "#hmin\n",
      "TOT_H/1e9\n",
      "#hinit\n",
      "TOT_H/1e9"
     ],
     "language": "python",
     "metadata": {},
     "outputs": []
    },
    {
     "cell_type": "code",
     "collapsed": false,
     "input": [
      "import ODE"
     ],
     "language": "python",
     "metadata": {},
     "outputs": []
    },
    {
     "cell_type": "code",
     "collapsed": false,
     "input": [
      "# solve ODEs\n",
      "\u03c4, \u03c8out = ODE.ode78((t, psi) -> rhs(t, psi, OMEGA_P, DELTA, KAPPA_C, KAPPA_X, potcav, pumpspc, kinetic), \u03c80, [0., 100.]; reltol = 1.0e-5, abstol = 1.0e-8, initstep = TOT_H/1e9, minstep = TOT_H/1e9, maxstep = TOT_H/2.5)"
     ],
     "language": "python",
     "metadata": {},
     "outputs": []
    },
    {
     "cell_type": "code",
     "collapsed": false,
     "input": [
      "\u03c4"
     ],
     "language": "python",
     "metadata": {},
     "outputs": []
    },
    {
     "cell_type": "code",
     "collapsed": false,
     "input": [
      "# conversion factor, in $\\mu m$\n",
      "const lC = 0.868"
     ],
     "language": "python",
     "metadata": {},
     "outputs": []
    },
    {
     "cell_type": "code",
     "collapsed": false,
     "input": [
      "#axes labels\n",
      "x_label = \"x[mu m]\"\n",
      "y_label = \"y[mu m]\""
     ],
     "language": "python",
     "metadata": {},
     "outputs": []
    },
    {
     "cell_type": "code",
     "collapsed": false,
     "input": [
      "#wavefunction at t~0\n",
      "imagesc(lC*SX, lC*SY, CNORM^2 * abs2(\u03c8out[2].c), \"xlabel\", x_label, \"ylabel\", y_label, \"title\", \"|\\psi_C|^2\")"
     ],
     "language": "python",
     "metadata": {},
     "outputs": []
    },
    {
     "cell_type": "code",
     "collapsed": false,
     "input": [
      "#final wavefunction\n",
      "imagesc(lC*SX, lC*SY, CNORM^2 * abs2(\u03c8out[end].c), \"xlabel\", x_label, \"ylabel\", y_label, \"title\", \"|\\psi_C|^2\")"
     ],
     "language": "python",
     "metadata": {},
     "outputs": []
    }
   ],
   "metadata": {}
  }
 ]
}