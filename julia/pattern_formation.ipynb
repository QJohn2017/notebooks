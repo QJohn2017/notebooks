{
 "metadata": {
  "language": "Julia",
  "name": "",
  "signature": "sha256:1e22d1cd5bb53dc54ef0d33d8573fdf59612fdfb6f16d94217198bc82e810a2e"
 },
 "nbformat": 3,
 "nbformat_minor": 0,
 "worksheets": [
  {
   "cells": [
    {
     "cell_type": "code",
     "collapsed": false,
     "input": [
      "using Autoreload\n",
      "arequire(\"ODE\")"
     ],
     "language": "python",
     "metadata": {},
     "outputs": [],
     "prompt_number": 1
    },
    {
     "cell_type": "code",
     "collapsed": false,
     "input": [
      "using Gaston\n",
      "set_terminal(\"wxt\")"
     ],
     "language": "python",
     "metadata": {},
     "outputs": [
      {
       "metadata": {},
       "output_type": "pyout",
       "prompt_number": 2,
       "text": [
        "\"wxt\""
       ]
      }
     ],
     "prompt_number": 2
    },
    {
     "cell_type": "code",
     "collapsed": false,
     "input": [
      "function areapprox{T<:Real}(a::AbstractArray{T}, b::AbstractArray{T})\n",
      "    difference = a - b\n",
      "    map(elem -> isapprox(elem, zero(T)), difference) == trues(size(difference))\n",
      "end"
     ],
     "language": "python",
     "metadata": {},
     "outputs": [
      {
       "metadata": {},
       "output_type": "pyout",
       "prompt_number": 3,
       "text": [
        "areapprox (generic function with 1 method)"
       ]
      }
     ],
     "prompt_number": 3
    },
    {
     "cell_type": "code",
     "collapsed": false,
     "input": [
      "# conversion factor, in $\\mu m$\n",
      "const lC = 0.868\n",
      "#axes labels\n",
      "x_label = \"x[mu m]\"\n",
      "y_label = \"y[mu m]\""
     ],
     "language": "python",
     "metadata": {},
     "outputs": [
      {
       "metadata": {},
       "output_type": "pyout",
       "prompt_number": 4,
       "text": [
        "\"y[mu m]\""
       ]
      }
     ],
     "prompt_number": 4
    },
    {
     "cell_type": "code",
     "collapsed": false,
     "input": [
      "fname = \"/home/berceanu/notebooks/INPUT\"\n",
      "open(fname,\"r\") do f\n",
      "    for line in eachline(f)\n",
      "        line = strip(replace(line,[',','/'],' '))\n",
      "        (line[1] == '&' || line[1] == '!') && continue\n",
      "        include_string(\"global const \" * uppercase(line))\n",
      "    end\n",
      "end"
     ],
     "language": "python",
     "metadata": {},
     "outputs": [],
     "prompt_number": 5
    },
    {
     "cell_type": "code",
     "collapsed": false,
     "input": [
      "global const \u0394X = 2LX/NX\n",
      "global const \u0394Y = 2LY/NY\n",
      "global const CNORM = sqrt(NX*NY)/256/sqrt(LX*LY)*70"
     ],
     "language": "python",
     "metadata": {},
     "outputs": [
      {
       "metadata": {},
       "output_type": "pyout",
       "prompt_number": 6,
       "text": [
        "1.09375"
       ]
      }
     ],
     "prompt_number": 6
    },
    {
     "cell_type": "code",
     "collapsed": false,
     "input": [
      "# define custom type\n",
      "type Wavefunction{T}\n",
      "    c::Array{T, 2}  #cavity\n",
      "    x::Array{T, 2}  #exciton\n",
      "    Wavefunction(cav, exc) = new(copy(cav), copy(exc))\n",
      "end"
     ],
     "language": "python",
     "metadata": {},
     "outputs": [],
     "prompt_number": 7
    },
    {
     "cell_type": "code",
     "collapsed": false,
     "input": [
      "# which supports the following operations\n",
      "import Base.norm\n",
      "norm{T}(\u03c8::Wavefunction{T}, p::Float64) = max(Base.norm(\u03c8.c, p), Base.norm(\u03c8.x, p))\n",
      "\n",
      "+{T}(\u03c81::Wavefunction{T}, \u03c82::Wavefunction{T}) = Wavefunction{T}(\u03c81.c + \u03c82.c, \u03c81.x + \u03c82.x)\n",
      "-{T}(\u03c81::Wavefunction{T}, \u03c82::Wavefunction{T}) = Wavefunction{T}(\u03c81.c - \u03c82.c, \u03c81.x - \u03c82.x)\n",
      "\n",
      "*{T}(c::Real, \u03c8::Wavefunction{T}) = Wavefunction{T}(c*\u03c8.c, c*\u03c8.x)\n",
      "*{T}(\u03c8::Wavefunction{T}, c::Real) = c*\u03c8\n",
      "\n",
      "/{T}(\u03c8::Wavefunction{T}, c::Real) = Wavefunction{T}(\u03c8.c/c, \u03c8.x/c)"
     ],
     "language": "python",
     "metadata": {},
     "outputs": [
      {
       "metadata": {},
       "output_type": "pyout",
       "prompt_number": 8,
       "text": [
        "/ (generic function with 51 methods)"
       ]
      }
     ],
     "prompt_number": 8
    },
    {
     "cell_type": "code",
     "collapsed": false,
     "input": [
      "getidx(pos, len, \u0394) = iround((len + pos)/\u0394) + 1"
     ],
     "language": "python",
     "metadata": {},
     "outputs": [
      {
       "metadata": {},
       "output_type": "pyout",
       "prompt_number": 9,
       "text": [
        "getidx (generic function with 1 method)"
       ]
      }
     ],
     "prompt_number": 9
    },
    {
     "cell_type": "code",
     "collapsed": false,
     "input": [
      "function initpotcav(posx, posy, strength)\n",
      "    ix = getidx(posx, LX, \u0394X)\n",
      "    iy = getidx(posy, LY, \u0394Y)\n",
      "    potential = zeros(NY, NX)\n",
      "    potential[iy, ix] = strength\n",
      "    return potential\n",
      "end"
     ],
     "language": "python",
     "metadata": {},
     "outputs": [
      {
       "metadata": {},
       "output_type": "pyout",
       "prompt_number": 10,
       "text": [
        "initpotcav (generic function with 1 method)"
       ]
      }
     ],
     "prompt_number": 10
    },
    {
     "cell_type": "code",
     "collapsed": false,
     "input": [
      "global const potcav = initpotcav(DEF_X_POS, DEF_Y_POS, GV)\n",
      "global const SY = [-LY+(iy-1)*\u0394Y for iy=1:NY]\n",
      "global const SX = [-LX+(ix-1)*\u0394X for ix=1:NX];"
     ],
     "language": "python",
     "metadata": {},
     "outputs": [],
     "prompt_number": 11
    },
    {
     "cell_type": "code",
     "collapsed": false,
     "input": [
      "imagesc(0, SX, SY, potcav)"
     ],
     "language": "python",
     "metadata": {},
     "outputs": [
      {
       "metadata": {},
       "output_type": "pyout",
       "prompt_number": 12,
       "text": [
        "0"
       ]
      }
     ],
     "prompt_number": 12
    },
    {
     "cell_type": "code",
     "collapsed": false,
     "input": [
      "function initpump(x, y, ampl, width, kp)\n",
      "    r = sqrt(x .^ 2 .+ y .^ 2)\n",
      "    #top hat pump\n",
      "    0.5 * ampl / CNORM *\n",
      "    (tanh(1/10*(r .+ width)) - tanh(1/10*(r .- width))) .* exp(im*(kp*x .+ zero(kp)*y))\n",
      "end"
     ],
     "language": "python",
     "metadata": {},
     "outputs": [
      {
       "metadata": {},
       "output_type": "pyout",
       "prompt_number": 13,
       "text": [
        "initpump (generic function with 1 method)"
       ]
      }
     ],
     "prompt_number": 13
    },
    {
     "cell_type": "code",
     "collapsed": false,
     "input": [
      "global const pumpspc = initpump(SX', SY, F_P, SIGMA_P, K_P);"
     ],
     "language": "python",
     "metadata": {},
     "outputs": [],
     "prompt_number": 14
    },
    {
     "cell_type": "code",
     "collapsed": false,
     "input": [
      "surf(0, SX, SY, abs2(pumpspc), \"xrange\", \"[-20:19.5]\", \"yrange\", \"[-20:19.5]\")"
     ],
     "language": "python",
     "metadata": {},
     "outputs": [
      {
       "metadata": {},
       "output_type": "pyout",
       "prompt_number": 15,
       "text": [
        "0"
       ]
      }
     ],
     "prompt_number": 15
    },
    {
     "cell_type": "code",
     "collapsed": false,
     "input": [
      "#TODO: replace with stock version\n",
      "function fftfreq(n::Int64, d::Float64)\n",
      "#f = [0, 1, ...,   n/2-1,     -n/2, ..., -1] / (d*n)   if n is even\n",
      "#f = [0, 1, ..., (n-1)/2, -(n-1)/2, ..., -1] / (d*n)   if n is odd\n",
      "  N = fld(n-1,2)\n",
      "  p1 = [0:N]\n",
      "  p2 = [-fld(n,2):-1]\n",
      "  return [p1, p2]/(d*n)\n",
      "end"
     ],
     "language": "python",
     "metadata": {},
     "outputs": [
      {
       "metadata": {},
       "output_type": "pyout",
       "prompt_number": 16,
       "text": [
        "fftfreq (generic function with 1 method)"
       ]
      }
     ],
     "prompt_number": 16
    },
    {
     "cell_type": "code",
     "collapsed": false,
     "input": [
      "global const MOMY = fftfreq(NY, \u0394Y/2pi)\n",
      "global const MOMX = fftfreq(NX, \u0394X/2pi);"
     ],
     "language": "python",
     "metadata": {},
     "outputs": [],
     "prompt_number": 17
    },
    {
     "cell_type": "code",
     "collapsed": false,
     "input": [
      "setkin(kx, ky) = kx .^ 2 .+ ky .^ 2"
     ],
     "language": "python",
     "metadata": {},
     "outputs": [
      {
       "metadata": {},
       "output_type": "pyout",
       "prompt_number": 18,
       "text": [
        "setkin (generic function with 1 method)"
       ]
      }
     ],
     "prompt_number": 18
    },
    {
     "cell_type": "code",
     "collapsed": false,
     "input": [
      "global const kinetic = setkin(MOMX', MOMY);"
     ],
     "language": "python",
     "metadata": {},
     "outputs": [],
     "prompt_number": 19
    },
    {
     "cell_type": "code",
     "collapsed": false,
     "input": [
      "surf(0, fftshift(MOMX), fftshift(MOMY), fftshift(kinetic))"
     ],
     "language": "python",
     "metadata": {},
     "outputs": [
      {
       "metadata": {},
       "output_type": "pyout",
       "prompt_number": 20,
       "text": [
        "0"
       ]
      }
     ],
     "prompt_number": 20
    },
    {
     "cell_type": "code",
     "collapsed": false,
     "input": [
      "# define RHSs of differential equations\n",
      "#params: \u03c9p, \u03b4, \u03bac, \u03bax, potc, pmpspc, kin\n",
      "#TODO: devectorize, apply fft optimizations\n",
      "function rhs(t::Float64, \u03c8::Wavefunction{Complex{Float64}}, \u03c9p, \u03b4, \u03bac, \u03bax, potc, pmpspc, kin)\n",
      "    #generate the energy dependence of the pump\n",
      "    pump = pmpspc*exp(-im*\u03c9p*t)\n",
      "\n",
      "    #right hand side of the equation of motion\n",
      "    #photon part\n",
      "    d\u03c8c = -im*pump - im*\u03c8.x - (im*\u03b4 + \u03bac)*\u03c8.c\n",
      "    #add a potential to the photon part\n",
      "    d\u03c8c += im*potc .* \u03c8.c\n",
      "    #adding the kinetic energy by means of the FFT\n",
      "    d\u03c8c -= im*ifft(kin .* fft(\u03c8.c))\n",
      "    #exciton part\n",
      "    d\u03c8x = -im*\u03c8.c -\u03bax*\u03c8.x - im*abs2(\u03c8.x) .* \u03c8.x/(\u0394X*\u0394Y)\n",
      "    return Wavefunction{Complex{Float64}}(d\u03c8c, d\u03c8x)\n",
      "end"
     ],
     "language": "python",
     "metadata": {},
     "outputs": [
      {
       "metadata": {},
       "output_type": "pyout",
       "prompt_number": 21,
       "text": [
        "rhs (generic function with 1 method)"
       ]
      }
     ],
     "prompt_number": 21
    },
    {
     "cell_type": "code",
     "collapsed": false,
     "input": [
      "# inital conditons\n",
      "\u03c80 = Wavefunction{Complex{Float64}}(zeros(NY, NX), zeros(NY, NX));"
     ],
     "language": "python",
     "metadata": {},
     "outputs": [],
     "prompt_number": 22
    },
    {
     "cell_type": "code",
     "collapsed": false,
     "input": [
      "#initial step\n",
      "tfin = 50. #final integration time\n",
      "tfin/100"
     ],
     "language": "python",
     "metadata": {},
     "outputs": [
      {
       "metadata": {},
       "output_type": "pyout",
       "prompt_number": 23,
       "text": [
        "0.5"
       ]
      }
     ],
     "prompt_number": 23
    },
    {
     "cell_type": "code",
     "collapsed": false,
     "input": [
      "#minimal step\n",
      "tfin/1e9"
     ],
     "language": "python",
     "metadata": {},
     "outputs": [
      {
       "metadata": {},
       "output_type": "pyout",
       "prompt_number": 24,
       "text": [
        "5.0e-8"
       ]
      }
     ],
     "prompt_number": 24
    },
    {
     "cell_type": "code",
     "collapsed": false,
     "input": [
      "#maximal step\n",
      "tfin/2.5"
     ],
     "language": "python",
     "metadata": {},
     "outputs": [
      {
       "metadata": {},
       "output_type": "pyout",
       "prompt_number": 25,
       "text": [
        "20.0"
       ]
      }
     ],
     "prompt_number": 25
    },
    {
     "cell_type": "code",
     "collapsed": false,
     "input": [
      "#TODO: play with reltol, abstol"
     ],
     "language": "python",
     "metadata": {},
     "outputs": [],
     "prompt_number": 26
    },
    {
     "cell_type": "code",
     "collapsed": false,
     "input": [
      "# solve ODEs\n",
      "\u03c4, \u03c8out = ODE.ode78((t, psi) -> rhs(t, psi, OMEGA_P, DELTA, KAPPA_C, KAPPA_X, potcav, pumpspc, kinetic), \u03c80, [0.:DXSAV_RK:tfin];\n",
      "initstep = 6e-7, points = :specified);"
     ],
     "language": "python",
     "metadata": {},
     "outputs": [],
     "prompt_number": 27
    },
    {
     "cell_type": "code",
     "collapsed": false,
     "input": [
      "#final wavefunction\n",
      "imagesc(0, lC*SX, lC*SY, CNORM^2 * abs2(\u03c8out[end].c), \"xlabel\", x_label, \"ylabel\", y_label, \"title\", \"|\\psi_C|^2\")"
     ],
     "language": "python",
     "metadata": {},
     "outputs": [
      {
       "metadata": {},
       "output_type": "pyout",
       "prompt_number": 28,
       "text": [
        "0"
       ]
      }
     ],
     "prompt_number": 28
    },
    {
     "cell_type": "code",
     "collapsed": false,
     "input": [
      "[0.:10.:50.]"
     ],
     "language": "python",
     "metadata": {},
     "outputs": [
      {
       "metadata": {},
       "output_type": "pyout",
       "prompt_number": 29,
       "text": [
        "6-element Array{Float64,1}:\n",
        "  0.0\n",
        " 10.0\n",
        " 20.0\n",
        " 30.0\n",
        " 40.0\n",
        " 50.0"
       ]
      }
     ],
     "prompt_number": 29
    },
    {
     "cell_type": "code",
     "collapsed": false,
     "input": [
      "[ODE.approxin(elem, \u03c4; atol=.02) for elem in [0.:DXSAV_RK:tfin]]"
     ],
     "language": "python",
     "metadata": {},
     "outputs": [
      {
       "metadata": {},
       "output_type": "pyout",
       "prompt_number": 30,
       "text": [
        "6-element Array{Bool,1}:\n",
        " true\n",
        " true\n",
        " true\n",
        " true\n",
        " true\n",
        " true"
       ]
      }
     ],
     "prompt_number": 30
    },
    {
     "cell_type": "code",
     "collapsed": false,
     "input": [
      "println(\u03c4')"
     ],
     "language": "python",
     "metadata": {},
     "outputs": [
      {
       "output_type": "stream",
       "stream": "stdout",
       "text": [
        "[0"
       ]
      },
      {
       "output_type": "stream",
       "stream": "stdout",
       "text": [
        ".0 6.0e-7 2.3518310376718332e-5 0.0005685644348280687 0.009310637072216034 10.013199965903427 19.981675059144102 30.01638834567351 39.98331894402092 49.997417338519334 50.0]\n"
       ]
      }
     ],
     "prompt_number": 31
    },
    {
     "cell_type": "code",
     "collapsed": false,
     "input": [
      "step(1:1:10)"
     ],
     "language": "python",
     "metadata": {},
     "outputs": [
      {
       "metadata": {},
       "output_type": "pyout",
       "prompt_number": 33,
       "text": [
        "1"
       ]
      },
      {
       "output_type": "stream",
       "stream": "stderr",
       "text": [
        "Warning: redefining constant bs_coefficients\n",
        "Warning: redefining constant dp_coefficients\n",
        "Warning: redefining constant fb_coefficients\n",
        "Warning: redefining constant ck_coefficients\n",
        "Warning: redefining constant fb_coefficients_78\n",
        "Warning: redefining constant kr4_coefficients\n",
        "Warning: redefining constant s4_coefficients\n"
       ]
      }
     ],
     "prompt_number": 33
    },
    {
     "cell_type": "code",
     "collapsed": false,
     "input": [
      "step([1:.5:10])"
     ],
     "language": "python",
     "metadata": {},
     "outputs": [
      {
       "ename": "LoadError",
       "evalue": "no method step(Array{Float64,1})\nwhile loading In[36], in expression starting on line 1",
       "output_type": "pyerr",
       "traceback": [
        "no method step(Array{Float64,1})\nwhile loading In[36], in expression starting on line 1"
       ]
      }
     ],
     "prompt_number": 36
    },
    {
     "cell_type": "code",
     "collapsed": false,
     "input": [
      "[0.:DXSAV_RK:tfin]"
     ],
     "language": "python",
     "metadata": {},
     "outputs": [
      {
       "metadata": {},
       "output_type": "pyout",
       "prompt_number": 37,
       "text": [
        "6-element Array{Float64,1}:\n",
        "  0.0\n",
        " 10.0\n",
        " 20.0\n",
        " 30.0\n",
        " 40.0\n",
        " 50.0"
       ]
      }
     ],
     "prompt_number": 37
    },
    {
     "cell_type": "code",
     "collapsed": false,
     "input": [
      "if t + h > next_specified_point\n",
      "    h = next_specified_point - t\n",
      "end"
     ],
     "language": "python",
     "metadata": {},
     "outputs": []
    },
    {
     "cell_type": "code",
     "collapsed": false,
     "input": [
      "1-0.012"
     ],
     "language": "python",
     "metadata": {},
     "outputs": [
      {
       "metadata": {},
       "output_type": "pyout",
       "prompt_number": 38,
       "text": [
        "0.988"
       ]
      },
      {
       "output_type": "stream",
       "stream": "stderr",
       "text": [
        "Warning: redefining constant bs_coefficients\n",
        "Warning: redefining constant dp_coefficients\n",
        "Warning: redefining constant fb_coefficients\n",
        "Warning: redefining constant ck_coefficients\n",
        "Warning: redefining constant fb_coefficients_78\n",
        "Warning: redefining constant kr4_coefficients\n",
        "Warning: redefining constant s4_coefficients\n"
       ]
      }
     ],
     "prompt_number": 38
    },
    {
     "cell_type": "code",
     "collapsed": false,
     "input": [],
     "language": "python",
     "metadata": {},
     "outputs": []
    }
   ],
   "metadata": {}
  }
 ]
}