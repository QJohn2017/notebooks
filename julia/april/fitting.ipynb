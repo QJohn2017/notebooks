{
 "metadata": {
  "language": "Julia",
  "signature": "sha256:34a4d3eec7da5092d35977d25d70572268ae024dd8d75ecd2e767e53777d2c22"
 },
 "nbformat": 3,
 "nbformat_minor": 0,
 "worksheets": [
  {
   "cells": [
    {
     "cell_type": "heading",
     "level": 1,
     "metadata": {},
     "source": [
      "Fitting of experimetal data for the OPO drag paper"
     ]
    },
    {
     "cell_type": "markdown",
     "metadata": {},
     "source": [
      "We all agree to use the April data for which there are \\$k\\$-space\n",
      "spectra available.\n",
      "\n"
     ]
    },
    {
     "cell_type": "markdown",
     "metadata": {},
     "source": [
      "These experimental data are unfortunately quite lousy, so a real fitting\n",
      "is hard and very little conclusive.\n",
      "\n"
     ]
    },
    {
     "cell_type": "markdown",
     "metadata": {},
     "source": [
      "One can try to identify the Cherenkov cone on one side and some\n",
      "parabolic-like precursors on the other side, so to extract \\$k\\_p\\$ and,\n",
      "perhaps, some info about interactions within the pump. These infos could\n",
      "be compared to the spectral information and check that everything is\n",
      "consistent.\n",
      "\n"
     ]
    },
    {
     "cell_type": "markdown",
     "metadata": {},
     "source": [
      "Then, the pump pattern should be compared with the idler one, so to\n",
      "check that they are indeed related.\n",
      "\n"
     ]
    }
   ],
   "metadata": {}
  }
 ]
}