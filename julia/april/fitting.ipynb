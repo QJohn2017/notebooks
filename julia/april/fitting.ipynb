{
 "metadata": {
  "language": "Julia",
  "signature": "sha256:b8422d594a1c36b11cee1e90216d264844849cf0abdc2324a57473c2f8df6035"
 },
 "nbformat": 3,
 "nbformat_minor": 0,
 "worksheets": [
  {
   "cells": [
    {
     "cell_type": "heading",
     "level": 1,
     "metadata": {},
     "source": [
      "Fitting of experimetal data for the OPO drag paper"
     ]
    },
    {
     "cell_type": "code",
     "collapsed": false,
     "input": [
      "using Gaston\n",
      "set_terminal(\"wxt\")\n",
      "using Images"
     ],
     "language": "python",
     "metadata": {},
     "outputs": [],
     "prompt_number": 1
    },
    {
     "cell_type": "markdown",
     "metadata": {},
     "source": [
      "We all agreed to use the data from 19/04/2013 (065 082, E-) for which\n",
      "there are $k$-space spectra available.\n",
      "\n"
     ]
    },
    {
     "cell_type": "markdown",
     "metadata": {},
     "source": [
      "These experimental data are unfortunately quite noisy, so a real fitting\n",
      "is hard and quite inconclusive.\n",
      "\n"
     ]
    },
    {
     "cell_type": "heading",
     "level": 2,
     "metadata": {},
     "source": [
      "Experimental parameters"
     ]
    },
    {
     "cell_type": "markdown",
     "metadata": {},
     "source": [
      "* the Rabi is 6 meV\n",
      "\n",
      "\n",
      "* the energies of unshifted LPB, exciton and UPB are 837, 835.5 and 834 nm\n",
      "\n"
     ]
    },
    {
     "cell_type": "markdown",
     "metadata": {},
     "source": [
      "$\\omega_X(k)=\\omega_X^0$\n",
      "\n"
     ]
    },
    {
     "cell_type": "code",
     "collapsed": false,
     "input": [
      "#converts nm to eV\n",
      "\u03bbto\u03b5(\u03bb::Float64) = 1239.84193/\u03bb"
     ],
     "language": "python",
     "metadata": {},
     "outputs": [
      {
       "metadata": {},
       "output_type": "pyout",
       "prompt_number": 7,
       "text": [
        "\u03bbto\u03b5 (generic function with 1 method)"
       ]
      }
     ],
     "prompt_number": 7
    },
    {
     "cell_type": "code",
     "collapsed": false,
     "input": [
      "# System parameters\n",
      "kz = 20. #inverse micrometers\n",
      "# energies in eV\n",
      "Omega_R = 3e-3    #6/2\n",
      "en_LPB, omega_X, en_UPB = map(\u03bbto\u03b5, (837., 835.5, 834.))\n",
      "println(en_UPB - en_LPB - 2Omega_R) #0"
     ],
     "language": "python",
     "metadata": {},
     "outputs": [
      {
       "output_type": "stream",
       "stream": "stdout",
       "text": [
        "-0."
       ]
      },
      {
       "output_type": "stream",
       "stream": "stdout",
       "text": [
        "0006716092502343455\n"
       ]
      }
     ],
     "prompt_number": 39
    },
    {
     "cell_type": "markdown",
     "metadata": {},
     "source": [
      "$\\omega_{C}^{0}=\\omega_{X}^{0}+2\\sqrt{\\left(\\frac{\\omega_{UP}(0)-\\omega_{LP}(0)}{2}\\right)^{2}-\\Omega_{R}^{2}}$\n",
      "\n"
     ]
    },
    {
     "cell_type": "code",
     "collapsed": false,
     "input": [
      "omega_C0 = omega_X + 2sqrt(((en_UPB-en_LPB)/2)^2 - Omega_R^2)\n",
      "println(omega_C0 - omega_X) #\u03b4=0"
     ],
     "language": "python",
     "metadata": {},
     "outputs": [
      {
       "output_type": "stream",
       "stream": "stdout",
       "text": [
        "2.469542348393361e-10\n"
       ]
      }
     ],
     "prompt_number": 6
    },
    {
     "cell_type": "markdown",
     "metadata": {},
     "source": [
      "wavelengths of s,p,i are 836.425, 836.133, 835.841 nm respectively"
     ]
    },
    {
     "cell_type": "markdown",
     "metadata": {},
     "source": [
      "$\\epsilon[\\text{eV}]=\\frac{hc[\\text{eV}\\text{nm}]}{\\lambda[\\text{nm}]}$\n",
      "\n"
     ]
    },
    {
     "cell_type": "code",
     "collapsed": false,
     "input": [
      "energyspi = [\u03bbto\u03b5(\u03bb) for \u03bb in [836.425, 836.133, 835.841]]\n",
      "# check energy conservation\n",
      "println(2*energyspi[2] - energyspi[1] - energyspi[3])  #0"
     ],
     "language": "python",
     "metadata": {},
     "outputs": [
      {
       "output_type": "stream",
       "stream": "stdout",
       "text": [
        "-"
       ]
      },
      {
       "output_type": "stream",
       "stream": "stdout",
       "text": [
        "3.6168956452087286e-7\n"
       ]
      }
     ],
     "prompt_number": 8
    },
    {
     "cell_type": "markdown",
     "metadata": {},
     "source": [
      "$k_s = 0.21$, $k_p = 0.89$ and $k_i = 1.52$ $\\text{rad}/\\mu m$"
     ]
    },
    {
     "cell_type": "code",
     "collapsed": false,
     "input": [
      "momentumspi = [0.21, 0.89, 1.52]\n",
      "# check momentum conservation\n",
      "println(2*momentumspi[2] - momentumspi[1] - momentumspi[3])  #0"
     ],
     "language": "python",
     "metadata": {},
     "outputs": [
      {
       "output_type": "stream",
       "stream": "stdout",
       "text": [
        "0.050000000000000044\n"
       ]
      }
     ],
     "prompt_number": 9
    },
    {
     "cell_type": "markdown",
     "metadata": {},
     "source": [
      "one can slightly adjust the values (reduce $k_s$ and increase $k_i$ if\n",
      "needed, since they got a finite experimental width\n",
      "\n"
     ]
    },
    {
     "cell_type": "markdown",
     "metadata": {},
     "source": [
      "$\\omega_{C}(k)=\\omega_{C}^0\\,\\sqrt{1+({k}/{k_z})^2}$\n",
      "\n"
     ]
    },
    {
     "cell_type": "code",
     "collapsed": false,
     "input": [
      "enC(kx, ky) = omega_C0*sqrt(1 + (sqrt(kx^2 + ky^2)/kz)^2)"
     ],
     "language": "python",
     "metadata": {},
     "outputs": [
      {
       "metadata": {},
       "output_type": "pyout",
       "prompt_number": 10,
       "text": [
        "enC (generic function with 1 method)"
       ]
      }
     ],
     "prompt_number": 10
    },
    {
     "cell_type": "markdown",
     "metadata": {},
     "source": [
      "\\begin{equation}\n",
      "\\omega_{UP,LP}(k)=\\frac{\\omega_C(k)+\\omega_X(k)}{2} \\pm\\left[\\Omega_R^2 + \\left(\\frac{\\omega_C(k)-\\omega_X(k)}{2}\\right)^2 \\right]^{1/2}\n",
      "\\end{equation}"
     ]
    },
    {
     "cell_type": "code",
     "collapsed": false,
     "input": [
      "enLP(kx, ky) = (enC(kx, ky) + omega_X)/2 - sqrt(Omega_R^2 + ((enC(kx, ky)-omega_X)/2)^2)\n",
      "enUP(kx, ky) = (enC(kx, ky) + omega_X)/2 + sqrt(Omega_R^2 + ((enC(kx, ky)-omega_X)/2)^2)"
     ],
     "language": "python",
     "metadata": {},
     "outputs": [
      {
       "metadata": {},
       "output_type": "pyout",
       "prompt_number": 11,
       "text": [
        "enUP (generic function with 1 method)"
       ]
      }
     ],
     "prompt_number": 11
    },
    {
     "cell_type": "markdown",
     "metadata": {},
     "source": [
      "energy of blue-shifted LPB is 836.4625 nm."
     ]
    },
    {
     "cell_type": "code",
     "collapsed": false,
     "input": [
      "bshift = \u03bbto\u03b5(836.4625) - enLP(0., 0.)"
     ],
     "language": "python",
     "metadata": {},
     "outputs": [
      {
       "metadata": {},
       "output_type": "pyout",
       "prompt_number": 12,
       "text": [
        "0.0012444878242792168"
       ]
      }
     ],
     "prompt_number": 12
    },
    {
     "cell_type": "heading",
     "level": 2,
     "metadata": {},
     "source": [
      "Defining plotting ranges"
     ]
    },
    {
     "cell_type": "code",
     "collapsed": false,
     "input": [
      "getidx(pos, len, \u0394) = iround((len + pos)/\u0394) + 1"
     ],
     "language": "python",
     "metadata": {},
     "outputs": [
      {
       "metadata": {},
       "output_type": "pyout",
       "prompt_number": 13,
       "text": [
        "getidx (generic function with 1 method)"
       ]
      }
     ],
     "prompt_number": 13
    },
    {
     "cell_type": "markdown",
     "metadata": {},
     "source": [
      "* 0.16 $\\mu m$/px for the horizontal axis (the axis with 1024 pixels)\n",
      "* 0.64 $\\mu m$/px for the vertical axis (the one with 200 pixels)"
     ]
    },
    {
     "cell_type": "markdown",
     "metadata": {},
     "source": [
      "Vertical axis length, in $\\mu m$.\n",
      "\n"
     ]
    },
    {
     "cell_type": "code",
     "collapsed": false,
     "input": [
      "ny = 200\n",
      "deltay = 0.64\n",
      "sidey = (ny-1)*deltay/2\n",
      "y = -sidey:deltay:sidey;"
     ],
     "language": "python",
     "metadata": {},
     "outputs": [],
     "prompt_number": 14
    },
    {
     "cell_type": "markdown",
     "metadata": {},
     "source": [
      "Horizontal axis length, in $\\mu m$."
     ]
    },
    {
     "cell_type": "code",
     "collapsed": false,
     "input": [
      "nx = 1024\n",
      "deltax = 0.16\n",
      "sidex = (nx-1)*deltax/2\n",
      "x = -sidex:deltax:sidex;"
     ],
     "language": "python",
     "metadata": {},
     "outputs": [],
     "prompt_number": 15
    },
    {
     "cell_type": "heading",
     "level": 3,
     "metadata": {},
     "source": [
      "Fourier transforms"
     ]
    },
    {
     "cell_type": "code",
     "collapsed": false,
     "input": [
      "#TODO: replace with stock version\n",
      "function fftfreq(n::Int64, d::Float64)\n",
      "#f = [0, 1, ...,   n/2-1,     -n/2, ..., -1] / (d*n)   if n is even\n",
      "#f = [0, 1, ..., (n-1)/2, -(n-1)/2, ..., -1] / (d*n)   if n is odd\n",
      "  N = fld(n-1,2)\n",
      "  p1 = [0:N]\n",
      "  p2 = [-fld(n,2):-1]\n",
      "  return [p1, p2]/(d*n)\n",
      "end"
     ],
     "language": "python",
     "metadata": {},
     "outputs": [
      {
       "metadata": {},
       "output_type": "pyout",
       "prompt_number": 16,
       "text": [
        "fftfreq (generic function with 1 method)"
       ]
      }
     ],
     "prompt_number": 16
    },
    {
     "cell_type": "code",
     "collapsed": false,
     "input": [
      "ky = 2pi*fftshift(fftfreq(ny, deltay))\n",
      "kx = 2pi*fftshift(fftfreq(nx, deltax));"
     ],
     "language": "python",
     "metadata": {},
     "outputs": [],
     "prompt_number": 17
    },
    {
     "cell_type": "heading",
     "level": 2,
     "metadata": {},
     "source": [
      "Plotting dispersion"
     ]
    },
    {
     "cell_type": "code",
     "collapsed": false,
     "input": [
      "lp = Float64[enLP(k, 0.) for k in kx] .+ bshift;"
     ],
     "language": "python",
     "metadata": {},
     "outputs": [],
     "prompt_number": 18
    },
    {
     "cell_type": "code",
     "collapsed": false,
     "input": [
      "plot(0, kx[446:580], lp[446:580], \"plotstyle\", \"dots\", momentumspi, energyspi, \"plotstyle\", \"points\",\n",
      "\"yrange\", \"[1.482:1.484]\", \"ylabel\", \"\u03b5[eV]\", \"xlabel\", \"kx[1/\u03bcm]\",\n",
      "\"title\", \"dispersion\")"
     ],
     "language": "python",
     "metadata": {},
     "outputs": [
      {
       "metadata": {},
       "output_type": "pyout",
       "prompt_number": 19,
       "text": [
        "0"
       ]
      }
     ],
     "prompt_number": 19
    },
    {
     "cell_type": "code",
     "collapsed": false,
     "input": [
      "spectrum = imread(\"spectrum.png\")"
     ],
     "language": "python",
     "metadata": {},
     "outputs": [
      {
       "metadata": {},
       "output_type": "pyout",
       "png": "[encoded data removed]",
       "prompt_number": 2,
       "text": [
        "RGB Image with:\n",
        "  data: 3x265x406 Array{Uint8,3}\n",
        "  properties:\n",
        "    colorspace: RGB\n",
        "    colordim: 1\n",
        "    spatialorder:  x y\n",
        "    limits: (0x00,0xff)"
       ]
      }
     ],
     "prompt_number": 2
    },
    {
     "cell_type": "heading",
     "level": 2,
     "metadata": {},
     "source": [
      "Extract defect coordinates"
     ]
    },
    {
     "cell_type": "code",
     "collapsed": false,
     "input": [
      "# reading and rescaling experimental data\n",
      "function getexpfile(filename::ASCIIString)\n",
      "    m = readdlm(filename, '\\t', Float64, '\\n')\n",
      "    (mmin, mmax) = extrema(m)\n",
      "    m = m .- mmin\n",
      "    m[m .< 0.] = 0.\n",
      "    m *= 255.0/(mmax - mmin)\n",
      "    m[m .> 255.] = 255.\n",
      "    return m    \n",
      "end"
     ],
     "language": "python",
     "metadata": {},
     "outputs": [
      {
       "metadata": {},
       "output_type": "pyout",
       "prompt_number": 20,
       "text": [
        "getexpfile (generic function with 1 method)"
       ]
      }
     ],
     "prompt_number": 20
    },
    {
     "cell_type": "code",
     "collapsed": false,
     "input": [
      "# truncating experimental data\n",
      "function truncdata(m::Matrix{Float64}; cmin=0., cmax=255.)\n",
      "    m[m .> cmax] = cmax\n",
      "    m[m .< cmin] = cmin\n",
      "    return m\n",
      "end"
     ],
     "language": "python",
     "metadata": {},
     "outputs": [
      {
       "metadata": {},
       "output_type": "pyout",
       "prompt_number": 21,
       "text": [
        "truncdata (generic function with 1 method)"
       ]
      }
     ],
     "prompt_number": 21
    },
    {
     "cell_type": "code",
     "collapsed": false,
     "input": [
      "defdata = getexpfile(\"E-defect.dat\")\n",
      "tdefdata = truncdata(defdata; cmax = 200.);"
     ],
     "language": "python",
     "metadata": {},
     "outputs": [],
     "prompt_number": 22
    },
    {
     "cell_type": "markdown",
     "metadata": {},
     "source": [
      "the state below the LP dispersion, the state *d* which\n",
      "Lorenzo has filtered, is very well localised at the defect position"
     ]
    },
    {
     "cell_type": "code",
     "collapsed": false,
     "input": [
      "imagesc(0, y, x, tdefdata,\n",
      "\"xlabel\", \"x[\u03bcm]\", \"ylabel\", \"y[\u03bcm]\", \"title\", \"|\u03c8d|^2\")"
     ],
     "language": "python",
     "metadata": {},
     "outputs": [
      {
       "metadata": {},
       "output_type": "pyout",
       "prompt_number": 28,
       "text": [
        "0"
       ]
      }
     ],
     "prompt_number": 28
    },
    {
     "cell_type": "markdown",
     "metadata": {},
     "source": [
      "We extract the defect coordinates \"by hand\"."
     ]
    },
    {
     "cell_type": "code",
     "collapsed": false,
     "input": [
      "xdef = -11.2\n",
      "ydef =  -0.2;"
     ],
     "language": "python",
     "metadata": {},
     "outputs": [],
     "prompt_number": 24
    },
    {
     "cell_type": "heading",
     "level": 2,
     "metadata": {},
     "source": [
      "Cropping symmetrically around the defect"
     ]
    },
    {
     "cell_type": "code",
     "collapsed": false,
     "input": [
      "# crop exp data for centering around defect\n",
      "function cropdata(m::Matrix{Float64}, x::FloatRange{Float64}, y::FloatRange{Float64};\n",
      "    xcenter=0., ycenter=0., side=10.)\n",
      "    lenx = maximum(x)\n",
      "    stepx = step(x)\n",
      "    leny = maximum(y)\n",
      "    stepy = step(y)\n",
      "    #coordinates of square xl, xr, yb, yt\n",
      "    coords = Float64[xcenter - side, xcenter + side, ycenter - side, ycenter + side]\n",
      "    #indices of square idxxl, idxxr, idxyb, idxyt\n",
      "    idxs = map(getidx, coords, [lenx, lenx, leny, leny], [stepx, stepx, stepy, stepy])\n",
      "    return (m[idxs[3]:idxs[4],idxs[1]:idxs[2]], x[idxs[1]:idxs[2]], y[idxs[3]:idxs[4]])\n",
      "end"
     ],
     "language": "python",
     "metadata": {},
     "outputs": [
      {
       "metadata": {},
       "output_type": "pyout",
       "prompt_number": 25,
       "text": [
        "cropdata (generic function with 1 method)"
       ]
      }
     ],
     "prompt_number": 25
    },
    {
     "cell_type": "code",
     "collapsed": false,
     "input": [
      "pmpdata = getexpfile(\"E-pump.dat\")\n",
      "tpmpdata = truncdata(pmpdata; cmax = 180.)\n",
      "ctpmpdata, cx, cy = cropdata(tpmpdata, x, y; xcenter=xdef, ycenter=ydef, side=35.);"
     ],
     "language": "python",
     "metadata": {},
     "outputs": [],
     "prompt_number": 26
    },
    {
     "cell_type": "code",
     "collapsed": false,
     "input": [
      "imagesc(0, cy, cx, ctpmpdata,\n",
      "\"xlabel\", \"x[\u03bcm]\", \"ylabel\", \"y[\u03bcm]\", \"title\", \"|\u03c8p|^2\")"
     ],
     "language": "python",
     "metadata": {},
     "outputs": [
      {
       "metadata": {},
       "output_type": "pyout",
       "prompt_number": 27,
       "text": [
        "0"
       ]
      }
     ],
     "prompt_number": 27
    },
    {
     "cell_type": "markdown",
     "metadata": {},
     "source": [
      "One can try to identify the Cherenkov cone on one side and some\n",
      "parabolic-like precursors on the other side, so to extract $k_p$ and,\n",
      "perhaps, some info about interactions within the pump. That info could\n",
      "be compared to the spectral information to check that everything is\n",
      "consistent.\n",
      "\n"
     ]
    },
    {
     "cell_type": "heading",
     "level": 2,
     "metadata": {},
     "source": [
      "Cherenkov cone"
     ]
    },
    {
     "cell_type": "heading",
     "level": 3,
     "metadata": {},
     "source": [
      "Pump-only in linear response"
     ]
    },
    {
     "cell_type": "heading",
     "level": 2,
     "metadata": {},
     "source": [
      "Parabolic precursors"
     ]
    },
    {
     "cell_type": "markdown",
     "metadata": {},
     "source": [
      "- extract $k_p$\n",
      "- extract interaction info\n",
      "- compare interaction info with exp. spectrum"
     ]
    },
    {
     "cell_type": "heading",
     "level": 2,
     "metadata": {},
     "source": [
      "Comparison to idler"
     ]
    },
    {
     "cell_type": "markdown",
     "metadata": {},
     "source": [
      "Then, the pump pattern should be compared with the idler one, so to\n",
      "check that they are indeed related.\n",
      "\n"
     ]
    }
   ],
   "metadata": {}
  }
 ]
}