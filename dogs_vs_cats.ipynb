{
 "cells": [
  {
   "cell_type": "markdown",
   "metadata": {},
   "source": [
    "# Dogs vs. Cats Redux: Kernels Edition"
   ]
  },
  {
   "cell_type": "markdown",
   "metadata": {},
   "source": [
    "* the Kaggle data is available at\n",
    "https://www.kaggle.com/c/dogs-vs-cats-redux-kernels-edition/data\n",
    "and has been uploaded to Amazon S3 for the sake of reproducibility"
   ]
  },
  {
   "cell_type": "markdown",
   "metadata": {},
   "source": [
    "## Create necessary filestructure"
   ]
  },
  {
   "cell_type": "raw",
   "metadata": {},
   "source": [
    "data\n",
    "├── raw\n",
    "│   └── train\n",
    "├── train\n",
    "│   ├── cats\n",
    "│   └── dogs\n",
    "├── train.zip\n",
    "└── validation\n",
    "    ├── cats\n",
    "    └── dogs"
   ]
  },
  {
   "cell_type": "code",
   "execution_count": null,
   "metadata": {
    "collapsed": true
   },
   "outputs": [],
   "source": [
    "import os"
   ]
  },
  {
   "cell_type": "code",
   "execution_count": null,
   "metadata": {
    "collapsed": false
   },
   "outputs": [],
   "source": [
    "if not os.path.exists('data'):\n",
    "    print('Creating directory tree..')\n",
    "    os.makedirs('data/train/dogs', exist_ok=True)\n",
    "    os.makedirs('data/train/cats', exist_ok=True)\n",
    "    os.makedirs('data/validation/dogs', exist_ok=True)\n",
    "    os.makedirs('data/validation/cats', exist_ok=True)"
   ]
  },
  {
   "cell_type": "markdown",
   "metadata": {},
   "source": [
    "* download the training dataset from the Amazon bucket"
   ]
  },
  {
   "cell_type": "code",
   "execution_count": null,
   "metadata": {
    "collapsed": true
   },
   "outputs": [],
   "source": [
    "train_zip_file = 'data/train.zip'"
   ]
  },
  {
   "cell_type": "code",
   "execution_count": null,
   "metadata": {
    "collapsed": false
   },
   "outputs": [],
   "source": [
    "if not os.path.isfile(train_zip_file):\n",
    "    print('Downloading training data archive. Please wait.')\n",
    "    import requests\n",
    "    \n",
    "    # get stream\n",
    "    r = requests.get('https://s3.eu-west-2.amazonaws.com/kaggledatafiles/train.zip',\n",
    "                allow_redirects=False, stream=True)\n",
    "    \n",
    "    # write to file\n",
    "    with open(train_zip_file, 'wb') as fd:\n",
    "        for chunk in r.iter_content(chunk_size=1024):\n",
    "            fd.write(chunk)"
   ]
  },
  {
   "cell_type": "markdown",
   "metadata": {},
   "source": [
    "* validate checksum"
   ]
  },
  {
   "cell_type": "code",
   "execution_count": null,
   "metadata": {
    "collapsed": true
   },
   "outputs": [],
   "source": [
    "import hashlib"
   ]
  },
  {
   "cell_type": "code",
   "execution_count": null,
   "metadata": {
    "collapsed": true
   },
   "outputs": [],
   "source": [
    "def sha256_checksum(filename, block_size=65536):\n",
    "    sha256 = hashlib.sha256()\n",
    "    with open(filename, 'rb') as f:\n",
    "        for block in iter(lambda: f.read(block_size), b''):\n",
    "            sha256.update(block)\n",
    "    return sha256.hexdigest()"
   ]
  },
  {
   "cell_type": "code",
   "execution_count": null,
   "metadata": {
    "collapsed": false
   },
   "outputs": [],
   "source": [
    "correct_checksum = '36fbbfb947aeffeaf6f8ddf5178cd43d1b74aae150dff942eadb07df7929a6d7'\n",
    "checksum = sha256_checksum(train_zip_file)\n",
    "assert checksum == correct_checksum, 'Checksum mismatch!'"
   ]
  },
  {
   "cell_type": "markdown",
   "metadata": {},
   "source": [
    "* unzip the downloaded archive"
   ]
  },
  {
   "cell_type": "code",
   "execution_count": null,
   "metadata": {
    "collapsed": false
   },
   "outputs": [],
   "source": [
    "if not os.path.exists('data/raw'):\n",
    "    print('Unzipping training data archive..')\n",
    "    import zipfile\n",
    "    with zipfile.ZipFile(train_zip_file, 'r') as zip_ref:\n",
    "        zip_ref.extractall('data/raw')"
   ]
  },
  {
   "cell_type": "markdown",
   "metadata": {},
   "source": [
    "## Class definitions for easy manipulation of image files"
   ]
  },
  {
   "cell_type": "code",
   "execution_count": null,
   "metadata": {
    "collapsed": true
   },
   "outputs": [],
   "source": [
    "from collections.abc import Mapping, Sequence"
   ]
  },
  {
   "cell_type": "code",
   "execution_count": null,
   "metadata": {
    "collapsed": true
   },
   "outputs": [],
   "source": [
    "class Pictures(Mapping):\n",
    "    def __init__(self, filenames):\n",
    "        self.files = filenames\n",
    "        pic_list = [Picture(file) for file in filenames]\n",
    "        animals = {pic.animal for pic in pic_list}\n",
    "        for animal in animals:\n",
    "            seq = [pic for pic in pic_list if pic.animal == animal]\n",
    "            if animal == 'cat':\n",
    "                cat_seq = CatSequence(seq)\n",
    "            elif animal == 'dog':\n",
    "                dog_seq = DogSequence(seq)\n",
    "            else:\n",
    "                raise NameError('Unidentified animal!')\n",
    "        self._storage = {'cat':cat_seq, 'dog':dog_seq}\n",
    "                \n",
    "    def __getitem__(self, key):\n",
    "        return self._storage[key]\n",
    "    def __iter__(self):\n",
    "        return iter(self._storage)\n",
    "    def __len__(self):\n",
    "        return len(self._storage)\n",
    "\n",
    "    def __repr__(self):\n",
    "        cname = type(self).__name__\n",
    "        return \"{0}({1})\".format(cname, self.files)\n",
    "    \n",
    "    def __str__(self):\n",
    "        return \"\\n\".join(self.files)    "
   ]
  },
  {
   "cell_type": "code",
   "execution_count": null,
   "metadata": {
    "collapsed": true
   },
   "outputs": [],
   "source": [
    "class CatSequence(AnimalSequence):\n",
    "    def __init__(self, list_of_pictures):\n",
    "        AnimalSequence.__init__(self, list_of_pictures)\n",
    "        assert self._animal.pop() == 'cat', 'Expecting cats!'"
   ]
  },
  {
   "cell_type": "code",
   "execution_count": null,
   "metadata": {
    "collapsed": true
   },
   "outputs": [],
   "source": [
    "class DogSequence(AnimalSequence):\n",
    "    def __init__(self, list_of_pictures):\n",
    "        AnimalSequence.__init__(self, list_of_pictures)\n",
    "        assert self._animal.pop() == 'dog', 'Expecting dogs!'"
   ]
  },
  {
   "cell_type": "code",
   "execution_count": null,
   "metadata": {
    "collapsed": false
   },
   "outputs": [],
   "source": [
    "class AnimalSequence(Sequence):\n",
    "    def __init__(self, list_of_pictures):\n",
    "\n",
    "        self._storage = {pic.index:pic for pic in list_of_pictures}\n",
    "        \n",
    "        self._animal = {pic.animal for pic in self._storage.values()}\n",
    "\n",
    "        # sequence must contain a single animal\n",
    "        assert len(self._animal) == 1, 'Error: multi-animal sequence!'\n",
    "\n",
    "    @property\n",
    "    def files(self):\n",
    "        return (pic.file for pic in self._storage.values())\n",
    "    \n",
    "    def __len__(self):\n",
    "        return len(self._storage)\n",
    "    \n",
    "    def __getitem__(self, key):\n",
    "        if isinstance(key, slice):\n",
    "            indices = range(*key.indices(len(self)))\n",
    "            return self.__class__([self._storage[i] for i in indices])\n",
    "        else: # plain index\n",
    "            return self._storage[key]\n",
    "    \n",
    "    def __repr__(self):\n",
    "        cname = type(self).__name__\n",
    "        pic_list = list(self._storage.values())\n",
    "        return \"{0}({1})\".format(cname, pic_list)\n",
    "    \n",
    "    def __str__(self):\n",
    "        return \"\\n\".join([pic.file for pic in self._storage.values()])"
   ]
  },
  {
   "cell_type": "code",
   "execution_count": null,
   "metadata": {
    "collapsed": false
   },
   "outputs": [],
   "source": [
    "class Picture:\n",
    "    separator = '.'\n",
    "    \n",
    "    def __init__(self, file):\n",
    "        self.file = file\n",
    "    \n",
    "    @property\n",
    "    def animal(self):\n",
    "        return self._fields()[0]\n",
    "    \n",
    "    @property\n",
    "    def index(self):\n",
    "        return int(self._fields()[1])\n",
    "\n",
    "    @property\n",
    "    def extension(self):\n",
    "        return self._fields()[2]\n",
    "\n",
    "    def _fields(self):\n",
    "        return self.file.split(Picture.separator)\n",
    "    \n",
    "    def __repr__(self):\n",
    "        cname = type(self).__name__\n",
    "        return \"{0}({1})\".format(cname, repr(self.file))\n",
    "    \n",
    "    def __str__(self):\n",
    "        return self.file"
   ]
  },
  {
   "cell_type": "markdown",
   "metadata": {},
   "source": [
    "## Fill folders with the right files"
   ]
  },
  {
   "cell_type": "code",
   "execution_count": null,
   "metadata": {
    "collapsed": false
   },
   "outputs": [],
   "source": [
    "file_list = os.listdir('data/raw/train')"
   ]
  },
  {
   "cell_type": "code",
   "execution_count": null,
   "metadata": {
    "collapsed": false
   },
   "outputs": [],
   "source": [
    "pics = Pictures(file_list)"
   ]
  },
  {
   "cell_type": "code",
   "execution_count": null,
   "metadata": {
    "collapsed": false
   },
   "outputs": [],
   "source": [
    "# get the list of cats indexed 0-999\n",
    "cats_0_1000 = pics['cat'][0:1000]"
   ]
  },
  {
   "cell_type": "code",
   "execution_count": null,
   "metadata": {
    "collapsed": false
   },
   "outputs": [],
   "source": [
    "list(cats_0_1000.files)"
   ]
  },
  {
   "cell_type": "code",
   "execution_count": null,
   "metadata": {
    "collapsed": false
   },
   "outputs": [],
   "source": [
    "# get the list of cats indexed 1000-1400\n",
    "cats_1000_1400 = pics['cat'][1000:1401]"
   ]
  },
  {
   "cell_type": "code",
   "execution_count": null,
   "metadata": {
    "collapsed": false
   },
   "outputs": [],
   "source": [
    "# get the list of dogs indexed 12500-13499 (?)\n"
   ]
  },
  {
   "cell_type": "code",
   "execution_count": null,
   "metadata": {
    "collapsed": false
   },
   "outputs": [],
   "source": [
    "# get the list of dogs indexed 13500-13900 (?)\n"
   ]
  }
 ],
 "metadata": {
  "kernelspec": {
   "display_name": "Python 3",
   "language": "python",
   "name": "python3"
  },
  "language_info": {
   "codemirror_mode": {
    "name": "ipython",
    "version": 3
   },
   "file_extension": ".py",
   "mimetype": "text/x-python",
   "name": "python",
   "nbconvert_exporter": "python",
   "pygments_lexer": "ipython3",
   "version": "3.5.2"
  }
 },
 "nbformat": 4,
 "nbformat_minor": 2
}
