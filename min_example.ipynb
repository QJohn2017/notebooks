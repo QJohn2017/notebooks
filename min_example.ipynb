{
 "metadata": {
  "name": "",
  "signature": "sha256:bf8637813b0c6abaec02fb867d0bd732a1bcb8cefff8ff759e5a86d43207b004"
 },
 "nbformat": 3,
 "nbformat_minor": 0,
 "worksheets": [
  {
   "cells": [
    {
     "cell_type": "code",
     "collapsed": false,
     "input": [
      "from sympy import *"
     ],
     "language": "python",
     "metadata": {},
     "outputs": [],
     "prompt_number": 8
    },
    {
     "cell_type": "code",
     "collapsed": false,
     "input": [
      "k, q, k1, k2, q1, q2, n = symbols('k q k_1 k_2 q_1 q_2 n', integer=True)\n",
      "ut1, ut2, vt1, vt2 = symbols('utilde_1 utilde_2 vtilde_1 vtilde_2', cls=Function)\n",
      "psiss1, psiss2 = symbols('psi^ss_1 psi^ss_2')\n",
      "omega, omega1, omega2, t, m, gv, g = symbols('omega omega_1 omega_2 t m g_v g', real=True)"
     ],
     "language": "python",
     "metadata": {},
     "outputs": [],
     "prompt_number": 9
    },
    {
     "cell_type": "code",
     "collapsed": false,
     "input": [
      "class psitilde(Function):\n",
      "    nargs = 2\n",
      "\n",
      "    @classmethod\n",
      "    def eval(cls, k, t):\n",
      "        return psiss1 * KroneckerDelta(k, k1) * exp(-I*omega1*t) + \\\n",
      "               psiss2 * KroneckerDelta(k, k2) * exp(-I*omega2*t) + \\\n",
      "               (ut1(k-k1)*exp(-I*omega*t) + conjugate(vt1(k1-k))*exp(I*omega*t))*exp(-I*omega1*t) + \\\n",
      "               (ut2(k-k2)*exp(-I*omega*t) + conjugate(vt2(k2-k))*exp(I*omega*t))*exp(-I*omega2*t)"
     ],
     "language": "python",
     "metadata": {},
     "outputs": [],
     "prompt_number": 10
    },
    {
     "cell_type": "code",
     "collapsed": false,
     "input": [
      "class psitildebar(Function):\n",
      "    nargs = 2\n",
      "\n",
      "    @classmethod\n",
      "    def eval(cls, k, t):\n",
      "        return conjugate(psitilde(k,t))"
     ],
     "language": "python",
     "metadata": {},
     "outputs": [],
     "prompt_number": 11
    },
    {
     "cell_type": "code",
     "collapsed": false,
     "input": [
      "class linearize(Function):\n",
      "    nargs = 2\n",
      "\n",
      "    @classmethod\n",
      "    def eval(cls, arg, order):\n",
      "        step1 = arg.replace(vt1, lambda expr: n*vt1(expr))\n",
      "        step2 = step1.replace(vt2, lambda expr: n*vt2(expr))\n",
      "        step3 = step2.replace(ut2, lambda expr: n*ut2(expr))\n",
      "        step4 = step3.replace(ut1, lambda expr: n*ut1(expr))\n",
      "        return (step4.series(n, 0, 2).removeO()).subs(n, order)"
     ],
     "language": "python",
     "metadata": {},
     "outputs": [],
     "prompt_number": 12
    },
    {
     "cell_type": "code",
     "collapsed": false,
     "input": [
      "thirdorder = expand(g * psitilde(q1,t) * psitilde(q2,t) * psitildebar(q1+q2-k,t))"
     ],
     "language": "python",
     "metadata": {},
     "outputs": [],
     "prompt_number": 13
    },
    {
     "cell_type": "code",
     "collapsed": false,
     "input": [
      "%time linearize(thirdorder, 1)"
     ],
     "language": "python",
     "metadata": {},
     "outputs": [
      {
       "output_type": "stream",
       "stream": "stdout",
       "text": [
        "CPU times: user 3min 17s, sys: 747 ms, total: 3min 18s\n",
        "Wall time: 3min 17s\n"
       ]
      },
      {
       "metadata": {},
       "output_type": "pyout",
       "prompt_number": 14,
       "text": [
        "g*psi^ss_1**2*vtilde_1(k + k_1 - q_1 - q_2)*exp(-I*omega*t - I*omega_1*t)*KroneckerDelta(k_1, q_1)*KroneckerDelta(k_1, q_2) + g*psi^ss_1**2*vtilde_2(k + k_2 - q_1 - q_2)*exp(-I*omega*t - 2*I*omega_1*t + I*omega_2*t)*KroneckerDelta(k_1, q_1)*KroneckerDelta(k_1, q_2) + g*psi^ss_1**2*exp(I*omega*t - I*omega_1*t)*conjugate(utilde_1(-k - k_1 + q_1 + q_2))*KroneckerDelta(k_1, q_1)*KroneckerDelta(k_1, q_2) + g*psi^ss_1**2*exp(I*omega*t - 2*I*omega_1*t + I*omega_2*t)*conjugate(utilde_2(-k - k_2 + q_1 + q_2))*KroneckerDelta(k_1, q_1)*KroneckerDelta(k_1, q_2) + g*psi^ss_1**2*exp(-I*omega_1*t)*conjugate(psi^ss_1)*KroneckerDelta(k_1, q_1)*KroneckerDelta(k_1, q_2)*KroneckerDelta(k_1, -k + q_1 + q_2) + g*psi^ss_1**2*exp(-2*I*omega_1*t)*exp(I*omega_2*t)*conjugate(psi^ss_2)*KroneckerDelta(k_1, q_1)*KroneckerDelta(k_1, q_2)*KroneckerDelta(k_2, -k + q_1 + q_2) + g*psi^ss_1*psi^ss_2*vtilde_1(k + k_1 - q_1 - q_2)*exp(-I*omega*t - I*omega_2*t)*KroneckerDelta(k_1, q_1)*KroneckerDelta(k_2, q_2) + g*psi^ss_1*psi^ss_2*vtilde_1(k + k_1 - q_1 - q_2)*exp(-I*omega*t - I*omega_2*t)*KroneckerDelta(k_1, q_2)*KroneckerDelta(k_2, q_1) + g*psi^ss_1*psi^ss_2*vtilde_2(k + k_2 - q_1 - q_2)*exp(-I*omega*t - I*omega_1*t)*KroneckerDelta(k_1, q_1)*KroneckerDelta(k_2, q_2) + g*psi^ss_1*psi^ss_2*vtilde_2(k + k_2 - q_1 - q_2)*exp(-I*omega*t - I*omega_1*t)*KroneckerDelta(k_1, q_2)*KroneckerDelta(k_2, q_1) + g*psi^ss_1*psi^ss_2*exp(I*omega*t - I*omega_1*t)*conjugate(utilde_2(-k - k_2 + q_1 + q_2))*KroneckerDelta(k_1, q_1)*KroneckerDelta(k_2, q_2) + g*psi^ss_1*psi^ss_2*exp(I*omega*t - I*omega_1*t)*conjugate(utilde_2(-k - k_2 + q_1 + q_2))*KroneckerDelta(k_1, q_2)*KroneckerDelta(k_2, q_1) + g*psi^ss_1*psi^ss_2*exp(I*omega*t - I*omega_2*t)*conjugate(utilde_1(-k - k_1 + q_1 + q_2))*KroneckerDelta(k_1, q_1)*KroneckerDelta(k_2, q_2) + g*psi^ss_1*psi^ss_2*exp(I*omega*t - I*omega_2*t)*conjugate(utilde_1(-k - k_1 + q_1 + q_2))*KroneckerDelta(k_1, q_2)*KroneckerDelta(k_2, q_1) + g*psi^ss_1*psi^ss_2*exp(-I*omega_2*t)*conjugate(psi^ss_1)*KroneckerDelta(k_1, q_1)*KroneckerDelta(k_1, -k + q_1 + q_2)*KroneckerDelta(k_2, q_2) + g*psi^ss_1*psi^ss_2*exp(-I*omega_2*t)*conjugate(psi^ss_1)*KroneckerDelta(k_1, q_2)*KroneckerDelta(k_1, -k + q_1 + q_2)*KroneckerDelta(k_2, q_1) + g*psi^ss_1*psi^ss_2*exp(-I*omega_1*t)*conjugate(psi^ss_2)*KroneckerDelta(k_1, q_1)*KroneckerDelta(k_2, q_2)*KroneckerDelta(k_2, -k + q_1 + q_2) + g*psi^ss_1*psi^ss_2*exp(-I*omega_1*t)*conjugate(psi^ss_2)*KroneckerDelta(k_1, q_2)*KroneckerDelta(k_2, q_1)*KroneckerDelta(k_2, -k + q_1 + q_2) + g*psi^ss_1*utilde_1(-k_1 + q_1)*exp(-I*omega*t - I*omega_1*t)*conjugate(psi^ss_1)*KroneckerDelta(k_1, q_2)*KroneckerDelta(k_1, -k + q_1 + q_2) + g*psi^ss_1*utilde_1(-k_1 + q_1)*exp(-I*omega*t - 2*I*omega_1*t + I*omega_2*t)*conjugate(psi^ss_2)*KroneckerDelta(k_1, q_2)*KroneckerDelta(k_2, -k + q_1 + q_2) + g*psi^ss_1*utilde_1(-k_1 + q_2)*exp(-I*omega*t - I*omega_1*t)*conjugate(psi^ss_1)*KroneckerDelta(k_1, q_1)*KroneckerDelta(k_1, -k + q_1 + q_2) + g*psi^ss_1*utilde_1(-k_1 + q_2)*exp(-I*omega*t - 2*I*omega_1*t + I*omega_2*t)*conjugate(psi^ss_2)*KroneckerDelta(k_1, q_1)*KroneckerDelta(k_2, -k + q_1 + q_2) + g*psi^ss_1*utilde_2(-k_2 + q_1)*exp(-I*omega*t - I*omega_1*t)*conjugate(psi^ss_2)*KroneckerDelta(k_1, q_2)*KroneckerDelta(k_2, -k + q_1 + q_2) + g*psi^ss_1*utilde_2(-k_2 + q_1)*exp(-I*omega*t - I*omega_2*t)*conjugate(psi^ss_1)*KroneckerDelta(k_1, q_2)*KroneckerDelta(k_1, -k + q_1 + q_2) + g*psi^ss_1*utilde_2(-k_2 + q_2)*exp(-I*omega*t - I*omega_1*t)*conjugate(psi^ss_2)*KroneckerDelta(k_1, q_1)*KroneckerDelta(k_2, -k + q_1 + q_2) + g*psi^ss_1*utilde_2(-k_2 + q_2)*exp(-I*omega*t - I*omega_2*t)*conjugate(psi^ss_1)*KroneckerDelta(k_1, q_1)*KroneckerDelta(k_1, -k + q_1 + q_2) + g*psi^ss_1*exp(I*omega*t - I*omega_1*t)*conjugate(psi^ss_1)*conjugate(vtilde_1(k_1 - q_1))*KroneckerDelta(k_1, q_2)*KroneckerDelta(k_1, -k + q_1 + q_2) + g*psi^ss_1*exp(I*omega*t - I*omega_1*t)*conjugate(psi^ss_1)*conjugate(vtilde_1(k_1 - q_2))*KroneckerDelta(k_1, q_1)*KroneckerDelta(k_1, -k + q_1 + q_2) + g*psi^ss_1*exp(I*omega*t - I*omega_1*t)*conjugate(psi^ss_2)*conjugate(vtilde_2(k_2 - q_1))*KroneckerDelta(k_1, q_2)*KroneckerDelta(k_2, -k + q_1 + q_2) + g*psi^ss_1*exp(I*omega*t - I*omega_1*t)*conjugate(psi^ss_2)*conjugate(vtilde_2(k_2 - q_2))*KroneckerDelta(k_1, q_1)*KroneckerDelta(k_2, -k + q_1 + q_2) + g*psi^ss_1*exp(I*omega*t - I*omega_2*t)*conjugate(psi^ss_1)*conjugate(vtilde_2(k_2 - q_1))*KroneckerDelta(k_1, q_2)*KroneckerDelta(k_1, -k + q_1 + q_2) + g*psi^ss_1*exp(I*omega*t - I*omega_2*t)*conjugate(psi^ss_1)*conjugate(vtilde_2(k_2 - q_2))*KroneckerDelta(k_1, q_1)*KroneckerDelta(k_1, -k + q_1 + q_2) + g*psi^ss_1*exp(I*omega*t - 2*I*omega_1*t + I*omega_2*t)*conjugate(psi^ss_2)*conjugate(vtilde_1(k_1 - q_1))*KroneckerDelta(k_1, q_2)*KroneckerDelta(k_2, -k + q_1 + q_2) + g*psi^ss_1*exp(I*omega*t - 2*I*omega_1*t + I*omega_2*t)*conjugate(psi^ss_2)*conjugate(vtilde_1(k_1 - q_2))*KroneckerDelta(k_1, q_1)*KroneckerDelta(k_2, -k + q_1 + q_2) + g*psi^ss_2**2*vtilde_1(k + k_1 - q_1 - q_2)*exp(-I*omega*t + I*omega_1*t - 2*I*omega_2*t)*KroneckerDelta(k_2, q_1)*KroneckerDelta(k_2, q_2) + g*psi^ss_2**2*vtilde_2(k + k_2 - q_1 - q_2)*exp(-I*omega*t - I*omega_2*t)*KroneckerDelta(k_2, q_1)*KroneckerDelta(k_2, q_2) + g*psi^ss_2**2*exp(I*omega_1*t)*exp(-2*I*omega_2*t)*conjugate(psi^ss_1)*KroneckerDelta(k_1, -k + q_1 + q_2)*KroneckerDelta(k_2, q_1)*KroneckerDelta(k_2, q_2) + g*psi^ss_2**2*exp(I*omega*t - I*omega_2*t)*conjugate(utilde_2(-k - k_2 + q_1 + q_2))*KroneckerDelta(k_2, q_1)*KroneckerDelta(k_2, q_2) + g*psi^ss_2**2*exp(I*omega*t + I*omega_1*t - 2*I*omega_2*t)*conjugate(utilde_1(-k - k_1 + q_1 + q_2))*KroneckerDelta(k_2, q_1)*KroneckerDelta(k_2, q_2) + g*psi^ss_2**2*exp(-I*omega_2*t)*conjugate(psi^ss_2)*KroneckerDelta(k_2, q_1)*KroneckerDelta(k_2, q_2)*KroneckerDelta(k_2, -k + q_1 + q_2) + g*psi^ss_2*utilde_1(-k_1 + q_1)*exp(-I*omega*t - I*omega_1*t)*conjugate(psi^ss_2)*KroneckerDelta(k_2, q_2)*KroneckerDelta(k_2, -k + q_1 + q_2) + g*psi^ss_2*utilde_1(-k_1 + q_1)*exp(-I*omega*t - I*omega_2*t)*conjugate(psi^ss_1)*KroneckerDelta(k_1, -k + q_1 + q_2)*KroneckerDelta(k_2, q_2) + g*psi^ss_2*utilde_1(-k_1 + q_2)*exp(-I*omega*t - I*omega_1*t)*conjugate(psi^ss_2)*KroneckerDelta(k_2, q_1)*KroneckerDelta(k_2, -k + q_1 + q_2) + g*psi^ss_2*utilde_1(-k_1 + q_2)*exp(-I*omega*t - I*omega_2*t)*conjugate(psi^ss_1)*KroneckerDelta(k_1, -k + q_1 + q_2)*KroneckerDelta(k_2, q_1) + g*psi^ss_2*utilde_2(-k_2 + q_1)*exp(-I*omega*t - I*omega_2*t)*conjugate(psi^ss_2)*KroneckerDelta(k_2, q_2)*KroneckerDelta(k_2, -k + q_1 + q_2) + g*psi^ss_2*utilde_2(-k_2 + q_1)*exp(-I*omega*t + I*omega_1*t - 2*I*omega_2*t)*conjugate(psi^ss_1)*KroneckerDelta(k_1, -k + q_1 + q_2)*KroneckerDelta(k_2, q_2) + g*psi^ss_2*utilde_2(-k_2 + q_2)*exp(-I*omega*t - I*omega_2*t)*conjugate(psi^ss_2)*KroneckerDelta(k_2, q_1)*KroneckerDelta(k_2, -k + q_1 + q_2) + g*psi^ss_2*utilde_2(-k_2 + q_2)*exp(-I*omega*t + I*omega_1*t - 2*I*omega_2*t)*conjugate(psi^ss_1)*KroneckerDelta(k_1, -k + q_1 + q_2)*KroneckerDelta(k_2, q_1) + g*psi^ss_2*exp(I*omega*t - I*omega_1*t)*conjugate(psi^ss_2)*conjugate(vtilde_1(k_1 - q_1))*KroneckerDelta(k_2, q_2)*KroneckerDelta(k_2, -k + q_1 + q_2) + g*psi^ss_2*exp(I*omega*t - I*omega_1*t)*conjugate(psi^ss_2)*conjugate(vtilde_1(k_1 - q_2))*KroneckerDelta(k_2, q_1)*KroneckerDelta(k_2, -k + q_1 + q_2) + g*psi^ss_2*exp(I*omega*t - I*omega_2*t)*conjugate(psi^ss_1)*conjugate(vtilde_1(k_1 - q_1))*KroneckerDelta(k_1, -k + q_1 + q_2)*KroneckerDelta(k_2, q_2) + g*psi^ss_2*exp(I*omega*t - I*omega_2*t)*conjugate(psi^ss_1)*conjugate(vtilde_1(k_1 - q_2))*KroneckerDelta(k_1, -k + q_1 + q_2)*KroneckerDelta(k_2, q_1) + g*psi^ss_2*exp(I*omega*t - I*omega_2*t)*conjugate(psi^ss_2)*conjugate(vtilde_2(k_2 - q_1))*KroneckerDelta(k_2, q_2)*KroneckerDelta(k_2, -k + q_1 + q_2) + g*psi^ss_2*exp(I*omega*t - I*omega_2*t)*conjugate(psi^ss_2)*conjugate(vtilde_2(k_2 - q_2))*KroneckerDelta(k_2, q_1)*KroneckerDelta(k_2, -k + q_1 + q_2) + g*psi^ss_2*exp(I*omega*t + I*omega_1*t - 2*I*omega_2*t)*conjugate(psi^ss_1)*conjugate(vtilde_2(k_2 - q_1))*KroneckerDelta(k_1, -k + q_1 + q_2)*KroneckerDelta(k_2, q_2) + g*psi^ss_2*exp(I*omega*t + I*omega_1*t - 2*I*omega_2*t)*conjugate(psi^ss_1)*conjugate(vtilde_2(k_2 - q_2))*KroneckerDelta(k_1, -k + q_1 + q_2)*KroneckerDelta(k_2, q_1)"
       ]
      }
     ],
     "prompt_number": 14
    }
   ],
   "metadata": {}
  }
 ]
}