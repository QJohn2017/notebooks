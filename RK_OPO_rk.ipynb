{
 "metadata": {
  "name": "",
  "signature": "sha256:70644e2369f2d7ed7f161c4be9c90d42216d1c46ef7c013ee7492f99550441ff"
 },
 "nbformat": 3,
 "nbformat_minor": 0,
 "worksheets": [
  {
   "cells": [
    {
     "cell_type": "code",
     "collapsed": false,
     "input": [
      "from __future__ import division\n",
      "import numpy as np\n",
      "import matplotlib.pyplot as plt\n",
      "import matplotlib.cm as cm\n",
      "import ConfigParser\n",
      "import pyrk_adaptive"
     ],
     "language": "python",
     "metadata": {},
     "outputs": [],
     "prompt_number": 1
    },
    {
     "cell_type": "code",
     "collapsed": false,
     "input": [
      "def read_input(filename):\n",
      "    param = ConfigParser.RawConfigParser()\n",
      "    try:\n",
      "        param.readfp(open(filename))\n",
      "    except IOError:\n",
      "        raise IOError('cannot find {0:s}, exiting'.format(filename))\n",
      "\n",
      "    kappa_C   = param.getfloat(\"params\", \"kappa_C\")\n",
      "    kappa_X   = param.getfloat(\"params\", \"kappa_X\")\n",
      "    delta     = param.getfloat(\"params\", \"delta\")\n",
      "    k_p       = param.getfloat(\"params\", \"k_p\")\n",
      "    omega_p   = param.getfloat(\"params\", \"omega_p\")\n",
      "    sigma_p   = param.getfloat(\"params\", \"sigma_p\")\n",
      "    f_p       = param.getfloat(\"params\", \"f_p\")\n",
      "    Lx        = param.getfloat(\"params\", \"Lx\")\n",
      "    Ly        = param.getfloat(\"params\", \"Ly\")\n",
      "    Nx        = param.getfloat(\"params\", \"Nx\")\n",
      "    Ny        = param.getfloat(\"params\", \"Ny\")\n",
      "    Nt        = param.getfloat(\"params\", \"Nt\")\n",
      "    tot_h     = param.getfloat(\"params\", \"tot_h\")\n",
      "    dxsav_rk  = param.getfloat(\"params\", \"dxsav_rk\")\n",
      "    eps_r     = param.getfloat(\"params\", \"eps_r\")\n",
      "    def_x_pos = param.getfloat(\"params\", \"def_x_pos\")\n",
      "    def_y_pos = param.getfloat(\"params\", \"def_y_pos\")\n",
      "    gv        = param.getfloat(\"params\", \"gv\")\n",
      "\n",
      "    norm_c = np.sqrt(Nx*Ny)/256/np.sqrt(Lx*Ly)*70\n",
      "    f_p = f_p / norm_c\n",
      "\n",
      "    return (kappa_C, kappa_X, delta, k_p, omega_p,\n",
      "            sigma_p, f_p, Lx, Ly, Nx, Ny, Nt,\n",
      "            tot_h, dxsav_rk, eps_r, def_x_pos, def_y_pos, gv)"
     ],
     "language": "python",
     "metadata": {},
     "outputs": [],
     "prompt_number": 2
    },
    {
     "cell_type": "code",
     "collapsed": false,
     "input": [
      "def find_index(dist_or_mom, side, delta):\n",
      "    return int(np.around((side + dist_or_mom) / delta))"
     ],
     "language": "python",
     "metadata": {},
     "outputs": [],
     "prompt_number": 3
    },
    {
     "cell_type": "code",
     "collapsed": false,
     "input": [
      "def init_pot_c(strength, defypos, defxpos, ly, lx, ny, nx, ay, ax):\n",
      "    iy = find_index(defypos, ly, ay)\n",
      "    ix = find_index(defxpos, lx, ax)\n",
      "    potential = np.zeros((ny, nx), dtype=np.float64)\n",
      "    potential[iy, ix] = strength\n",
      "    return potential"
     ],
     "language": "python",
     "metadata": {},
     "outputs": [],
     "prompt_number": 4
    },
    {
     "cell_type": "code",
     "collapsed": false,
     "input": [
      "def init_pump_th(fp, sigmap, kp, Y, X):\n",
      "    #top hat pump\n",
      "    r = np.sqrt(X**2 + Y**2)\n",
      "    return 0.5 * fp * \\\n",
      "        (np.tanh(1 / 10 * (r + sigmap)) - np.tanh(1 / 10 * (r - sigmap)))\\\n",
      "        * np.exp(1j * kp * X)"
     ],
     "language": "python",
     "metadata": {},
     "outputs": [],
     "prompt_number": 5
    },
    {
     "cell_type": "code",
     "collapsed": false,
     "input": [
      "kappa_C, kappa_X, delta, k_p, omega_p,\\\n",
      "sigma_p, f_p, Lx, Ly, Nx, Ny, Nt,\\\n",
      "tot_h, dxsav_rk, eps_r, def_x_pos, def_y_pos, gv = read_input('INPUT.ini')"
     ],
     "language": "python",
     "metadata": {},
     "outputs": [],
     "prompt_number": 6
    },
    {
     "cell_type": "code",
     "collapsed": false,
     "input": [
      "y, a_y = np.linspace(-Ly, Ly, num=Ny, endpoint=False, retstep=True)\n",
      "x, a_x = np.linspace(-Lx, Lx, num=Nx, endpoint=False, retstep=True)\n",
      "#norm = a_x * a_y\n",
      "X, Y = np.meshgrid(x, y)"
     ],
     "language": "python",
     "metadata": {},
     "outputs": [],
     "prompt_number": 7
    },
    {
     "cell_type": "code",
     "collapsed": false,
     "input": [
      "side_ky = np.pi / a_y\n",
      "side_kx = np.pi / a_x\n",
      "ky, delta_ky = np.linspace(-(2 * (Ny - 1) / float(Ny) - 1) * side_ky, side_ky, num=Ny, retstep=True)\n",
      "kx, delta_kx = np.linspace(-(2 * (Nx - 1) / float(Nx) - 1) * side_kx, side_kx, num=Nx, retstep=True)\n",
      "KX, KY = np.meshgrid(kx, ky)"
     ],
     "language": "python",
     "metadata": {},
     "outputs": [],
     "prompt_number": 8
    },
    {
     "cell_type": "code",
     "collapsed": false,
     "input": [
      "pot_c = init_pot_c(gv, def_y_pos, def_x_pos, Ly, Lx, Ny, Nx, a_y, a_x)\n",
      "pdb = np.zeros((Ny, Nx, 2), dtype=np.complex128)"
     ],
     "language": "python",
     "metadata": {},
     "outputs": [],
     "prompt_number": 9
    },
    {
     "cell_type": "code",
     "collapsed": false,
     "input": [
      "pump_spatial = init_pump_th(f_p, sigma_p, k_p, Y, X)"
     ],
     "language": "python",
     "metadata": {},
     "outputs": [],
     "prompt_number": 10
    },
    {
     "cell_type": "code",
     "collapsed": false,
     "input": [
      "kinetic = pyrk_adaptive.py_setg(Nx, Ny, Lx, Ly)\n",
      "#call setg(Nx, Ny, Lx, Ly, kinetic)"
     ],
     "language": "python",
     "metadata": {},
     "outputs": [],
     "prompt_number": 11
    },
    {
     "cell_type": "code",
     "collapsed": false,
     "input": [
      "x1_r=0\n",
      "x2_r=tot_h\n",
      "h1_r=0.001\n",
      "hmin_r=0"
     ],
     "language": "python",
     "metadata": {},
     "outputs": [],
     "prompt_number": 12
    },
    {
     "cell_type": "code",
     "collapsed": false,
     "input": [
      "#odeint_rk(pdb,x1_r,x2_r,eps_r,h1_r,hmin_r)"
     ],
     "language": "python",
     "metadata": {},
     "outputs": [],
     "prompt_number": 13
    },
    {
     "cell_type": "code",
     "collapsed": false,
     "input": [
      "plt.pcolor(kinetic)"
     ],
     "language": "python",
     "metadata": {},
     "outputs": [
      {
       "metadata": {},
       "output_type": "pyout",
       "prompt_number": 14,
       "text": [
        "<matplotlib.collections.PolyCollection at 0x7f3975458fd0>"
       ]
      },
      {
       "metadata": {},
       "output_type": "display_data",
       "png": "[encoded data removed]",
       "text": [
        "<matplotlib.figure.Figure at 0x7f3975f33150>"
       ]
      }
     ],
     "prompt_number": 14
    },
    {
     "cell_type": "code",
     "collapsed": false,
     "input": [],
     "language": "python",
     "metadata": {},
     "outputs": [],
     "prompt_number": 14
    }
   ],
   "metadata": {}
  }
 ]
}