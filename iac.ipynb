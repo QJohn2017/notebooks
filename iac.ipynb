{
 "metadata": {
  "name": "",
  "signature": "sha256:bedc91caded6a0e67f4234bdabb56fa7816468f299fb31117627091c05b9df0d"
 },
 "nbformat": 3,
 "nbformat_minor": 0,
 "worksheets": [
  {
   "cells": [
    {
     "cell_type": "markdown",
     "metadata": {},
     "source": [
      "http://arxiv.org/abs/cond-mat/0502585v1"
     ]
    },
    {
     "cell_type": "markdown",
     "metadata": {},
     "source": [
      "$$\\tilde{{\\mathcal L}}({\\bf k},k_p) = \\left(\n",
      "\\begin{array}{cccc}\n",
      "\\omega_X+2g\\,|\\psi_X^{ss}|^2  -\\frac{i\\gamma_X}{2} &\n",
      "\\Omega_R & g\\,\\psi^{ss\\,2}_X\\, & 0 \\\\\n",
      "\\Omega_R & \\omega_C({\\bf k})- \\frac{i\\gamma_C}{2} & 0 & 0 \\\\\n",
      "-g\\,\\psi^{ss\\,*\\,2}_{X}\\, & 0 &\n",
      " 2 \\omega_p -\\big(\\omega_X+2g\\,|\\psi_X^{ss}|^2\\big) -\\frac{i\\gamma_X}{2} &\n",
      "-\\Omega_R \\\\\n",
      "0 & 0 & -\\Omega_R & 2 \\omega_p -\\omega_C(2 k_p - {\\bf k})\n",
      "-\\frac{i\\gamma_C}{2}\n",
      "\\end{array}\n",
      "\\right)$$"
     ]
    },
    {
     "cell_type": "markdown",
     "metadata": {},
     "source": [
      "$$\\left (\n",
      "\\begin{array}{c}\n",
      "\\delta \\tilde{\\phi}_X({\\bf k}) \\\\\n",
      "\\delta \\tilde{\\phi}_C({\\bf k})  \\\\\n",
      "\\delta \\tilde{\\phi}^{*}_X(2 k_p - k) \\\\\n",
      "\\delta \\tilde{\\phi}^{*}_C(2 k_p - k)\n",
      "\\end{array}\n",
      "\\right ) = - (\\tilde{{\\mathcal L}}({\\bf k},k_p) - \\hbar\n",
      "\\omega_p)^{-1} \\cdot \\left (\n",
      "\\begin{array}{c}\n",
      "\\tilde{V}_X(k)\\,\\phi_X^{ss}\\ \\\\\n",
      "\\tilde{V}_C(k)\\,\\phi_C^{ss}\\  \\\\\n",
      "- \\tilde{V}_X(k - 2k_p)\\,\\phi_X^{ss\\,*}\\ \\\\\n",
      "- \\tilde{V}_X(k- 2 k_p)\\,\\phi_C^{ss\\,*}\\\n",
      "\\end{array}\n",
      "\\right )$$"
     ]
    },
    {
     "cell_type": "markdown",
     "metadata": {},
     "source": [
      "$$I_{RRS}(k) \\propto |\\delta \\tilde{\\phi}_C({k})|^2$$"
     ]
    },
    {
     "cell_type": "markdown",
     "metadata": {},
     "source": [
      "$$\\phi(k)=\\phi_0(k)+\\delta\\phi(k)$$"
     ]
    },
    {
     "cell_type": "markdown",
     "metadata": {},
     "source": [
      "$$\\phi_{0}(k)=\\phi_{C}^{ss}\\delta(k-k_{p})e^{-i\\omega_{p}t}$$"
     ]
    },
    {
     "cell_type": "markdown",
     "metadata": {},
     "source": [
      "$$\\delta\\phi(k)\\rightarrow\\widetilde{u}_{p}(k-k_{p})+\\widetilde{v}_{p}^{*}(k_{p}-k)$$"
     ]
    },
    {
     "cell_type": "markdown",
     "metadata": {},
     "source": [
      "$$\\delta\\phi(k+k_{p})\\rightarrow\\widetilde{u}_{p}(k)+\\widetilde{v}_{p}^{*}(-k)$$"
     ]
    },
    {
     "cell_type": "markdown",
     "metadata": {},
     "source": [
      "$$\\widetilde{\\psi}(k) = e^{-i\\omega_p t} \\left[\\psi^{\\text{ss}}_p\\delta(k-k_p) + \n",
      "\\widetilde{u}_p(k-k_p) e^{-i \\omega t} + \\widetilde{v}^*_p(k_p-k) e^{i \\omega \n",
      "t}\\right]$$"
     ]
    },
    {
     "cell_type": "markdown",
     "metadata": {},
     "source": [
      "$$\\frac{I_C(x)}{I_C^{hom}} =  \\frac{|\\phi^{ss}_{C} e^{i k_p x}\n",
      "+ \\delta \\phi_C(x)|^2}{|\\phi^{ss}_{C}|^2}$$"
     ]
    },
    {
     "cell_type": "markdown",
     "metadata": {},
     "source": [
      "**LP basis**"
     ]
    },
    {
     "cell_type": "markdown",
     "metadata": {},
     "source": [
      "$$M(k)=\\epsilon(k_{p}+k)-\\omega_{p}+2n_{p}\\left|X(k_{p}+k)\\right|^{2}-\\frac{i}{2}\\gamma(k_{p}+k)$$\n",
      "$$Q(k)=n_{p}X^{*}(k_{p}+k)X^{*}(k_{p}-k)$$\n",
      "$$R(k) = \\frac{C(k_p)}{X(k_p)}C(k+k_p)$$"
     ]
    },
    {
     "cell_type": "markdown",
     "metadata": {},
     "source": [
      "$$\\tilde{\\mathcal{L}}({\\bf k},k_{p})=\\left[\\begin{matrix}M\\left(k\\right) & Q\\left(k\\right)e^{2i\\phi_{p}}\\\\\n",
      "-Q^{*}\\left(-k\\right)e^{-2i\\phi_{p}} & -M^{*}\\left(-k\\right)\n",
      "\\end{matrix}\\right]$$"
     ]
    },
    {
     "cell_type": "markdown",
     "metadata": {},
     "source": [
      "$$\\left[\\begin{matrix}u_{p}\\left(k\\right)\\\\\n",
      "v_{p}\\left(k\\right)\n",
      "\\end{matrix}\\right]=-\\tilde{\\mathcal{L}}^{-1}({\\bf k},k_{p})\\sqrt{n_{p}}\\left[\\begin{matrix}R\\left(k\\right)V_{d}\\left(k\\right)e^{i\\phi_{p}}\\\\\n",
      "-R^{*}\\left(-k\\right)V_{d}^{*}\\left(-k\\right)e^{-i\\phi_{p}}\n",
      "\\end{matrix}\\right]$$"
     ]
    },
    {
     "cell_type": "markdown",
     "metadata": {},
     "source": [
      "$$\\widetilde{\\psi}(k) = e^{-i\\omega_p t} \\left[\\psi^{\\text{ss}}_p\\delta(k-k_p) + \n",
      "\\widetilde{u}_p(k-k_p) e^{-i \\omega t} + \\widetilde{v}^*_p(k_p-k) e^{i \\omega \n",
      "t}\\right]$$"
     ]
    },
    {
     "cell_type": "markdown",
     "metadata": {},
     "source": [
      "$$\\widetilde{\\psi}(k+k_{p})=e^{-i\\omega_{p}t}\\frac{1}{\\sqrt{g}}\\left[\\frac{\\sqrt{n_{p}}e^{i\\phi_{p}}}{X_{p}}\\delta(k)+u_{p}(k)e^{-i\\omega t}+v_{p}^{*}(-k)e^{i\\omega t}\\right]$$"
     ]
    },
    {
     "cell_type": "markdown",
     "metadata": {},
     "source": [
      "$$\\psi(r)=\\sum_{k}\\widetilde{\\psi}(k)e^{ikr}=e^{ik_{p}r}\\sum_{k}\\widetilde{\\psi}(k+k_{p})e^{ikr}$$"
     ]
    },
    {
     "cell_type": "markdown",
     "metadata": {},
     "source": [
      "$$I(r)=\\frac{\\vert\\psi(r)\\vert^{2}}{\\vert\\psi_p^{\\text{ss}}\\vert^{2}}=\\left|X_{p}\\right|^{2}\\left|\\sum_{k}\\left[\\frac{\\delta(k)}{X_{p}}+\\frac{Q\\left(k\\right)R^{*}\\left(-k\\right)V_{d}^{*}\\left(-k\\right)-M^{*}\\left(-k\\right)R\\left(k\\right)V_{d}\\left(k\\right)}{M\\left(k\\right)M^{*}\\left(-k\\right)-Q\\left(k\\right)Q^{*}\\left(-k\\right)}\\right]e^{ikr}\\right|^{2}$$"
     ]
    },
    {
     "cell_type": "markdown",
     "metadata": {},
     "source": [
      "$$\\widetilde{\\psi}(k+k_{p})=g_{V}\\frac{\\epsilon(k)-kv_{p}+i\\kappa}{\\omega^{-}(k)\\omega^{+}(k)}$$"
     ]
    },
    {
     "cell_type": "markdown",
     "metadata": {},
     "source": []
    }
   ],
   "metadata": {}
  }
 ]
}