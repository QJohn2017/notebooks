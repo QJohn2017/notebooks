{
 "metadata": {
  "name": "",
  "signature": "sha256:cedae85fc95a60e7de517c0a1c1a9816de11a08ec0333a2126f2387abd4777f7"
 },
 "nbformat": 3,
 "nbformat_minor": 0,
 "worksheets": [
  {
   "cells": [
    {
     "cell_type": "code",
     "collapsed": false,
     "input": [
      "import numpy as np\n",
      "\n",
      "import matplotlib.pyplot as plt\n",
      "from mpl_toolkits.mplot3d import Axes3D\n",
      "import matplotlib.cm as cm\n",
      "\n",
      "from scipy import optimize\n",
      "\n",
      "from phcpy.phcpy2c import py2c_set_seed\n",
      "from phcpy.solver import solve\n",
      "from phcpy.solutions import strsol2dict"
     ],
     "language": "python",
     "metadata": {},
     "outputs": [
      {
       "output_type": "stream",
       "stream": "stdout",
       "text": [
        "PHCv2.3.86 released 2013-12-20 works!\n"
       ]
      }
     ],
     "prompt_number": 1
    },
    {
     "cell_type": "code",
     "collapsed": false,
     "input": [
      "# System parameters\n",
      "omega_X = omega_C0 = 1.4\n",
      "kz = 20.0\n",
      "Omega_R = 2.5*10**(-3)\n",
      "gamma_X = 0.12*10**(-3)\n",
      "gamma_C = 0.12*10**(-3)\n",
      "k_pmpx = 1.6\n",
      "k_pmpy = 0.0\n",
      "k_sigx = 0.0\n",
      "k_sigy = 0.0\n",
      "k_idlx = 2 * k_pmpx - k_sigx\n",
      "k_idly = 2 * k_pmpy - k_sigy\n",
      "omega_pmp = 1.39875\n",
      "ip_chosen = 6.5\n",
      "gv = 0.5"
     ],
     "language": "python",
     "metadata": {},
     "outputs": [],
     "prompt_number": 2
    },
    {
     "cell_type": "code",
     "collapsed": false,
     "input": [
      "gp = gamma_C + (1 / np.sqrt(1 + (Omega_R / ((0.5 * ((omega_C0 * np.sqrt(1 + (np.sqrt(k_pmpx**2 + k_pmpy**2) / kz)**2)) + omega_X) - 0.5 * np.sqrt(((omega_C0 * np.sqrt(1 + (np.sqrt(k_pmpx**2 + k_pmpy**2) / kz)**2)) - omega_X)**2 + 4*Omega_R**2)) - (omega_C0 * np.sqrt(1 + (np.sqrt(k_pmpx**2 + k_pmpy**2) / kz)**2))))**2))**2 * (gamma_X - gamma_C)\n",
      "omega_p_chosen = (omega_pmp - omega_X)/gp"
     ],
     "language": "python",
     "metadata": {},
     "outputs": [],
     "prompt_number": 3
    },
    {
     "cell_type": "code",
     "collapsed": false,
     "input": [
      "# Computational parameters\n",
      "\n",
      "# nkx -> number of columns\n",
      "# nky -> number of rows\n",
      "# M[row,col]\n",
      "\n",
      "nkx = nky = nk = 512\n",
      "delta_k = 0.05\n",
      "\n",
      "side_k = nk * delta_k / 2\n",
      "side_r = np.pi / delta_k\n",
      "delta_r = np.pi / side_k\n",
      "\n",
      "x = y = np.arange(-side_r, side_r, delta_r)\n",
      "kx = ky = np.arange(-side_k, side_k, delta_k)\n",
      "\n",
      "KX, KY = np.meshgrid(kx, ky)\n",
      "X, Y = np.meshgrid(x, y)\n",
      "\n",
      "ipx = np.linspace(0, 15, 30)"
     ],
     "language": "python",
     "metadata": {},
     "outputs": [],
     "prompt_number": 4
    },
    {
     "cell_type": "code",
     "collapsed": false,
     "input": [
      "# Update the matplotlib configuration parameters:\n",
      "# matplotlib.rcParams.update({'font.size': 16, 'font.family': 'serif'})"
     ],
     "language": "python",
     "metadata": {},
     "outputs": [],
     "prompt_number": 5
    },
    {
     "cell_type": "code",
     "collapsed": false,
     "input": [
      "#various plotting parameters\n",
      "x_label_k = r'$k_x[\\mu m^{-1}]$'\n",
      "y_label_k = r'$k_y[\\mu m^{-1}]$'\n",
      "x_label_i = r'$x[\\mu m]$'\n",
      "y_label_i = r'$y[\\mu m]$'\n",
      "\n",
      "letter_spi = ['s', 'p', 'i']\n",
      "title_k = []\n",
      "for idx in range(3):\n",
      "    title_k.append( r'$g \\left|\\tilde{\\Psi}_{LP}^{' + letter_spi[idx] + r'}\\left(k+k_{' + letter_spi[idx] + \\\n",
      "                     r'}\\right)\\right|^{2} [\\gamma_p \\mu m^4]$' )\n",
      "title_i = []\n",
      "for idx in range(3):\n",
      "    title_i.append( r'$I^' + letter_spi[idx] + r'$' )\n",
      "\n",
      "color_spi = ['blue','red','green']\n",
      "\n",
      "momentum_spi = np.array( [[k_sigx, k_sigy],\n",
      "                          [k_pmpx, k_pmpy],\n",
      "                          [k_idlx, k_idly]] )"
     ],
     "language": "python",
     "metadata": {},
     "outputs": [],
     "prompt_number": 6
    },
    {
     "cell_type": "code",
     "collapsed": false,
     "input": [
      "def null(A, eps=1e-10):\n",
      "    u, s, vh = np.linalg.svd(A)\n",
      "    null_space = np.compress(s <= eps, vh, axis=0)\n",
      "    return null_space.T"
     ],
     "language": "python",
     "metadata": {},
     "outputs": [],
     "prompt_number": 7
    },
    {
     "cell_type": "code",
     "collapsed": false,
     "input": [
      "def index_mom(mom):\n",
      "    return int( np.floor( (mom + side_k) / delta_k ) )"
     ],
     "language": "python",
     "metadata": {},
     "outputs": [],
     "prompt_number": 8
    },
    {
     "cell_type": "code",
     "collapsed": false,
     "input": [
      "def enC(kx,ky):\n",
      "    return ( omega_C0 * np.sqrt(1 + (np.sqrt(kx**2 + ky**2) / kz)**2) - omega_X ) / gp"
     ],
     "language": "python",
     "metadata": {},
     "outputs": [],
     "prompt_number": 9
    },
    {
     "cell_type": "code",
     "collapsed": false,
     "input": [
      "def enLP(kx,ky):\n",
      "    return 0.5 * enC(kx,ky) - 0.5 * np.sqrt(enC(kx,ky)**2 + 4*Omega_R**2/gp**2)"
     ],
     "language": "python",
     "metadata": {},
     "outputs": [],
     "prompt_number": 10
    },
    {
     "cell_type": "code",
     "collapsed": false,
     "input": [
      "def hopf_x(kx,ky):\n",
      "    return 1 / np.sqrt(1 + ( (Omega_R/gp) / (enLP(kx,ky) - enC(kx,ky)))**2)"
     ],
     "language": "python",
     "metadata": {},
     "outputs": [],
     "prompt_number": 11
    },
    {
     "cell_type": "code",
     "collapsed": false,
     "input": [
      "def blue_enLP(kx,ky):\n",
      "    return enLP(kx,ky) + 2*hopf_x(kx,ky)**2*(ni_chosen + np_chosen + ns_chosen)"
     ],
     "language": "python",
     "metadata": {},
     "outputs": [],
     "prompt_number": 12
    },
    {
     "cell_type": "code",
     "collapsed": false,
     "input": [
      "def hopf_c(kx,ky):\n",
      "    return -1 / np.sqrt(1 + ((enLP(kx,ky) - enC(kx,ky)) / (Omega_R/gp) )**2)"
     ],
     "language": "python",
     "metadata": {},
     "outputs": [],
     "prompt_number": 13
    },
    {
     "cell_type": "code",
     "collapsed": false,
     "input": [
      "def gamma(kx,ky):\n",
      "    return ( gamma_C + hopf_x(kx,ky)**2 * (gamma_X - gamma_C) ) / gp"
     ],
     "language": "python",
     "metadata": {},
     "outputs": [],
     "prompt_number": 14
    },
    {
     "cell_type": "code",
     "collapsed": false,
     "input": [
      "def gammaXC(kx,gX,gC):\n",
      "    return ( gC + hopf_x(kx,0)**2 * (gX - gC) ) / (gp*10**3)"
     ],
     "language": "python",
     "metadata": {},
     "outputs": [],
     "prompt_number": 15
    },
    {
     "cell_type": "code",
     "collapsed": false,
     "input": [
      "#some more parameters\n",
      "#k plotting interval\n",
      "kl, kr = -8, 8\n",
      "#kl, kr = -4, 4\n",
      "kxl, kxr = index_mom(kl), index_mom(kr)\n",
      "\n",
      "es = enLP(k_sigx,k_sigy) \n",
      "ep = enLP(k_pmpx,k_pmpy) \n",
      "ei = enLP(k_idlx,k_idly)\n",
      "\n",
      "gs = gamma(k_sigx,k_sigy)\n",
      "gi = gamma(k_idlx,k_idly)\n",
      "\n",
      "xs = hopf_x(k_sigx,k_sigy)\n",
      "xp = hopf_x(k_pmpx,k_pmpy)\n",
      "xi = hopf_x(k_idlx,k_idly)\n",
      "\n",
      "cs = hopf_c(k_sigx, k_sigy)\n",
      "cp = hopf_c(k_pmpx, k_pmpy)\n",
      "ci = hopf_c(k_idlx, k_idly)\n",
      "\n",
      "alpha = (xi**2/xs**2)*(gs/gi)"
     ],
     "language": "python",
     "metadata": {},
     "outputs": [],
     "prompt_number": 16
    },
    {
     "cell_type": "code",
     "collapsed": false,
     "input": [
      "print k_idlx, k_idly, gi"
     ],
     "language": "python",
     "metadata": {},
     "outputs": [
      {
       "output_type": "stream",
       "stream": "stdout",
       "text": [
        "3.2 0.0 1.0\n"
       ]
      }
     ],
     "prompt_number": 17
    },
    {
     "cell_type": "code",
     "collapsed": false,
     "input": [
      "def n_hom_mf(ips):\n",
      "    return np.array([optimize.brentq(lambda n: ((ep-omega_p_chosen+xp**2*n)**2+1/4)*n - xp**4 * ip, 0,3) for ip in ips])"
     ],
     "language": "python",
     "metadata": {},
     "outputs": [],
     "prompt_number": 18
    },
    {
     "cell_type": "code",
     "collapsed": false,
     "input": [
      "def L(kx,ky):\n",
      "    return np.array( [ [-omega_s_chosen + enLP(k_sigx + kx,k_sigy + ky) - 1j*1/2*gamma(k_sigx + kx,k_sigy + ky) +  2*(ni_chosen + np_chosen + ns_chosen)*hopf_x(k_sigx + kx,k_sigy + ky)**2, 2*(p*np.conjugate(i) + s*np.conjugate(p))*hopf_x(k_pmpx + kx,k_pmpy + ky)*hopf_x(k_sigx + kx,k_sigy + ky), 2*s*np.conjugate(i)*hopf_x(k_idlx + kx,k_idly + ky)*hopf_x(k_sigx + kx,k_sigy + ky), s**2*hopf_x(k_sigx - kx,k_sigy - ky)*hopf_x(k_sigx + kx,k_sigy + ky),2*p*s*hopf_x(k_pmpx - kx,k_pmpy - ky)*hopf_x(k_sigx + kx,k_sigy + ky), (p**2 + 2*i*s)*hopf_x(k_idlx - kx,k_idly - ky)*hopf_x(k_sigx + kx,k_sigy + ky)],\\\n",
      "                       [2*(i*np.conjugate(p) + p*np.conjugate(s))*hopf_x(k_pmpx + kx,k_pmpy + ky)*hopf_x(k_sigx + kx,k_sigy + ky), -omega_p_chosen + enLP(k_pmpx + kx,k_pmpy + ky) - 1j*1/2*gamma(k_pmpx + kx,k_pmpy + ky) + 2*(ni_chosen + np_chosen + ns_chosen)*hopf_x(k_pmpx + kx,k_pmpy + ky)**2, 2*(p*np.conjugate(i) + s*np.conjugate(p))*hopf_x(k_idlx + kx,k_idly + ky)*hopf_x(k_pmpx + kx,k_pmpy + ky), 2*p*s*hopf_x(k_sigx - kx,k_sigy - ky)*hopf_x(k_pmpx + kx,k_pmpy + ky), (p**2 + 2*i*s)*hopf_x(k_pmpx - kx,k_pmpy - ky)*hopf_x(k_pmpx + kx,k_pmpy + ky), 2*i*p*hopf_x(k_idlx - kx,k_idly - ky)*hopf_x(k_pmpx + kx,k_pmpy + ky)],\\\n",
      "                       [2*i*np.conjugate(s)*hopf_x(k_idlx + kx,k_idly + ky)*hopf_x(k_sigx + kx,k_sigy + ky), 2*(i*np.conjugate(p) + p*np.conjugate(s))*hopf_x(k_idlx + kx,k_idly + ky)*hopf_x(k_pmpx + kx,k_pmpy + ky), -omega_i_chosen + enLP(k_idlx + kx,k_idly + ky) - 1j*1/2*gamma(k_idlx + kx,k_idly + ky) + 2*(ni_chosen + np_chosen + ns_chosen)*hopf_x(k_idlx + kx,k_idly + ky)**2, (p**2 + 2*i*s)*hopf_x(k_sigx - kx,k_sigy - ky)*hopf_x(k_idlx + kx,k_idly + ky), 2*i*p*hopf_x(k_pmpx - kx,k_pmpy - ky)*hopf_x(k_idlx + kx,k_idly + ky),i**2*hopf_x(k_idlx - kx,k_idly - ky)*hopf_x(k_idlx + kx,k_idly + ky)],\\\n",
      "                       [-(np.conjugate(s)**2*hopf_x(k_sigx - kx,k_sigy - ky)*hopf_x(k_sigx + kx,k_sigy + ky)), -2*np.conjugate(p)*np.conjugate(s)*hopf_x(k_sigx - kx,k_sigy - ky)*hopf_x(k_pmpx + kx,k_pmpy + ky), -((np.conjugate(p)**2 + 2*np.conjugate(i)*np.conjugate(s))*hopf_x(k_sigx - kx,k_sigy - ky)*hopf_x(k_idlx + kx,k_idly + ky)), omega_s_chosen - enLP(k_sigx - kx,k_sigy - ky) - 1j*1/2*gamma(k_sigx - kx,k_sigy - ky) - 2*(ni_chosen + np_chosen + ns_chosen)*hopf_x(k_sigx - kx,k_sigy - ky)**2, -2*(i*np.conjugate(p) + p*np.conjugate(s))*hopf_x(k_pmpx - kx,k_pmpy - ky)*hopf_x(k_sigx - kx,k_sigy - ky), -2*i*np.conjugate(s)*hopf_x(k_idlx - kx,k_idly - ky)*hopf_x(k_sigx - kx,k_sigy - ky)],\\\n",
      "                       [-2*np.conjugate(p)*np.conjugate(s)*hopf_x(k_pmpx - kx,k_pmpy - ky)*hopf_x(k_sigx + kx,k_sigy + ky), -((np.conjugate(p)**2 + 2*np.conjugate(i)*np.conjugate(s))*hopf_x(k_pmpx - kx,k_pmpy - ky)*hopf_x(k_pmpx + kx,k_pmpy + ky)), -2*np.conjugate(i)*np.conjugate(p)*hopf_x(k_pmpx - kx,k_pmpy - ky)*hopf_x(k_idlx + kx,k_idly + ky), -2*(p*np.conjugate(i) + s*np.conjugate(p))*hopf_x(k_pmpx - kx,k_pmpy - ky)*hopf_x(k_sigx - kx,k_sigy - ky), omega_p_chosen - enLP(k_pmpx - kx,k_pmpy - ky) - 1j*1/2*gamma(k_pmpx - kx,k_pmpy - ky) - 2*(ni_chosen + np_chosen + ns_chosen)*hopf_x(k_pmpx - kx,k_pmpy - ky)**2, -2*(i*np.conjugate(p) + p*np.conjugate(s))*hopf_x(k_idlx - kx,k_idly - ky)*hopf_x(k_pmpx - kx,k_pmpy - ky)],\\\n",
      "                       [-((np.conjugate(p)**2 + 2*np.conjugate(i)*np.conjugate(s))*hopf_x(k_idlx - kx,k_idly - ky)*hopf_x(k_sigx + kx,k_sigy + ky)), -2*np.conjugate(i)*np.conjugate(p)*hopf_x(k_idlx - kx,k_idly - ky)*hopf_x(k_pmpx + kx,k_pmpy + ky), -(np.conjugate(i)**2*hopf_x(k_idlx - kx,k_idly - ky)*hopf_x(k_idlx + kx,k_idly + ky)), -2*s*np.conjugate(i)*hopf_x(k_idlx - kx,k_idly - ky)*hopf_x(k_sigx - kx,k_sigy - ky), -2*(p*np.conjugate(i) + s*np.conjugate(p))*hopf_x(k_idlx - kx,k_idly - ky)*hopf_x(k_pmpx - kx,k_pmpy - ky), omega_i_chosen - enLP(k_idlx - kx,k_idly - ky) - 1j*1/2*gamma(k_idlx - kx,k_idly - ky) - 2*(ni_chosen + np_chosen + ns_chosen)*hopf_x(k_idlx - kx,k_idly - ky)**2] ])"
     ],
     "language": "python",
     "metadata": {},
     "outputs": [],
     "prompt_number": 19
    },
    {
     "cell_type": "code",
     "collapsed": false,
     "input": [
      "def L_mats(K_X,K_Y,n_kx,n_ky):\n",
      "    mats = L(K_X,K_Y) \n",
      "    new_mats = np.transpose(mats,(2,3,0,1))\n",
      "    new_mats.shape = (n_kx*n_ky,6,6)\n",
      "    return new_mats"
     ],
     "language": "python",
     "metadata": {},
     "outputs": [],
     "prompt_number": 20
    },
    {
     "cell_type": "code",
     "collapsed": false,
     "input": [
      "def eigL_mats(mats,n_kx,n_ky):\n",
      "    res = np.linalg.eigvals(mats)\n",
      "    res.shape = (n_ky,n_kx,6)\n",
      "    return res"
     ],
     "language": "python",
     "metadata": {},
     "outputs": [],
     "prompt_number": 21
    },
    {
     "cell_type": "code",
     "collapsed": false,
     "input": [
      "def fd(kx,ky):\n",
      "    return np.array([cs/xs * hopf_c(kx + k_sigx, ky + k_sigy) * s,\\\n",
      "                     cp/xp * hopf_c(kx + k_pmpx, ky + k_pmpy) * p,\\\n",
      "                     ci/xi * hopf_c(kx + k_idlx, ky + k_idly) * i,\\\n",
      "                    -cs/xs * hopf_c(k_sigx - kx, k_sigy - ky) * np.conjugate(s),\\\n",
      "                    -cp/xp * hopf_c(k_pmpx - kx, k_pmpy - ky) * np.conjugate(p),\\\n",
      "                    -ci/xi * hopf_c(k_idlx - kx, k_idly - ky) * np.conjugate(i)])"
     ],
     "language": "python",
     "metadata": {},
     "outputs": [],
     "prompt_number": 22
    },
    {
     "cell_type": "code",
     "collapsed": false,
     "input": [
      "def fd_mats(K_X,K_Y,n_kx,n_ky):\n",
      "    res = fd(K_X,K_Y)\n",
      "    new_res = np.transpose(res,(1,2,0))\n",
      "    new_res.shape = (n_kx*n_ky,6)\n",
      "    return new_res"
     ],
     "language": "python",
     "metadata": {},
     "outputs": [],
     "prompt_number": 23
    },
    {
     "cell_type": "code",
     "collapsed": false,
     "input": [
      "def bog_coef_mats(mats,fds,n_kx,n_ky):\n",
      "    res = np.linalg.solve(mats, -fds)\n",
      "    res.shape = (n_ky,n_kx,6)\n",
      "    return res"
     ],
     "language": "python",
     "metadata": {},
     "outputs": [],
     "prompt_number": 24
    },
    {
     "cell_type": "code",
     "collapsed": false,
     "input": [
      "    #x1 -> omega_s\n",
      "    #x2 -> ns\n",
      "    #x3 -> np"
     ],
     "language": "python",
     "metadata": {},
     "outputs": [],
     "prompt_number": 25
    },
    {
     "cell_type": "code",
     "collapsed": false,
     "input": [
      "    eq1 = \"{0:+.16f}*x1{1:+.16f}*x2{2:+.16f}*x3{3:+.16f};\"\\\n",
      "          .format((-gi - gs)/(gi*xs**2), -alpha**2 + 1, -2*alpha + 2, (-ei*gs + es*gi + 2*gs*omega_p_chosen)/(gi*xs**2))\n",
      "    eq2 = \"{0:.16f}*x1^2{1:+.16f}*x1*x2{2:+.16f}*x1*x3{3:+.16f}*x1{4:+.16f}*x2^2{5:+.16f}*x2*x3{6:+.16f}*x2{7:+.16f}*x3^2{8:+.16f}*x3{9:+.16f};\"\\\n",
      "          .format(xs**(-4), (-4*alpha - 2)/xs**2, -4/xs**2, -2*es/xs**4, 4*alpha**2 + 4*alpha + 1, 8*alpha + 4, (4*alpha*es + 2*es)/xs**2, -alpha + 4, 4*es/xs**2, (4*es**2 + gs**2)/(4*xs**4))\n",
      "    eq3 = \"{0:.16f}*x1^2*x2^2{1:+.16f}*x1*x2^3{2:+.16f}*x1*x2^2*x3{3:+.16f}*x1*x2^2{4:+.16f}*x1*x2*x3^2{5:+.16f}*x1*x2*x3{6:+.16f}*x2^4{7:+.16f}*x2^3*x3{8:+.16f}*x2^3{9:+.16f}*x2^2*x3^2{10:+.16f}*x2^2*x3{11:+.16f}*x2^2{12:+.16f}*x2*x3^3{13:+.16f}*x2*x3^2{14:+.16f}*x2*x3{15:+.16f}*x3^4{16:+.16f}*x3^3{17:+.16f}*x3^2{18:+.16f}*x3;\"\\\n",
      "          .format(4.0/xs**4, 1.0*(-16.0*alpha - 8.0)/xs**2, 1.0*(8.0*alpha - 8.0)/xs**2, -8.0*es/xs**4, 4.0/xs**2, 1.0*(4.0*ep - 4.0*omega_p_chosen)/(xp**2*xs**2), 16.0*alpha**2 + 16.0*alpha + 4.0, -16.0*alpha**2 + 8.0*alpha + 8.0, 1.0*(16.0*alpha*es + 8.0*es)/xs**2, 4.0*alpha**2 - 16.0*alpha, 1.0*(-8.0*alpha*ep*xs**2 - 8.0*alpha*es*xp**2 + 8.0*alpha*omega_p_chosen*xs**2 - 4.0*ep*xs**2 + 8.0*es*xp**2 + 4.0*omega_p_chosen*xs**2)/(xp**2*xs**2), 1.0*(4.0*es**2 + 1.0*gs**2)/xs**4, 4.0*alpha - 4.0, 1.0*(4.0*alpha*ep*xs**2 - 4.0*alpha*omega_p_chosen*xs**2 - 4.0*ep*xs**2 - 4.0*es*xp**2 + 4.0*omega_p_chosen*xs**2)/(xp**2*xs**2), 1.0*(-4.0*ep*es + 4.0*es*omega_p_chosen + 1.0*gs)/(xp**2*xs**2), 1.00000000000000, 1.0*(2.0*ep - 2.0*omega_p_chosen)/xp**2, 1.0*(1.0*ep**2 - 2.0*ep*omega_p_chosen + 1.0*omega_p_chosen**2 + 0.25)/xp**4, -1.0*ip_chosen)\n",
      "    "
     ],
     "language": "python",
     "metadata": {},
     "outputs": [],
     "prompt_number": 26
    },
    {
     "cell_type": "code",
     "collapsed": false,
     "input": [
      "f = [eq1, eq2, eq3]\n",
      "terms = f[2].split('+(')\n",
      "for t in terms: print t"
     ],
     "language": "python",
     "metadata": {},
     "outputs": [
      {
       "output_type": "stream",
       "stream": "stdout",
       "text": [
        "15.9999999999999964*x1^2*x2^2-78.8085026250375478*x1*x2^3+15.4042513125187739*x1*x2^2*x3+666.6666666666666288*x1*x2^2+7.9999999999999982*x1*x2*x3^2+10.5664878452818964*x1*x2*x3+97.0434388437586080*x2^4-37.9370618749804436*x2^3*x3-1641.8438046882820345*x2^3-15.9944544297088189*x2^2*x3^2+294.8991184350059029*x2^2*x3+6948.4444444444443434*x2^2+3.8510628281296944*x2*x3^3+171.7531927372727978*x2*x3^2+222.5350777228363768*x2*x3+1.0000000000000000*x3^4+2.6416219613204750*x3^3+2.1045159309309822*x3^2-6.5000000000000000*x3;\n"
       ]
      }
     ],
     "prompt_number": 27
    },
    {
     "cell_type": "code",
     "collapsed": false,
     "input": [
      "py2c_set_seed(130683)"
     ],
     "language": "python",
     "metadata": {},
     "outputs": [
      {
       "metadata": {},
       "output_type": "pyout",
       "prompt_number": 28,
       "text": [
        "0"
       ]
      }
     ],
     "prompt_number": 28
    },
    {
     "cell_type": "code",
     "collapsed": false,
     "input": [
      "s = solve(f,silent=True)\n",
      "ns = len(s)"
     ],
     "language": "python",
     "metadata": {},
     "outputs": [],
     "prompt_number": 29
    },
    {
     "cell_type": "code",
     "collapsed": false,
     "input": [
      "print s[0]"
     ],
     "language": "python",
     "metadata": {},
     "outputs": [
      {
       "output_type": "stream",
       "stream": "stdout",
       "text": [
        "t :  1.00000000000000E+00   0.00000000000000E+00\n",
        "m : 1\n",
        "the solution for t :\n",
        " x1 : -1.97345520860398E+01   1.79737040918694E-111\n",
        " x2 : -5.84180196408038E-01  -1.82439441387068E-110\n",
        " x3 :  1.56324914886128E+00   2.33636834482869E-110\n",
        "== err :  2.240E-14 = rco :  7.257E-02 = res :  3.109E-15 =\n"
       ]
      }
     ],
     "prompt_number": 30
    },
    {
     "cell_type": "code",
     "collapsed": false,
     "input": [
      "d = strsol2dict(s[0])"
     ],
     "language": "python",
     "metadata": {},
     "outputs": [],
     "prompt_number": 31
    },
    {
     "cell_type": "code",
     "collapsed": false,
     "input": [
      "x123 = np.array([d['x1'], d['x2'], d['x3']])"
     ],
     "language": "python",
     "metadata": {},
     "outputs": [],
     "prompt_number": 32
    },
    {
     "cell_type": "code",
     "collapsed": false,
     "input": [
      "real = np.real(x123)\n",
      "imag = np.fabs(np.imag(x123))"
     ],
     "language": "python",
     "metadata": {},
     "outputs": [],
     "prompt_number": 33
    },
    {
     "cell_type": "code",
     "collapsed": false,
     "input": [
      "sol = np.empty((real.size + imag.size,), dtype=real.dtype)\n",
      "sol[0::2] = real\n",
      "sol[1::2] = imag"
     ],
     "language": "python",
     "metadata": {},
     "outputs": [],
     "prompt_number": 34
    },
    {
     "cell_type": "code",
     "collapsed": false,
     "input": [
      "sol"
     ],
     "language": "python",
     "metadata": {},
     "outputs": [
      {
       "metadata": {},
       "output_type": "pyout",
       "prompt_number": 35,
       "text": [
        "array([ -1.97345521e+001,   1.79737041e-111,  -5.84180196e-001,\n",
        "         1.82439441e-110,   1.56324915e+000,   2.33636834e-110])"
       ]
      }
     ],
     "prompt_number": 35
    },
    {
     "cell_type": "code",
     "collapsed": false,
     "input": [
      "real"
     ],
     "language": "python",
     "metadata": {},
     "outputs": [
      {
       "metadata": {},
       "output_type": "pyout",
       "prompt_number": 36,
       "text": [
        "array([-19.73455209,  -0.5841802 ,   1.56324915])"
       ]
      }
     ],
     "prompt_number": 36
    },
    {
     "cell_type": "code",
     "collapsed": false,
     "input": [
      "imag"
     ],
     "language": "python",
     "metadata": {},
     "outputs": [
      {
       "metadata": {},
       "output_type": "pyout",
       "prompt_number": 37,
       "text": [
        "array([  1.79737041e-111,   1.82439441e-110,   2.33636834e-110])"
       ]
      }
     ],
     "prompt_number": 37
    },
    {
     "cell_type": "code",
     "collapsed": false,
     "input": [
      "range(ns)"
     ],
     "language": "python",
     "metadata": {},
     "outputs": [
      {
       "metadata": {},
       "output_type": "pyout",
       "prompt_number": 38,
       "text": [
        "[0, 1, 2, 3, 4, 5, 6, 7]"
       ]
      }
     ],
     "prompt_number": 38
    },
    {
     "cell_type": "code",
     "collapsed": false,
     "input": [],
     "language": "python",
     "metadata": {},
     "outputs": [],
     "prompt_number": 38
    },
    {
     "cell_type": "code",
     "collapsed": false,
     "input": [
      "    R = []\n",
      "    for k in range(ns):\n",
      "        d = strsol2dict(s[k])\n",
      "        x123 = np.array([d['x1'], d['x2'], d['x3']])\n",
      "        real = np.real(x123)\n",
      "        imag = np.fabs(np.imag(x123))\n",
      "        sol = np.empty((real.size + imag.size,), dtype=real.dtype)\n",
      "        sol[0::2] = real\n",
      "        sol[1::2] = imag\n",
      "        if np.allclose(imag, np.zeros(3)):\n",
      "            if real[1] > 1e-7:\n",
      "                R.append((sol[0], sol[2], sol[4], ip_chosen))"
     ],
     "language": "python",
     "metadata": {},
     "outputs": [],
     "prompt_number": 39
    },
    {
     "cell_type": "code",
     "collapsed": false,
     "input": [
      "print R"
     ],
     "language": "python",
     "metadata": {},
     "outputs": [
      {
       "output_type": "stream",
       "stream": "stdout",
       "text": [
        "[(-19.850755638275899, 0.143182596706636, 0.72714166617688003, 6.5)]\n"
       ]
      }
     ],
     "prompt_number": 40
    },
    {
     "cell_type": "code",
     "collapsed": false,
     "input": [
      "[(omega_s_chosen, ns_chosen, np_chosen, ip_chosen)] = R\n",
      "omega_i_chosen = 2 * omega_p_chosen - omega_s_chosen\n",
      "ni_chosen = alpha * ns_chosen"
     ],
     "language": "python",
     "metadata": {},
     "outputs": [],
     "prompt_number": 41
    },
    {
     "cell_type": "code",
     "collapsed": false,
     "input": [
      "energy_spi = [omega_s_chosen, omega_p_chosen, omega_i_chosen]"
     ],
     "language": "python",
     "metadata": {},
     "outputs": [],
     "prompt_number": 42
    },
    {
     "cell_type": "code",
     "collapsed": false,
     "input": [
      "p = 1/np.sqrt(ip_chosen) * (2/xs**2*(es-1j*gs/2-omega_s_chosen)*ns_chosen+2*(2*np_chosen+ns_chosen+2*ni_chosen)*ns_chosen-(1/xp**2*(ep+1j*1/2-omega_p_chosen)*np_chosen+(np_chosen+2*ns_chosen+2*ni_chosen)*np_chosen))\n",
      "pr = p.real\n",
      "pi = p.imag"
     ],
     "language": "python",
     "metadata": {},
     "outputs": [],
     "prompt_number": 43
    },
    {
     "cell_type": "code",
     "collapsed": false,
     "input": [
      "matSI = np.array([ [2*ni_chosen + 2*np_chosen + ns_chosen + (es - omega_s_chosen)/xs**2,gs/(2.*xs**2),-pi**2 + pr**2,2*pi*pr],\\\n",
      "       [-gs/(2.*xs**2),2*ni_chosen + 2*np_chosen + ns_chosen + (es - omega_s_chosen)/xs**2,2*pi*pr,pi**2 - pr**2],\\\n",
      "       [-pi**2 + pr**2,2*pi*pr,ni_chosen + 2*np_chosen + 2*ns_chosen + (ei - omega_i_chosen)/xi**2,gi/(2.*xi**2)],\\\n",
      "       [2*pi*pr,pi**2 - pr**2,-gi/(2.*xi**2),ni_chosen + 2*np_chosen + 2*ns_chosen + (ei - omega_i_chosen)/xi**2] ])"
     ],
     "language": "python",
     "metadata": {},
     "outputs": [],
     "prompt_number": 44
    },
    {
     "cell_type": "code",
     "collapsed": false,
     "input": [
      "norm = ns_chosen + ni_chosen\n",
      "N = null(matSI) * np.sqrt(norm)\n",
      "\n",
      "[sr, si, ir, ii] = N[:,0]\n",
      "s = (sr + 1j*si)*(1+1j)/np.sqrt(2)\n",
      "i = (ir + 1j*ii)*(1-1j)/np.sqrt(2)"
     ],
     "language": "python",
     "metadata": {},
     "outputs": [],
     "prompt_number": 45
    },
    {
     "cell_type": "code",
     "collapsed": false,
     "input": [
      "print np.abs(np.array([s, p, i]))**2"
     ],
     "language": "python",
     "metadata": {},
     "outputs": [
      {
       "output_type": "stream",
       "stream": "stdout",
       "text": [
        "[ 0.1431826   0.72714167  0.28103389]\n"
       ]
      }
     ],
     "prompt_number": 46
    },
    {
     "cell_type": "code",
     "collapsed": false,
     "input": [],
     "language": "python",
     "metadata": {},
     "outputs": [],
     "prompt_number": 45
    }
   ],
   "metadata": {}
  }
 ]
}