{
 "metadata": {
  "language": "Julia",
  "name": "",
  "signature": "sha256:a18621298fbc69718ce3c3bf8dabba51370fee114e9321745b7ab145d3a62868"
 },
 "nbformat": 3,
 "nbformat_minor": 0,
 "worksheets": [
  {
   "cells": [
    {
     "cell_type": "code",
     "collapsed": false,
     "input": [
      "fname = \"INPUT\"\n",
      "open(fname,\"r\") do f\n",
      "    for line in eachline(f)\n",
      "        line = strip(replace(line,[',','/'],' '))\n",
      "        (line[1] == '&' || line[1] == '!') && continue\n",
      "        include_string(\"global const \" * uppercase(line))\n",
      "    end\n",
      "end"
     ],
     "language": "python",
     "metadata": {},
     "outputs": [],
     "prompt_number": 1
    },
    {
     "cell_type": "code",
     "collapsed": false,
     "input": [
      "function initkinetic(nx, ny)\n",
      "    kinetic = zeros(Float64, nx, ny)\n",
      "    for j = 1:ny/2+1\n",
      "        for k=1:nx/2+1\n",
      "            kinetic[k,j] = pi * ((k-1)/(LX)+(j-1)/(LY))\n",
      "        end\n",
      "    end\n",
      "    for j = ny/2+2:ny\n",
      "        for k=nx/2+2:nx\n",
      "            kinetic[k,j] = pi * ((k-1-nx)/(LX)+(j-1-ny)/(LY))\n",
      "        end\n",
      "    end\n",
      "    for j = 1:ny/2+1\n",
      "        for k=nx/2+2:nx\n",
      "            kinetic[k,j] = pi * ((k-1-nx)/(LX)+(j-1)/(LY))\n",
      "        end\n",
      "    end\n",
      "    for j= ny/2+2:ny\n",
      "        for k = 1:nx/2+1\n",
      "            kinetic[k,j] = pi*((k-1)/(LX)+(j-1-ny)/(LY))\n",
      "        end\n",
      "    end\n",
      "    return kinetic\n",
      "end"
     ],
     "language": "python",
     "metadata": {},
     "outputs": [
      {
       "metadata": {},
       "output_type": "pyout",
       "prompt_number": 28,
       "text": [
        "initkinetic (generic function with 2 methods)"
       ]
      }
     ],
     "prompt_number": 28
    },
    {
     "cell_type": "code",
     "collapsed": false,
     "input": [
      "function doodlekin(nx, ny)\n",
      "    kinetic=Array(ASCIIString, (nx, ny))\n",
      "    for j = 1:ny/2+1\n",
      "        for k=1:nx/2+1\n",
      "            kinetic[k,j] = \"+1+1\"\n",
      "        end\n",
      "    end\n",
      "    for j = ny/2+2:ny\n",
      "        for k=nx/2+2:nx\n",
      "            kinetic[k,j] = \"-2-2\"\n",
      "        end\n",
      "    end\n",
      "    for j = 1:ny/2+1\n",
      "        for k=nx/2+2:nx\n",
      "            kinetic[k,j] = \"-3+3\"\n",
      "        end\n",
      "    end\n",
      "    for j= ny/2+2:ny\n",
      "        for k = 1:nx/2+1\n",
      "            kinetic[k,j] = \"+4-4\"\n",
      "        end\n",
      "    end\n",
      "    return kinetic\n",
      "end"
     ],
     "language": "python",
     "metadata": {},
     "outputs": [
      {
       "metadata": {},
       "output_type": "pyout",
       "prompt_number": 29,
       "text": [
        "doodlekin (generic function with 1 method)"
       ]
      }
     ],
     "prompt_number": 29
    },
    {
     "cell_type": "code",
     "collapsed": false,
     "input": [
      "doodlekin(10, 10)"
     ],
     "language": "python",
     "metadata": {},
     "outputs": [
      {
       "metadata": {},
       "output_type": "pyout",
       "prompt_number": 30,
       "text": [
        "10x10 Array{ASCIIString,2}:\n",
        " \"+1+1\"  \"+1+1\"  \"+1+1\"  \"+1+1\"  \"+1+1\"  \u2026  \"+4-4\"  \"+4-4\"  \"+4-4\"  \"+4-4\"\n",
        " \"+1+1\"  \"+1+1\"  \"+1+1\"  \"+1+1\"  \"+1+1\"     \"+4-4\"  \"+4-4\"  \"+4-4\"  \"+4-4\"\n",
        " \"+1+1\"  \"+1+1\"  \"+1+1\"  \"+1+1\"  \"+1+1\"     \"+4-4\"  \"+4-4\"  \"+4-4\"  \"+4-4\"\n",
        " \"+1+1\"  \"+1+1\"  \"+1+1\"  \"+1+1\"  \"+1+1\"     \"+4-4\"  \"+4-4\"  \"+4-4\"  \"+4-4\"\n",
        " \"+1+1\"  \"+1+1\"  \"+1+1\"  \"+1+1\"  \"+1+1\"     \"+4-4\"  \"+4-4\"  \"+4-4\"  \"+4-4\"\n",
        " \"+1+1\"  \"+1+1\"  \"+1+1\"  \"+1+1\"  \"+1+1\"  \u2026  \"+4-4\"  \"+4-4\"  \"+4-4\"  \"+4-4\"\n",
        " \"-3+3\"  \"-3+3\"  \"-3+3\"  \"-3+3\"  \"-3+3\"     \"-2-2\"  \"-2-2\"  \"-2-2\"  \"-2-2\"\n",
        " \"-3+3\"  \"-3+3\"  \"-3+3\"  \"-3+3\"  \"-3+3\"     \"-2-2\"  \"-2-2\"  \"-2-2\"  \"-2-2\"\n",
        " \"-3+3\"  \"-3+3\"  \"-3+3\"  \"-3+3\"  \"-3+3\"     \"-2-2\"  \"-2-2\"  \"-2-2\"  \"-2-2\"\n",
        " \"-3+3\"  \"-3+3\"  \"-3+3\"  \"-3+3\"  \"-3+3\"     \"-2-2\"  \"-2-2\"  \"-2-2\"  \"-2-2\""
       ]
      }
     ],
     "prompt_number": 30
    },
    {
     "cell_type": "code",
     "collapsed": false,
     "input": [
      "fftshift(doodlekin(10, 10))"
     ],
     "language": "python",
     "metadata": {},
     "outputs": [
      {
       "metadata": {},
       "output_type": "pyout",
       "prompt_number": 31,
       "text": [
        "10x10 Array{ASCIIString,2}:\n",
        " \"+1+1\"  \"+4-4\"  \"+4-4\"  \"+4-4\"  \"+4-4\"  \u2026  \"+1+1\"  \"+1+1\"  \"+1+1\"  \"+1+1\"\n",
        " \"-3+3\"  \"-2-2\"  \"-2-2\"  \"-2-2\"  \"-2-2\"     \"-3+3\"  \"-3+3\"  \"-3+3\"  \"-3+3\"\n",
        " \"-3+3\"  \"-2-2\"  \"-2-2\"  \"-2-2\"  \"-2-2\"     \"-3+3\"  \"-3+3\"  \"-3+3\"  \"-3+3\"\n",
        " \"-3+3\"  \"-2-2\"  \"-2-2\"  \"-2-2\"  \"-2-2\"     \"-3+3\"  \"-3+3\"  \"-3+3\"  \"-3+3\"\n",
        " \"-3+3\"  \"-2-2\"  \"-2-2\"  \"-2-2\"  \"-2-2\"     \"-3+3\"  \"-3+3\"  \"-3+3\"  \"-3+3\"\n",
        " \"+1+1\"  \"+4-4\"  \"+4-4\"  \"+4-4\"  \"+4-4\"  \u2026  \"+1+1\"  \"+1+1\"  \"+1+1\"  \"+1+1\"\n",
        " \"+1+1\"  \"+4-4\"  \"+4-4\"  \"+4-4\"  \"+4-4\"     \"+1+1\"  \"+1+1\"  \"+1+1\"  \"+1+1\"\n",
        " \"+1+1\"  \"+4-4\"  \"+4-4\"  \"+4-4\"  \"+4-4\"     \"+1+1\"  \"+1+1\"  \"+1+1\"  \"+1+1\"\n",
        " \"+1+1\"  \"+4-4\"  \"+4-4\"  \"+4-4\"  \"+4-4\"     \"+1+1\"  \"+1+1\"  \"+1+1\"  \"+1+1\"\n",
        " \"+1+1\"  \"+4-4\"  \"+4-4\"  \"+4-4\"  \"+4-4\"     \"+1+1\"  \"+1+1\"  \"+1+1\"  \"+1+1\""
       ]
      }
     ],
     "prompt_number": 31
    },
    {
     "cell_type": "code",
     "collapsed": false,
     "input": [
      "diag(doodlekin(10, 10))"
     ],
     "language": "python",
     "metadata": {},
     "outputs": [
      {
       "metadata": {},
       "output_type": "pyout",
       "prompt_number": 32,
       "text": [
        "10-element Array{ASCIIString,1}:\n",
        " \"+1+1\"\n",
        " \"+1+1\"\n",
        " \"+1+1\"\n",
        " \"+1+1\"\n",
        " \"+1+1\"\n",
        " \"+1+1\"\n",
        " \"-2-2\"\n",
        " \"-2-2\"\n",
        " \"-2-2\"\n",
        " \"-2-2\""
       ]
      }
     ],
     "prompt_number": 32
    },
    {
     "cell_type": "code",
     "collapsed": false,
     "input": [
      "kinfort = initkinetic(10, 10);\n",
      "diag(kinfort)"
     ],
     "language": "python",
     "metadata": {},
     "outputs": [
      {
       "metadata": {},
       "output_type": "pyout",
       "prompt_number": 33,
       "text": [
        "10-element Array{Float64,1}:\n",
        "  0.0     \n",
        "  0.314159\n",
        "  0.628319\n",
        "  0.942478\n",
        "  1.25664 \n",
        "  1.5708  \n",
        " -1.25664 \n",
        " -0.942478\n",
        " -0.628319\n",
        " -0.314159"
       ]
      }
     ],
     "prompt_number": 33
    },
    {
     "cell_type": "code",
     "collapsed": false,
     "input": [
      "function fftfreq(n::Int64, d::Float64)\n",
      "    N = fld(n-1,2)\n",
      "    p1 = [0:N]\n",
      "    p2 = [-fld(n,2):-1]\n",
      "    return [p1, p2]/(d*n)\n",
      "end"
     ],
     "language": "python",
     "metadata": {},
     "outputs": [
      {
       "metadata": {},
       "output_type": "pyout",
       "prompt_number": 8,
       "text": [
        "fftfreq (generic function with 1 method)"
       ]
      }
     ],
     "prompt_number": 8
    },
    {
     "cell_type": "code",
     "collapsed": false,
     "input": [
      "freq(10, LX/10pi)"
     ],
     "language": "python",
     "metadata": {},
     "outputs": [
      {
       "metadata": {},
       "output_type": "pyout",
       "prompt_number": 37,
       "text": [
        "10-element Array{Float64,1}:\n",
        "  0.0     \n",
        "  0.15708 \n",
        "  0.314159\n",
        "  0.471239\n",
        "  0.628319\n",
        "  0.785398\n",
        " -0.628319\n",
        " -0.471239\n",
        " -0.314159\n",
        " -0.15708 "
       ]
      }
     ],
     "prompt_number": 37
    },
    {
     "cell_type": "code",
     "collapsed": false,
     "input": [
      "function freq(n::Int64, d::Float64)\n",
      "    N = fld(n,2)\n",
      "    p1 = [0:N]\n",
      "    p2 = [-fld(n-1,2):-1]\n",
      "    return [p1, p2]/(d*n)\n",
      "end"
     ],
     "language": "python",
     "metadata": {},
     "outputs": [
      {
       "metadata": {},
       "output_type": "pyout",
       "prompt_number": 35,
       "text": [
        "freq (generic function with 1 method)"
       ]
      }
     ],
     "prompt_number": 35
    },
    {
     "cell_type": "code",
     "collapsed": false,
     "input": [
      "global const AX = 2LX/NX\n",
      "global const AY = 2LY/NY;"
     ],
     "language": "python",
     "metadata": {},
     "outputs": [],
     "prompt_number": 10
    },
    {
     "cell_type": "code",
     "collapsed": false,
     "input": [
      "MOMY = freq(NY, AY/2pi)\n",
      "MOMX = freq(NX, AX/2pi)';"
     ],
     "language": "python",
     "metadata": {},
     "outputs": [],
     "prompt_number": 24
    },
    {
     "cell_type": "code",
     "collapsed": false,
     "input": [
      "setg(kx, ky) = kx .^ 2 .+ ky .^ 2"
     ],
     "language": "python",
     "metadata": {},
     "outputs": [
      {
       "metadata": {},
       "output_type": "pyout",
       "prompt_number": 25,
       "text": [
        "setg (generic function with 1 method)"
       ]
      }
     ],
     "prompt_number": 25
    },
    {
     "cell_type": "code",
     "collapsed": false,
     "input": [
      "kinjulia = setg(MOMX, MOMY); \n",
      "using Base.Test\n",
      "@test maximum(diag(kinjulia) - diag(kinfort)) < 1e-15"
     ],
     "language": "python",
     "metadata": {},
     "outputs": [
      {
       "ename": "LoadError",
       "evalue": "test failed: maximum(diag(kinjulia) - diag(kinfort)) < 1.0e-15\nwhile loading In[27], in expression starting on line 3",
       "output_type": "pyerr",
       "traceback": [
        "test failed: maximum(diag(kinjulia) - diag(kinfort)) < 1.0e-15\nwhile loading In[27], in expression starting on line 3",
        " in error at error.jl:21",
        " in default_handler at test.jl:19",
        " in do_test at test.jl:39"
       ]
      }
     ],
     "prompt_number": 27
    },
    {
     "cell_type": "code",
     "collapsed": false,
     "input": [
      "m0 = zeros(Float64, (NY, NX));"
     ],
     "language": "python",
     "metadata": {},
     "outputs": [],
     "prompt_number": 14
    },
    {
     "cell_type": "code",
     "collapsed": false,
     "input": [
      "import Base.isapprox\n",
      "isapprox(a::Array{Float64,2}, b::Array{Float64,2}) = map(Base.isapprox, a, b) isapprox()"
     ],
     "language": "python",
     "metadata": {},
     "outputs": [
      {
       "ename": "LoadError",
       "evalue": "syntax: extra token \"isapprox\" after end of expression\nwhile loading In[15], in expression starting on line 2",
       "output_type": "pyerr",
       "traceback": [
        "syntax: extra token \"isapprox\" after end of expression\nwhile loading In[15], in expression starting on line 2"
       ]
      }
     ],
     "prompt_number": 15
    },
    {
     "cell_type": "code",
     "collapsed": false,
     "input": [
      "isapprox(kinfort-kinjulia, m0) == trues((NY, NX))"
     ],
     "language": "python",
     "metadata": {},
     "outputs": [
      {
       "ename": "LoadError",
       "evalue": "no method isapprox(Array{Float64,2}, Array{Float64,2})\nwhile loading In[16], in expression starting on line 1",
       "output_type": "pyerr",
       "traceback": [
        "no method isapprox(Array{Float64,2}, Array{Float64,2})\nwhile loading In[16], in expression starting on line 1"
       ]
      }
     ],
     "prompt_number": 16
    },
    {
     "cell_type": "code",
     "collapsed": false,
     "input": [
      "psi = rand((NY, NX)) + im*rand((NY, NX));"
     ],
     "language": "python",
     "metadata": {},
     "outputs": [],
     "prompt_number": 17
    },
    {
     "cell_type": "code",
     "collapsed": false,
     "input": [
      "ifft(kinfort .* fft(psi))"
     ],
     "language": "python",
     "metadata": {},
     "outputs": [
      {
       "metadata": {},
       "output_type": "pyout",
       "prompt_number": 18,
       "text": [
        "80x80 Array{Complex{Float64},2}:\n",
        "   3.64726+6.54389im     -2.75959-9.54664im   \u2026   16.1485+3.48777im \n",
        "  -8.65778-3.16061im      7.07808-8.78857im      -2.55884-3.06052im \n",
        "   10.7819-5.20242im      2.79171+9.32406im      -9.57619-2.50604im \n",
        " -0.112261+8.60958im     -2.90302-6.21859im      -6.39542-5.07028im \n",
        "  -8.57661+4.09696im       15.188-2.17743im       9.29814-1.05876im \n",
        "  -3.29716-3.58262im     -7.35324-0.567856im  \u2026  -10.9686-4.40759im \n",
        "  -5.96598-0.0175268im    6.19451+5.25861im       13.1857+6.08677im \n",
        "   7.30171+7.81892im     -15.9537-12.4195im      -3.89636+2.20671im \n",
        "   8.06058+6.96552im     -8.66632-5.71919im      -3.14455-5.26916im \n",
        "   8.63764-7.2589im       5.00161+5.96386im      -11.4321+5.55684im \n",
        "   3.18201-0.38077im     -10.3884+4.98194im   \u2026  -7.84346+0.332842im\n",
        "  -1.36139-10.0343im     -1.32666+1.38704im      -4.06015-6.19357im \n",
        "  -7.83055+6.62677im      12.4584+8.38041im       5.54918+5.03345im \n",
        "          \u22ee                                   \u22f1                     \n",
        "   12.4658-4.85035im      1.70922+7.93142im      -14.1941+0.137063im\n",
        "  -5.40797-5.25453im      3.19333-0.582855im     -2.84571+7.43999im \n",
        "   12.8957-1.8152im      -12.0755+7.07043im   \u2026  -3.68485+5.72201im \n",
        "   12.2475-5.54973im     -5.93783+1.29982im      -3.01387+0.368515im\n",
        "  -4.14667-8.91727im      1.10005+5.36401im      -13.0941+4.01633im \n",
        "  0.771205+9.61947im      2.92744-12.0178im       6.69252-15.4558im \n",
        "   1.08082+4.79095im      -8.6677+9.7986im        7.57328+15.7939im \n",
        "   3.41813-11.1366im    -0.210033+6.39803im   \u2026  -9.82227-7.97642im \n",
        "  -15.6733-7.44711im      14.1986+3.56378im       3.41416+13.0638im \n",
        "   6.69076+14.2203im     -6.15364-14.8431im       1.84009+3.46889im \n",
        "  -2.37144-8.19909im     -4.77789-2.36335im       3.12704-10.9785im \n",
        "  -5.56122-5.26234im      3.63429+6.03428im      -8.83145+12.5371im "
       ]
      }
     ],
     "prompt_number": 18
    },
    {
     "cell_type": "code",
     "collapsed": false,
     "input": [
      "ifft(kinjulia .* fft(psi))"
     ],
     "language": "python",
     "metadata": {},
     "outputs": [
      {
       "metadata": {},
       "output_type": "pyout",
       "prompt_number": 19,
       "text": [
        "80x80 Array{Complex{Float64},2}:\n",
        "   3.64726+6.54389im     -2.75959-9.54664im   \u2026   16.1485+3.48777im \n",
        "  -8.65778-3.16061im      7.07808-8.78857im      -2.55884-3.06052im \n",
        "   10.7819-5.20242im      2.79171+9.32406im      -9.57619-2.50604im \n",
        " -0.112261+8.60958im     -2.90302-6.21859im      -6.39542-5.07028im \n",
        "  -8.57661+4.09696im       15.188-2.17743im       9.29814-1.05876im \n",
        "  -3.29716-3.58262im     -7.35324-0.567856im  \u2026  -10.9686-4.40759im \n",
        "  -5.96598-0.0175268im    6.19451+5.25861im       13.1857+6.08677im \n",
        "   7.30171+7.81892im     -15.9537-12.4195im      -3.89636+2.20671im \n",
        "   8.06058+6.96552im     -8.66632-5.71919im      -3.14455-5.26916im \n",
        "   8.63764-7.2589im       5.00161+5.96386im      -11.4321+5.55684im \n",
        "   3.18201-0.38077im     -10.3884+4.98194im   \u2026  -7.84346+0.332842im\n",
        "  -1.36139-10.0343im     -1.32666+1.38704im      -4.06015-6.19357im \n",
        "  -7.83055+6.62677im      12.4584+8.38041im       5.54918+5.03345im \n",
        "          \u22ee                                   \u22f1                     \n",
        "   12.4658-4.85035im      1.70922+7.93142im      -14.1941+0.137063im\n",
        "  -5.40797-5.25453im      3.19333-0.582855im     -2.84571+7.43999im \n",
        "   12.8957-1.8152im      -12.0755+7.07043im   \u2026  -3.68485+5.72201im \n",
        "   12.2475-5.54973im     -5.93783+1.29982im      -3.01387+0.368515im\n",
        "  -4.14667-8.91727im      1.10005+5.36401im      -13.0941+4.01633im \n",
        "  0.771205+9.61947im      2.92744-12.0178im       6.69252-15.4558im \n",
        "   1.08082+4.79095im      -8.6677+9.7986im        7.57328+15.7939im \n",
        "   3.41813-11.1366im    -0.210033+6.39803im   \u2026  -9.82227-7.97642im \n",
        "  -15.6733-7.44711im      14.1986+3.56378im       3.41416+13.0638im \n",
        "   6.69076+14.2203im     -6.15364-14.8431im       1.84009+3.46889im \n",
        "  -2.37144-8.19909im     -4.77789-2.36335im       3.12704-10.9785im \n",
        "  -5.56122-5.26234im      3.63429+6.03428im      -8.83145+12.5371im "
       ]
      }
     ],
     "prompt_number": 19
    }
   ],
   "metadata": {}
  }
 ]
}