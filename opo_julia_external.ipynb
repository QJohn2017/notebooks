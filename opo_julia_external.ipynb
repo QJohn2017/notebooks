{
 "metadata": {
  "language": "Julia",
  "name": "",
  "signature": "sha256:c2faaaf345cefaa57d826a30ab908ee8ef252f7182d194785cc90bcf4448fd12"
 },
 "nbformat": 3,
 "nbformat_minor": 0,
 "worksheets": [
  {
   "cells": [
    {
     "cell_type": "code",
     "collapsed": false,
     "input": [
      "using ODE\n",
      "using Base.Test"
     ],
     "language": "python",
     "metadata": {},
     "outputs": [],
     "prompt_number": 6
    },
    {
     "cell_type": "code",
     "collapsed": false,
     "input": [
      "tol = 1e-2"
     ],
     "language": "python",
     "metadata": {},
     "outputs": [
      {
       "metadata": {},
       "output_type": "pyout",
       "prompt_number": 7,
       "text": [
        "0.01"
       ]
      }
     ],
     "prompt_number": 7
    },
    {
     "cell_type": "code",
     "collapsed": false,
     "input": [
      "solvers = [\n",
      "    ODE.ode45_dp,\n",
      "    ODE.ode45_fb,\n",
      "    ODE.ode45_ck]"
     ],
     "language": "python",
     "metadata": {},
     "outputs": [
      {
       "metadata": {},
       "output_type": "pyout",
       "prompt_number": 8,
       "text": [
        "3-element Array{Function,1}:\n",
        " ode45_dp\n",
        " ode45_fb\n",
        " ode45_ck"
       ]
      }
     ],
     "prompt_number": 8
    },
    {
     "cell_type": "code",
     "collapsed": false,
     "input": [
      "for solver in solvers\n",
      "    println(\"using $solver\")\n",
      "    # dy\n",
      "    # -- = 6 ==> y = 6t\n",
      "    # dt\n",
      "    t,y=solver((t,y)->6, [0:.1:1], [0.])\n",
      "    @test maximum(abs(y-6t)) < tol\n",
      "\n",
      "    # dy\n",
      "    # -- = 2t ==> y = t.^2\n",
      "    # dt\n",
      "    t,y=solver((t,y)->2t, [0:.001:1], [0.])\n",
      "    @test maximum(abs(y-t.^2)) < tol\n",
      "    \n",
      "    # dy\n",
      "    # -- = y ==> y = y0*e.^t\n",
      "    # dt\n",
      "    t,y=solver((t,y)->y, [0:.001:1], [1.])\n",
      "    @test maximum(abs(y-e.^t)) < tol\n",
      "\n",
      "    # dv       dw\n",
      "    # -- = -w, -- = v ==> v = v0*cos(t) - w0*sin(t), w = w0*cos(t) + v0*sin(t)\n",
      "    # dt       dt\n",
      "    #\n",
      "    # y = [v, w]\n",
      "    t,y=solver((t,y)->[-y[2], y[1]], [0:.001:2*pi], [1., 2.])\n",
      "    @test maximum(abs(y-[cos(t)-2*sin(t) 2*cos(t)+sin(t)])) < tol\n",
      "end"
     ],
     "language": "python",
     "metadata": {},
     "outputs": [
      {
       "output_type": "stream",
       "stream": "stdout",
       "text": [
        "using ode45_dp\n"
       ]
      },
      {
       "output_type": "stream",
       "stream": "stdout",
       "text": [
        "using ode45_fb\n",
        "using ode45_ck\n"
       ]
      }
     ],
     "prompt_number": 9
    },
    {
     "cell_type": "code",
     "collapsed": false,
     "input": [],
     "language": "python",
     "metadata": {},
     "outputs": [],
     "prompt_number": 10
    }
   ],
   "metadata": {}
  }
 ]
}