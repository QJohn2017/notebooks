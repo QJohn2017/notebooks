{
 "metadata": {
  "language": "Julia",
  "name": "",
  "signature": "sha256:7da6160af12ba8a60d58e9ec7df3d34326a41d0c30277cacfdaaf194ed0c165c"
 },
 "nbformat": 3,
 "nbformat_minor": 0,
 "worksheets": [
  {
   "cells": [
    {
     "cell_type": "code",
     "collapsed": false,
     "input": [
      "# dy\n",
      "# -- = y ==> y = y0*e.^t\n",
      "# dt\n",
      "\n",
      "# y-->psi(t)"
     ],
     "language": "python",
     "metadata": {},
     "outputs": [],
     "prompt_number": 1
    },
    {
     "cell_type": "code",
     "collapsed": false,
     "input": [
      "psiinit = 1."
     ],
     "language": "python",
     "metadata": {},
     "outputs": [
      {
       "metadata": {},
       "output_type": "pyout",
       "prompt_number": 2,
       "text": [
        "1.0"
       ]
      }
     ],
     "prompt_number": 2
    },
    {
     "cell_type": "code",
     "collapsed": false,
     "input": [
      "function derivs(t::Float64, psi::Float64)\n",
      "    dpsidt = psi\n",
      "    return dpsidt\n",
      "end"
     ],
     "language": "python",
     "metadata": {},
     "outputs": [
      {
       "metadata": {},
       "output_type": "pyout",
       "prompt_number": 9,
       "text": [
        "derivs (generic function with 1 method)"
       ]
      }
     ],
     "prompt_number": 9
    },
    {
     "cell_type": "code",
     "collapsed": false,
     "input": [
      "function rkck(psi::Float64, dpsidt::Float64, t::Float64, h::Float64)\n",
      "    const A2=0.2\n",
      "    const A3=0.3\n",
      "    const A4=0.6\n",
      "    const A5=1.0\n",
      "    const A6=0.875\n",
      "    const B21=0.2\n",
      "    const B31=3.0/40.0\n",
      "    const B32=9.0/40.0\n",
      "    const B41=0.3\n",
      "    const B42=-0.9\n",
      "    const B43=1.2\n",
      "    const B51=-11.0/54.0\n",
      "    const B52=2.5\n",
      "    const B53=-70.0/27.0\n",
      "    const B54=35.0/27.0\n",
      "    const B61=1631.0/55296.0\n",
      "    const B62=175.0/512.0\n",
      "    const B63=575.0/13824.0\n",
      "    const B64=44275.0/110592.0\n",
      "    const B65=253.0/4096.0\n",
      "    const C1=37.0/378.0\n",
      "    const C3=250.0/621.0\n",
      "    const C4=125.0/594.0\n",
      "    const C6=512.0/1771.0\n",
      "    const DC1=C1-2825.0/27648.0\n",
      "    const DC3=C3-18575.0/48384.0\n",
      "    const DC4=C4-13525.0/55296.0\n",
      "    const DC5=-277.0/14336.0\n",
      "    const DC6=C6-0.25\n",
      "    \n",
      "    psitemp=psi+B21*h*dpsidt\n",
      "    #First step.\n",
      "    ak2 = derivs(t+A2*h,psitemp)\n",
      "    #Second step.\n",
      "    psitemp=psi+h*(B31*dpsidt+B32*ak2)\n",
      "    ak3 = derivs(t+A3*h,psitemp) \n",
      "    #Third step.\n",
      "    psitemp=psi+h*(B41*dpsidt+B42*ak2+B43*ak3)\n",
      "    ak4 = derivs(t+A4*h,psitemp) \n",
      "    #Fourth step.\n",
      "    psitemp=psi+h*(B51*dpsidt+B52*ak2+B53*ak3+B54*ak4)\n",
      "    ak5 = derivs(t+A5*h,psitemp) \n",
      "    #Fifth step.\n",
      "    psitemp=psi+h*(B61*dpsidt+B62*ak2+B63*ak3+B64*ak4+B65*ak5)\n",
      "    ak6 = derivs(t+A6*h,psitemp) \n",
      "    #Sixth step.\n",
      "    psiout=psi+h*(C1*dpsidt+C3*ak3+C4*ak4+C6*ak6) \n",
      "    #Accumulate increments with proper weights.\n",
      "    psierr=h*(DC1*dpsidt+DC3*ak3+DC4*ak4+DC5*ak5+DC6*ak6)\n",
      "    #Estimate error as diference between fourth and fifth order methods.\n",
      "    return psiout, psierr\n",
      "end"
     ],
     "language": "python",
     "metadata": {},
     "outputs": [
      {
       "metadata": {},
       "output_type": "pyout",
       "prompt_number": 10,
       "text": [
        "rkck (generic function with 1 method)"
       ]
      }
     ],
     "prompt_number": 10
    },
    {
     "cell_type": "code",
     "collapsed": false,
     "input": [
      "function rkqs!(psi::Float64, dpsidt::Float64, t::Float64, htry::Float64, eps::Float64, psiscal::Float64)\n",
      "    const SAFETY=0.9\n",
      "    const PGROW=-0.2\n",
      "    const PSHRNK=-0.25\n",
      "    const ERRCON=1.89e-4\n",
      "\n",
      "    #Set step size to the initial trial value.\n",
      "    h=htry     \n",
      "    \n",
      "    errmax = 0.\n",
      "    psitemp = 0.\n",
      "    while true\n",
      "        #Take a step.    \n",
      "        psitemp, psierr = rkck(psi,dpsidt,t,h)\n",
      "        #Evaluate accuracy.\n",
      "        errmax=maximum(abs(psierr)/psiscal)/eps\n",
      "        #Step succeeded.    \n",
      "        (errmax <= 1.0) && break\n",
      "        #Truncation error too large, reduce stepsize.    \n",
      "        htemp=SAFETY*h*(errmax^PSHRNK)\n",
      "        #No more than a factor 10.\n",
      "        h=copysign(max(abs(htemp), 0.1*abs(h)), h)\n",
      "        isapprox(h, 0.) && println(\"stepsize underflow in rkqs\")    \n",
      "    end\n",
      "    #Go back for another try. No more than a factor 5 increase.\n",
      "    errmax>ERRCON ? hnext=SAFETY*h*(errmax^PGROW) : (hnext=5.0*h)\n",
      "    hdid = h\n",
      "    t += h\n",
      "    psi = psitemp\n",
      "    @show t, psi\n",
      "    return hdid, hnext, t, psi\n",
      "end"
     ],
     "language": "python",
     "metadata": {},
     "outputs": [
      {
       "metadata": {},
       "output_type": "pyout",
       "prompt_number": 11,
       "text": [
        "rkqs! (generic function with 1 method)"
       ]
      }
     ],
     "prompt_number": 11
    },
    {
     "cell_type": "code",
     "collapsed": false,
     "input": [
      "function odeintrk!(psistart::Float64, t1::Float64, t2::Float64, eps::Float64, h1::Float64, hmin::Float64)    \n",
      "    const MAXSTP = 20\n",
      "    const TINY=1.0e-30\n",
      "\n",
      "    t    = t1\n",
      "    h    = copysign(h1, t2-t1)    \n",
      "    nok  = 0\n",
      "    nbad = 0\n",
      "    kount= 0 \n",
      "    \n",
      "    psi = psistart\n",
      "    \n",
      "    #main program loop\n",
      "    for nstp = 1:MAXSTP     #Take at most MAXSTP steps\n",
      "        #Scaling used to monitor accuracy.\n",
      "        dpsi = derivs(t, psi)\n",
      "        psiscal = abs(psi) + abs(h*dpsi) + TINY\n",
      "        #If stepsize can overshoot,decrease.\n",
      "        ((t+h-t2)*(t+h-t1) > 0.0) && (h = t2 - t)     \n",
      "        \n",
      "        hdid, hnext, t, psi = rkqs!(psi,dpsi,t,h,eps,psiscal)\n",
      "        isapprox(hdid,h) ? nok += 1 : (nbad += 1)\n",
      "        \n",
      "        #Are we done?\n",
      "        if (t-t2)*(t2-t1) >= 0.0\n",
      "            psistart = psi \n",
      "            return\n",
      "        end\n",
      "        (abs(hnext) < hmin) && println(\"stepsize smaller than minimum in odeint\")\n",
      "        h=hnext            \n",
      "    end\n",
      "    println(\"too many steps in odeint\")\n",
      "end"
     ],
     "language": "python",
     "metadata": {},
     "outputs": [
      {
       "metadata": {},
       "output_type": "pyout",
       "prompt_number": 12,
       "text": [
        "odeintrk! (generic function with 1 method)"
       ]
      }
     ],
     "prompt_number": 12
    },
    {
     "cell_type": "code",
     "collapsed": false,
     "input": [
      "odeintrk!(psiinit,0.,1.,1.0e-5,0.01,1.0e-9)"
     ],
     "language": "python",
     "metadata": {},
     "outputs": [
      {
       "output_type": "stream",
       "stream": "stdout",
       "text": [
        "(t,psi) => (0.01,1.010050167084168)"
       ]
      },
      {
       "output_type": "stream",
       "stream": "stdout",
       "text": [
        "\n",
        "(t,psi) => (0.060000000000000005,1.06183654654301)\n",
        "(t,psi) => (0.31,1.3634250648516695)\n",
        "(t,psi) => (0.8360900946049481,2.307320557415741)\n",
        "(t,psi) => (1.0,2.7182731897725403)\n"
       ]
      }
     ],
     "prompt_number": 13
    },
    {
     "cell_type": "code",
     "collapsed": false,
     "input": [
      "e^0.31"
     ],
     "language": "python",
     "metadata": {},
     "outputs": [
      {
       "metadata": {},
       "output_type": "pyout",
       "prompt_number": 15,
       "text": [
        "1.3634251141321778"
       ]
      }
     ],
     "prompt_number": 15
    },
    {
     "cell_type": "code",
     "collapsed": false,
     "input": [],
     "language": "python",
     "metadata": {},
     "outputs": []
    }
   ],
   "metadata": {}
  }
 ]
}