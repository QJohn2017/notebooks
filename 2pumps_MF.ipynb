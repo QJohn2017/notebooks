{
 "metadata": {
  "name": "",
  "signature": "sha256:39ba4ac0dc5047136ee01b73a73fc2decd919ba2beab6142bfef299f291da38c"
 },
 "nbformat": 3,
 "nbformat_minor": 0,
 "worksheets": [
  {
   "cells": [
    {
     "cell_type": "markdown",
     "metadata": {},
     "source": [
      "<script type=\"text/javascript\">\n",
      "on = \"Show input\";\n",
      "off = \"Hide input\"\n",
      "function onoff(){\n",
      "  currentvalue = document.getElementById('onoff').value;\n",
      "  if(currentvalue == off){\n",
      "    document.getElementById(\"onoff\").value=on;\n",
      "      $('div.input').hide();\n",
      "  }else{\n",
      "    document.getElementById(\"onoff\").value=off;\n",
      "      $('div.input').show();\n",
      "  }\n",
      "}\n",
      "</script>\n",
      "\n",
      "<input type=\"button\" class=\"ui-button ui-widget ui-state-default\n",
      "ui-corner-all ui-button-text-only\" value=\"Hide input\" id=\"onoff\"\n",
      "onclick=\"onoff();\">"
     ]
    },
    {
     "cell_type": "code",
     "collapsed": false,
     "input": [
      "import numpy as np\n",
      "\n",
      "import matplotlib.pyplot as plt\n",
      "from scipy import optimize\n",
      "\n",
      "from phcpy.phcpy2c import py2c_set_seed\n",
      "from phcpy.solver import solve\n",
      "from phcpy.solutions import strsol2dict"
     ],
     "language": "python",
     "metadata": {},
     "outputs": [
      {
       "output_type": "stream",
       "stream": "stdout",
       "text": [
        "PHCv2.3.86 released 2013-12-20 works!\n"
       ]
      }
     ],
     "prompt_number": 1
    },
    {
     "cell_type": "code",
     "collapsed": false,
     "input": [
      "import sympy\n",
      "sympy.init_printing(use_unicode=True)"
     ],
     "language": "python",
     "metadata": {},
     "outputs": [],
     "prompt_number": 2
    },
    {
     "cell_type": "code",
     "collapsed": false,
     "input": [
      "# System parameters\n",
      "omega_X = omega_C0 = 1.4\n",
      "kz = 20.0\n",
      "Omega_R = 2.2*10**(-3)\n",
      "gamma_X = 0.1*10**(-3)\n",
      "gamma_C = 0.1*10**(-3)\n",
      "k_pmpx = 0.6\n",
      "k_pmpy = 0.0"
     ],
     "language": "python",
     "metadata": {},
     "outputs": [],
     "prompt_number": 3
    },
    {
     "cell_type": "code",
     "collapsed": false,
     "input": [
      "gp = gamma_C + (1 / np.sqrt(1 + (Omega_R / ((0.5 * ((omega_C0 * np.sqrt(1 + (np.sqrt(k_pmpx**2 + k_pmpy**2) / kz)**2)) + omega_X) - 0.5 * np.sqrt(((omega_C0 * np.sqrt(1 + (np.sqrt(k_pmpx**2 + k_pmpy**2) / kz)**2)) - omega_X)**2 + 4*Omega_R**2)) - (omega_C0 * np.sqrt(1 + (np.sqrt(k_pmpx**2 + k_pmpy**2) / kz)**2))))**2))**2 * (gamma_X - gamma_C)"
     ],
     "language": "python",
     "metadata": {},
     "outputs": [],
     "prompt_number": 4
    },
    {
     "cell_type": "code",
     "collapsed": false,
     "input": [
      "# Computational parameters\n",
      "\n",
      "# nkx -> number of columns\n",
      "# nky -> number of rows\n",
      "# M[row,col]\n",
      "\n",
      "nkx = nky = nk = 512\n",
      "delta_k = 0.05\n",
      "\n",
      "side_k = nk * delta_k / 2\n",
      "side_r = np.pi / delta_k\n",
      "delta_r = np.pi / side_k\n",
      "\n",
      "x = y = np.arange(-side_r, side_r, delta_r)\n",
      "kx = ky = np.arange(-side_k, side_k, delta_k)\n",
      "\n",
      "KX, KY = np.meshgrid(kx, ky)\n",
      "X, Y = np.meshgrid(x, y)\n",
      "\n",
      "ipx = np.linspace(150, 10000, 150)\n",
      "ip_chosen = 30."
     ],
     "language": "python",
     "metadata": {},
     "outputs": [],
     "prompt_number": 5
    },
    {
     "cell_type": "code",
     "collapsed": false,
     "input": [
      "#various plotting parameters\n",
      "x_label_k = r'$k_x[\\mu m^{-1}]$'"
     ],
     "language": "python",
     "metadata": {},
     "outputs": [],
     "prompt_number": 6
    },
    {
     "cell_type": "code",
     "collapsed": false,
     "input": [
      "def index_mom(mom):\n",
      "    return int( np.floor( (mom + side_k) / delta_k ) )"
     ],
     "language": "python",
     "metadata": {},
     "outputs": [],
     "prompt_number": 7
    },
    {
     "cell_type": "code",
     "collapsed": false,
     "input": [
      "def enC(kx,ky):\n",
      "    return ( omega_C0 * np.sqrt(1 + (np.sqrt(kx**2 + ky**2) / kz)**2) - omega_X ) / gp"
     ],
     "language": "python",
     "metadata": {},
     "outputs": [],
     "prompt_number": 8
    },
    {
     "cell_type": "code",
     "collapsed": false,
     "input": [
      "def enLP(kx,ky):\n",
      "    return 0.5 * enC(kx,ky) - 0.5 * np.sqrt(enC(kx,ky)**2 + 4*Omega_R**2/gp**2)"
     ],
     "language": "python",
     "metadata": {},
     "outputs": [],
     "prompt_number": 9
    },
    {
     "cell_type": "code",
     "collapsed": false,
     "input": [
      "omega_p_chosen = enLP(k_pmpx, k_pmpy) + 2"
     ],
     "language": "python",
     "metadata": {},
     "outputs": [],
     "prompt_number": 10
    },
    {
     "cell_type": "code",
     "collapsed": false,
     "input": [
      "def hopf_x(kx,ky):\n",
      "    return 1 / np.sqrt(1 + ( (Omega_R/gp) / (enLP(kx,ky) - enC(kx,ky)))**2)"
     ],
     "language": "python",
     "metadata": {},
     "outputs": [],
     "prompt_number": 11
    },
    {
     "cell_type": "code",
     "collapsed": false,
     "input": [
      "def hopf_c(kx,ky):\n",
      "    return -1 / np.sqrt(1 + ((enLP(kx,ky) - enC(kx,ky)) / (Omega_R/gp) )**2)"
     ],
     "language": "python",
     "metadata": {},
     "outputs": [],
     "prompt_number": 12
    },
    {
     "cell_type": "code",
     "collapsed": false,
     "input": [
      "def gamma(kx,ky):\n",
      "    return ( gamma_C + hopf_x(kx,ky)**2 * (gamma_X - gamma_C) ) / gp"
     ],
     "language": "python",
     "metadata": {},
     "outputs": [],
     "prompt_number": 13
    },
    {
     "cell_type": "code",
     "collapsed": false,
     "input": [
      "#some more parameters\n",
      "#k plotting interval\n",
      "kl, kr = -4, 4\n",
      "kxl, kxr = index_mom(kl), index_mom(kr)\n",
      "\n",
      "ep = enLP(k_pmpx,k_pmpy) \n",
      "xp = hopf_x(k_pmpx,k_pmpy)\n",
      "cp = hopf_c(k_pmpx, k_pmpy)"
     ],
     "language": "python",
     "metadata": {},
     "outputs": [],
     "prompt_number": 14
    },
    {
     "cell_type": "heading",
     "level": 1,
     "metadata": {},
     "source": [
      "Lower polariton dispersion"
     ]
    },
    {
     "cell_type": "code",
     "collapsed": false,
     "input": [
      "LP = enLP(KX, KY)\n",
      "G = gamma(KX, KY) / 2"
     ],
     "language": "python",
     "metadata": {},
     "outputs": [],
     "prompt_number": 15
    },
    {
     "cell_type": "code",
     "collapsed": false,
     "input": [
      "fig, ax = plt.subplots()\n",
      "\n",
      "ax.plot(KX[nky/2,kxl:kxr], LP[nky/2,kxl:kxr], 'k-.')\n",
      "ax.fill_between(KX[nky/2,kxl:kxr], LP[nky/2,kxl:kxr] - G[nky/2,kxl:kxr]/2,\\\n",
      "                LP[nky/2,kxl:kxr] + G[nky/2,kxl:kxr]/2, color='0.75', alpha=0.5)\n",
      "\n",
      "ax.scatter(k_pmpx, omega_p_chosen, c='red')\n",
      "\n",
      "ax.set_title('bare LP dispersion')\n",
      "ax.set_xlim(kl, kr)\n",
      "ax.set_xlabel(x_label_k)\n",
      "ax.set_ylabel(r'$\\epsilon-\\omega_X[\\gamma_p]$')"
     ],
     "language": "python",
     "metadata": {},
     "outputs": [
      {
       "metadata": {},
       "output_type": "pyout",
       "prompt_number": 16,
       "text": [
        "<matplotlib.text.Text at 0x7fa8d31db410>"
       ]
      },
      {
       "metadata": {},
       "output_type": "display_data",
       "png": "[encoded data removed]",
       "text": [
        "<matplotlib.figure.Figure at 0x7fa8d32293d0>"
       ]
      }
     ],
     "prompt_number": 16
    },
    {
     "cell_type": "heading",
     "level": 1,
     "metadata": {},
     "source": [
      "Mean-field equations"
     ]
    },
    {
     "cell_type": "markdown",
     "metadata": {},
     "source": [
      "$$\\left[\\left(\\epsilon_{p}-\\omega_{p}+\\left|X_{p}\\right|^{2}\\left(n_{1}+2n_{2}\\right)\\right)^{2}+\\frac{1}{4}\\right]n_{1}-\\left|X_{p}\\right|^{4}I_{p}=0$$\n",
      "$$\\left[\\left(\\epsilon_{p}-\\omega_{p}+\\left|X_{p}\\right|^{2}\\left(2n_{1}+n_{2}\\right)\\right)^{2}+\\frac{1}{4}\\right]n_{2}-\\left|X_{p}\\right|^{4}I_{p}=0$$"
     ]
    },
    {
     "cell_type": "code",
     "collapsed": false,
     "input": [
      "epsp, omgp, icsp, n_1, n_2, ipump = sympy.symbols('epsilon_p, omega_p, X_p, n_1, n_2, I_p')\n",
      "e1 = ((epsp-omgp+icsp**2*(n_1+2*n_2))**2+sympy.Rational(1,4))*n_1-icsp**4*ipump\n",
      "expr = sympy.expand(e1)\n",
      "a = sympy.poly(expr, n_1, n_2); a"
     ],
     "language": "python",
     "metadata": {},
     "outputs": [
      {
       "latex": [
        "$$\\operatorname{Poly}{\\left( - I_{p} X_{p}^{4} + X_{p}^{4} n_{1}^{3} + 4 X_{p}^{4} n_{1}^{2} n_{2} + 4 X_{p}^{4} n_{1} n_{2}^{2} + n_{1}^{2} \\left(2 X_{p}^{2} \\epsilon_{p} - 2 X_{p}^{2} \\omega_{p}\\right) + n_{1} n_{2} \\left(4 X_{p}^{2} \\epsilon_{p} - 4 X_{p}^{2} \\omega_{p}\\right) + n_{1} \\left(\\epsilon_{p}^{2} - 2 \\epsilon_{p} \\omega_{p} + \\omega_{p}^{2} + \\frac{1}{4}\\right), n_{1}, n_{2}, domain=\\mathbb{Q}\\left[I_{p}, X_{p}, \\epsilon_{p}, \\omega_{p}\\right] \\right)}$$"
       ],
       "metadata": {},
       "output_type": "pyout",
       "png": "[encoded data removed]",
       "prompt_number": 17,
       "text": [
        "Poly(X_p**4*n_1**3 + 4*X_p**4*n_1**2*n_2 + (2*X_p**2*epsilon_p - 2*X_p**2*omeg\n",
        "a_p)*n_1**2 + 4*X_p**4*n_1*n_2**2 + (4*X_p**2*epsilon_p - 4*X_p**2*omega_p)*n_\n",
        "1*n_2 + (epsilon_p**2 - 2*epsilon_p*omega_p + omega_p**2 + 1/4)*n_1 - I_p*X_p*\n",
        "*4, n_1, n_2, domain='QQ[I_p,X_p,epsilon_p,omega_p]')"
       ]
      }
     ],
     "prompt_number": 17
    },
    {
     "cell_type": "code",
     "collapsed": false,
     "input": [
      "def eqs(ip):\n",
      "\n",
      "    #x1 -> n_1\n",
      "    #x2 -> n_2\n",
      "       \n",
      "    eq1 = \"{0:.16f}*x1^3{1:+.16f}*x1^2*x2{2:+.16f}*x1*x2^2{3:+.16f}*x1^2{4:+.16f}*x1*x2{5:+.16f}*x1{6:+.16f};\"\\\n",
      "          .format(xp**4, 4*xp**4, 4*xp**4, 2*xp**2*(ep-omega_p_chosen), 4*xp**2*(ep-omega_p_chosen), (ep-omega_p_chosen)**2+1./4, -ip*xp**4)\n",
      "    eq2 = \"{0:.16f}*x2^3{1:+.16f}*x1^2*x2{2:+.16f}*x1*x2^2{3:+.16f}*x2^2{4:+.16f}*x1*x2{5:+.16f}*x2{6:+.16f};\"\\\n",
      "          .format(xp**4, 4*xp**4, 4*xp**4, 2*xp**2*(ep-omega_p_chosen), 4*xp**2*(ep-omega_p_chosen), (ep-omega_p_chosen)**2+1./4, -ip*xp**4)\n",
      "\n",
      "    f = [eq1, eq2]\n",
      "    \n",
      "    #seeding random number generator for reproducible results\n",
      "    py2c_set_seed(130683)\n",
      "    \n",
      "    s = solve(f,silent=True)\n",
      "    ns = len(s) #number of solutions\n",
      "\n",
      "    R = []\n",
      "    for k in range(ns):\n",
      "        d = strsol2dict(s[k])\n",
      "        x12 = np.array([d['x1'], d['x2']])\n",
      "        real = np.real(x12)\n",
      "        imag = np.fabs(np.imag(x12))\n",
      "        sol = np.empty((real.size + imag.size,), dtype=real.dtype)\n",
      "        sol[0::2] = real\n",
      "        sol[1::2] = imag\n",
      "        if np.allclose(imag, np.zeros(2)):\n",
      "                R.append((sol[0], sol[2], ip))\n",
      "    return R"
     ],
     "language": "python",
     "metadata": {},
     "outputs": [],
     "prompt_number": 18
    },
    {
     "cell_type": "code",
     "collapsed": false,
     "input": [
      "solutions = []\n",
      "for pmp_int in ipx:\n",
      "    solutions.append(eqs(pmp_int))"
     ],
     "language": "python",
     "metadata": {},
     "outputs": [],
     "prompt_number": 19
    },
    {
     "cell_type": "code",
     "collapsed": false,
     "input": [
      "solutions_flat = [item for sublist in solutions for item in sublist]"
     ],
     "language": "python",
     "metadata": {},
     "outputs": [],
     "prompt_number": 20
    },
    {
     "cell_type": "code",
     "collapsed": false,
     "input": [
      "x1s = np.array([seq[0] for seq in solutions_flat])\n",
      "x2s = np.array([seq[1] for seq in solutions_flat])\n",
      "ips = np.array([seq[2] for seq in solutions_flat])"
     ],
     "language": "python",
     "metadata": {},
     "outputs": [],
     "prompt_number": 21
    },
    {
     "cell_type": "code",
     "collapsed": false,
     "input": [
      "fig, ax = plt.subplots()\n",
      "\n",
      "ax.scatter(ips, x2s, s=20, c='r')\n",
      "\n",
      "\n",
      "ax.axvline(x=ip_chosen,color='k',ls='dashed')\n",
      "\n",
      "ax.set_xlim(ipx[0], ipx[-1])\n",
      "ax.set_ylim(0, np.max(x1s))\n",
      "ax.set_xlabel(r'$I_p [\\gamma_p^3]$')\n",
      "ax.set_ylabel(r'$n_1, n_2 [\\gamma_p]$')"
     ],
     "language": "python",
     "metadata": {},
     "outputs": [
      {
       "metadata": {},
       "output_type": "pyout",
       "prompt_number": 22,
       "text": [
        "<matplotlib.text.Text at 0x7fa8d305c450>"
       ]
      },
      {
       "metadata": {},
       "output_type": "display_data",
       "png": "[encoded data removed]",
       "text": [
        "<matplotlib.figure.Figure at 0x7fa8d30540d0>"
       ]
      }
     ],
     "prompt_number": 22
    },
    {
     "cell_type": "code",
     "collapsed": false,
     "input": [
      "fig, ax = plt.subplots()\n",
      "\n",
      "ax.scatter(ips, x1s, s=50, alpha=0.4)\n",
      "\n",
      "\n",
      "ax.axvline(x=ip_chosen,color='k',ls='dashed')\n",
      "\n",
      "ax.set_xlim(ipx[0], ipx[-1])\n",
      "ax.set_ylim(0, np.max(x1s))\n",
      "ax.set_xlabel(r'$I_p [\\gamma_p^3]$')\n",
      "ax.set_ylabel(r'$n_1, n_2 [\\gamma_p]$')"
     ],
     "language": "python",
     "metadata": {},
     "outputs": [
      {
       "metadata": {},
       "output_type": "pyout",
       "prompt_number": 23,
       "text": [
        "<matplotlib.text.Text at 0x7fa8d2b906d0>"
       ]
      },
      {
       "metadata": {},
       "output_type": "display_data",
       "png": "[encoded data removed]",
       "text": [
        "<matplotlib.figure.Figure at 0x7fa8d3229110>"
       ]
      }
     ],
     "prompt_number": 23
    },
    {
     "cell_type": "markdown",
     "metadata": {},
     "source": [
      "$$L=\\begin{pmatrix}M(k) & Q(k)\\\\\n",
      "-Q^{*}(-k) & -M^{*}(-k)\n",
      "\\end{pmatrix}$$"
     ]
    },
    {
     "cell_type": "markdown",
     "metadata": {},
     "source": [
      "$$M(k)=\\left[\\epsilon(k_{p}+k)-\\omega_{p}-\\frac{i}{2}\\gamma(k_{p}+k)\\right]\\begin{pmatrix}1 & 0\\\\\n",
      "0 & 1\n",
      "\\end{pmatrix}+2n_{p}\\left|X(k_{p}+k)\\right|^{2}\\begin{pmatrix}2 & 1\\\\\n",
      "1 & 2\n",
      "\\end{pmatrix}$$"
     ]
    },
    {
     "cell_type": "markdown",
     "metadata": {},
     "source": [
      "$$Q(k)=n_{p}e^{2i\\phi_{p}}X^{*}(k_{p}+k)X^{*}(k_{p}-k)\\begin{pmatrix}1 & 2\\\\\n",
      "2 & 1\n",
      "\\end{pmatrix}$$"
     ]
    },
    {
     "cell_type": "code",
     "collapsed": false,
     "input": [
      "import numpy as np"
     ],
     "language": "python",
     "metadata": {},
     "outputs": [],
     "prompt_number": 2
    },
    {
     "cell_type": "code",
     "collapsed": false,
     "input": [
      "A = 3*np.mat('1 1; 1 1')\n",
      "B = np.mat('2 2; 2 2')\n",
      "C = np.mat('3 4; 5 6')\n",
      "D = np.mat('7 8; 9 0')\n",
      "np.asarray(np.bmat([[A, B], [C, D]]))"
     ],
     "language": "python",
     "metadata": {},
     "outputs": []
    },
    {
     "cell_type": "code",
     "collapsed": false,
     "input": [],
     "language": "python",
     "metadata": {},
     "outputs": []
    }
   ],
   "metadata": {}
  }
 ]
}