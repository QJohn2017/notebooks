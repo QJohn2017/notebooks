{
 "metadata": {
  "name": "",
  "signature": "sha256:16cf0e07a380625f521dc86e24ec4ea0b7074a209ee408f9cc76d44293ca2a44"
 },
 "nbformat": 3,
 "nbformat_minor": 0,
 "worksheets": [
  {
   "cells": [
    {
     "cell_type": "markdown",
     "metadata": {},
     "source": [
      "<script type=\"text/javascript\">\n",
      "on = \"Show input\";\n",
      "off = \"Hide input\"\n",
      "function onoff(){\n",
      "  currentvalue = document.getElementById('onoff').value;\n",
      "  if(currentvalue == off){\n",
      "    document.getElementById(\"onoff\").value=on;\n",
      "      $('div.input').hide();\n",
      "  }else{\n",
      "    document.getElementById(\"onoff\").value=off;\n",
      "      $('div.input').show();\n",
      "  }\n",
      "}\n",
      "</script>\n",
      "\n",
      "<input type=\"button\" class=\"ui-button ui-widget ui-state-default\n",
      "ui-corner-all ui-button-text-only\" value=\"Hide input\" id=\"onoff\"\n",
      "onclick=\"onoff();\">"
     ]
    },
    {
     "cell_type": "code",
     "collapsed": false,
     "input": [
      "import numpy as np\n",
      "\n",
      "import matplotlib.pyplot as plt\n",
      "from scipy import optimize\n",
      "\n",
      "from phcpy.phcpy2c import py2c_set_seed\n",
      "from phcpy.solver import solve\n",
      "from phcpy.solutions import strsol2dict"
     ],
     "language": "python",
     "metadata": {},
     "outputs": [
      {
       "output_type": "stream",
       "stream": "stdout",
       "text": [
        "PHCv2.3.86 released 2013-12-20 works!\n"
       ]
      }
     ],
     "prompt_number": 1
    },
    {
     "cell_type": "code",
     "collapsed": false,
     "input": [
      "# System parameters\n",
      "omega_X = omega_C0 = 1.4\n",
      "kz = 20.0\n",
      "Omega_R = 2.2*10**(-3)\n",
      "gamma_X = 0.1*10**(-3)\n",
      "gamma_C = 0.1*10**(-3)\n",
      "k_pmpx = 0.6\n",
      "k_pmpy = 0.0\n",
      "\n",
      "ip_chosen = 6.5"
     ],
     "language": "python",
     "metadata": {},
     "outputs": [],
     "prompt_number": 2
    },
    {
     "cell_type": "code",
     "collapsed": false,
     "input": [
      "gp = gamma_C + (1 / np.sqrt(1 + (Omega_R / ((0.5 * ((omega_C0 * np.sqrt(1 + (np.sqrt(k_pmpx**2 + k_pmpy**2) / kz)**2)) + omega_X) - 0.5 * np.sqrt(((omega_C0 * np.sqrt(1 + (np.sqrt(k_pmpx**2 + k_pmpy**2) / kz)**2)) - omega_X)**2 + 4*Omega_R**2)) - (omega_C0 * np.sqrt(1 + (np.sqrt(k_pmpx**2 + k_pmpy**2) / kz)**2))))**2))**2 * (gamma_X - gamma_C)"
     ],
     "language": "python",
     "metadata": {},
     "outputs": [],
     "prompt_number": 3
    },
    {
     "cell_type": "code",
     "collapsed": false,
     "input": [
      "# Computational parameters\n",
      "\n",
      "# nkx -> number of columns\n",
      "# nky -> number of rows\n",
      "# M[row,col]\n",
      "\n",
      "nkx = nky = nk = 512\n",
      "delta_k = 0.05\n",
      "\n",
      "side_k = nk * delta_k / 2\n",
      "side_r = np.pi / delta_k\n",
      "delta_r = np.pi / side_k\n",
      "\n",
      "x = y = np.arange(-side_r, side_r, delta_r)\n",
      "kx = ky = np.arange(-side_k, side_k, delta_k)\n",
      "\n",
      "KX, KY = np.meshgrid(kx, ky)\n",
      "X, Y = np.meshgrid(x, y)\n",
      "\n",
      "ipx = np.linspace(0, 15, 30)"
     ],
     "language": "python",
     "metadata": {},
     "outputs": [],
     "prompt_number": 4
    },
    {
     "cell_type": "code",
     "collapsed": false,
     "input": [
      "#various plotting parameters\n",
      "x_label_k = r'$k_x[\\mu m^{-1}]$'"
     ],
     "language": "python",
     "metadata": {},
     "outputs": [],
     "prompt_number": 5
    },
    {
     "cell_type": "code",
     "collapsed": false,
     "input": [
      "def index_mom(mom):\n",
      "    return int( np.floor( (mom + side_k) / delta_k ) )"
     ],
     "language": "python",
     "metadata": {},
     "outputs": [],
     "prompt_number": 6
    },
    {
     "cell_type": "code",
     "collapsed": false,
     "input": [
      "def enC(kx,ky):\n",
      "    return ( omega_C0 * np.sqrt(1 + (np.sqrt(kx**2 + ky**2) / kz)**2) - omega_X ) / gp"
     ],
     "language": "python",
     "metadata": {},
     "outputs": [],
     "prompt_number": 7
    },
    {
     "cell_type": "code",
     "collapsed": false,
     "input": [
      "def enLP(kx,ky):\n",
      "    return 0.5 * enC(kx,ky) - 0.5 * np.sqrt(enC(kx,ky)**2 + 4*Omega_R**2/gp**2)"
     ],
     "language": "python",
     "metadata": {},
     "outputs": [],
     "prompt_number": 8
    },
    {
     "cell_type": "code",
     "collapsed": false,
     "input": [
      "omega_p_chosen = enLP(k_pmpx, k_pmpy) + 2"
     ],
     "language": "python",
     "metadata": {},
     "outputs": [],
     "prompt_number": 9
    },
    {
     "cell_type": "code",
     "collapsed": false,
     "input": [
      "def hopf_x(kx,ky):\n",
      "    return 1 / np.sqrt(1 + ( (Omega_R/gp) / (enLP(kx,ky) - enC(kx,ky)))**2)"
     ],
     "language": "python",
     "metadata": {},
     "outputs": [],
     "prompt_number": 10
    },
    {
     "cell_type": "code",
     "collapsed": false,
     "input": [
      "def hopf_c(kx,ky):\n",
      "    return -1 / np.sqrt(1 + ((enLP(kx,ky) - enC(kx,ky)) / (Omega_R/gp) )**2)"
     ],
     "language": "python",
     "metadata": {},
     "outputs": [],
     "prompt_number": 11
    },
    {
     "cell_type": "code",
     "collapsed": false,
     "input": [
      "def gamma(kx,ky):\n",
      "    return ( gamma_C + hopf_x(kx,ky)**2 * (gamma_X - gamma_C) ) / gp"
     ],
     "language": "python",
     "metadata": {},
     "outputs": [],
     "prompt_number": 12
    },
    {
     "cell_type": "code",
     "collapsed": false,
     "input": [
      "def gammaXC(kx,gX,gC):\n",
      "    return ( gC + hopf_x(kx,0)**2 * (gX - gC) ) / (gp*10**3)"
     ],
     "language": "python",
     "metadata": {},
     "outputs": [],
     "prompt_number": 13
    },
    {
     "cell_type": "code",
     "collapsed": false,
     "input": [
      "#some more parameters\n",
      "#k plotting interval\n",
      "kl, kr = -4, 4\n",
      "kxl, kxr = index_mom(kl), index_mom(kr)\n",
      "\n",
      "ep = enLP(k_pmpx,k_pmpy) \n",
      "xp = hopf_x(k_pmpx,k_pmpy)\n",
      "cp = hopf_c(k_pmpx, k_pmpy)"
     ],
     "language": "python",
     "metadata": {},
     "outputs": [],
     "prompt_number": 14
    },
    {
     "cell_type": "heading",
     "level": 1,
     "metadata": {},
     "source": [
      "Lower polariton dispersion"
     ]
    },
    {
     "cell_type": "code",
     "collapsed": false,
     "input": [
      "LP = enLP(KX, KY)\n",
      "G = gamma(KX, KY) / 2"
     ],
     "language": "python",
     "metadata": {},
     "outputs": [],
     "prompt_number": 15
    },
    {
     "cell_type": "code",
     "collapsed": false,
     "input": [
      "fig, ax = plt.subplots()\n",
      "\n",
      "ax.plot(KX[nky/2,kxl:kxr], LP[nky/2,kxl:kxr], 'k-.')\n",
      "ax.fill_between(KX[nky/2,kxl:kxr], LP[nky/2,kxl:kxr] - G[nky/2,kxl:kxr]/2,\\\n",
      "                LP[nky/2,kxl:kxr] + G[nky/2,kxl:kxr]/2, color='0.75', alpha=0.5)\n",
      "\n",
      "ax.axhline(y=ep + 0.5 * np.sqrt(3), color='r', ls='dashed')\n",
      "\n",
      "ax.scatter(k_pmpx, omega_p_chosen, c='red')\n",
      "\n",
      "ax.set_title('bare LP dispersion')\n",
      "ax.set_xlim(kl, kr)\n",
      "ax.set_xlabel(x_label_k)\n",
      "ax.set_ylabel(r'$\\epsilon-\\omega_X[\\gamma_p]$')"
     ],
     "language": "python",
     "metadata": {},
     "outputs": [
      {
       "metadata": {},
       "output_type": "pyout",
       "prompt_number": 16,
       "text": [
        "<matplotlib.text.Text at 0x7f6c73ffec90>"
       ]
      },
      {
       "metadata": {},
       "output_type": "display_data",
       "png": "[encoded data removed]",
       "text": [
        "<matplotlib.figure.Figure at 0x7f6c74046a50>"
       ]
      }
     ],
     "prompt_number": 16
    },
    {
     "cell_type": "heading",
     "level": 1,
     "metadata": {},
     "source": [
      "Pump-only stability curve"
     ]
    },
    {
     "cell_type": "markdown",
     "metadata": {},
     "source": [
      "$$\\left[\\left(\\epsilon_{p}-\\omega_{p}+X_{p}^{2}n_{p}\\right)^{2}+\\frac{1}{4}\\right]n_{p}-X_{p}^{4}I_{p}=0$$"
     ]
    },
    {
     "cell_type": "heading",
     "level": 1,
     "metadata": {},
     "source": [
      "Mean-field equations"
     ]
    },
    {
     "cell_type": "markdown",
     "metadata": {},
     "source": [
      "$$\\left[\\left(\\epsilon_{p}-\\omega_{p}+\\left|X_{p}\\right|^{2}\\left(n_{1}+2n_{2}\\right)\\right)^{2}+\\frac{1}{4}\\right]n_{1}-\\left|X_{p}\\right|^{4}I_{p}=0$$\n",
      "$$\\left[\\left(\\epsilon_{p}-\\omega_{p}+\\left|X_{p}\\right|^{2}\\left(2n_{1}+n_{2}\\right)\\right)^{2}+\\frac{1}{4}\\right]n_{2}-\\left|X_{p}\\right|^{4}I_{p}=0$$"
     ]
    },
    {
     "cell_type": "code",
     "collapsed": false,
     "input": [
      "#from sympy import *\n",
      "#from sympy.core.function import AppliedUndef\n",
      "#from sympy.strategies.traverse import bottom_up\n",
      "#from sympy.strategies import chain, rebuild\n",
      "#import collections\n",
      "#from sympy.unify import unify\n",
      "#init_printing(use_unicode=True)"
     ],
     "language": "python",
     "metadata": {},
     "outputs": [],
     "prompt_number": 17
    },
    {
     "cell_type": "code",
     "collapsed": false,
     "input": [
      "#epsp, omgp, icsp, x1, x2, ipump = symbols('epsilon_p, omega_p, X_p, x_1, x_2, I_p')"
     ],
     "language": "python",
     "metadata": {},
     "outputs": [],
     "prompt_number": 18
    },
    {
     "cell_type": "code",
     "collapsed": false,
     "input": [
      "#eq1 = ((epsp-omgp+icsp**2*(x2+2*x1))**2+Rational(1,4))*x2-icsp**4*ipump; eq1"
     ],
     "language": "python",
     "metadata": {},
     "outputs": [],
     "prompt_number": 19
    },
    {
     "cell_type": "code",
     "collapsed": false,
     "input": [
      "#expr = expand(eq1)"
     ],
     "language": "python",
     "metadata": {},
     "outputs": [],
     "prompt_number": 20
    },
    {
     "cell_type": "code",
     "collapsed": false,
     "input": [
      "#a = poly(expr,x1,x2); a"
     ],
     "language": "python",
     "metadata": {},
     "outputs": [],
     "prompt_number": 21
    },
    {
     "cell_type": "code",
     "collapsed": false,
     "input": [
      "def eqs(ip):\n",
      "\n",
      "    #x1 -> n_1\n",
      "    #x2 -> n_2\n",
      "       \n",
      "    eq1 = \"{0:+.16f}*x1^3{1:+.16f}*x1^2*x2{2:+.16f}*x1*x2^2{3:+.16f}*x1^2{4:+.16f}*x1*x2{5:+.16f}*x1{6:+.16f};\"\\\n",
      "          .format(xp**4, 4*xp**4, 4*xp**4, 2*xp**2*(ep-omega_p_chosen), 4*xp**2*(ep-omega_p_chosen), (ep-omega_p_chosen)**2+1./4, -ip*xp**4)\n",
      "    eq2 = \"{0:+.16f}*x2^3{1:+.16f}*x1^2*x2{2:+.16f}*x1*x2^2{3:+.16f}*x2^2{4:+.16f}*x1*x2{5:+.16f}*x2{6:+.16f};\"\\\n",
      "          .format(xp**4, 4*xp**4, 4*xp**4, 2*xp**2*(ep-omega_p_chosen), 4*xp**2*(ep-omega_p_chosen), (ep-omega_p_chosen)**2+1./4, -ip*xp**4)\n",
      "\n",
      "    f = [eq1, eq2]\n",
      "    \n",
      "    #seeding random number generator for reproducible results\n",
      "    py2c_set_seed(130683)\n",
      "    \n",
      "    s = solve(f,silent=True)\n",
      "    ns = len(s) #number of solutions\n",
      "\n",
      "    R = []\n",
      "    for k in range(ns):\n",
      "        d = strsol2dict(s[k])\n",
      "        x12 = np.array([d['x1'], d['x2']])\n",
      "        real = np.real(x12)\n",
      "        imag = np.fabs(np.imag(x12))\n",
      "        sol = np.empty((real.size + imag.size,), dtype=real.dtype)\n",
      "        sol[0::2] = real\n",
      "        sol[1::2] = imag\n",
      "        if np.allclose(imag, np.zeros(2)):\n",
      "                R.append((sol[0], sol[2], ip))\n",
      "    return R"
     ],
     "language": "python",
     "metadata": {},
     "outputs": [],
     "prompt_number": 22
    },
    {
     "cell_type": "code",
     "collapsed": false,
     "input": [],
     "language": "python",
     "metadata": {},
     "outputs": []
    },
    {
     "cell_type": "code",
     "collapsed": false,
     "input": [
      "solutions = []\n",
      "for pmp_int in ipx:\n",
      "    solutions.append(eqs(pmp_int))"
     ],
     "language": "python",
     "metadata": {},
     "outputs": [],
     "prompt_number": 23
    },
    {
     "cell_type": "code",
     "collapsed": false,
     "input": [
      "solutions"
     ],
     "language": "python",
     "metadata": {},
     "outputs": [
      {
       "metadata": {},
       "output_type": "pyout",
       "prompt_number": 26,
       "text": [
        "[[(0.0, 0.0, 0.0)],\n",
        " [(0.0425211462554251, 0.0425211462554251, 0.51724137931034486)],\n",
        " [(1.2498451500425001, 1.2498451500425001, 1.0344827586206897),\n",
        "  (0.092590166569565494, 0.092590166569565494, 1.0344827586206897),\n",
        "  (0.99325251339703602, 0.99325251339703602, 1.0344827586206897)],\n",
        " [(1.9986351363210999, 0.70443532302749601, 1.5517241379310347),\n",
        "  (0.70443532302749601, 1.9986351363210999, 1.5517241379310347),\n",
        "  (1.3694778714831499, 1.3694778714831499, 1.5517241379310347),\n",
        "  (0.15524379603119401, 0.15524379603119401, 1.5517241379310347),\n",
        "  (0.81096616249475595, 0.81096616249475595, 1.5517241379310347)],\n",
        " [(2.66305660359864, 0.37088446436300998, 2.0689655172413794),\n",
        "  (0.37088446436300998, 2.66305660359864, 2.0689655172413794),\n",
        "  (1.44050675971005, 1.44050675971005, 2.0689655172413794),\n",
        "  (0.24572164908924499, 0.24572164908924499, 2.0689655172413794),\n",
        "  (0.64945942120980305, 0.64945942120980305, 2.0689655172413794)],\n",
        " [(3.2169218621172102, 0.239179136667419, 2.5862068965517242),\n",
        "  (0.23917913666742099, 3.2169218621172102, 2.5862068965517242),\n",
        "  (1.4949224198978499, 1.4949224198978499, 2.5862068965517242)],\n",
        " [(3.4176770455524998, 0.23060185198264599, 3.1034482758620694),\n",
        "  (0.23060185198264599, 3.4176770455524998, 3.1034482758620694),\n",
        "  (1.5401940160784, 1.5401940160784, 3.1034482758620694)],\n",
        " [(0.237523515292419, 3.5353926707742702, 3.6206896551724141),\n",
        "  (1.57949815304986, 1.57949815304986, 3.6206896551724141)],\n",
        " [(0.24868214376879, 3.6194254762282601, 4.1379310344827589),\n",
        "  (1.61453054250533, 1.61453054250533, 4.1379310344827589),\n",
        "  (3.6194254762282601, 0.24868214376879, 4.1379310344827589)],\n",
        " [(0.26142206463724299, 3.6850281155129099, 4.6551724137931041),\n",
        "  (1.6463197945317201, 1.6463197945317201, 4.6551724137931041),\n",
        "  (3.6850281155129099, 0.26142206463724299, 4.6551724137931041)],\n",
        " [(0.27480396833071802, 3.73892406462017, 5.1724137931034484),\n",
        "  (1.6755440313463501, 1.6755440313463501, 5.1724137931034484),\n",
        "  (3.73892406462017, 0.27480396833071802, 5.1724137931034484)],\n",
        " [(0.28842274810914298, 3.7846867715414798, 5.6896551724137936),\n",
        "  (1.7026774468543699, 1.7026774468543699, 5.6896551724137936),\n",
        "  (3.7846867715414798, 0.28842274810914298, 5.6896551724137936)],\n",
        " [(0.302082998855492, 3.8244498354355998, 6.2068965517241388),\n",
        "  (1.7280665637705099, 1.7280665637704999, 6.2068965517241388),\n",
        "  (3.8244498354355998, 0.302082998855492, 6.2068965517241388)],\n",
        " [(0.315684292737207, 3.8595928905943602, 6.7241379310344831),\n",
        "  (1.7519734257778701, 1.7519734257778701, 6.7241379310344831),\n",
        "  (3.8595928905943602, 0.315684292737207, 6.7241379310344831)],\n",
        " [(0.32917354900299101, 3.89106148132166, 7.2413793103448283),\n",
        "  (1.77460169748954, 1.77460169748954, 7.2413793103448283),\n",
        "  (3.89106148132166, 0.32917354900299101, 7.2413793103448283)],\n",
        " [(0.34252292626806602, 3.91953305210331, 7.7586206896551726),\n",
        "  (1.7961132635880399, 1.7961132635880399, 7.7586206896551726),\n",
        "  (3.91953305210331, 0.34252292626806602, 7.7586206896551726)],\n",
        " [(0.35571868804004397, 3.94551024999714, 8.2758620689655178),\n",
        "  (1.8166392329613801, 1.8166392329613801, 8.2758620689655178),\n",
        "  (3.94551024999714, 0.35571868804004397, 8.2758620689655178)],\n",
        " [(0.36875523717200598, 3.9693767366511898, 8.793103448275863),\n",
        "  (1.8362874890069301, 1.8362874890069301, 8.793103448275863),\n",
        "  (3.9693767366511898, 0.36875523717200698, 8.793103448275863)],\n",
        " [(0.381631763359637, 3.99143228254909, 9.3103448275862082),\n",
        "  (1.85514802255426, 1.85514802255426, 9.3103448275862082),\n",
        "  (3.99143228254909, 0.381631763359637, 9.3103448275862082)],\n",
        " [(0.39435028781414999, 4.0119157565768404, 9.8275862068965516),\n",
        "  (1.87329679314777, 1.87329679314776, 9.8275862068965516),\n",
        "  (4.0119157565768404, 0.39435028781414999, 9.8275862068965516)],\n",
        " [(0.40691448964379601, 4.0310207106215001, 10.344827586206897),\n",
        "  (1.89079858539556, 1.89079858539556, 10.344827586206897),\n",
        "  (4.0310207106215001, 0.40691448964379601, 10.344827586206897)],\n",
        " [(0.41932898611757602, 4.04890625591334, 10.862068965517242),\n",
        "  (1.90770916190074, 1.90770916190074, 10.862068965517242),\n",
        "  (4.04890625591334, 0.41932898611757602, 10.862068965517242)],\n",
        " [(0.43159888463131701, 4.0657048455856897, 11.379310344827587),\n",
        "  (1.9240769130373401, 1.9240769130373401, 11.379310344827587),\n",
        "  (4.0657048455856897, 0.43159888463131701, 11.379310344827587)],\n",
        " [(0.44372950145437201, 4.0815279657551704, 11.896551724137932),\n",
        "  (1.9399441398573101, 1.9399441398573101, 11.896551724137932),\n",
        "  (4.0815279657551704, 0.44372950145437201, 11.896551724137932)],\n",
        " [(0.45572618497031803, 4.0964703772506503, 12.413793103448278),\n",
        "  (1.95534806489686, 1.95534806489686, 12.413793103448278),\n",
        "  (4.0964703772506503, 0.45572618497031803, 12.413793103448278)],\n",
        " [(0.46759420546668001, 4.1106133308421802, 12.931034482758621),\n",
        "  (1.9703216380605599, 1.9703216380605599, 12.931034482758621),\n",
        "  (4.1106133308421802, 0.46759420546668001, 12.931034482758621)],\n",
        " [(0.47933868784123701, 4.1240270412631803, 13.448275862068966),\n",
        "  (1.9848941860332101, 1.9848941860331999, 13.448275862068966),\n",
        "  (4.1240270412631803, 0.47933868784123701, 13.448275862068966)],\n",
        " [(0.49096457222645601, 4.1367726167074803, 13.965517241379311),\n",
        "  (1.9990919407118799, 1.9990919407118799, 13.965517241379311),\n",
        "  (4.1367726167074803, 0.49096457222645601, 13.965517241379311)],\n",
        " [(0.50247659286017299, 4.1489035820377502, 14.482758620689657),\n",
        "  (2.0129384730295898, 2.0129384730295898, 14.482758620689657),\n",
        "  (4.1489035820377502, 0.50247659286017299, 14.482758620689657)],\n",
        " [(0.51387926888195601, 4.1604670945679896, 15.0),\n",
        "  (2.0264550520190299, 2.0264550520190299, 15.0),\n",
        "  (4.1604670945679896, 0.51387926888195601, 15.0)]]"
       ]
      }
     ],
     "prompt_number": 26
    },
    {
     "cell_type": "code",
     "collapsed": false,
     "input": [
      "plt.scatter([1,2,2],[4,5,6])"
     ],
     "language": "python",
     "metadata": {},
     "outputs": [
      {
       "metadata": {},
       "output_type": "pyout",
       "prompt_number": 31,
       "text": [
        "<matplotlib.collections.PathCollection at 0x7f6c73978b10>"
       ]
      },
      {
       "metadata": {},
       "output_type": "display_data",
       "png": "[encoded data removed]",
       "text": [
        "<matplotlib.figure.Figure at 0x7f6c73e42d50>"
       ]
      }
     ],
     "prompt_number": 31
    },
    {
     "cell_type": "code",
     "collapsed": false,
     "input": [
      "solutions_v2 = [sol for sol in solutions if sol != []]"
     ],
     "language": "python",
     "metadata": {},
     "outputs": [],
     "prompt_number": 24
    },
    {
     "cell_type": "code",
     "collapsed": false,
     "input": [
      "nsnpip = []\n",
      "for idx in range(1,3):\n",
      "    nsnpip.append( np.array([tple[idx] for lst in solutions_v2 for tple in lst]) )"
     ],
     "language": "python",
     "metadata": {},
     "outputs": [],
     "prompt_number": 27
    },
    {
     "cell_type": "code",
     "collapsed": false,
     "input": [
      "def n_hom_mf(ips):\n",
      "    return np.array([optimize.brentq(lambda n: ((ep-omega_p_chosen+xp**2*n)**2+1/4)*n - xp**4 * ip, 0,3) for ip in ips])"
     ],
     "language": "python",
     "metadata": {},
     "outputs": [],
     "prompt_number": 28
    },
    {
     "cell_type": "code",
     "collapsed": false,
     "input": [
      "fig, ax = plt.subplots()\n",
      "\n",
      "ax.plot(ipx, n_hom_mf(ipx), linestyle='none', marker='o', markerfacecolor='black')\n",
      "\n",
      "for idx in [0,1]:\n",
      "    ax.plot(nsnpip[2], nsnpip[idx], linestyle='none', marker='o', markerfacecolor=color_spi[idx])\n",
      "\n",
      "ax.plot(nsnpip[2], alpha * nsnpip[0], linestyle='none', marker='o', markerfacecolor=color_spi[2])\n",
      "\n",
      "ax.axvline(x=ip_chosen,color='k',ls='dashed')\n",
      "\n",
      "ax.set_xlim(ipx[0], ipx[-1])\n",
      "ax.set_xlabel(r'$I_p [\\gamma_p^3]$')\n",
      "ax.set_ylabel(r'$n_s, n_p [\\gamma_p]$')"
     ],
     "language": "python",
     "metadata": {},
     "outputs": [
      {
       "ename": "ValueError",
       "evalue": "f(a) and f(b) must have different signs",
       "output_type": "pyerr",
       "traceback": [
        "\u001b[1;31m---------------------------------------------------------------------------\u001b[0m\n\u001b[1;31mValueError\u001b[0m                                Traceback (most recent call last)",
        "\u001b[1;32m<ipython-input-29-667086033dc3>\u001b[0m in \u001b[0;36m<module>\u001b[1;34m()\u001b[0m\n\u001b[0;32m      1\u001b[0m \u001b[0mfig\u001b[0m\u001b[1;33m,\u001b[0m \u001b[0max\u001b[0m \u001b[1;33m=\u001b[0m \u001b[0mplt\u001b[0m\u001b[1;33m.\u001b[0m\u001b[0msubplots\u001b[0m\u001b[1;33m(\u001b[0m\u001b[1;33m)\u001b[0m\u001b[1;33m\u001b[0m\u001b[0m\n\u001b[0;32m      2\u001b[0m \u001b[1;33m\u001b[0m\u001b[0m\n\u001b[1;32m----> 3\u001b[1;33m \u001b[0max\u001b[0m\u001b[1;33m.\u001b[0m\u001b[0mplot\u001b[0m\u001b[1;33m(\u001b[0m\u001b[0mipx\u001b[0m\u001b[1;33m,\u001b[0m \u001b[0mn_hom_mf\u001b[0m\u001b[1;33m(\u001b[0m\u001b[0mipx\u001b[0m\u001b[1;33m)\u001b[0m\u001b[1;33m,\u001b[0m \u001b[0mlinestyle\u001b[0m\u001b[1;33m=\u001b[0m\u001b[1;34m'none'\u001b[0m\u001b[1;33m,\u001b[0m \u001b[0mmarker\u001b[0m\u001b[1;33m=\u001b[0m\u001b[1;34m'o'\u001b[0m\u001b[1;33m,\u001b[0m \u001b[0mmarkerfacecolor\u001b[0m\u001b[1;33m=\u001b[0m\u001b[1;34m'black'\u001b[0m\u001b[1;33m)\u001b[0m\u001b[1;33m\u001b[0m\u001b[0m\n\u001b[0m\u001b[0;32m      4\u001b[0m \u001b[1;33m\u001b[0m\u001b[0m\n\u001b[0;32m      5\u001b[0m \u001b[1;32mfor\u001b[0m \u001b[0midx\u001b[0m \u001b[1;32min\u001b[0m \u001b[1;33m[\u001b[0m\u001b[1;36m0\u001b[0m\u001b[1;33m,\u001b[0m\u001b[1;36m1\u001b[0m\u001b[1;33m]\u001b[0m\u001b[1;33m:\u001b[0m\u001b[1;33m\u001b[0m\u001b[0m\n",
        "\u001b[1;32m<ipython-input-28-e966d26d4ecc>\u001b[0m in \u001b[0;36mn_hom_mf\u001b[1;34m(ips)\u001b[0m\n\u001b[0;32m      1\u001b[0m \u001b[1;32mdef\u001b[0m \u001b[0mn_hom_mf\u001b[0m\u001b[1;33m(\u001b[0m\u001b[0mips\u001b[0m\u001b[1;33m)\u001b[0m\u001b[1;33m:\u001b[0m\u001b[1;33m\u001b[0m\u001b[0m\n\u001b[1;32m----> 2\u001b[1;33m     \u001b[1;32mreturn\u001b[0m \u001b[0mnp\u001b[0m\u001b[1;33m.\u001b[0m\u001b[0marray\u001b[0m\u001b[1;33m(\u001b[0m\u001b[1;33m[\u001b[0m\u001b[0moptimize\u001b[0m\u001b[1;33m.\u001b[0m\u001b[0mbrentq\u001b[0m\u001b[1;33m(\u001b[0m\u001b[1;32mlambda\u001b[0m \u001b[0mn\u001b[0m\u001b[1;33m:\u001b[0m \u001b[1;33m(\u001b[0m\u001b[1;33m(\u001b[0m\u001b[0mep\u001b[0m\u001b[1;33m-\u001b[0m\u001b[0momega_p_chosen\u001b[0m\u001b[1;33m+\u001b[0m\u001b[0mxp\u001b[0m\u001b[1;33m**\u001b[0m\u001b[1;36m2\u001b[0m\u001b[1;33m*\u001b[0m\u001b[0mn\u001b[0m\u001b[1;33m)\u001b[0m\u001b[1;33m**\u001b[0m\u001b[1;36m2\u001b[0m\u001b[1;33m+\u001b[0m\u001b[1;36m1\u001b[0m\u001b[1;33m/\u001b[0m\u001b[1;36m4\u001b[0m\u001b[1;33m)\u001b[0m\u001b[1;33m*\u001b[0m\u001b[0mn\u001b[0m \u001b[1;33m-\u001b[0m \u001b[0mxp\u001b[0m\u001b[1;33m**\u001b[0m\u001b[1;36m4\u001b[0m \u001b[1;33m*\u001b[0m \u001b[0mip\u001b[0m\u001b[1;33m,\u001b[0m \u001b[1;36m0\u001b[0m\u001b[1;33m,\u001b[0m\u001b[1;36m3\u001b[0m\u001b[1;33m)\u001b[0m \u001b[1;32mfor\u001b[0m \u001b[0mip\u001b[0m \u001b[1;32min\u001b[0m \u001b[0mips\u001b[0m\u001b[1;33m]\u001b[0m\u001b[1;33m)\u001b[0m\u001b[1;33m\u001b[0m\u001b[0m\n\u001b[0m",
        "\u001b[1;32m/usr/lib/python2.7/site-packages/scipy/optimize/zeros.pyc\u001b[0m in \u001b[0;36mbrentq\u001b[1;34m(f, a, b, args, xtol, rtol, maxiter, full_output, disp)\u001b[0m\n\u001b[0;32m    413\u001b[0m     \u001b[1;32mif\u001b[0m \u001b[0mrtol\u001b[0m \u001b[1;33m<\u001b[0m \u001b[0m_rtol\u001b[0m\u001b[1;33m:\u001b[0m\u001b[1;33m\u001b[0m\u001b[0m\n\u001b[0;32m    414\u001b[0m         \u001b[1;32mraise\u001b[0m \u001b[0mValueError\u001b[0m\u001b[1;33m(\u001b[0m\u001b[1;34m\"rtol too small (%g < %g)\"\u001b[0m \u001b[1;33m%\u001b[0m \u001b[1;33m(\u001b[0m\u001b[0mrtol\u001b[0m\u001b[1;33m,\u001b[0m \u001b[0m_rtol\u001b[0m\u001b[1;33m)\u001b[0m\u001b[1;33m)\u001b[0m\u001b[1;33m\u001b[0m\u001b[0m\n\u001b[1;32m--> 415\u001b[1;33m     \u001b[0mr\u001b[0m \u001b[1;33m=\u001b[0m \u001b[0m_zeros\u001b[0m\u001b[1;33m.\u001b[0m\u001b[0m_brentq\u001b[0m\u001b[1;33m(\u001b[0m\u001b[0mf\u001b[0m\u001b[1;33m,\u001b[0m\u001b[0ma\u001b[0m\u001b[1;33m,\u001b[0m\u001b[0mb\u001b[0m\u001b[1;33m,\u001b[0m\u001b[0mxtol\u001b[0m\u001b[1;33m,\u001b[0m\u001b[0mrtol\u001b[0m\u001b[1;33m,\u001b[0m\u001b[0mmaxiter\u001b[0m\u001b[1;33m,\u001b[0m\u001b[0margs\u001b[0m\u001b[1;33m,\u001b[0m\u001b[0mfull_output\u001b[0m\u001b[1;33m,\u001b[0m\u001b[0mdisp\u001b[0m\u001b[1;33m)\u001b[0m\u001b[1;33m\u001b[0m\u001b[0m\n\u001b[0m\u001b[0;32m    416\u001b[0m     \u001b[1;32mreturn\u001b[0m \u001b[0mresults_c\u001b[0m\u001b[1;33m(\u001b[0m\u001b[0mfull_output\u001b[0m\u001b[1;33m,\u001b[0m \u001b[0mr\u001b[0m\u001b[1;33m)\u001b[0m\u001b[1;33m\u001b[0m\u001b[0m\n\u001b[0;32m    417\u001b[0m \u001b[1;33m\u001b[0m\u001b[0m\n",
        "\u001b[1;31mValueError\u001b[0m: f(a) and f(b) must have different signs"
       ]
      },
      {
       "metadata": {},
       "output_type": "display_data",
       "png": "[encoded data removed]",
       "text": [
        "<matplotlib.figure.Figure at 0x7f6c73e42d50>"
       ]
      }
     ],
     "prompt_number": 29
    }
   ],
   "metadata": {}
  }
 ]
}