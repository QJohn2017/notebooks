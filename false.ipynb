{
 "metadata": {
  "name": "",
  "signature": "sha256:c3549d84cc9e2b186759cf2aa566d5d34fb6c3c8762c6548bf9ce2a882ca82d7"
 },
 "nbformat": 3,
 "nbformat_minor": 0,
 "worksheets": [
  {
   "cells": [
    {
     "cell_type": "code",
     "collapsed": false,
     "input": [
      "from sympy import *\n",
      "init_printing(use_unicode=True)"
     ],
     "language": "python",
     "metadata": {},
     "outputs": [],
     "prompt_number": 18
    },
    {
     "cell_type": "code",
     "collapsed": false,
     "input": [
      "S, M, Q = symbols('S M Q', cls=Function)\n",
      "k = symbols('k', integer=True)\n",
      "alpha, phip = symbols('alpha phi_p', real=True)"
     ],
     "language": "python",
     "metadata": {},
     "outputs": [],
     "prompt_number": 34
    },
    {
     "cell_type": "code",
     "collapsed": false,
     "input": [
      "Cmat = Matrix([[1, 2], [2, 1]]); Cmat"
     ],
     "language": "python",
     "metadata": {},
     "outputs": [
      {
       "latex": [
        "$$\\left[\\begin{matrix}1 & 2\\\\2 & 1\\end{matrix}\\right]$$"
       ],
       "metadata": {},
       "output_type": "pyout",
       "png": "[encoded data removed]",
       "prompt_number": 24,
       "text": [
        "\u23a11  2\u23a4\n",
        "\u23a2    \u23a5\n",
        "\u23a32  1\u23a6"
       ]
      }
     ],
     "prompt_number": 24
    },
    {
     "cell_type": "code",
     "collapsed": false,
     "input": [
      "mat = Matrix([[(2*alpha**2-1)*S(k)+M(k), -alpha**2*S(k)], [-alpha**2*S(k), (2*alpha**2-1)*S(k)+M(k)]]); mat"
     ],
     "language": "python",
     "metadata": {},
     "outputs": [
      {
       "latex": [
        "$$\\left[\\begin{matrix}\\left(2 \\alpha^{2} - 1\\right) S{\\left (k \\right )} + M{\\left (k \\right )} & - \\alpha^{2} S{\\left (k \\right )}\\\\- \\alpha^{2} S{\\left (k \\right )} & \\left(2 \\alpha^{2} - 1\\right) S{\\left (k \\right )} + M{\\left (k \\right )}\\end{matrix}\\right]$$"
       ],
       "metadata": {},
       "output_type": "pyout",
       "png": "[encoded data removed]",
       "prompt_number": 23,
       "text": [
        "\u23a1\u239b   2    \u239e                       2            \u23a4\n",
        "\u23a2\u239d2\u22c5\u03b1  - 1\u23a0\u22c5S(k) + M(k)         -\u03b1 \u22c5S(k)       \u23a5\n",
        "\u23a2                                              \u23a5\n",
        "\u23a2         2              \u239b   2    \u239e            \u23a5\n",
        "\u23a3       -\u03b1 \u22c5S(k)         \u239d2\u22c5\u03b1  - 1\u23a0\u22c5S(k) + M(k)\u23a6"
       ]
      }
     ],
     "prompt_number": 23
    },
    {
     "cell_type": "code",
     "collapsed": false,
     "input": [
      "Cmat*mat*Cmat"
     ],
     "language": "python",
     "metadata": {},
     "outputs": [
      {
       "latex": [
        "$$\\left[\\begin{matrix}- 4 \\alpha^{2} S{\\left (k \\right )} + 5 \\left(2 \\alpha^{2} - 1\\right) S{\\left (k \\right )} + 5 M{\\left (k \\right )} & - 5 \\alpha^{2} S{\\left (k \\right )} + 4 \\left(2 \\alpha^{2} - 1\\right) S{\\left (k \\right )} + 4 M{\\left (k \\right )}\\\\- 5 \\alpha^{2} S{\\left (k \\right )} + 4 \\left(2 \\alpha^{2} - 1\\right) S{\\left (k \\right )} + 4 M{\\left (k \\right )} & - 4 \\alpha^{2} S{\\left (k \\right )} + 5 \\left(2 \\alpha^{2} - 1\\right) S{\\left (k \\right )} + 5 M{\\left (k \\right )}\\end{matrix}\\right]$$"
       ],
       "metadata": {},
       "output_type": "pyout",
       "png": "[encoded data removed]",
       "prompt_number": 25,
       "text": [
        "\u23a1     2          \u239b   2    \u239e                     2          \u239b   2    \u239e         \n",
        "\u23a2- 4\u22c5\u03b1 \u22c5S(k) + 5\u22c5\u239d2\u22c5\u03b1  - 1\u23a0\u22c5S(k) + 5\u22c5M(k)  - 5\u22c5\u03b1 \u22c5S(k) + 4\u22c5\u239d2\u22c5\u03b1  - 1\u23a0\u22c5S(k) + 4\n",
        "\u23a2                                                                             \n",
        "\u23a2     2          \u239b   2    \u239e                     2          \u239b   2    \u239e         \n",
        "\u23a3- 5\u22c5\u03b1 \u22c5S(k) + 4\u22c5\u239d2\u22c5\u03b1  - 1\u23a0\u22c5S(k) + 4\u22c5M(k)  - 4\u22c5\u03b1 \u22c5S(k) + 5\u22c5\u239d2\u22c5\u03b1  - 1\u23a0\u22c5S(k) + 5\n",
        "\n",
        "     \u23a4\n",
        "\u22c5M(k)\u23a5\n",
        "     \u23a5\n",
        "     \u23a5\n",
        "\u22c5M(k)\u23a6"
       ]
      }
     ],
     "prompt_number": 25
    },
    {
     "cell_type": "code",
     "collapsed": false,
     "input": [
      "simplify(_)"
     ],
     "language": "python",
     "metadata": {},
     "outputs": [
      {
       "latex": [
        "$$\\left[\\begin{matrix}6 \\alpha^{2} S{\\left (k \\right )} + 5 M{\\left (k \\right )} - 5 S{\\left (k \\right )} & 3 \\alpha^{2} S{\\left (k \\right )} + 4 M{\\left (k \\right )} - 4 S{\\left (k \\right )}\\\\3 \\alpha^{2} S{\\left (k \\right )} + 4 M{\\left (k \\right )} - 4 S{\\left (k \\right )} & 6 \\alpha^{2} S{\\left (k \\right )} + 5 M{\\left (k \\right )} - 5 S{\\left (k \\right )}\\end{matrix}\\right]$$"
       ],
       "metadata": {},
       "output_type": "pyout",
       "png": "[encoded data removed]",
       "prompt_number": 26,
       "text": [
        "\u23a1   2                            2                       \u23a4\n",
        "\u23a26\u22c5\u03b1 \u22c5S(k) + 5\u22c5M(k) - 5\u22c5S(k)  3\u22c5\u03b1 \u22c5S(k) + 4\u22c5M(k) - 4\u22c5S(k)\u23a5\n",
        "\u23a2                                                        \u23a5\n",
        "\u23a2   2                            2                       \u23a5\n",
        "\u23a33\u22c5\u03b1 \u22c5S(k) + 4\u22c5M(k) - 4\u22c5S(k)  6\u22c5\u03b1 \u22c5S(k) + 5\u22c5M(k) - 5\u22c5S(k)\u23a6"
       ]
      }
     ],
     "prompt_number": 26
    },
    {
     "cell_type": "markdown",
     "metadata": {},
     "source": [
      "$$\\left[\\begin{matrix}\\left[2\\alpha^{2}-1\\right]S\\left(k\\right)+M\\left(k\\right) & \\alpha^{2}S\\left(k\\right)\\\\\n",
      "\\alpha^{2}S\\left(k\\right) & \\left[2\\alpha^{2}-1\\right]S\\left(k\\right)+M\\left(k\\right)\n",
      "\\end{matrix}\\right]$$"
     ]
    },
    {
     "cell_type": "markdown",
     "metadata": {},
     "source": [
      "$$\\left[\\begin{matrix}\\left(2\\alpha^{2}-1\\right)S\\left(-k\\right)+M^{*}\\left(-k\\right) & \\alpha^{2}S\\left(-k\\right)\\\\\n",
      "\\alpha^{2}S\\left(-k\\right) & \\left(2\\alpha^{2}-1\\right)S\\left(-k\\right)+M^{*}\\left(-k\\right)\n",
      "\\end{matrix}\\right]$$"
     ]
    },
    {
     "cell_type": "markdown",
     "metadata": {},
     "source": [
      "$$\\alpha^{2}e^{2i\\phi_{p}}Q\\left(k\\right)\\left[\\begin{matrix}1 & 2\\\\\n",
      "2 & 1\n",
      "\\end{matrix}\\right]$$"
     ]
    },
    {
     "cell_type": "code",
     "collapsed": false,
     "input": [
      "A = Matrix([[(2*alpha**2-1)*S(k)+M(k), alpha**2*S(k)], [alpha**2*S(k), (2*alpha**2-1)*S(k)+M(k)]])\n",
      "B = alpha**2*exp(2*I*phip)*Q(k)*Matrix([[1, 2], [2, 1]])\n",
      "C = -alpha**2*exp(-2*I*phip)*conjugate(Q(-k))*Matrix([[1, 2], [2, 1]])\n",
      "D = -Matrix([[(2*alpha**2-1)*S(-k)+conjugate(M(-k)), alpha**2*S(-k)], [alpha**2*S(-k), (2*alpha**2-1)*S(-k)+conjugate(M(-k))]])"
     ],
     "language": "python",
     "metadata": {},
     "outputs": [],
     "prompt_number": 37
    },
    {
     "cell_type": "code",
     "collapsed": false,
     "input": [
      "det1 = simplify(A.det())\n",
      "E = D - C*A.inv()*B\n",
      "det2 = simplify(E.det())"
     ],
     "language": "python",
     "metadata": {},
     "outputs": [],
     "prompt_number": 51
    },
    {
     "cell_type": "code",
     "collapsed": false,
     "input": [
      "dett = simplify(det1*det2)"
     ],
     "language": "python",
     "metadata": {},
     "outputs": [],
     "prompt_number": 70
    },
    {
     "cell_type": "code",
     "collapsed": false,
     "input": [
      "_.subs(alpha,1)"
     ],
     "language": "python",
     "metadata": {},
     "outputs": [
      {
       "latex": [
        "$$2 M^{2}{\\left (k \\right )} S{\\left (- k \\right )} \\overline{M{\\left (- k \\right )}} + M^{2}{\\left (k \\right )} \\overline{M{\\left (- k \\right )}}^{2} - 2 M{\\left (k \\right )} Q{\\left (k \\right )} S{\\left (- k \\right )} \\overline{Q{\\left (- k \\right )}} - 10 M{\\left (k \\right )} Q{\\left (k \\right )} \\overline{M{\\left (- k \\right )}} \\overline{Q{\\left (- k \\right )}} + 4 M{\\left (k \\right )} S{\\left (- k \\right )} S{\\left (k \\right )} \\overline{M{\\left (- k \\right )}} + 2 M{\\left (k \\right )} S{\\left (k \\right )} \\overline{M{\\left (- k \\right )}}^{2} + 9 Q^{2}{\\left (k \\right )} \\overline{Q{\\left (- k \\right )}}^{2} - 4 Q{\\left (k \\right )} S{\\left (- k \\right )} S{\\left (k \\right )} \\overline{Q{\\left (- k \\right )}} - 2 Q{\\left (k \\right )} S{\\left (k \\right )} \\overline{M{\\left (- k \\right )}} \\overline{Q{\\left (- k \\right )}}$$"
       ],
       "metadata": {},
       "output_type": "pyout",
       "png": "[encoded data removed]",
       "prompt_number": 67,
       "text": [
        "                                 2                                            \n",
        "   2          _____    2    _____                      _____                __\n",
        "2\u22c5M (k)\u22c5S(-k)\u22c5M(-k) + M (k)\u22c5M(-k)  - 2\u22c5M(k)\u22c5Q(k)\u22c5S(-k)\u22c5Q(-k) - 10\u22c5M(k)\u22c5Q(k)\u22c5M(\n",
        "\n",
        "                                                       2                2     \n",
        "___ _____                     _____               _____       2    _____      \n",
        "-k)\u22c5Q(-k) + 4\u22c5M(k)\u22c5S(-k)\u22c5S(k)\u22c5M(-k) + 2\u22c5M(k)\u22c5S(k)\u22c5M(-k)  + 9\u22c5Q (k)\u22c5Q(-k)  - 4\u22c5\n",
        "\n",
        "                                               \n",
        "                _____               _____ _____\n",
        "Q(k)\u22c5S(-k)\u22c5S(k)\u22c5Q(-k) - 2\u22c5Q(k)\u22c5S(k)\u22c5M(-k)\u22c5Q(-k)"
       ]
      }
     ],
     "prompt_number": 67
    },
    {
     "cell_type": "code",
     "collapsed": false,
     "input": [
      "simplify(_)"
     ],
     "language": "python",
     "metadata": {},
     "outputs": [
      {
       "latex": [
        "$$2 M^{2}{\\left (k \\right )} S{\\left (- k \\right )} \\overline{M{\\left (- k \\right )}} + M^{2}{\\left (k \\right )} \\overline{M{\\left (- k \\right )}}^{2} - 2 M{\\left (k \\right )} Q{\\left (k \\right )} S{\\left (- k \\right )} \\overline{Q{\\left (- k \\right )}} - 10 M{\\left (k \\right )} Q{\\left (k \\right )} \\overline{M{\\left (- k \\right )}} \\overline{Q{\\left (- k \\right )}} + 4 M{\\left (k \\right )} S{\\left (- k \\right )} S{\\left (k \\right )} \\overline{M{\\left (- k \\right )}} + 2 M{\\left (k \\right )} S{\\left (k \\right )} \\overline{M{\\left (- k \\right )}}^{2} + 9 Q^{2}{\\left (k \\right )} \\overline{Q{\\left (- k \\right )}}^{2} - 4 Q{\\left (k \\right )} S{\\left (- k \\right )} S{\\left (k \\right )} \\overline{Q{\\left (- k \\right )}} - 2 Q{\\left (k \\right )} S{\\left (k \\right )} \\overline{M{\\left (- k \\right )}} \\overline{Q{\\left (- k \\right )}}$$"
       ],
       "metadata": {},
       "output_type": "pyout",
       "png": "[encoded data removed]",
       "prompt_number": 68,
       "text": [
        "                                 2                                            \n",
        "   2          _____    2    _____                      _____                __\n",
        "2\u22c5M (k)\u22c5S(-k)\u22c5M(-k) + M (k)\u22c5M(-k)  - 2\u22c5M(k)\u22c5Q(k)\u22c5S(-k)\u22c5Q(-k) - 10\u22c5M(k)\u22c5Q(k)\u22c5M(\n",
        "\n",
        "                                                       2                2     \n",
        "___ _____                     _____               _____       2    _____      \n",
        "-k)\u22c5Q(-k) + 4\u22c5M(k)\u22c5S(-k)\u22c5S(k)\u22c5M(-k) + 2\u22c5M(k)\u22c5S(k)\u22c5M(-k)  + 9\u22c5Q (k)\u22c5Q(-k)  - 4\u22c5\n",
        "\n",
        "                                               \n",
        "                _____               _____ _____\n",
        "Q(k)\u22c5S(-k)\u22c5S(k)\u22c5Q(-k) - 2\u22c5Q(k)\u22c5S(k)\u22c5M(-k)\u22c5Q(-k)"
       ]
      }
     ],
     "prompt_number": 68
    },
    {
     "cell_type": "code",
     "collapsed": false,
     "input": [
      "dett.collect(M(k)**2*conjugate(M(-k))**2)"
     ],
     "language": "python",
     "metadata": {},
     "outputs": [
      {
       "latex": [
        "$$9 \\alpha^{8} Q^{2}{\\left (k \\right )} \\overline{Q{\\left (- k \\right )}}^{2} - 18 \\alpha^{8} Q{\\left (k \\right )} S{\\left (- k \\right )} S{\\left (k \\right )} \\overline{Q{\\left (- k \\right )}} + 9 \\alpha^{8} S^{2}{\\left (- k \\right )} S^{2}{\\left (k \\right )} - 12 \\alpha^{6} M{\\left (k \\right )} Q{\\left (k \\right )} S{\\left (- k \\right )} \\overline{Q{\\left (- k \\right )}} + 12 \\alpha^{6} M{\\left (k \\right )} S^{2}{\\left (- k \\right )} S{\\left (k \\right )} + 24 \\alpha^{6} Q{\\left (k \\right )} S{\\left (- k \\right )} S{\\left (k \\right )} \\overline{Q{\\left (- k \\right )}} - 12 \\alpha^{6} Q{\\left (k \\right )} S{\\left (k \\right )} \\overline{M{\\left (- k \\right )}} \\overline{Q{\\left (- k \\right )}} - 24 \\alpha^{6} S^{2}{\\left (- k \\right )} S^{2}{\\left (k \\right )} + 12 \\alpha^{6} S{\\left (- k \\right )} S^{2}{\\left (k \\right )} \\overline{M{\\left (- k \\right )}} + 3 \\alpha^{4} M^{2}{\\left (k \\right )} S^{2}{\\left (- k \\right )} + 10 \\alpha^{4} M{\\left (k \\right )} Q{\\left (k \\right )} S{\\left (- k \\right )} \\overline{Q{\\left (- k \\right )}} - 22 \\alpha^{4} M{\\left (k \\right )} S^{2}{\\left (- k \\right )} S{\\left (k \\right )} - 10 \\alpha^{4} Q{\\left (k \\right )} S{\\left (- k \\right )} S{\\left (k \\right )} \\overline{Q{\\left (- k \\right )}} + 10 \\alpha^{4} Q{\\left (k \\right )} S{\\left (k \\right )} \\overline{M{\\left (- k \\right )}} \\overline{Q{\\left (- k \\right )}} + 22 \\alpha^{4} S^{2}{\\left (- k \\right )} S^{2}{\\left (k \\right )} - 22 \\alpha^{4} S{\\left (- k \\right )} S^{2}{\\left (k \\right )} \\overline{M{\\left (- k \\right )}} + 3 \\alpha^{4} S^{2}{\\left (k \\right )} \\overline{M{\\left (- k \\right )}}^{2} - 4 \\alpha^{2} M^{2}{\\left (k \\right )} S^{2}{\\left (- k \\right )} + 12 \\alpha^{2} M{\\left (k \\right )} S^{2}{\\left (- k \\right )} S{\\left (k \\right )} - 8 \\alpha^{2} S^{2}{\\left (- k \\right )} S^{2}{\\left (k \\right )} + 12 \\alpha^{2} S{\\left (- k \\right )} S^{2}{\\left (k \\right )} \\overline{M{\\left (- k \\right )}} - 4 \\alpha^{2} S^{2}{\\left (k \\right )} \\overline{M{\\left (- k \\right )}}^{2} + \\left(4 \\alpha^{2} S{\\left (- k \\right )} - 2 S{\\left (- k \\right )}\\right) M^{2}{\\left (k \\right )} \\overline{M{\\left (- k \\right )}} + \\left(4 \\alpha^{2} S{\\left (k \\right )} - 2 S{\\left (k \\right )}\\right) M{\\left (k \\right )} \\overline{M{\\left (- k \\right )}}^{2} + \\left(- 10 \\alpha^{4} Q{\\left (k \\right )} \\overline{Q{\\left (- k \\right )}} + 16 \\alpha^{4} S{\\left (- k \\right )} S{\\left (k \\right )} - 16 \\alpha^{2} S{\\left (- k \\right )} S{\\left (k \\right )} + 4 S{\\left (- k \\right )} S{\\left (k \\right )}\\right) M{\\left (k \\right )} \\overline{M{\\left (- k \\right )}} + M^{2}{\\left (k \\right )} S^{2}{\\left (- k \\right )} + M^{2}{\\left (k \\right )} \\overline{M{\\left (- k \\right )}}^{2} - 2 M{\\left (k \\right )} S^{2}{\\left (- k \\right )} S{\\left (k \\right )} + S^{2}{\\left (- k \\right )} S^{2}{\\left (k \\right )} - 2 S{\\left (- k \\right )} S^{2}{\\left (k \\right )} \\overline{M{\\left (- k \\right )}} + S^{2}{\\left (k \\right )} \\overline{M{\\left (- k \\right )}}^{2}$$"
       ],
       "metadata": {},
       "output_type": "pyout",
       "png": "[encoded data removed]",
       "prompt_number": 71,
       "text": [
        "                2                                                             \n",
        "   8  2    _____        8                 _____      8  2      2          6   \n",
        "9\u22c5\u03b1 \u22c5Q (k)\u22c5Q(-k)  - 18\u22c5\u03b1 \u22c5Q(k)\u22c5S(-k)\u22c5S(k)\u22c5Q(-k) + 9\u22c5\u03b1 \u22c5S (-k)\u22c5S (k) - 12\u22c5\u03b1 \u22c5M(\n",
        "\n",
        "                                                                              \n",
        "              _____       6       2                6                 _____    \n",
        "k)\u22c5Q(k)\u22c5S(-k)\u22c5Q(-k) + 12\u22c5\u03b1 \u22c5M(k)\u22c5S (-k)\u22c5S(k) + 24\u22c5\u03b1 \u22c5Q(k)\u22c5S(-k)\u22c5S(k)\u22c5Q(-k) - 1\n",
        "\n",
        "                                                                              \n",
        "   6           _____ _____       6  2      2          6        2    _____     \n",
        "2\u22c5\u03b1 \u22c5Q(k)\u22c5S(k)\u22c5M(-k)\u22c5Q(-k) - 24\u22c5\u03b1 \u22c5S (-k)\u22c5S (k) + 12\u22c5\u03b1 \u22c5S(-k)\u22c5S (k)\u22c5M(-k) + 3\u22c5\n",
        "\n",
        "                                                                              \n",
        " 4  2     2           4                 _____       4       2                4\n",
        "\u03b1 \u22c5M (k)\u22c5S (-k) + 10\u22c5\u03b1 \u22c5M(k)\u22c5Q(k)\u22c5S(-k)\u22c5Q(-k) - 22\u22c5\u03b1 \u22c5M(k)\u22c5S (-k)\u22c5S(k) - 10\u22c5\u03b1 \n",
        "\n",
        "                                                                              \n",
        "                 _____       4           _____ _____       4  2      2        \n",
        "\u22c5Q(k)\u22c5S(-k)\u22c5S(k)\u22c5Q(-k) + 10\u22c5\u03b1 \u22c5Q(k)\u22c5S(k)\u22c5M(-k)\u22c5Q(-k) + 22\u22c5\u03b1 \u22c5S (-k)\u22c5S (k) - 22\n",
        "\n",
        "                                        2                                     \n",
        "  4        2    _____      4  2    _____       2  2     2           2       2 \n",
        "\u22c5\u03b1 \u22c5S(-k)\u22c5S (k)\u22c5M(-k) + 3\u22c5\u03b1 \u22c5S (k)\u22c5M(-k)  - 4\u22c5\u03b1 \u22c5M (k)\u22c5S (-k) + 12\u22c5\u03b1 \u22c5M(k)\u22c5S (\n",
        "\n",
        "                                                                         2    \n",
        "              2  2      2          2        2    _____      2  2    _____    \u239b\n",
        "-k)\u22c5S(k) - 8\u22c5\u03b1 \u22c5S (-k)\u22c5S (k) + 12\u22c5\u03b1 \u22c5S(-k)\u22c5S (k)\u22c5M(-k) - 4\u22c5\u03b1 \u22c5S (k)\u22c5M(-k)  + \u239d\n",
        "\n",
        "                                                                   2          \n",
        "   2                \u239e  2    _____   \u239b   2              \u239e      _____    \u239b      \n",
        "4\u22c5\u03b1 \u22c5S(-k) - 2\u22c5S(-k)\u23a0\u22c5M (k)\u22c5M(-k) + \u239d4\u22c5\u03b1 \u22c5S(k) - 2\u22c5S(k)\u23a0\u22c5M(k)\u22c5M(-k)  + \u239d- 10\u22c5\u03b1\n",
        "\n",
        "                                                                              \n",
        "4      _____       4                  2                          \u239e      _____ \n",
        " \u22c5Q(k)\u22c5Q(-k) + 16\u22c5\u03b1 \u22c5S(-k)\u22c5S(k) - 16\u22c5\u03b1 \u22c5S(-k)\u22c5S(k) + 4\u22c5S(-k)\u22c5S(k)\u23a0\u22c5M(k)\u22c5M(-k) \n",
        "\n",
        "                            2                                                 \n",
        "   2     2        2    _____            2             2      2               2\n",
        "+ M (k)\u22c5S (-k) + M (k)\u22c5M(-k)  - 2\u22c5M(k)\u22c5S (-k)\u22c5S(k) + S (-k)\u22c5S (k) - 2\u22c5S(-k)\u22c5S \n",
        "\n",
        "                       2\n",
        "    _____    2    _____ \n",
        "(k)\u22c5M(-k) + S (k)\u22c5M(-k) "
       ]
      }
     ],
     "prompt_number": 71
    },
    {
     "cell_type": "code",
     "collapsed": false,
     "input": [
      "dett.coeff(Q(k)**2*conjugate(Q(-k))**2)"
     ],
     "language": "python",
     "metadata": {},
     "outputs": [
      {
       "latex": [
        "$$9 \\alpha^{8}$$"
       ],
       "metadata": {},
       "output_type": "pyout",
       "png": "[encoded data removed]",
       "prompt_number": 75,
       "text": [
        "   8\n",
        "9\u22c5\u03b1 "
       ]
      }
     ],
     "prompt_number": 75
    },
    {
     "cell_type": "code",
     "collapsed": false,
     "input": [],
     "language": "python",
     "metadata": {},
     "outputs": []
    }
   ],
   "metadata": {}
  }
 ]
}