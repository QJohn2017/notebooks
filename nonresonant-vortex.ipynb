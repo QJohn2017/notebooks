{
 "metadata": {
  "name": ""
 },
 "nbformat": 3,
 "nbformat_minor": 0,
 "worksheets": [
  {
   "cells": [
    {
     "cell_type": "heading",
     "level": 1,
     "metadata": {
      "slideshow": {
       "slide_type": "slide"
      }
     },
     "source": [
      "Analytics"
     ]
    },
    {
     "cell_type": "heading",
     "level": 2,
     "metadata": {
      "slideshow": {
       "slide_type": "slide"
      }
     },
     "source": [
      "Starting equation"
     ]
    },
    {
     "cell_type": "markdown",
     "metadata": {},
     "source": [
      "$$i\\hbar \\partial_t \\psi(\\mathbf{r},t)= -\\frac{\\hbar^2}{2m}\\nabla^2 \\psi(\\mathbf{r},t) + g \\vert\\psi(\\mathbf{r},t)\\vert^2\\psi(\\mathbf{r},t) + i(\\gamma - \\Gamma\\vert\\psi(\\mathbf{r},t)\\vert^2)\\psi(\\mathbf{r},t)$$"
     ]
    },
    {
     "cell_type": "markdown",
     "metadata": {},
     "source": [
      "Here $g>0$ is the polariton-polariton repulsive interaction; $\\gamma$ describes the combined effect of pumping and decay while $\\Gamma>0$ models saturation of net gain at large density."
     ]
    },
    {
     "cell_type": "heading",
     "level": 2,
     "metadata": {
      "slideshow": {
       "slide_type": "slide"
      }
     },
     "source": [
      "Mean-field"
     ]
    },
    {
     "cell_type": "markdown",
     "metadata": {},
     "source": [
      "Using $\\psi(\\mathbf{r},t)=\\sqrt{\\rho_0} e^{-\\frac{i}{\\hbar} \\mu t}$ we obtain the characteristic density $\\rho_0=\\frac{\\gamma}{\\Gamma}$ and energy scale $\\mu = g \\rho_0$. The characteristic velocity is the speed of sound $c_s=\\sqrt{\\frac{g\\rho_0}{m}}$ and the char. distance is the de Broglie wavelength of polaritons moving with sound velocity, called healing length $\\xi = \\frac{\\hbar}{m c_s}$. We also define the dimensionless damping parameter $\\sigma$ (gain ratio) as $\\sigma= \\frac{\\gamma}{\\mu}$."
     ]
    },
    {
     "cell_type": "markdown",
     "metadata": {},
     "source": [
      "Measuring densities in units of $\\rho_0$, we finally get the rescaled eq:"
     ]
    },
    {
     "cell_type": "markdown",
     "metadata": {},
     "source": [
      "$$i\\partial_t \\psi(\\mathbf{r},t)=-\\frac{1}{2} \\nabla^2 \\psi(\\mathbf{r},t) + \\vert \\psi(\\mathbf{r},t) \\vert^2 \\psi(\\mathbf{r},t) + i \\sigma (\\tilde{\\gamma}(\\mathbf{r}) - \\vert \\psi(\\mathbf{r},t) \\vert^2)\\psi(\\mathbf{r},t).$$"
     ]
    },
    {
     "cell_type": "markdown",
     "metadata": {},
     "source": [
      "Here $\\tilde{\\gamma}(\\mathbf{r})$ represents the \"pump profile\", being equal to 1 for the homogeneous case."
     ]
    },
    {
     "cell_type": "heading",
     "level": 2,
     "metadata": {
      "slideshow": {
       "slide_type": "slide"
      }
     },
     "source": [
      "Continuity equation"
     ]
    },
    {
     "cell_type": "markdown",
     "metadata": {},
     "source": [
      "Defining the polariton current as $j(\\mathbf{r},t)=\\Im\\left(\\psi^{\\star}(\\mathbf{r},t)\\nabla\\psi(\\mathbf{r},t)\\right)$ we get the \"non-conservation\" equation corresponding to the damped GPE model:"
     ]
    },
    {
     "cell_type": "markdown",
     "metadata": {},
     "source": [
      "$$\\partial_{t}\\rho(\\mathbf{r},t)+\\nabla j(\\mathbf{r},t)=2\\sigma \\rho(\\mathbf{r},t) (\\tilde{\\gamma}(\\mathbf{r})-\\rho(\\mathbf{r},t)).$$"
     ]
    },
    {
     "cell_type": "heading",
     "level": 1,
     "metadata": {
      "slideshow": {
       "slide_type": "slide"
      }
     },
     "source": [
      "Numerics"
     ]
    },
    {
     "cell_type": "heading",
     "level": 2,
     "metadata": {
      "slideshow": {
       "slide_type": "slide"
      }
     },
     "source": [
      "Initial condition"
     ]
    },
    {
     "cell_type": "markdown",
     "metadata": {},
     "source": [
      "$$\\psi(r,\\phi,t=0) = r \\frac{e^{\\frac{1}{2}-\\frac{1}{2}\\left(r/\\sigma_{\\text{pb}}\\right)^2}}{2 \\sigma_{\\text{pb}}}e^{i \\phi}$$"
     ]
    },
    {
     "cell_type": "markdown",
     "metadata": {},
     "source": [
      "with $(r, \\phi)$ the usual polar coordinates and $\\sigma_{\\text{pb}} = 4$."
     ]
    },
    {
     "cell_type": "markdown",
     "metadata": {},
     "source": [
      "![](files/images/evolution/initial.png)"
     ]
    },
    {
     "cell_type": "heading",
     "level": 2,
     "metadata": {
      "slideshow": {
       "slide_type": "slide"
      }
     },
     "source": [
      "Boundary conditions"
     ]
    },
    {
     "cell_type": "markdown",
     "metadata": {},
     "source": [
      "We set $\\psi(\\mathbf{r},t)$ to 0 on the edges of the box: $\\psi(x_l,y,t) = \\psi(x_r,y,t) = \\psi(x,y_l,t) = \\psi(x,y_r,t) = 0$."
     ]
    },
    {
     "cell_type": "heading",
     "level": 2,
     "metadata": {
      "slideshow": {
       "slide_type": "slide"
      }
     },
     "source": [
      "Pump profile"
     ]
    },
    {
     "cell_type": "markdown",
     "metadata": {},
     "source": [
      "We chose the following pump profile"
     ]
    },
    {
     "cell_type": "markdown",
     "metadata": {},
     "source": [
      "$$\\tilde{\\gamma}(\\mathbf{r}) = \\frac{1}{2} \\coth \\left(\\frac{\\sigma_p}{n}\\right) \\left[\\tanh \\left(\\frac{r+\\sigma_p}{n}\\right)-\\tanh \\left(\\frac{r-\\sigma_p}{n}\\right)\\right]$$"
     ]
    },
    {
     "cell_type": "markdown",
     "metadata": {},
     "source": [
      "with the polar coordinate $r = \\sqrt{x^2 + y^2}$ and parameters $\\sigma_p = 10$ and $n = 2.5$."
     ]
    },
    {
     "cell_type": "markdown",
     "metadata": {},
     "source": [
      "![](files/images/evolution/pumping.png)"
     ]
    },
    {
     "cell_type": "heading",
     "level": 2,
     "metadata": {
      "slideshow": {
       "slide_type": "slide"
      }
     },
     "source": [
      "Results"
     ]
    },
    {
     "cell_type": "markdown",
     "metadata": {},
     "source": [
      "We varied $\\sigma$ from 0.2 to 2 and the range of values for which the vortex configuration is stable is 0.6 to 1.1, shown below."
     ]
    },
    {
     "cell_type": "markdown",
     "metadata": {},
     "source": [
      "System parameters:\n",
      "\n",
      "* total time $t = 1000$ \n",
      "* time step $\\delta t = 10$\n",
      "* system size\n",
      "    * $x_l = y_l = -18$\n",
      "    * $x_r = y_r = 18$"
     ]
    },
    {
     "cell_type": "markdown",
     "metadata": {},
     "source": [
      "The number of points in the $x$ and $y$ directions is chosen automatically based on an adaptive algorithm."
     ]
    },
    {
     "cell_type": "heading",
     "level": 3,
     "metadata": {
      "slideshow": {
       "slide_type": "slide"
      }
     },
     "source": [
      "Animations"
     ]
    },
    {
     "cell_type": "markdown",
     "metadata": {},
     "source": [
      "$\\sigma = 0.6$"
     ]
    },
    {
     "cell_type": "markdown",
     "metadata": {},
     "source": [
      "![](files/images/evolution/evolution_s00_60t_01000_00.gif)"
     ]
    },
    {
     "cell_type": "markdown",
     "metadata": {},
     "source": [
      "$\\sigma = 0.7$"
     ]
    },
    {
     "cell_type": "markdown",
     "metadata": {},
     "source": [
      "![](files/images/evolution/evolution_s00_70t_01000_00.gif)"
     ]
    },
    {
     "cell_type": "markdown",
     "metadata": {},
     "source": [
      "$\\sigma = 0.8$"
     ]
    },
    {
     "cell_type": "markdown",
     "metadata": {},
     "source": [
      "![](files/images/evolution/evolution_s00_80t_01000_00.gif)"
     ]
    },
    {
     "cell_type": "markdown",
     "metadata": {},
     "source": [
      "$\\sigma = 0.9$"
     ]
    },
    {
     "cell_type": "markdown",
     "metadata": {},
     "source": [
      "![](files/images/evolution/evolution_s00_90t_01000_00.gif)"
     ]
    },
    {
     "cell_type": "markdown",
     "metadata": {},
     "source": [
      "$\\sigma = 1$"
     ]
    },
    {
     "cell_type": "markdown",
     "metadata": {},
     "source": [
      "![](files/images/evolution/evolution_s01_00t_02000_00.gif)"
     ]
    },
    {
     "cell_type": "markdown",
     "metadata": {},
     "source": [
      "$\\sigma = 1.1$"
     ]
    },
    {
     "cell_type": "markdown",
     "metadata": {},
     "source": [
      "![](files/images/evolution/evolution_s01_10t_01000_00.gif)"
     ]
    }
   ],
   "metadata": {}
  }
 ]
}