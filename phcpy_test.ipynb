{
 "metadata": {
  "name": "",
  "signature": "sha256:94749acda58fd8ee06cbcfb60b2100cb07f48438e26f2498d23d043f9260ec95"
 },
 "nbformat": 3,
 "nbformat_minor": 0,
 "worksheets": [
  {
   "cells": [
    {
     "cell_type": "code",
     "collapsed": false,
     "input": [
      "from phcpy.solver import solve\n",
      "from phcpy.solver import random_trinomials\n",
      "from phcpy.phcpy2c import py2c_set_seed\n",
      "from phcpy.solutions import strsol2dict\n",
      "from phcpy.solutions import evaluate"
     ],
     "language": "python",
     "metadata": {},
     "outputs": [],
     "prompt_number": 25
    },
    {
     "cell_type": "code",
     "collapsed": false,
     "input": [
      "f = random_trinomials()\n",
      "terms = f[0].split('+(')\n",
      "for t in terms: print t"
     ],
     "language": "python",
     "metadata": {},
     "outputs": [
      {
       "output_type": "stream",
       "stream": "stdout",
       "text": [
        "(0.0964055334957-0.99534213871985*i)*x^2*y^2\n",
        "0.398013169784+0.91737970147505*i)*x^3*y^2\n",
        "0.711786820938-0.70239555916799*i)*x^1*y^0;\n"
       ]
      }
     ],
     "prompt_number": 26
    },
    {
     "cell_type": "code",
     "collapsed": false,
     "input": [
      "print f"
     ],
     "language": "python",
     "metadata": {},
     "outputs": [
      {
       "output_type": "stream",
       "stream": "stdout",
       "text": [
        "['(0.0964055334957-0.99534213871985*i)*x^2*y^2+(0.398013169784+0.91737970147505*i)*x^3*y^2+(0.711786820938-0.70239555916799*i)*x^1*y^0;', '(0.542665437643+0.83994894058390*i)*x^5*y^0+(-0.36064449584+0.93270335456690*i)*x^2*y^2+(0.942510169152+0.33417746938606*i)*x^1*y^0;']\n"
       ]
      }
     ],
     "prompt_number": 27
    },
    {
     "cell_type": "code",
     "collapsed": false,
     "input": [
      "py2c_set_seed(130683)"
     ],
     "language": "python",
     "metadata": {},
     "outputs": [
      {
       "metadata": {},
       "output_type": "pyout",
       "prompt_number": 28,
       "text": [
        "0"
       ]
      }
     ],
     "prompt_number": 28
    },
    {
     "cell_type": "code",
     "collapsed": false,
     "input": [
      "s = solve(f,silent=True)\n",
      "print len(s)"
     ],
     "language": "python",
     "metadata": {},
     "outputs": [
      {
       "output_type": "stream",
       "stream": "stdout",
       "text": [
        "10\n"
       ]
      }
     ],
     "prompt_number": 29
    },
    {
     "cell_type": "code",
     "collapsed": false,
     "input": [
      "print s[0]"
     ],
     "language": "python",
     "metadata": {},
     "outputs": [
      {
       "output_type": "stream",
       "stream": "stdout",
       "text": [
        "t :  1.00000000000000E+00   0.00000000000000E+00\n",
        "m : 1\n",
        "the solution for t :\n",
        " x :  8.61379102273999E-01   9.47423828664900E-01\n",
        " y : -1.06031977522111E+00   7.49943719041956E-01\n",
        "== err :  3.789E-16 = rco :  1.779E-01 = res :  1.597E-15 =\n"
       ]
      }
     ],
     "prompt_number": 30
    },
    {
     "cell_type": "code",
     "collapsed": false,
     "input": [
      "d = strsol2dict(s[0])\n",
      "print d.keys()"
     ],
     "language": "python",
     "metadata": {},
     "outputs": [
      {
       "output_type": "stream",
       "stream": "stdout",
       "text": [
        "['err', 'res', 'm', 'rco', 't', 'y', 'x']\n"
       ]
      }
     ],
     "prompt_number": 31
    },
    {
     "cell_type": "code",
     "collapsed": false,
     "input": [
      "print d['x']"
     ],
     "language": "python",
     "metadata": {},
     "outputs": [
      {
       "output_type": "stream",
       "stream": "stdout",
       "text": [
        "(0.861379102274+0.947423828665j)\n"
       ]
      }
     ],
     "prompt_number": 32
    },
    {
     "cell_type": "code",
     "collapsed": false,
     "input": [
      "e = evaluate(f,d)\n",
      "for x in e: print x"
     ],
     "language": "python",
     "metadata": {},
     "outputs": [
      {
       "output_type": "stream",
       "stream": "stdout",
       "text": [
        "(-6.66133814775e-15-6.88338275268e-15j)\n",
        "(-2.12052597703e-14+7.54951656745e-15j)\n"
       ]
      }
     ],
     "prompt_number": 33
    },
    {
     "cell_type": "code",
     "collapsed": false,
     "input": [],
     "language": "python",
     "metadata": {},
     "outputs": [],
     "prompt_number": 33
    }
   ],
   "metadata": {}
  }
 ]
}