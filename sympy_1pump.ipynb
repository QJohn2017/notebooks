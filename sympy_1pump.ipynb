{
 "metadata": {
  "name": "",
  "signature": "sha256:46f774ccea29bc497c23b100ba711203c9f0171434e16c0d3ebabc0f797ea142"
 },
 "nbformat": 3,
 "nbformat_minor": 0,
 "worksheets": [
  {
   "cells": [
    {
     "cell_type": "code",
     "collapsed": false,
     "input": [
      "from sympy import *\n",
      "from sympy import init_printing\n",
      "from sympy.core.function import AppliedUndef\n",
      "from sympy.strategies.traverse import bottom_up\n",
      "from sympy.strategies import chain, rebuild\n",
      "import collections\n",
      "from sympy.unify import unify\n",
      "init_printing(use_unicode=True)"
     ],
     "language": "python",
     "metadata": {},
     "outputs": [],
     "prompt_number": 224
    },
    {
     "cell_type": "code",
     "collapsed": false,
     "input": [
      "k, q, kp, q1, q2 = symbols('k q k_p q_1 q_2', integer=True)\n",
      "utp, vtp, up, vp, C, X, M, Q, R = symbols('utilde_p vtilde_p u_p v_p C X M Q R', cls=Function)\n",
      "psissp, psip, fp = symbols('psi^ss_p psi_p f_p')\n",
      "omega, omegap, t, gv, phip = symbols('omega omega_p t g_v phi_p', real=True)\n",
      "g, np = symbols('g n_p', positive=True)"
     ],
     "language": "python",
     "metadata": {},
     "outputs": [],
     "prompt_number": 225
    },
    {
     "cell_type": "code",
     "collapsed": false,
     "input": [
      "class epsilon(Function):\n",
      "    is_real = True\n",
      "class kappa(Function):\n",
      "    is_real = True"
     ],
     "language": "python",
     "metadata": {},
     "outputs": [],
     "prompt_number": 226
    },
    {
     "cell_type": "code",
     "collapsed": false,
     "input": [
      "class psitilde(Function):\n",
      "    nargs = 2\n",
      "\n",
      "    @classmethod\n",
      "    def eval(cls, k, t):\n",
      "        return psip/(sqrt(g)*X(kp)) * KroneckerDelta(k, kp) * exp(-I*omegap*t) + \\\n",
      "               (utp(k-kp)*exp(-I*omega*t) + conjugate(vtp(kp-k))*exp(I*omega*t))*exp(-I*omegap*t)\n",
      "    def _latex(self, printer):\n",
      "        return r'\\tilde{\\psi(%s \\right)}' % printer._print(self.args[0])"
     ],
     "language": "python",
     "metadata": {},
     "outputs": [],
     "prompt_number": 227
    },
    {
     "cell_type": "code",
     "collapsed": false,
     "input": [
      "class psitildebar(Function):\n",
      "    nargs = 2\n",
      "\n",
      "    @classmethod\n",
      "    def eval(cls, k, t):\n",
      "        return conjugate(psitilde(k,t))\n",
      "    def _latex(self, printer):\n",
      "        return r'\\bar{\\tilde{\\psi(%s \\right)}}' % printer._print(self.args[0])"
     ],
     "language": "python",
     "metadata": {},
     "outputs": [],
     "prompt_number": 228
    },
    {
     "cell_type": "code",
     "collapsed": false,
     "input": [
      "class meanfieldize(Function):\n",
      "    nargs = 1\n",
      "\n",
      "    @classmethod\n",
      "    def eval(cls, expr):\n",
      "        flist = utp, vtp\n",
      "        funcs = [fi for fi in expr.atoms(AppliedUndef) if fi.func in flist]\n",
      "        linear = []\n",
      "        for a in Add.make_args(expr):\n",
      "            if not a.has(*funcs):\n",
      "                linear.append(a)\n",
      "        return Add(*linear)"
     ],
     "language": "python",
     "metadata": {},
     "outputs": [],
     "prompt_number": 229
    },
    {
     "cell_type": "code",
     "collapsed": false,
     "input": [
      "class linearize(Function):\n",
      "    nargs = 1\n",
      "\n",
      "    @classmethod\n",
      "    def eval(cls, expr):\n",
      "        flist = utp, vtp\n",
      "        funcs = [fi for fi in expr.atoms(AppliedUndef) if fi.func in flist]\n",
      "        linear = []\n",
      "        for a in Add.make_args(expr):\n",
      "            if not a.has(*funcs) or Poly(a, *funcs).is_linear and len(a.atoms(*funcs))==1:\n",
      "                linear.append(a)\n",
      "        return Add(*linear)"
     ],
     "language": "python",
     "metadata": {},
     "outputs": [],
     "prompt_number": 230
    },
    {
     "cell_type": "code",
     "collapsed": false,
     "input": [
      "class psitildeMF(Function):\n",
      "    nargs = 2\n",
      "\n",
      "    @classmethod\n",
      "    def eval(cls, k, t):\n",
      "        return meanfieldize(psitilde(k,t))\n",
      "    def _latex(self, printer):\n",
      "        return r'\\tilde{\\psi_{\\text{MF}}(%s \\right)}' % printer._print(self.args[0])"
     ],
     "language": "python",
     "metadata": {},
     "outputs": [],
     "prompt_number": 231
    },
    {
     "cell_type": "code",
     "collapsed": false,
     "input": [
      "def to_abs(node):\n",
      "    if not isinstance(node, Mul):\n",
      "        return node\n",
      "    zm1, zm2 = symbols('zm1, zm2')\n",
      "    m = unify(node, zm1 * zm2 * conjugate(zm2), {}, variables=[zm1, zm2])\n",
      "    try:\n",
      "        m = next(m)\n",
      "    except:\n",
      "        return node\n",
      "    e = m[zm2]\n",
      "    return node.xreplace({e: S.One, conjugate(e): S.One})*abs(e)**2"
     ],
     "language": "python",
     "metadata": {},
     "outputs": [],
     "prompt_number": 232
    },
    {
     "cell_type": "code",
     "collapsed": false,
     "input": [
      "def get_unflattener(m):\n",
      "        m_args = list(m.args)\n",
      "        def unflattener(node):\n",
      "                new_args = []\n",
      "                sub_add_args = []\n",
      "                for arg in node.args:\n",
      "                        common = [i for i in arg.args if i in m_args]\n",
      "                        if set(common) == set(m_args):\n",
      "                                sub_add_args.append(arg)\n",
      "                        else:\n",
      "                                new_args.append(arg)\n",
      "                sub_add = Add(*[i.func(*[j for j in i.args if j not in m_args]) for i in sub_add_args], evaluate=False)\n",
      "                return Add(*(new_args + [Mul(*(m_args + [sub_add]), evaluate=False)]), evaluate=False)\n",
      "        return unflattener"
     ],
     "language": "python",
     "metadata": {},
     "outputs": [],
     "prompt_number": 233
    },
    {
     "cell_type": "code",
     "collapsed": false,
     "input": [
      "psitilde(k,t)"
     ],
     "language": "python",
     "metadata": {},
     "outputs": [
      {
       "latex": [
        "$$\\left(\\tilde{u}_{p}{\\left (k - k_{p} \\right )} e^{- i \\omega t} + e^{i \\omega t} \\overline{\\tilde{v}_{p}{\\left (- k + k_{p} \\right )}}\\right) e^{- i \\omega_{p} t} + \\frac{\\psi_{p} e^{- i \\omega_{p} t} \\delta_{k k_{p}}}{\\sqrt{g} X{\\left (k_{p} \\right )}}$$"
       ],
       "metadata": {},
       "output_type": "pyout",
       "png": "[encoded data removed]",
       "prompt_number": 234,
       "text": [
        "                                                                 -\u2148\u22c5\u03c9_p\u22c5t     \n",
        "                                                            \u03c8_p\u22c5\u212f        \u22c5\u03b4   \n",
        "\u239b               -\u2148\u22c5\u03c9\u22c5t    \u2148\u22c5\u03c9\u22c5t ______________\u239e  -\u2148\u22c5\u03c9_p\u22c5t                  k,k\n",
        "\u239du\u0303_p(k - k_p)\u22c5\u212f       + \u212f     \u22c5v\u0303_p(-k + k_p)\u23a0\u22c5\u212f         + \u2500\u2500\u2500\u2500\u2500\u2500\u2500\u2500\u2500\u2500\u2500\u2500\u2500\u2500\u2500\u2500\u2500\u2500\n",
        "                                                                  ___         \n",
        "                                                                \u2572\u2571 g \u22c5X(k_p)  \n",
        "\n",
        "  \n",
        "  \n",
        "_p\n",
        "\u2500\u2500\n",
        "  \n",
        "  "
       ]
      }
     ],
     "prompt_number": 234
    },
    {
     "cell_type": "heading",
     "level": 1,
     "metadata": {},
     "source": [
      "Theoretical model"
     ]
    },
    {
     "cell_type": "markdown",
     "metadata": {},
     "source": [
      "The starting GP eq. for the LP band with a $\\delta$-like defect and one pump is:\n",
      "\\begin{align}\n",
      "i \\frac{d}{dt} \\widetilde{\\psi}(k)=&\\left[\\epsilon(k)-i \n",
      "\\frac{\\kappa(k)}{2}\\right]\\widetilde{\\psi}(k) + F_p \\delta(k-k_p)C(k_p) e^{-i \\omega_p t} \\nonumber \\\\\n",
      "& + \\sum_{q_1,q_2} g_{k,q_1,q_2} \\widetilde{\\psi}^{*}(q_1+q_2-\n",
      "k)\\widetilde{\\psi}(q_1)\\widetilde{\\psi}(q_2) \\nonumber \\\\\n",
      "& + \\sum_q G_{k,q} \\widetilde{\\psi}(q)\n",
      "\\end{align}\n",
      "\n",
      "with the defect contribution\n",
      "\\begin{equation}\n",
      "G_{k,q} = g_V C(k) C(q)\n",
      "\\end{equation}\n",
      "\n",
      "and the polariton-polariton interaction\n",
      "\\begin{equation}\n",
      "g_{k,q_1,q_2} = g X^*(k) X^*(q_1+q_2-k) X(q_1) X(q_2)\n",
      "\\end{equation}\n",
      "\n",
      "The ansatz for the wavefunction in momentum space reads\n",
      "\n",
      "\\begin{equation}\n",
      "\\widetilde{\\psi}(k) = e^{-i\\omega_p t} \\left[\\psi^{\\text{ss}}_p\\delta(k-k_p) + \n",
      "\\widetilde{u}_p(k-k_p) e^{-i \\omega t} + \\widetilde{v}^*_p(k_p-k) e^{i \\omega \n",
      "t}\\right]\n",
      "\\end{equation}\n",
      "\n",
      "where we have used the Fourier transforms $u(r)=\\sum_k \\widetilde{u}(k) e^{ikr}$ \n",
      "and the equivalent for $v$."
     ]
    },
    {
     "cell_type": "heading",
     "level": 1,
     "metadata": {},
     "source": [
      "Notation"
     ]
    },
    {
     "cell_type": "markdown",
     "metadata": {},
     "source": [
      "$$f_p = \\sqrt{g} \\frac{C(k_p)}{X(k_p)} F_p$$\n",
      "$$X_p = X(k_p)$$\n",
      "$$I_p = \\left| f_p \\right|^2$$\n",
      "\n",
      "$$\\psi_p= \\sqrt{g} X(k_p) \\psi^{\\text{ss}}_p$$\n",
      "$$ n_p = \\left|\\psi_p \\right|^2$$"
     ]
    },
    {
     "cell_type": "markdown",
     "metadata": {},
     "source": [
      "$$\\left[\\left(\\epsilon_{p}-\\omega_{p}+X_{p}^{2}n_{p}\\right)^{2}+\\frac{1}{4}\\right]n_{p}-X_{p}^{4}I_{p}=0$$"
     ]
    },
    {
     "cell_type": "heading",
     "level": 1,
     "metadata": {},
     "source": [
      "Left-hand side"
     ]
    },
    {
     "cell_type": "code",
     "collapsed": false,
     "input": [
      "lhs = expand(I*diff(psitilde(k,t), t))"
     ],
     "language": "python",
     "metadata": {},
     "outputs": [],
     "prompt_number": 235
    },
    {
     "cell_type": "code",
     "collapsed": false,
     "input": [
      "lhsMF = meanfieldize(lhs)"
     ],
     "language": "python",
     "metadata": {},
     "outputs": [],
     "prompt_number": 236
    },
    {
     "cell_type": "code",
     "collapsed": false,
     "input": [
      "lhsLIN = lhs - lhsMF"
     ],
     "language": "python",
     "metadata": {},
     "outputs": [],
     "prompt_number": 237
    },
    {
     "cell_type": "heading",
     "level": 1,
     "metadata": {},
     "source": [
      "Right-hand side"
     ]
    },
    {
     "cell_type": "code",
     "collapsed": false,
     "input": [
      "rhs1 = expand((epsilon(k) - I*kappa(k)/2) * psitilde(k,t))"
     ],
     "language": "python",
     "metadata": {},
     "outputs": [],
     "prompt_number": 238
    },
    {
     "cell_type": "code",
     "collapsed": false,
     "input": [
      "rhs1MF = meanfieldize(rhs1)"
     ],
     "language": "python",
     "metadata": {},
     "outputs": [],
     "prompt_number": 239
    },
    {
     "cell_type": "code",
     "collapsed": false,
     "input": [
      "rhs1LIN = rhs1 - rhs1MF"
     ],
     "language": "python",
     "metadata": {},
     "outputs": [],
     "prompt_number": 240
    },
    {
     "cell_type": "code",
     "collapsed": false,
     "input": [
      "rhs2LIN = Sum(expand(gv*C(k)*C(q)*psitildeMF(q,t)), (q, -oo, oo)).doit()"
     ],
     "language": "python",
     "metadata": {},
     "outputs": [],
     "prompt_number": 241
    },
    {
     "cell_type": "code",
     "collapsed": false,
     "input": [
      "thirdorder = expand(g*conjugate(X(k))*conjugate(X(q1+q2-k))*X(q1)*X(q2)*psitilde(q1,t)*psitilde(q2,t)*psitildebar(q1+q2-k,t))"
     ],
     "language": "python",
     "metadata": {},
     "outputs": [],
     "prompt_number": 242
    },
    {
     "cell_type": "code",
     "collapsed": false,
     "input": [
      "summandMF = meanfieldize(thirdorder)"
     ],
     "language": "python",
     "metadata": {},
     "outputs": [],
     "prompt_number": 243
    },
    {
     "cell_type": "code",
     "collapsed": false,
     "input": [
      "summand = linearize(thirdorder)"
     ],
     "language": "python",
     "metadata": {},
     "outputs": [],
     "prompt_number": 244
    },
    {
     "cell_type": "code",
     "collapsed": false,
     "input": [
      "summandLIN = expand(summand) - expand(summandMF)"
     ],
     "language": "python",
     "metadata": {},
     "outputs": [],
     "prompt_number": 245
    },
    {
     "cell_type": "code",
     "collapsed": false,
     "input": [
      "rhs3LIN = Sum(Sum(summandLIN, (q1, -oo, oo)).doit(), (q2, -oo, oo)).doit()"
     ],
     "language": "python",
     "metadata": {},
     "outputs": [],
     "prompt_number": 246
    },
    {
     "cell_type": "code",
     "collapsed": false,
     "input": [
      "rhsLIN = rhs1LIN + rhs2LIN"
     ],
     "language": "python",
     "metadata": {},
     "outputs": [],
     "prompt_number": 247
    },
    {
     "cell_type": "heading",
     "level": 1,
     "metadata": {},
     "source": [
      "Mean-field"
     ]
    },
    {
     "cell_type": "code",
     "collapsed": false,
     "input": [
      "rhs3MF = Sum(Sum(summandMF, (q1, -oo, oo)).doit(), (q2, -oo, oo)).doit()"
     ],
     "language": "python",
     "metadata": {},
     "outputs": [],
     "prompt_number": 248
    },
    {
     "cell_type": "code",
     "collapsed": false,
     "input": [
      "rhsMF = rhs1MF + X(kp)*fp/sqrt(g)*KroneckerDelta(k, kp)*exp(-I*omegap*t) + rhs3MF"
     ],
     "language": "python",
     "metadata": {},
     "outputs": [],
     "prompt_number": 249
    },
    {
     "cell_type": "code",
     "collapsed": false,
     "input": [
      "lhsMF1 = lhsMF.coeff(exp(-I*omegap*t))\n",
      "rhsMF1 = rhsMF.coeff(exp(-I*omegap*t))\n",
      "eqMF1 = expand(sqrt(g)*X(kp)*Sum(rhsMF1 - lhsMF1, (k, -oo, oo)).doit())"
     ],
     "language": "python",
     "metadata": {},
     "outputs": [],
     "prompt_number": 250
    },
    {
     "cell_type": "code",
     "collapsed": false,
     "input": [
      "eqMF1"
     ],
     "language": "python",
     "metadata": {},
     "outputs": [
      {
       "latex": [
        "$$f_{p} X^{2}{\\left (k_{p} \\right )} - \\omega_{p} \\psi_{p} + \\psi_{p}^{2} X{\\left (k_{p} \\right )} \\overline{\\psi_{p}} \\overline{X{\\left (k_{p} \\right )}} + \\psi_{p} \\epsilon{\\left (k_{p} \\right )} - \\frac{i \\psi_{p}}{2} \\kappa{\\left (k_{p} \\right )}$$"
       ],
       "metadata": {},
       "output_type": "pyout",
       "png": "[encoded data removed]",
       "prompt_number": 251,
       "text": [
        "     2                     2        ___ ______                \u2148\u22c5\u03c8_p\u22c5\u03ba(k_p)\n",
        "f_p\u22c5X (k_p) - \u03c9_p\u22c5\u03c8_p + \u03c8_p \u22c5X(k_p)\u22c5\u03c8_p\u22c5X(k_p) + \u03c8_p\u22c5\u03b5(k_p) - \u2500\u2500\u2500\u2500\u2500\u2500\u2500\u2500\u2500\u2500\u2500\u2500\n",
        "                                                                   2      "
       ]
      }
     ],
     "prompt_number": 251
    },
    {
     "cell_type": "markdown",
     "metadata": {},
     "source": [
      "$$\\left[\\epsilon\\left(k_{p}\\right)-\\omega_{p}+\\left|X_{p}\\right|^{2}n_{p}-i\\frac{\\kappa\\left(k_{p}\\right)}{2}\\right]\\psi_{p}=-X_{p}^{2}f_{p}$$\n",
      "$$\\left[\\left(\\epsilon\\left(k_{p}\\right)-\\omega_{p}+\\left|X_{p}\\right|^{2}n_{p}\\right)^{2}+\\frac{\\kappa^{2}\\left(k_{p}\\right)}{4}\\right]n_{p}-\\left|X_{p}\\right|^{4}I_{p}=0$$"
     ]
    },
    {
     "cell_type": "heading",
     "level": 1,
     "metadata": {},
     "source": [
      "Linear response"
     ]
    },
    {
     "cell_type": "heading",
     "level": 2,
     "metadata": {},
     "source": [
      "Left-hand side"
     ]
    },
    {
     "cell_type": "code",
     "collapsed": false,
     "input": [
      "fd1 = gv * (rhsLIN - lhsLIN).coeff(gv*exp(-I*omegap*t))"
     ],
     "language": "python",
     "metadata": {},
     "outputs": [],
     "prompt_number": 252
    },
    {
     "cell_type": "code",
     "collapsed": false,
     "input": [
      "lhsLIN11 = lhsLIN.coeff(exp(-I*omega*t)*exp(-I*omegap*t))\n",
      "lhsLIN12 = lhsLIN.coeff(exp(I*omega*t)*exp(-I*omegap*t))"
     ],
     "language": "python",
     "metadata": {},
     "outputs": [],
     "prompt_number": 253
    },
    {
     "cell_type": "heading",
     "level": 2,
     "metadata": {},
     "source": [
      "Right-hand side"
     ]
    },
    {
     "cell_type": "code",
     "collapsed": false,
     "input": [
      "rhsLIN11 = rhsLIN.coeff(exp(-I*omega*t)*exp(-I*omegap*t)) \n",
      "rhsLIN12 = rhsLIN.coeff(exp(I*omega*t)*exp(-I*omegap*t))"
     ],
     "language": "python",
     "metadata": {},
     "outputs": [],
     "prompt_number": 254
    },
    {
     "cell_type": "code",
     "collapsed": false,
     "input": [
      "rhs3LIN11 = rhs3LIN.coeff(exp(-I*omega*t)*exp(-I*omegap*t))\n",
      "rhs3LIN12 = rhs3LIN.coeff(exp(I*omega*t)*exp(-I*omegap*t))"
     ],
     "language": "python",
     "metadata": {},
     "outputs": [],
     "prompt_number": 255
    },
    {
     "cell_type": "heading",
     "level": 2,
     "metadata": {},
     "source": [
      "Resulting equations"
     ]
    },
    {
     "cell_type": "code",
     "collapsed": false,
     "input": [
      "eq11 = (rhsLIN11 + rhs3LIN11 - lhsLIN11).subs(k, k+kp)\n",
      "eq12 = (-conjugate(rhsLIN12 + rhs3LIN12 - lhsLIN12)).subs(k, kp-k)\n",
      "fd11 = fd1.subs(k, k+kp)\n",
      "fd12 = (-conjugate(fd1)).subs(k, kp-k)\n",
      "Fd = Matrix([fd11, fd12])\n",
      "varbs = Matrix([utp(k), vtp(k)])"
     ],
     "language": "python",
     "metadata": {},
     "outputs": [],
     "prompt_number": 256
    },
    {
     "cell_type": "code",
     "collapsed": false,
     "input": [
      "[fi for fi in eq11.atoms(AppliedUndef) if fi.func in [utp, vtp]]"
     ],
     "language": "python",
     "metadata": {},
     "outputs": [
      {
       "latex": [
        "$$\\begin{bmatrix}\\tilde{u}_{p}{\\left (k \\right )}, & \\tilde{v}_{p}{\\left (k \\right )}\\end{bmatrix}$$"
       ],
       "metadata": {},
       "output_type": "pyout",
       "png": "[encoded data removed]",
       "prompt_number": 257,
       "text": [
        "[u\u0303_p(k), v\u0303_p(k)]"
       ]
      }
     ],
     "prompt_number": 257
    },
    {
     "cell_type": "code",
     "collapsed": false,
     "input": [
      "A = Matrix([eq11, eq12]).jacobian(varbs)"
     ],
     "language": "python",
     "metadata": {},
     "outputs": [],
     "prompt_number": 258
    },
    {
     "cell_type": "code",
     "collapsed": false,
     "input": [
      "L = ((A + omega*eye(2)).applyfunc(lambda elem: bottom_up(chain(rebuild, to_abs))(elem))).applyfunc(lambda elem: bottom_up(chain(rebuild, to_abs))(elem))"
     ],
     "language": "python",
     "metadata": {},
     "outputs": [],
     "prompt_number": 259
    },
    {
     "cell_type": "code",
     "collapsed": false,
     "input": [
      "L[0,0] = get_unflattener(2*Abs(X(k + kp))**2)(L[0,0])\n",
      "L[1,1] = get_unflattener(-2*Abs(X(-k + kp))**2)(L[1,1])"
     ],
     "language": "python",
     "metadata": {},
     "outputs": [],
     "prompt_number": 260
    },
    {
     "cell_type": "code",
     "collapsed": false,
     "input": [
      "L = L.replace(Abs(psip)**2, np); L"
     ],
     "language": "python",
     "metadata": {},
     "outputs": [
      {
       "latex": [
        "$$\\left[\\begin{matrix}2 n_{p} \\left\\lvert{X{\\left (k + k_{p} \\right )}}\\right\\rvert^{2} - \\omega_{p} + \\epsilon{\\left (k + k_{p} \\right )} - \\frac{i}{2} \\kappa{\\left (k + k_{p} \\right )} & \\psi_{p}^{2} \\overline{X{\\left (- k + k_{p} \\right )}} \\overline{X{\\left (k + k_{p} \\right )}}\\\\- X{\\left (- k + k_{p} \\right )} X{\\left (k + k_{p} \\right )} \\overline{\\psi_{p}}^{2} & - 2 n_{p} \\left\\lvert{X{\\left (- k + k_{p} \\right )}}\\right\\rvert^{2} + \\omega_{p} - \\epsilon{\\left (- k + k_{p} \\right )} - \\frac{i}{2} \\kappa{\\left (- k + k_{p} \\right )}\\end{matrix}\\right]$$"
       ],
       "metadata": {},
       "output_type": "pyout",
       "png": "[encoded data removed]",
       "prompt_number": 261,
       "text": [
        "\u23a1                  2                      \u2148\u22c5\u03ba(k + k_p)                    2 __\n",
        "\u23a22\u22c5n_p\u22c5\u2502X(k + k_p)\u2502  - \u03c9_p + \u03b5(k + k_p) - \u2500\u2500\u2500\u2500\u2500\u2500\u2500\u2500\u2500\u2500\u2500\u2500                 \u03c8_p \u22c5X(\n",
        "\u23a2                                              2                              \n",
        "\u23a2                                                                             \n",
        "\u23a2                                       2                                     \n",
        "\u23a2                                    ___                                     2\n",
        "\u23a2            -X(-k + k_p)\u22c5X(k + k_p)\u22c5\u03c8_p                - 2\u22c5n_p\u22c5\u2502X(-k + k_p)\u2502 \n",
        "\u23a3                                                                             \n",
        "\n",
        "_________ __________                \u23a4\n",
        "-k + k_p)\u22c5X(k + k_p)                \u23a5\n",
        "                                    \u23a5\n",
        "                                    \u23a5\n",
        "                                    \u23a5\n",
        "                       \u2148\u22c5\u03ba(-k + k_p)\u23a5\n",
        " + \u03c9_p - \u03b5(-k + k_p) - \u2500\u2500\u2500\u2500\u2500\u2500\u2500\u2500\u2500\u2500\u2500\u2500\u2500\u23a5\n",
        "                             2      \u23a6"
       ]
      }
     ],
     "prompt_number": 261
    },
    {
     "cell_type": "code",
     "collapsed": false,
     "input": [
      "L = L.subs({psip:sqrt(np)*exp(I*phip)}); L"
     ],
     "language": "python",
     "metadata": {},
     "outputs": [
      {
       "latex": [
        "$$\\left[\\begin{matrix}2 n_{p} \\left\\lvert{X{\\left (k + k_{p} \\right )}}\\right\\rvert^{2} - \\omega_{p} + \\epsilon{\\left (k + k_{p} \\right )} - \\frac{i}{2} \\kappa{\\left (k + k_{p} \\right )} & n_{p} e^{2 i \\phi_{p}} \\overline{X{\\left (- k + k_{p} \\right )}} \\overline{X{\\left (k + k_{p} \\right )}}\\\\- n_{p} X{\\left (- k + k_{p} \\right )} X{\\left (k + k_{p} \\right )} e^{- 2 i \\phi_{p}} & - 2 n_{p} \\left\\lvert{X{\\left (- k + k_{p} \\right )}}\\right\\rvert^{2} + \\omega_{p} - \\epsilon{\\left (- k + k_{p} \\right )} - \\frac{i}{2} \\kappa{\\left (- k + k_{p} \\right )}\\end{matrix}\\right]$$"
       ],
       "metadata": {},
       "output_type": "pyout",
       "png": "[encoded data removed]",
       "prompt_number": 262,
       "text": [
        "\u23a1                  2                      \u2148\u22c5\u03ba(k + k_p)                  2\u22c5\u2148\u22c5\u03c6_\n",
        "\u23a22\u22c5n_p\u22c5\u2502X(k + k_p)\u2502  - \u03c9_p + \u03b5(k + k_p) - \u2500\u2500\u2500\u2500\u2500\u2500\u2500\u2500\u2500\u2500\u2500\u2500             n_p\u22c5\u212f      \n",
        "\u23a2                                              2                              \n",
        "\u23a2                                                                             \n",
        "\u23a2                                     -2\u22c5\u2148\u22c5\u03c6_p                               2\n",
        "\u23a2        -n_p\u22c5X(-k + k_p)\u22c5X(k + k_p)\u22c5\u212f                  - 2\u22c5n_p\u22c5\u2502X(-k + k_p)\u2502 \n",
        "\u23a3                                                                             \n",
        "\n",
        "p ___________ __________            \u23a4\n",
        " \u22c5X(-k + k_p)\u22c5X(k + k_p)            \u23a5\n",
        "                                    \u23a5\n",
        "                                    \u23a5\n",
        "                       \u2148\u22c5\u03ba(-k + k_p)\u23a5\n",
        " + \u03c9_p - \u03b5(-k + k_p) - \u2500\u2500\u2500\u2500\u2500\u2500\u2500\u2500\u2500\u2500\u2500\u2500\u2500\u23a5\n",
        "                             2      \u23a6"
       ]
      }
     ],
     "prompt_number": 262
    },
    {
     "cell_type": "code",
     "collapsed": false,
     "input": [
      "Lnot = Matrix([[M(k),Q(k)*exp(2*I*phip)],[-conjugate(Q(-k)*exp(2*I*phip)),-conjugate(M(-k))]]); Lnot"
     ],
     "language": "python",
     "metadata": {},
     "outputs": [
      {
       "latex": [
        "$$\\left[\\begin{matrix}M{\\left (k \\right )} & Q{\\left (k \\right )} e^{2 i \\phi_{p}}\\\\- e^{- 2 i \\phi_{p}} \\overline{Q{\\left (- k \\right )}} & - \\overline{M{\\left (- k \\right )}}\\end{matrix}\\right]$$"
       ],
       "metadata": {},
       "output_type": "pyout",
       "png": "[encoded data removed]",
       "prompt_number": 263,
       "text": [
        "\u23a1                        2\u22c5\u2148\u22c5\u03c6_p\u23a4\n",
        "\u23a2      M(k)        Q(k)\u22c5\u212f       \u23a5\n",
        "\u23a2                               \u23a5\n",
        "\u23a2  -2\u22c5\u2148\u22c5\u03c6_p _____      _____    \u23a5\n",
        "\u23a3-\u212f        \u22c5Q(-k)     -M(-k)    \u23a6"
       ]
      }
     ],
     "prompt_number": 263
    },
    {
     "cell_type": "markdown",
     "metadata": {},
     "source": [
      "$$\\frac{\\sqrt{g}}{g_v}\\tilde{u}_p = u_p$$\n",
      "$$\\frac{\\sqrt{g}}{g_v}\\tilde{v}_p = v_p$$\n",
      "$$\\frac{C(k_p)}{X(k_p)}C(k+k_p) = R(k)$$"
     ]
    },
    {
     "cell_type": "code",
     "collapsed": false,
     "input": [
      "Fdnot = Matrix([R(k)*sqrt(np)*exp(I*phip), -conjugate(R(-k))*conjugate(sqrt(np)*exp(I*phip))])\n",
      "varbsnot = Matrix([up(k), vp(k)])"
     ],
     "language": "python",
     "metadata": {},
     "outputs": [],
     "prompt_number": 264
    },
    {
     "cell_type": "code",
     "collapsed": false,
     "input": [
      "Eq(Lnot*varbsnot, -Fdnot)"
     ],
     "language": "python",
     "metadata": {},
     "outputs": [
      {
       "latex": [
        "$$\\left[\\begin{matrix}M{\\left (k \\right )} \\operatorname{u_{p}}{\\left (k \\right )} + Q{\\left (k \\right )} \\operatorname{v_{p}}{\\left (k \\right )} e^{2 i \\phi_{p}}\\\\- \\operatorname{u_{p}}{\\left (k \\right )} e^{- 2 i \\phi_{p}} \\overline{Q{\\left (- k \\right )}} - \\operatorname{v_{p}}{\\left (k \\right )} \\overline{M{\\left (- k \\right )}}\\end{matrix}\\right] = \\left[\\begin{matrix}- \\sqrt{n_{p}} R{\\left (k \\right )} e^{i \\phi_{p}}\\\\\\sqrt{n_{p}} e^{- i \\phi_{p}} \\overline{R{\\left (- k \\right )}}\\end{matrix}\\right]$$"
       ],
       "metadata": {},
       "output_type": "pyout",
       "png": "[encoded data removed]",
       "prompt_number": 265,
       "text": [
        "\u23a1                             2\u22c5\u2148\u22c5\u03c6_p   \u23a4   \u23a1   _____       \u2148\u22c5\u03c6_p \u23a4\n",
        "\u23a2  M(k)\u22c5u_p(k) + Q(k)\u22c5v_p(k)\u22c5\u212f          \u23a5 = \u23a2-\u2572\u2571 n_p \u22c5R(k)\u22c5\u212f      \u23a5\n",
        "\u23a2                                       \u23a5   \u23a2                     \u23a5\n",
        "\u23a2          -2\u22c5\u2148\u22c5\u03c6_p _____          _____\u23a5   \u23a2  _____  -\u2148\u22c5\u03c6_p _____\u23a5\n",
        "\u23a3- u_p(k)\u22c5\u212f        \u22c5Q(-k) - v_p(k)\u22c5M(-k)\u23a6   \u23a3\u2572\u2571 n_p \u22c5\u212f      \u22c5R(-k)\u23a6"
       ]
      }
     ],
     "prompt_number": 265
    },
    {
     "cell_type": "code",
     "collapsed": false,
     "input": [
      "x = Lnot.LUsolve(-Fdnot)"
     ],
     "language": "python",
     "metadata": {},
     "outputs": [],
     "prompt_number": 266
    },
    {
     "cell_type": "markdown",
     "metadata": {},
     "source": [
      "now we need $u_p(k)+v_p^*(-k)$"
     ]
    },
    {
     "cell_type": "code",
     "collapsed": false,
     "input": [
      "simplify(x[0] + conjugate(x[1]).subs(k,-k))"
     ],
     "language": "python",
     "metadata": {},
     "outputs": [
      {
       "latex": [
        "$$\\frac{2 \\sqrt{n_{p}} \\left(Q{\\left (k \\right )} \\overline{R{\\left (- k \\right )}} - R{\\left (k \\right )} \\overline{M{\\left (- k \\right )}}\\right) e^{i \\phi_{p}}}{M{\\left (k \\right )} \\overline{M{\\left (- k \\right )}} - Q{\\left (k \\right )} \\overline{Q{\\left (- k \\right )}}}$$"
       ],
       "metadata": {},
       "output_type": "pyout",
       "png": "[encoded data removed]",
       "prompt_number": 267,
       "text": [
        "    _____ \u239b     _____        _____\u239e  \u2148\u22c5\u03c6_p\n",
        "2\u22c5\u2572\u2571 n_p \u22c5\u239dQ(k)\u22c5R(-k) - R(k)\u22c5M(-k)\u23a0\u22c5\u212f     \n",
        "\u2500\u2500\u2500\u2500\u2500\u2500\u2500\u2500\u2500\u2500\u2500\u2500\u2500\u2500\u2500\u2500\u2500\u2500\u2500\u2500\u2500\u2500\u2500\u2500\u2500\u2500\u2500\u2500\u2500\u2500\u2500\u2500\u2500\u2500\u2500\u2500\u2500\u2500\u2500\u2500\u2500\u2500\n",
        "              _____        _____          \n",
        "         M(k)\u22c5M(-k) - Q(k)\u22c5Q(-k)          "
       ]
      }
     ],
     "prompt_number": 267
    },
    {
     "cell_type": "code",
     "collapsed": false,
     "input": [],
     "language": "python",
     "metadata": {},
     "outputs": [],
     "prompt_number": 267
    }
   ],
   "metadata": {}
  }
 ]
}