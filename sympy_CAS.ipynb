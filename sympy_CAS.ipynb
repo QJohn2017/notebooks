{
 "metadata": {
  "name": "",
  "signature": "sha256:78add54dd5a9b8535a4c1a06716ecb5906e4fe91fb2404937475410e117d7b60"
 },
 "nbformat": 3,
 "nbformat_minor": 0,
 "worksheets": [
  {
   "cells": [
    {
     "cell_type": "code",
     "collapsed": false,
     "input": [
      "from sympy import *\n",
      "from sympy import init_printing\n",
      "init_printing()"
     ],
     "language": "python",
     "metadata": {},
     "outputs": [],
     "prompt_number": 1
    },
    {
     "cell_type": "code",
     "collapsed": false,
     "input": [
      "k, q, k1, k2, q1, q2, n = symbols('k q k_1 k_2 q_1 q_2 n', integer=True)\n",
      "ut1, ut2, vt1, vt2 = symbols('utilde_1 utilde_2 vtilde_1 vtilde_2', cls=Function)\n",
      "psiss1, psiss2 = symbols('psi^ss_1 psi^ss_2')\n",
      "omega, omega1, omega2, t, m, gv, g = symbols('omega omega_1 omega_2 t m g_v g', real=True)\n",
      "#a = Wild('a')"
     ],
     "language": "python",
     "metadata": {},
     "outputs": [],
     "prompt_number": 2
    },
    {
     "cell_type": "code",
     "collapsed": false,
     "input": [
      "class psitilde(Function):\n",
      "    nargs = 2\n",
      "\n",
      "    @classmethod\n",
      "    def eval(cls, k, t):\n",
      "        return psiss1 * KroneckerDelta(k, k1) * exp(-I*omega1*t) + \\\n",
      "               psiss2 * KroneckerDelta(k, k2) * exp(-I*omega2*t) + \\\n",
      "               (ut1(k-k1)*exp(-I*omega*t) + conjugate(vt1(k1-k))*exp(I*omega*t))*exp(-I*omega1*t) + \\\n",
      "               (ut2(k-k2)*exp(-I*omega*t) + conjugate(vt2(k2-k))*exp(I*omega*t))*exp(-I*omega2*t)"
     ],
     "language": "python",
     "metadata": {},
     "outputs": [],
     "prompt_number": 3
    },
    {
     "cell_type": "code",
     "collapsed": false,
     "input": [
      "class psitildebar(Function):\n",
      "    nargs = 2\n",
      "\n",
      "    @classmethod\n",
      "    def eval(cls, k, t):\n",
      "        return conjugate(psitilde(k,t))"
     ],
     "language": "python",
     "metadata": {},
     "outputs": [],
     "prompt_number": 4
    },
    {
     "cell_type": "code",
     "collapsed": false,
     "input": [
      "class linearize(Function):\n",
      "    nargs = 2\n",
      "\n",
      "    @classmethod\n",
      "    def eval(cls, arg, order):\n",
      "        step1 = arg.replace(vt1, lambda expr: n*vt1(expr))\n",
      "        step2 = step1.replace(vt2, lambda expr: n*vt2(expr))\n",
      "        step3 = step2.replace(ut2, lambda expr: n*ut2(expr))\n",
      "        step4 = step3.replace(ut1, lambda expr: n*ut1(expr))\n",
      "        return step4.subs(n, order)"
     ],
     "language": "python",
     "metadata": {},
     "outputs": [],
     "prompt_number": 5
    },
    {
     "cell_type": "code",
     "collapsed": false,
     "input": [
      "class psitildeMF(Function):\n",
      "    nargs = 2\n",
      "\n",
      "    @classmethod\n",
      "    def eval(cls, k, t):\n",
      "        return linearize(psitilde(k,t), 0)"
     ],
     "language": "python",
     "metadata": {},
     "outputs": [],
     "prompt_number": 6
    },
    {
     "cell_type": "code",
     "collapsed": false,
     "input": [
      "psitilde(k,t)"
     ],
     "language": "python",
     "metadata": {},
     "outputs": [
      {
       "latex": [
        "$$\\psi^{ss}_{1} e^{- i \\omega_{1} t} \\delta_{k k_{1}} + \\psi^{ss}_{2} e^{- i \\omega_{2} t} \\delta_{k k_{2}} + \\left(\\tilde{u}_{1}{\\left (k - k_{1} \\right )} e^{- i \\omega t} + e^{i \\omega t} \\overline{\\tilde{v}_{1}{\\left (- k + k_{1} \\right )}}\\right) e^{- i \\omega_{1} t} + \\left(\\tilde{u}_{2}{\\left (k - k_{2} \\right )} e^{- i \\omega t} + e^{i \\omega t} \\overline{\\tilde{v}_{2}{\\left (- k + k_{2} \\right )}}\\right) e^{- i \\omega_{2} t}$$"
       ],
       "metadata": {},
       "output_type": "pyout",
       "png": "[encoded data removed]",
       "prompt_number": 7,
       "text": [
        "         -\u2148\u22c5\u03c9\u2081\u22c5t                  -\u2148\u22c5\u03c9\u2082\u22c5t         \u239b             -\u2148\u22c5\u03c9\u22c5t    \u2148\u22c5\u03c9\u22c5\n",
        "\u03c8_1__ss\u22c5\u212f       \u22c5\u03b4     + \u03c8_2__ss\u22c5\u212f       \u22c5\u03b4     + \u239du\u0303\u2081(k - k\u2081)\u22c5\u212f       + \u212f    \n",
        "                  k,k\u2081                     k,k\u2082                               \n",
        "\n",
        "t ____________\u239e  -\u2148\u22c5\u03c9\u2081\u22c5t   \u239b             -\u2148\u22c5\u03c9\u22c5t    \u2148\u22c5\u03c9\u22c5t ____________\u239e  -\u2148\u22c5\u03c9\u2082\u22c5\n",
        " \u22c5v\u0303\u2081(-k + k\u2081)\u23a0\u22c5\u212f        + \u239du\u0303\u2082(k - k\u2082)\u22c5\u212f       + \u212f     \u22c5v\u0303\u2082(-k + k\u2082)\u23a0\u22c5\u212f      \n",
        "                                                                              \n",
        "\n",
        "t\n",
        " \n",
        " "
       ]
      }
     ],
     "prompt_number": 7
    },
    {
     "cell_type": "code",
     "collapsed": false,
     "input": [
      "psitildeMF(k,t)"
     ],
     "language": "python",
     "metadata": {},
     "outputs": [
      {
       "latex": [
        "$$\\psi^{ss}_{1} e^{- i \\omega_{1} t} \\delta_{k k_{1}} + \\psi^{ss}_{2} e^{- i \\omega_{2} t} \\delta_{k k_{2}}$$"
       ],
       "metadata": {},
       "output_type": "pyout",
       "png": "[encoded data removed]",
       "prompt_number": 8,
       "text": [
        "         -\u2148\u22c5\u03c9\u2081\u22c5t                  -\u2148\u22c5\u03c9\u2082\u22c5t      \n",
        "\u03c8_1__ss\u22c5\u212f       \u22c5\u03b4     + \u03c8_2__ss\u22c5\u212f       \u22c5\u03b4    \n",
        "                  k,k\u2081                     k,k\u2082"
       ]
      }
     ],
     "prompt_number": 8
    },
    {
     "cell_type": "code",
     "collapsed": false,
     "input": [
      "#psitilde(k,t).replace(lambda expr: expr.match(ut1(a)) or expr.match(ut2(a)) or expr.match(vt1(a)) or expr.match(vt2(a)),\n",
      "#                      lambda expr: m*expr)"
     ],
     "language": "python",
     "metadata": {},
     "outputs": [],
     "prompt_number": 9
    },
    {
     "cell_type": "heading",
     "level": 1,
     "metadata": {},
     "source": [
      "Left-hand side"
     ]
    },
    {
     "cell_type": "code",
     "collapsed": false,
     "input": [
      "lhs = expand(I*diff(psitilde(k,t), t))"
     ],
     "language": "python",
     "metadata": {},
     "outputs": [],
     "prompt_number": 10
    },
    {
     "cell_type": "code",
     "collapsed": false,
     "input": [
      "lhsMF = linearize(lhs, 0)"
     ],
     "language": "python",
     "metadata": {},
     "outputs": [],
     "prompt_number": 11
    },
    {
     "cell_type": "code",
     "collapsed": false,
     "input": [
      "lhsMF"
     ],
     "language": "python",
     "metadata": {},
     "outputs": [
      {
       "latex": [
        "$$\\omega_{1} \\psi^{ss}_{1} e^{- i \\omega_{1} t} \\delta_{k k_{1}} + \\omega_{2} \\psi^{ss}_{2} e^{- i \\omega_{2} t} \\delta_{k k_{2}}$$"
       ],
       "metadata": {},
       "output_type": "pyout",
       "png": "[encoded data removed]",
       "prompt_number": 12,
       "text": [
        "            -\u2148\u22c5\u03c9\u2081\u22c5t                     -\u2148\u22c5\u03c9\u2082\u22c5t      \n",
        "\u03c9\u2081\u22c5\u03c8_1__ss\u22c5\u212f       \u22c5\u03b4     + \u03c9\u2082\u22c5\u03c8_2__ss\u22c5\u212f       \u22c5\u03b4    \n",
        "                     k,k\u2081                        k,k\u2082"
       ]
      }
     ],
     "prompt_number": 12
    },
    {
     "cell_type": "code",
     "collapsed": false,
     "input": [
      "lhsLIN = lhs - lhsMF"
     ],
     "language": "python",
     "metadata": {},
     "outputs": [],
     "prompt_number": 13
    },
    {
     "cell_type": "code",
     "collapsed": false,
     "input": [
      "lhsLIN"
     ],
     "language": "python",
     "metadata": {},
     "outputs": [
      {
       "latex": [
        "$$\\omega \\tilde{u}_{1}{\\left (k - k_{1} \\right )} e^{- i \\omega t} e^{- i \\omega_{1} t} + \\omega \\tilde{u}_{2}{\\left (k - k_{2} \\right )} e^{- i \\omega t} e^{- i \\omega_{2} t} - \\omega e^{i \\omega t} e^{- i \\omega_{2} t} \\overline{\\tilde{v}_{2}{\\left (- k + k_{2} \\right )}} - \\omega e^{i \\omega t} e^{- i \\omega_{1} t} \\overline{\\tilde{v}_{1}{\\left (- k + k_{1} \\right )}} + \\omega_{1} \\tilde{u}_{1}{\\left (k - k_{1} \\right )} e^{- i \\omega t} e^{- i \\omega_{1} t} + \\omega_{1} e^{i \\omega t} e^{- i \\omega_{1} t} \\overline{\\tilde{v}_{1}{\\left (- k + k_{1} \\right )}} + \\omega_{2} \\tilde{u}_{2}{\\left (k - k_{2} \\right )} e^{- i \\omega t} e^{- i \\omega_{2} t} + \\omega_{2} e^{i \\omega t} e^{- i \\omega_{2} t} \\overline{\\tilde{v}_{2}{\\left (- k + k_{2} \\right )}}$$"
       ],
       "metadata": {},
       "output_type": "pyout",
       "png": "[encoded data removed]",
       "prompt_number": 14,
       "text": [
        "               -\u2148\u22c5\u03c9\u22c5t  -\u2148\u22c5\u03c9\u2081\u22c5t                  -\u2148\u22c5\u03c9\u22c5t  -\u2148\u22c5\u03c9\u2082\u22c5t      \u2148\u22c5\u03c9\u22c5t  -\u2148\n",
        "\u03c9\u22c5u\u0303\u2081(k - k\u2081)\u22c5\u212f      \u22c5\u212f        + \u03c9\u22c5u\u0303\u2082(k - k\u2082)\u22c5\u212f      \u22c5\u212f        - \u03c9\u22c5\u212f     \u22c5\u212f  \n",
        "\n",
        "\u22c5\u03c9\u2082\u22c5t ____________      \u2148\u22c5\u03c9\u22c5t  -\u2148\u22c5\u03c9\u2081\u22c5t ____________                   -\u2148\u22c5\u03c9\u22c5t  \n",
        "     \u22c5v\u0303\u2082(-k + k\u2082) - \u03c9\u22c5\u212f     \u22c5\u212f       \u22c5v\u0303\u2081(-k + k\u2081) + \u03c9\u2081\u22c5u\u0303\u2081(k - k\u2081)\u22c5\u212f      \u22c5\u212f\n",
        "\n",
        "-\u2148\u22c5\u03c9\u2081\u22c5t       \u2148\u22c5\u03c9\u22c5t  -\u2148\u22c5\u03c9\u2081\u22c5t ____________                   -\u2148\u22c5\u03c9\u22c5t  -\u2148\u22c5\u03c9\u2082\u22c5t   \n",
        "        + \u03c9\u2081\u22c5\u212f     \u22c5\u212f       \u22c5v\u0303\u2081(-k + k\u2081) + \u03c9\u2082\u22c5u\u0303\u2082(k - k\u2082)\u22c5\u212f      \u22c5\u212f        + \n",
        "\n",
        "    \u2148\u22c5\u03c9\u22c5t  -\u2148\u22c5\u03c9\u2082\u22c5t ____________\n",
        "\u03c9\u2082\u22c5\u212f     \u22c5\u212f       \u22c5v\u0303\u2082(-k + k\u2082)"
       ]
      }
     ],
     "prompt_number": 14
    },
    {
     "cell_type": "heading",
     "level": 1,
     "metadata": {},
     "source": [
      "Right-hand side"
     ]
    },
    {
     "cell_type": "code",
     "collapsed": false,
     "input": [
      "rhs1 = expand(k**2/(2*m)*psitilde(k,t))"
     ],
     "language": "python",
     "metadata": {},
     "outputs": [],
     "prompt_number": 15
    },
    {
     "cell_type": "code",
     "collapsed": false,
     "input": [
      "rhs1"
     ],
     "language": "python",
     "metadata": {},
     "outputs": [
      {
       "latex": [
        "$$\\frac{k^{2} \\psi^{ss}_{1} \\delta_{k k_{1}}}{2 m} e^{- i \\omega_{1} t} + \\frac{k^{2} \\psi^{ss}_{2} \\delta_{k k_{2}}}{2 m} e^{- i \\omega_{2} t} + \\frac{k^{2}}{2 m} \\tilde{u}_{1}{\\left (k - k_{1} \\right )} e^{- i \\omega t} e^{- i \\omega_{1} t} + \\frac{k^{2}}{2 m} \\tilde{u}_{2}{\\left (k - k_{2} \\right )} e^{- i \\omega t} e^{- i \\omega_{2} t} + \\frac{k^{2} e^{i \\omega t}}{2 m} e^{- i \\omega_{2} t} \\overline{\\tilde{v}_{2}{\\left (- k + k_{2} \\right )}} + \\frac{k^{2} e^{i \\omega t}}{2 m} e^{- i \\omega_{1} t} \\overline{\\tilde{v}_{1}{\\left (- k + k_{1} \\right )}}$$"
       ],
       "metadata": {},
       "output_type": "pyout",
       "png": "[encoded data removed]",
       "prompt_number": 16,
       "text": [
        " 2          -\u2148\u22c5\u03c9\u2081\u22c5t          2          -\u2148\u22c5\u03c9\u2082\u22c5t                               \n",
        "k \u22c5\u03c8_1__ss\u22c5\u212f       \u22c5\u03b4       k \u22c5\u03c8_2__ss\u22c5\u212f       \u22c5\u03b4        2              -\u2148\u22c5\u03c9\u22c5t\n",
        "                     k,k\u2081                        k,k\u2082   k \u22c5u\u0303\u2081(k - k\u2081)\u22c5\u212f      \n",
        "\u2500\u2500\u2500\u2500\u2500\u2500\u2500\u2500\u2500\u2500\u2500\u2500\u2500\u2500\u2500\u2500\u2500\u2500\u2500\u2500\u2500\u2500\u2500\u2500\u2500 + \u2500\u2500\u2500\u2500\u2500\u2500\u2500\u2500\u2500\u2500\u2500\u2500\u2500\u2500\u2500\u2500\u2500\u2500\u2500\u2500\u2500\u2500\u2500\u2500\u2500 + \u2500\u2500\u2500\u2500\u2500\u2500\u2500\u2500\u2500\u2500\u2500\u2500\u2500\u2500\u2500\u2500\u2500\u2500\u2500\u2500\u2500\u2500\n",
        "           2\u22c5m                         2\u22c5m                            2\u22c5m     \n",
        "\n",
        "                                                                              \n",
        "  -\u2148\u22c5\u03c9\u2081\u22c5t    2              -\u2148\u22c5\u03c9\u22c5t  -\u2148\u22c5\u03c9\u2082\u22c5t    2  \u2148\u22c5\u03c9\u22c5t  -\u2148\u22c5\u03c9\u2082\u22c5t ____________ \n",
        "\u22c5\u212f          k \u22c5u\u0303\u2082(k - k\u2082)\u22c5\u212f      \u22c5\u212f          k \u22c5\u212f     \u22c5\u212f       \u22c5v\u0303\u2082(-k + k\u2082) \n",
        "\u2500\u2500\u2500\u2500\u2500\u2500\u2500\u2500\u2500 + \u2500\u2500\u2500\u2500\u2500\u2500\u2500\u2500\u2500\u2500\u2500\u2500\u2500\u2500\u2500\u2500\u2500\u2500\u2500\u2500\u2500\u2500\u2500\u2500\u2500\u2500\u2500\u2500\u2500\u2500\u2500 + \u2500\u2500\u2500\u2500\u2500\u2500\u2500\u2500\u2500\u2500\u2500\u2500\u2500\u2500\u2500\u2500\u2500\u2500\u2500\u2500\u2500\u2500\u2500\u2500\u2500\u2500\u2500\u2500\u2500\u2500\u2500 \n",
        "                          2\u22c5m                               2\u22c5m               \n",
        "\n",
        "                                 \n",
        "   2  \u2148\u22c5\u03c9\u22c5t  -\u2148\u22c5\u03c9\u2081\u22c5t ____________\n",
        "  k \u22c5\u212f     \u22c5\u212f       \u22c5v\u0303\u2081(-k + k\u2081)\n",
        "+ \u2500\u2500\u2500\u2500\u2500\u2500\u2500\u2500\u2500\u2500\u2500\u2500\u2500\u2500\u2500\u2500\u2500\u2500\u2500\u2500\u2500\u2500\u2500\u2500\u2500\u2500\u2500\u2500\u2500\u2500\u2500\n",
        "                2\u22c5m              "
       ]
      }
     ],
     "prompt_number": 16
    },
    {
     "cell_type": "code",
     "collapsed": false,
     "input": [
      "rhs1MF = linearize(rhs1, 0)"
     ],
     "language": "python",
     "metadata": {},
     "outputs": [],
     "prompt_number": 17
    },
    {
     "cell_type": "code",
     "collapsed": false,
     "input": [
      "rhs1MF"
     ],
     "language": "python",
     "metadata": {},
     "outputs": [
      {
       "latex": [
        "$$\\frac{k^{2} \\psi^{ss}_{1} \\delta_{k k_{1}}}{2 m} e^{- i \\omega_{1} t} + \\frac{k^{2} \\psi^{ss}_{2} \\delta_{k k_{2}}}{2 m} e^{- i \\omega_{2} t}$$"
       ],
       "metadata": {},
       "output_type": "pyout",
       "png": "[encoded data removed]",
       "prompt_number": 18,
       "text": [
        " 2          -\u2148\u22c5\u03c9\u2081\u22c5t          2          -\u2148\u22c5\u03c9\u2082\u22c5t      \n",
        "k \u22c5\u03c8_1__ss\u22c5\u212f       \u22c5\u03b4       k \u22c5\u03c8_2__ss\u22c5\u212f       \u22c5\u03b4    \n",
        "                     k,k\u2081                        k,k\u2082\n",
        "\u2500\u2500\u2500\u2500\u2500\u2500\u2500\u2500\u2500\u2500\u2500\u2500\u2500\u2500\u2500\u2500\u2500\u2500\u2500\u2500\u2500\u2500\u2500\u2500\u2500 + \u2500\u2500\u2500\u2500\u2500\u2500\u2500\u2500\u2500\u2500\u2500\u2500\u2500\u2500\u2500\u2500\u2500\u2500\u2500\u2500\u2500\u2500\u2500\u2500\u2500\n",
        "           2\u22c5m                         2\u22c5m           "
       ]
      }
     ],
     "prompt_number": 18
    },
    {
     "cell_type": "code",
     "collapsed": false,
     "input": [
      "rhs1LIN = rhs1 - rhs1MF"
     ],
     "language": "python",
     "metadata": {},
     "outputs": [],
     "prompt_number": 19
    },
    {
     "cell_type": "code",
     "collapsed": false,
     "input": [
      "rhs1LIN"
     ],
     "language": "python",
     "metadata": {},
     "outputs": [
      {
       "latex": [
        "$$\\frac{k^{2}}{2 m} \\tilde{u}_{1}{\\left (k - k_{1} \\right )} e^{- i \\omega t} e^{- i \\omega_{1} t} + \\frac{k^{2}}{2 m} \\tilde{u}_{2}{\\left (k - k_{2} \\right )} e^{- i \\omega t} e^{- i \\omega_{2} t} + \\frac{k^{2} e^{i \\omega t}}{2 m} e^{- i \\omega_{2} t} \\overline{\\tilde{v}_{2}{\\left (- k + k_{2} \\right )}} + \\frac{k^{2} e^{i \\omega t}}{2 m} e^{- i \\omega_{1} t} \\overline{\\tilde{v}_{1}{\\left (- k + k_{1} \\right )}}$$"
       ],
       "metadata": {},
       "output_type": "pyout",
       "png": "[encoded data removed]",
       "prompt_number": 20,
       "text": [
        " 2              -\u2148\u22c5\u03c9\u22c5t  -\u2148\u22c5\u03c9\u2081\u22c5t    2              -\u2148\u22c5\u03c9\u22c5t  -\u2148\u22c5\u03c9\u2082\u22c5t    2  \u2148\u22c5\u03c9\u22c5t \n",
        "k \u22c5u\u0303\u2081(k - k\u2081)\u22c5\u212f      \u22c5\u212f          k \u22c5u\u0303\u2082(k - k\u2082)\u22c5\u212f      \u22c5\u212f          k \u22c5\u212f     \u22c5\n",
        "\u2500\u2500\u2500\u2500\u2500\u2500\u2500\u2500\u2500\u2500\u2500\u2500\u2500\u2500\u2500\u2500\u2500\u2500\u2500\u2500\u2500\u2500\u2500\u2500\u2500\u2500\u2500\u2500\u2500\u2500\u2500 + \u2500\u2500\u2500\u2500\u2500\u2500\u2500\u2500\u2500\u2500\u2500\u2500\u2500\u2500\u2500\u2500\u2500\u2500\u2500\u2500\u2500\u2500\u2500\u2500\u2500\u2500\u2500\u2500\u2500\u2500\u2500 + \u2500\u2500\u2500\u2500\u2500\u2500\u2500\u2500\u2500\u2500\n",
        "              2\u22c5m                               2\u22c5m                           \n",
        "\n",
        " -\u2148\u22c5\u03c9\u2082\u22c5t ____________    2  \u2148\u22c5\u03c9\u22c5t  -\u2148\u22c5\u03c9\u2081\u22c5t ____________\n",
        "\u212f       \u22c5v\u0303\u2082(-k + k\u2082)   k \u22c5\u212f     \u22c5\u212f       \u22c5v\u0303\u2081(-k + k\u2081)\n",
        "\u2500\u2500\u2500\u2500\u2500\u2500\u2500\u2500\u2500\u2500\u2500\u2500\u2500\u2500\u2500\u2500\u2500\u2500\u2500\u2500\u2500 + \u2500\u2500\u2500\u2500\u2500\u2500\u2500\u2500\u2500\u2500\u2500\u2500\u2500\u2500\u2500\u2500\u2500\u2500\u2500\u2500\u2500\u2500\u2500\u2500\u2500\u2500\u2500\u2500\u2500\u2500\u2500\n",
        "    2\u22c5m                               2\u22c5m              "
       ]
      }
     ],
     "prompt_number": 20
    },
    {
     "cell_type": "code",
     "collapsed": false,
     "input": [
      "rhs2LIN = Sum(expand(gv*psitildeMF(q,t)), (q, -oo, oo)).doit()"
     ],
     "language": "python",
     "metadata": {},
     "outputs": [],
     "prompt_number": 21
    },
    {
     "cell_type": "code",
     "collapsed": false,
     "input": [
      "rhs2LIN"
     ],
     "language": "python",
     "metadata": {},
     "outputs": [
      {
       "latex": [
        "$$g_{v} \\psi^{ss}_{1} e^{- i \\omega_{1} t} + g_{v} \\psi^{ss}_{2} e^{- i \\omega_{2} t}$$"
       ],
       "metadata": {},
       "output_type": "pyout",
       "png": "[encoded data removed]",
       "prompt_number": 22,
       "text": [
        "            -\u2148\u22c5\u03c9\u2081\u22c5t               -\u2148\u22c5\u03c9\u2082\u22c5t\n",
        "g\u1d65\u22c5\u03c8_1__ss\u22c5\u212f        + g\u1d65\u22c5\u03c8_2__ss\u22c5\u212f       "
       ]
      }
     ],
     "prompt_number": 22
    },
    {
     "cell_type": "code",
     "collapsed": false,
     "input": [
      "thirdorder = expand(g * psitilde(q1,t) * psitilde(q2,t) * psitildebar(q1+q2-k,t))"
     ],
     "language": "python",
     "metadata": {},
     "outputs": []
    },
    {
     "cell_type": "code",
     "collapsed": false,
     "input": [
      "summandMF = linearize(thirdorder, 0)"
     ],
     "language": "python",
     "metadata": {},
     "outputs": []
    },
    {
     "cell_type": "code",
     "collapsed": false,
     "input": [],
     "language": "python",
     "metadata": {},
     "outputs": []
    }
   ],
   "metadata": {}
  }
 ]
}