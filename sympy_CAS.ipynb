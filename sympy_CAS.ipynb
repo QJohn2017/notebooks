{
 "metadata": {
  "name": "",
  "signature": "sha256:0e1d9c292a62cb723881efa624fd639b353fec7679cc7b8167940f7e92ee5dba"
 },
 "nbformat": 3,
 "nbformat_minor": 0,
 "worksheets": [
  {
   "cells": [
    {
     "cell_type": "code",
     "collapsed": false,
     "input": [
      "from sympy import *\n",
      "from sympy import init_printing\n",
      "from sympy.core.function import AppliedUndef\n",
      "from sympy.strategies.traverse import bottom_up\n",
      "from sympy.strategies import chain, rebuild\n",
      "import collections\n",
      "init_printing(use_unicode=True)"
     ],
     "language": "python",
     "metadata": {},
     "outputs": [],
     "prompt_number": 67
    },
    {
     "cell_type": "code",
     "collapsed": false,
     "input": [
      "k, q, k1, k2, q1, q2, n = symbols('k q k_1 k_2 q_1 q_2 n', integer=True)\n",
      "ut1, ut2, vt1, vt2 = symbols('utilde_1 utilde_2 vtilde_1 vtilde_2', cls=Function)\n",
      "psiss1, psiss2 = symbols('psi^ss_1 psi^ss_2')\n",
      "omega, omega1, omega2, t, m, gv, g = symbols('omega omega_1 omega_2 t m g_v g', real=True)"
     ],
     "language": "python",
     "metadata": {},
     "outputs": [],
     "prompt_number": 2
    },
    {
     "cell_type": "code",
     "collapsed": false,
     "input": [
      "class psitilde(Function):\n",
      "    nargs = 2\n",
      "\n",
      "    @classmethod\n",
      "    def eval(cls, k, t):\n",
      "        return psiss1 * KroneckerDelta(k, k1) * exp(-I*omega1*t) + \\\n",
      "               psiss2 * KroneckerDelta(k, k2) * exp(-I*omega2*t) + \\\n",
      "               (ut1(k-k1)*exp(-I*omega*t) + conjugate(vt1(k1-k))*exp(I*omega*t))*exp(-I*omega1*t) + \\\n",
      "               (ut2(k-k2)*exp(-I*omega*t) + conjugate(vt2(k2-k))*exp(I*omega*t))*exp(-I*omega2*t)"
     ],
     "language": "python",
     "metadata": {},
     "outputs": [],
     "prompt_number": 3
    },
    {
     "cell_type": "code",
     "collapsed": false,
     "input": [
      "class psitildebar(Function):\n",
      "    nargs = 2\n",
      "\n",
      "    @classmethod\n",
      "    def eval(cls, k, t):\n",
      "        return conjugate(psitilde(k,t))"
     ],
     "language": "python",
     "metadata": {},
     "outputs": [],
     "prompt_number": 4
    },
    {
     "cell_type": "code",
     "collapsed": false,
     "input": [
      "class meanfieldize(Function):\n",
      "    nargs = 1\n",
      "\n",
      "    @classmethod\n",
      "    def eval(cls, expr):\n",
      "        flist = ut1, ut2, vt1, vt2\n",
      "        funcs = [fi for fi in expr.atoms(AppliedUndef) if fi.func in flist]\n",
      "        linear = []\n",
      "        for a in Add.make_args(expr):\n",
      "            if not a.has(*funcs):\n",
      "                linear.append(a)\n",
      "        return Add(*linear)"
     ],
     "language": "python",
     "metadata": {},
     "outputs": [],
     "prompt_number": 5
    },
    {
     "cell_type": "code",
     "collapsed": false,
     "input": [
      "class linearize(Function):\n",
      "    nargs = 1\n",
      "\n",
      "    @classmethod\n",
      "    def eval(cls, expr):\n",
      "        flist = ut1, ut2, vt1, vt2\n",
      "        funcs = [fi for fi in expr.atoms(AppliedUndef) if fi.func in flist]\n",
      "        linear = []\n",
      "        for a in Add.make_args(expr):\n",
      "            if not a.has(*funcs) or Poly(a, *funcs).is_linear and len(a.atoms(*funcs))==1:\n",
      "                linear.append(a)\n",
      "        return Add(*linear)"
     ],
     "language": "python",
     "metadata": {},
     "outputs": [],
     "prompt_number": 6
    },
    {
     "cell_type": "code",
     "collapsed": false,
     "input": [
      "class psitildeMF(Function):\n",
      "    nargs = 2\n",
      "\n",
      "    @classmethod\n",
      "    def eval(cls, k, t):\n",
      "        return meanfieldize(psitilde(k,t))"
     ],
     "language": "python",
     "metadata": {},
     "outputs": [],
     "prompt_number": 7
    },
    {
     "cell_type": "code",
     "collapsed": false,
     "input": [
      "def eqs2matrix(eqs, syms, augment=False):\n",
      "    \"\"\"\n",
      "    >>> s\n",
      "    [x + 2*y == 4, 2*c + y/2 == 0]\n",
      "    >>> eqs2matrix(s, (x, c))\n",
      "    (Matrix([\n",
      "    [1, 0],\n",
      "    [0, 2]]), Matrix([\n",
      "    [-2*y + 4],\n",
      "    [    -y/2]]))\n",
      "    >>> eqs2matrix([2*c*(x+y)-4],(x, y))\n",
      "    (Matrix([[2*c, 2*c]]), Matrix([[4]]))\n",
      "    \"\"\"\n",
      "    s = Matrix([si.lhs - si.rhs if isinstance(si, Equality) else si for si in eqs])\n",
      "    sym = syms\n",
      "    j = s.jacobian(sym)\n",
      "    rhs = -(s - j*Matrix(sym))\n",
      "    rhs.simplify()\n",
      "    if augment:\n",
      "        j.col_insert(0, rhs)\n",
      "    else:\n",
      "        j = (j, rhs)\n",
      "    return j"
     ],
     "language": "python",
     "metadata": {},
     "outputs": [],
     "prompt_number": 8
    },
    {
     "cell_type": "code",
     "collapsed": false,
     "input": [
      "S.One"
     ],
     "language": "python",
     "metadata": {},
     "outputs": [
      {
       "latex": [
        "$$1$$"
       ],
       "metadata": {},
       "output_type": "pyout",
       "png": "[encoded data removed]",
       "prompt_number": 9,
       "text": [
        "1"
       ]
      }
     ],
     "prompt_number": 9
    },
    {
     "cell_type": "code",
     "collapsed": false,
     "input": [
      "psitilde(k,t)"
     ],
     "language": "python",
     "metadata": {},
     "outputs": [
      {
       "latex": [
        "$$\\psi^{ss}_{1} e^{- i \\omega_{1} t} \\delta_{k k_{1}} + \\psi^{ss}_{2} e^{- i \\omega_{2} t} \\delta_{k k_{2}} + \\left(\\tilde{u}_{1}{\\left (k - k_{1} \\right )} e^{- i \\omega t} + e^{i \\omega t} \\overline{\\tilde{v}_{1}{\\left (- k + k_{1} \\right )}}\\right) e^{- i \\omega_{1} t} + \\left(\\tilde{u}_{2}{\\left (k - k_{2} \\right )} e^{- i \\omega t} + e^{i \\omega t} \\overline{\\tilde{v}_{2}{\\left (- k + k_{2} \\right )}}\\right) e^{- i \\omega_{2} t}$$"
       ],
       "metadata": {},
       "output_type": "pyout",
       "png": "[encoded data removed]",
       "prompt_number": 10,
       "text": [
        "         -\u2148\u22c5\u03c9\u2081\u22c5t                  -\u2148\u22c5\u03c9\u2082\u22c5t         \u239b             -\u2148\u22c5\u03c9\u22c5t    \u2148\u22c5\u03c9\u22c5\n",
        "\u03c8_1__ss\u22c5\u212f       \u22c5\u03b4     + \u03c8_2__ss\u22c5\u212f       \u22c5\u03b4     + \u239du\u0303\u2081(k - k\u2081)\u22c5\u212f       + \u212f    \n",
        "                  k,k\u2081                     k,k\u2082                               \n",
        "\n",
        "t ____________\u239e  -\u2148\u22c5\u03c9\u2081\u22c5t   \u239b             -\u2148\u22c5\u03c9\u22c5t    \u2148\u22c5\u03c9\u22c5t ____________\u239e  -\u2148\u22c5\u03c9\u2082\u22c5\n",
        " \u22c5v\u0303\u2081(-k + k\u2081)\u23a0\u22c5\u212f        + \u239du\u0303\u2082(k - k\u2082)\u22c5\u212f       + \u212f     \u22c5v\u0303\u2082(-k + k\u2082)\u23a0\u22c5\u212f      \n",
        "                                                                              \n",
        "\n",
        "t\n",
        " \n",
        " "
       ]
      }
     ],
     "prompt_number": 10
    },
    {
     "cell_type": "code",
     "collapsed": false,
     "input": [
      "psitildeMF(k,t)"
     ],
     "language": "python",
     "metadata": {},
     "outputs": [
      {
       "latex": [
        "$$\\psi^{ss}_{1} e^{- i \\omega_{1} t} \\delta_{k k_{1}} + \\psi^{ss}_{2} e^{- i \\omega_{2} t} \\delta_{k k_{2}}$$"
       ],
       "metadata": {},
       "output_type": "pyout",
       "png": "[encoded data removed]",
       "prompt_number": 11,
       "text": [
        "         -\u2148\u22c5\u03c9\u2081\u22c5t                  -\u2148\u22c5\u03c9\u2082\u22c5t      \n",
        "\u03c8_1__ss\u22c5\u212f       \u22c5\u03b4     + \u03c8_2__ss\u22c5\u212f       \u22c5\u03b4    \n",
        "                  k,k\u2081                     k,k\u2082"
       ]
      }
     ],
     "prompt_number": 11
    },
    {
     "cell_type": "heading",
     "level": 1,
     "metadata": {},
     "source": [
      "Left-hand side"
     ]
    },
    {
     "cell_type": "code",
     "collapsed": false,
     "input": [
      "lhs = expand(I*diff(psitilde(k,t), t))"
     ],
     "language": "python",
     "metadata": {},
     "outputs": [],
     "prompt_number": 12
    },
    {
     "cell_type": "code",
     "collapsed": false,
     "input": [
      "lhsMF = meanfieldize(lhs)"
     ],
     "language": "python",
     "metadata": {},
     "outputs": [],
     "prompt_number": 13
    },
    {
     "cell_type": "code",
     "collapsed": false,
     "input": [
      "lhsMF"
     ],
     "language": "python",
     "metadata": {},
     "outputs": [
      {
       "latex": [
        "$$\\omega_{1} \\psi^{ss}_{1} e^{- i \\omega_{1} t} \\delta_{k k_{1}} + \\omega_{2} \\psi^{ss}_{2} e^{- i \\omega_{2} t} \\delta_{k k_{2}}$$"
       ],
       "metadata": {},
       "output_type": "pyout",
       "png": "[encoded data removed]",
       "prompt_number": 14,
       "text": [
        "            -\u2148\u22c5\u03c9\u2081\u22c5t                     -\u2148\u22c5\u03c9\u2082\u22c5t      \n",
        "\u03c9\u2081\u22c5\u03c8_1__ss\u22c5\u212f       \u22c5\u03b4     + \u03c9\u2082\u22c5\u03c8_2__ss\u22c5\u212f       \u22c5\u03b4    \n",
        "                     k,k\u2081                        k,k\u2082"
       ]
      }
     ],
     "prompt_number": 14
    },
    {
     "cell_type": "code",
     "collapsed": false,
     "input": [
      "lhsLIN = lhs - lhsMF"
     ],
     "language": "python",
     "metadata": {},
     "outputs": [],
     "prompt_number": 15
    },
    {
     "cell_type": "code",
     "collapsed": false,
     "input": [
      "lhsLIN"
     ],
     "language": "python",
     "metadata": {},
     "outputs": [
      {
       "latex": [
        "$$\\omega \\tilde{u}_{1}{\\left (k - k_{1} \\right )} e^{- i \\omega t} e^{- i \\omega_{1} t} + \\omega \\tilde{u}_{2}{\\left (k - k_{2} \\right )} e^{- i \\omega t} e^{- i \\omega_{2} t} - \\omega e^{i \\omega t} e^{- i \\omega_{2} t} \\overline{\\tilde{v}_{2}{\\left (- k + k_{2} \\right )}} - \\omega e^{i \\omega t} e^{- i \\omega_{1} t} \\overline{\\tilde{v}_{1}{\\left (- k + k_{1} \\right )}} + \\omega_{1} \\tilde{u}_{1}{\\left (k - k_{1} \\right )} e^{- i \\omega t} e^{- i \\omega_{1} t} + \\omega_{1} e^{i \\omega t} e^{- i \\omega_{1} t} \\overline{\\tilde{v}_{1}{\\left (- k + k_{1} \\right )}} + \\omega_{2} \\tilde{u}_{2}{\\left (k - k_{2} \\right )} e^{- i \\omega t} e^{- i \\omega_{2} t} + \\omega_{2} e^{i \\omega t} e^{- i \\omega_{2} t} \\overline{\\tilde{v}_{2}{\\left (- k + k_{2} \\right )}}$$"
       ],
       "metadata": {},
       "output_type": "pyout",
       "png": "[encoded data removed]",
       "prompt_number": 16,
       "text": [
        "               -\u2148\u22c5\u03c9\u22c5t  -\u2148\u22c5\u03c9\u2081\u22c5t                  -\u2148\u22c5\u03c9\u22c5t  -\u2148\u22c5\u03c9\u2082\u22c5t      \u2148\u22c5\u03c9\u22c5t  -\u2148\n",
        "\u03c9\u22c5u\u0303\u2081(k - k\u2081)\u22c5\u212f      \u22c5\u212f        + \u03c9\u22c5u\u0303\u2082(k - k\u2082)\u22c5\u212f      \u22c5\u212f        - \u03c9\u22c5\u212f     \u22c5\u212f  \n",
        "\n",
        "\u22c5\u03c9\u2082\u22c5t ____________      \u2148\u22c5\u03c9\u22c5t  -\u2148\u22c5\u03c9\u2081\u22c5t ____________                   -\u2148\u22c5\u03c9\u22c5t  \n",
        "     \u22c5v\u0303\u2082(-k + k\u2082) - \u03c9\u22c5\u212f     \u22c5\u212f       \u22c5v\u0303\u2081(-k + k\u2081) + \u03c9\u2081\u22c5u\u0303\u2081(k - k\u2081)\u22c5\u212f      \u22c5\u212f\n",
        "\n",
        "-\u2148\u22c5\u03c9\u2081\u22c5t       \u2148\u22c5\u03c9\u22c5t  -\u2148\u22c5\u03c9\u2081\u22c5t ____________                   -\u2148\u22c5\u03c9\u22c5t  -\u2148\u22c5\u03c9\u2082\u22c5t   \n",
        "        + \u03c9\u2081\u22c5\u212f     \u22c5\u212f       \u22c5v\u0303\u2081(-k + k\u2081) + \u03c9\u2082\u22c5u\u0303\u2082(k - k\u2082)\u22c5\u212f      \u22c5\u212f        + \n",
        "\n",
        "    \u2148\u22c5\u03c9\u22c5t  -\u2148\u22c5\u03c9\u2082\u22c5t ____________\n",
        "\u03c9\u2082\u22c5\u212f     \u22c5\u212f       \u22c5v\u0303\u2082(-k + k\u2082)"
       ]
      }
     ],
     "prompt_number": 16
    },
    {
     "cell_type": "heading",
     "level": 1,
     "metadata": {},
     "source": [
      "Right-hand side"
     ]
    },
    {
     "cell_type": "code",
     "collapsed": false,
     "input": [
      "rhs1 = expand(k**2/(2*m)*psitilde(k,t))"
     ],
     "language": "python",
     "metadata": {},
     "outputs": [],
     "prompt_number": 17
    },
    {
     "cell_type": "code",
     "collapsed": false,
     "input": [
      "rhs1"
     ],
     "language": "python",
     "metadata": {},
     "outputs": [
      {
       "latex": [
        "$$\\frac{k^{2} \\psi^{ss}_{1} \\delta_{k k_{1}}}{2 m} e^{- i \\omega_{1} t} + \\frac{k^{2} \\psi^{ss}_{2} \\delta_{k k_{2}}}{2 m} e^{- i \\omega_{2} t} + \\frac{k^{2}}{2 m} \\tilde{u}_{1}{\\left (k - k_{1} \\right )} e^{- i \\omega t} e^{- i \\omega_{1} t} + \\frac{k^{2}}{2 m} \\tilde{u}_{2}{\\left (k - k_{2} \\right )} e^{- i \\omega t} e^{- i \\omega_{2} t} + \\frac{k^{2} e^{i \\omega t}}{2 m} e^{- i \\omega_{2} t} \\overline{\\tilde{v}_{2}{\\left (- k + k_{2} \\right )}} + \\frac{k^{2} e^{i \\omega t}}{2 m} e^{- i \\omega_{1} t} \\overline{\\tilde{v}_{1}{\\left (- k + k_{1} \\right )}}$$"
       ],
       "metadata": {},
       "output_type": "pyout",
       "png": "[encoded data removed]",
       "prompt_number": 18,
       "text": [
        " 2          -\u2148\u22c5\u03c9\u2081\u22c5t          2          -\u2148\u22c5\u03c9\u2082\u22c5t                               \n",
        "k \u22c5\u03c8_1__ss\u22c5\u212f       \u22c5\u03b4       k \u22c5\u03c8_2__ss\u22c5\u212f       \u22c5\u03b4        2              -\u2148\u22c5\u03c9\u22c5t\n",
        "                     k,k\u2081                        k,k\u2082   k \u22c5u\u0303\u2081(k - k\u2081)\u22c5\u212f      \n",
        "\u2500\u2500\u2500\u2500\u2500\u2500\u2500\u2500\u2500\u2500\u2500\u2500\u2500\u2500\u2500\u2500\u2500\u2500\u2500\u2500\u2500\u2500\u2500\u2500\u2500 + \u2500\u2500\u2500\u2500\u2500\u2500\u2500\u2500\u2500\u2500\u2500\u2500\u2500\u2500\u2500\u2500\u2500\u2500\u2500\u2500\u2500\u2500\u2500\u2500\u2500 + \u2500\u2500\u2500\u2500\u2500\u2500\u2500\u2500\u2500\u2500\u2500\u2500\u2500\u2500\u2500\u2500\u2500\u2500\u2500\u2500\u2500\u2500\n",
        "           2\u22c5m                         2\u22c5m                            2\u22c5m     \n",
        "\n",
        "                                                                              \n",
        "  -\u2148\u22c5\u03c9\u2081\u22c5t    2              -\u2148\u22c5\u03c9\u22c5t  -\u2148\u22c5\u03c9\u2082\u22c5t    2  \u2148\u22c5\u03c9\u22c5t  -\u2148\u22c5\u03c9\u2082\u22c5t ____________ \n",
        "\u22c5\u212f          k \u22c5u\u0303\u2082(k - k\u2082)\u22c5\u212f      \u22c5\u212f          k \u22c5\u212f     \u22c5\u212f       \u22c5v\u0303\u2082(-k + k\u2082) \n",
        "\u2500\u2500\u2500\u2500\u2500\u2500\u2500\u2500\u2500 + \u2500\u2500\u2500\u2500\u2500\u2500\u2500\u2500\u2500\u2500\u2500\u2500\u2500\u2500\u2500\u2500\u2500\u2500\u2500\u2500\u2500\u2500\u2500\u2500\u2500\u2500\u2500\u2500\u2500\u2500\u2500 + \u2500\u2500\u2500\u2500\u2500\u2500\u2500\u2500\u2500\u2500\u2500\u2500\u2500\u2500\u2500\u2500\u2500\u2500\u2500\u2500\u2500\u2500\u2500\u2500\u2500\u2500\u2500\u2500\u2500\u2500\u2500 \n",
        "                          2\u22c5m                               2\u22c5m               \n",
        "\n",
        "                                 \n",
        "   2  \u2148\u22c5\u03c9\u22c5t  -\u2148\u22c5\u03c9\u2081\u22c5t ____________\n",
        "  k \u22c5\u212f     \u22c5\u212f       \u22c5v\u0303\u2081(-k + k\u2081)\n",
        "+ \u2500\u2500\u2500\u2500\u2500\u2500\u2500\u2500\u2500\u2500\u2500\u2500\u2500\u2500\u2500\u2500\u2500\u2500\u2500\u2500\u2500\u2500\u2500\u2500\u2500\u2500\u2500\u2500\u2500\u2500\u2500\n",
        "                2\u22c5m              "
       ]
      }
     ],
     "prompt_number": 18
    },
    {
     "cell_type": "code",
     "collapsed": false,
     "input": [
      "rhs1MF = meanfieldize(rhs1)"
     ],
     "language": "python",
     "metadata": {},
     "outputs": [],
     "prompt_number": 19
    },
    {
     "cell_type": "code",
     "collapsed": false,
     "input": [
      "rhs1MF"
     ],
     "language": "python",
     "metadata": {},
     "outputs": [
      {
       "latex": [
        "$$\\frac{k^{2} \\psi^{ss}_{1} \\delta_{k k_{1}}}{2 m} e^{- i \\omega_{1} t} + \\frac{k^{2} \\psi^{ss}_{2} \\delta_{k k_{2}}}{2 m} e^{- i \\omega_{2} t}$$"
       ],
       "metadata": {},
       "output_type": "pyout",
       "png": "[encoded data removed]",
       "prompt_number": 20,
       "text": [
        " 2          -\u2148\u22c5\u03c9\u2081\u22c5t          2          -\u2148\u22c5\u03c9\u2082\u22c5t      \n",
        "k \u22c5\u03c8_1__ss\u22c5\u212f       \u22c5\u03b4       k \u22c5\u03c8_2__ss\u22c5\u212f       \u22c5\u03b4    \n",
        "                     k,k\u2081                        k,k\u2082\n",
        "\u2500\u2500\u2500\u2500\u2500\u2500\u2500\u2500\u2500\u2500\u2500\u2500\u2500\u2500\u2500\u2500\u2500\u2500\u2500\u2500\u2500\u2500\u2500\u2500\u2500 + \u2500\u2500\u2500\u2500\u2500\u2500\u2500\u2500\u2500\u2500\u2500\u2500\u2500\u2500\u2500\u2500\u2500\u2500\u2500\u2500\u2500\u2500\u2500\u2500\u2500\n",
        "           2\u22c5m                         2\u22c5m           "
       ]
      }
     ],
     "prompt_number": 20
    },
    {
     "cell_type": "code",
     "collapsed": false,
     "input": [
      "rhs1LIN = rhs1 - rhs1MF"
     ],
     "language": "python",
     "metadata": {},
     "outputs": [],
     "prompt_number": 21
    },
    {
     "cell_type": "code",
     "collapsed": false,
     "input": [
      "rhs1LIN"
     ],
     "language": "python",
     "metadata": {},
     "outputs": [
      {
       "latex": [
        "$$\\frac{k^{2}}{2 m} \\tilde{u}_{1}{\\left (k - k_{1} \\right )} e^{- i \\omega t} e^{- i \\omega_{1} t} + \\frac{k^{2}}{2 m} \\tilde{u}_{2}{\\left (k - k_{2} \\right )} e^{- i \\omega t} e^{- i \\omega_{2} t} + \\frac{k^{2} e^{i \\omega t}}{2 m} e^{- i \\omega_{2} t} \\overline{\\tilde{v}_{2}{\\left (- k + k_{2} \\right )}} + \\frac{k^{2} e^{i \\omega t}}{2 m} e^{- i \\omega_{1} t} \\overline{\\tilde{v}_{1}{\\left (- k + k_{1} \\right )}}$$"
       ],
       "metadata": {},
       "output_type": "pyout",
       "png": "[encoded data removed]",
       "prompt_number": 22,
       "text": [
        " 2              -\u2148\u22c5\u03c9\u22c5t  -\u2148\u22c5\u03c9\u2081\u22c5t    2              -\u2148\u22c5\u03c9\u22c5t  -\u2148\u22c5\u03c9\u2082\u22c5t    2  \u2148\u22c5\u03c9\u22c5t \n",
        "k \u22c5u\u0303\u2081(k - k\u2081)\u22c5\u212f      \u22c5\u212f          k \u22c5u\u0303\u2082(k - k\u2082)\u22c5\u212f      \u22c5\u212f          k \u22c5\u212f     \u22c5\n",
        "\u2500\u2500\u2500\u2500\u2500\u2500\u2500\u2500\u2500\u2500\u2500\u2500\u2500\u2500\u2500\u2500\u2500\u2500\u2500\u2500\u2500\u2500\u2500\u2500\u2500\u2500\u2500\u2500\u2500\u2500\u2500 + \u2500\u2500\u2500\u2500\u2500\u2500\u2500\u2500\u2500\u2500\u2500\u2500\u2500\u2500\u2500\u2500\u2500\u2500\u2500\u2500\u2500\u2500\u2500\u2500\u2500\u2500\u2500\u2500\u2500\u2500\u2500 + \u2500\u2500\u2500\u2500\u2500\u2500\u2500\u2500\u2500\u2500\n",
        "              2\u22c5m                               2\u22c5m                           \n",
        "\n",
        " -\u2148\u22c5\u03c9\u2082\u22c5t ____________    2  \u2148\u22c5\u03c9\u22c5t  -\u2148\u22c5\u03c9\u2081\u22c5t ____________\n",
        "\u212f       \u22c5v\u0303\u2082(-k + k\u2082)   k \u22c5\u212f     \u22c5\u212f       \u22c5v\u0303\u2081(-k + k\u2081)\n",
        "\u2500\u2500\u2500\u2500\u2500\u2500\u2500\u2500\u2500\u2500\u2500\u2500\u2500\u2500\u2500\u2500\u2500\u2500\u2500\u2500\u2500 + \u2500\u2500\u2500\u2500\u2500\u2500\u2500\u2500\u2500\u2500\u2500\u2500\u2500\u2500\u2500\u2500\u2500\u2500\u2500\u2500\u2500\u2500\u2500\u2500\u2500\u2500\u2500\u2500\u2500\u2500\u2500\n",
        "    2\u22c5m                               2\u22c5m              "
       ]
      }
     ],
     "prompt_number": 22
    },
    {
     "cell_type": "code",
     "collapsed": false,
     "input": [
      "rhs2LIN = Sum(expand(gv*psitildeMF(q,t)), (q, -oo, oo)).doit()"
     ],
     "language": "python",
     "metadata": {},
     "outputs": [],
     "prompt_number": 23
    },
    {
     "cell_type": "code",
     "collapsed": false,
     "input": [
      "rhs2LIN"
     ],
     "language": "python",
     "metadata": {},
     "outputs": [
      {
       "latex": [
        "$$g_{v} \\psi^{ss}_{1} e^{- i \\omega_{1} t} + g_{v} \\psi^{ss}_{2} e^{- i \\omega_{2} t}$$"
       ],
       "metadata": {},
       "output_type": "pyout",
       "png": "[encoded data removed]",
       "prompt_number": 24,
       "text": [
        "            -\u2148\u22c5\u03c9\u2081\u22c5t               -\u2148\u22c5\u03c9\u2082\u22c5t\n",
        "g\u1d65\u22c5\u03c8_1__ss\u22c5\u212f        + g\u1d65\u22c5\u03c8_2__ss\u22c5\u212f       "
       ]
      }
     ],
     "prompt_number": 24
    },
    {
     "cell_type": "code",
     "collapsed": false,
     "input": [
      "thirdorder = expand(g * psitilde(q1,t) * psitilde(q2,t) * psitildebar(q1+q2-k,t))"
     ],
     "language": "python",
     "metadata": {},
     "outputs": [],
     "prompt_number": 25
    },
    {
     "cell_type": "code",
     "collapsed": false,
     "input": [
      "summandMF = meanfieldize(thirdorder)"
     ],
     "language": "python",
     "metadata": {},
     "outputs": [],
     "prompt_number": 26
    },
    {
     "cell_type": "code",
     "collapsed": false,
     "input": [
      "summand = linearize(thirdorder)"
     ],
     "language": "python",
     "metadata": {},
     "outputs": [],
     "prompt_number": 27
    },
    {
     "cell_type": "code",
     "collapsed": false,
     "input": [
      "summandLIN = expand(summand) - expand(summandMF)"
     ],
     "language": "python",
     "metadata": {},
     "outputs": [],
     "prompt_number": 28
    },
    {
     "cell_type": "code",
     "collapsed": false,
     "input": [
      "rhs3LIN = Sum(Sum(summandLIN, (q1, -oo, oo)).doit(), (q2, -oo, oo)).doit()"
     ],
     "language": "python",
     "metadata": {},
     "outputs": [],
     "prompt_number": 29
    },
    {
     "cell_type": "code",
     "collapsed": false,
     "input": [
      "rhsLIN = rhs1LIN + rhs2LIN"
     ],
     "language": "python",
     "metadata": {},
     "outputs": [],
     "prompt_number": 30
    },
    {
     "cell_type": "heading",
     "level": 1,
     "metadata": {},
     "source": [
      "Linear response"
     ]
    },
    {
     "cell_type": "heading",
     "level": 2,
     "metadata": {},
     "source": [
      "Left-hand side"
     ]
    },
    {
     "cell_type": "code",
     "collapsed": false,
     "input": [
      "fd1 = gv * (rhsLIN - lhsLIN).coeff(gv*exp(-I*omega1*t))\n",
      "fd2 = gv * (rhsLIN - lhsLIN).coeff(gv*exp(-I*omega2*t))"
     ],
     "language": "python",
     "metadata": {},
     "outputs": [],
     "prompt_number": 31
    },
    {
     "cell_type": "code",
     "collapsed": false,
     "input": [
      "lhsLIN11 = lhsLIN.coeff(exp(-I*omega*t)*exp(-I*omega1*t))\n",
      "lhsLIN21 = lhsLIN.coeff(exp(-I*omega*t)*exp(-I*omega2*t))\n",
      "lhsLIN12 = lhsLIN.coeff(exp(I*omega*t)*exp(-I*omega1*t))\n",
      "lhsLIN22 = lhsLIN.coeff(exp(I*omega*t)*exp(-I*omega2*t))"
     ],
     "language": "python",
     "metadata": {},
     "outputs": [],
     "prompt_number": 32
    },
    {
     "cell_type": "heading",
     "level": 2,
     "metadata": {},
     "source": [
      "Right-hand side"
     ]
    },
    {
     "cell_type": "code",
     "collapsed": false,
     "input": [
      "rhsLIN11 = rhsLIN.coeff(exp(-I*omega*t)*exp(-I*omega1*t)) \n",
      "rhsLIN21 = rhsLIN.coeff(exp(-I*omega*t)*exp(-I*omega2*t))\n",
      "rhsLIN12 = rhsLIN.coeff(exp(I*omega*t)*exp(-I*omega1*t))\n",
      "rhsLIN22 = rhsLIN.coeff(exp(I*omega*t)*exp(-I*omega2*t))"
     ],
     "language": "python",
     "metadata": {},
     "outputs": [],
     "prompt_number": 33
    },
    {
     "cell_type": "code",
     "collapsed": false,
     "input": [
      "rhs3LIN11 = rhs3LIN.coeff(exp(-I*omega*t)*exp(-I*omega1*t))\n",
      "rhs3LIN21 = rhs3LIN.coeff(exp(-I*omega*t)*exp(-I*omega2*t))\n",
      "rhs3LIN12 = rhs3LIN.coeff(exp(I*omega*t)*exp(-I*omega1*t))\n",
      "rhs3LIN22 = rhs3LIN.coeff(exp(I*omega*t)*exp(-I*omega2*t))"
     ],
     "language": "python",
     "metadata": {},
     "outputs": [],
     "prompt_number": 34
    },
    {
     "cell_type": "heading",
     "level": 2,
     "metadata": {},
     "source": [
      "Resulting equations"
     ]
    },
    {
     "cell_type": "code",
     "collapsed": false,
     "input": [
      "eq11 = (rhsLIN11 + rhs3LIN11 - lhsLIN11).subs(k, k+k1)\n",
      "eq21 = (rhsLIN21 + rhs3LIN21 - lhsLIN21).subs(k, k+k2)\n",
      "eq12 = (-conjugate(rhsLIN12 + rhs3LIN12 - lhsLIN12)).subs(k, k1-k)\n",
      "eq22 = (-conjugate(rhsLIN22 + rhs3LIN22 - lhsLIN22)).subs(k, k2-k)\n",
      "fd11 = fd1.subs(k, k+k1)\n",
      "fd21 = fd2.subs(k, k+k2)\n",
      "fd12 = (-conjugate(fd1)).subs(k, k1-k)\n",
      "fd22 = (-conjugate(fd2)).subs(k, k2-k)\n",
      "Fd = Matrix([fd11, fd21, fd12, fd22])\n",
      "varbs = Matrix([ut1(k), ut2(k), vt1(k), vt2(k)])"
     ],
     "language": "python",
     "metadata": {},
     "outputs": [],
     "prompt_number": 35
    },
    {
     "cell_type": "code",
     "collapsed": false,
     "input": [
      "abs(psiss1)**2"
     ],
     "language": "python",
     "metadata": {},
     "outputs": [
      {
       "latex": [
        "$$\\left\\lvert{\\psi^{ss}_{1}}\\right\\rvert^{2}$$"
       ],
       "metadata": {},
       "output_type": "pyout",
       "png": "[encoded data removed]",
       "prompt_number": 36,
       "text": [
        "         2\n",
        "\u2502\u03c8_1__ss\u2502 "
       ]
      }
     ],
     "prompt_number": 36
    },
    {
     "cell_type": "code",
     "collapsed": false,
     "input": [
      "#[fi for fi in eq12.atoms(AppliedUndef) if fi.func in [ut1, ut2, vt1, vt2]]"
     ],
     "language": "python",
     "metadata": {},
     "outputs": [],
     "prompt_number": 37
    },
    {
     "cell_type": "code",
     "collapsed": false,
     "input": [
      "s = [Eq(eq11, 0), Eq(eq21, 0), Eq(eq12, 0), Eq(eq22, 0)]\n",
      "(A, b) = eqs2matrix(s, (ut1(k), ut2(k), vt1(k), vt2(k)))"
     ],
     "language": "python",
     "metadata": {},
     "outputs": [],
     "prompt_number": 38
    },
    {
     "cell_type": "code",
     "collapsed": false,
     "input": [
      "L = A + omega*eye(4)"
     ],
     "language": "python",
     "metadata": {},
     "outputs": [],
     "prompt_number": 39
    },
    {
     "cell_type": "code",
     "collapsed": false,
     "input": [
      "L[3,3]"
     ],
     "language": "python",
     "metadata": {},
     "outputs": [
      {
       "latex": [
        "$$- 2 g \\psi^{ss}_{1} \\overline{\\psi^{ss}_{1}} - 2 g \\psi^{ss}_{2} \\overline{\\psi^{ss}_{2}} + \\omega_{2} - \\frac{\\left(- k + k_{2}\\right)^{2}}{2 m}$$"
       ],
       "metadata": {},
       "output_type": "pyout",
       "png": "[encoded data removed]",
       "prompt_number": 40,
       "text": [
        "                                                            2\n",
        "              _______               _______        (-k + k\u2082) \n",
        "- 2\u22c5g\u22c5\u03c8_1__ss\u22c5\u03c8_1__ss - 2\u22c5g\u22c5\u03c8_2__ss\u22c5\u03c8_2__ss + \u03c9\u2082 - \u2500\u2500\u2500\u2500\u2500\u2500\u2500\u2500\u2500\u2500\n",
        "                                                      2\u22c5m    "
       ]
      }
     ],
     "prompt_number": 40
    },
    {
     "cell_type": "code",
     "collapsed": false,
     "input": [
      "def to_abs(node):\n",
      "    if not isinstance(node, Mul):\n",
      "        return node\n",
      "    z = Wild('z')\n",
      "    w = Wild('w')\n",
      "    m = node.match(z*w*conjugate(w))\n",
      "    if w in m:\n",
      "        e = m[w]\n",
      "        return node.xreplace ({e: S.One, conjugate(e): S.One})*abs(e)**2\n",
      "    return node"
     ],
     "language": "python",
     "metadata": {},
     "outputs": [],
     "prompt_number": 41
    },
    {
     "cell_type": "code",
     "collapsed": false,
     "input": [
      "print L[1,0]"
     ],
     "language": "python",
     "metadata": {},
     "outputs": [
      {
       "output_type": "stream",
       "stream": "stdout",
       "text": [
        "2*g*psi^ss_2*conjugate(psi^ss_1)\n"
       ]
      }
     ],
     "prompt_number": 64
    },
    {
     "cell_type": "code",
     "collapsed": false,
     "input": [
      "print bottom_up(chain(rebuild, to_abs))(L[1,0])"
     ],
     "language": "python",
     "metadata": {},
     "outputs": [
      {
       "output_type": "stream",
       "stream": "stdout",
       "text": [
        "2*g*psi^ss_2*Abs(psi^ss_1)**2\n"
       ]
      }
     ],
     "prompt_number": 63
    },
    {
     "cell_type": "code",
     "collapsed": false,
     "input": [
      "newL = L.applyfunc(lambda elem: bottom_up(chain(rebuild, to_abs))(elem))"
     ],
     "language": "python",
     "metadata": {},
     "outputs": [],
     "prompt_number": 43
    },
    {
     "cell_type": "code",
     "collapsed": false,
     "input": [
      "L.col(0)"
     ],
     "language": "python",
     "metadata": {},
     "outputs": [
      {
       "latex": [
        "$$\\left[\\begin{matrix}2 g \\psi^{ss}_{1} \\overline{\\psi^{ss}_{1}} + 2 g \\psi^{ss}_{2} \\overline{\\psi^{ss}_{2}} - \\omega_{1} + \\frac{\\left(k + k_{1}\\right)^{2}}{2 m}\\\\2 g \\psi^{ss}_{2} \\overline{\\psi^{ss}_{1}}\\\\- g \\overline{\\psi^{ss}_{1}}^{2}\\\\- 2 g \\overline{\\psi^{ss}_{1}} \\overline{\\psi^{ss}_{2}}\\end{matrix}\\right]$$"
       ],
       "metadata": {},
       "output_type": "pyout",
       "png": "[encoded data removed]",
       "prompt_number": 53,
       "text": [
        "\u23a1                                                         2\u23a4\n",
        "\u23a2            _______               _______        (k + k\u2081) \u23a5\n",
        "\u23a22\u22c5g\u22c5\u03c8_1__ss\u22c5\u03c8_1__ss + 2\u22c5g\u22c5\u03c8_2__ss\u22c5\u03c8_2__ss - \u03c9\u2081 + \u2500\u2500\u2500\u2500\u2500\u2500\u2500\u2500\u2500\u23a5\n",
        "\u23a2                                                    2\u22c5m   \u23a5\n",
        "\u23a2                                                          \u23a5\n",
        "\u23a2                               _______                    \u23a5\n",
        "\u23a2                   2\u22c5g\u22c5\u03c8_2__ss\u22c5\u03c8_1__ss                    \u23a5\n",
        "\u23a2                                                          \u23a5\n",
        "\u23a2                                 2                        \u23a5\n",
        "\u23a2                          _______                         \u23a5\n",
        "\u23a2                       -g\u22c5\u03c8_1__ss                         \u23a5\n",
        "\u23a2                                                          \u23a5\n",
        "\u23a2                        _______ _______                   \u23a5\n",
        "\u23a3                   -2\u22c5g\u22c5\u03c8_1__ss\u22c5\u03c8_2__ss                   \u23a6"
       ]
      }
     ],
     "prompt_number": 53
    },
    {
     "cell_type": "code",
     "collapsed": false,
     "input": [
      "L.col(0)"
     ],
     "language": "python",
     "metadata": {},
     "outputs": [
      {
       "latex": [
        "$$\\left[\\begin{matrix}2 g \\psi^{ss}_{1} \\overline{\\psi^{ss}_{1}} + 2 g \\psi^{ss}_{2} \\overline{\\psi^{ss}_{2}} - \\omega_{1} + \\frac{\\left(k + k_{1}\\right)^{2}}{2 m}\\\\2 g \\psi^{ss}_{2} \\overline{\\psi^{ss}_{1}}\\\\- g \\overline{\\psi^{ss}_{1}}^{2}\\\\- 2 g \\overline{\\psi^{ss}_{1}} \\overline{\\psi^{ss}_{2}}\\end{matrix}\\right]$$"
       ],
       "metadata": {},
       "output_type": "pyout",
       "png": "[encoded data removed]",
       "prompt_number": 45,
       "text": [
        "\u23a1                                                         2\u23a4\n",
        "\u23a2            _______               _______        (k + k\u2081) \u23a5\n",
        "\u23a22\u22c5g\u22c5\u03c8_1__ss\u22c5\u03c8_1__ss + 2\u22c5g\u22c5\u03c8_2__ss\u22c5\u03c8_2__ss - \u03c9\u2081 + \u2500\u2500\u2500\u2500\u2500\u2500\u2500\u2500\u2500\u23a5\n",
        "\u23a2                                                    2\u22c5m   \u23a5\n",
        "\u23a2                                                          \u23a5\n",
        "\u23a2                               _______                    \u23a5\n",
        "\u23a2                   2\u22c5g\u22c5\u03c8_2__ss\u22c5\u03c8_1__ss                    \u23a5\n",
        "\u23a2                                                          \u23a5\n",
        "\u23a2                                 2                        \u23a5\n",
        "\u23a2                          _______                         \u23a5\n",
        "\u23a2                       -g\u22c5\u03c8_1__ss                         \u23a5\n",
        "\u23a2                                                          \u23a5\n",
        "\u23a2                        _______ _______                   \u23a5\n",
        "\u23a3                   -2\u22c5g\u22c5\u03c8_1__ss\u22c5\u03c8_2__ss                   \u23a6"
       ]
      }
     ],
     "prompt_number": 45
    },
    {
     "cell_type": "code",
     "collapsed": false,
     "input": [
      "def unflatten_mul(node):\n",
      "    d = collections.defaultdict(lambda: [])\n",
      "    new_args = []\n",
      "    for arg in node.args:\n",
      "        if arg.args and arg.args[0].is_Number:\n",
      "            d[arg.args[0]].append(arg.func(*arg.args[1:]))\n",
      "            continue\n",
      "        new_args.append(arg)\n",
      "    print d\n",
      "    for key, item in d.items():\n",
      "        new_args.append(Mul(key, Add(*item), evaluate=False))\n",
      "    return node.func(*new_args, evaluate=False)"
     ],
     "language": "python",
     "metadata": {},
     "outputs": [],
     "prompt_number": 65
    },
    {
     "cell_type": "code",
     "collapsed": false,
     "input": [
      "unflatten_mul(L[3,3])"
     ],
     "language": "python",
     "metadata": {},
     "outputs": [
      {
       "output_type": "stream",
       "stream": "stdout",
       "text": [
        "defaultdict(<function <lambda> at 0x7fdae0f0ff50>, {-1/2: [(-k + k_2)**2/m], -2: [g*psi^ss_1*conjugate(psi^ss_1), g*psi^ss_2*conjugate(psi^ss_2)]})\n"
       ]
      },
      {
       "latex": [
        "$$\\omega_{2} - 2 \\left(g \\psi^{ss}_{1} \\overline{\\psi^{ss}_{1}} + g \\psi^{ss}_{2} \\overline{\\psi^{ss}_{2}}\\right) - \\frac{\\left(- k + k_{2}\\right)^{2}}{2 m}$$"
       ],
       "metadata": {},
       "output_type": "pyout",
       "png": "[encoded data removed]",
       "prompt_number": 68,
       "text": [
        "                                                          2\n",
        "       \u239b          _______             _______\u239e   (-k + k\u2082) \n",
        "\u03c9\u2082 - 2\u22c5\u239dg\u22c5\u03c8_1__ss\u22c5\u03c8_1__ss + g\u22c5\u03c8_2__ss\u22c5\u03c8_2__ss\u23a0 - \u2500\u2500\u2500\u2500\u2500\u2500\u2500\u2500\u2500\u2500\n",
        "                                                    2\u22c5m    "
       ]
      }
     ],
     "prompt_number": 68
    },
    {
     "cell_type": "code",
     "collapsed": false,
     "input": [
      "L[3,3]"
     ],
     "language": "python",
     "metadata": {},
     "outputs": [
      {
       "latex": [
        "$$- 2 g \\psi^{ss}_{1} \\overline{\\psi^{ss}_{1}} - 2 g \\psi^{ss}_{2} \\overline{\\psi^{ss}_{2}} + \\omega_{2} - \\frac{\\left(- k + k_{2}\\right)^{2}}{2 m}$$"
       ],
       "metadata": {},
       "output_type": "pyout",
       "png": "[encoded data removed]",
       "prompt_number": 69,
       "text": [
        "                                                            2\n",
        "              _______               _______        (-k + k\u2082) \n",
        "- 2\u22c5g\u22c5\u03c8_1__ss\u22c5\u03c8_1__ss - 2\u22c5g\u22c5\u03c8_2__ss\u22c5\u03c8_2__ss + \u03c9\u2082 - \u2500\u2500\u2500\u2500\u2500\u2500\u2500\u2500\u2500\u2500\n",
        "                                                      2\u22c5m    "
       ]
      }
     ],
     "prompt_number": 69
    },
    {
     "cell_type": "code",
     "collapsed": false,
     "input": [],
     "language": "python",
     "metadata": {},
     "outputs": []
    }
   ],
   "metadata": {}
  }
 ]
}