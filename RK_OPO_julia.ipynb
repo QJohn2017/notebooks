{
 "metadata": {
  "language": "Julia",
  "name": "",
  "signature": "sha256:e0ec207605b06d43f429cdcf2992e7376a1112656520af1965d2303a6df7eec4"
 },
 "nbformat": 3,
 "nbformat_minor": 0,
 "worksheets": [
  {
   "cells": [
    {
     "cell_type": "code",
     "collapsed": false,
     "input": [
      "%ls"
     ],
     "language": "python",
     "metadata": {},
     "outputs": [
      {
       "ename": "LoadError",
       "evalue": "syntax: extra token \"ls\" after end of expression\nwhile loading In[3], in expression starting on line 1",
       "output_type": "pyerr",
       "traceback": [
        "syntax: extra token \"ls\" after end of expression\nwhile loading In[3], in expression starting on line 1"
       ]
      }
     ],
     "prompt_number": 3
    },
    {
     "cell_type": "code",
     "collapsed": false,
     "input": [
      "pwd()"
     ],
     "language": "python",
     "metadata": {},
     "outputs": [
      {
       "metadata": {},
       "output_type": "pyout",
       "prompt_number": 4,
       "text": [
        "\"/home/berceanu/Envs/env-ipython/notebooks\""
       ]
      }
     ],
     "prompt_number": 4
    },
    {
     "cell_type": "code",
     "collapsed": false,
     "input": [
      "fname = \"INPUT\"  # Fortran namelist file\n",
      "open(fname,\"r\") do fid\n",
      "    for line in eachline(fid)\n",
      "        line = strip(replace(line,\",\",\" \"))\n",
      "        (line[1] == '&' || line[1] == '/') && continue\n",
      "        include_string(\"global const \" * line)\n",
      "    end\n",
      "end"
     ],
     "language": "python",
     "metadata": {},
     "outputs": [
      {
       "ename": "LoadError",
       "evalue": "syntax: incomplete: premature end of input\nwhile loading string, in expression starting on line 1\nwhile loading In[7], in expression starting on line 2",
       "output_type": "pyerr",
       "traceback": [
        "syntax: incomplete: premature end of input\nwhile loading string, in expression starting on line 1\nwhile loading In[7], in expression starting on line 2",
        " in include_string at loading.jl:100",
        " in anonymous at In[7]:6",
        " in open at io.jl:373"
       ]
      }
     ],
     "prompt_number": 7
    },
    {
     "cell_type": "code",
     "collapsed": false,
     "input": [
      "fname = \"INPUT\"\n",
      "# using do means the file is closed automatically\n",
      "# in the same way \"with\" does in python\n",
      "open(fname,\"r\") do f\n",
      "    for line in eachline(f)\n",
      "        line = strip(replace(line,[',','/'],' '))\n",
      "        (line[1] == '&' || line[1] == '!') && continue\n",
      "        include_string(\"global const \" * line)\n",
      "        #println(line)\n",
      "    end\n",
      "end"
     ],
     "language": "python",
     "metadata": {},
     "outputs": [],
     "prompt_number": 23
    },
    {
     "cell_type": "code",
     "collapsed": false,
     "input": [
      "typeof(Nx)"
     ],
     "language": "python",
     "metadata": {},
     "outputs": [
      {
       "metadata": {},
       "output_type": "pyout",
       "prompt_number": 28,
       "text": [
        "Int64"
       ]
      }
     ],
     "prompt_number": 28
    },
    {
     "cell_type": "code",
     "collapsed": false,
     "input": [
      "typeof(Lx)"
     ],
     "language": "python",
     "metadata": {},
     "outputs": [
      {
       "metadata": {},
       "output_type": "pyout",
       "prompt_number": 29,
       "text": [
        "Float64"
       ]
      }
     ],
     "prompt_number": 29
    },
    {
     "cell_type": "code",
     "collapsed": false,
     "input": [],
     "language": "python",
     "metadata": {},
     "outputs": []
    }
   ],
   "metadata": {}
  }
 ]
}