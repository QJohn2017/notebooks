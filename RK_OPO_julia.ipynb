{
 "metadata": {
  "language": "Julia",
  "name": "",
  "signature": "sha256:423bd3d8e30882d9472a5e0d4e2890594cba51ecfb7aeafe5da4484b6ab16ec7"
 },
 "nbformat": 3,
 "nbformat_minor": 0,
 "worksheets": [
  {
   "cells": [
    {
     "cell_type": "code",
     "collapsed": false,
     "input": [
      "using PyPlot"
     ],
     "language": "python",
     "metadata": {},
     "outputs": [
      {
       "ename": "LoadError",
       "evalue": "PyError (PyImport_ImportModule) <type 'exceptions.ImportError'>\nImportError('cannot import name scimath',)\n  File \"/home/berceanu/Envs/env-ipython/local/lib/python2.7/site-packages/matplotlib/__init__.py\", line 156, in <module>\n    from matplotlib.cbook import is_string_like\n  File \"/home/berceanu/Envs/env-ipython/local/lib/python2.7/site-packages/matplotlib/cbook.py\", line 28, in <module>\n    import numpy as np\n  File \"/home/berceanu/Envs/env-ipython/local/lib/python2.7/site-packages/numpy/__init__.py\", line 153, in <module>\n    from . import add_newdocs\n  File \"/home/berceanu/Envs/env-ipython/local/lib/python2.7/site-packages/numpy/add_newdocs.py\", line 13, in <module>\n    from numpy.lib import add_newdoc\n  File \"/home/berceanu/Envs/env-ipython/local/lib/python2.7/site-packages/numpy/lib/__init__.py\", line 17, in <module>\n    from . import scimath as emath\n\nwhile loading /home/berceanu/.julia/v0.3/PyPlot/src/PyPlot.jl, in expression starting on line 32\nwhile loading In[11], in expression starting on line 1",
       "output_type": "pyerr",
       "traceback": [
        "PyError (PyImport_ImportModule) <type 'exceptions.ImportError'>\nImportError('cannot import name scimath',)\n  File \"/home/berceanu/Envs/env-ipython/local/lib/python2.7/site-packages/matplotlib/__init__.py\", line 156, in <module>\n    from matplotlib.cbook import is_string_like\n  File \"/home/berceanu/Envs/env-ipython/local/lib/python2.7/site-packages/matplotlib/cbook.py\", line 28, in <module>\n    import numpy as np\n  File \"/home/berceanu/Envs/env-ipython/local/lib/python2.7/site-packages/numpy/__init__.py\", line 153, in <module>\n    from . import add_newdocs\n  File \"/home/berceanu/Envs/env-ipython/local/lib/python2.7/site-packages/numpy/add_newdocs.py\", line 13, in <module>\n    from numpy.lib import add_newdoc\n  File \"/home/berceanu/Envs/env-ipython/local/lib/python2.7/site-packages/numpy/lib/__init__.py\", line 17, in <module>\n    from . import scimath as emath\n\nwhile loading /home/berceanu/.julia/v0.3/PyPlot/src/PyPlot.jl, in expression starting on line 32\nwhile loading In[11], in expression starting on line 1",
        " in pyerr_check at /home/berceanu/.julia/v0.3/PyCall/src/exception.jl:58",
        " in pyimport at /home/berceanu/.julia/v0.3/PyCall/src/PyCall.jl:85",
        " in include at boot.jl:244",
        " in reload_path at loading.jl:152",
        " in _require at loading.jl:67",
        " in require at loading.jl:51"
       ]
      }
     ],
     "prompt_number": 11
    },
    {
     "cell_type": "code",
     "collapsed": false,
     "input": [
      "fname = \"INPUT\"\n",
      "# using do means the file is closed automatically\n",
      "# in the same way \"with\" does in python\n",
      "open(fname,\"r\") do f\n",
      "    for line in eachline(f)\n",
      "        line = strip(replace(line,[',','/'],' '))\n",
      "        (line[1] == '&' || line[1] == '!') && continue\n",
      "        include_string(\"global const \" * uppercase(line))\n",
      "        println(uppercase(line))\n",
      "    end\n",
      "end"
     ],
     "language": "python",
     "metadata": {},
     "outputs": [
      {
       "output_type": "stream",
       "stream": "stdout",
       "text": [
        "RUN          = 1\n"
       ]
      },
      {
       "output_type": "stream",
       "stream": "stdout",
       "text": [
        "IN_SSWF_RK   = 0\n",
        "IN_SSWF_SP   = 10\n",
        "KOUNT_ST     = 0\n",
        "KOUNT_END    = 10\n",
        "KAPPA_C      = 0.12\n",
        "KAPPA_X      = 0.12\n",
        "DELTA        = 0.0\n",
        "K_P          = 1.394\n",
        "OMEGA_P      = -0.2\n",
        "SIGMA_P      = 40.0\n",
        "F_P          = 0.11\n",
        "MOM_CENT     = 1.39\n",
        "MOM_CUT      = 0.7\n",
        "OMEGA_CUT_P  = 0.001\n",
        "OMEGA_S      = -0.748\n",
        "OMEGA_CUT_S  = 0.001\n",
        "OMEGA_ID     = 0.349\n",
        "OMEGA_CUT_ID = 0.001\n",
        "LX           = 20.00\n",
        "LY           = 20.00\n",
        "NX           = 80\n",
        "NY           = 80\n",
        "NT           = 256\n",
        "TOT_H        = 1000.00\n",
        "T_STFFT      = 200.0\n",
        "DXSAV_RK     = 10.0\n",
        "DXSAV_SP     = 1.0\n",
        "EPS_R        = 0.0001\n",
        "DEF_X_POS    = 11\n",
        "DEF_Y_POS    = -0.546875\n",
        "GV           = 100.0\n"
       ]
      }
     ],
     "prompt_number": 1
    },
    {
     "cell_type": "code",
     "collapsed": false,
     "input": [
      "global const NORM = sqrt(NX*NY)/256/sqrt(LX*LY)*70\n",
      "global const AX = 2LX/NX\n",
      "global const AY = 2LY/NY\n",
      "\n",
      "global const SY = [-LY+(iy-1)*AY for iy=1:NY]\n",
      "global const SX = [-LX+(ix-1)*AX for ix=1:NX]'\n",
      "global const MOMY = [2pi*(hy-1)/(2LY) for hy=1:NY]\n",
      "global const MOMX = [2pi*(hx-1)/(2LX) for hx=1:NX]'"
     ],
     "language": "python",
     "metadata": {},
     "outputs": [
      {
       "metadata": {},
       "output_type": "pyout",
       "prompt_number": 2,
       "text": [
        "1x80 Array{Float64,2}:\n",
        " 0.0  0.15708  0.314159  0.471239  \u2026  11.9381  12.0951  12.2522  12.4093"
       ]
      }
     ],
     "prompt_number": 2
    },
    {
     "cell_type": "code",
     "collapsed": false,
     "input": [
      "findindex(distormom, side, delta) = iround((side + distormom) / delta)"
     ],
     "language": "python",
     "metadata": {},
     "outputs": [
      {
       "metadata": {},
       "output_type": "pyout",
       "prompt_number": 3,
       "text": [
        "findindex (generic function with 1 method)"
       ]
      }
     ],
     "prompt_number": 3
    },
    {
     "cell_type": "code",
     "collapsed": false,
     "input": [
      "function initpotc()\n",
      "    ix = findindex(DEF_X_POS, LX, AX)\n",
      "    iy = findindex(DEF_Y_POS, LY, AY)\n",
      "    potential = zeros(NX, NY)\n",
      "    potential[ix, iy] = GV\n",
      "    return potential\n",
      "end"
     ],
     "language": "python",
     "metadata": {},
     "outputs": [
      {
       "metadata": {},
       "output_type": "pyout",
       "prompt_number": 4,
       "text": [
        "initpotc (generic function with 1 method)"
       ]
      }
     ],
     "prompt_number": 4
    },
    {
     "cell_type": "code",
     "collapsed": false,
     "input": [
      "setg(kx, ky) = kx .^ 2 .+ ky .^ 2"
     ],
     "language": "python",
     "metadata": {},
     "outputs": [
      {
       "metadata": {},
       "output_type": "pyout",
       "prompt_number": 5,
       "text": [
        "setg (generic function with 1 method)"
       ]
      }
     ],
     "prompt_number": 5
    },
    {
     "cell_type": "code",
     "collapsed": false,
     "input": [
      "function initpump(x, y)\n",
      "    #top hat pump\n",
      "    r = sqrt(x .^ 2 .+ y .^ 2)\n",
      "    0.5 * F_P / NORM * \n",
      "    (tanh(1 / 10 * (r .+ SIGMA_P)) - tanh(1 / 10 * (r .- SIGMA_P))) * exp(im * (K_P * x .+ 0. * y))\n",
      "end"
     ],
     "language": "python",
     "metadata": {},
     "outputs": [
      {
       "metadata": {},
       "output_type": "pyout",
       "prompt_number": 6,
       "text": [
        "initpump (generic function with 1 method)"
       ]
      }
     ],
     "prompt_number": 6
    },
    {
     "cell_type": "code",
     "collapsed": false,
     "input": [
      "type condensate\n",
      "    kinetic::Array{Float64, 2}\n",
      "    potc::Array{Float64, 2}\n",
      "    pumpspc::Array{Complex{Float64}, 2}\n",
      "    #split up old pdb variable in exciton and photon part\n",
      "    psix::Array{Complex{Float64}, 2}\n",
      "    psic::Array{Complex{Float64}, 2}\n",
      "end"
     ],
     "language": "python",
     "metadata": {},
     "outputs": [],
     "prompt_number": 7
    },
    {
     "cell_type": "code",
     "collapsed": false,
     "input": [
      "c = condensate(\n",
      "setg(MOMX, MOMY),\n",
      "initpotc(), \n",
      "initpump(SX, SY),\n",
      "zeros(Complex{Float64}, NX, NY),\n",
      "zeros(Complex{Float64}, NX, NY))\n",
      "c.kinetic"
     ],
     "language": "python",
     "metadata": {},
     "outputs": [
      {
       "metadata": {},
       "output_type": "pyout",
       "prompt_number": 10,
       "text": [
        "80x80 Array{Float64,2}:\n",
        "   0.0         0.024674    0.098696  \u2026  142.517  146.292  150.117  153.991\n",
        "   0.024674    0.049348    0.12337      142.542  146.317  150.141  154.015\n",
        "   0.098696    0.12337     0.197392     142.616  146.391  150.215  154.089\n",
        "   0.222066    0.24674     0.320762     142.739  146.514  150.339  154.213\n",
        "   0.394784    0.419458    0.49348      142.912  146.687  150.511  154.385\n",
        "   0.61685     0.641524    0.715546  \u2026  143.134  146.909  150.734  154.607\n",
        "   0.888264    0.912938    0.98696      143.405  147.18   151.005  154.879\n",
        "   1.20903     1.2337      1.30772      143.726  147.501  151.326  155.2  \n",
        "   1.57914     1.60381     1.67783      144.096  147.871  151.696  155.57 \n",
        "   1.99859     2.02327     2.09729      144.516  148.291  152.115  155.989\n",
        "   2.4674      2.49208     2.5661    \u2026  144.984  148.76   152.584  156.458\n",
        "   2.98556     3.01023     3.08425      145.503  149.278  153.102  156.976\n",
        "   3.55306     3.57773     3.65175      146.07   149.845  153.67   157.544\n",
        "   \u22ee                                 \u22f1                                    \n",
        " 114.093     114.117     114.191        256.61   260.385  264.209  268.083\n",
        " 117.473     117.498     117.572        259.99   263.765  267.59   271.463\n",
        " 120.903     120.927     121.001     \u2026  263.42   267.195  271.019  274.893\n",
        " 124.382     124.406     124.48         266.899  270.674  274.498  278.372\n",
        " 127.91      127.935     128.009        270.427  274.202  278.027  281.901\n",
        " 131.488     131.512     131.587        274.005  277.78   281.604  285.478\n",
        " 135.115     135.14      135.214        277.632  281.407  285.232  289.105\n",
        " 138.791     138.816     138.89      \u2026  281.308  285.084  288.908  292.782\n",
        " 142.517     142.542     142.616        285.034  288.809  292.634  296.508\n",
        " 146.292     146.317     146.391        288.809  292.584  296.409  300.283\n",
        " 150.117     150.141     150.215        292.634  296.409  300.233  304.107\n",
        " 153.991     154.015     154.089        296.508  300.283  304.107  307.981"
       ]
      }
     ],
     "prompt_number": 10
    },
    {
     "cell_type": "code",
     "collapsed": false,
     "input": [
      "pcolor(x,y, abs2(c.pumpspc), cmap=\"RdBu\", vmin=-1, vmax=+1)\n",
      "colorbar()\n",
      "axis(\"equal\")"
     ],
     "language": "python",
     "metadata": {},
     "outputs": [],
     "prompt_number": 9
    }
   ],
   "metadata": {}
  }
 ]
}