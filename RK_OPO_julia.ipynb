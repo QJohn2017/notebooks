{
 "metadata": {
  "language": "Julia",
  "name": "",
  "signature": "sha256:068e375d7af259092a23d693768ebcb75f520ae444294c46e01ec38cc11be2a0"
 },
 "nbformat": 3,
 "nbformat_minor": 0,
 "worksheets": [
  {
   "cells": [
    {
     "cell_type": "code",
     "collapsed": false,
     "input": [
      "using PyPlot"
     ],
     "language": "python",
     "metadata": {},
     "outputs": [
      {
       "output_type": "stream",
       "stream": "stderr",
       "text": [
        "INFO: Loading help data...\n"
       ]
      }
     ],
     "prompt_number": 1
    },
    {
     "cell_type": "code",
     "collapsed": false,
     "input": [
      "fname = \"INPUT\"\n",
      "# using do means the file is closed automatically\n",
      "# in the same way \"with\" does in python\n",
      "open(fname,\"r\") do f\n",
      "    for line in eachline(f)\n",
      "        line = strip(replace(line,[',','/'],' '))\n",
      "        (line[1] == '&' || line[1] == '!') && continue\n",
      "        include_string(\"global const \" * uppercase(line))\n",
      "        println(uppercase(line))\n",
      "    end\n",
      "end"
     ],
     "language": "python",
     "metadata": {},
     "outputs": [
      {
       "output_type": "stream",
       "stream": "stdout",
       "text": [
        "RUN          = 1\n"
       ]
      },
      {
       "output_type": "stream",
       "stream": "stdout",
       "text": [
        "IN_SSWF_RK   = 0\n",
        "IN_SSWF_SP   = 10\n",
        "KOUNT_ST     = 0\n",
        "KOUNT_END    = 10\n",
        "KAPPA_C      = 0.12\n",
        "KAPPA_X      = 0.12\n",
        "DELTA        = 0.0\n",
        "K_P          = 1.394\n",
        "OMEGA_P      = -0.2\n",
        "SIGMA_P      = 10.0\n",
        "F_P          = 0.11\n",
        "MOM_CENT     = 1.39\n",
        "MOM_CUT      = 0.7\n",
        "OMEGA_CUT_P  = 0.001\n",
        "OMEGA_S      = -0.748\n",
        "OMEGA_CUT_S  = 0.001\n",
        "OMEGA_ID     = 0.349\n",
        "OMEGA_CUT_ID = 0.001\n",
        "LX           = 20.0\n",
        "LY           = 20.0\n",
        "NX           = 80\n",
        "NY           = 80\n",
        "NT           = 256\n",
        "TOT_H        = 1000.00\n",
        "T_STFFT      = 200.0\n",
        "DXSAV_RK     = 10.0\n",
        "DXSAV_SP     = 1.0\n",
        "EPS_R        = 0.0001\n",
        "DEF_X_POS    = 0.0\n",
        "DEF_Y_POS    = 0.0\n",
        "GV           = 100.0\n"
       ]
      }
     ],
     "prompt_number": 2
    },
    {
     "cell_type": "code",
     "collapsed": false,
     "input": [
      "#f = [0, 1, ...,   n/2-1,     -n/2, ..., -1] / (d*n)   if n is even\n",
      "#f = [0, 1, ..., (n-1)/2, -(n-1)/2, ..., -1] / (d*n)   if n is odd\n",
      "function fftfreq(n::Int64, d::Float64)\n",
      "    N = fld(n-1,2)\n",
      "    p1 = [0:N]\n",
      "    p2 = [-fld(n,2):-1]\n",
      "    return [p1, p2]/(d*n)\n",
      "end"
     ],
     "language": "python",
     "metadata": {},
     "outputs": [
      {
       "metadata": {},
       "output_type": "pyout",
       "prompt_number": 3,
       "text": [
        "fftfreq (generic function with 1 method)"
       ]
      }
     ],
     "prompt_number": 3
    },
    {
     "cell_type": "code",
     "collapsed": false,
     "input": [
      "global const NORM = sqrt(NX*NY)/256/sqrt(LX*LY)*70\n",
      "global const AX = 2LX/NX\n",
      "global const AY = 2LY/NY\n",
      "global const SIDEKX = pi/AX\n",
      "global const SIDEKY = pi/AY\n",
      "\n",
      "global const SY = [-LY+(iy-1)*AY for iy=1:NY]\n",
      "global const SX = [-LX+(ix-1)*AX for ix=1:NX]'\n",
      "\n",
      "global const MOMY = fftfreq(NY, AY/2pi)\n",
      "global const MOMX = fftfreq(NX, AX/2pi)'"
     ],
     "language": "python",
     "metadata": {},
     "outputs": [
      {
       "metadata": {},
       "output_type": "pyout",
       "prompt_number": 4,
       "text": [
        "1x80 Array{Float64,2}:\n",
        " 0.0  0.15708  0.314159  0.471239  \u2026  -0.471239  -0.314159  -0.15708"
       ]
      }
     ],
     "prompt_number": 4
    },
    {
     "cell_type": "code",
     "collapsed": false,
     "input": [
      "findindex(distormom, side, delta) = iround((side + distormom) / delta) + 1"
     ],
     "language": "python",
     "metadata": {},
     "outputs": [
      {
       "metadata": {},
       "output_type": "pyout",
       "prompt_number": 5,
       "text": [
        "findindex (generic function with 1 method)"
       ]
      }
     ],
     "prompt_number": 5
    },
    {
     "cell_type": "code",
     "collapsed": false,
     "input": [
      "function initpotc()\n",
      "    ix = findindex(DEF_X_POS, LX, AX)\n",
      "    iy = findindex(DEF_Y_POS, LY, AY)\n",
      "    potential = zeros(NY, NX)\n",
      "    potential[iy, ix] = GV\n",
      "    return potential\n",
      "end"
     ],
     "language": "python",
     "metadata": {},
     "outputs": [
      {
       "metadata": {},
       "output_type": "pyout",
       "prompt_number": 6,
       "text": [
        "initpotc (generic function with 1 method)"
       ]
      }
     ],
     "prompt_number": 6
    },
    {
     "cell_type": "code",
     "collapsed": false,
     "input": [
      "function initkinetic()\n",
      "    kinetic = zeros(Float64, NX, NY)\n",
      "    for j = 1:NY/2+1\n",
      "        for k=1:NX/2+1\n",
      "            kinetic[k,j] = pi^2 * ((k-1)^2/(LX^2)+(j-1)^2/(LY^2))\n",
      "        end\n",
      "    end\n",
      "    for j = NY/2+2:NY\n",
      "        for k=NX/2+2:NX\n",
      "            kinetic[k,j] = pi^2 * ((k-1-NX)^2/(LX^2)+(j-1-NY)^2/(LY^2))\n",
      "        end\n",
      "    end\n",
      "    for j = 1:NY/2+1\n",
      "        for k=NX/2+2:NX\n",
      "            kinetic[k,j] = pi^2 * ((k-1-NX)^2/(LX^2)+(j-1)^2/(LY^2))\n",
      "        end\n",
      "    end\n",
      "    for j= NY/2+2:NY\n",
      "        for k = 1:NX/2+1\n",
      "            kinetic[k,j] = pi^2*((k-1)^2/(LX^2)+(j-1-NY)^2/(LY^2))\n",
      "        end\n",
      "    end\n",
      "    return kinetic\n",
      "end"
     ],
     "language": "python",
     "metadata": {},
     "outputs": [
      {
       "metadata": {},
       "output_type": "pyout",
       "prompt_number": 7,
       "text": [
        "initkinetic (generic function with 1 method)"
       ]
      }
     ],
     "prompt_number": 7
    },
    {
     "cell_type": "markdown",
     "metadata": {},
     "source": [
      "$$\\operatorname{DFT}(A)[k] = \\sum_{n=1}^{\\operatorname{length}(A)}\n",
      "\\exp\\left(-i\\frac{2\\pi (n-1)(k-1)}{\\operatorname{length}(A)} \\right)\n",
      "A[n].$$"
     ]
    },
    {
     "cell_type": "code",
     "collapsed": false,
     "input": [
      "setg(kx, ky) = kx .^ 2 .+ ky .^ 2"
     ],
     "language": "python",
     "metadata": {},
     "outputs": [
      {
       "metadata": {},
       "output_type": "pyout",
       "prompt_number": 8,
       "text": [
        "setg (generic function with 1 method)"
       ]
      }
     ],
     "prompt_number": 8
    },
    {
     "cell_type": "code",
     "collapsed": false,
     "input": [
      "function initpump(x, y)\n",
      "    #top hat pump\n",
      "    r = sqrt(x .^ 2 .+ y .^ 2)\n",
      "    0.5 * F_P / NORM * \n",
      "    (tanh(1 / 10 * (r .+ SIGMA_P)) - tanh(1 / 10 * (r .- SIGMA_P))) .* exp(im * (K_P * x .+ zero(K_P) * y))\n",
      "end"
     ],
     "language": "python",
     "metadata": {},
     "outputs": [
      {
       "metadata": {},
       "output_type": "pyout",
       "prompt_number": 9,
       "text": [
        "initpump (generic function with 1 method)"
       ]
      }
     ],
     "prompt_number": 9
    },
    {
     "cell_type": "code",
     "collapsed": false,
     "input": [
      "type System\n",
      "    kinetic::Array{Float64, 2}\n",
      "    potc::Array{Float64, 2}\n",
      "    pumpspc::Array{Complex{Float64}, 2}\n",
      "end"
     ],
     "language": "python",
     "metadata": {},
     "outputs": [],
     "prompt_number": 10
    },
    {
     "cell_type": "code",
     "collapsed": false,
     "input": [
      "type Wavefunction{T}\n",
      "    c::Array{T, 2}\n",
      "    x::Array{T, 2}\n",
      "end"
     ],
     "language": "python",
     "metadata": {},
     "outputs": [],
     "prompt_number": 11
    },
    {
     "cell_type": "code",
     "collapsed": false,
     "input": [
      "+{T}(psi1::Wavefunction{T}, psi2::Wavefunction{T}) = Wavefunction{T}(psi1.c + psi2.c, psi1.x + psi2.x)\n",
      "+{T}(psi::Wavefunction{T}, c::Float64) = Wavefunction{T}(psi.c .+ c, psi.x .+ c) \n",
      "*{T}(c::Number, psi::Wavefunction{T}) = Wavefunction{T}(c*psi.c, c*psi.x)\n",
      "/{T}(psi1::Wavefunction{T}, psi2::Wavefunction{T}) = Wavefunction{T}(psi1.c ./ psi2.c, psi1.x ./ psi2.x)\n",
      "import Base.abs\n",
      "abs(psi::Wavefunction{Complex{Float64}}) = Wavefunction{Float64}(abs(psi.c), abs(psi.x))\n",
      "import Base.maximum\n",
      "function maximum(psi::Wavefunction{Float64})\n",
      "    maxc = maximum(psi.c)\n",
      "    maxx = maximum(psi.x)\n",
      "    return max(maxc, maxx)\n",
      "end"
     ],
     "language": "python",
     "metadata": {},
     "outputs": [
      {
       "metadata": {},
       "output_type": "pyout",
       "prompt_number": 12,
       "text": [
        "maximum (generic function with 10 methods)"
       ]
      }
     ],
     "prompt_number": 12
    },
    {
     "cell_type": "code",
     "collapsed": false,
     "input": [
      "cav = System(\n",
      "#setg(MOMX, MOMY),\n",
      "initkinetic(),\n",
      "initpotc(), \n",
      "initpump(SX, SY));"
     ],
     "language": "python",
     "metadata": {},
     "outputs": [],
     "prompt_number": 13
    },
    {
     "cell_type": "code",
     "collapsed": false,
     "input": [
      "psiinit = Wavefunction{Complex{Float64}}(zeros(NY, NX), zeros(NY, NX));"
     ],
     "language": "python",
     "metadata": {},
     "outputs": [],
     "prompt_number": 14
    },
    {
     "cell_type": "code",
     "collapsed": false,
     "input": [
      "#psitest = Wavefunction{Complex{Float64}}(ones(NY, NX) + im*ones(NY, NX), ones(NY, NX) + im*ones(NY, NX));"
     ],
     "language": "python",
     "metadata": {},
     "outputs": [],
     "prompt_number": 15
    },
    {
     "cell_type": "code",
     "collapsed": false,
     "input": [
      "pcolor(SX, SY, cav.potc)\n",
      "colorbar()"
     ],
     "language": "python",
     "metadata": {},
     "outputs": [
      {
       "metadata": {},
       "output_type": "display_data",
       "png": "[encoded data removed]",
       "text": [
        "Figure(PyObject <matplotlib.figure.Figure object at 0x7c63c50>)"
       ]
      },
      {
       "metadata": {},
       "output_type": "pyout",
       "prompt_number": 16,
       "text": [
        "PyObject <matplotlib.colorbar.Colorbar instance at 0x7f5078e9dbd8>"
       ]
      }
     ],
     "prompt_number": 16
    },
    {
     "cell_type": "code",
     "collapsed": false,
     "input": [
      "pcolor(cav.kinetic)\n",
      "colorbar()"
     ],
     "language": "python",
     "metadata": {},
     "outputs": [
      {
       "metadata": {},
       "output_type": "display_data",
       "png": "[encoded data removed]",
       "text": [
        "Figure(PyObject <matplotlib.figure.Figure object at 0x7f507a283210>)"
       ]
      },
      {
       "metadata": {},
       "output_type": "pyout",
       "prompt_number": 17,
       "text": [
        "PyObject <matplotlib.colorbar.Colorbar instance at 0x7f507af8b290>"
       ]
      }
     ],
     "prompt_number": 17
    },
    {
     "cell_type": "code",
     "collapsed": false,
     "input": [
      "pcolor(SX, SY, abs2(cav.pumpspc))\n",
      "colorbar()"
     ],
     "language": "python",
     "metadata": {},
     "outputs": [
      {
       "metadata": {},
       "output_type": "display_data",
       "png": "[encoded data removed]",
       "text": [
        "Figure(PyObject <matplotlib.figure.Figure object at 0x7f507a283490>)"
       ]
      },
      {
       "metadata": {},
       "output_type": "pyout",
       "prompt_number": 18,
       "text": [
        "PyObject <matplotlib.colorbar.Colorbar instance at 0x7f507be26d40>"
       ]
      }
     ],
     "prompt_number": 18
    },
    {
     "cell_type": "code",
     "collapsed": false,
     "input": [
      "function derivs(t::Float64, psi::Wavefunction{Complex{Float64}}, s::System)\n",
      "    #generate the energy dependence of the pump\n",
      "    pump = s.pumpspc * exp(-im * OMEGA_P * t)\n",
      "\n",
      "    #right hand side of the equation of motion\n",
      "    #photon part \n",
      "    dpsicdt = - im*psi.x - im*DELTA*psi.c - KAPPA_C*psi.c - im*pump\n",
      "    #add a potential to the photon part\n",
      "    dpsicdt += im*s.potc .* psi.c\n",
      "    #adding the kinetic energy by means of the FFT\n",
      "    dpsicdt -= im * ifft(s.kinetic .* fft(psi.c))\n",
      "    #exciton part\n",
      "    dpsixdt = -KAPPA_X*psi.x - im * abs2(psi.x) .* psi.x/(AX*AY) - im*psi.c\n",
      "    return Wavefunction{Complex{Float64}}(dpsicdt, dpsixdt)\n",
      "end"
     ],
     "language": "python",
     "metadata": {},
     "outputs": [
      {
       "metadata": {},
       "output_type": "pyout",
       "prompt_number": 19,
       "text": [
        "derivs (generic function with 1 method)"
       ]
      }
     ],
     "prompt_number": 19
    },
    {
     "cell_type": "code",
     "collapsed": false,
     "input": [
      "#Given values for psi and its derivative dpsidt known at t\n",
      "#use the fifth order Cash-Karp Runge-Kutta method to advance the\n",
      "#solution over an interval h and return the incremented variables as\n",
      "#psiout. Also return an estimate of the local truncation error in psiout\n",
      "#using the embedded fourth order method. The user supplies the\n",
      "#function derivs which returns derivatives dpsidt at t.\n",
      "\n",
      "function rkck(psi::Wavefunction{Complex{Float64}}, dpsidt::Wavefunction{Complex{Float64}},\n",
      "    t::Float64, h::Float64, s::System)        \n",
      "    const A2=0.2\n",
      "    const A3=0.3\n",
      "    const A4=0.6\n",
      "    const A5=1.0\n",
      "    const A6=0.875\n",
      "    const B21=0.2\n",
      "    const B31=3.0/40.0\n",
      "    const B32=9.0/40.0\n",
      "    const B41=0.3\n",
      "    const B42=-0.9\n",
      "    const B43=1.2\n",
      "    const B51=-11.0/54.0\n",
      "    const B52=2.5\n",
      "    const B53=-70.0/27.0\n",
      "    const B54=35.0/27.0\n",
      "    const B61=1631.0/55296.0\n",
      "    const B62=175.0/512.0\n",
      "    const B63=575.0/13824.0\n",
      "    const B64=44275.0/110592.0\n",
      "    const B65=253.0/4096.0\n",
      "    const C1=37.0/378.0\n",
      "    const C3=250.0/621.0\n",
      "    const C4=125.0/594.0\n",
      "    const C6=512.0/1771.0\n",
      "    const DC1=C1-2825.0/27648.0\n",
      "    const DC3=C3-18575.0/48384.0\n",
      "    const DC4=C4-13525.0/55296.0\n",
      "    const DC5=-277.0/14336.0\n",
      "    const DC6=C6-0.25\n",
      "    \n",
      "    psitemp=psi+B21*h*dpsidt\n",
      "    #First step.\n",
      "    ak2 = derivs(t+A2*h,psitemp,s)\n",
      "    #@show h, abs(ak2.x[1,1])\n",
      "    #Second step.\n",
      "    psitemp=psi+h*(B31*dpsidt+B32*ak2)\n",
      "    ak3 = derivs(t+A3*h,psitemp,s) \n",
      "    #Third step.\n",
      "    psitemp=psi+h*(B41*dpsidt+B42*ak2+B43*ak3)\n",
      "    ak4 = derivs(t+A4*h,psitemp,s) \n",
      "    #Fourth step.\n",
      "    psitemp=psi+h*(B51*dpsidt+B52*ak2+B53*ak3+B54*ak4)\n",
      "    ak5 = derivs(t+A5*h,psitemp,s) \n",
      "    #Fifth step.\n",
      "    psitemp=psi+h*(B61*dpsidt+B62*ak2+B63*ak3+B64*ak4+B65*ak5)\n",
      "    ak6 = derivs(t+A6*h,psitemp,s) \n",
      "    #Sixth step.\n",
      "    psiout=psi+h*(C1*dpsidt+C3*ak3+C4*ak4+C6*ak6) \n",
      "    #Accumulate increments with proper weights.\n",
      "    #@show abs(ak4.x[1,1])\n",
      "    psierr=h*(DC1*dpsidt+DC3*ak3+DC4*ak4+DC5*ak5+DC6*ak6)\n",
      "    #Estimate error as diference between fourth and fifth order methods.\n",
      "    return psiout, psierr\n",
      "end"
     ],
     "language": "python",
     "metadata": {},
     "outputs": [
      {
       "metadata": {},
       "output_type": "pyout",
       "prompt_number": 20,
       "text": [
        "rkck (generic function with 1 method)"
       ]
      }
     ],
     "prompt_number": 20
    },
    {
     "cell_type": "code",
     "collapsed": false,
     "input": [
      "#Fifth order Runge-Kutta step with monitoring of local truncation error    \n",
      "#to ensure accuracy and adjust stepsize. Input are the dependent variable    \n",
      "#matrix psi and its derivative dpsidt at the starting value of the    \n",
      "#independent variable t. Also input are the stepsize to be attempted htry    \n",
      "#the required accuracy eps and the matrix psiscal against which the error    \n",
      "#is scaled. psi dpsidt and psiscal are all of the same size. On output, psi and t are    \n",
      "#replaced by their new values, hdid is the stepsize that was actually    \n",
      "#accomplished, and hnext is the estimated next stepsize. derivs is the    \n",
      "#user-supplied subroutine that computes the right-hand-side derivatives.    \n",
      "\n",
      "function rkqs!(psi::Wavefunction{Complex{Float64}}, dpsidt::Wavefunction{Complex{Float64}},\n",
      "    t::Float64, htry::Float64, eps::Float64, psiscal::Wavefunction{Float64}, s::System)\n",
      "    const SAFETY=0.9\n",
      "    const PGROW=-0.2\n",
      "    const PSHRNK=-0.25\n",
      "    const ERRCON=1.89e-4\n",
      "\n",
      "    #Set step size to the initial trial value.\n",
      "    h=htry     \n",
      "    \n",
      "    errmax = 0.\n",
      "    psitemp = Wavefunction{Complex{Float64}}(zeros(NY, NX), zeros(NY, NX))\n",
      "    while true\n",
      "        #Take a step.    \n",
      "        psitemp, psierr = rkck(psi,dpsidt,t,h,s)\n",
      "        #Evaluate accuracy.\n",
      "        #@show sum(psitemp.x)+sum(psitemp.c)\n",
      "        errmax=maximum(abs(psierr)/psiscal)/eps\n",
      "        #@show errmax\n",
      "        #Step succeeded.    \n",
      "        (errmax <= 1.0) && break\n",
      "        ###########\n",
      "        #Truncation error too large, reduce stepsize.    \n",
      "        htemp=SAFETY*h*(errmax^PSHRNK)\n",
      "        #No more than a factor 10.\n",
      "        h=copysign(max(abs(htemp), 0.1*abs(h)), h)\n",
      "        #isapprox(h, 0.) && println(\"stepsize underflow in rkqs\")    \n",
      "    end\n",
      "    #Go back for another try. No more than a factor 5 increase.\n",
      "\n",
      "    errmax>ERRCON ? hnext=SAFETY*h*(errmax^PGROW) : (hnext=5.0*h)\n",
      "    hdid = h\n",
      "    t += h\n",
      "    psi = psitemp\n",
      "    @show hdid, t\n",
      "    return hdid, hnext, t, psi\n",
      "end"
     ],
     "language": "python",
     "metadata": {},
     "outputs": [
      {
       "metadata": {},
       "output_type": "pyout",
       "prompt_number": 21,
       "text": [
        "rkqs! (generic function with 1 method)"
       ]
      }
     ],
     "prompt_number": 21
    },
    {
     "cell_type": "code",
     "collapsed": false,
     "input": [
      "#Runge-Kutta driver with adaptive step size control.Integrate the array\n",
      "#of starting values psistart from t1 to t2 with accuracy eps. h1 should be\n",
      "#set as a guessed first stepsize, hmin as the minimum allowed stepsize\n",
      "#(can be zero). On output psistart is replaced by values at the end of the\n",
      "#integration interval. derivs is the user-supplied subroutine for\n",
      "#calculating the right-hand-side derivative, while rkqs is the name of\n",
      "#the stepper routine to be used.\n",
      "\n",
      "function odeintrk!(psistart::Wavefunction{Complex{Float64}},\n",
      "    t1::Float64, t2::Float64, eps::Float64, h1::Float64, hmin::Float64, s::System)    \n",
      "    const MAXSTP = 10\n",
      "    const TINY=1.0e-30\n",
      "\n",
      "    t    = t1\n",
      "    h    = copysign(h1, t2-t1)    \n",
      "    #nok  = 0\n",
      "    #nbad = 0\n",
      "    #kount= 0 \n",
      "    \n",
      "    psi = psistart\n",
      "    \n",
      "    #main program loop\n",
      "    for nstp = 1:MAXSTP     #Take at most MAXSTP steps\n",
      "        #Scaling used to monitor accuracy.\n",
      "        dpsi = derivs(t, psi, s)\n",
      "        psiscal = abs(psi) + abs(h*dpsi) + TINY\n",
      "\n",
      "        #If stepsize can overshoot,decrease.\n",
      "        #((t+h-t2)*(t+h-t1) > 0.0) && (h = t2 - t)     \n",
      "        \n",
      "        hdid, hnext, t, psi = rkqs!(psi,dpsi,t,h,eps,psiscal,s)\n",
      "        #isapprox(hdid,h) ? nok += 1 : (nbad += 1)\n",
      "        \n",
      "        #Are we done?\n",
      "        #if (t-t2)*(t2-t1) >= 0.0\n",
      "        #    psistart = psi \n",
      "        #    return\n",
      "        #end\n",
      "        #(abs(hnext) < hmin) && println(\"stepsize smaller than minimum in odeint\")\n",
      "        h=hnext            \n",
      "    end\n",
      "    println(\"too many steps in odeint\")\n",
      "end"
     ],
     "language": "python",
     "metadata": {},
     "outputs": [
      {
       "metadata": {},
       "output_type": "pyout",
       "prompt_number": 22,
       "text": [
        "odeintrk! (generic function with 1 method)"
       ]
      }
     ],
     "prompt_number": 22
    },
    {
     "cell_type": "code",
     "collapsed": false,
     "input": [
      "odeintrk!(psiinit,0.,TOT_H,EPS_R,0.001,0.,cav)"
     ],
     "language": "python",
     "metadata": {},
     "outputs": [
      {
       "output_type": "stream",
       "stream": "stdout",
       "text": [
        "(hdid,t) => "
       ]
      },
      {
       "output_type": "stream",
       "stream": "stdout",
       "text": [
        "(7.017021872086558e-9,7.017021872086558e-9)\n",
        "(hdid,t) => "
       ]
      },
      {
       "output_type": "stream",
       "stream": "stdout",
       "text": [
        "(6.749827861443833e-9,1.3766849733530392e-8)\n",
        "(hdid,t) => "
       ]
      },
      {
       "output_type": "stream",
       "stream": "stdout",
       "text": [
        "(3.374913930721916e-8,4.751598904074955e-8)\n",
        "(hdid,t) => "
       ]
      },
      {
       "output_type": "stream",
       "stream": "stdout",
       "text": [
        "(1.687456965360958e-7,2.1626168557684535e-7)\n",
        "(hdid,t) => "
       ]
      },
      {
       "output_type": "stream",
       "stream": "stdout",
       "text": [
        "(8.43728482680479e-7,1.0599901682573243e-6)\n",
        "(hdid,t) => "
       ]
      },
      {
       "output_type": "stream",
       "stream": "stdout",
       "text": [
        "(4.218642413402395e-6,5.278632581659719e-6)\n",
        "(hdid,t) => "
       ]
      },
      {
       "output_type": "stream",
       "stream": "stdout",
       "text": [
        "(2.1093212067011974e-5,2.6371844648671693e-5)\n",
        "(hdid,t) => "
       ]
      },
      {
       "output_type": "stream",
       "stream": "stdout",
       "text": [
        "(0.00010546606033505987,0.00013183790498373155)\n",
        "(hdid,t) => "
       ]
      },
      {
       "output_type": "stream",
       "stream": "stdout",
       "text": [
        "(0.0005273303016752993,0.0006591682066590309)\n",
        "(hdid,t) => "
       ]
      },
      {
       "output_type": "stream",
       "stream": "stdout",
       "text": [
        "(0.002055479980666874,0.002714648187325905)\n",
        "too many steps in odeint\n"
       ]
      }
     ],
     "prompt_number": 23
    },
    {
     "cell_type": "code",
     "collapsed": false,
     "input": [],
     "language": "python",
     "metadata": {},
     "outputs": [],
     "prompt_number": 24
    }
   ],
   "metadata": {}
  }
 ]
}