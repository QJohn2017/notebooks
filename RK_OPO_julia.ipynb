{
 "metadata": {
  "language": "Julia",
  "name": "",
  "signature": "sha256:5a438ff4c9760b07b49ac898927f2460a0484b30e63edaa6750aeed67b62bd04"
 },
 "nbformat": 3,
 "nbformat_minor": 0,
 "worksheets": [
  {
   "cells": [
    {
     "cell_type": "code",
     "collapsed": false,
     "input": [],
     "language": "python",
     "metadata": {},
     "outputs": []
    }
   ],
   "metadata": {}
  }
 ]
}