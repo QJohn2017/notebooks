{
 "metadata": {
  "language": "Julia",
  "name": "",
  "signature": "sha256:1d51bb2f17f5014ca5234adf652b868cd3ab1ae328e84bc1d11299ceff9cfb3c"
 },
 "nbformat": 3,
 "nbformat_minor": 0,
 "worksheets": [
  {
   "cells": [
    {
     "cell_type": "code",
     "collapsed": false,
     "input": [
      "using PyPlot"
     ],
     "language": "python",
     "metadata": {},
     "outputs": [
      {
       "output_type": "stream",
       "stream": "stderr",
       "text": [
        "INFO: Loading help data...\n"
       ]
      }
     ],
     "prompt_number": 1
    },
    {
     "cell_type": "code",
     "collapsed": false,
     "input": [
      "# Cash-Karp coefficients\n",
      "const ck_coefficients = (5,\n",
      "                         [   0         0       0           0          0\n",
      "                             1/5       0       0           0          0\n",
      "                             3/40      9/40    0           0          0\n",
      "                             3/10     -9/10    6/5         0          0\n",
      "                           -11/54      5/2   -70/27       35/27       0\n",
      "                          1631/55296 175/512 575/13824 44275/110592 253/4096],\n",
      "                         # 4th order b-coefficients\n",
      "                         [37/378 0 250/621 125/594 0 512/1771],\n",
      "                         # 5th order b-coefficients\n",
      "                         [2825/27648 0 18575/48384 13525/55296 277/14336 1/4],\n",
      "                         );"
     ],
     "language": "python",
     "metadata": {},
     "outputs": [],
     "prompt_number": 2
    },
    {
     "cell_type": "code",
     "collapsed": false,
     "input": [
      "function oderkf(F, x0, tspan, p, a, bs, bp; reltol = 1.0e-5, abstol = 1.0e-8)\n",
      "    pow = 1/p   # use the higher order to estimate the next step size\n",
      "\n",
      "    c = sum(a, 2)   # consistency condition\n",
      "    \n",
      "    # Initialization\n",
      "    t = tspan[1]\n",
      "    tfinal = tspan[end]\n",
      "    tdir = sign(tfinal - t)\n",
      "    hmax = abs(tfinal - t)/2.5\n",
      "    hmin = abs(tfinal - t)/1e9\n",
      "    h = tdir*abs(tfinal - t)/100  # initial guess at a step size\n",
      "    x = x0\n",
      "    tout = t            # first output time\n",
      "    xout = Array(typeof(x0), 1)\n",
      "    xout[1] = x         # first output solution\n",
      "\n",
      "    k = Array(typeof(x0), length(c))\n",
      "    k[1] = F(t,x) # first stage\n",
      "    \n",
      "    while abs(t) != abs(tfinal) && abs(h) >= hmin\n",
      "        if abs(h) > abs(tfinal-t)\n",
      "            h = tfinal - t\n",
      "        end\n",
      "\n",
      "        #(p-1)th and pth order estimates\n",
      "        xs = x + h*bs[1]*k[1]\n",
      "        xp = x + h*bp[1]*k[1]\n",
      "        for j = 2:length(c)\n",
      "            dx = a[j,1]*k[1]\n",
      "            for i = 2:j-1\n",
      "                dx += a[j,i]*k[i]\n",
      "            end\n",
      "            k[j] = F(t + h*c[j], x + h*dx)\n",
      "\n",
      "\n",
      "            # compute the (p-1)th order estimate\n",
      "            xs = xs + h*bs[j]*k[j]\n",
      "            # compute the pth order estimate\n",
      "            xp = xp + h*bp[j]*k[j]\n",
      "        end\n",
      "    \n",
      "\n",
      "        # estimate the local truncation error\n",
      "        gamma1 = xs - xp\n",
      "        println(gamma1)\n",
      "\n",
      "        # Estimate the error and the acceptable error\n",
      "        delta = norm(gamma1, Inf)              # actual error\n",
      "        tau   = max(reltol*norm(x,Inf),abstol) # allowable error\n",
      "\n",
      "        # Update the solution only if the error is acceptable\n",
      "        if delta <= tau\n",
      "            t = t + h\n",
      "            x = xp    # <-- using the higher order estimate is called 'local extrapolation'\n",
      "            tout = [tout; t]\n",
      "            push!(xout, x)\n",
      "\n",
      "            # Compute the slopes by computing the k[:,j+1]'th column based on the previous k[:,1:j] columns\n",
      "            # notes: k needs to end up as an Nxs, a is 7x6, which is s by (s-1),\n",
      "            #        s is the number of intermediate RK stages on [t (t+h)] (Dormand-Prince has s=7 stages)\n",
      "            if c[end] == 1\n",
      "                # Assign the last stage for x(k) as the first stage for computing x[k+1].\n",
      "                # This is part of the Dormand-Prince pair caveat.\n",
      "                # k[:,7] has already been computed, so use it instead of recomputing it\n",
      "                # again as k[:,1] during the next step.\n",
      "                k[1] = k[end]\n",
      "            else\n",
      "                k[1] = F(t,x) # first stage\n",
      "            end\n",
      "        end\n",
      "\n",
      "        # Update the step size\n",
      "        h = min(hmax, 0.8*h*(tau/delta)^pow)\n",
      "    end # while (t < tfinal) & (h >= hmin)\n",
      "\n",
      "    if abs(t) < abs(tfinal)\n",
      "      println(\"Step size grew too small. t=\", t, \", h=\", abs(h), \", x=\", x)\n",
      "    end\n",
      "    return tout, xout\n",
      "end"
     ],
     "language": "python",
     "metadata": {},
     "outputs": [
      {
       "metadata": {},
       "output_type": "pyout",
       "prompt_number": 41,
       "text": [
        "oderkf (generic function with 1 method)"
       ]
      }
     ],
     "prompt_number": 41
    },
    {
     "cell_type": "code",
     "collapsed": false,
     "input": [
      "tol = 1e-2\n",
      "function rhs(t,y)\n",
      "    return 3.\n",
      "end\n",
      "t,y=oderkf(rhs, 0., [0:.1:1], ck_coefficients...)\n",
      "maximum(abs(y-3t)) < tol"
     ],
     "language": "python",
     "metadata": {},
     "outputs": [
      {
       "output_type": "stream",
       "stream": "stdout",
       "text": [
        "0.0"
       ]
      },
      {
       "output_type": "stream",
       "stream": "stdout",
       "text": [
        "\n",
        "0.0\n",
        "-4.440892098500626e-16\n",
        "8.881784197001252e-16\n"
       ]
      },
      {
       "metadata": {},
       "output_type": "pyout",
       "prompt_number": 42,
       "text": [
        "true"
       ]
      }
     ],
     "prompt_number": 42
    },
    {
     "cell_type": "code",
     "collapsed": false,
     "input": [
      "plot(t, y)"
     ],
     "language": "python",
     "metadata": {},
     "outputs": [
      {
       "metadata": {},
       "output_type": "display_data",
       "png": "[encoded data removed]",
       "text": [
        "Figure(PyObject <matplotlib.figure.Figure object at 0x8239c50>)"
       ]
      },
      {
       "metadata": {},
       "output_type": "pyout",
       "prompt_number": 5,
       "text": [
        "1-element Array{Any,1}:\n",
        " PyObject <matplotlib.lines.Line2D object at 0x86cf1d0>"
       ]
      }
     ],
     "prompt_number": 5
    },
    {
     "cell_type": "code",
     "collapsed": false,
     "input": [
      "tol = 1e-2\n",
      "function rhs(t,y)\n",
      "    return [-y[2], y[1]]\n",
      "end\n",
      "t,y=oderkf(rhs, [1., 2.], [0:.001:2*pi], ck_coefficients...)\n",
      "#t,y=oderkf((t,y)->[-y[2], y[1]], [1., 2.], [0:.001:2*pi], ck_coefficients...)\n",
      "ys = hcat(y...).';"
     ],
     "language": "python",
     "metadata": {},
     "outputs": []
    },
    {
     "cell_type": "code",
     "collapsed": false,
     "input": [
      "plot(t, ys[:,1]-cos(t)+2*sin(t))"
     ],
     "language": "python",
     "metadata": {},
     "outputs": []
    }
   ],
   "metadata": {}
  }
 ]
}