{
 "metadata": {
  "language": "Julia",
  "name": "",
  "signature": "sha256:e77efbf8d4373a420fed8872490e768b16d6a4c857cf4e904e33f9b7657469f0"
 },
 "nbformat": 3,
 "nbformat_minor": 0,
 "worksheets": [
  {
   "cells": [
    {
     "cell_type": "code",
     "collapsed": false,
     "input": [
      "using PyPlot"
     ],
     "language": "python",
     "metadata": {},
     "outputs": [
      {
       "output_type": "stream",
       "stream": "stderr",
       "text": [
        "INFO: Loading help data...\n"
       ]
      }
     ],
     "prompt_number": 1
    },
    {
     "cell_type": "code",
     "collapsed": false,
     "input": [
      "# Dormand-Prince coefficients\n",
      "const dp_coefficients = (5,\n",
      "                         [    0           0          0         0         0        0\n",
      "                              1/5         0          0         0         0        0\n",
      "                              3/40        9/40       0         0         0        0\n",
      "                             44/45      -56/15      32/9       0         0        0\n",
      "                          19372/6561 -25360/2187 64448/6561 -212/729     0        0\n",
      "                           9017/3168   -355/33   46732/5247   49/176 -5103/18656  0\n",
      "                             35/384       0        500/1113  125/192 -2187/6784  11/84],\n",
      "                         # 4th order b-coefficients\n",
      "                         [5179/57600 0 7571/16695 393/640 -92097/339200 187/2100 1/40],\n",
      "                         # 5th order b-coefficients\n",
      "                         [35/384 0 500/1113 125/192 -2187/6784 11/84 0],\n",
      "                         );"
     ],
     "language": "python",
     "metadata": {},
     "outputs": [],
     "prompt_number": 2
    },
    {
     "cell_type": "code",
     "collapsed": false,
     "input": [
      "fname = \"INPUT\"\n",
      "open(fname,\"r\") do f\n",
      "    for line in eachline(f)\n",
      "        line = strip(replace(line,[',','/'],' '))\n",
      "        (line[1] == '&' || line[1] == '!') && continue\n",
      "        include_string(\"global const \" * uppercase(line))\n",
      "        println(uppercase(line))\n",
      "    end\n",
      "end"
     ],
     "language": "python",
     "metadata": {},
     "outputs": [
      {
       "output_type": "stream",
       "stream": "stdout",
       "text": [
        "RUN          = 1\n"
       ]
      },
      {
       "output_type": "stream",
       "stream": "stdout",
       "text": [
        "IN_SSWF_RK   = 0\n",
        "IN_SSWF_SP   = 10\n",
        "KOUNT_ST     = 0\n",
        "KOUNT_END    = 10\n",
        "KAPPA_C      = 0.12\n",
        "KAPPA_X      = 0.12\n",
        "DELTA        = 0.0\n",
        "K_P          = 1.394\n",
        "OMEGA_P      = -0.2\n",
        "SIGMA_P      = 40.0\n",
        "F_P          = 0.11\n",
        "MOM_CENT     = 1.39\n",
        "MOM_CUT      = 0.7\n",
        "OMEGA_CUT_P  = 0.001\n",
        "OMEGA_S      = -0.748\n",
        "OMEGA_CUT_S  = 0.001\n",
        "OMEGA_ID     = 0.349\n",
        "OMEGA_CUT_ID = 0.001\n",
        "LX           = 20.0\n",
        "LY           = 20.0\n",
        "NX           = 80\n",
        "NY           = 80\n",
        "NT           = 256\n",
        "TOT_H        = 600.00\n",
        "T_STFFT      = 200.0\n",
        "DXSAV_RK     = 10.0\n",
        "DXSAV_SP     = 1.0\n",
        "EPS_R        = 0.0001\n",
        "DEF_X_POS    = 0.0\n",
        "DEF_Y_POS    = 0.0\n",
        "GV           = 100.0\n"
       ]
      }
     ],
     "prompt_number": 3
    },
    {
     "cell_type": "code",
     "collapsed": false,
     "input": [
      "global const \u0394X = 2LX/NX\n",
      "global const \u0394Y = 2LY/NY;\n",
      "global const CNORM = sqrt(NX*NY)/256/sqrt(LX*LY)*70;"
     ],
     "language": "python",
     "metadata": {},
     "outputs": [],
     "prompt_number": 4
    },
    {
     "cell_type": "code",
     "collapsed": false,
     "input": [
      "# define custom type\n",
      "type Wavefunction{T}\n",
      "    c::Array{T, 2}  #cavity\n",
      "    x::Array{T, 2}  #exciton\n",
      "    \n",
      "    Wavefunction(cav, exc) = new(copy(cav), copy(exc))\n",
      "end"
     ],
     "language": "python",
     "metadata": {},
     "outputs": [],
     "prompt_number": 5
    },
    {
     "cell_type": "code",
     "collapsed": false,
     "input": [
      "# which supports the following operations\n",
      "import Base.norm\n",
      "norm{T}(\u03c8::Wavefunction{T}, p::Float64) = max(Base.norm(\u03c8.c, p), Base.norm(\u03c8.x, p))\n",
      "\n",
      "+{T}(\u03c81::Wavefunction{T}, \u03c82::Wavefunction{T}) = Wavefunction{T}(\u03c81.c + \u03c82.c, \u03c81.x + \u03c82.x)\n",
      "-{T}(\u03c81::Wavefunction{T}, \u03c82::Wavefunction{T}) = Wavefunction{T}(\u03c81.c - \u03c82.c, \u03c81.x - \u03c82.x)\n",
      "\n",
      "*{T}(c::Real, \u03c8::Wavefunction{T}) = Wavefunction{T}(c*\u03c8.c, c*\u03c8.x)\n",
      "*{T}(\u03c8::Wavefunction{T}, c::Real) = c*\u03c8\n",
      "\n",
      "/{T}(\u03c8::Wavefunction{T}, c::Real) = Wavefunction{T}(\u03c8.c/c, \u03c8.x/c)"
     ],
     "language": "python",
     "metadata": {},
     "outputs": [
      {
       "metadata": {},
       "output_type": "pyout",
       "prompt_number": 6,
       "text": [
        "/ (generic function with 49 methods)"
       ]
      }
     ],
     "prompt_number": 6
    },
    {
     "cell_type": "code",
     "collapsed": false,
     "input": [
      "getidx(pos, len, \u0394) = iround((len + pos)/\u0394) + 1"
     ],
     "language": "python",
     "metadata": {},
     "outputs": [
      {
       "metadata": {},
       "output_type": "pyout",
       "prompt_number": 7,
       "text": [
        "getidx (generic function with 1 method)"
       ]
      }
     ],
     "prompt_number": 7
    },
    {
     "cell_type": "code",
     "collapsed": false,
     "input": [
      "function initpotcav(posx, posy, strength)\n",
      "    ix = getidx(posx, LX, \u0394X)\n",
      "    iy = getidx(posy, LY, \u0394Y)\n",
      "    potential = zeros(NY, NX)\n",
      "    potential[iy, ix] = strength\n",
      "    return potential\n",
      "end\n",
      "global const SY = [-LY+(iy-1)*\u0394Y for iy=1:NY]\n",
      "global const SX = [-LX+(ix-1)*\u0394X for ix=1:NX]'\n",
      "global const potcav = initpotcav(DEF_X_POS, DEF_Y_POS, GV);"
     ],
     "language": "python",
     "metadata": {},
     "outputs": [],
     "prompt_number": 8
    },
    {
     "cell_type": "code",
     "collapsed": false,
     "input": [
      "#pcolor(SX, SY, potcav)\n",
      "#colorbar()"
     ],
     "language": "python",
     "metadata": {},
     "outputs": [],
     "prompt_number": 9
    },
    {
     "cell_type": "code",
     "collapsed": false,
     "input": [
      "function initpump(x, y, ampl, width, kp)\n",
      "    r = sqrt(x .^ 2 .+ y .^ 2)\n",
      "    #top hat pump\n",
      "    0.5 * ampl / CNORM * \n",
      "    (tanh(1/10*(r .+ width)) - tanh(1/10*(r .- width))) .* exp(im*(kp*x .+ zero(kp)*y))\n",
      "end\n",
      "global const pumpspc = initpump(SX, SY, F_P, SIGMA_P, K_P);"
     ],
     "language": "python",
     "metadata": {},
     "outputs": [],
     "prompt_number": 10
    },
    {
     "cell_type": "code",
     "collapsed": false,
     "input": [
      "#pcolor(SX, SY, abs2(pumpspc))\n",
      "#colorbar()"
     ],
     "language": "python",
     "metadata": {},
     "outputs": [],
     "prompt_number": 11
    },
    {
     "cell_type": "code",
     "collapsed": false,
     "input": [
      "#f = [0, 1, ...,   n/2-1,     -n/2, ..., -1] / (d*n)   if n is even\n",
      "#f = [0, 1, ..., (n-1)/2, -(n-1)/2, ..., -1] / (d*n)   if n is odd\n",
      "function fftfreq(n::Int64, d::Float64)\n",
      "    N = fld(n-1,2)\n",
      "    p1 = [0:N]\n",
      "    p2 = [-fld(n,2):-1]\n",
      "    return [p1, p2]/(d*n)\n",
      "end"
     ],
     "language": "python",
     "metadata": {},
     "outputs": [
      {
       "metadata": {},
       "output_type": "pyout",
       "prompt_number": 12,
       "text": [
        "fftfreq (generic function with 1 method)"
       ]
      }
     ],
     "prompt_number": 12
    },
    {
     "cell_type": "code",
     "collapsed": false,
     "input": [
      "global const MOMY = fftfreq(NY, \u0394Y/2pi)\n",
      "global const MOMX = fftfreq(NX, \u0394X/2pi)';"
     ],
     "language": "python",
     "metadata": {},
     "outputs": [],
     "prompt_number": 13
    },
    {
     "cell_type": "code",
     "collapsed": false,
     "input": [
      "setkin(kx, ky) = kx .^ 2 .+ ky .^ 2\n",
      "global const kinetic = setkin(MOMX, MOMY);"
     ],
     "language": "python",
     "metadata": {},
     "outputs": [],
     "prompt_number": 14
    },
    {
     "cell_type": "code",
     "collapsed": false,
     "input": [
      "#pcolor(MOMX, MOMY, kinetic)\n",
      "#xlim(MOMX[1], MOMX[end])\n",
      "#ylim(MOMY[1], MOMY[end])\n",
      "#colorbar()"
     ],
     "language": "python",
     "metadata": {},
     "outputs": [],
     "prompt_number": 15
    },
    {
     "cell_type": "markdown",
     "metadata": {},
     "source": [
      "$\\partial_t \\psi_X = -i\\psi_C - \\kappa_X \\psi_X - i\\vert\\psi_X\\vert^2 \\psi_X$\n",
      "\n",
      "$\\partial_t \\psi_C = -i F(x,y)\\exp{[i(k^p_x x+k^p_y y - \\omega_p t)]} -i\\psi_X -i [\\delta - \\Delta -i\\kappa_C]\\psi_C$\n"
     ]
    },
    {
     "cell_type": "code",
     "collapsed": false,
     "input": [
      "# define RHSs of differential equations\n",
      "#params: \u03c9p, \u03b4, \u03bac, \u03bax, potc, pmpspc, kin\n",
      "function rhs(t::Float64, \u03c8::Wavefunction{Complex{Float64}}, \u03c9p, \u03b4, \u03bac, \u03bax, potc, pmpspc, kin)\n",
      "    #generate the energy dependence of the pump\n",
      "    pump = pmpspc*exp(-im*\u03c9p*t)\n",
      "\n",
      "    #right hand side of the equation of motion\n",
      "    #photon part \n",
      "    d\u03c8c = -im*pump - im*\u03c8.x - (im*\u03b4 + \u03bac)*\u03c8.c\n",
      "    #add a potential to the photon part\n",
      "    d\u03c8c += im*potc .* \u03c8.c\n",
      "    #adding the kinetic energy by means of the FFT\n",
      "    d\u03c8c -= im*ifft(kin .* fft(\u03c8.c))\n",
      "    #exciton part\n",
      "    d\u03c8x = -im*\u03c8.c -\u03bax*\u03c8.x - im*abs2(\u03c8.x) .* \u03c8.x/(\u0394X*\u0394Y) \n",
      "    return Wavefunction{Complex{Float64}}(d\u03c8c, d\u03c8x)\n",
      "end"
     ],
     "language": "python",
     "metadata": {},
     "outputs": [
      {
       "metadata": {},
       "output_type": "pyout",
       "prompt_number": 16,
       "text": [
        "rhs (generic function with 1 method)"
       ]
      }
     ],
     "prompt_number": 16
    },
    {
     "cell_type": "code",
     "collapsed": false,
     "input": [
      "# inital conditons\n",
      "\u03c80 = Wavefunction{Complex{Float64}}(zeros(NY, NX), zeros(NY, NX));"
     ],
     "language": "python",
     "metadata": {},
     "outputs": [],
     "prompt_number": 17
    },
    {
     "cell_type": "code",
     "collapsed": false,
     "input": [
      "function oderkf(F, x0, tspan, p, a, bs, bp; reltol = 1.0e-5, abstol = 1.0e-8)\n",
      "    # see p.91 in the Ascher & Petzold reference for more infomation.\n",
      "    pow = 1/p   # use the higher order to estimate the next step size\n",
      "\n",
      "    c = sum(a, 2)   # consistency condition\n",
      "\n",
      "    # Initialization\n",
      "    t = tspan[1]\n",
      "    \u0394sav = DXSAV_RK\n",
      "    tsav = t - 2\u0394sav\n",
      "    tfinal = tspan[end]\n",
      "    tdir = sign(tfinal - t)\n",
      "    hmax = abs(tfinal - t)/2.5\n",
      "    hmin = abs(tfinal - t)/1e9\n",
      "    h = tdir*abs(tfinal - t)/1e9  # initial guess at a step size\n",
      "    println(\"hinit = $h\")\n",
      "    x = x0\n",
      "    tout = t            # first output time\n",
      "    xout = Array(typeof(x0), 1)\n",
      "    xout[1] = x         # first output solution\n",
      "\n",
      "    k = Array(typeof(x0), length(c))\n",
      "    k[1] = F(t,x) # first stage\n",
      "\n",
      "    while abs(t) != abs(tfinal) && abs(h) >= hmin\n",
      "        if abs(h) > abs(tfinal-t)\n",
      "            h = tfinal - t\n",
      "        end\n",
      "\n",
      "        #(p-1)th and pth order estimates\n",
      "        xs = x + h*bs[1]*k[1]\n",
      "        xp = x + h*bp[1]*k[1]\n",
      "        for j = 2:length(c)\n",
      "            dx = a[j,1]*k[1]\n",
      "            for i = 2:j-1\n",
      "                dx += a[j,i]*k[i]\n",
      "            end\n",
      "            k[j] = F(t + h*c[j], x + h*dx)\n",
      "\n",
      "            # compute the (p-1)th order estimate\n",
      "            xs = xs + h*bs[j]*k[j]\n",
      "            # compute the pth order estimate\n",
      "            xp = xp + h*bp[j]*k[j]\n",
      "        end\n",
      "\n",
      "        # estimate the local truncation error\n",
      "        gamma1 = xs - xp\n",
      "\n",
      "        # Estimate the error and the acceptable error\n",
      "        delta = norm(gamma1, Inf)              # actual error\n",
      "        tau   = max(reltol*norm(x,Inf),abstol) # allowable error\n",
      "        @show delta/tau\n",
      "\n",
      "        # Update the solution only if the error is acceptable\n",
      "        if delta <= tau\n",
      "            t = t + h\n",
      "            x = xp    # <-- using the higher order estimate is called 'local extrapolation'\n",
      "            \n",
      "            if abs(t-tsav) > \u0394sav\n",
      "                println(\"$t, $h\")\n",
      "                tout = [tout; t]\n",
      "                push!(xout, x)\n",
      "                tsav=t\n",
      "            end\n",
      "\n",
      "            # Compute the slopes by computing the k[:,j+1]'th column based on the previous k[:,1:j] columns\n",
      "            # notes: k needs to end up as an Nxs, a is 7x6, which is s by (s-1),\n",
      "            #        s is the number of intermediate RK stages on [t (t+h)] (Dormand-Prince has s=7 stages)\n",
      "            if c[end] == 1\n",
      "                # Assign the last stage for x(k) as the first stage for computing x[k+1].\n",
      "                # This is part of the Dormand-Prince pair caveat.\n",
      "                # k[:,7] has already been computed, so use it instead of recomputing it\n",
      "                # again as k[:,1] during the next step.\n",
      "                k[1] = k[end]\n",
      "            else\n",
      "                k[1] = F(t,x) # first stage\n",
      "            end\n",
      "        end\n",
      "\n",
      "        # Update the step size\n",
      "        h = min(hmax, 0.8*h*(tau/delta)^pow)\n",
      "        \n",
      "    end # while (t < tfinal) & (h >= hmin)\n",
      "\n",
      "    if abs(t) < abs(tfinal)\n",
      "      println(\"Step size grew too small. t=\", t, \", h=\", abs(h))\n",
      "    end\n",
      "    \n",
      "    #add final step\n",
      "    tout = [tout; t]\n",
      "    push!(xout, x)    \n",
      "\n",
      "    return tout, xout\n",
      "end"
     ],
     "language": "python",
     "metadata": {},
     "outputs": [
      {
       "metadata": {},
       "output_type": "pyout",
       "prompt_number": 18,
       "text": [
        "oderkf (generic function with 1 method)"
       ]
      }
     ],
     "prompt_number": 18
    },
    {
     "cell_type": "code",
     "collapsed": false,
     "input": [
      "# solve ODEs\n",
      "\u03c4, \u03c8out = oderkf((t, psi)->rhs(t, psi, OMEGA_P, DELTA, KAPPA_C, KAPPA_X, potcav, pumpspc, kinetic), \u03c80, [0., TOT_H],\n",
      "dp_coefficients...; reltol = 1.0e-5, abstol = 1.0e-8);"
     ],
     "language": "python",
     "metadata": {},
     "outputs": [
      {
       "output_type": "stream",
       "stream": "stdout",
       "text": [
        "hinit = 6.0e-7"
       ]
      },
      {
       "output_type": "stream",
       "stream": "stdout",
       "text": [
        "\n",
        "delta / tau => "
       ]
      },
      {
       "output_type": "stream",
       "stream": "stdout",
       "text": [
        "7.35420344333493e-14\n",
        "6.0e-7, 6.0e-7\n",
        "delta / tau => 1.563754538356089e-7\n",
        "delta / tau => "
       ]
      },
      {
       "output_type": "stream",
       "stream": "stdout",
       "text": [
        "0.2010953026418477\n",
        "delta / tau => 0.016951305773028974\n",
        "delta / tau => "
       ]
      },
      {
       "output_type": "stream",
       "stream": "stdout",
       "text": [
        "0.16018142300260182\n",
        "delta / tau => 0.16472423161949662\n",
        "delta / tau => "
       ]
      },
      {
       "output_type": "stream",
       "stream": "stdout",
       "text": [
        "0.19922854860525477\n",
        "delta / tau => 0.24000542945700098\n",
        "delta / tau => "
       ]
      },
      {
       "output_type": "stream",
       "stream": "stdout",
       "text": [
        "0.26277644155815005\n",
        "delta / tau => 0.25963176130724724\n",
        "delta / tau => "
       ]
      },
      {
       "output_type": "stream",
       "stream": "stdout",
       "text": [
        "0.25366191406549043\n",
        "delta / tau => 0.28480674126123706\n",
        "delta / tau => "
       ]
      },
      {
       "output_type": "stream",
       "stream": "stdout",
       "text": [
        "0.2901117396179314\n",
        "delta / tau => 0.27698836378042624\n",
        "delta / tau => "
       ]
      },
      {
       "output_type": "stream",
       "stream": "stdout",
       "text": [
        "0.2946211401629634\n",
        "delta / tau => 0.2990184485166224\n",
        "delta / tau => "
       ]
      },
      {
       "output_type": "stream",
       "stream": "stdout",
       "text": [
        "0.2864157912507336\n",
        "delta / tau => 0.3079131513962613\n",
        "delta / tau => "
       ]
      },
      {
       "output_type": "stream",
       "stream": "stdout",
       "text": [
        "0.3026370909999902\n",
        "delta / tau => 0.2922205161757365\n",
        "delta / tau => "
       ]
      },
      {
       "output_type": "stream",
       "stream": "stdout",
       "text": [
        "0.3139785595061535\n",
        "delta / tau => 0.30236769810482417\n",
        "delta / tau => "
       ]
      },
      {
       "output_type": "stream",
       "stream": "stdout",
       "text": [
        "0.3029242697090372\n",
        "delta / tau => 0.31267344850441636\n",
        "delta / tau => "
       ]
      },
      {
       "output_type": "stream",
       "stream": "stdout",
       "text": [
        "0.3069235854604333\n",
        "delta / tau => 0.31382891832102766\n",
        "delta / tau => "
       ]
      },
      {
       "output_type": "stream",
       "stream": "stdout",
       "text": [
        "0.3073882687899887\n",
        "delta / tau => 0.3174744355141645\n",
        "delta / tau => "
       ]
      },
      {
       "output_type": "stream",
       "stream": "stdout",
       "text": [
        "0.311188243926073\n",
        "delta / tau => 0.31035243905187354\n",
        "delta / tau => "
       ]
      },
      {
       "output_type": "stream",
       "stream": "stdout",
       "text": [
        "0.3194375139511692\n",
        "delta / tau => 0.30833068924061663\n",
        "delta / tau => "
       ]
      },
      {
       "output_type": "stream",
       "stream": "stdout",
       "text": [
        "0.31836723356852936\n",
        "delta / tau => 0.3166994964137834\n",
        "delta / tau => "
       ]
      },
      {
       "output_type": "stream",
       "stream": "stdout",
       "text": [
        "0.3183245397618932\n",
        "delta / tau => 0.3154719583932072\n",
        "delta / tau => "
       ]
      },
      {
       "output_type": "stream",
       "stream": "stdout",
       "text": [
        "0.32243073782249876\n",
        "delta / tau => 0.315353880628078\n",
        "delta / tau => "
       ]
      },
      {
       "output_type": "stream",
       "stream": "stdout",
       "text": [
        "0.3188997660110497\n",
        "delta / tau => 0.32129394479878237\n",
        "delta / tau => "
       ]
      },
      {
       "output_type": "stream",
       "stream": "stdout",
       "text": [
        "0.3147531753307535\n",
        "delta / tau => 0.32362660669723947\n",
        "delta / tau => "
       ]
      },
      {
       "output_type": "stream",
       "stream": "stdout",
       "text": [
        "0.32157703389241526\n",
        "delta / tau => 0.319492083162502\n",
        "delta / tau => "
       ]
      },
      {
       "output_type": "stream",
       "stream": "stdout",
       "text": [
        "0.3237521062438919\n",
        "delta / tau => 0.3227559197616205\n",
        "delta / tau => "
       ]
      },
      {
       "output_type": "stream",
       "stream": "stdout",
       "text": [
        "0.31906226467439835\n",
        "delta / tau => 0.3270601316883251\n",
        "delta / tau => "
       ]
      },
      {
       "output_type": "stream",
       "stream": "stdout",
       "text": [
        "0.31874360920252837\n",
        "delta / tau => 0.3251576737824368\n",
        "delta / tau => "
       ]
      },
      {
       "output_type": "stream",
       "stream": "stdout",
       "text": [
        "0.32570449357130543\n",
        "delta / tau => 0.32059993673886156\n",
        "delta / tau => "
       ]
      },
      {
       "output_type": "stream",
       "stream": "stdout",
       "text": [
        "0.3272100376669905\n",
        "delta / tau => 0.3257501508862905\n",
        "delta / tau => "
       ]
      },
      {
       "output_type": "stream",
       "stream": "stdout",
       "text": [
        "0.3221302947560826\n",
        "delta / tau => 0.330000973110131\n",
        "delta / tau => "
       ]
      },
      {
       "output_type": "stream",
       "stream": "stdout",
       "text": [
        "0.32236808769173136\n",
        "delta / tau => 0.32700021703099735\n",
        "delta / tau => "
       ]
      },
      {
       "output_type": "stream",
       "stream": "stdout",
       "text": [
        "0.32921244790991167\n",
        "delta / tau => 0.3214109614659497\n",
        "delta / tau => "
       ]
      },
      {
       "output_type": "stream",
       "stream": "stdout",
       "text": [
        "0.3312895625632455\n",
        "delta / tau => 0.3270698959178268\n",
        "delta / tau => "
       ]
      },
      {
       "output_type": "stream",
       "stream": "stdout",
       "text": [
        "0.3252568025823682\n",
        "delta / tau => 0.3322932884746608\n",
        "delta / tau => "
       ]
      },
      {
       "output_type": "stream",
       "stream": "stdout",
       "text": [
        "0.32478139697145647\n",
        "delta / tau => 0.3294210708560425\n",
        "delta / tau => "
       ]
      },
      {
       "output_type": "stream",
       "stream": "stdout",
       "text": [
        "0.3325539730801087\n",
        "delta / tau => 0.32262958671530595\n",
        "delta / tau => "
       ]
      },
      {
       "output_type": "stream",
       "stream": "stdout",
       "text": [
        "0.3355334006681061\n",
        "delta / tau => 0.3279542021086024\n",
        "delta / tau => "
       ]
      },
      {
       "output_type": "stream",
       "stream": "stdout",
       "text": [
        "0.3269771345649642\n",
        "delta / tau => 0.33533666666360995\n",
        "delta / tau => "
       ]
      },
      {
       "output_type": "stream",
       "stream": "stdout",
       "text": [
        "0.3262970769903324\n",
        "delta / tau => 0.33143787905052785\n",
        "delta / tau => "
       ]
      },
      {
       "output_type": "stream",
       "stream": "stdout",
       "text": [
        "0.33586181648316615\n",
        "delta / tau => 0.32388004461244985\n",
        "delta / tau => "
       ]
      },
      {
       "output_type": "stream",
       "stream": "stdout",
       "text": [
        "0.33797228808168545\n",
        "delta / tau => 0.3310569039545949\n",
        "delta / tau => "
       ]
      },
      {
       "output_type": "stream",
       "stream": "stdout",
       "text": [
        "0.32703224392140884\n",
        "delta / tau => 0.33938483197692254\n",
        "delta / tau => "
       ]
      },
      {
       "output_type": "stream",
       "stream": "stdout",
       "text": [
        "0.31853971628728045\n",
        "delta / tau => 0.32151254629169734\n",
        "delta / tau => "
       ]
      },
      {
       "output_type": "stream",
       "stream": "stdout",
       "text": [
        "0.3302829023733517\n",
        "delta / tau => 0.31583307232778335\n",
        "delta / tau => "
       ]
      },
      {
       "output_type": "stream",
       "stream": "stdout",
       "text": [
        "0.327671666105818\n",
        "delta / tau => 0.3262910998663805\n",
        "delta / tau => "
       ]
      },
      {
       "output_type": "stream",
       "stream": "stdout",
       "text": [
        "0.3159467701266012\n",
        "delta / tau => 0.3328593188534242\n",
        "delta / tau => "
       ]
      },
      {
       "output_type": "stream",
       "stream": "stdout",
       "text": [
        "0.3217336279846425\n",
        "delta / tau => 0.3204575143080995\n",
        "delta / tau => "
       ]
      },
      {
       "output_type": "stream",
       "stream": "stdout",
       "text": [
        "0.3334591017088158\n",
        "delta / tau => 0.31735165297601325\n",
        "delta / tau => "
       ]
      },
      {
       "output_type": "stream",
       "stream": "stdout",
       "text": [
        "0.3283384625949245\n",
        "delta / tau => 0.3287424029674514\n",
        "delta / tau => "
       ]
      },
      {
       "output_type": "stream",
       "stream": "stdout",
       "text": [
        "0.3172827762920496\n",
        "delta / tau => 0.3345700508688755\n",
        "delta / tau => "
       ]
      },
      {
       "output_type": "stream",
       "stream": "stdout",
       "text": [
        "0.32235796477744605\n",
        "delta / tau => 0.32366354711921586\n",
        "delta / tau => "
       ]
      },
      {
       "output_type": "stream",
       "stream": "stdout",
       "text": [
        "0.3330630080051816\n",
        "delta / tau => 0.3185423557967218\n",
        "delta / tau => "
       ]
      },
      {
       "output_type": "stream",
       "stream": "stdout",
       "text": [
        "0.33087266613418026\n",
        "delta / tau => 0.3287524133153704\n",
        "delta / tau => "
       ]
      },
      {
       "output_type": "stream",
       "stream": "stdout",
       "text": [
        "0.32057243540678115\n",
        "delta / tau => 0.3348821899649217\n",
        "delta / tau => "
       ]
      },
      {
       "output_type": "stream",
       "stream": "stdout",
       "text": [
        "0.32196746841092\n",
        "delta / tau => 0.32782380832667907\n",
        "delta / tau => "
       ]
      },
      {
       "output_type": "stream",
       "stream": "stdout",
       "text": [
        "0.3312140805615269\n",
        "delta / tau => 0.32049193138701126\n",
        "delta / tau => "
       ]
      },
      {
       "output_type": "stream",
       "stream": "stdout",
       "text": [
        "0.3328972001867314\n",
        "delta / tau => 0.3277872449924088\n",
        "delta / tau => "
       ]
      },
      {
       "output_type": "stream",
       "stream": "stdout",
       "text": [
        "0.3242931456820662\n",
        "delta / tau => 0.33400767305638124\n",
        "delta / tau => "
       ]
      },
      {
       "output_type": "stream",
       "stream": "stdout",
       "text": [
        "0.32303944952504804\n",
        "delta / tau => 0.3294629594360257\n",
        "delta / tau => "
       ]
      },
      {
       "output_type": "stream",
       "stream": "stdout",
       "text": [
        "0.3297313265489643\n",
        "delta / tau => 0.32305615045879454\n",
        "delta / tau => "
       ]
      },
      {
       "output_type": "stream",
       "stream": "stdout",
       "text": [
        "0.33351769486553395\n",
        "delta / tau => 0.32688664987013344\n",
        "delta / tau => "
       ]
      },
      {
       "output_type": "stream",
       "stream": "stdout",
       "text": [
        "0.3272107236412535\n",
        "delta / tau => 0.3322900279030778\n",
        "delta / tau => "
       ]
      },
      {
       "output_type": "stream",
       "stream": "stdout",
       "text": [
        "0.3245919228151582\n",
        "delta / tau => 0.32954670222079724\n",
        "delta / tau => "
       ]
      },
      {
       "output_type": "stream",
       "stream": "stdout",
       "text": [
        "0.32906453558092125\n",
        "delta / tau => 0.3249604881315836\n",
        "delta / tau => "
       ]
      },
      {
       "output_type": "stream",
       "stream": "stdout",
       "text": [
        "0.33298797693232773\n",
        "delta / tau => 0.3264235392709522\n",
        "delta / tau => "
       ]
      },
      {
       "output_type": "stream",
       "stream": "stdout",
       "text": [
        "0.3288925686900337\n",
        "delta / tau => 0.3301887857569068\n",
        "delta / tau => "
       ]
      },
      {
       "output_type": "stream",
       "stream": "stdout",
       "text": [
        "0.32624541607352814\n",
        "delta / tau => 0.32871316456959626\n",
        "delta / tau => "
       ]
      },
      {
       "output_type": "stream",
       "stream": "stdout",
       "text": [
        "0.32869069755035146\n",
        "delta / tau => 0.3256877708708808\n",
        "delta / tau => "
       ]
      },
      {
       "output_type": "stream",
       "stream": "stdout",
       "text": [
        "0.33209689376436247\n",
        "delta / tau => 0.3255696066774797\n",
        "delta / tau => "
       ]
      },
      {
       "output_type": "stream",
       "stream": "stdout",
       "text": [
        "0.3297853482534829\n",
        "delta / tau => 0.3280743582280442\n",
        "delta / tau => "
       ]
      },
      {
       "output_type": "stream",
       "stream": "stdout",
       "text": [
        "0.32717789666924246\n",
        "delta / tau => 0.3276391900674477\n",
        "delta / tau => "
       ]
      },
      {
       "output_type": "stream",
       "stream": "stdout",
       "text": [
        "0.32823478128074857\n",
        "delta / tau => 0.32562540026591663\n",
        "delta / tau => "
       ]
      },
      {
       "output_type": "stream",
       "stream": "stdout",
       "text": [
        "0.3310537443671391\n",
        "delta / tau => 0.32446090968611685\n",
        "delta / tau => "
       ]
      },
      {
       "output_type": "stream",
       "stream": "stdout",
       "text": [
        "0.3303619954165029\n",
        "delta / tau => 0.3253113481642883\n",
        "delta / tau => "
       ]
      },
      {
       "output_type": "stream",
       "stream": "stdout",
       "text": [
        "0.32779065206479596\n",
        "delta / tau => 0.3260802768631896\n",
        "delta / tau => "
       ]
      },
      {
       "output_type": "stream",
       "stream": "stdout",
       "text": [
        "0.3276441585444686\n",
        "delta / tau => 0.325550942027893\n",
        "delta / tau => "
       ]
      },
      {
       "output_type": "stream",
       "stream": "stdout",
       "text": [
        "0.32973798110077185\n",
        "delta / tau => 0.3238529775035281\n",
        "delta / tau => "
       ]
      },
      {
       "output_type": "stream",
       "stream": "stdout",
       "text": [
        "0.32966381519296445\n",
        "delta / tau => 0.32362848115273357\n",
        "delta / tau => "
       ]
      },
      {
       "output_type": "stream",
       "stream": "stdout",
       "text": [
        "0.3272999478719009\n",
        "delta / tau => 0.3252184628208412\n",
        "delta / tau => "
       ]
      },
      {
       "output_type": "stream",
       "stream": "stdout",
       "text": [
        "0.32659728447417946\n",
        "delta / tau => 0.3258745802666131\n",
        "delta / tau => "
       ]
      },
      {
       "output_type": "stream",
       "stream": "stdout",
       "text": [
        "0.3274138992248332\n",
        "delta / tau => 0.3246773718018176\n",
        "delta / tau => "
       ]
      },
      {
       "output_type": "stream",
       "stream": "stdout",
       "text": [
        "0.3273325617556648\n",
        "delta / tau => 0.3240161218137575\n",
        "delta / tau => "
       ]
      },
      {
       "output_type": "stream",
       "stream": "stdout",
       "text": [
        "0.32596717542973436\n",
        "delta / tau => 0.32572186919125695\n",
        "delta / tau => "
       ]
      },
      {
       "output_type": "stream",
       "stream": "stdout",
       "text": [
        "0.32443520182251007\n",
        "delta / tau => 0.3277002547237544\n",
        "delta / tau => "
       ]
      },
      {
       "output_type": "stream",
       "stream": "stdout",
       "text": [
        "0.32409122258621414\n",
        "delta / tau => 0.32719443141678695\n",
        "delta / tau => "
       ]
      },
      {
       "output_type": "stream",
       "stream": "stdout",
       "text": [
        "0.3240732030903563\n",
        "delta / tau => 0.3264953897353319\n",
        "delta / tau => "
       ]
      },
      {
       "output_type": "stream",
       "stream": "stdout",
       "text": [
        "0.3235624986864802\n",
        "delta / tau => 0.32808500006639474\n",
        "delta / tau => "
       ]
      },
      {
       "output_type": "stream",
       "stream": "stdout",
       "text": [
        "0.3217112433400255\n",
        "delta / tau => 0.33093547829097436\n",
        "delta / tau => "
       ]
      },
      {
       "output_type": "stream",
       "stream": "stdout",
       "text": [
        "0.3196053932996721\n",
        "delta / tau => 0.33212470152347245\n",
        "delta / tau => "
       ]
      },
      {
       "output_type": "stream",
       "stream": "stdout",
       "text": [
        "0.3189196310905753\n",
        "delta / tau => 0.3315197620363474\n",
        "delta / tau => "
       ]
      },
      {
       "output_type": "stream",
       "stream": "stdout",
       "text": [
        "0.3195718275942895\n",
        "delta / tau => 0.33247897344613475\n",
        "delta / tau => "
       ]
      },
      {
       "output_type": "stream",
       "stream": "stdout",
       "text": [
        "0.3189163773059364\n",
        "delta / tau => 0.33465572459779724\n",
        "delta / tau => "
       ]
      },
      {
       "output_type": "stream",
       "stream": "stdout",
       "text": [
        "0.3170137965382811\n",
        "delta / tau => 0.33625092769234727\n",
        "delta / tau => "
       ]
      },
      {
       "output_type": "stream",
       "stream": "stdout",
       "text": [
        "0.31543056962930993\n",
        "delta / tau => 0.3355135606044064\n",
        "delta / tau => "
       ]
      },
      {
       "output_type": "stream",
       "stream": "stdout",
       "text": [
        "0.3172235012180806\n",
        "delta / tau => 0.3342131166231538\n",
        "delta / tau => "
       ]
      },
      {
       "output_type": "stream",
       "stream": "stdout",
       "text": [
        "0.3199531977473268\n",
        "delta / tau => 0.3336250817917303\n",
        "delta / tau => "
       ]
      },
      {
       "output_type": "stream",
       "stream": "stdout",
       "text": [
        "0.32040313291216443\n",
        "delta / tau => 0.33314260542253527\n",
        "delta / tau => "
       ]
      },
      {
       "output_type": "stream",
       "stream": "stdout",
       "text": [
        "0.3184894526925851\n",
        "delta / tau => 0.3332170504346495\n",
        "delta / tau => "
       ]
      },
      {
       "output_type": "stream",
       "stream": "stdout",
       "text": [
        "0.3184886383768815\n",
        "delta / tau => 0.3328821549026468\n",
        "delta / tau => "
       ]
      },
      {
       "output_type": "stream",
       "stream": "stdout",
       "text": [
        "0.32162809162007533\n",
        "delta / tau => 0.3304035335480419\n",
        "delta / tau => "
       ]
      },
      {
       "output_type": "stream",
       "stream": "stdout",
       "text": [
        "0.3251580234329005\n",
        "delta / tau => 0.3283609104011085\n",
        "delta / tau => "
       ]
      },
      {
       "output_type": "stream",
       "stream": "stdout",
       "text": [
        "0.32570215048265483\n",
        "delta / tau => 0.3294222111148131\n",
        "delta / tau => "
       ]
      },
      {
       "output_type": "stream",
       "stream": "stdout",
       "text": [
        "0.32418079556316326\n",
        "delta / tau => 0.3315110836152919\n",
        "delta / tau => "
       ]
      },
      {
       "output_type": "stream",
       "stream": "stdout",
       "text": [
        "0.32468647122821626\n",
        "delta / tau => 0.32989349924968703\n",
        "delta / tau => "
       ]
      },
      {
       "output_type": "stream",
       "stream": "stdout",
       "text": [
        "0.3271675277937466\n",
        "delta / tau => 0.32720926314230336\n",
        "delta / tau => "
       ]
      },
      {
       "output_type": "stream",
       "stream": "stdout",
       "text": [
        "0.329551736018022\n",
        "delta / tau => 0.3265241430033911\n",
        "delta / tau => "
       ]
      },
      {
       "output_type": "stream",
       "stream": "stdout",
       "text": [
        "0.32927103994590584\n",
        "delta / tau => 0.32790669422188\n",
        "delta / tau => "
       ]
      },
      {
       "output_type": "stream",
       "stream": "stdout",
       "text": [
        "0.32708682896655905\n",
        "delta / tau => 0.33037879991615865\n",
        "delta / tau => "
       ]
      },
      {
       "output_type": "stream",
       "stream": "stdout",
       "text": [
        "0.32498926887364565\n",
        "delta / tau => 0.33042543573701305\n",
        "delta / tau => "
       ]
      },
      {
       "output_type": "stream",
       "stream": "stdout",
       "text": [
        "0.32693540149003286\n",
        "delta / tau => 0.327077558635598\n",
        "delta / tau => "
       ]
      },
      {
       "output_type": "stream",
       "stream": "stdout",
       "text": [
        "0.33095742312863097\n",
        "delta / tau => 0.32517303717731233\n",
        "delta / tau => "
       ]
      },
      {
       "output_type": "stream",
       "stream": "stdout",
       "text": [
        "0.3316559240421649\n",
        "delta / tau => 0.3273440149628109\n",
        "delta / tau => "
       ]
      },
      {
       "output_type": "stream",
       "stream": "stdout",
       "text": [
        "0.3287514146821749\n",
        "delta / tau => 0.3304687345862169\n",
        "delta / tau => "
       ]
      },
      {
       "output_type": "stream",
       "stream": "stdout",
       "text": [
        "0.32672855941933415\n",
        "delta / tau => 0.3303882514436069\n",
        "delta / tau => "
       ]
      },
      {
       "output_type": "stream",
       "stream": "stdout",
       "text": [
        "0.3297768466954997\n",
        "delta / tau => 0.325782820536305\n",
        "delta / tau => "
       ]
      },
      {
       "output_type": "stream",
       "stream": "stdout",
       "text": [
        "0.33311779415867404\n",
        "delta / tau => 0.32385012766597426\n",
        "delta / tau => "
       ]
      },
      {
       "output_type": "stream",
       "stream": "stdout",
       "text": [
        "0.33206099223644076\n",
        "delta / tau => 0.3279193041619194\n",
        "delta / tau => "
       ]
      },
      {
       "output_type": "stream",
       "stream": "stdout",
       "text": [
        "0.32683369745841595\n",
        "delta / tau => 0.3323705169260449\n",
        "delta / tau => "
       ]
      },
      {
       "output_type": "stream",
       "stream": "stdout",
       "text": [
        "0.325468522005293\n",
        "delta / tau => 0.33104461903977495\n",
        "delta / tau => "
       ]
      },
      {
       "output_type": "stream",
       "stream": "stdout",
       "text": [
        "0.3291068123611142\n",
        "delta / tau => 0.3269131164003307\n",
        "delta / tau => "
       ]
      },
      {
       "output_type": "stream",
       "stream": "stdout",
       "text": [
        "0.33168914652572573\n",
        "delta / tau => 0.3271312595930701\n",
        "delta / tau => "
       ]
      },
      {
       "output_type": "stream",
       "stream": "stdout",
       "text": [
        "0.3283153745365526\n",
        "delta / tau => 0.3313688330131051\n",
        "delta / tau => "
       ]
      },
      {
       "output_type": "stream",
       "stream": "stdout",
       "text": [
        "0.3245722240490922\n",
        "delta / tau => 0.3327658753965111\n",
        "delta / tau => "
       ]
      },
      {
       "output_type": "stream",
       "stream": "stdout",
       "text": [
        "0.32652114786647074\n",
        "delta / tau => 0.3283613072496684\n",
        "delta / tau => "
       ]
      },
      {
       "output_type": "stream",
       "stream": "stdout",
       "text": [
        "0.3317104035853543\n",
        "delta / tau => 0.32458810963373746\n",
        "delta / tau => "
       ]
      },
      {
       "output_type": "stream",
       "stream": "stdout",
       "text": [
        "0.33225234439028234\n",
        "delta / tau => 0.32665756118850964\n",
        "delta / tau => "
       ]
      },
      {
       "output_type": "stream",
       "stream": "stdout",
       "text": [
        "0.32797747790936427\n",
        "delta / tau => 0.33013170149818366\n",
        "delta / tau => "
       ]
      },
      {
       "output_type": "stream",
       "stream": "stdout",
       "text": [
        "0.3256697333064194\n",
        "delta / tau => 0.3295462140954002\n",
        "delta / tau => "
       ]
      },
      {
       "output_type": "stream",
       "stream": "stdout",
       "text": [
        "0.32856495560532767\n",
        "delta / tau => 0.3259536373902385\n",
        "delta / tau => "
       ]
      },
      {
       "output_type": "stream",
       "stream": "stdout",
       "text": [
        "0.33098295822840446\n",
        "delta / tau => 0.3261390560078955\n",
        "delta / tau => "
       ]
      },
      {
       "output_type": "stream",
       "stream": "stdout",
       "text": [
        "0.328501297629286\n",
        "delta / tau => 0.3305248808962384\n",
        "delta / tau => "
       ]
      },
      {
       "output_type": "stream",
       "stream": "stdout",
       "text": [
        "0.3240791587192512\n",
        "delta / tau => 0.3330107214482892\n",
        "delta / tau => "
       ]
      },
      {
       "output_type": "stream",
       "stream": "stdout",
       "text": [
        "0.3240127540054558\n",
        "delta / tau => 0.3298000286593695\n",
        "delta / tau => "
       ]
      },
      {
       "output_type": "stream",
       "stream": "stdout",
       "text": [
        "0.3274721635909266\n",
        "delta / tau => 0.32591482730588767\n",
        "delta / tau => "
       ]
      },
      {
       "output_type": "stream",
       "stream": "stdout",
       "text": [
        "0.3286549871616135\n",
        "delta / tau => 0.3269569563935339\n",
        "delta / tau => "
       ]
      },
      {
       "output_type": "stream",
       "stream": "stdout",
       "text": [
        "0.3272303464619186\n",
        "delta / tau => 0.33022231749193004\n",
        "delta / tau => "
       ]
      },
      {
       "output_type": "stream",
       "stream": "stdout",
       "text": [
        "0.3254596080897603\n",
        "delta / tau => 0.3289115157667216\n",
        "delta / tau => "
       ]
      },
      {
       "output_type": "stream",
       "stream": "stdout",
       "text": [
        "0.3275029939808667\n",
        "delta / tau => 0.32510880311050033\n",
        "delta / tau => "
       ]
      },
      {
       "output_type": "stream",
       "stream": "stdout",
       "text": [
        "0.329949179004124\n",
        "delta / tau => 0.324869698764434\n",
        "delta / tau => "
       ]
      },
      {
       "output_type": "stream",
       "stream": "stdout",
       "text": [
        "0.32892421118251286\n",
        "delta / tau => 0.326944037400094\n",
        "delta / tau => "
       ]
      },
      {
       "output_type": "stream",
       "stream": "stdout",
       "text": [
        "0.3266584416339696\n",
        "delta / tau => 0.32749230343866587\n",
        "delta / tau => "
       ]
      },
      {
       "output_type": "stream",
       "stream": "stdout",
       "text": [
        "0.3276928147948209\n",
        "delta / tau => 0.3250081055048741\n",
        "delta / tau => "
       ]
      },
      {
       "output_type": "stream",
       "stream": "stdout",
       "text": [
        "0.33177403227944363\n",
        "delta / tau => 0.323084259302247\n",
        "delta / tau => "
       ]
      },
      {
       "output_type": "stream",
       "stream": "stdout",
       "text": [
        "0.33206936284614724\n",
        "delta / tau => 0.3234623340412542\n",
        "delta / tau => "
       ]
      },
      {
       "output_type": "stream",
       "stream": "stdout",
       "text": [
        "0.3295568092133679\n",
        "delta / tau => 0.3250043896361331\n",
        "delta / tau => "
       ]
      },
      {
       "output_type": "stream",
       "stream": "stdout",
       "text": [
        "0.3277125105580758\n",
        "delta / tau => 0.32640618229434093\n",
        "delta / tau => "
       ]
      },
      {
       "output_type": "stream",
       "stream": "stdout",
       "text": [
        "0.328205536688764\n",
        "delta / tau => 0.32729859059891153\n",
        "delta / tau => "
       ]
      },
      {
       "output_type": "stream",
       "stream": "stdout",
       "text": [
        "0.3280989339634763\n",
        "delta / tau => 0.32780142885934677\n",
        "delta / tau => "
       ]
      },
      {
       "output_type": "stream",
       "stream": "stdout",
       "text": [
        "0.32582540605800975\n",
        "delta / tau => 0.32927274724928635\n",
        "delta / tau => "
       ]
      },
      {
       "output_type": "stream",
       "stream": "stdout",
       "text": [
        "0.3244135533409525\n",
        "delta / tau => 0.33071964408004956\n",
        "delta / tau => "
       ]
      },
      {
       "output_type": "stream",
       "stream": "stdout",
       "text": [
        "0.32299414901982887\n",
        "delta / tau => 0.3327244935291273\n",
        "delta / tau => "
       ]
      },
      {
       "output_type": "stream",
       "stream": "stdout",
       "text": [
        "0.32220839724733197\n",
        "delta / tau => 0.33273411878336406\n",
        "delta / tau => "
       ]
      },
      {
       "output_type": "stream",
       "stream": "stdout",
       "text": [
        "0.321974822913125\n",
        "delta / tau => 0.33308926057277805\n",
        "delta / tau => "
       ]
      },
      {
       "output_type": "stream",
       "stream": "stdout",
       "text": [
        "0.32220706654418496\n",
        "delta / tau => 0.3347882238159831\n",
        "delta / tau => "
       ]
      },
      {
       "output_type": "stream",
       "stream": "stdout",
       "text": [
        "0.3209852450856239\n",
        "delta / tau => 0.33517494301197925\n",
        "delta / tau => "
       ]
      },
      {
       "output_type": "stream",
       "stream": "stdout",
       "text": [
        "0.3204554718516885\n",
        "delta / tau => 0.3333697483908563\n",
        "delta / tau => "
       ]
      },
      {
       "output_type": "stream",
       "stream": "stdout",
       "text": [
        "0.3230835794892666\n",
        "delta / tau => 0.33070006209864017\n",
        "delta / tau => "
       ]
      },
      {
       "output_type": "stream",
       "stream": "stdout",
       "text": [
        "0.32694893490926524\n",
        "delta / tau => 0.32918538359783744\n",
        "delta / tau => "
       ]
      },
      {
       "output_type": "stream",
       "stream": "stdout",
       "text": [
        "0.32820335775978726\n",
        "delta / tau => 0.3278431589834267\n",
        "delta / tau => "
       ]
      },
      {
       "output_type": "stream",
       "stream": "stdout",
       "text": [
        "0.3286061324716152\n",
        "delta / tau => 0.3263132262947021\n",
        "delta / tau => "
       ]
      },
      {
       "output_type": "stream",
       "stream": "stdout",
       "text": [
        "0.3299971254945839\n",
        "delta / tau => 0.32453037841721644\n",
        "delta / tau => "
       ]
      },
      {
       "output_type": "stream",
       "stream": "stdout",
       "text": [
        "0.333895817496365\n",
        "delta / tau => 0.3212932823196986\n",
        "delta / tau => "
       ]
      },
      {
       "output_type": "stream",
       "stream": "stdout",
       "text": [
        "0.3366203569483311\n",
        "delta / tau => 0.319302662376682\n",
        "delta / tau => "
       ]
      },
      {
       "output_type": "stream",
       "stream": "stdout",
       "text": [
        "0.3374763606933774\n",
        "delta / tau => 0.3190104489539223\n",
        "delta / tau => "
       ]
      },
      {
       "output_type": "stream",
       "stream": "stdout",
       "text": [
        "0.3383953517864975\n",
        "delta / tau => 0.3189712006492979\n",
        "delta / tau => "
       ]
      },
      {
       "output_type": "stream",
       "stream": "stdout",
       "text": [
        "0.33914712349521925\n",
        "delta / tau => 0.3182293779159442\n",
        "delta / tau => "
       ]
      },
      {
       "output_type": "stream",
       "stream": "stdout",
       "text": [
        "0.33935741979614087\n",
        "delta / tau => 0.3175075181661022\n",
        "delta / tau => "
       ]
      },
      {
       "output_type": "stream",
       "stream": "stdout",
       "text": [
        "0.33884428874463607\n",
        "delta / tau => 0.31899701730450963\n",
        "delta / tau => "
       ]
      },
      {
       "output_type": "stream",
       "stream": "stdout",
       "text": [
        "0.33796977827336155\n",
        "delta / tau => 0.32138657194800274\n",
        "delta / tau => "
       ]
      },
      {
       "output_type": "stream",
       "stream": "stdout",
       "text": [
        "0.33673571495753346\n",
        "delta / tau => 0.32192510004824915\n",
        "delta / tau => "
       ]
      },
      {
       "output_type": "stream",
       "stream": "stdout",
       "text": [
        "0.3355315605835982\n",
        "delta / tau => 0.3216232746067694\n",
        "delta / tau => "
       ]
      },
      {
       "output_type": "stream",
       "stream": "stdout",
       "text": [
        "0.334532107068388\n",
        "delta / tau => 0.32289258046799907\n",
        "delta / tau => "
       ]
      },
      {
       "output_type": "stream",
       "stream": "stdout",
       "text": [
        "0.3331800668180313\n",
        "delta / tau => 0.32550418297375094\n",
        "delta / tau => "
       ]
      },
      {
       "output_type": "stream",
       "stream": "stdout",
       "text": [
        "0.3313640059511925\n",
        "delta / tau => 0.32710169642717113\n",
        "delta / tau => "
       ]
      },
      {
       "output_type": "stream",
       "stream": "stdout",
       "text": [
        "0.33013893203268163\n",
        "delta / tau => 0.3263567646322593\n",
        "delta / tau => "
       ]
      },
      {
       "output_type": "stream",
       "stream": "stdout",
       "text": [
        "0.33019044325555247\n",
        "delta / tau => 0.3258784064768711\n",
        "delta / tau => "
       ]
      },
      {
       "output_type": "stream",
       "stream": "stdout",
       "text": [
        "0.33020447770330386\n",
        "delta / tau => 0.32672131543306554\n",
        "delta / tau => "
       ]
      },
      {
       "output_type": "stream",
       "stream": "stdout",
       "text": [
        "0.32934733340233635\n",
        "delta / tau => 0.32827850469863534\n",
        "delta / tau => "
       ]
      },
      {
       "output_type": "stream",
       "stream": "stdout",
       "text": [
        "0.3278759178923479\n",
        "delta / tau => 0.32856825244511456\n",
        "delta / tau => "
       ]
      },
      {
       "output_type": "stream",
       "stream": "stdout",
       "text": [
        "0.3285016804142384\n",
        "delta / tau => 0.32705577904819927\n",
        "delta / tau => "
       ]
      },
      {
       "output_type": "stream",
       "stream": "stdout",
       "text": [
        "0.33004850325069157\n",
        "delta / tau => 0.3266135745769771\n",
        "delta / tau => "
       ]
      },
      {
       "output_type": "stream",
       "stream": "stdout",
       "text": [
        "0.3294625318472592\n",
        "delta / tau => 0.3284283398065768\n",
        "delta / tau => "
       ]
      },
      {
       "output_type": "stream",
       "stream": "stdout",
       "text": [
        "0.3277036387521452\n",
        "delta / tau => 0.3290959426451304\n",
        "delta / tau => "
       ]
      },
      {
       "output_type": "stream",
       "stream": "stdout",
       "text": [
        "0.3280794778296112\n",
        "delta / tau => 0.328093045772387\n",
        "delta / tau => "
       ]
      },
      {
       "output_type": "stream",
       "stream": "stdout",
       "text": [
        "0.32947331962675386\n",
        "delta / tau => 0.3270573982871939\n",
        "delta / tau => "
       ]
      },
      {
       "output_type": "stream",
       "stream": "stdout",
       "text": [
        "0.3289817546579238\n",
        "delta / tau => 0.32761834548922725\n",
        "delta / tau => "
       ]
      },
      {
       "output_type": "stream",
       "stream": "stdout",
       "text": [
        "0.327386984045736\n",
        "delta / tau => 0.32883055776852377\n",
        "delta / tau => "
       ]
      },
      {
       "output_type": "stream",
       "stream": "stdout",
       "text": [
        "0.32741156989369125\n",
        "delta / tau => 0.32831054038817326\n",
        "delta / tau => "
       ]
      },
      {
       "output_type": "stream",
       "stream": "stdout",
       "text": [
        "0.32916732459412135\n",
        "delta / tau => 0.3261071106237548\n",
        "delta / tau => "
       ]
      },
      {
       "output_type": "stream",
       "stream": "stdout",
       "text": [
        "0.32952744277430446\n",
        "delta / tau => 0.32656263541567765\n",
        "delta / tau => "
       ]
      },
      {
       "output_type": "stream",
       "stream": "stdout",
       "text": [
        "0.3270757594849382\n",
        "delta / tau => 0.32897865824482897\n",
        "delta / tau => "
       ]
      },
      {
       "output_type": "stream",
       "stream": "stdout",
       "text": [
        "0.3264157844887099\n",
        "delta / tau => 0.32835797400650135\n",
        "delta / tau => "
       ]
      },
      {
       "output_type": "stream",
       "stream": "stdout",
       "text": [
        "0.32787228022109294\n",
        "delta / tau => 0.3262297307672504\n",
        "delta / tau => "
       ]
      },
      {
       "output_type": "stream",
       "stream": "stdout",
       "text": [
        "0.32918093321620934\n",
        "delta / tau => 0.3273157980305627\n",
        "delta / tau => "
       ]
      },
      {
       "output_type": "stream",
       "stream": "stdout",
       "text": [
        "0.3270924680293595\n",
        "delta / tau => 0.3295497400219385\n",
        "delta / tau => "
       ]
      },
      {
       "output_type": "stream",
       "stream": "stdout",
       "text": [
        "0.32560543404226777\n",
        "delta / tau => 0.3293889875427584\n",
        "delta / tau => "
       ]
      },
      {
       "output_type": "stream",
       "stream": "stdout",
       "text": [
        "0.3274491453184744\n",
        "delta / tau => 0.32665412265372545\n",
        "delta / tau => "
       ]
      },
      {
       "output_type": "stream",
       "stream": "stdout",
       "text": [
        "0.32901606873539924\n",
        "delta / tau => 0.3260644726117237\n",
        "delta / tau => "
       ]
      },
      {
       "output_type": "stream",
       "stream": "stdout",
       "text": [
        "0.3277079590212238\n",
        "delta / tau => 0.32812726122172026\n",
        "delta / tau => "
       ]
      },
      {
       "output_type": "stream",
       "stream": "stdout",
       "text": [
        "0.3258728017138083\n",
        "delta / tau => 0.3290395106438478\n",
        "delta / tau => "
       ]
      },
      {
       "output_type": "stream",
       "stream": "stdout",
       "text": [
        "0.32641525145915745\n",
        "delta / tau => 0.3274217448475431\n",
        "delta / tau => "
       ]
      },
      {
       "output_type": "stream",
       "stream": "stdout",
       "text": [
        "0.3283034333263302\n",
        "delta / tau => 0.3266877387675357\n",
        "delta / tau => "
       ]
      },
      {
       "output_type": "stream",
       "stream": "stdout",
       "text": [
        "0.32778518954927843\n",
        "delta / tau => 0.3287678360163739\n",
        "delta / tau => "
       ]
      },
      {
       "output_type": "stream",
       "stream": "stdout",
       "text": [
        "0.32568402428291654\n",
        "delta / tau => 0.3304126170246992\n",
        "delta / tau => "
       ]
      },
      {
       "output_type": "stream",
       "stream": "stdout",
       "text": [
        "0.32565004901377753\n",
        "delta / tau => 0.32877595839238\n",
        "delta / tau => "
       ]
      },
      {
       "output_type": "stream",
       "stream": "stdout",
       "text": [
        "0.32730527881035343\n",
        "delta / tau => 0.32760967188110884\n",
        "delta / tau => "
       ]
      },
      {
       "output_type": "stream",
       "stream": "stdout",
       "text": [
        "0.3273394824002095\n",
        "delta / tau => 0.3285722097446425\n",
        "delta / tau => "
       ]
      },
      {
       "output_type": "stream",
       "stream": "stdout",
       "text": [
        "0.3258664914279794\n",
        "delta / tau => 0.32972485963370124\n",
        "delta / tau => "
       ]
      },
      {
       "output_type": "stream",
       "stream": "stdout",
       "text": [
        "0.3254474190441798\n",
        "delta / tau => 0.32859750896288825\n",
        "delta / tau => "
       ]
      },
      {
       "output_type": "stream",
       "stream": "stdout",
       "text": [
        "0.32771130331268683\n",
        "delta / tau => 0.32638124493074194\n",
        "delta / tau => "
       ]
      },
      {
       "output_type": "stream",
       "stream": "stdout",
       "text": [
        "0.3299385419442342\n",
        "delta / tau => 0.326087799489327\n",
        "delta / tau => "
       ]
      },
      {
       "output_type": "stream",
       "stream": "stdout",
       "text": [
        "0.3296207204987329\n",
        "delta / tau => 0.32686188848545594\n",
        "delta / tau => "
       ]
      },
      {
       "output_type": "stream",
       "stream": "stdout",
       "text": [
        "0.32921453075723117\n",
        "delta / tau => 0.3257667758671546\n",
        "delta / tau => "
       ]
      },
      {
       "output_type": "stream",
       "stream": "stdout",
       "text": [
        "0.3313566879475774\n",
        "delta / tau => 0.32373990575334355\n",
        "delta / tau => "
       ]
      },
      {
       "output_type": "stream",
       "stream": "stdout",
       "text": [
        "0.3329143409240706\n",
        "delta / tau => 0.32370468565123695\n",
        "delta / tau => "
       ]
      },
      {
       "output_type": "stream",
       "stream": "stdout",
       "text": [
        "0.3317073762024806\n",
        "delta / tau => 0.32484559868350577\n",
        "delta / tau => "
       ]
      },
      {
       "output_type": "stream",
       "stream": "stdout",
       "text": [
        "0.3301341192729023\n",
        "delta / tau => 0.32491585525274713\n",
        "delta / tau => "
       ]
      },
      {
       "output_type": "stream",
       "stream": "stdout",
       "text": [
        "0.3313609336797131\n",
        "delta / tau => 0.3239399009985963\n",
        "delta / tau => "
       ]
      },
      {
       "output_type": "stream",
       "stream": "stdout",
       "text": [
        "0.33326992556481405\n",
        "delta / tau => 0.32369994506852723\n",
        "delta / tau => "
       ]
      },
      {
       "output_type": "stream",
       "stream": "stdout",
       "text": [
        "0.33263363088243453\n",
        "delta / tau => 0.3245625038540057\n",
        "delta / tau => "
       ]
      },
      {
       "output_type": "stream",
       "stream": "stdout",
       "text": [
        "0.3313244115044898\n",
        "delta / tau => 0.3254397684009363\n",
        "delta / tau => "
       ]
      },
      {
       "output_type": "stream",
       "stream": "stdout",
       "text": [
        "0.3314152517805296\n",
        "delta / tau => 0.32532173161869754\n",
        "delta / tau => "
       ]
      },
      {
       "output_type": "stream",
       "stream": "stdout",
       "text": [
        "0.3320029557163148\n",
        "delta / tau => 0.32477237034876993\n",
        "delta / tau => "
       ]
      },
      {
       "output_type": "stream",
       "stream": "stdout",
       "text": [
        "0.3316654278825674\n",
        "delta / tau => 0.324749101431917\n",
        "delta / tau => "
       ]
      },
      {
       "output_type": "stream",
       "stream": "stdout",
       "text": [
        "0.33080765730939987\n",
        "delta / tau => 0.32554911557062044\n",
        "delta / tau => "
       ]
      },
      {
       "output_type": "stream",
       "stream": "stdout",
       "text": [
        "0.3302937616191478\n",
        "delta / tau => 0.32684091771425194\n",
        "delta / tau => "
       ]
      },
      {
       "output_type": "stream",
       "stream": "stdout",
       "text": [
        "0.3302515718891975\n",
        "delta / tau => 0.3270653782510945\n",
        "delta / tau => "
       ]
      },
      {
       "output_type": "stream",
       "stream": "stdout",
       "text": [
        "0.32956733501199786\n",
        "delta / tau => 0.327370024797683\n",
        "delta / tau => "
       ]
      },
      {
       "output_type": "stream",
       "stream": "stdout",
       "text": [
        "0.32871374375156714\n",
        "delta / tau => 0.3284817947695243\n",
        "delta / tau => "
       ]
      },
      {
       "output_type": "stream",
       "stream": "stdout",
       "text": [
        "0.32787757342706325\n",
        "delta / tau => 0.3294595647827213\n",
        "delta / tau => "
       ]
      },
      {
       "output_type": "stream",
       "stream": "stdout",
       "text": [
        "0.3279576758133952\n",
        "delta / tau => 0.3284843883370872\n",
        "delta / tau => "
       ]
      },
      {
       "output_type": "stream",
       "stream": "stdout",
       "text": [
        "0.3281455422924698\n",
        "delta / tau => 0.3279476758298624\n",
        "delta / tau => "
       ]
      },
      {
       "output_type": "stream",
       "stream": "stdout",
       "text": [
        "0.3276096212276636\n",
        "delta / tau => 0.3294944479999117\n",
        "delta / tau => "
       ]
      },
      {
       "output_type": "stream",
       "stream": "stdout",
       "text": [
        "0.3264376044380264\n",
        "delta / tau => 0.3308905083021349\n",
        "delta / tau => "
       ]
      },
      {
       "output_type": "stream",
       "stream": "stdout",
       "text": [
        "0.3261640547912826\n",
        "delta / tau => 0.33026400488054825\n",
        "delta / tau => "
       ]
      },
      {
       "output_type": "stream",
       "stream": "stdout",
       "text": [
        "0.3260107859951796\n",
        "delta / tau => 0.33054244269309146\n",
        "delta / tau => "
       ]
      },
      {
       "output_type": "stream",
       "stream": "stdout",
       "text": [
        "0.3255520397116978\n",
        "delta / tau => 0.33149534007735304\n",
        "delta / tau => "
       ]
      },
      {
       "output_type": "stream",
       "stream": "stdout",
       "text": [
        "0.3255108305846557\n",
        "delta / tau => 0.3309999921081288\n",
        "delta / tau => "
       ]
      },
      {
       "output_type": "stream",
       "stream": "stdout",
       "text": [
        "0.32584318863478606\n",
        "delta / tau => 0.3299128385134573\n",
        "delta / tau => "
       ]
      },
      {
       "output_type": "stream",
       "stream": "stdout",
       "text": [
        "0.3259981083020917\n",
        "delta / tau => 0.3296198887305603\n",
        "delta / tau => "
       ]
      },
      {
       "output_type": "stream",
       "stream": "stdout",
       "text": [
        "0.32622302902125466\n",
        "delta / tau => 0.3306487125753824\n",
        "delta / tau => "
       ]
      },
      {
       "output_type": "stream",
       "stream": "stdout",
       "text": [
        "0.3260572066556128\n",
        "delta / tau => 0.33056775185741055\n",
        "delta / tau => "
       ]
      },
      {
       "output_type": "stream",
       "stream": "stdout",
       "text": [
        "0.32612331314696297\n",
        "delta / tau => 0.329246645958711\n",
        "delta / tau => "
       ]
      },
      {
       "output_type": "stream",
       "stream": "stdout",
       "text": [
        "0.32675057384687967\n",
        "delta / tau => 0.32851010412048437\n",
        "delta / tau => "
       ]
      },
      {
       "output_type": "stream",
       "stream": "stdout",
       "text": [
        "0.32769041881673777\n",
        "delta / tau => 0.3285870778796738\n",
        "delta / tau => "
       ]
      },
      {
       "output_type": "stream",
       "stream": "stdout",
       "text": [
        "0.32835934911752723\n",
        "delta / tau => 0.32743506065609446\n",
        "delta / tau => "
       ]
      },
      {
       "output_type": "stream",
       "stream": "stdout",
       "text": [
        "0.32878905403737296\n",
        "delta / tau => 0.3263095553981702\n",
        "delta / tau => "
       ]
      },
      {
       "output_type": "stream",
       "stream": "stdout",
       "text": [
        "0.329006421045118\n",
        "10.005521011180965, 0.020352423208232117\n",
        "delta / tau => "
       ]
      },
      {
       "output_type": "stream",
       "stream": "stdout",
       "text": [
        "0.325963469875897\n",
        "delta / tau => 0.32940377575989777\n",
        "delta / tau => "
       ]
      },
      {
       "output_type": "stream",
       "stream": "stdout",
       "text": [
        "0.3266110971858366\n",
        "delta / tau => 0.32931787853738725\n",
        "delta / tau => "
       ]
      },
      {
       "output_type": "stream",
       "stream": "stdout",
       "text": [
        "0.3266901456146185\n",
        "delta / tau => 0.32922785173302493\n",
        "delta / tau => "
       ]
      },
      {
       "output_type": "stream",
       "stream": "stdout",
       "text": [
        "0.3257771780429777\n",
        "delta / tau => 0.3295234015593702\n",
        "delta / tau => "
       ]
      },
      {
       "output_type": "stream",
       "stream": "stdout",
       "text": [
        "0.32516209060863666\n",
        "delta / tau => 0.3297335158366406\n",
        "delta / tau => "
       ]
      },
      {
       "output_type": "stream",
       "stream": "stdout",
       "text": [
        "0.3257690512323443\n",
        "delta / tau => 0.32923765587684733\n",
        "delta / tau => "
       ]
      },
      {
       "output_type": "stream",
       "stream": "stdout",
       "text": [
        "0.3262913266111652\n",
        "delta / tau => 0.3286701014566443\n",
        "delta / tau => "
       ]
      },
      {
       "output_type": "stream",
       "stream": "stdout",
       "text": [
        "0.3259579593893664\n",
        "delta / tau => 0.32870352884912635\n",
        "delta / tau => "
       ]
      },
      {
       "output_type": "stream",
       "stream": "stdout",
       "text": [
        "0.3254873182150994\n",
        "delta / tau => 0.32913829352639384\n",
        "delta / tau => "
       ]
      },
      {
       "output_type": "stream",
       "stream": "stdout",
       "text": [
        "0.32617841428977895\n",
        "delta / tau => 0.32838404988487074\n",
        "delta / tau => "
       ]
      },
      {
       "output_type": "stream",
       "stream": "stdout",
       "text": [
        "0.3275401501962451\n",
        "delta / tau => 0.32743264270793865\n",
        "delta / tau => "
       ]
      },
      {
       "output_type": "stream",
       "stream": "stdout",
       "text": [
        "0.3272436920516551\n",
        "delta / tau => 0.3279299134855116\n",
        "delta / tau => "
       ]
      },
      {
       "output_type": "stream",
       "stream": "stdout",
       "text": [
        "0.32638310630294515\n",
        "delta / tau => 0.32851800170240286\n",
        "delta / tau => "
       ]
      },
      {
       "output_type": "stream",
       "stream": "stdout",
       "text": [
        "0.3276817471823611\n",
        "delta / tau => 0.3265004130796785\n",
        "delta / tau => "
       ]
      },
      {
       "output_type": "stream",
       "stream": "stdout",
       "text": [
        "0.32952887647066714\n",
        "delta / tau => 0.3252298767479128\n",
        "delta / tau => "
       ]
      },
      {
       "output_type": "stream",
       "stream": "stdout",
       "text": [
        "0.3300819173561654\n",
        "delta / tau => 0.32594297695509816\n",
        "delta / tau => "
       ]
      },
      {
       "output_type": "stream",
       "stream": "stdout",
       "text": [
        "0.3293207788147121\n",
        "delta / tau => 0.32635783009882874\n",
        "delta / tau => "
       ]
      },
      {
       "output_type": "stream",
       "stream": "stdout",
       "text": [
        "0.32939971963543546\n",
        "delta / tau => 0.3252540700048951\n",
        "delta / tau => "
       ]
      },
      {
       "output_type": "stream",
       "stream": "stdout",
       "text": [
        "0.33063407990702903\n",
        "delta / tau => 0.3246740344636733\n",
        "delta / tau => "
       ]
      },
      {
       "output_type": "stream",
       "stream": "stdout",
       "text": [
        "0.33067432238836686\n",
        "delta / tau => 0.32579550772987603\n",
        "delta / tau => "
       ]
      },
      {
       "output_type": "stream",
       "stream": "stdout",
       "text": [
        "0.3293645265531086\n",
        "delta / tau => 0.326480370306881\n",
        "delta / tau => "
       ]
      },
      {
       "output_type": "stream",
       "stream": "stdout",
       "text": [
        "0.3293960053389709\n",
        "delta / tau => 0.3254459168534661\n",
        "delta / tau => "
       ]
      },
      {
       "output_type": "stream",
       "stream": "stdout",
       "text": [
        "0.3304613825208978\n",
        "delta / tau => 0.3250156704152829\n",
        "delta / tau => "
       ]
      },
      {
       "output_type": "stream",
       "stream": "stdout",
       "text": [
        "0.32986996094414733\n",
        "delta / tau => 0.3263041611076267\n",
        "delta / tau => "
       ]
      },
      {
       "output_type": "stream",
       "stream": "stdout",
       "text": [
        "0.32858566556915264\n",
        "delta / tau => 0.3271194720315874\n",
        "delta / tau => "
       ]
      },
      {
       "output_type": "stream",
       "stream": "stdout",
       "text": [
        "0.3287687120666763\n",
        "delta / tau => 0.32652437070868434\n",
        "delta / tau => "
       ]
      },
      {
       "output_type": "stream",
       "stream": "stdout",
       "text": [
        "0.3293607008776879\n",
        "delta / tau => 0.3267274356799675\n",
        "delta / tau => "
       ]
      },
      {
       "output_type": "stream",
       "stream": "stdout",
       "text": [
        "0.3285590417337746\n",
        "delta / tau => 0.32833590977181976\n",
        "delta / tau => "
       ]
      },
      {
       "output_type": "stream",
       "stream": "stdout",
       "text": [
        "0.32691969719982816\n",
        "delta / tau => 0.3294035419415127\n",
        "delta / tau => "
       ]
      },
      {
       "output_type": "stream",
       "stream": "stdout",
       "text": [
        "0.3269712774751813\n",
        "delta / tau => 0.3288602844674656\n",
        "delta / tau => "
       ]
      },
      {
       "output_type": "stream",
       "stream": "stdout",
       "text": [
        "0.32787623182032855\n",
        "delta / tau => 0.3286298594394363\n",
        "delta / tau => "
       ]
      },
      {
       "output_type": "stream",
       "stream": "stdout",
       "text": [
        "0.32723788476182364\n",
        "delta / tau => 0.3295842612793796\n",
        "delta / tau => "
       ]
      },
      {
       "output_type": "stream",
       "stream": "stdout",
       "text": [
        "0.32633735144934595\n",
        "delta / tau => 0.32978153268688254\n",
        "delta / tau => "
       ]
      },
      {
       "output_type": "stream",
       "stream": "stdout",
       "text": [
        "0.3267543626121279\n",
        "delta / tau => 0.328813559748959\n",
        "delta / tau => "
       ]
      },
      {
       "output_type": "stream",
       "stream": "stdout",
       "text": [
        "0.32750236550327677\n",
        "delta / tau => 0.328613045884239\n",
        "delta / tau => "
       ]
      },
      {
       "output_type": "stream",
       "stream": "stdout",
       "text": [
        "0.32687103587066296\n",
        "delta / tau => 0.3298862271526596\n",
        "delta / tau => "
       ]
      },
      {
       "output_type": "stream",
       "stream": "stdout",
       "text": [
        "0.325805838117976\n",
        "delta / tau => 0.330439779422075\n",
        "delta / tau => "
       ]
      },
      {
       "output_type": "stream",
       "stream": "stdout",
       "text": [
        "0.32629481048585024\n",
        "delta / tau => 0.32950623157677145\n",
        "delta / tau => "
       ]
      },
      {
       "output_type": "stream",
       "stream": "stdout",
       "text": [
        "0.3268925323724645\n",
        "delta / tau => 0.3295440941933899\n",
        "delta / tau => "
       ]
      },
      {
       "output_type": "stream",
       "stream": "stdout",
       "text": [
        "0.3259545029784039\n",
        "delta / tau => 0.33107880631840175\n",
        "delta / tau => "
       ]
      },
      {
       "output_type": "stream",
       "stream": "stdout",
       "text": [
        "0.3248967661297511\n",
        "delta / tau => 0.3317593872499307\n",
        "delta / tau => "
       ]
      },
      {
       "output_type": "stream",
       "stream": "stdout",
       "text": [
        "0.32522625248101766\n",
        "delta / tau => 0.33113157889705125\n",
        "delta / tau => "
       ]
      },
      {
       "output_type": "stream",
       "stream": "stdout",
       "text": [
        "0.3252833503871593\n",
        "delta / tau => 0.3315772930831958\n",
        "delta / tau => "
       ]
      },
      {
       "output_type": "stream",
       "stream": "stdout",
       "text": [
        "0.32418734210455546\n",
        "delta / tau => 0.3327369203005074\n",
        "delta / tau => "
       ]
      },
      {
       "output_type": "stream",
       "stream": "stdout",
       "text": [
        "0.32374627413204415\n",
        "delta / tau => 0.3324293289735941\n",
        "delta / tau => "
       ]
      },
      {
       "output_type": "stream",
       "stream": "stdout",
       "text": [
        "0.3245413100928062\n",
        "delta / tau => 0.3311799863393544\n",
        "delta / tau => "
       ]
      },
      {
       "output_type": "stream",
       "stream": "stdout",
       "text": [
        "0.3247729327548215\n",
        "delta / tau => 0.3313927837651681\n",
        "delta / tau => "
       ]
      },
      {
       "output_type": "stream",
       "stream": "stdout",
       "text": [
        "0.3239853378442634\n",
        "delta / tau => 0.3324730320886692\n",
        "delta / tau => "
       ]
      },
      {
       "output_type": "stream",
       "stream": "stdout",
       "text": [
        "0.3240109087889414\n",
        "delta / tau => 0.33203479863015206\n",
        "delta / tau => "
       ]
      },
      {
       "output_type": "stream",
       "stream": "stdout",
       "text": [
        "0.32463857116818146\n",
        "delta / tau => 0.33110891082632227\n",
        "delta / tau => "
       ]
      },
      {
       "output_type": "stream",
       "stream": "stdout",
       "text": [
        "0.32445094656416856\n",
        "delta / tau => 0.331644094739871\n",
        "delta / tau => "
       ]
      },
      {
       "output_type": "stream",
       "stream": "stdout",
       "text": [
        "0.3237069398916798\n",
        "delta / tau => 0.3328889819198862\n",
        "delta / tau => "
       ]
      }
     ]
    },
    {
     "cell_type": "markdown",
     "metadata": {},
     "source": [
      "conversion factor, in $\\mu m$"
     ]
    },
    {
     "cell_type": "code",
     "collapsed": false,
     "input": [
      "const lC = 0.868;"
     ],
     "language": "python",
     "metadata": {},
     "outputs": []
    },
    {
     "cell_type": "code",
     "collapsed": false,
     "input": [
      "#axes labels\n",
      "x_label = L\"$x[\\mu m]$\"\n",
      "y_label = L\"$y[\\mu m]$\";"
     ],
     "language": "python",
     "metadata": {},
     "outputs": []
    },
    {
     "cell_type": "code",
     "collapsed": false,
     "input": [
      "#wavefunction at t~0\n",
      "fig, ax = subplots(figsize=(3, 3))\n",
      "imshow(CNORM^2 * abs2(\u03c8out[2].c), ColorMap(\"binary\"), origin=\"lower\", extent = lC*[SX[1], SX[end], SY[1], SY[end]])\n",
      "title(L\"$\\vert\\psi_C\\vert^2$\")\n",
      "ylabel(y_label)\n",
      "xlabel(x_label)"
     ],
     "language": "python",
     "metadata": {},
     "outputs": []
    },
    {
     "cell_type": "code",
     "collapsed": false,
     "input": [
      "#final wavefunction\n",
      "fig, ax = subplots(figsize=(3, 3))\n",
      "imshow(CNORM^2 * abs2(\u03c8out[end].c), ColorMap(\"binary\"), origin=\"lower\", extent = lC*[SX[1], SX[end], SY[1], SY[end]])\n",
      "title(L\"$\\vert\\psi_C\\vert^2$\")\n",
      "ylabel(y_label)\n",
      "xlabel(x_label)"
     ],
     "language": "python",
     "metadata": {},
     "outputs": []
    },
    {
     "cell_type": "code",
     "collapsed": false,
     "input": [],
     "language": "python",
     "metadata": {},
     "outputs": []
    }
   ],
   "metadata": {}
  }
 ]
}