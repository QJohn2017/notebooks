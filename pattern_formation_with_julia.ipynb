{
 "metadata": {
  "language": "Julia",
  "name": "",
  "signature": "sha256:7ca4566d2196d76c51a3a1e48391d8e951752d90b5a9e879092022e0e2edd840"
 },
 "nbformat": 3,
 "nbformat_minor": 0,
 "worksheets": [
  {
   "cells": [
    {
     "cell_type": "code",
     "collapsed": false,
     "input": [
      "using PyPlot"
     ],
     "language": "python",
     "metadata": {},
     "outputs": [
      {
       "output_type": "stream",
       "stream": "stderr",
       "text": [
        "INFO: Loading help data...\n"
       ]
      }
     ],
     "prompt_number": 1
    },
    {
     "cell_type": "code",
     "collapsed": false,
     "input": [
      "# Dormand-Prince coefficients\n",
      "const dp_coefficients = (5,\n",
      "                         [    0           0          0         0         0        0\n",
      "                              1/5         0          0         0         0        0\n",
      "                              3/40        9/40       0         0         0        0\n",
      "                             44/45      -56/15      32/9       0         0        0\n",
      "                          19372/6561 -25360/2187 64448/6561 -212/729     0        0\n",
      "                           9017/3168   -355/33   46732/5247   49/176 -5103/18656  0\n",
      "                             35/384       0        500/1113  125/192 -2187/6784  11/84],\n",
      "                         # 4th order b-coefficients\n",
      "                         [5179/57600 0 7571/16695 393/640 -92097/339200 187/2100 1/40],\n",
      "                         # 5th order b-coefficients\n",
      "                         [35/384 0 500/1113 125/192 -2187/6784 11/84 0],\n",
      "                         );"
     ],
     "language": "python",
     "metadata": {},
     "outputs": [],
     "prompt_number": 2
    },
    {
     "cell_type": "code",
     "collapsed": false,
     "input": [
      "fname = \"INPUT\"\n",
      "open(fname,\"r\") do f\n",
      "    for line in eachline(f)\n",
      "        line = strip(replace(line,[',','/'],' '))\n",
      "        (line[1] == '&' || line[1] == '!') && continue\n",
      "        include_string(\"global const \" * uppercase(line))\n",
      "        println(uppercase(line))\n",
      "    end\n",
      "end"
     ],
     "language": "python",
     "metadata": {},
     "outputs": [
      {
       "output_type": "stream",
       "stream": "stdout",
       "text": [
        "RUN          = 1\n"
       ]
      },
      {
       "output_type": "stream",
       "stream": "stdout",
       "text": [
        "IN_SSWF_RK   = 0\n",
        "IN_SSWF_SP   = 10\n",
        "KOUNT_ST     = 0\n",
        "KOUNT_END    = 10\n",
        "KAPPA_C      = 0.12\n",
        "KAPPA_X      = 0.12\n",
        "DELTA        = 0.0\n",
        "K_P          = 1.394\n",
        "OMEGA_P      = -0.2\n",
        "SIGMA_P      = 40.0\n",
        "F_P          = 0.11\n",
        "MOM_CENT     = 1.39\n",
        "MOM_CUT      = 0.7\n",
        "OMEGA_CUT_P  = 0.001\n",
        "OMEGA_S      = -0.748\n",
        "OMEGA_CUT_S  = 0.001\n",
        "OMEGA_ID     = 0.349\n",
        "OMEGA_CUT_ID = 0.001\n",
        "LX           = 20.0\n",
        "LY           = 20.0\n",
        "NX           = 80\n",
        "NY           = 80\n",
        "NT           = 256\n",
        "TOT_H        = 600.00\n",
        "T_STFFT      = 200.0\n",
        "DXSAV_RK     = 10.0\n",
        "DXSAV_SP     = 1.0\n",
        "EPS_R        = 0.0001\n",
        "DEF_X_POS    = 0.0\n",
        "DEF_Y_POS    = 0.0\n",
        "GV           = 100.0\n"
       ]
      }
     ],
     "prompt_number": 3
    },
    {
     "cell_type": "code",
     "collapsed": false,
     "input": [
      "global const \u0394X = 2LX/NX\n",
      "global const \u0394Y = 2LY/NY;\n",
      "global const CNORM = sqrt(NX*NY)/256/sqrt(LX*LY)*70;"
     ],
     "language": "python",
     "metadata": {},
     "outputs": [],
     "prompt_number": 4
    },
    {
     "cell_type": "code",
     "collapsed": false,
     "input": [
      "# define custom type\n",
      "type Wavefunction{T}\n",
      "    c::Array{T, 2}  #cavity\n",
      "    x::Array{T, 2}  #exciton\n",
      "    \n",
      "    Wavefunction(cav, exc) = new(copy(cav), copy(exc))\n",
      "end"
     ],
     "language": "python",
     "metadata": {},
     "outputs": [],
     "prompt_number": 5
    },
    {
     "cell_type": "code",
     "collapsed": false,
     "input": [
      "# which supports the following operations\n",
      "import Base.norm\n",
      "norm{T}(\u03c8::Wavefunction{T}, p::Float64) = max(Base.norm(\u03c8.c, p), Base.norm(\u03c8.x, p))\n",
      "\n",
      "+{T}(\u03c81::Wavefunction{T}, \u03c82::Wavefunction{T}) = Wavefunction{T}(\u03c81.c + \u03c82.c, \u03c81.x + \u03c82.x)\n",
      "-{T}(\u03c81::Wavefunction{T}, \u03c82::Wavefunction{T}) = Wavefunction{T}(\u03c81.c - \u03c82.c, \u03c81.x - \u03c82.x)\n",
      "\n",
      "*{T}(c::Real, \u03c8::Wavefunction{T}) = Wavefunction{T}(c*\u03c8.c, c*\u03c8.x)\n",
      "*{T}(\u03c8::Wavefunction{T}, c::Real) = c*\u03c8\n",
      "\n",
      "/{T}(\u03c8::Wavefunction{T}, c::Real) = Wavefunction{T}(\u03c8.c/c, \u03c8.x/c)"
     ],
     "language": "python",
     "metadata": {},
     "outputs": [
      {
       "metadata": {},
       "output_type": "pyout",
       "prompt_number": 6,
       "text": [
        "/ (generic function with 49 methods)"
       ]
      }
     ],
     "prompt_number": 6
    },
    {
     "cell_type": "code",
     "collapsed": false,
     "input": [
      "getidx(pos, len, \u0394) = iround((len + pos)/\u0394) + 1"
     ],
     "language": "python",
     "metadata": {},
     "outputs": [
      {
       "metadata": {},
       "output_type": "pyout",
       "prompt_number": 7,
       "text": [
        "getidx (generic function with 1 method)"
       ]
      }
     ],
     "prompt_number": 7
    },
    {
     "cell_type": "code",
     "collapsed": false,
     "input": [
      "function initpotcav(posx, posy, strength)\n",
      "    ix = getidx(posx, LX, \u0394X)\n",
      "    iy = getidx(posy, LY, \u0394Y)\n",
      "    potential = zeros(NY, NX)\n",
      "    potential[iy, ix] = strength\n",
      "    return potential\n",
      "end\n",
      "global const SY = [-LY+(iy-1)*\u0394Y for iy=1:NY]\n",
      "global const SX = [-LX+(ix-1)*\u0394X for ix=1:NX]'\n",
      "global const potcav = initpotcav(DEF_X_POS, DEF_Y_POS, GV);"
     ],
     "language": "python",
     "metadata": {},
     "outputs": [],
     "prompt_number": 8
    },
    {
     "cell_type": "code",
     "collapsed": false,
     "input": [
      "#pcolor(SX, SY, potcav)\n",
      "#colorbar()"
     ],
     "language": "python",
     "metadata": {},
     "outputs": [],
     "prompt_number": 9
    },
    {
     "cell_type": "code",
     "collapsed": false,
     "input": [
      "function initpump(x, y, ampl, width, kp)\n",
      "    r = sqrt(x .^ 2 .+ y .^ 2)\n",
      "    #top hat pump\n",
      "    0.5 * ampl / CNORM * \n",
      "    (tanh(1/10*(r .+ width)) - tanh(1/10*(r .- width))) .* exp(im*(kp*x .+ zero(kp)*y))\n",
      "end\n",
      "global const pumpspc = initpump(SX, SY, F_P, SIGMA_P, K_P);"
     ],
     "language": "python",
     "metadata": {},
     "outputs": [],
     "prompt_number": 10
    },
    {
     "cell_type": "code",
     "collapsed": false,
     "input": [
      "#pcolor(SX, SY, abs2(pumpspc))\n",
      "#colorbar()"
     ],
     "language": "python",
     "metadata": {},
     "outputs": [],
     "prompt_number": 11
    },
    {
     "cell_type": "code",
     "collapsed": false,
     "input": [
      "#f = [0, 1, ...,   n/2-1,     -n/2, ..., -1] / (d*n)   if n is even\n",
      "#f = [0, 1, ..., (n-1)/2, -(n-1)/2, ..., -1] / (d*n)   if n is odd\n",
      "function fftfreq(n::Int64, d::Float64)\n",
      "    N = fld(n-1,2)\n",
      "    p1 = [0:N]\n",
      "    p2 = [-fld(n,2):-1]\n",
      "    return [p1, p2]/(d*n)\n",
      "end"
     ],
     "language": "python",
     "metadata": {},
     "outputs": [
      {
       "metadata": {},
       "output_type": "pyout",
       "prompt_number": 12,
       "text": [
        "fftfreq (generic function with 1 method)"
       ]
      }
     ],
     "prompt_number": 12
    },
    {
     "cell_type": "code",
     "collapsed": false,
     "input": [
      "global const MOMY = fftfreq(NY, \u0394Y/2pi)\n",
      "global const MOMX = fftfreq(NX, \u0394X/2pi)';"
     ],
     "language": "python",
     "metadata": {},
     "outputs": [],
     "prompt_number": 13
    },
    {
     "cell_type": "code",
     "collapsed": false,
     "input": [
      "setkin(kx, ky) = kx .^ 2 .+ ky .^ 2\n",
      "global const kinetic = setkin(MOMX, MOMY);"
     ],
     "language": "python",
     "metadata": {},
     "outputs": [],
     "prompt_number": 14
    },
    {
     "cell_type": "code",
     "collapsed": false,
     "input": [
      "#pcolor(MOMX, MOMY, kinetic)\n",
      "#xlim(MOMX[1], MOMX[end])\n",
      "#ylim(MOMY[1], MOMY[end])\n",
      "#colorbar()"
     ],
     "language": "python",
     "metadata": {},
     "outputs": [],
     "prompt_number": 15
    },
    {
     "cell_type": "markdown",
     "metadata": {},
     "source": [
      "$\\partial_t \\psi_X = -i\\psi_C - \\kappa_X \\psi_X - i\\vert\\psi_X\\vert^2 \\psi_X$\n",
      "\n",
      "$\\partial_t \\psi_C = -i F(x,y)\\exp{[i(k^p_x x+k^p_y y - \\omega_p t)]} -i\\psi_X -i [\\delta - \\Delta -i\\kappa_C]\\psi_C$\n"
     ]
    },
    {
     "cell_type": "code",
     "collapsed": false,
     "input": [
      "# define RHSs of differential equations\n",
      "#params: \u03c9p, \u03b4, \u03bac, \u03bax, potc, pmpspc, kin\n",
      "function rhs(t::Float64, \u03c8::Wavefunction{Complex{Float64}}, \u03c9p, \u03b4, \u03bac, \u03bax, potc, pmpspc, kin)\n",
      "    #generate the energy dependence of the pump\n",
      "    pump = pmpspc*exp(-im*\u03c9p*t)\n",
      "\n",
      "    #right hand side of the equation of motion\n",
      "    #photon part \n",
      "    d\u03c8c = -im*pump - im*\u03c8.x - (im*\u03b4 + \u03bac)*\u03c8.c\n",
      "    #add a potential to the photon part\n",
      "    d\u03c8c += im*potc .* \u03c8.c\n",
      "    #adding the kinetic energy by means of the FFT\n",
      "    d\u03c8c -= im*ifft(kin .* fft(\u03c8.c))\n",
      "    #exciton part\n",
      "    d\u03c8x = -im*\u03c8.c -\u03bax*\u03c8.x - im*abs2(\u03c8.x) .* \u03c8.x/(\u0394X*\u0394Y) \n",
      "    return Wavefunction{Complex{Float64}}(d\u03c8c, d\u03c8x)\n",
      "end"
     ],
     "language": "python",
     "metadata": {},
     "outputs": [
      {
       "metadata": {},
       "output_type": "pyout",
       "prompt_number": 16,
       "text": [
        "rhs (generic function with 1 method)"
       ]
      }
     ],
     "prompt_number": 16
    },
    {
     "cell_type": "code",
     "collapsed": false,
     "input": [
      "# inital conditons\n",
      "\u03c80 = Wavefunction{Complex{Float64}}(zeros(NY, NX), zeros(NY, NX));"
     ],
     "language": "python",
     "metadata": {},
     "outputs": [],
     "prompt_number": 17
    },
    {
     "cell_type": "code",
     "collapsed": false,
     "input": [
      "function oderkf(F, x0, tspan, p, a, bs, bp; reltol = 1.0e-5, abstol = 1.0e-8)\n",
      "    # see p.91 in the Ascher & Petzold reference for more infomation.\n",
      "    pow = 1/p   # use the higher order to estimate the next step size\n",
      "\n",
      "    c = sum(a, 2)   # consistency condition\n",
      "\n",
      "    # Initialization\n",
      "    t = tspan[1]\n",
      "    \u0394sav = DXSAV_RK\n",
      "    tsav = t - 2\u0394sav\n",
      "    tfinal = tspan[end]\n",
      "    tdir = sign(tfinal - t)\n",
      "    hmax = abs(tfinal - t)/2.5\n",
      "    hmin = abs(tfinal - t)/1e9\n",
      "    h = tdir*abs(tfinal - t)/1e9  # initial guess at a step size\n",
      "    x = x0\n",
      "    tout = t            # first output time\n",
      "    xout = Array(typeof(x0), 1)\n",
      "    xout[1] = x         # first output solution\n",
      "\n",
      "    k = Array(typeof(x0), length(c))\n",
      "    k[1] = F(t,x) # first stage\n",
      "\n",
      "    while abs(t) != abs(tfinal) && abs(h) >= hmin\n",
      "        if abs(h) > abs(tfinal-t)\n",
      "            h = tfinal - t\n",
      "        end\n",
      "\n",
      "        #(p-1)th and pth order estimates\n",
      "        xs = x + h*bs[1]*k[1]\n",
      "        xp = x + h*bp[1]*k[1]\n",
      "        for j = 2:length(c)\n",
      "            dx = a[j,1]*k[1]\n",
      "            for i = 2:j-1\n",
      "                dx += a[j,i]*k[i]\n",
      "            end\n",
      "            k[j] = F(t + h*c[j], x + h*dx)\n",
      "\n",
      "            # compute the (p-1)th order estimate\n",
      "            xs = xs + h*bs[j]*k[j]\n",
      "            # compute the pth order estimate\n",
      "            xp = xp + h*bp[j]*k[j]\n",
      "        end\n",
      "\n",
      "        # estimate the local truncation error\n",
      "        gamma1 = xs - xp\n",
      "\n",
      "        # Estimate the error and the acceptable error\n",
      "        delta = norm(gamma1, Inf)              # actual error\n",
      "        tau   = max(reltol*norm(x,Inf),abstol) # allowable error\n",
      "\n",
      "        # Update the solution only if the error is acceptable\n",
      "        if delta <= tau\n",
      "            t = t + h\n",
      "            x = xp    # <-- using the higher order estimate is called 'local extrapolation'\n",
      "            \n",
      "            if abs(t-tsav) > \u0394sav\n",
      "                println(\"$t, $h\")\n",
      "                tout = [tout; t]\n",
      "                push!(xout, x)\n",
      "                tsav=t\n",
      "            end\n",
      "\n",
      "            # Compute the slopes by computing the k[:,j+1]'th column based on the previous k[:,1:j] columns\n",
      "            # notes: k needs to end up as an Nxs, a is 7x6, which is s by (s-1),\n",
      "            #        s is the number of intermediate RK stages on [t (t+h)] (Dormand-Prince has s=7 stages)\n",
      "            if c[end] == 1\n",
      "                # Assign the last stage for x(k) as the first stage for computing x[k+1].\n",
      "                # This is part of the Dormand-Prince pair caveat.\n",
      "                # k[:,7] has already been computed, so use it instead of recomputing it\n",
      "                # again as k[:,1] during the next step.\n",
      "                k[1] = k[end]\n",
      "            else\n",
      "                k[1] = F(t,x) # first stage\n",
      "            end\n",
      "        end\n",
      "\n",
      "        # Update the step size\n",
      "        h = min(hmax, 0.8*h*(tau/delta)^pow)\n",
      "        \n",
      "    end # while (t < tfinal) & (h >= hmin)\n",
      "\n",
      "    if abs(t) < abs(tfinal)\n",
      "      println(\"Step size grew too small. t=\", t, \", h=\", abs(h))\n",
      "    end\n",
      "    \n",
      "    #add final step\n",
      "    tout = [tout; t]\n",
      "    push!(xout, x)    \n",
      "\n",
      "    return tout, xout\n",
      "end"
     ],
     "language": "python",
     "metadata": {},
     "outputs": [
      {
       "metadata": {},
       "output_type": "pyout",
       "prompt_number": 27,
       "text": [
        "oderkf (generic function with 1 method)"
       ]
      }
     ],
     "prompt_number": 27
    },
    {
     "cell_type": "code",
     "collapsed": false,
     "input": [
      "# solve ODEs\n",
      "\u03c4, \u03c8out = oderkf((t, psi)->rhs(t, psi, OMEGA_P, DELTA, KAPPA_C, KAPPA_X, potcav, pumpspc, kinetic), \u03c80, [0., TOT_H],\n",
      "dp_coefficients...; reltol = 1.0e-5, abstol = 1.0e-8);"
     ],
     "language": "python",
     "metadata": {},
     "outputs": [
      {
       "output_type": "stream",
       "stream": "stdout",
       "text": [
        "6.0e-7, 6.0e-7\n"
       ]
      },
      {
       "output_type": "stream",
       "stream": "stdout",
       "text": [
        "10.005521011180965, 0.020352423208232117"
       ]
      },
      {
       "output_type": "stream",
       "stream": "stdout",
       "text": [
        "\n",
        "20.008134854423783, 0.01962615689046747"
       ]
      },
      {
       "output_type": "stream",
       "stream": "stdout",
       "text": [
        "\n",
        "30.019138970789975, 0.019281257113294894"
       ]
      },
      {
       "output_type": "stream",
       "stream": "stdout",
       "text": [
        "\n",
        "40.03564484798921, 0.019028203718565208"
       ]
      },
      {
       "output_type": "stream",
       "stream": "stdout",
       "text": [
        "\n",
        "50.035706870311536, 0.01898942948117338"
       ]
      },
      {
       "output_type": "stream",
       "stream": "stdout",
       "text": [
        "\n",
        "60.040436801920414, 0.01909264948487158"
       ]
      },
      {
       "output_type": "stream",
       "stream": "stdout",
       "text": [
        "\n",
        "70.05628777296228, 0.019037252440567115"
       ]
      },
      {
       "output_type": "stream",
       "stream": "stdout",
       "text": [
        "\n",
        "80.07295365090907, 0.01895613953810129"
       ]
      },
      {
       "output_type": "stream",
       "stream": "stdout",
       "text": [
        "\n",
        "90.08502202846049, 0.018898012804127857"
       ]
      },
      {
       "output_type": "stream",
       "stream": "stdout",
       "text": [
        "\n",
        "100.08541293005675, 0.019006472147093032"
       ]
      },
      {
       "output_type": "stream",
       "stream": "stdout",
       "text": [
        "\n",
        "110.08548586420748, 0.018769218241677894"
       ]
      },
      {
       "output_type": "stream",
       "stream": "stdout",
       "text": [
        "\n",
        "120.09906958170737, 0.018684374559686828"
       ]
      },
      {
       "output_type": "stream",
       "stream": "stdout",
       "text": [
        "\n",
        "130.1061245977628, 0.01852763768438024"
       ]
      },
      {
       "output_type": "stream",
       "stream": "stdout",
       "text": [
        "\n",
        "140.11005601733504, 0.018500483472906847"
       ]
      },
      {
       "output_type": "stream",
       "stream": "stdout",
       "text": [
        "\n",
        "150.11487198750297, 0.018589500616852918"
       ]
      },
      {
       "output_type": "stream",
       "stream": "stdout",
       "text": [
        "\n",
        "160.12812829106005, 0.01854900503870535"
       ]
      },
      {
       "output_type": "stream",
       "stream": "stdout",
       "text": [
        "\n",
        "170.1360351642477, 0.018490561171375184"
       ]
      },
      {
       "output_type": "stream",
       "stream": "stdout",
       "text": [
        "\n",
        "180.1503468822225, 0.018471481450912312"
       ]
      },
      {
       "output_type": "stream",
       "stream": "stdout",
       "text": [
        "\n",
        "190.16371358720878, 0.018412344304572555"
       ]
      },
      {
       "output_type": "stream",
       "stream": "stdout",
       "text": [
        "\n",
        "200.16797507767717, 0.018383799911443094"
       ]
      },
      {
       "output_type": "stream",
       "stream": "stdout",
       "text": [
        "\n",
        "210.16862064978514, 0.018385469873019335"
       ]
      },
      {
       "output_type": "stream",
       "stream": "stdout",
       "text": [
        "\n",
        "220.17112320783244, 0.018389574009776234"
       ]
      },
      {
       "output_type": "stream",
       "stream": "stdout",
       "text": [
        "\n",
        "230.18828643835818, 0.01838224988590629"
       ]
      },
      {
       "output_type": "stream",
       "stream": "stdout",
       "text": [
        "\n",
        "240.1893442030606, 0.018355769932300727"
       ]
      },
      {
       "output_type": "stream",
       "stream": "stdout",
       "text": [
        "\n",
        "250.20409281686713, 0.018380713655200987"
       ]
      },
      {
       "output_type": "stream",
       "stream": "stdout",
       "text": [
        "\n",
        "260.21729908027805, 0.018409303863701796"
       ]
      },
      {
       "output_type": "stream",
       "stream": "stdout",
       "text": [
        "\n",
        "270.21879068565283, 0.018386484490923692"
       ]
      },
      {
       "output_type": "stream",
       "stream": "stdout",
       "text": [
        "\n",
        "280.22597268642045, 0.018363181653351462"
       ]
      },
      {
       "output_type": "stream",
       "stream": "stdout",
       "text": [
        "\n",
        "290.2328792464344, 0.018382743923360218"
       ]
      },
      {
       "output_type": "stream",
       "stream": "stdout",
       "text": [
        "\n",
        "300.23753439843307, 0.01839996141267124"
       ]
      },
      {
       "output_type": "stream",
       "stream": "stdout",
       "text": [
        "\n",
        "310.2419285081679, 0.01839775457789516"
       ]
      },
      {
       "output_type": "stream",
       "stream": "stdout",
       "text": [
        "\n",
        "320.2448909348011, 0.01839074331998191"
       ]
      },
      {
       "output_type": "stream",
       "stream": "stdout",
       "text": [
        "\n",
        "330.2484237356961, 0.01837505686189555"
       ]
      },
      {
       "output_type": "stream",
       "stream": "stdout",
       "text": [
        "\n",
        "340.2635167404477, 0.018380560402982707"
       ]
      },
      {
       "output_type": "stream",
       "stream": "stdout",
       "text": [
        "\n",
        "350.2701056029169, 0.018367475673249856"
       ]
      },
      {
       "output_type": "stream",
       "stream": "stdout",
       "text": [
        "\n",
        "360.27964676946823, 0.018347826815653924"
       ]
      },
      {
       "output_type": "stream",
       "stream": "stdout",
       "text": [
        "\n",
        "370.28925953180897, 0.018364531397871867"
       ]
      },
      {
       "output_type": "stream",
       "stream": "stdout",
       "text": [
        "\n",
        "380.3032446831648, 0.01839336026980909"
       ]
      },
      {
       "output_type": "stream",
       "stream": "stdout",
       "text": [
        "\n",
        "390.3036601930694, 0.018397346361486922"
       ]
      },
      {
       "output_type": "stream",
       "stream": "stdout",
       "text": [
        "\n",
        "400.3045960914847, 0.01838614484700924"
       ]
      },
      {
       "output_type": "stream",
       "stream": "stdout",
       "text": [
        "\n",
        "410.32289286439965, 0.018374390641986392"
       ]
      },
      {
       "output_type": "stream",
       "stream": "stdout",
       "text": [
        "\n",
        "420.3231503282516, 0.018368031770240007"
       ]
      },
      {
       "output_type": "stream",
       "stream": "stdout",
       "text": [
        "\n",
        "430.32537878009634, 0.018364754246124472"
       ]
      },
      {
       "output_type": "stream",
       "stream": "stdout",
       "text": [
        "\n",
        "440.32848891279826, 0.018366102559645426"
       ]
      },
      {
       "output_type": "stream",
       "stream": "stdout",
       "text": [
        "\n",
        "450.3297431370059, 0.018374229269187078"
       ]
      },
      {
       "output_type": "stream",
       "stream": "stdout",
       "text": [
        "\n",
        "460.34557827368013, 0.01837988603328793"
       ]
      },
      {
       "output_type": "stream",
       "stream": "stdout",
       "text": [
        "\n",
        "470.35824931996336, 0.018378429414513616"
       ]
      },
      {
       "output_type": "stream",
       "stream": "stdout",
       "text": [
        "\n",
        "480.3710036506092, 0.018371539446911864"
       ]
      },
      {
       "output_type": "stream",
       "stream": "stdout",
       "text": [
        "\n",
        "490.3870386523568, 0.01836928048953081"
       ]
      },
      {
       "output_type": "stream",
       "stream": "stdout",
       "text": [
        "\n",
        "500.38810307181575, 0.01836682228732693"
       ]
      },
      {
       "output_type": "stream",
       "stream": "stdout",
       "text": [
        "\n",
        "510.3898449955444, 0.018378258085724214"
       ]
      },
      {
       "output_type": "stream",
       "stream": "stdout",
       "text": [
        "\n",
        "520.4064051326877, 0.018390983780290693"
       ]
      },
      {
       "output_type": "stream",
       "stream": "stdout",
       "text": [
        "\n",
        "530.418032363626, 0.018387407018681353"
       ]
      },
      {
       "output_type": "stream",
       "stream": "stdout",
       "text": [
        "\n",
        "540.4265800861153, 0.01836934095031835"
       ]
      },
      {
       "output_type": "stream",
       "stream": "stdout",
       "text": [
        "\n",
        "550.4384197649763, 0.01838049757959854"
       ]
      },
      {
       "output_type": "stream",
       "stream": "stdout",
       "text": [
        "\n",
        "560.4541616353602, 0.018376824592867977"
       ]
      },
      {
       "output_type": "stream",
       "stream": "stdout",
       "text": [
        "\n",
        "570.4678914934208, 0.018370715092263668"
       ]
      },
      {
       "output_type": "stream",
       "stream": "stdout",
       "text": [
        "\n",
        "580.4827973056639, 0.01836890241553617"
       ]
      },
      {
       "output_type": "stream",
       "stream": "stdout",
       "text": [
        "\n",
        "590.5008488856593, 0.01836916084195227"
       ]
      },
      {
       "output_type": "stream",
       "stream": "stdout",
       "text": [
        "\n"
       ]
      }
     ],
     "prompt_number": 28
    },
    {
     "cell_type": "markdown",
     "metadata": {},
     "source": [
      "conversion factor, in $\\mu m$"
     ]
    },
    {
     "cell_type": "code",
     "collapsed": false,
     "input": [
      "const lC = 0.868;"
     ],
     "language": "python",
     "metadata": {},
     "outputs": [],
     "prompt_number": 20
    },
    {
     "cell_type": "code",
     "collapsed": false,
     "input": [
      "#axes labels\n",
      "x_label = L\"$x[\\mu m]$\"\n",
      "y_label = L\"$y[\\mu m]$\";"
     ],
     "language": "python",
     "metadata": {},
     "outputs": [],
     "prompt_number": 21
    },
    {
     "cell_type": "code",
     "collapsed": false,
     "input": [
      "#wavefunction at t~0\n",
      "fig, ax = subplots(figsize=(3, 3))\n",
      "imshow(CNORM^2 * abs2(\u03c8out[2].c), ColorMap(\"binary\"), origin=\"lower\", extent = lC*[SX[1], SX[end], SY[1], SY[end]])\n",
      "title(L\"$\\vert\\psi_C\\vert^2$\")\n",
      "ylabel(y_label)\n",
      "xlabel(x_label)"
     ],
     "language": "python",
     "metadata": {},
     "outputs": [
      {
       "metadata": {},
       "output_type": "display_data",
       "png": "[encoded data removed]",
       "text": [
        "Figure(PyObject <matplotlib.figure.Figure object at 0x7fdf01b4a5c0>)"
       ]
      },
      {
       "metadata": {},
       "output_type": "pyout",
       "prompt_number": 30,
       "text": [
        "PyObject <matplotlib.text.Text object at 0x7fdf017b8f98>"
       ]
      }
     ],
     "prompt_number": 30
    },
    {
     "cell_type": "code",
     "collapsed": false,
     "input": [
      "#final wavefunction\n",
      "fig, ax = subplots(figsize=(3, 3))\n",
      "imshow(CNORM^2 * abs2(\u03c8out[end].c), ColorMap(\"binary\"), origin=\"lower\", extent = lC*[SX[1], SX[end], SY[1], SY[end]])\n",
      "title(L\"$\\vert\\psi_C\\vert^2$\")\n",
      "ylabel(y_label)\n",
      "xlabel(x_label)"
     ],
     "language": "python",
     "metadata": {},
     "outputs": [
      {
       "metadata": {},
       "output_type": "display_data",
       "png": "[encoded data removed]",
       "text": [
        "Figure(PyObject <matplotlib.figure.Figure object at 0x7fdf017f0eb8>)"
       ]
      },
      {
       "metadata": {},
       "output_type": "pyout",
       "prompt_number": 31,
       "text": [
        "PyObject <matplotlib.text.Text object at 0x7fdf0180fb00>"
       ]
      }
     ],
     "prompt_number": 31
    },
    {
     "cell_type": "code",
     "collapsed": false,
     "input": [],
     "language": "python",
     "metadata": {},
     "outputs": []
    }
   ],
   "metadata": {}
  }
 ]
}