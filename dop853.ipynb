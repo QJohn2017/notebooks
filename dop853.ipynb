{
 "metadata": {
  "language": "Julia",
  "name": "",
  "signature": "sha256:2eb743d030435a692ea957a984487a4deec80d68b278f63dd8046a05dd9ee965"
 },
 "nbformat": 3,
 "nbformat_minor": 0,
 "worksheets": [
  {
   "cells": [
    {
     "cell_type": "code",
     "collapsed": false,
     "input": [
      "using ODE"
     ],
     "language": "python",
     "metadata": {},
     "outputs": [],
     "prompt_number": 22
    },
    {
     "cell_type": "code",
     "collapsed": false,
     "input": [
      "function gravity!(f::Vector{Float64}, t::Float64, y::Vector{Float64})\n",
      "    r = sqrt(y[1]*y[1]+y[2]*y[2]+y[3]*y[3])\n",
      "    r3 = r*r*r\n",
      "    f[1] = y[4]\n",
      "    f[2] = y[5]\n",
      "    f[3] = y[6]\n",
      "    f[4] = -mu*y[1]/r3\n",
      "    f[5] = -mu*y[2]/r3\n",
      "    f[6] = -mu*y[3]/r3\n",
      "end"
     ],
     "language": "python",
     "metadata": {},
     "outputs": [
      {
       "metadata": {},
       "output_type": "pyout",
       "prompt_number": 23,
       "text": [
        "gravity! (generic function with 1 method)"
       ]
      }
     ],
     "prompt_number": 23
    },
    {
     "cell_type": "code",
     "collapsed": false,
     "input": [
      "const mu = 398600.4415 # [km^3/s^2] Earth's gravity\n",
      "const s0 = [-1814.0, -3708.0, 5153.0, 6.512, -4.229, -0.744]\n",
      "const tp = 5402.582703094263*16;"
     ],
     "language": "python",
     "metadata": {},
     "outputs": [
      {
       "output_type": "stream",
       "stream": "stderr",
       "text": [
        "Warning: redefining constant s0\n"
       ]
      }
     ],
     "prompt_number": 24
    },
    {
     "cell_type": "code",
     "collapsed": false,
     "input": [
      "output = dop853(gravity!, s0, [0.0:tp])"
     ],
     "language": "python",
     "metadata": {},
     "outputs": [
      {
       "metadata": {},
       "output_type": "pyout",
       "prompt_number": 25,
       "text": [
        "6-element Array{Float64,1}:\n",
        " -1815.49    \n",
        " -3707.03    \n",
        "  5153.17    \n",
        "     6.51142 \n",
        "    -4.23016 \n",
        "    -0.742373"
       ]
      }
     ],
     "prompt_number": 25
    },
    {
     "cell_type": "code",
     "collapsed": false,
     "input": [
      "println(abs(s0-output))"
     ],
     "language": "python",
     "metadata": {},
     "outputs": [
      {
       "output_type": "stream",
       "stream": "stdout",
       "text": [
        "[1"
       ]
      },
      {
       "output_type": "stream",
       "stream": "stdout",
       "text": [
        ".494493590946604,0.9682636290958726,0.17305984607901337,0.0005827408908745113,0.0011633159121569037,0.0016271763772646164]\n"
       ]
      }
     ],
     "prompt_number": 26
    },
    {
     "cell_type": "code",
     "collapsed": false,
     "input": [
      "function rhsexp!(f::Vector{Float64}, t::Float64, y::Vector{Float64})\n",
      "    f[1] = y[1]\n",
      "end"
     ],
     "language": "python",
     "metadata": {},
     "outputs": [
      {
       "metadata": {},
       "output_type": "pyout",
       "prompt_number": 27,
       "text": [
        "rhsexp! (generic function with 1 method)"
       ]
      }
     ],
     "prompt_number": 27
    },
    {
     "cell_type": "code",
     "collapsed": false,
     "input": [
      "# dy\n",
      "# -- = y ==> y = y0*e.^t\n",
      "# dt\n",
      "\n",
      "dop853(rhsexp!, [1.], [0.:2.]) .- e^2"
     ],
     "language": "python",
     "metadata": {},
     "outputs": [
      {
       "metadata": {},
       "output_type": "pyout",
       "prompt_number": 28,
       "text": [
        "1-element Array{Float64,1}:\n",
        " -8.31414e-7"
       ]
      }
     ],
     "prompt_number": 28
    },
    {
     "cell_type": "code",
     "collapsed": false,
     "input": [
      "# dv       dw\n",
      "# -- = -w, -- = v ==> v = v0*cos(t) - w0*sin(t), w = w0*cos(t) + v0*sin(t)\n",
      "# dt       dt\n",
      "\n",
      "# y = [v, w]"
     ],
     "language": "python",
     "metadata": {},
     "outputs": [],
     "prompt_number": 29
    },
    {
     "cell_type": "code",
     "collapsed": false,
     "input": [
      "function rhsvw!(f::Vector{Float64}, t::Float64, y::Vector{Float64})\n",
      "    f[1] = -y[2]\n",
      "    f[2] = y[1]\n",
      "end"
     ],
     "language": "python",
     "metadata": {},
     "outputs": [
      {
       "metadata": {},
       "output_type": "pyout",
       "prompt_number": 30,
       "text": [
        "rhsvw! (generic function with 1 method)"
       ]
      }
     ],
     "prompt_number": 30
    },
    {
     "cell_type": "code",
     "collapsed": false,
     "input": [
      "dop853(rhsvw!, [1., 2.], [0.:2pi])"
     ],
     "language": "python",
     "metadata": {},
     "outputs": [
      {
       "metadata": {},
       "output_type": "pyout",
       "prompt_number": 31,
       "text": [
        "2-element Array{Float64,1}:\n",
        " 1.519  \n",
        " 1.64092"
       ]
      }
     ],
     "prompt_number": 31
    },
    {
     "cell_type": "code",
     "collapsed": false,
     "input": [
      "tmp = 6.\n",
      "[cos(tmp)-2*sin(tmp) 2*cos(tmp)+sin(tmp)]"
     ],
     "language": "python",
     "metadata": {},
     "outputs": [
      {
       "metadata": {},
       "output_type": "pyout",
       "prompt_number": 32,
       "text": [
        "1x2 Array{Float64,2}:\n",
        " 1.519  1.64093"
       ]
      }
     ],
     "prompt_number": 32
    },
    {
     "cell_type": "code",
     "collapsed": false,
     "input": [
      "#= mem = @allocated dop853(gravity!, 0.0, s0, tp, mu)  =#\n",
      "#= el = 0.0 =#\n",
      "#= n = 1000 =#\n",
      "#= for i = 1:n =#\n",
      "#= el += @elapsed dop853(gravity!, 0.0, s0, tp, mu)  =#\n",
      "#= end =#\n",
      "#= println(\"Allocated memory: $mem\") =#\n",
      "#= println(\"Time per loop: $(el/n)\") =#"
     ],
     "language": "python",
     "metadata": {},
     "outputs": [],
     "prompt_number": 33
    },
    {
     "cell_type": "code",
     "collapsed": false,
     "input": [
      "#@iprofile clear\n",
      "#output = dop853(gravity, 0.0, s0, tp, mu)\n",
      "#@iprofile report"
     ],
     "language": "python",
     "metadata": {},
     "outputs": [],
     "prompt_number": 34
    },
    {
     "cell_type": "code",
     "collapsed": false,
     "input": [
      "#@profile (for i=1:100; dop853(gravity!, 0.0, s0, tp*16, mu); end)\n",
      "#Profile.print(format=:flat)\n",
      "#"
     ],
     "language": "python",
     "metadata": {},
     "outputs": [],
     "prompt_number": 35
    },
    {
     "cell_type": "code",
     "collapsed": false,
     "input": [],
     "language": "python",
     "metadata": {},
     "outputs": [],
     "prompt_number": 36
    }
   ],
   "metadata": {}
  }
 ]
}