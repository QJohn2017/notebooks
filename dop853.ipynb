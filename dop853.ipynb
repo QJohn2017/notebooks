{
 "metadata": {
  "language": "Julia",
  "name": "",
  "signature": "sha256:4d86079c3298563604a04971a0df5ed596293590bd33cb35e6a768d9a87f9f11"
 },
 "nbformat": 3,
 "nbformat_minor": 0,
 "worksheets": [
  {
   "cells": [
    {
     "cell_type": "code",
     "collapsed": false,
     "input": [
      "include(\"dop853.jl\")"
     ],
     "language": "python",
     "metadata": {},
     "outputs": [
      {
       "metadata": {},
       "output_type": "pyout",
       "prompt_number": 87,
       "text": [
        "dopcore (generic function with 1 method)"
       ]
      }
     ],
     "prompt_number": 87
    },
    {
     "cell_type": "code",
     "collapsed": false,
     "input": [
      "methods(dop853)"
     ],
     "language": "python",
     "metadata": {},
     "outputs": [
      {
       "html": [
        "1 method for generic function <b>dop853</b>:<ul><li> dop853(F::<b>Function</b>,y0,tspan) at <a href=\"https://github.com/berceanu/notebooks/tree/760a76513e7321a7e0bcfbb8b98c1fa6606a525f/dop853.jl#L8\" target=\"_blank\">/home/berceanu/notebooks/dop853.jl:8</a></ul>"
       ],
       "metadata": {},
       "output_type": "pyout",
       "prompt_number": 7,
       "text": [
        "# 1 method for generic function \"dop853\":\n",
        "dop853(F::Function,y0,tspan) at /home/berceanu/notebooks/dop853.jl:8"
       ]
      }
     ],
     "prompt_number": 7
    },
    {
     "cell_type": "code",
     "collapsed": false,
     "input": [
      "using Base.Test\n",
      "tol = 1e-2"
     ],
     "language": "python",
     "metadata": {},
     "outputs": [
      {
       "metadata": {},
       "output_type": "pyout",
       "prompt_number": 15,
       "text": [
        "0.01"
       ]
      }
     ],
     "prompt_number": 15
    },
    {
     "cell_type": "code",
     "collapsed": false,
     "input": [
      "methods(gravity!)"
     ],
     "language": "python",
     "metadata": {},
     "outputs": [
      {
       "html": [
        "1 method for generic function <b>gravity!</b>:<ul><li> gravity!(f::<b>Array{Float64,1}</b>,t::<b>Float64</b>,y::<b>Array{Float64,1}</b>,mu::<b>Float64</b>) at In[2]:2</ul>"
       ],
       "metadata": {},
       "output_type": "pyout",
       "prompt_number": 8,
       "text": [
        "# 1 method for generic function \"gravity!\":\n",
        "gravity!(f::Array{Float64,1},t::Float64,y::Array{Float64,1},mu::Float64) at In[2]:2"
       ]
      }
     ],
     "prompt_number": 8
    },
    {
     "cell_type": "code",
     "collapsed": false,
     "input": [
      "function gravity!(f::Vector{Float64}, t::Float64, y::Vector{Float64})\n",
      "    r = sqrt(y[1]*y[1]+y[2]*y[2]+y[3]*y[3])\n",
      "    r3 = r*r*r\n",
      "    f[1] = y[4]\n",
      "    f[2] = y[5]\n",
      "    f[3] = y[6]\n",
      "    f[4] = -mu*y[1]/r3\n",
      "    f[5] = -mu*y[2]/r3\n",
      "    f[6] = -mu*y[3]/r3\n",
      "end"
     ],
     "language": "python",
     "metadata": {},
     "outputs": [
      {
       "metadata": {},
       "output_type": "pyout",
       "prompt_number": 10,
       "text": [
        "gravity! (generic function with 2 methods)"
       ]
      }
     ],
     "prompt_number": 10
    },
    {
     "cell_type": "code",
     "collapsed": false,
     "input": [
      "const mu = 398600.4415 # [km^3/s^2] Earth's gravity\n",
      "const s0 = [-1814.0, -3708.0, 5153.0, 6.512, -4.229, -0.744]\n",
      "const tp = 5402.582703094263*16"
     ],
     "language": "python",
     "metadata": {},
     "outputs": [
      {
       "metadata": {},
       "output_type": "pyout",
       "prompt_number": 3,
       "text": [
        "86441.3232495082"
       ]
      }
     ],
     "prompt_number": 3
    },
    {
     "cell_type": "code",
     "collapsed": false,
     "input": [
      "blob = zeros(6)\n",
      "gravity!(blob, 0.0, s0)\n",
      "println(blob)"
     ],
     "language": "python",
     "metadata": {},
     "outputs": [
      {
       "output_type": "stream",
       "stream": "stdout",
       "text": [
        "[6"
       ]
      },
      {
       "output_type": "stream",
       "stream": "stdout",
       "text": [
        ".512,-4.229,-0.744,0.0025121519352206165,0.0051350933714432445,-0.007136228733292081]\n"
       ]
      }
     ],
     "prompt_number": 11
    },
    {
     "cell_type": "code",
     "collapsed": false,
     "input": [
      "methods(dop853)"
     ],
     "language": "python",
     "metadata": {},
     "outputs": [
      {
       "html": [
        "1 method for generic function <b>dop853</b>:<ul><li> dop853(F::<b>Function</b>,y0,tspan) at <a href=\"https://github.com/berceanu/notebooks/tree/760a76513e7321a7e0bcfbb8b98c1fa6606a525f/dop853.jl#L8\" target=\"_blank\">/home/berceanu/notebooks/dop853.jl:8</a></ul>"
       ],
       "metadata": {},
       "output_type": "pyout",
       "prompt_number": 6,
       "text": [
        "# 1 method for generic function \"dop853\":\n",
        "dop853(F::Function,y0,tspan) at /home/berceanu/notebooks/dop853.jl:8"
       ]
      }
     ],
     "prompt_number": 6
    },
    {
     "cell_type": "code",
     "collapsed": false,
     "input": [
      "output = dop853(gravity!, s0, [0.0:tp])"
     ],
     "language": "python",
     "metadata": {},
     "outputs": [
      {
       "metadata": {},
       "output_type": "pyout",
       "prompt_number": 25,
       "text": [
        "6-element Array{Float64,1}:\n",
        " -1815.49    \n",
        " -3707.03    \n",
        "  5153.17    \n",
        "     6.51142 \n",
        "    -4.23016 \n",
        "    -0.742373"
       ]
      }
     ],
     "prompt_number": 25
    },
    {
     "cell_type": "code",
     "collapsed": true,
     "input": [
      "output"
     ],
     "language": "python",
     "metadata": {},
     "outputs": [
      {
       "metadata": {},
       "output_type": "pyout",
       "prompt_number": 27,
       "text": [
        "6-element Array{Float64,1}:\n",
        " -1815.49    \n",
        " -3707.03    \n",
        "  5153.17    \n",
        "     6.51142 \n",
        "    -4.23016 \n",
        "    -0.742373"
       ]
      }
     ],
     "prompt_number": 27
    },
    {
     "cell_type": "code",
     "collapsed": false,
     "input": [
      "function rhsexp!(f::Vector{Float64}, t::Float64, y::Vector{Float64})\n",
      "    f[1] = y[1]\n",
      "end"
     ],
     "language": "python",
     "metadata": {},
     "outputs": [
      {
       "metadata": {},
       "output_type": "pyout",
       "prompt_number": 42,
       "text": [
        "rhsexp! (generic function with 1 method)"
       ]
      }
     ],
     "prompt_number": 42
    },
    {
     "cell_type": "code",
     "collapsed": false,
     "input": [
      "# dy\n",
      "# -- = y ==> y = y0*e.^t\n",
      "# dt\n",
      "\n",
      "dop853(rhsexp!, [1.], [0.:2.]) .- e^2"
     ],
     "language": "python",
     "metadata": {},
     "outputs": [
      {
       "output_type": "stream",
       "stream": "stdout",
       "text": [
        "0.10018506139785896\n"
       ]
      },
      {
       "output_type": "stream",
       "stream": "stdout",
       "text": [
        "0.7012954297850128\n",
        "1.8191428456179022\n",
        "2.0\n"
       ]
      },
      {
       "metadata": {},
       "output_type": "pyout",
       "prompt_number": 90,
       "text": [
        "1-element Array{Float64,1}:\n",
        " -8.31414e-7"
       ]
      }
     ],
     "prompt_number": 90
    },
    {
     "cell_type": "code",
     "collapsed": false,
     "input": [
      "zeros(1)"
     ],
     "language": "python",
     "metadata": {},
     "outputs": [
      {
       "metadata": {},
       "output_type": "pyout",
       "prompt_number": 89,
       "text": [
        "1-element Array{Float64,1}:\n",
        " 0.0"
       ]
      }
     ],
     "prompt_number": 89
    },
    {
     "cell_type": "code",
     "collapsed": false,
     "input": [
      "# dv       dw\n",
      "# -- = -w, -- = v ==> v = v0*cos(t) - w0*sin(t), w = w0*cos(t) + v0*sin(t)\n",
      "# dt       dt\n",
      "\n",
      "# y = [v, w]"
     ],
     "language": "python",
     "metadata": {},
     "outputs": []
    },
    {
     "cell_type": "code",
     "collapsed": false,
     "input": [
      "function rhsvw!(f::Vector{Float64}, t::Float64, y::Vector{Float64})\n",
      "    f[1] = -y[2]\n",
      "    f[2] = y[1]\n",
      "end"
     ],
     "language": "python",
     "metadata": {},
     "outputs": [
      {
       "metadata": {},
       "output_type": "pyout",
       "prompt_number": 71,
       "text": [
        "rhsvw! (generic function with 1 method)"
       ]
      }
     ],
     "prompt_number": 71
    },
    {
     "cell_type": "code",
     "collapsed": false,
     "input": [
      "dop853(rhsvw!, [1., 2.], [0.:2pi])"
     ],
     "language": "python",
     "metadata": {},
     "outputs": [
      {
       "output_type": "stream",
       "stream": "stdout",
       "text": [
        "0.0915176726609864\n"
       ]
      },
      {
       "output_type": "stream",
       "stream": "stdout",
       "text": [
        "0.6406237086269049\n",
        "1.6114412408520515\n",
        "2.650947825731592\n",
        "3.6487826110287966\n",
        "4.6574193617675315\n",
        "5.700079118760597\n",
        "6.0\n"
       ]
      },
      {
       "metadata": {},
       "output_type": "pyout",
       "prompt_number": 91,
       "text": [
        "2-element Array{Float64,1}:\n",
        " 1.519  \n",
        " 1.64092"
       ]
      }
     ],
     "prompt_number": 91
    },
    {
     "cell_type": "code",
     "collapsed": false,
     "input": [
      "tmp = 6.\n",
      "[cos(tmp)-2*sin(tmp) 2*cos(tmp)+sin(tmp)]"
     ],
     "language": "python",
     "metadata": {},
     "outputs": [
      {
       "metadata": {},
       "output_type": "pyout",
       "prompt_number": 86,
       "text": [
        "1x2 Array{Float64,2}:\n",
        " 1.519  1.64093"
       ]
      }
     ],
     "prompt_number": 86
    },
    {
     "cell_type": "code",
     "collapsed": false,
     "input": [
      "#= mem = @allocated dop853(gravity!, 0.0, s0, tp, mu)  =#\n",
      "#= el = 0.0 =#\n",
      "#= n = 1000 =#\n",
      "#= for i = 1:n =#\n",
      "#= el += @elapsed dop853(gravity!, 0.0, s0, tp, mu)  =#\n",
      "#= end =#\n",
      "#= println(\"Allocated memory: $mem\") =#\n",
      "#= println(\"Time per loop: $(el/n)\") =#"
     ],
     "language": "python",
     "metadata": {},
     "outputs": []
    },
    {
     "cell_type": "code",
     "collapsed": false,
     "input": [
      "#@iprofile clear\n",
      "#output = dop853(gravity, 0.0, s0, tp, mu)\n",
      "#@iprofile report"
     ],
     "language": "python",
     "metadata": {},
     "outputs": []
    },
    {
     "cell_type": "code",
     "collapsed": false,
     "input": [
      "#@profile (for i=1:100; dop853(gravity!, 0.0, s0, tp*16, mu); end)\n",
      "#Profile.print(format=:flat)\n",
      "#"
     ],
     "language": "python",
     "metadata": {},
     "outputs": []
    },
    {
     "cell_type": "code",
     "collapsed": false,
     "input": [
      "println(abs(s0-output))\n",
      "#= println(output) =#"
     ],
     "language": "python",
     "metadata": {},
     "outputs": [
      {
       "output_type": "stream",
       "stream": "stdout",
       "text": [
        "[1"
       ]
      },
      {
       "output_type": "stream",
       "stream": "stdout",
       "text": [
        ".494493590946604,0.9682636290958726,0.17305984607901337,0.0005827408908745113,0.0011633159121569037,0.0016271763772646164]\n"
       ]
      }
     ],
     "prompt_number": 14
    },
    {
     "cell_type": "code",
     "collapsed": false,
     "input": [],
     "language": "python",
     "metadata": {},
     "outputs": []
    }
   ],
   "metadata": {}
  }
 ]
}