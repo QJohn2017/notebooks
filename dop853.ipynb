{
 "metadata": {
  "language": "Julia",
  "name": "",
  "signature": "sha256:a52aa38007b0cb65232a07a04834212656cfa2c495734c262f84a9c431f168aa"
 },
 "nbformat": 3,
 "nbformat_minor": 0,
 "worksheets": [
  {
   "cells": [
    {
     "cell_type": "code",
     "collapsed": false,
     "input": [
      "include(\"dop853.jl\")"
     ],
     "language": "python",
     "metadata": {},
     "outputs": [
      {
       "metadata": {},
       "output_type": "pyout",
       "prompt_number": 17,
       "text": [
        "dopcore (generic function with 2 methods)"
       ]
      }
     ],
     "prompt_number": 17
    },
    {
     "cell_type": "code",
     "collapsed": false,
     "input": [
      "function gravity!(f::Vector{Float64}, t::Float64, y::Vector{Float64})\n",
      "    r = sqrt(y[1]*y[1]+y[2]*y[2]+y[3]*y[3])\n",
      "    r3 = r*r*r\n",
      "    f[1] = y[4]\n",
      "    f[2] = y[5]\n",
      "    f[3] = y[6]\n",
      "    f[4] = -mu*y[1]/r3\n",
      "    f[5] = -mu*y[2]/r3\n",
      "    f[6] = -mu*y[3]/r3\n",
      "end"
     ],
     "language": "python",
     "metadata": {},
     "outputs": [
      {
       "metadata": {},
       "output_type": "pyout",
       "prompt_number": 18,
       "text": [
        "gravity! (generic function with 1 method)"
       ]
      }
     ],
     "prompt_number": 18
    },
    {
     "cell_type": "code",
     "collapsed": false,
     "input": [
      "const mu = 398600.4415 # [km^3/s^2] Earth's gravity\n",
      "const s0 = [-1814.0, -3708.0, 5153.0, 6.512, -4.229, -0.744]\n",
      "const tp = 5402.582703094263*16"
     ],
     "language": "python",
     "metadata": {},
     "outputs": [
      {
       "metadata": {},
       "output_type": "pyout",
       "prompt_number": 3,
       "text": [
        "86441.3232495082"
       ]
      }
     ],
     "prompt_number": 3
    },
    {
     "cell_type": "code",
     "collapsed": false,
     "input": [
      "output = dop853(gravity!, s0, [0.0:tp])"
     ],
     "language": "python",
     "metadata": {},
     "outputs": [
      {
       "output_type": "stream",
       "stream": "stdout",
       "text": [
        "0.17736658104116593"
       ]
      },
      {
       "output_type": "stream",
       "stream": "stdout",
       "text": [
        "\n",
        "1.2415660672881617\n",
        "7.626762984770136\n",
        "45.93794448966199\n",
        "275.8050335190131\n",
        "894.1856030599974\n",
        "1510.7139226917939\n",
        "2157.18581831687\n",
        "2801.0126511321023\n",
        "3435.561777399126\n",
        "4077.1387718396354\n",
        "4720.245587926721\n",
        "5345.539407304361\n",
        "5975.743856095721\n",
        "6609.031522581895\n",
        "7237.908953749566\n",
        "7872.4566356403575\n",
        "8523.73153013533\n",
        "9162.00733920022\n",
        "9788.493075899365\n",
        "10433.259409283304\n",
        "11078.599437354313\n",
        "11691.35675872191\n",
        "12308.178055937027\n",
        "12954.276538660826\n",
        "13597.538991659745\n",
        "14232.572481481366\n",
        "14874.631938004413\n",
        "15517.32576127202\n",
        "16142.046783741225\n",
        "16772.725671051292\n",
        "17405.73943335056\n",
        "18034.066919662477\n",
        "18669.223125785276\n",
        "19320.911085753276\n",
        "19958.729801566158\n",
        "20584.799775262898\n",
        "21230.150825119716\n",
        "21875.247654342507\n",
        "22487.244012880074\n",
        "23104.79651979838\n",
        "23750.470820852923\n",
        "24393.105250552417\n",
        "25028.66790219203\n",
        "25671.250523787185\n",
        "26313.484690316523\n",
        "26937.571758714097\n",
        "27568.77052669101\n",
        "28201.43515333489\n",
        "28829.14080771408\n",
        "29464.968214754408\n",
        "30117.105042601317\n",
        "30754.409165845704\n",
        "31380.01654930582\n",
        "32026.010670848125\n",
        "32670.775116996476\n",
        "33281.89972606562\n",
        "33900.25660057195\n",
        "34545.43246890647\n",
        "35187.350889479734\n",
        "35823.50490760157\n",
        "36466.66450997131\n",
        "37108.37497920969\n",
        "37731.74489464513\n",
        "38363.52652082842\n",
        "38995.74382211446\n",
        "39622.728028367936\n",
        "40259.31224461343\n",
        "40911.94285657496\n",
        "41548.65316511469\n",
        "42173.73468328241\n",
        "42820.449217062924\n",
        "43464.76513109724\n",
        "44074.864449047294\n",
        "44694.12483835017\n",
        "45338.702906297665\n",
        "45979.78368072328\n",
        "46616.61432166419\n",
        "47260.419088000606\n",
        "47901.51799246946\n",
        "48524.058595516726\n",
        "49156.50950604916\n",
        "49788.14699644228\n",
        "50414.270414921426\n",
        "51051.72746880065\n",
        "51704.904250782936\n",
        "52340.91077826508\n",
        "52965.38161763476\n",
        "53612.916064156954\n",
        "54256.62641817789\n",
        "54865.48463086843\n",
        "55485.78195504912\n",
        "56129.62655050265\n",
        "56769.698930335595\n",
        "57407.32359815604\n",
        "58051.85515876229\n",
        "58692.22030435088\n",
        "59313.78042959087\n",
        "59947.02014914075\n",
        "60577.89303871363\n",
        "61202.95622989823\n",
        "61841.444127868126\n",
        "62495.21928558915\n",
        "63130.36610551003\n",
        "63754.112975191\n",
        "64402.58957652164\n",
        "65045.47414286704\n",
        "65653.50520107358\n",
        "66275.01394894128\n",
        "66917.97550286844\n",
        "67556.84708589164\n",
        "68195.38955264149\n",
        "68840.70043109717\n",
        "69480.19656023479\n",
        "70101.04184720982\n",
        "70735.20646820875\n",
        "71365.11853200103\n",
        "71988.91713285488\n",
        "72628.57155328497\n",
        "73282.93344637482\n",
        "73917.06472703132\n",
        "74540.02103416291\n",
        "75189.504205667\n",
        "75831.32274298536\n",
        "76441.72415457999\n",
        "77064.57536806611\n",
        "77706.66194258416\n",
        "78344.34320064064\n",
        "78983.7668409698\n",
        "79629.73565404055\n",
        "80268.37647837643\n",
        "80891.45287609074\n",
        "81526.57266648722\n",
        "82155.65507647932\n",
        "82778.39532236179\n",
        "83418.97336178001\n",
        "84073.70043029157\n",
        "84706.98916096208\n",
        "85331.45007125185\n",
        "85981.69063142683\n",
        "86441.0\n"
       ]
      },
      {
       "metadata": {},
       "output_type": "pyout",
       "prompt_number": 19,
       "text": [
        "6-element Array{Float64,1}:\n",
        " -1815.49    \n",
        " -3707.03    \n",
        "  5153.17    \n",
        "     6.51142 \n",
        "    -4.23016 \n",
        "    -0.742373"
       ]
      }
     ],
     "prompt_number": 19
    },
    {
     "cell_type": "code",
     "collapsed": false,
     "input": [
      "println(abs(s0-output))"
     ],
     "language": "python",
     "metadata": {},
     "outputs": [
      {
       "output_type": "stream",
       "stream": "stdout",
       "text": [
        "[1"
       ]
      },
      {
       "output_type": "stream",
       "stream": "stdout",
       "text": [
        ".494493590946604,0.9682636290958726,0.17305984607901337,0.0005827408908745113,0.0011633159121569037,0.0016271763772646164]\n"
       ]
      }
     ],
     "prompt_number": 20
    },
    {
     "cell_type": "code",
     "collapsed": false,
     "input": [
      "function rhsexp!(f::Vector{Float64}, t::Float64, y::Vector{Float64})\n",
      "    f[1] = y[1]\n",
      "end"
     ],
     "language": "python",
     "metadata": {},
     "outputs": [
      {
       "metadata": {},
       "output_type": "pyout",
       "prompt_number": 21,
       "text": [
        "rhsexp! (generic function with 1 method)"
       ]
      }
     ],
     "prompt_number": 21
    },
    {
     "cell_type": "code",
     "collapsed": false,
     "input": [
      "# dy\n",
      "# -- = y ==> y = y0*e.^t\n",
      "# dt\n",
      "\n",
      "dop853(rhsexp!, [1.], [0.:2.]) .- e^2"
     ],
     "language": "python",
     "metadata": {},
     "outputs": [
      {
       "output_type": "stream",
       "stream": "stdout",
       "text": [
        "0.10018506139785896"
       ]
      },
      {
       "output_type": "stream",
       "stream": "stdout",
       "text": [
        "\n",
        "0.7012954297850128\n",
        "1.8191428456179022\n",
        "2.0\n"
       ]
      },
      {
       "metadata": {},
       "output_type": "pyout",
       "prompt_number": 22,
       "text": [
        "1-element Array{Float64,1}:\n",
        " -8.31414e-7"
       ]
      }
     ],
     "prompt_number": 22
    },
    {
     "cell_type": "code",
     "collapsed": false,
     "input": [
      "# dv       dw\n",
      "# -- = -w, -- = v ==> v = v0*cos(t) - w0*sin(t), w = w0*cos(t) + v0*sin(t)\n",
      "# dt       dt\n",
      "\n",
      "# y = [v, w]"
     ],
     "language": "python",
     "metadata": {},
     "outputs": [],
     "prompt_number": 7
    },
    {
     "cell_type": "code",
     "collapsed": false,
     "input": [
      "function rhsvw!(f::Vector{Float64}, t::Float64, y::Vector{Float64})\n",
      "    f[1] = -y[2]\n",
      "    f[2] = y[1]\n",
      "end"
     ],
     "language": "python",
     "metadata": {},
     "outputs": [
      {
       "metadata": {},
       "output_type": "pyout",
       "prompt_number": 23,
       "text": [
        "rhsvw! (generic function with 1 method)"
       ]
      }
     ],
     "prompt_number": 23
    },
    {
     "cell_type": "code",
     "collapsed": false,
     "input": [
      "dop853(rhsvw!, [1., 2.], [0.:2pi])"
     ],
     "language": "python",
     "metadata": {},
     "outputs": [
      {
       "output_type": "stream",
       "stream": "stdout",
       "text": [
        "0.0"
       ]
      },
      {
       "output_type": "stream",
       "stream": "stdout",
       "text": [
        "915176726609864\n",
        "0.6406237086269049\n",
        "1.6114412408520515\n",
        "2.650947825731592\n",
        "3.6487826110287966\n",
        "4.6574193617675315\n",
        "5.700079118760597\n",
        "6.0\n"
       ]
      },
      {
       "metadata": {},
       "output_type": "pyout",
       "prompt_number": 24,
       "text": [
        "2-element Array{Float64,1}:\n",
        " 1.519  \n",
        " 1.64092"
       ]
      }
     ],
     "prompt_number": 24
    },
    {
     "cell_type": "code",
     "collapsed": false,
     "input": [
      "tmp = 6.\n",
      "[cos(tmp)-2*sin(tmp) 2*cos(tmp)+sin(tmp)]"
     ],
     "language": "python",
     "metadata": {},
     "outputs": [
      {
       "metadata": {},
       "output_type": "pyout",
       "prompt_number": 25,
       "text": [
        "1x2 Array{Float64,2}:\n",
        " 1.519  1.64093"
       ]
      }
     ],
     "prompt_number": 25
    },
    {
     "cell_type": "code",
     "collapsed": false,
     "input": [
      "#= mem = @allocated dop853(gravity!, 0.0, s0, tp, mu)  =#\n",
      "#= el = 0.0 =#\n",
      "#= n = 1000 =#\n",
      "#= for i = 1:n =#\n",
      "#= el += @elapsed dop853(gravity!, 0.0, s0, tp, mu)  =#\n",
      "#= end =#\n",
      "#= println(\"Allocated memory: $mem\") =#\n",
      "#= println(\"Time per loop: $(el/n)\") =#"
     ],
     "language": "python",
     "metadata": {},
     "outputs": [],
     "prompt_number": 11
    },
    {
     "cell_type": "code",
     "collapsed": false,
     "input": [
      "#@iprofile clear\n",
      "#output = dop853(gravity, 0.0, s0, tp, mu)\n",
      "#@iprofile report"
     ],
     "language": "python",
     "metadata": {},
     "outputs": [],
     "prompt_number": 12
    },
    {
     "cell_type": "code",
     "collapsed": false,
     "input": [
      "#@profile (for i=1:100; dop853(gravity!, 0.0, s0, tp*16, mu); end)\n",
      "#Profile.print(format=:flat)\n",
      "#"
     ],
     "language": "python",
     "metadata": {},
     "outputs": [],
     "prompt_number": 13
    },
    {
     "cell_type": "code",
     "collapsed": false,
     "input": [],
     "language": "python",
     "metadata": {},
     "outputs": [],
     "prompt_number": 15
    }
   ],
   "metadata": {}
  }
 ]
}