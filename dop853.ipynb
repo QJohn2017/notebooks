{
 "metadata": {
  "language": "Julia",
  "name": "",
  "signature": "sha256:0f80860a3a246c80f6e2694c007d8bb1da5c802c6c672acf3fc301dd30e840da"
 },
 "nbformat": 3,
 "nbformat_minor": 0,
 "worksheets": [
  {
   "cells": [
    {
     "cell_type": "code",
     "collapsed": false,
     "input": [
      "include(\"dop853.jl\")"
     ],
     "language": "python",
     "metadata": {},
     "outputs": []
    },
    {
     "cell_type": "code",
     "collapsed": false,
     "input": [
      "using ODE\n",
      "\n",
      "function gravity(t::Float64, y::Vector{Float64}, mu::Float64)\n",
      "    f = zeros(6)\n",
      "    r = norm(y[1:3])\n",
      "    f[1:3] = y[4:6]\n",
      "    f[4:6] = -mu*y[1:3]/r/r/r\n",
      "    return f\n",
      "end\n",
      "\n",
      "function gravity1(t::Float64, y::Vector{Float64}, mu::Float64)\n",
      "    x, y, z, vx, vy, vz = y\n",
      "    r = sqrt(x*x+y*y+z*z)\n",
      "    r3 = r*r*r\n",
      "    [vx, vy, vz, -mu*x/r3, -mu*y/r3, -mu*z/r3]\n",
      "end\n",
      "\n",
      "function gravity!(f::Vector{Float64}, t::Float64, y::Vector{Float64}, mu::Float64)\n",
      "    r = sqrt(y[1]*y[1]+y[2]*y[2]+y[3]*y[3])\n",
      "    r3 = r*r*r\n",
      "    f[1] = y[4]\n",
      "    f[2] = y[5]\n",
      "    f[3] = y[6]\n",
      "    f[4] = -mu*y[1]/r3\n",
      "    f[5] = -mu*y[2]/r3\n",
      "    f[6] = -mu*y[3]/r3\n",
      "end\n",
      "\n",
      "const mu = 398600.4415 # [km^3/s^2] Earth's gravity\n",
      "const s0 = [-1814.0, -3708.0, 5153.0, 6.512, -4.229, -0.744]\n",
      "const tp = 5402.582703094263*16\n",
      "\n",
      "#gravity(0.0, s0, mu)\n",
      "#blob = zeros(6)\n",
      "#gravity!(blob, 0.0, s0, mu)\n",
      "#println(blob)\n",
      "#gravity1(0.0, s0, mu)\n",
      "#@time gravity(0.0, s0, mu)\n",
      "#@time gravity1(0.0, s0, mu)\n",
      "#= tol = 1.4901161193847656e-8 =#\n",
      "output = dop853(gravity!, 0.0, s0, tp, mu)\n",
      "#= mem = @allocated dop853(gravity!, 0.0, s0, tp, mu)  =#\n",
      "#= el = 0.0 =#\n",
      "#= n = 1000 =#\n",
      "#= for i = 1:n =#\n",
      "#= el += @elapsed dop853(gravity!, 0.0, s0, tp, mu)  =#\n",
      "#= end =#\n",
      "#= println(\"Allocated memory: $mem\") =#\n",
      "#= println(\"Time per loop: $(el/n)\") =#\n",
      "\n",
      "#@iprofile clear\n",
      "#output = dop853(gravity, 0.0, s0, tp, mu)\n",
      "#@iprofile report\n",
      "\n",
      "#@profile (for i=1:100; dop853(gravity!, 0.0, s0, tp*16, mu); end)\n",
      "#Profile.print(format=:flat)\n",
      "#\n",
      "println(abs(s0-output))\n",
      "#= println(output) =#\n"
     ],
     "language": "python",
     "metadata": {},
     "outputs": []
    }
   ],
   "metadata": {}
  }
 ]
}